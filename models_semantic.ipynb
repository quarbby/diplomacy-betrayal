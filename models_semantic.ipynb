{
 "cells": [
  {
   "cell_type": "code",
   "execution_count": 7,
   "metadata": {},
   "outputs": [],
   "source": [
    "from sklearn.neighbors import KNeighborsClassifier\n",
    "from sklearn.naive_bayes import GaussianNB, MultinomialNB, BernoulliNB\n",
    "from sklearn.linear_model import LogisticRegression, SGDClassifier\n",
    "from sklearn.svm import SVC, LinearSVC, NuSVC\n",
    "from sklearn.ensemble import RandomForestClassifier"
   ]
  },
  {
   "cell_type": "code",
   "execution_count": 8,
   "metadata": {},
   "outputs": [],
   "source": [
    "gnb = GaussianNB()\n",
    "KNN = KNeighborsClassifier(n_neighbors=1)\n",
    "MNB = MultinomialNB()\n",
    "BNB = BernoulliNB()\n",
    "LR = LogisticRegression()\n",
    "SDG = SGDClassifier()\n",
    "SVC = SVC()\n",
    "LSVC = LinearSVC()\n",
    "NSVC = NuSVC()\n",
    "RFC = RandomForestClassifier(max_depth=2, random_state=0)"
   ]
  },
  {
   "cell_type": "code",
   "execution_count": 9,
   "metadata": {},
   "outputs": [],
   "source": [
    "######################################\n",
    "## Model Options ##\n",
    "######################################\n",
    "# options: gaussiannb, knn, multinomialnb, bernoullinb, logreg, sgd, svc, lsvc, nusvc, randomforest\n",
    "\n",
    "MODEL_NAME = 'randomforest'"
   ]
  },
  {
   "cell_type": "code",
   "execution_count": 10,
   "metadata": {},
   "outputs": [],
   "source": [
    "def get_semantic_model():\n",
    "    model_name = MODEL_NAME.lower()\n",
    "    \n",
    "    if model_name == 'gaussiannb':\n",
    "        return GaussianNB()\n",
    "    elif model_name == 'knn':\n",
    "        return KNeighborsClassifier(n_neighbors=1)\n",
    "    elif model_name == 'multinomialnb':\n",
    "        return MultinomialNB()\n",
    "    elif model_name == 'bernoullinb':\n",
    "        return BernoulliNB()\n",
    "    elif model_name == 'logreg':\n",
    "        return LogisticRegression()\n",
    "    elif model_name == 'sgd':\n",
    "        return SGDClassifier()\n",
    "    elif model_name == 'svc':\n",
    "        return SVC()\n",
    "    elif model_name == 'lsvc':\n",
    "        return LinearSVC()\n",
    "    elif model_name == 'nusvc':\n",
    "        return NuSVC()\n",
    "    elif model_name == 'randomforest':\n",
    "        return RandomForestClassifier(max_depth=2, random_state=0)"
   ]
  }
 ],
 "metadata": {
  "kernelspec": {
   "display_name": "tfgpu",
   "language": "python",
   "name": "tfgpu"
  },
  "language_info": {
   "codemirror_mode": {
    "name": "ipython",
    "version": 3
   },
   "file_extension": ".py",
   "mimetype": "text/x-python",
   "name": "python",
   "nbconvert_exporter": "python",
   "pygments_lexer": "ipython3",
   "version": "3.7.9"
  }
 },
 "nbformat": 4,
 "nbformat_minor": 4
}
