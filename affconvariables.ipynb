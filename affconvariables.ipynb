{
 "cells": [
  {
   "cell_type": "code",
   "execution_count": 13,
   "metadata": {},
   "outputs": [],
   "source": [
    "import pandas as pd\n",
    "import numpy as np\n",
    "import matplotlib.pyplot as plt\n",
    "\n",
    "from sklearn.metrics import classification_report\n",
    "from sklearn.metrics import accuracy_score"
   ]
  },
  {
   "cell_type": "markdown",
   "metadata": {},
   "source": [
    "### Good Data"
   ]
  },
  {
   "cell_type": "code",
   "execution_count": 8,
   "metadata": {},
   "outputs": [],
   "source": [
    "df = pd.read_csv('./data/kokil dec 6 reprepare/linguistics/affcon_final_with_linguistics_liwconly.csv')"
   ]
  },
  {
   "cell_type": "code",
   "execution_count": 9,
   "metadata": {},
   "outputs": [],
   "source": [
    "df = df.fillna(0)"
   ]
  },
  {
   "cell_type": "code",
   "execution_count": 10,
   "metadata": {},
   "outputs": [],
   "source": [
    "from sklearn.model_selection import train_test_split\n",
    "\n",
    "df = df.drop(columns=['Input.deception_quadrant'])\n",
    "\n",
    "#cols = ['affcon_rapport', 'affcon_shareinformation', 'affcon_gamemove', 'affcon_reasoning', 'Input.deception_quadrant_cat']\n",
    "\n",
    "cols = ['affcon_rapport', 'affcon_shareinformation', 'affcon_gamemove', 'affcon_reasoning']\n",
    "\n",
    "df_stripped = df[cols]"
   ]
  },
  {
   "cell_type": "code",
   "execution_count": 12,
   "metadata": {},
   "outputs": [
    {
     "data": {
      "text/html": [
       "<div>\n",
       "<style scoped>\n",
       "    .dataframe tbody tr th:only-of-type {\n",
       "        vertical-align: middle;\n",
       "    }\n",
       "\n",
       "    .dataframe tbody tr th {\n",
       "        vertical-align: top;\n",
       "    }\n",
       "\n",
       "    .dataframe thead th {\n",
       "        text-align: right;\n",
       "    }\n",
       "</style>\n",
       "<table border=\"1\" class=\"dataframe\">\n",
       "  <thead>\n",
       "    <tr style=\"text-align: right;\">\n",
       "      <th></th>\n",
       "      <th>affcon_rapport</th>\n",
       "      <th>affcon_shareinformation</th>\n",
       "      <th>affcon_gamemove</th>\n",
       "      <th>affcon_reasoning</th>\n",
       "    </tr>\n",
       "  </thead>\n",
       "  <tbody>\n",
       "    <tr>\n",
       "      <th>0</th>\n",
       "      <td>1.0</td>\n",
       "      <td>1.0</td>\n",
       "      <td>1.0</td>\n",
       "      <td>1.0</td>\n",
       "    </tr>\n",
       "    <tr>\n",
       "      <th>1</th>\n",
       "      <td>0.0</td>\n",
       "      <td>1.0</td>\n",
       "      <td>1.0</td>\n",
       "      <td>1.0</td>\n",
       "    </tr>\n",
       "    <tr>\n",
       "      <th>2</th>\n",
       "      <td>1.0</td>\n",
       "      <td>1.0</td>\n",
       "      <td>1.0</td>\n",
       "      <td>1.0</td>\n",
       "    </tr>\n",
       "    <tr>\n",
       "      <th>3</th>\n",
       "      <td>1.0</td>\n",
       "      <td>1.0</td>\n",
       "      <td>1.0</td>\n",
       "      <td>1.0</td>\n",
       "    </tr>\n",
       "    <tr>\n",
       "      <th>4</th>\n",
       "      <td>1.0</td>\n",
       "      <td>0.0</td>\n",
       "      <td>0.0</td>\n",
       "      <td>0.0</td>\n",
       "    </tr>\n",
       "    <tr>\n",
       "      <th>...</th>\n",
       "      <td>...</td>\n",
       "      <td>...</td>\n",
       "      <td>...</td>\n",
       "      <td>...</td>\n",
       "    </tr>\n",
       "    <tr>\n",
       "      <th>4008</th>\n",
       "      <td>1.0</td>\n",
       "      <td>1.0</td>\n",
       "      <td>1.0</td>\n",
       "      <td>1.0</td>\n",
       "    </tr>\n",
       "    <tr>\n",
       "      <th>4009</th>\n",
       "      <td>1.0</td>\n",
       "      <td>1.0</td>\n",
       "      <td>1.0</td>\n",
       "      <td>1.0</td>\n",
       "    </tr>\n",
       "    <tr>\n",
       "      <th>4010</th>\n",
       "      <td>0.0</td>\n",
       "      <td>1.0</td>\n",
       "      <td>0.0</td>\n",
       "      <td>0.0</td>\n",
       "    </tr>\n",
       "    <tr>\n",
       "      <th>4011</th>\n",
       "      <td>1.0</td>\n",
       "      <td>1.0</td>\n",
       "      <td>1.0</td>\n",
       "      <td>1.0</td>\n",
       "    </tr>\n",
       "    <tr>\n",
       "      <th>4012</th>\n",
       "      <td>1.0</td>\n",
       "      <td>1.0</td>\n",
       "      <td>1.0</td>\n",
       "      <td>1.0</td>\n",
       "    </tr>\n",
       "  </tbody>\n",
       "</table>\n",
       "<p>4013 rows × 4 columns</p>\n",
       "</div>"
      ],
      "text/plain": [
       "      affcon_rapport  affcon_shareinformation  affcon_gamemove  \\\n",
       "0                1.0                      1.0              1.0   \n",
       "1                0.0                      1.0              1.0   \n",
       "2                1.0                      1.0              1.0   \n",
       "3                1.0                      1.0              1.0   \n",
       "4                1.0                      0.0              0.0   \n",
       "...              ...                      ...              ...   \n",
       "4008             1.0                      1.0              1.0   \n",
       "4009             1.0                      1.0              1.0   \n",
       "4010             0.0                      1.0              0.0   \n",
       "4011             1.0                      1.0              1.0   \n",
       "4012             1.0                      1.0              1.0   \n",
       "\n",
       "      affcon_reasoning  \n",
       "0                  1.0  \n",
       "1                  1.0  \n",
       "2                  1.0  \n",
       "3                  1.0  \n",
       "4                  0.0  \n",
       "...                ...  \n",
       "4008               1.0  \n",
       "4009               1.0  \n",
       "4010               0.0  \n",
       "4011               1.0  \n",
       "4012               1.0  \n",
       "\n",
       "[4013 rows x 4 columns]"
      ]
     },
     "execution_count": 12,
     "metadata": {},
     "output_type": "execute_result"
    }
   ],
   "source": [
    "df_stripped"
   ]
  },
  {
   "cell_type": "code",
   "execution_count": 20,
   "metadata": {},
   "outputs": [
    {
     "data": {
      "text/html": [
       "<style  type=\"text/css\" >\n",
       "#T_e0256c52_38ea_11eb_a4cc_74d435b32a4brow0_col0,#T_e0256c52_38ea_11eb_a4cc_74d435b32a4brow1_col1,#T_e0256c52_38ea_11eb_a4cc_74d435b32a4brow2_col2,#T_e0256c52_38ea_11eb_a4cc_74d435b32a4brow3_col3{\n",
       "            background-color:  #b40426;\n",
       "            color:  #f1f1f1;\n",
       "        }#T_e0256c52_38ea_11eb_a4cc_74d435b32a4brow0_col1{\n",
       "            background-color:  #455cce;\n",
       "            color:  #f1f1f1;\n",
       "        }#T_e0256c52_38ea_11eb_a4cc_74d435b32a4brow0_col2{\n",
       "            background-color:  #485fd1;\n",
       "            color:  #f1f1f1;\n",
       "        }#T_e0256c52_38ea_11eb_a4cc_74d435b32a4brow0_col3{\n",
       "            background-color:  #4961d2;\n",
       "            color:  #f1f1f1;\n",
       "        }#T_e0256c52_38ea_11eb_a4cc_74d435b32a4brow1_col0,#T_e0256c52_38ea_11eb_a4cc_74d435b32a4brow1_col2,#T_e0256c52_38ea_11eb_a4cc_74d435b32a4brow2_col1,#T_e0256c52_38ea_11eb_a4cc_74d435b32a4brow2_col3,#T_e0256c52_38ea_11eb_a4cc_74d435b32a4brow3_col2{\n",
       "            background-color:  #3b4cc0;\n",
       "            color:  #f1f1f1;\n",
       "        }#T_e0256c52_38ea_11eb_a4cc_74d435b32a4brow1_col3,#T_e0256c52_38ea_11eb_a4cc_74d435b32a4brow3_col1{\n",
       "            background-color:  #6180e9;\n",
       "            color:  #000000;\n",
       "        }#T_e0256c52_38ea_11eb_a4cc_74d435b32a4brow2_col0,#T_e0256c52_38ea_11eb_a4cc_74d435b32a4brow3_col0{\n",
       "            background-color:  #3d50c3;\n",
       "            color:  #f1f1f1;\n",
       "        }</style><table id=\"T_e0256c52_38ea_11eb_a4cc_74d435b32a4b\" ><thead>    <tr>        <th class=\"blank level0\" ></th>        <th class=\"col_heading level0 col0\" >affcon_rapport</th>        <th class=\"col_heading level0 col1\" >affcon_shareinformation</th>        <th class=\"col_heading level0 col2\" >affcon_gamemove</th>        <th class=\"col_heading level0 col3\" >affcon_reasoning</th>    </tr></thead><tbody>\n",
       "                <tr>\n",
       "                        <th id=\"T_e0256c52_38ea_11eb_a4cc_74d435b32a4blevel0_row0\" class=\"row_heading level0 row0\" >affcon_rapport</th>\n",
       "                        <td id=\"T_e0256c52_38ea_11eb_a4cc_74d435b32a4brow0_col0\" class=\"data row0 col0\" >1.000000</td>\n",
       "                        <td id=\"T_e0256c52_38ea_11eb_a4cc_74d435b32a4brow0_col1\" class=\"data row0 col1\" >0.364940</td>\n",
       "                        <td id=\"T_e0256c52_38ea_11eb_a4cc_74d435b32a4brow0_col2\" class=\"data row0 col2\" >0.370792</td>\n",
       "                        <td id=\"T_e0256c52_38ea_11eb_a4cc_74d435b32a4brow0_col3\" class=\"data row0 col3\" >0.371927</td>\n",
       "            </tr>\n",
       "            <tr>\n",
       "                        <th id=\"T_e0256c52_38ea_11eb_a4cc_74d435b32a4blevel0_row1\" class=\"row_heading level0 row1\" >affcon_shareinformation</th>\n",
       "                        <td id=\"T_e0256c52_38ea_11eb_a4cc_74d435b32a4brow1_col0\" class=\"data row1 col0\" >0.364940</td>\n",
       "                        <td id=\"T_e0256c52_38ea_11eb_a4cc_74d435b32a4brow1_col1\" class=\"data row1 col1\" >1.000000</td>\n",
       "                        <td id=\"T_e0256c52_38ea_11eb_a4cc_74d435b32a4brow1_col2\" class=\"data row1 col2\" >0.340878</td>\n",
       "                        <td id=\"T_e0256c52_38ea_11eb_a4cc_74d435b32a4brow1_col3\" class=\"data row1 col3\" >0.421359</td>\n",
       "            </tr>\n",
       "            <tr>\n",
       "                        <th id=\"T_e0256c52_38ea_11eb_a4cc_74d435b32a4blevel0_row2\" class=\"row_heading level0 row2\" >affcon_gamemove</th>\n",
       "                        <td id=\"T_e0256c52_38ea_11eb_a4cc_74d435b32a4brow2_col0\" class=\"data row2 col0\" >0.370792</td>\n",
       "                        <td id=\"T_e0256c52_38ea_11eb_a4cc_74d435b32a4brow2_col1\" class=\"data row2 col1\" >0.340878</td>\n",
       "                        <td id=\"T_e0256c52_38ea_11eb_a4cc_74d435b32a4brow2_col2\" class=\"data row2 col2\" >1.000000</td>\n",
       "                        <td id=\"T_e0256c52_38ea_11eb_a4cc_74d435b32a4brow2_col3\" class=\"data row2 col3\" >0.340747</td>\n",
       "            </tr>\n",
       "            <tr>\n",
       "                        <th id=\"T_e0256c52_38ea_11eb_a4cc_74d435b32a4blevel0_row3\" class=\"row_heading level0 row3\" >affcon_reasoning</th>\n",
       "                        <td id=\"T_e0256c52_38ea_11eb_a4cc_74d435b32a4brow3_col0\" class=\"data row3 col0\" >0.371927</td>\n",
       "                        <td id=\"T_e0256c52_38ea_11eb_a4cc_74d435b32a4brow3_col1\" class=\"data row3 col1\" >0.421359</td>\n",
       "                        <td id=\"T_e0256c52_38ea_11eb_a4cc_74d435b32a4brow3_col2\" class=\"data row3 col2\" >0.340747</td>\n",
       "                        <td id=\"T_e0256c52_38ea_11eb_a4cc_74d435b32a4brow3_col3\" class=\"data row3 col3\" >1.000000</td>\n",
       "            </tr>\n",
       "    </tbody></table>"
      ],
      "text/plain": [
       "<pandas.io.formats.style.Styler at 0x21e2831d588>"
      ]
     },
     "execution_count": 20,
     "metadata": {},
     "output_type": "execute_result"
    }
   ],
   "source": [
    "corr = df_stripped.corr()\n",
    "corr.style.background_gradient(cmap='coolwarm')"
   ]
  },
  {
   "cell_type": "code",
   "execution_count": 24,
   "metadata": {},
   "outputs": [
    {
     "name": "stdout",
     "output_type": "stream",
     "text": [
      "              precision    recall  f1-score   support\n",
      "\n",
      "         0.0       0.58      0.15      0.24       136\n",
      "         1.0       0.85      0.98      0.91       667\n",
      "\n",
      "    accuracy                           0.84       803\n",
      "   macro avg       0.72      0.57      0.58       803\n",
      "weighted avg       0.80      0.84      0.80       803\n",
      "\n"
     ]
    }
   ],
   "source": [
    "from sklearn.linear_model import LogisticRegression\n",
    "\n",
    "y = df_stripped['affcon_rapport']\n",
    "X = df_stripped[['affcon_shareinformation', 'affcon_gamemove', 'affcon_reasoning']]\n",
    "\n",
    "X_train, X_test, y_train, y_test = train_test_split(X, y, test_size=0.2, train_size=0.8)\n",
    "\n",
    "clf = LogisticRegression(random_state=0).fit(X_train, y_train)\n",
    "y_pred = clf.predict(X_test)\n",
    "print(classification_report(y_test, y_pred))"
   ]
  },
  {
   "cell_type": "code",
   "execution_count": null,
   "metadata": {},
   "outputs": [],
   "source": []
  },
  {
   "cell_type": "markdown",
   "metadata": {},
   "source": [
    "### Messy Data"
   ]
  },
  {
   "cell_type": "code",
   "execution_count": 25,
   "metadata": {},
   "outputs": [],
   "source": [
    "df = pd.read_csv('./data/affcon_final_linguistics.csv')"
   ]
  },
  {
   "cell_type": "code",
   "execution_count": 26,
   "metadata": {},
   "outputs": [],
   "source": [
    "df = df.fillna(0)"
   ]
  },
  {
   "cell_type": "code",
   "execution_count": 27,
   "metadata": {},
   "outputs": [],
   "source": [
    "from sklearn.model_selection import train_test_split\n",
    "\n",
    "df = df.drop(columns=['Input.deception_quadrant'])\n",
    "\n",
    "#cols = ['affcon_rapport', 'affcon_shareinformation', 'affcon_gamemove', 'affcon_reasoning', 'Input.deception_quadrant_cat']\n",
    "\n",
    "cols = ['affcon_rapport', 'affcon_shareinformation', 'affcon_gamemove', 'affcon_reasoning']\n",
    "\n",
    "df_stripped = df[cols]"
   ]
  },
  {
   "cell_type": "code",
   "execution_count": 28,
   "metadata": {},
   "outputs": [
    {
     "data": {
      "text/html": [
       "<style  type=\"text/css\" >\n",
       "#T_d285ff18_38eb_11eb_b90c_74d435b32a4brow0_col0,#T_d285ff18_38eb_11eb_b90c_74d435b32a4brow1_col1,#T_d285ff18_38eb_11eb_b90c_74d435b32a4brow2_col2,#T_d285ff18_38eb_11eb_b90c_74d435b32a4brow3_col3{\n",
       "            background-color:  #b40426;\n",
       "            color:  #f1f1f1;\n",
       "        }#T_d285ff18_38eb_11eb_b90c_74d435b32a4brow0_col1,#T_d285ff18_38eb_11eb_b90c_74d435b32a4brow1_col0,#T_d285ff18_38eb_11eb_b90c_74d435b32a4brow1_col2,#T_d285ff18_38eb_11eb_b90c_74d435b32a4brow1_col3{\n",
       "            background-color:  #3b4cc0;\n",
       "            color:  #f1f1f1;\n",
       "        }#T_d285ff18_38eb_11eb_b90c_74d435b32a4brow0_col2{\n",
       "            background-color:  #8fb1fe;\n",
       "            color:  #000000;\n",
       "        }#T_d285ff18_38eb_11eb_b90c_74d435b32a4brow0_col3{\n",
       "            background-color:  #8db0fe;\n",
       "            color:  #000000;\n",
       "        }#T_d285ff18_38eb_11eb_b90c_74d435b32a4brow2_col0{\n",
       "            background-color:  #d2dbe8;\n",
       "            color:  #000000;\n",
       "        }#T_d285ff18_38eb_11eb_b90c_74d435b32a4brow2_col1{\n",
       "            background-color:  #94b6ff;\n",
       "            color:  #000000;\n",
       "        }#T_d285ff18_38eb_11eb_b90c_74d435b32a4brow2_col3{\n",
       "            background-color:  #7ea1fa;\n",
       "            color:  #000000;\n",
       "        }#T_d285ff18_38eb_11eb_b90c_74d435b32a4brow3_col0{\n",
       "            background-color:  #d8dce2;\n",
       "            color:  #000000;\n",
       "        }#T_d285ff18_38eb_11eb_b90c_74d435b32a4brow3_col1{\n",
       "            background-color:  #a1c0ff;\n",
       "            color:  #000000;\n",
       "        }#T_d285ff18_38eb_11eb_b90c_74d435b32a4brow3_col2{\n",
       "            background-color:  #8caffe;\n",
       "            color:  #000000;\n",
       "        }</style><table id=\"T_d285ff18_38eb_11eb_b90c_74d435b32a4b\" ><thead>    <tr>        <th class=\"blank level0\" ></th>        <th class=\"col_heading level0 col0\" >affcon_rapport</th>        <th class=\"col_heading level0 col1\" >affcon_shareinformation</th>        <th class=\"col_heading level0 col2\" >affcon_gamemove</th>        <th class=\"col_heading level0 col3\" >affcon_reasoning</th>    </tr></thead><tbody>\n",
       "                <tr>\n",
       "                        <th id=\"T_d285ff18_38eb_11eb_b90c_74d435b32a4blevel0_row0\" class=\"row_heading level0 row0\" >affcon_rapport</th>\n",
       "                        <td id=\"T_d285ff18_38eb_11eb_b90c_74d435b32a4brow0_col0\" class=\"data row0 col0\" >1.000000</td>\n",
       "                        <td id=\"T_d285ff18_38eb_11eb_b90c_74d435b32a4brow0_col1\" class=\"data row0 col1\" >-0.258600</td>\n",
       "                        <td id=\"T_d285ff18_38eb_11eb_b90c_74d435b32a4brow0_col2\" class=\"data row0 col2\" >0.317932</td>\n",
       "                        <td id=\"T_d285ff18_38eb_11eb_b90c_74d435b32a4brow0_col3\" class=\"data row0 col3\" >0.347539</td>\n",
       "            </tr>\n",
       "            <tr>\n",
       "                        <th id=\"T_d285ff18_38eb_11eb_b90c_74d435b32a4blevel0_row1\" class=\"row_heading level0 row1\" >affcon_shareinformation</th>\n",
       "                        <td id=\"T_d285ff18_38eb_11eb_b90c_74d435b32a4brow1_col0\" class=\"data row1 col0\" >-0.258600</td>\n",
       "                        <td id=\"T_d285ff18_38eb_11eb_b90c_74d435b32a4brow1_col1\" class=\"data row1 col1\" >1.000000</td>\n",
       "                        <td id=\"T_d285ff18_38eb_11eb_b90c_74d435b32a4brow1_col2\" class=\"data row1 col2\" >0.082834</td>\n",
       "                        <td id=\"T_d285ff18_38eb_11eb_b90c_74d435b32a4brow1_col3\" class=\"data row1 col3\" >0.127760</td>\n",
       "            </tr>\n",
       "            <tr>\n",
       "                        <th id=\"T_d285ff18_38eb_11eb_b90c_74d435b32a4blevel0_row2\" class=\"row_heading level0 row2\" >affcon_gamemove</th>\n",
       "                        <td id=\"T_d285ff18_38eb_11eb_b90c_74d435b32a4brow2_col0\" class=\"data row2 col0\" >0.317932</td>\n",
       "                        <td id=\"T_d285ff18_38eb_11eb_b90c_74d435b32a4brow2_col1\" class=\"data row2 col1\" >0.082834</td>\n",
       "                        <td id=\"T_d285ff18_38eb_11eb_b90c_74d435b32a4brow2_col2\" class=\"data row2 col2\" >1.000000</td>\n",
       "                        <td id=\"T_d285ff18_38eb_11eb_b90c_74d435b32a4brow2_col3\" class=\"data row2 col3\" >0.309831</td>\n",
       "            </tr>\n",
       "            <tr>\n",
       "                        <th id=\"T_d285ff18_38eb_11eb_b90c_74d435b32a4blevel0_row3\" class=\"row_heading level0 row3\" >affcon_reasoning</th>\n",
       "                        <td id=\"T_d285ff18_38eb_11eb_b90c_74d435b32a4brow3_col0\" class=\"data row3 col0\" >0.347539</td>\n",
       "                        <td id=\"T_d285ff18_38eb_11eb_b90c_74d435b32a4brow3_col1\" class=\"data row3 col1\" >0.127760</td>\n",
       "                        <td id=\"T_d285ff18_38eb_11eb_b90c_74d435b32a4brow3_col2\" class=\"data row3 col2\" >0.309831</td>\n",
       "                        <td id=\"T_d285ff18_38eb_11eb_b90c_74d435b32a4brow3_col3\" class=\"data row3 col3\" >1.000000</td>\n",
       "            </tr>\n",
       "    </tbody></table>"
      ],
      "text/plain": [
       "<pandas.io.formats.style.Styler at 0x21e23afc708>"
      ]
     },
     "execution_count": 28,
     "metadata": {},
     "output_type": "execute_result"
    }
   ],
   "source": [
    "corr = df_stripped.corr()\n",
    "corr.style.background_gradient(cmap='coolwarm')"
   ]
  },
  {
   "cell_type": "code",
   "execution_count": 29,
   "metadata": {},
   "outputs": [
    {
     "name": "stdout",
     "output_type": "stream",
     "text": [
      "              precision    recall  f1-score   support\n",
      "\n",
      "           0       0.79      0.51      0.62      1270\n",
      "           1       0.73      0.91      0.81      1878\n",
      "\n",
      "    accuracy                           0.75      3148\n",
      "   macro avg       0.76      0.71      0.72      3148\n",
      "weighted avg       0.76      0.75      0.74      3148\n",
      "\n"
     ]
    }
   ],
   "source": [
    "from sklearn.linear_model import LogisticRegression\n",
    "\n",
    "y = df_stripped['affcon_rapport']\n",
    "X = df_stripped[['affcon_shareinformation', 'affcon_gamemove', 'affcon_reasoning']]\n",
    "\n",
    "X_train, X_test, y_train, y_test = train_test_split(X, y, test_size=0.2, train_size=0.8)\n",
    "\n",
    "clf = LogisticRegression(random_state=0).fit(X_train, y_train)\n",
    "y_pred = clf.predict(X_test)\n",
    "print(classification_report(y_test, y_pred))"
   ]
  },
  {
   "cell_type": "code",
   "execution_count": null,
   "metadata": {},
   "outputs": [],
   "source": []
  }
 ],
 "metadata": {
  "kernelspec": {
   "display_name": "tfgpu",
   "language": "python",
   "name": "tfgpu"
  },
  "language_info": {
   "codemirror_mode": {
    "name": "ipython",
    "version": 3
   },
   "file_extension": ".py",
   "mimetype": "text/x-python",
   "name": "python",
   "nbconvert_exporter": "python",
   "pygments_lexer": "ipython3",
   "version": "3.7.9"
  }
 },
 "nbformat": 4,
 "nbformat_minor": 4
}
