{
 "cells": [
  {
   "cell_type": "code",
   "execution_count": 1,
   "metadata": {},
   "outputs": [
    {
     "name": "stderr",
     "output_type": "stream",
     "text": [
      "Using TensorFlow backend.\n"
     ]
    }
   ],
   "source": [
    "import pandas as pd\n",
    "import numpy as np\n",
    "\n",
    "from tensorflow.keras.utils import to_categorical\n",
    "from tensorflow.keras.layers import LSTM, Input, InputLayer, Dropout, Dense, Flatten, Embedding, Add\n",
    "from tensorflow.keras import Sequential\n",
    "from tensorflow.keras.models import Model\n",
    "from tensorflow.keras.callbacks import EarlyStopping\n",
    "import tensorflow as tf\n",
    "\n",
    "from sklearn.ensemble import RandomForestClassifier\n",
    "from sklearn.model_selection import train_test_split\n",
    "from sklearn.metrics import classification_report\n",
    "from tensorflow.keras.preprocessing.text import Tokenizer\n",
    "from sklearn.preprocessing import LabelEncoder\n",
    "from keras.preprocessing.sequence import pad_sequences\n",
    "from tensorflow.keras.optimizers import RMSprop"
   ]
  },
  {
   "cell_type": "code",
   "execution_count": 67,
   "metadata": {},
   "outputs": [],
   "source": [
    "# Good data\n",
    "df = pd.read_csv('./data/kokil dec 6 reprepare/affcon_final_with_linguistics.csv')"
   ]
  },
  {
   "cell_type": "code",
   "execution_count": 89,
   "metadata": {},
   "outputs": [],
   "source": [
    "# Messy data\n",
    "df = pd.read_csv('./data/affcon_final_politeness_strategies_merge.csv')"
   ]
  },
  {
   "cell_type": "code",
   "execution_count": 41,
   "metadata": {},
   "outputs": [],
   "source": [
    "df = df.dropna()"
   ]
  },
  {
   "cell_type": "code",
   "execution_count": 106,
   "metadata": {},
   "outputs": [],
   "source": [
    "train, test = train_test_split(df, test_size=0.2)\n",
    "\n",
    "y_train_deception = to_categorical(train['Input.deception_quadrant_cat'].tolist())\n",
    "y_train_rapport_c = to_categorical(train['affcon_rapport'].tolist())\n",
    "y_train_rapport = train['affcon_rapport'].tolist()\n",
    "y_train_share_information = train['affcon_shareinformation'].tolist()\n",
    "y_train_reasoning = train['affcon_reasoning'].tolist()\n",
    "y_train_gamemove = train['affcon_gamemove'].tolist()\n",
    "\n",
    "y_test_deception = to_categorical(test['Input.deception_quadrant_cat'].tolist())\n",
    "y_test_rapport_c = to_categorical(test['affcon_rapport'].tolist())\n",
    "y_test_rapport = test['affcon_rapport'].tolist()\n",
    "y_test_share_information = test['affcon_shareinformation'].tolist()\n",
    "y_test_reasoning = test['affcon_reasoning'].tolist()\n",
    "y_test_gamemove = test['affcon_gamemove'].tolist()\n",
    "\n",
    "X_train = train.drop(columns=['affcon_gamemove', 'affcon_reasoning',\n",
    "                              'affcon_rapport', 'affcon_shareinformation', 'Input.deception_quadrant',\n",
    "                              'Input.deception_quadrant_cat'])\n",
    "\n",
    "X_test = test.drop(columns=['affcon_gamemove', 'affcon_reasoning',\n",
    "                              'affcon_rapport', 'affcon_shareinformation', 'Input.deception_quadrant',\n",
    "                              'Input.deception_quadrant_cat'])"
   ]
  },
  {
   "cell_type": "markdown",
   "metadata": {},
   "source": [
    "### Individual classifiers are Random Forests"
   ]
  },
  {
   "cell_type": "code",
   "execution_count": 83,
   "metadata": {},
   "outputs": [
    {
     "name": "stdout",
     "output_type": "stream",
     "text": [
      "              precision    recall  f1-score   support\n",
      "\n",
      "         0.0       0.00      0.00      0.00         0\n",
      "         1.0       1.00      0.84      0.91      3210\n",
      "\n",
      "    accuracy                           0.84      3210\n",
      "   macro avg       0.50      0.42      0.46      3210\n",
      "weighted avg       1.00      0.84      0.91      3210\n",
      "\n"
     ]
    },
    {
     "name": "stderr",
     "output_type": "stream",
     "text": [
      "C:\\Users\\lynne\\anaconda3\\envs\\tf-gpu\\lib\\site-packages\\sklearn\\metrics\\_classification.py:1221: UndefinedMetricWarning: Recall and F-score are ill-defined and being set to 0.0 in labels with no true samples. Use `zero_division` parameter to control this behavior.\n",
      "  _warn_prf(average, modifier, msg_start, len(result))\n"
     ]
    }
   ],
   "source": [
    "# Game move classifier\n",
    "clf_gamemove = RandomForestClassifier(max_depth=2, random_state=0)\n",
    "clf_gamemove.fit(X_train, y_train_gamemove)\n",
    "y_pred_gamemove = clf_gamemove.predict(X_train)\n",
    "y_pred_test_gamemove = clf_gamemove.predict(X_test)\n",
    "print(classification_report(y_pred_gamemove, y_train_gamemove))"
   ]
  },
  {
   "cell_type": "code",
   "execution_count": 107,
   "metadata": {},
   "outputs": [
    {
     "name": "stdout",
     "output_type": "stream",
     "text": [
      "              precision    recall  f1-score   support\n",
      "\n",
      "         0.0       0.00      0.00      0.00         0\n",
      "         1.0       1.00      0.83      0.91      3210\n",
      "\n",
      "    accuracy                           0.83      3210\n",
      "   macro avg       0.50      0.42      0.45      3210\n",
      "weighted avg       1.00      0.83      0.91      3210\n",
      "\n"
     ]
    },
    {
     "name": "stderr",
     "output_type": "stream",
     "text": [
      "C:\\Users\\lynne\\anaconda3\\envs\\tf-gpu\\lib\\site-packages\\sklearn\\metrics\\_classification.py:1221: UndefinedMetricWarning: Recall and F-score are ill-defined and being set to 0.0 in labels with no true samples. Use `zero_division` parameter to control this behavior.\n",
      "  _warn_prf(average, modifier, msg_start, len(result))\n"
     ]
    }
   ],
   "source": [
    "# Rapport classifier\n",
    "clf_rapport = RandomForestClassifier(max_depth=2, random_state=0)\n",
    "clf_rapport.fit(X_train, y_train_rapport)\n",
    "y_pred_rapport = clf_rapport.predict(X_train)\n",
    "y_pred_test_rapport = clf_rapport.predict(X_test)\n",
    "print(classification_report(y_pred_rapport, y_train_rapport))"
   ]
  },
  {
   "cell_type": "code",
   "execution_count": 85,
   "metadata": {},
   "outputs": [
    {
     "name": "stdout",
     "output_type": "stream",
     "text": [
      "              precision    recall  f1-score   support\n",
      "\n",
      "         0.0       0.00      0.00      0.00         0\n",
      "         1.0       1.00      0.81      0.89      3210\n",
      "\n",
      "    accuracy                           0.81      3210\n",
      "   macro avg       0.50      0.40      0.45      3210\n",
      "weighted avg       1.00      0.81      0.89      3210\n",
      "\n"
     ]
    },
    {
     "name": "stderr",
     "output_type": "stream",
     "text": [
      "C:\\Users\\lynne\\anaconda3\\envs\\tf-gpu\\lib\\site-packages\\sklearn\\metrics\\_classification.py:1221: UndefinedMetricWarning: Recall and F-score are ill-defined and being set to 0.0 in labels with no true samples. Use `zero_division` parameter to control this behavior.\n",
      "  _warn_prf(average, modifier, msg_start, len(result))\n"
     ]
    }
   ],
   "source": [
    "# Share Information classifier\n",
    "clf_shareinfo = RandomForestClassifier(max_depth=2, random_state=0)\n",
    "clf_shareinfo.fit(X_train, y_train_share_information)\n",
    "y_pred_shareinfo = clf_shareinfo.predict(X_train)\n",
    "y_pred_test_shareinfo = clf_shareinfo.predict(X_test)\n",
    "print(classification_report(y_pred_shareinfo, y_train_share_information))"
   ]
  },
  {
   "cell_type": "code",
   "execution_count": 86,
   "metadata": {},
   "outputs": [
    {
     "name": "stdout",
     "output_type": "stream",
     "text": [
      "              precision    recall  f1-score   support\n",
      "\n",
      "         0.0       0.00      0.00      0.00         0\n",
      "         1.0       1.00      0.80      0.89      3210\n",
      "\n",
      "    accuracy                           0.80      3210\n",
      "   macro avg       0.50      0.40      0.44      3210\n",
      "weighted avg       1.00      0.80      0.89      3210\n",
      "\n"
     ]
    },
    {
     "name": "stderr",
     "output_type": "stream",
     "text": [
      "C:\\Users\\lynne\\anaconda3\\envs\\tf-gpu\\lib\\site-packages\\sklearn\\metrics\\_classification.py:1221: UndefinedMetricWarning: Recall and F-score are ill-defined and being set to 0.0 in labels with no true samples. Use `zero_division` parameter to control this behavior.\n",
      "  _warn_prf(average, modifier, msg_start, len(result))\n"
     ]
    }
   ],
   "source": [
    "# Reasoning classifier\n",
    "clf_reasoning = RandomForestClassifier(max_depth=2, random_state=0)\n",
    "clf_reasoning.fit(X_train, y_train_reasoning)\n",
    "y_pred_reasoning = clf_reasoning.predict(X_train)\n",
    "y_pred_test_reasoning = clf_reasoning.predict(X_test)\n",
    "print(classification_report(y_pred_reasoning, y_train_reasoning))"
   ]
  },
  {
   "cell_type": "code",
   "execution_count": 109,
   "metadata": {},
   "outputs": [],
   "source": [
    "pred_df_arr = []\n",
    "for i in range(0, len(y_pred_gamemove)):\n",
    "    pred_obj = {}\n",
    "    pred_obj['gamemove'] = y_pred_gamemove[i]\n",
    "    pred_obj['reasoning'] = y_pred_reasoning[i]\n",
    "    pred_obj['shareinfo'] = y_pred_shareinfo[i]\n",
    "    pred_obj['rapport'] = y_pred_rapport[i]\n",
    "    \n",
    "    pred_df_arr.append(pred_obj)\n",
    "    \n",
    "pred_df = pd.DataFrame(pred_df_arr)"
   ]
  },
  {
   "cell_type": "code",
   "execution_count": 110,
   "metadata": {},
   "outputs": [],
   "source": [
    "pred_test_df_arr = []\n",
    "for i in range(0, len(y_pred_test_gamemove)):\n",
    "    pred_obj = {}\n",
    "    pred_obj['gamemove'] = y_pred_test_gamemove[i]\n",
    "    pred_obj['reasoning'] = y_pred_test_reasoning[i]\n",
    "    pred_obj['shareinfo'] = y_pred_test_shareinfo[i]\n",
    "    pred_obj['rapport'] = y_pred_test_rapport[i]\n",
    "    \n",
    "    pred_test_df_arr.append(pred_obj)\n",
    "    \n",
    "pred_test_df = pd.DataFrame(pred_test_df_arr)"
   ]
  },
  {
   "cell_type": "code",
   "execution_count": 51,
   "metadata": {},
   "outputs": [],
   "source": [
    "from keras import backend as K\n",
    "\n",
    "def recall_m(y_true, y_pred):\n",
    "    true_positives = K.sum(K.round(K.clip(y_true * y_pred, 0, 1)))\n",
    "    possible_positives = K.sum(K.round(K.clip(y_true, 0, 1)))\n",
    "    recall = true_positives / (possible_positives + K.epsilon())\n",
    "    return recall\n",
    "\n",
    "def precision_m(y_true, y_pred):\n",
    "    true_positives = K.sum(K.round(K.clip(y_true * y_pred, 0, 1)))\n",
    "    predicted_positives = K.sum(K.round(K.clip(y_pred, 0, 1)))\n",
    "    precision = true_positives / (predicted_positives + K.epsilon())\n",
    "    return precision\n",
    "\n",
    "def f1_m(y_true, y_pred):\n",
    "    precision = precision_m(y_true, y_pred)\n",
    "    recall = recall_m(y_true, y_pred)\n",
    "    return 2*((precision*recall)/(precision+recall+K.epsilon()))\n",
    "\n",
    "callback = tf.keras.callbacks.EarlyStopping(\n",
    "    monitor='val_loss', min_delta=0, patience=0, verbose=0, mode='auto',\n",
    "    baseline=None, restore_best_weights=False\n",
    ")"
   ]
  },
  {
   "cell_type": "code",
   "execution_count": 112,
   "metadata": {},
   "outputs": [
    {
     "name": "stdout",
     "output_type": "stream",
     "text": [
      "Epoch 1/32\n",
      "51/51 [==============================] - 0s 8ms/step - loss: 7.7125 - acc: 0.0458 - f1_m: 0.0000e+00 - precision_m: 0.0000e+00 - recall_m: 0.0000e+00 - val_loss: 7.7125 - val_acc: 0.0523 - val_f1_m: 0.0000e+00 - val_precision_m: 0.0000e+00 - val_recall_m: 0.0000e+00\n",
      "Epoch 2/32\n",
      "51/51 [==============================] - 0s 4ms/step - loss: 7.7125 - acc: 0.0458 - f1_m: 0.0000e+00 - precision_m: 0.0000e+00 - recall_m: 0.0000e+00 - val_loss: 7.7125 - val_acc: 0.0523 - val_f1_m: 0.0000e+00 - val_precision_m: 0.0000e+00 - val_recall_m: 0.0000e+00\n"
     ]
    }
   ],
   "source": [
    "# Combined model\n",
    "\n",
    "inputB = Input(shape=(pred_df.shape[1],))\n",
    "c = Dense(2, activation='relu')(inputB)\n",
    "c = Dense(4, activation='relu')(c)\n",
    "c = Dense(2, activation='linear')(c)\n",
    "m = Model(inputs=inputB, outputs=c)\n",
    "\n",
    "m.compile(loss='binary_crossentropy', optimizer='adam', \n",
    "                      metrics=['acc',f1_m, precision_m,recall_m])\n",
    "history = m.fit(x=pred_df, y=y_train_deception, epochs=32, \n",
    "                    batch_size=64, \n",
    "                    validation_data=(pred_test_df,y_test_deception), callbacks=[callback])"
   ]
  },
  {
   "cell_type": "code",
   "execution_count": null,
   "metadata": {},
   "outputs": [],
   "source": []
  },
  {
   "cell_type": "markdown",
   "metadata": {},
   "source": [
    "### Individual Classifiers are MLP"
   ]
  },
  {
   "cell_type": "code",
   "execution_count": 68,
   "metadata": {},
   "outputs": [],
   "source": [
    "y_train_deception = to_categorical(train['Input.deception_quadrant_cat'].tolist())\n",
    "y_train_rapport = to_categorical(train['affcon_rapport'].tolist())\n",
    "y_train_share_information = to_categorical(train['affcon_shareinformation'].tolist())\n",
    "y_train_reasoning = to_categorical(train['affcon_reasoning'].tolist())\n",
    "y_train_gamemove = to_categorical(train['affcon_gamemove'].tolist())\n",
    "\n",
    "y_test_deception = to_categorical(test['Input.deception_quadrant_cat'].tolist())\n",
    "y_test_rapport = to_categorical(test['affcon_rapport'].tolist())\n",
    "y_test_share_information = to_categorical(test['affcon_shareinformation'].tolist())\n",
    "y_test_reasoning = to_categorical(test['affcon_reasoning'].tolist())\n",
    "y_test_gamemove = to_categorical(test['affcon_gamemove'].tolist())\n",
    "\n",
    "X_train = train.drop(columns=['affcon_gamemove', 'affcon_reasoning',\n",
    "                              'affcon_rapport', 'affcon_shareinformation', 'Input.deception_quadrant',\n",
    "                              'Input.deception_quadrant_cat'])\n",
    "\n",
    "X_test = test.drop(columns=['affcon_gamemove', 'affcon_reasoning',\n",
    "                              'affcon_rapport', 'affcon_shareinformation', 'Input.deception_quadrant',\n",
    "                              'Input.deception_quadrant_cat'])"
   ]
  },
  {
   "cell_type": "code",
   "execution_count": 69,
   "metadata": {},
   "outputs": [
    {
     "ename": "ValueError",
     "evalue": "Failed to convert a NumPy array to a Tensor (Unsupported object type int).",
     "output_type": "error",
     "traceback": [
      "\u001b[1;31m---------------------------------------------------------------------------\u001b[0m",
      "\u001b[1;31mTypeError\u001b[0m                                 Traceback (most recent call last)",
      "\u001b[1;32m~\\AppData\\Roaming\\Python\\Python37\\site-packages\\tensorflow\\python\\data\\util\\structure.py\u001b[0m in \u001b[0;36mnormalize_element\u001b[1;34m(element)\u001b[0m\n\u001b[0;32m     92\u001b[0m       \u001b[1;32mtry\u001b[0m\u001b[1;33m:\u001b[0m\u001b[1;33m\u001b[0m\u001b[1;33m\u001b[0m\u001b[0m\n\u001b[1;32m---> 93\u001b[1;33m         \u001b[0mspec\u001b[0m \u001b[1;33m=\u001b[0m \u001b[0mtype_spec_from_value\u001b[0m\u001b[1;33m(\u001b[0m\u001b[0mt\u001b[0m\u001b[1;33m,\u001b[0m \u001b[0muse_fallback\u001b[0m\u001b[1;33m=\u001b[0m\u001b[1;32mFalse\u001b[0m\u001b[1;33m)\u001b[0m\u001b[1;33m\u001b[0m\u001b[1;33m\u001b[0m\u001b[0m\n\u001b[0m\u001b[0;32m     94\u001b[0m       \u001b[1;32mexcept\u001b[0m \u001b[0mTypeError\u001b[0m\u001b[1;33m:\u001b[0m\u001b[1;33m\u001b[0m\u001b[1;33m\u001b[0m\u001b[0m\n",
      "\u001b[1;32m~\\AppData\\Roaming\\Python\\Python37\\site-packages\\tensorflow\\python\\data\\util\\structure.py\u001b[0m in \u001b[0;36mtype_spec_from_value\u001b[1;34m(element, use_fallback)\u001b[0m\n\u001b[0;32m    465\u001b[0m   raise TypeError(\"Could not build a TypeSpec for %r with type %s\" %\n\u001b[1;32m--> 466\u001b[1;33m                   (element, type(element).__name__))\n\u001b[0m\u001b[0;32m    467\u001b[0m \u001b[1;33m\u001b[0m\u001b[0m\n",
      "\u001b[1;31mTypeError\u001b[0m: Could not build a TypeSpec for        Unnamed: 0  feature_politeness_==Please==  \\\n12039       12039                              0   \n3865         3865                              0   \n8491         8491                              0   \n13755       13755                              0   \n1664         1664                              0   \n...           ...                            ...   \n6308         6308                              0   \n7908         7908                              0   \n3201         3201                              0   \n9949         9949                              0   \n15591       15591                              0   \n\n       feature_politeness_==Please_start==  feature_politeness_==HASHEDGE==  \\\n12039                                    0                                1   \n3865                                     0                                1   \n8491                                     0                                0   \n13755                                    0                                1   \n1664                                     0                                1   \n...                                    ...                              ...   \n6308                                     0                                0   \n7908                                     0                                0   \n3201                                     0                                1   \n9949                                     0                                0   \n15591                                    0                                0   \n\n       feature_politeness_==Indirect_(btw)==  feature_politeness_==Hedges==  \\\n12039                                      0                              1   \n3865                                       0                              1   \n8491                                       0                              0   \n13755                                      0                              1   \n1664                                       0                              1   \n...                                      ...                            ...   \n6308                                       0                              0   \n7908                                       0                              0   \n3201                                       0                              1   \n9949                                       0                              0   \n15591                                      0                              0   \n\n       feature_politeness_==Factuality==  feature_politeness_==Deference==  \\\n12039                                  0                                 0   \n3865                                   0                                 0   \n8491                                   0                                 0   \n13755                                  0                                 0   \n1664                                   0                                 0   \n...                                  ...                               ...   \n6308                                   0                                 1   \n7908                                   0                                 0   \n3201                                   1                                 0   \n9949                                   0                                 0   \n15591                                  0                                 0   \n\n       feature_politeness_==Gratitude==  feature_politeness_==Apologizing==  \\\n12039                                 0                                   0   \n3865                                  0                                   0   \n8491                                  0                                   0   \n13755                                 0                                   0   \n1664                                  0                                   1   \n...                                 ...                                 ...   \n6308                                  0                                   0   \n7908                                  0                                   0   \n3201                                  0                                   0   \n9949                                  0                                   0   \n15591                                 0                                   0   \n\n       ...  Input.absolute_message_index  Input.relative_message_index  \\\n12039  ...                           284                            62   \n3865   ...                           468                            25   \n8491   ...                          1910                           165   \n13755  ...                           478                            32   \n1664   ...                           535                            78   \n...    ...                           ...                           ...   \n6308   ...                           183                            21   \n7908   ...                          2038                           149   \n3201   ...                           271                            56   \n9949   ...                            23                             5   \n15591  ...                          1318                           139   \n\n       Input.year  Input.game_score_speaker  Input.game_score_receiver  \\\n12039        1903                         5                          5   \n3865         1903                         6                          9   \n8491         1910                        10                          6   \n13755        1903                         6                          4   \n1664         1902                         4                          3   \n...           ...                       ...                        ...   \n6308         1901                         3                          3   \n7908         1904                         4                          1   \n3201         1901                         4                          3   \n9949         1901                         4                          5   \n15591        1903                         7                          9   \n\n       Input.game_score_delta  Input.num_words  Input.num_characters  \\\n12039                       0               16                    75   \n3865                        3               10                    50   \n8491                       -4                8                    50   \n13755                      -2                8                    42   \n1664                       -1                5                    23   \n...                       ...              ...                   ...   \n6308                        0               10                    45   \n7908                       -3                8                    50   \n3201                       -1               15                    80   \n9949                        1                8                    46   \n15591                       2                6                    29   \n\n       Input.sno  Input.sno1  \n12039         93        10.0  \n3865          59        16.0  \n8491          20        60.0  \n13755         67        20.0  \n1664           2         0.0  \n...          ...         ...  \n6308          57        12.0  \n7908          16        47.0  \n3201          95         1.0  \n9949          35        48.0  \n15591         40         0.0  \n\n[10072 rows x 43 columns] with type DataFrame",
      "\nDuring handling of the above exception, another exception occurred:\n",
      "\u001b[1;31mValueError\u001b[0m                                Traceback (most recent call last)",
      "\u001b[1;32m<ipython-input-69-097af2ce5f52>\u001b[0m in \u001b[0;36m<module>\u001b[1;34m\u001b[0m\n\u001b[0;32m     10\u001b[0m history = gamemove_model.fit(x=X_train, y=y_train_gamemove, epochs=32, \n\u001b[0;32m     11\u001b[0m                     \u001b[0mbatch_size\u001b[0m\u001b[1;33m=\u001b[0m\u001b[1;36m64\u001b[0m\u001b[1;33m,\u001b[0m\u001b[1;33m\u001b[0m\u001b[1;33m\u001b[0m\u001b[0m\n\u001b[1;32m---> 12\u001b[1;33m                     validation_split=0.2, callbacks=[callback])\n\u001b[0m\u001b[0;32m     13\u001b[0m \u001b[0mloss\u001b[0m\u001b[1;33m,\u001b[0m \u001b[0maccuracy\u001b[0m\u001b[1;33m,\u001b[0m \u001b[0mf1_score\u001b[0m\u001b[1;33m,\u001b[0m \u001b[0mprecision\u001b[0m\u001b[1;33m,\u001b[0m \u001b[0mrecall\u001b[0m \u001b[1;33m=\u001b[0m \u001b[0mgamemove_model\u001b[0m\u001b[1;33m.\u001b[0m\u001b[0mevaluate\u001b[0m\u001b[1;33m(\u001b[0m\u001b[0mX_test\u001b[0m\u001b[1;33m,\u001b[0m \u001b[0my_test_gamemove\u001b[0m\u001b[1;33m,\u001b[0m \u001b[0mverbose\u001b[0m\u001b[1;33m=\u001b[0m\u001b[1;36m0\u001b[0m\u001b[1;33m)\u001b[0m\u001b[1;33m\u001b[0m\u001b[1;33m\u001b[0m\u001b[0m\n\u001b[0;32m     14\u001b[0m \u001b[0mprint\u001b[0m\u001b[1;33m(\u001b[0m\u001b[0mprecision\u001b[0m\u001b[1;33m,\u001b[0m \u001b[0mrecall\u001b[0m\u001b[1;33m,\u001b[0m \u001b[0mf1_score\u001b[0m\u001b[1;33m)\u001b[0m\u001b[1;33m\u001b[0m\u001b[1;33m\u001b[0m\u001b[0m\n",
      "\u001b[1;32m~\\AppData\\Roaming\\Python\\Python37\\site-packages\\tensorflow\\python\\keras\\engine\\training.py\u001b[0m in \u001b[0;36m_method_wrapper\u001b[1;34m(self, *args, **kwargs)\u001b[0m\n\u001b[0;32m    106\u001b[0m   \u001b[1;32mdef\u001b[0m \u001b[0m_method_wrapper\u001b[0m\u001b[1;33m(\u001b[0m\u001b[0mself\u001b[0m\u001b[1;33m,\u001b[0m \u001b[1;33m*\u001b[0m\u001b[0margs\u001b[0m\u001b[1;33m,\u001b[0m \u001b[1;33m**\u001b[0m\u001b[0mkwargs\u001b[0m\u001b[1;33m)\u001b[0m\u001b[1;33m:\u001b[0m\u001b[1;33m\u001b[0m\u001b[1;33m\u001b[0m\u001b[0m\n\u001b[0;32m    107\u001b[0m     \u001b[1;32mif\u001b[0m \u001b[1;32mnot\u001b[0m \u001b[0mself\u001b[0m\u001b[1;33m.\u001b[0m\u001b[0m_in_multi_worker_mode\u001b[0m\u001b[1;33m(\u001b[0m\u001b[1;33m)\u001b[0m\u001b[1;33m:\u001b[0m  \u001b[1;31m# pylint: disable=protected-access\u001b[0m\u001b[1;33m\u001b[0m\u001b[1;33m\u001b[0m\u001b[0m\n\u001b[1;32m--> 108\u001b[1;33m       \u001b[1;32mreturn\u001b[0m \u001b[0mmethod\u001b[0m\u001b[1;33m(\u001b[0m\u001b[0mself\u001b[0m\u001b[1;33m,\u001b[0m \u001b[1;33m*\u001b[0m\u001b[0margs\u001b[0m\u001b[1;33m,\u001b[0m \u001b[1;33m**\u001b[0m\u001b[0mkwargs\u001b[0m\u001b[1;33m)\u001b[0m\u001b[1;33m\u001b[0m\u001b[1;33m\u001b[0m\u001b[0m\n\u001b[0m\u001b[0;32m    109\u001b[0m \u001b[1;33m\u001b[0m\u001b[0m\n\u001b[0;32m    110\u001b[0m     \u001b[1;31m# Running inside `run_distribute_coordinator` already.\u001b[0m\u001b[1;33m\u001b[0m\u001b[1;33m\u001b[0m\u001b[1;33m\u001b[0m\u001b[0m\n",
      "\u001b[1;32m~\\AppData\\Roaming\\Python\\Python37\\site-packages\\tensorflow\\python\\keras\\engine\\training.py\u001b[0m in \u001b[0;36mfit\u001b[1;34m(self, x, y, batch_size, epochs, verbose, callbacks, validation_split, validation_data, shuffle, class_weight, sample_weight, initial_epoch, steps_per_epoch, validation_steps, validation_batch_size, validation_freq, max_queue_size, workers, use_multiprocessing)\u001b[0m\n\u001b[0;32m   1061\u001b[0m           \u001b[0muse_multiprocessing\u001b[0m\u001b[1;33m=\u001b[0m\u001b[0muse_multiprocessing\u001b[0m\u001b[1;33m,\u001b[0m\u001b[1;33m\u001b[0m\u001b[1;33m\u001b[0m\u001b[0m\n\u001b[0;32m   1062\u001b[0m           \u001b[0mmodel\u001b[0m\u001b[1;33m=\u001b[0m\u001b[0mself\u001b[0m\u001b[1;33m,\u001b[0m\u001b[1;33m\u001b[0m\u001b[1;33m\u001b[0m\u001b[0m\n\u001b[1;32m-> 1063\u001b[1;33m           steps_per_execution=self._steps_per_execution)\n\u001b[0m\u001b[0;32m   1064\u001b[0m \u001b[1;33m\u001b[0m\u001b[0m\n\u001b[0;32m   1065\u001b[0m       \u001b[1;31m# Container that configures and calls `tf.keras.Callback`s.\u001b[0m\u001b[1;33m\u001b[0m\u001b[1;33m\u001b[0m\u001b[1;33m\u001b[0m\u001b[0m\n",
      "\u001b[1;32m~\\AppData\\Roaming\\Python\\Python37\\site-packages\\tensorflow\\python\\keras\\engine\\data_adapter.py\u001b[0m in \u001b[0;36m__init__\u001b[1;34m(self, x, y, sample_weight, batch_size, steps_per_epoch, initial_epoch, epochs, shuffle, class_weight, max_queue_size, workers, use_multiprocessing, model, steps_per_execution)\u001b[0m\n\u001b[0;32m   1115\u001b[0m         \u001b[0muse_multiprocessing\u001b[0m\u001b[1;33m=\u001b[0m\u001b[0muse_multiprocessing\u001b[0m\u001b[1;33m,\u001b[0m\u001b[1;33m\u001b[0m\u001b[1;33m\u001b[0m\u001b[0m\n\u001b[0;32m   1116\u001b[0m         \u001b[0mdistribution_strategy\u001b[0m\u001b[1;33m=\u001b[0m\u001b[0mds_context\u001b[0m\u001b[1;33m.\u001b[0m\u001b[0mget_strategy\u001b[0m\u001b[1;33m(\u001b[0m\u001b[1;33m)\u001b[0m\u001b[1;33m,\u001b[0m\u001b[1;33m\u001b[0m\u001b[1;33m\u001b[0m\u001b[0m\n\u001b[1;32m-> 1117\u001b[1;33m         model=model)\n\u001b[0m\u001b[0;32m   1118\u001b[0m \u001b[1;33m\u001b[0m\u001b[0m\n\u001b[0;32m   1119\u001b[0m     \u001b[0mstrategy\u001b[0m \u001b[1;33m=\u001b[0m \u001b[0mds_context\u001b[0m\u001b[1;33m.\u001b[0m\u001b[0mget_strategy\u001b[0m\u001b[1;33m(\u001b[0m\u001b[1;33m)\u001b[0m\u001b[1;33m\u001b[0m\u001b[1;33m\u001b[0m\u001b[0m\n",
      "\u001b[1;32m~\\AppData\\Roaming\\Python\\Python37\\site-packages\\tensorflow\\python\\keras\\engine\\data_adapter.py\u001b[0m in \u001b[0;36m__init__\u001b[1;34m(self, x, y, sample_weights, sample_weight_modes, batch_size, epochs, steps, shuffle, **kwargs)\u001b[0m\n\u001b[0;32m    362\u001b[0m     \u001b[0mindices_dataset\u001b[0m \u001b[1;33m=\u001b[0m \u001b[0mindices_dataset\u001b[0m\u001b[1;33m.\u001b[0m\u001b[0mflat_map\u001b[0m\u001b[1;33m(\u001b[0m\u001b[0mslice_batch_indices\u001b[0m\u001b[1;33m)\u001b[0m\u001b[1;33m\u001b[0m\u001b[1;33m\u001b[0m\u001b[0m\n\u001b[0;32m    363\u001b[0m \u001b[1;33m\u001b[0m\u001b[0m\n\u001b[1;32m--> 364\u001b[1;33m     \u001b[0mdataset\u001b[0m \u001b[1;33m=\u001b[0m \u001b[0mself\u001b[0m\u001b[1;33m.\u001b[0m\u001b[0mslice_inputs\u001b[0m\u001b[1;33m(\u001b[0m\u001b[0mindices_dataset\u001b[0m\u001b[1;33m,\u001b[0m \u001b[0minputs\u001b[0m\u001b[1;33m)\u001b[0m\u001b[1;33m\u001b[0m\u001b[1;33m\u001b[0m\u001b[0m\n\u001b[0m\u001b[0;32m    365\u001b[0m \u001b[1;33m\u001b[0m\u001b[0m\n\u001b[0;32m    366\u001b[0m     \u001b[1;32mif\u001b[0m \u001b[0mshuffle\u001b[0m \u001b[1;33m==\u001b[0m \u001b[1;34m\"batch\"\u001b[0m\u001b[1;33m:\u001b[0m\u001b[1;33m\u001b[0m\u001b[1;33m\u001b[0m\u001b[0m\n",
      "\u001b[1;32m~\\AppData\\Roaming\\Python\\Python37\\site-packages\\tensorflow\\python\\keras\\engine\\data_adapter.py\u001b[0m in \u001b[0;36mslice_inputs\u001b[1;34m(self, indices_dataset, inputs)\u001b[0m\n\u001b[0;32m    388\u001b[0m     dataset = dataset_ops.DatasetV2.zip((\n\u001b[0;32m    389\u001b[0m         \u001b[0mindices_dataset\u001b[0m\u001b[1;33m,\u001b[0m\u001b[1;33m\u001b[0m\u001b[1;33m\u001b[0m\u001b[0m\n\u001b[1;32m--> 390\u001b[1;33m         \u001b[0mdataset_ops\u001b[0m\u001b[1;33m.\u001b[0m\u001b[0mDatasetV2\u001b[0m\u001b[1;33m.\u001b[0m\u001b[0mfrom_tensors\u001b[0m\u001b[1;33m(\u001b[0m\u001b[0minputs\u001b[0m\u001b[1;33m)\u001b[0m\u001b[1;33m.\u001b[0m\u001b[0mrepeat\u001b[0m\u001b[1;33m(\u001b[0m\u001b[1;33m)\u001b[0m\u001b[1;33m\u001b[0m\u001b[1;33m\u001b[0m\u001b[0m\n\u001b[0m\u001b[0;32m    391\u001b[0m     ))\n\u001b[0;32m    392\u001b[0m \u001b[1;33m\u001b[0m\u001b[0m\n",
      "\u001b[1;32m~\\AppData\\Roaming\\Python\\Python37\\site-packages\\tensorflow\\python\\data\\ops\\dataset_ops.py\u001b[0m in \u001b[0;36mfrom_tensors\u001b[1;34m(tensors)\u001b[0m\n\u001b[0;32m    602\u001b[0m       \u001b[0mDataset\u001b[0m\u001b[1;33m:\u001b[0m \u001b[0mA\u001b[0m\u001b[0;31m \u001b[0m\u001b[0;31m`\u001b[0m\u001b[0mDataset\u001b[0m\u001b[0;31m`\u001b[0m\u001b[1;33m.\u001b[0m\u001b[1;33m\u001b[0m\u001b[1;33m\u001b[0m\u001b[0m\n\u001b[0;32m    603\u001b[0m     \"\"\"\n\u001b[1;32m--> 604\u001b[1;33m     \u001b[1;32mreturn\u001b[0m \u001b[0mTensorDataset\u001b[0m\u001b[1;33m(\u001b[0m\u001b[0mtensors\u001b[0m\u001b[1;33m)\u001b[0m\u001b[1;33m\u001b[0m\u001b[1;33m\u001b[0m\u001b[0m\n\u001b[0m\u001b[0;32m    605\u001b[0m \u001b[1;33m\u001b[0m\u001b[0m\n\u001b[0;32m    606\u001b[0m   \u001b[1;33m@\u001b[0m\u001b[0mstaticmethod\u001b[0m\u001b[1;33m\u001b[0m\u001b[1;33m\u001b[0m\u001b[0m\n",
      "\u001b[1;32m~\\AppData\\Roaming\\Python\\Python37\\site-packages\\tensorflow\\python\\data\\ops\\dataset_ops.py\u001b[0m in \u001b[0;36m__init__\u001b[1;34m(self, element)\u001b[0m\n\u001b[0;32m   2980\u001b[0m   \u001b[1;32mdef\u001b[0m \u001b[0m__init__\u001b[0m\u001b[1;33m(\u001b[0m\u001b[0mself\u001b[0m\u001b[1;33m,\u001b[0m \u001b[0melement\u001b[0m\u001b[1;33m)\u001b[0m\u001b[1;33m:\u001b[0m\u001b[1;33m\u001b[0m\u001b[1;33m\u001b[0m\u001b[0m\n\u001b[0;32m   2981\u001b[0m     \u001b[1;34m\"\"\"See `Dataset.from_tensors()` for details.\"\"\"\u001b[0m\u001b[1;33m\u001b[0m\u001b[1;33m\u001b[0m\u001b[0m\n\u001b[1;32m-> 2982\u001b[1;33m     \u001b[0melement\u001b[0m \u001b[1;33m=\u001b[0m \u001b[0mstructure\u001b[0m\u001b[1;33m.\u001b[0m\u001b[0mnormalize_element\u001b[0m\u001b[1;33m(\u001b[0m\u001b[0melement\u001b[0m\u001b[1;33m)\u001b[0m\u001b[1;33m\u001b[0m\u001b[1;33m\u001b[0m\u001b[0m\n\u001b[0m\u001b[0;32m   2983\u001b[0m     \u001b[0mself\u001b[0m\u001b[1;33m.\u001b[0m\u001b[0m_structure\u001b[0m \u001b[1;33m=\u001b[0m \u001b[0mstructure\u001b[0m\u001b[1;33m.\u001b[0m\u001b[0mtype_spec_from_value\u001b[0m\u001b[1;33m(\u001b[0m\u001b[0melement\u001b[0m\u001b[1;33m)\u001b[0m\u001b[1;33m\u001b[0m\u001b[1;33m\u001b[0m\u001b[0m\n\u001b[0;32m   2984\u001b[0m     \u001b[0mself\u001b[0m\u001b[1;33m.\u001b[0m\u001b[0m_tensors\u001b[0m \u001b[1;33m=\u001b[0m \u001b[0mstructure\u001b[0m\u001b[1;33m.\u001b[0m\u001b[0mto_tensor_list\u001b[0m\u001b[1;33m(\u001b[0m\u001b[0mself\u001b[0m\u001b[1;33m.\u001b[0m\u001b[0m_structure\u001b[0m\u001b[1;33m,\u001b[0m \u001b[0melement\u001b[0m\u001b[1;33m)\u001b[0m\u001b[1;33m\u001b[0m\u001b[1;33m\u001b[0m\u001b[0m\n",
      "\u001b[1;32m~\\AppData\\Roaming\\Python\\Python37\\site-packages\\tensorflow\\python\\data\\util\\structure.py\u001b[0m in \u001b[0;36mnormalize_element\u001b[1;34m(element)\u001b[0m\n\u001b[0;32m     96\u001b[0m         \u001b[1;31m# the value. As a fallback try converting the value to a tensor.\u001b[0m\u001b[1;33m\u001b[0m\u001b[1;33m\u001b[0m\u001b[1;33m\u001b[0m\u001b[0m\n\u001b[0;32m     97\u001b[0m         normalized_components.append(\n\u001b[1;32m---> 98\u001b[1;33m             ops.convert_to_tensor(t, name=\"component_%d\" % i))\n\u001b[0m\u001b[0;32m     99\u001b[0m       \u001b[1;32melse\u001b[0m\u001b[1;33m:\u001b[0m\u001b[1;33m\u001b[0m\u001b[1;33m\u001b[0m\u001b[0m\n\u001b[0;32m    100\u001b[0m         \u001b[1;32mif\u001b[0m \u001b[0misinstance\u001b[0m\u001b[1;33m(\u001b[0m\u001b[0mspec\u001b[0m\u001b[1;33m,\u001b[0m \u001b[0msparse_tensor\u001b[0m\u001b[1;33m.\u001b[0m\u001b[0mSparseTensorSpec\u001b[0m\u001b[1;33m)\u001b[0m\u001b[1;33m:\u001b[0m\u001b[1;33m\u001b[0m\u001b[1;33m\u001b[0m\u001b[0m\n",
      "\u001b[1;32m~\\AppData\\Roaming\\Python\\Python37\\site-packages\\tensorflow\\python\\framework\\ops.py\u001b[0m in \u001b[0;36mconvert_to_tensor\u001b[1;34m(value, dtype, name, as_ref, preferred_dtype, dtype_hint, ctx, accepted_result_types)\u001b[0m\n\u001b[0;32m   1497\u001b[0m \u001b[1;33m\u001b[0m\u001b[0m\n\u001b[0;32m   1498\u001b[0m     \u001b[1;32mif\u001b[0m \u001b[0mret\u001b[0m \u001b[1;32mis\u001b[0m \u001b[1;32mNone\u001b[0m\u001b[1;33m:\u001b[0m\u001b[1;33m\u001b[0m\u001b[1;33m\u001b[0m\u001b[0m\n\u001b[1;32m-> 1499\u001b[1;33m       \u001b[0mret\u001b[0m \u001b[1;33m=\u001b[0m \u001b[0mconversion_func\u001b[0m\u001b[1;33m(\u001b[0m\u001b[0mvalue\u001b[0m\u001b[1;33m,\u001b[0m \u001b[0mdtype\u001b[0m\u001b[1;33m=\u001b[0m\u001b[0mdtype\u001b[0m\u001b[1;33m,\u001b[0m \u001b[0mname\u001b[0m\u001b[1;33m=\u001b[0m\u001b[0mname\u001b[0m\u001b[1;33m,\u001b[0m \u001b[0mas_ref\u001b[0m\u001b[1;33m=\u001b[0m\u001b[0mas_ref\u001b[0m\u001b[1;33m)\u001b[0m\u001b[1;33m\u001b[0m\u001b[1;33m\u001b[0m\u001b[0m\n\u001b[0m\u001b[0;32m   1500\u001b[0m \u001b[1;33m\u001b[0m\u001b[0m\n\u001b[0;32m   1501\u001b[0m     \u001b[1;32mif\u001b[0m \u001b[0mret\u001b[0m \u001b[1;32mis\u001b[0m \u001b[0mNotImplemented\u001b[0m\u001b[1;33m:\u001b[0m\u001b[1;33m\u001b[0m\u001b[1;33m\u001b[0m\u001b[0m\n",
      "\u001b[1;32m~\\AppData\\Roaming\\Python\\Python37\\site-packages\\tensorflow\\python\\framework\\constant_op.py\u001b[0m in \u001b[0;36m_constant_tensor_conversion_function\u001b[1;34m(v, dtype, name, as_ref)\u001b[0m\n\u001b[0;32m    336\u001b[0m                                          as_ref=False):\n\u001b[0;32m    337\u001b[0m   \u001b[0m_\u001b[0m \u001b[1;33m=\u001b[0m \u001b[0mas_ref\u001b[0m\u001b[1;33m\u001b[0m\u001b[1;33m\u001b[0m\u001b[0m\n\u001b[1;32m--> 338\u001b[1;33m   \u001b[1;32mreturn\u001b[0m \u001b[0mconstant\u001b[0m\u001b[1;33m(\u001b[0m\u001b[0mv\u001b[0m\u001b[1;33m,\u001b[0m \u001b[0mdtype\u001b[0m\u001b[1;33m=\u001b[0m\u001b[0mdtype\u001b[0m\u001b[1;33m,\u001b[0m \u001b[0mname\u001b[0m\u001b[1;33m=\u001b[0m\u001b[0mname\u001b[0m\u001b[1;33m)\u001b[0m\u001b[1;33m\u001b[0m\u001b[1;33m\u001b[0m\u001b[0m\n\u001b[0m\u001b[0;32m    339\u001b[0m \u001b[1;33m\u001b[0m\u001b[0m\n\u001b[0;32m    340\u001b[0m \u001b[1;33m\u001b[0m\u001b[0m\n",
      "\u001b[1;32m~\\AppData\\Roaming\\Python\\Python37\\site-packages\\tensorflow\\python\\framework\\constant_op.py\u001b[0m in \u001b[0;36mconstant\u001b[1;34m(value, dtype, shape, name)\u001b[0m\n\u001b[0;32m    262\u001b[0m   \"\"\"\n\u001b[0;32m    263\u001b[0m   return _constant_impl(value, dtype, shape, name, verify_shape=False,\n\u001b[1;32m--> 264\u001b[1;33m                         allow_broadcast=True)\n\u001b[0m\u001b[0;32m    265\u001b[0m \u001b[1;33m\u001b[0m\u001b[0m\n\u001b[0;32m    266\u001b[0m \u001b[1;33m\u001b[0m\u001b[0m\n",
      "\u001b[1;32m~\\AppData\\Roaming\\Python\\Python37\\site-packages\\tensorflow\\python\\framework\\constant_op.py\u001b[0m in \u001b[0;36m_constant_impl\u001b[1;34m(value, dtype, shape, name, verify_shape, allow_broadcast)\u001b[0m\n\u001b[0;32m    273\u001b[0m       \u001b[1;32mwith\u001b[0m \u001b[0mtrace\u001b[0m\u001b[1;33m.\u001b[0m\u001b[0mTrace\u001b[0m\u001b[1;33m(\u001b[0m\u001b[1;34m\"tf.constant\"\u001b[0m\u001b[1;33m)\u001b[0m\u001b[1;33m:\u001b[0m\u001b[1;33m\u001b[0m\u001b[1;33m\u001b[0m\u001b[0m\n\u001b[0;32m    274\u001b[0m         \u001b[1;32mreturn\u001b[0m \u001b[0m_constant_eager_impl\u001b[0m\u001b[1;33m(\u001b[0m\u001b[0mctx\u001b[0m\u001b[1;33m,\u001b[0m \u001b[0mvalue\u001b[0m\u001b[1;33m,\u001b[0m \u001b[0mdtype\u001b[0m\u001b[1;33m,\u001b[0m \u001b[0mshape\u001b[0m\u001b[1;33m,\u001b[0m \u001b[0mverify_shape\u001b[0m\u001b[1;33m)\u001b[0m\u001b[1;33m\u001b[0m\u001b[1;33m\u001b[0m\u001b[0m\n\u001b[1;32m--> 275\u001b[1;33m     \u001b[1;32mreturn\u001b[0m \u001b[0m_constant_eager_impl\u001b[0m\u001b[1;33m(\u001b[0m\u001b[0mctx\u001b[0m\u001b[1;33m,\u001b[0m \u001b[0mvalue\u001b[0m\u001b[1;33m,\u001b[0m \u001b[0mdtype\u001b[0m\u001b[1;33m,\u001b[0m \u001b[0mshape\u001b[0m\u001b[1;33m,\u001b[0m \u001b[0mverify_shape\u001b[0m\u001b[1;33m)\u001b[0m\u001b[1;33m\u001b[0m\u001b[1;33m\u001b[0m\u001b[0m\n\u001b[0m\u001b[0;32m    276\u001b[0m \u001b[1;33m\u001b[0m\u001b[0m\n\u001b[0;32m    277\u001b[0m   \u001b[0mg\u001b[0m \u001b[1;33m=\u001b[0m \u001b[0mops\u001b[0m\u001b[1;33m.\u001b[0m\u001b[0mget_default_graph\u001b[0m\u001b[1;33m(\u001b[0m\u001b[1;33m)\u001b[0m\u001b[1;33m\u001b[0m\u001b[1;33m\u001b[0m\u001b[0m\n",
      "\u001b[1;32m~\\AppData\\Roaming\\Python\\Python37\\site-packages\\tensorflow\\python\\framework\\constant_op.py\u001b[0m in \u001b[0;36m_constant_eager_impl\u001b[1;34m(ctx, value, dtype, shape, verify_shape)\u001b[0m\n\u001b[0;32m    298\u001b[0m \u001b[1;32mdef\u001b[0m \u001b[0m_constant_eager_impl\u001b[0m\u001b[1;33m(\u001b[0m\u001b[0mctx\u001b[0m\u001b[1;33m,\u001b[0m \u001b[0mvalue\u001b[0m\u001b[1;33m,\u001b[0m \u001b[0mdtype\u001b[0m\u001b[1;33m,\u001b[0m \u001b[0mshape\u001b[0m\u001b[1;33m,\u001b[0m \u001b[0mverify_shape\u001b[0m\u001b[1;33m)\u001b[0m\u001b[1;33m:\u001b[0m\u001b[1;33m\u001b[0m\u001b[1;33m\u001b[0m\u001b[0m\n\u001b[0;32m    299\u001b[0m   \u001b[1;34m\"\"\"Implementation of eager constant.\"\"\"\u001b[0m\u001b[1;33m\u001b[0m\u001b[1;33m\u001b[0m\u001b[0m\n\u001b[1;32m--> 300\u001b[1;33m   \u001b[0mt\u001b[0m \u001b[1;33m=\u001b[0m \u001b[0mconvert_to_eager_tensor\u001b[0m\u001b[1;33m(\u001b[0m\u001b[0mvalue\u001b[0m\u001b[1;33m,\u001b[0m \u001b[0mctx\u001b[0m\u001b[1;33m,\u001b[0m \u001b[0mdtype\u001b[0m\u001b[1;33m)\u001b[0m\u001b[1;33m\u001b[0m\u001b[1;33m\u001b[0m\u001b[0m\n\u001b[0m\u001b[0;32m    301\u001b[0m   \u001b[1;32mif\u001b[0m \u001b[0mshape\u001b[0m \u001b[1;32mis\u001b[0m \u001b[1;32mNone\u001b[0m\u001b[1;33m:\u001b[0m\u001b[1;33m\u001b[0m\u001b[1;33m\u001b[0m\u001b[0m\n\u001b[0;32m    302\u001b[0m     \u001b[1;32mreturn\u001b[0m \u001b[0mt\u001b[0m\u001b[1;33m\u001b[0m\u001b[1;33m\u001b[0m\u001b[0m\n",
      "\u001b[1;32m~\\AppData\\Roaming\\Python\\Python37\\site-packages\\tensorflow\\python\\framework\\constant_op.py\u001b[0m in \u001b[0;36mconvert_to_eager_tensor\u001b[1;34m(value, ctx, dtype)\u001b[0m\n\u001b[0;32m     96\u001b[0m       \u001b[0mdtype\u001b[0m \u001b[1;33m=\u001b[0m \u001b[0mdtypes\u001b[0m\u001b[1;33m.\u001b[0m\u001b[0mas_dtype\u001b[0m\u001b[1;33m(\u001b[0m\u001b[0mdtype\u001b[0m\u001b[1;33m)\u001b[0m\u001b[1;33m.\u001b[0m\u001b[0mas_datatype_enum\u001b[0m\u001b[1;33m\u001b[0m\u001b[1;33m\u001b[0m\u001b[0m\n\u001b[0;32m     97\u001b[0m   \u001b[0mctx\u001b[0m\u001b[1;33m.\u001b[0m\u001b[0mensure_initialized\u001b[0m\u001b[1;33m(\u001b[0m\u001b[1;33m)\u001b[0m\u001b[1;33m\u001b[0m\u001b[1;33m\u001b[0m\u001b[0m\n\u001b[1;32m---> 98\u001b[1;33m   \u001b[1;32mreturn\u001b[0m \u001b[0mops\u001b[0m\u001b[1;33m.\u001b[0m\u001b[0mEagerTensor\u001b[0m\u001b[1;33m(\u001b[0m\u001b[0mvalue\u001b[0m\u001b[1;33m,\u001b[0m \u001b[0mctx\u001b[0m\u001b[1;33m.\u001b[0m\u001b[0mdevice_name\u001b[0m\u001b[1;33m,\u001b[0m \u001b[0mdtype\u001b[0m\u001b[1;33m)\u001b[0m\u001b[1;33m\u001b[0m\u001b[1;33m\u001b[0m\u001b[0m\n\u001b[0m\u001b[0;32m     99\u001b[0m \u001b[1;33m\u001b[0m\u001b[0m\n\u001b[0;32m    100\u001b[0m \u001b[1;33m\u001b[0m\u001b[0m\n",
      "\u001b[1;31mValueError\u001b[0m: Failed to convert a NumPy array to a Tensor (Unsupported object type int)."
     ]
    }
   ],
   "source": [
    "# Game move model\n",
    "inputB = Input(shape=(X_train.shape[1],))\n",
    "c = Dense(2, activation='relu')(inputB)\n",
    "c = Dense(4, activation='relu')(c)\n",
    "c = Dense(2, activation='linear')(c)\n",
    "gamemove_model = Model(inputs=inputB, outputs=c)\n",
    "\n",
    "gamemove_model.compile(loss='binary_crossentropy', optimizer='adam', \n",
    "                      metrics=['acc',f1_m,precision_m, recall_m])\n",
    "history = gamemove_model.fit(x=X_train, y=y_train_gamemove, epochs=32, \n",
    "                    batch_size=64, \n",
    "                    validation_split=0.2, callbacks=[callback])\n",
    "loss, accuracy, f1_score, precision, recall = gamemove_model.evaluate(X_test, y_test_gamemove, verbose=0)\n",
    "print(precision, recall, f1_score)\n",
    "\n",
    "y_pred_gamemove = gamemove_model.predict(X_train)\n",
    "y_pred_test_gamemove = gamemove_model.predict(X_test)"
   ]
  },
  {
   "cell_type": "code",
   "execution_count": null,
   "metadata": {},
   "outputs": [],
   "source": [
    "# Reasoning model\n",
    "inputB = Input(shape=(X_train.shape[1],))\n",
    "c = Dense(2, activation='relu')(inputB)\n",
    "c = Dense(4, activation='relu')(c)\n",
    "c = Dense(2, activation='linear')(c)\n",
    "gamemove_model = Model(inputs=inputB, outputs=c)\n",
    "\n",
    "gamemove_model.compile(loss='binary_crossentropy', optimizer='adam', \n",
    "                      metrics=['acc',f1_m,precision_m, recall_m])\n",
    "history = gamemove_model.fit(x=X_train, y=y_train_gamemove, epochs=32, \n",
    "                    batch_size=64, \n",
    "                    validation_split=0.2, callbacks=[callback])\n",
    "loss, accuracy, f1_score, precision, recall = gamemove_model.evaluate(X_test, y_test_gamemove, verbose=0)\n",
    "print(precision, recall, f1_score)\n",
    "\n",
    "y_pred_gamemove = gamemove_model.predict(X_train)\n",
    "y_pred_test_gamemove = gamemove_model.predict(X_test)"
   ]
  },
  {
   "cell_type": "code",
   "execution_count": null,
   "metadata": {},
   "outputs": [],
   "source": []
  },
  {
   "cell_type": "markdown",
   "metadata": {},
   "source": [
    "### Individual classifiers are LSTMs\n",
    "\n",
    "Merge classifiers by Add"
   ]
  },
  {
   "cell_type": "code",
   "execution_count": 90,
   "metadata": {},
   "outputs": [],
   "source": [
    "train, test = train_test_split(df, test_size=0.2)\n",
    "\n",
    "y_train_deception = train['Input.deception_quadrant_cat'].tolist()\n",
    "y_train_rapport = train['affcon_rapport'].tolist()\n",
    "y_train_share_information = train['affcon_shareinformation'].tolist()\n",
    "y_train_reasoning = train['affcon_reasoning'].tolist()\n",
    "y_train_gamemove = train['affcon_gamemove'].tolist()\n",
    "\n",
    "y_test_deception = test['Input.deception_quadrant_cat'].tolist()\n",
    "y_test_rapport = test['affcon_rapport'].tolist()\n",
    "y_test_share_information = test['affcon_shareinformation'].tolist()\n",
    "y_test_reasoning = test['affcon_reasoning'].tolist()\n",
    "y_test_gamemove = test['affcon_gamemove'].tolist()\n",
    "\n",
    "X_train_col = train['Input.full_text']\n",
    "\n",
    "X_test_col = test['Input.full_text']"
   ]
  },
  {
   "cell_type": "code",
   "execution_count": 71,
   "metadata": {},
   "outputs": [],
   "source": [
    "from keras import backend as K\n",
    "\n",
    "def recall_m(y_true, y_pred):\n",
    "    true_positives = K.sum(K.round(K.clip(y_true * y_pred, 0, 1)))\n",
    "    possible_positives = K.sum(K.round(K.clip(y_true, 0, 1)))\n",
    "    recall = true_positives / (possible_positives + K.epsilon())\n",
    "    return recall\n",
    "\n",
    "def precision_m(y_true, y_pred):\n",
    "    true_positives = K.sum(K.round(K.clip(y_true * y_pred, 0, 1)))\n",
    "    predicted_positives = K.sum(K.round(K.clip(y_pred, 0, 1)))\n",
    "    precision = true_positives / (predicted_positives + K.epsilon())\n",
    "    return precision\n",
    "\n",
    "def f1_m(y_true, y_pred):\n",
    "    precision = precision_m(y_true, y_pred)\n",
    "    recall = recall_m(y_true, y_pred)\n",
    "    return 2*((precision*recall)/(precision+recall+K.epsilon()))\n",
    "\n",
    "callback = tf.keras.callbacks.EarlyStopping(\n",
    "    monitor='val_loss', min_delta=0, patience=0, verbose=0, mode='auto',\n",
    "    baseline=None, restore_best_weights=False\n",
    ")"
   ]
  },
  {
   "cell_type": "code",
   "execution_count": 91,
   "metadata": {},
   "outputs": [
    {
     "name": "stderr",
     "output_type": "stream",
     "text": [
      "C:\\Users\\lynne\\anaconda3\\envs\\tf-gpu\\lib\\site-packages\\sklearn\\utils\\validation.py:72: DataConversionWarning: A column-vector y was passed when a 1d array was expected. Please change the shape of y to (n_samples, ), for example using ravel().\n",
      "  return f(**kwargs)\n"
     ]
    }
   ],
   "source": [
    "le = LabelEncoder()\n",
    "\n",
    "y_train_deception = le.fit_transform(y_train_deception)\n",
    "y_train_deception = y_train_deception.reshape(-1,1)\n",
    "\n",
    "y_train_rapport = le.fit_transform(y_train_rapport)\n",
    "y_train_rapport = y_train_rapport.reshape(-1,1)\n",
    "\n",
    "y_train_share_information = le.fit_transform(y_train_share_information)\n",
    "y_train_share_information = y_train_share_information.reshape(-1,1)\n",
    "\n",
    "y_train_reasoning = le.fit_transform(y_train_reasoning)\n",
    "y_train_reasoning = y_train_reasoning.reshape(-1,1)\n",
    "\n",
    "y_train_gamemove = le.fit_transform(y_train_gamemove)\n",
    "y_train_gamemove = y_train_gamemove.reshape(-1,1)\n",
    "\n",
    "y_train_deception = le.fit_transform(y_train_deception)\n",
    "y_train_deception = y_train_deception.reshape(-1,1)\n",
    "\n",
    "y_test_rapport = le.fit_transform(y_test_rapport)\n",
    "y_test_rapport = y_test_rapport.reshape(-1,1)\n",
    "\n",
    "y_test_share_information = le.fit_transform(y_test_share_information)\n",
    "y_test_share_information = y_test_share_information.reshape(-1,1)\n",
    "\n",
    "y_test_reasoning = le.fit_transform(y_test_reasoning)\n",
    "y_test_reasoning = y_test_reasoning.reshape(-1,1)\n",
    "\n",
    "y_test_gamemove = le.fit_transform(y_test_gamemove)\n",
    "y_test_gamemove = y_test_gamemove.reshape(-1,1)\n",
    "\n",
    "y_test_deception = le.fit_transform(y_test_deception)\n",
    "y_test_deception = y_test_deception.reshape(-1,1)"
   ]
  },
  {
   "cell_type": "code",
   "execution_count": 92,
   "metadata": {},
   "outputs": [],
   "source": [
    "max_words = 1000\n",
    "max_len = 220\n",
    "\n",
    "tok = Tokenizer(num_words=max_words)\n",
    "\n",
    "tok.fit_on_texts(X_train_col)\n",
    "X_train_sequences = tok.texts_to_sequences(X_train_col)\n",
    "X_train = pad_sequences(X_train_sequences, maxlen=max_len)\n",
    "\n",
    "tok.fit_on_texts(X_test_col)\n",
    "X_test_sequences = tok.texts_to_sequences(X_test_col)\n",
    "X_test = pad_sequences(X_test_sequences, maxlen=max_len)"
   ]
  },
  {
   "cell_type": "code",
   "execution_count": 93,
   "metadata": {},
   "outputs": [],
   "source": [
    "early_stop = EarlyStopping(monitor='val_loss',min_delta=0.00001)\n",
    "def create_lstm():\n",
    "    Inp = Input(name='inputs', shape=[max_len])\n",
    "    x = Embedding(max_words, 50, input_length=max_len)(Inp)\n",
    "    x = LSTM(64, name='LSTM_01')(x)\n",
    "    x = Dropout(0.5, name='Dropout')(x)\n",
    "    x = Dense(128, activation='relu',name='Dense_01')(x)\n",
    "    # x = Dropout(0.5,name='Dropout')(x)\n",
    "    out = Dense(1,activation='sigmoid', name='output')(x)\n",
    "    model = Model(inputs=Inp, outputs=out)\n",
    "    \n",
    "    return model"
   ]
  },
  {
   "cell_type": "code",
   "execution_count": 94,
   "metadata": {},
   "outputs": [
    {
     "name": "stdout",
     "output_type": "stream",
     "text": [
      "Epoch 1/15\n",
      "99/99 [==============================] - 4s 41ms/step - loss: 0.6676 - accuracy: 0.6028 - f1_m: 0.7494 - recall_m: 0.9906 - precision_m: 0.6056 - val_loss: 0.6620 - val_accuracy: 0.5994 - val_f1_m: 0.7493 - val_recall_m: 0.9995 - val_precision_m: 0.5998\n",
      "Epoch 2/15\n",
      "99/99 [==============================] - 3s 35ms/step - loss: 0.6461 - accuracy: 0.6028 - f1_m: 0.7276 - recall_m: 0.8928 - precision_m: 0.6206 - val_loss: 0.6629 - val_accuracy: 0.5975 - val_f1_m: 0.7427 - val_recall_m: 0.9715 - val_precision_m: 0.6017\n"
     ]
    },
    {
     "data": {
      "text/plain": [
       "<tensorflow.python.keras.callbacks.History at 0x113fe3a6a48>"
      ]
     },
     "execution_count": 94,
     "metadata": {},
     "output_type": "execute_result"
    }
   ],
   "source": [
    "# Rapport model\n",
    "rapport_model = create_lstm()\n",
    "rapport_model.compile(loss='binary_crossentropy',optimizer=RMSprop(),metrics=['accuracy', f1_m, recall_m, precision_m])\n",
    "rapport_model.fit(X_train,y_train_rapport,\n",
    "          batch_size=128,\n",
    "          epochs=15,\n",
    "          validation_data=(X_test, y_test_rapport), callbacks=[early_stop])"
   ]
  },
  {
   "cell_type": "code",
   "execution_count": 95,
   "metadata": {},
   "outputs": [],
   "source": [
    "rapport_pred = rapport_model.predict(X_train)\n",
    "rapport_pred_test = rapport_model.predict(X_test)"
   ]
  },
  {
   "cell_type": "code",
   "execution_count": 108,
   "metadata": {},
   "outputs": [
    {
     "name": "stdout",
     "output_type": "stream",
     "text": [
      "Epoch 1/15\n",
      "99/99 [==============================] - 4s 40ms/step - loss: 0.6000 - accuracy: 0.7171 - f1_m: 0.8335 - recall_m: 0.9946 - precision_m: 0.7188 - val_loss: 0.5979 - val_accuracy: 0.7163 - val_f1_m: 0.8346 - val_recall_m: 1.0000 - val_precision_m: 0.7171\n",
      "Epoch 2/15\n",
      "99/99 [==============================] - 3s 35ms/step - loss: 0.5828 - accuracy: 0.7199 - f1_m: 0.8365 - recall_m: 0.9997 - precision_m: 0.7197 - val_loss: 0.5953 - val_accuracy: 0.7160 - val_f1_m: 0.8343 - val_recall_m: 0.9995 - val_precision_m: 0.7170\n",
      "Epoch 3/15\n",
      "99/99 [==============================] - 3s 35ms/step - loss: 0.5737 - accuracy: 0.7202 - f1_m: 0.8359 - recall_m: 0.9968 - precision_m: 0.7209 - val_loss: 0.6053 - val_accuracy: 0.7138 - val_f1_m: 0.8324 - val_recall_m: 0.9933 - val_precision_m: 0.7172\n"
     ]
    },
    {
     "data": {
      "text/plain": [
       "<tensorflow.python.keras.callbacks.History at 0x1141b23ac48>"
      ]
     },
     "execution_count": 108,
     "metadata": {},
     "output_type": "execute_result"
    }
   ],
   "source": [
    "# Game move model\n",
    "gamemove_model = create_lstm()\n",
    "gamemove_model.compile(loss='binary_crossentropy',optimizer=RMSprop(),metrics=['accuracy', f1_m, recall_m, precision_m])\n",
    "gamemove_model.fit(X_train,y_train_gamemove,\n",
    "          batch_size=128,\n",
    "          epochs=15,\n",
    "          validation_data=(X_test, y_test_gamemove), callbacks=[early_stop])"
   ]
  },
  {
   "cell_type": "code",
   "execution_count": 97,
   "metadata": {},
   "outputs": [],
   "source": [
    "gamemove_pred = gamemove_model.predict(X_train)\n",
    "gamemove_pred_test = gamemove_model.predict(X_test)"
   ]
  },
  {
   "cell_type": "code",
   "execution_count": 98,
   "metadata": {},
   "outputs": [
    {
     "name": "stdout",
     "output_type": "stream",
     "text": [
      "Epoch 1/15\n",
      "99/99 [==============================] - 4s 39ms/step - loss: 0.5571 - accuracy: 0.7609 - f1_m: 0.8627 - recall_m: 0.9957 - precision_m: 0.7626 - val_loss: 0.5446 - val_accuracy: 0.7697 - val_f1_m: 0.8693 - val_recall_m: 1.0000 - val_precision_m: 0.7694\n",
      "Epoch 2/15\n",
      "99/99 [==============================] - 3s 35ms/step - loss: 0.5293 - accuracy: 0.7636 - f1_m: 0.8652 - recall_m: 0.9990 - precision_m: 0.7639 - val_loss: 0.5330 - val_accuracy: 0.7697 - val_f1_m: 0.8685 - val_recall_m: 0.9932 - val_precision_m: 0.7724\n",
      "Epoch 3/15\n",
      "99/99 [==============================] - 3s 35ms/step - loss: 0.5194 - accuracy: 0.7685 - f1_m: 0.8661 - recall_m: 0.9857 - precision_m: 0.7733 - val_loss: 0.5446 - val_accuracy: 0.7602 - val_f1_m: 0.8591 - val_recall_m: 0.9541 - val_precision_m: 0.7822\n"
     ]
    },
    {
     "data": {
      "text/plain": [
       "<tensorflow.python.keras.callbacks.History at 0x114051a6608>"
      ]
     },
     "execution_count": 98,
     "metadata": {},
     "output_type": "execute_result"
    }
   ],
   "source": [
    "# Reasoning model\n",
    "reasoning_model = create_lstm()\n",
    "reasoning_model.compile(loss='binary_crossentropy',optimizer=RMSprop(),metrics=['accuracy', f1_m, recall_m, precision_m])\n",
    "reasoning_model.fit(X_train,y_train_reasoning,\n",
    "          batch_size=128,\n",
    "          epochs=15,\n",
    "          validation_data=(X_test, y_test_reasoning), callbacks=[early_stop])"
   ]
  },
  {
   "cell_type": "code",
   "execution_count": 99,
   "metadata": {},
   "outputs": [],
   "source": [
    "reasoning_pred = reasoning_model.predict(X_train)\n",
    "reasoning_pred_test = reasoning_model.predict(X_test)"
   ]
  },
  {
   "cell_type": "code",
   "execution_count": 100,
   "metadata": {},
   "outputs": [
    {
     "name": "stdout",
     "output_type": "stream",
     "text": [
      "Epoch 1/15\n",
      "99/99 [==============================] - 4s 39ms/step - loss: 0.6808 - accuracy: 0.5557 - f1_m: 0.6170 - recall_m: 0.7302 - precision_m: 0.5704 - val_loss: 0.6844 - val_accuracy: 0.5559 - val_f1_m: 0.5412 - val_recall_m: 0.5005 - val_precision_m: 0.5936\n",
      "Epoch 2/15\n",
      "99/99 [==============================] - 3s 35ms/step - loss: 0.6425 - accuracy: 0.6253 - f1_m: 0.5987 - recall_m: 0.5538 - precision_m: 0.6780 - val_loss: 0.7579 - val_accuracy: 0.5543 - val_f1_m: 0.5753 - val_recall_m: 0.5743 - val_precision_m: 0.5800\n"
     ]
    },
    {
     "data": {
      "text/plain": [
       "<tensorflow.python.keras.callbacks.History at 0x1140defcd48>"
      ]
     },
     "execution_count": 100,
     "metadata": {},
     "output_type": "execute_result"
    }
   ],
   "source": [
    "# Share Information model\n",
    "shareinfo_model = create_lstm()\n",
    "shareinfo_model.compile(loss='binary_crossentropy',optimizer=RMSprop(),metrics=['accuracy', f1_m, recall_m, precision_m])\n",
    "shareinfo_model.fit(X_train,y_train_share_information,\n",
    "          batch_size=128,\n",
    "          epochs=15,\n",
    "          validation_data=(X_test, y_test_share_information), callbacks=[early_stop])"
   ]
  },
  {
   "cell_type": "code",
   "execution_count": 101,
   "metadata": {},
   "outputs": [],
   "source": [
    "shareinfo_pred = shareinfo_model.predict(X_train)\n",
    "shareinfo_pred_test = shareinfo_model.predict(X_test)"
   ]
  },
  {
   "cell_type": "code",
   "execution_count": 102,
   "metadata": {},
   "outputs": [
    {
     "name": "stdout",
     "output_type": "stream",
     "text": [
      "Epoch 1/15\n",
      "99/99 [==============================] - 4s 40ms/step - loss: 0.2271 - accuracy: 0.9454 - f1_m: 0.9715 - recall_m: 0.9968 - precision_m: 0.9484 - val_loss: 0.1926 - val_accuracy: 0.9520 - val_f1_m: 0.9754 - val_recall_m: 1.0000 - val_precision_m: 0.9522\n",
      "Epoch 2/15\n",
      "99/99 [==============================] - 3s 35ms/step - loss: 0.2057 - accuracy: 0.9483 - f1_m: 0.9735 - recall_m: 1.0000 - precision_m: 0.9485 - val_loss: 0.1913 - val_accuracy: 0.9520 - val_f1_m: 0.9754 - val_recall_m: 1.0000 - val_precision_m: 0.9522\n",
      "Epoch 3/15\n",
      "99/99 [==============================] - 3s 35ms/step - loss: 0.1973 - accuracy: 0.9483 - f1_m: 0.9734 - recall_m: 1.0000 - precision_m: 0.9483 - val_loss: 0.1930 - val_accuracy: 0.9520 - val_f1_m: 0.9754 - val_recall_m: 1.0000 - val_precision_m: 0.9522\n"
     ]
    },
    {
     "data": {
      "text/plain": [
       "<tensorflow.python.keras.callbacks.History at 0x1141315de88>"
      ]
     },
     "execution_count": 102,
     "metadata": {},
     "output_type": "execute_result"
    }
   ],
   "source": [
    "# Deception model\n",
    "deception_model = create_lstm()\n",
    "deception_model.compile(loss='binary_crossentropy',optimizer=RMSprop(),metrics=['accuracy', f1_m, recall_m, precision_m])\n",
    "deception_model.fit(X_train,y_train_deception,\n",
    "          batch_size=128,\n",
    "          epochs=15,\n",
    "          validation_data=(X_test, y_test_deception), callbacks=[early_stop])"
   ]
  },
  {
   "cell_type": "code",
   "execution_count": 103,
   "metadata": {},
   "outputs": [],
   "source": [
    "# One hot encoding\n",
    "pred_df_arr = []\n",
    "for i in range(0, len(gamemove_pred)):\n",
    "    pred_obj = {}\n",
    "    pred_obj['gamemove'] = gamemove_pred[i][0]\n",
    "    pred_obj['reasoning'] = reasoning_pred[i][0]\n",
    "    pred_obj['shareinfo'] = shareinfo_pred[i][0]\n",
    "    pred_obj['rapport'] = rapport_pred[i][0]\n",
    "    \n",
    "    pred_df_arr.append(pred_obj)\n",
    "    \n",
    "pred_df = pd.DataFrame(pred_df_arr)"
   ]
  },
  {
   "cell_type": "code",
   "execution_count": 104,
   "metadata": {},
   "outputs": [],
   "source": [
    "pred_test_df_arr = []\n",
    "for i in range(0, len(gamemove_pred_test)):\n",
    "    pred_obj = {}\n",
    "    pred_obj['gamemove'] = gamemove_pred_test[i][0]\n",
    "    pred_obj['reasoning'] = reasoning_pred_test[i][0]\n",
    "    pred_obj['shareinfo'] = shareinfo_pred_test[i][0]\n",
    "    pred_obj['rapport'] = rapport_pred_test[i][0]\n",
    "    \n",
    "    pred_test_df_arr.append(pred_obj)\n",
    "    \n",
    "pred_test_df = pd.DataFrame(pred_test_df_arr)"
   ]
  },
  {
   "cell_type": "code",
   "execution_count": 112,
   "metadata": {},
   "outputs": [
    {
     "data": {
      "text/html": [
       "<div>\n",
       "<style scoped>\n",
       "    .dataframe tbody tr th:only-of-type {\n",
       "        vertical-align: middle;\n",
       "    }\n",
       "\n",
       "    .dataframe tbody tr th {\n",
       "        vertical-align: top;\n",
       "    }\n",
       "\n",
       "    .dataframe thead th {\n",
       "        text-align: right;\n",
       "    }\n",
       "</style>\n",
       "<table border=\"1\" class=\"dataframe\">\n",
       "  <thead>\n",
       "    <tr style=\"text-align: right;\">\n",
       "      <th></th>\n",
       "      <th>gamemove</th>\n",
       "      <th>reasoning</th>\n",
       "      <th>shareinfo</th>\n",
       "      <th>rapport</th>\n",
       "    </tr>\n",
       "  </thead>\n",
       "  <tbody>\n",
       "    <tr>\n",
       "      <th>0</th>\n",
       "      <td>0.709489</td>\n",
       "      <td>0.840170</td>\n",
       "      <td>0.837677</td>\n",
       "      <td>0.639576</td>\n",
       "    </tr>\n",
       "    <tr>\n",
       "      <th>1</th>\n",
       "      <td>0.683541</td>\n",
       "      <td>0.853558</td>\n",
       "      <td>0.680558</td>\n",
       "      <td>0.623211</td>\n",
       "    </tr>\n",
       "    <tr>\n",
       "      <th>2</th>\n",
       "      <td>0.577929</td>\n",
       "      <td>0.632894</td>\n",
       "      <td>0.490597</td>\n",
       "      <td>0.564213</td>\n",
       "    </tr>\n",
       "    <tr>\n",
       "      <th>3</th>\n",
       "      <td>0.711058</td>\n",
       "      <td>0.816315</td>\n",
       "      <td>0.778096</td>\n",
       "      <td>0.708829</td>\n",
       "    </tr>\n",
       "    <tr>\n",
       "      <th>4</th>\n",
       "      <td>0.618718</td>\n",
       "      <td>0.720346</td>\n",
       "      <td>0.556693</td>\n",
       "      <td>0.500282</td>\n",
       "    </tr>\n",
       "  </tbody>\n",
       "</table>\n",
       "</div>"
      ],
      "text/plain": [
       "   gamemove  reasoning  shareinfo   rapport\n",
       "0  0.709489   0.840170   0.837677  0.639576\n",
       "1  0.683541   0.853558   0.680558  0.623211\n",
       "2  0.577929   0.632894   0.490597  0.564213\n",
       "3  0.711058   0.816315   0.778096  0.708829\n",
       "4  0.618718   0.720346   0.556693  0.500282"
      ]
     },
     "execution_count": 112,
     "metadata": {},
     "output_type": "execute_result"
    }
   ],
   "source": [
    "pred_df.head()"
   ]
  },
  {
   "cell_type": "code",
   "execution_count": 113,
   "metadata": {},
   "outputs": [],
   "source": [
    "from sklearn.utils import class_weight\n",
    "class_weight = {'gamemove': 50,\n",
    "                'reasoning': 50.,\n",
    "                'shareinfo': 10, 'rapport': 2}"
   ]
  },
  {
   "cell_type": "code",
   "execution_count": 121,
   "metadata": {},
   "outputs": [
    {
     "name": "stdout",
     "output_type": "stream",
     "text": [
      "Epoch 1/32\n",
      "158/158 [==============================] - 1s 5ms/step - loss: 0.6931 - acc: 0.2623 - f1_m: 0.9698 - precision_m: 0.9499 - recall_m: 0.9947 - val_loss: 0.6931 - val_acc: 0.9412 - val_f1_m: 0.9688 - val_precision_m: 0.9400 - val_recall_m: 1.0000\n",
      "Epoch 2/32\n",
      "158/158 [==============================] - 1s 4ms/step - loss: 0.6931 - acc: 0.4348 - f1_m: 0.9742 - precision_m: 0.9501 - recall_m: 1.0000 - val_loss: 0.6931 - val_acc: 0.9412 - val_f1_m: 0.9688 - val_precision_m: 0.9400 - val_recall_m: 1.0000\n",
      "Epoch 3/32\n",
      "158/158 [==============================] - 1s 4ms/step - loss: 0.6931 - acc: 0.4581 - f1_m: 0.9742 - precision_m: 0.9501 - recall_m: 1.0000 - val_loss: 0.6931 - val_acc: 0.0608 - val_f1_m: 0.9688 - val_precision_m: 0.9400 - val_recall_m: 1.0000\n"
     ]
    }
   ],
   "source": [
    "inputB = Input(shape=(pred_df.shape[1],))\n",
    "c = Dense(2, activation='relu')(inputB)\n",
    "c = Dense(4, activation='relu')(c)\n",
    "c = Dense(2, activation='softmax')(c)\n",
    "full_model_weight = Model(inputs=inputB, outputs=c)\n",
    "\n",
    "full_model_weight.compile(loss='binary_crossentropy', optimizer='adam', \n",
    "                      metrics=['acc',f1_m,precision_m, recall_m])\n",
    "\n",
    "history = full_model_weight.fit(x=pred_df, y=y_train_deception, epochs=32, \n",
    "                    batch_size=64, \n",
    "                    validation_split=0.2, callbacks=[callback])"
   ]
  },
  {
   "cell_type": "code",
   "execution_count": 118,
   "metadata": {},
   "outputs": [
    {
     "name": "stdout",
     "output_type": "stream",
     "text": [
      "Epoch 1/32\n",
      "158/158 [==============================] - 1s 5ms/step - loss: 0.9902 - acc: 0.0499 - f1_m: 0.9740 - precision_m: 0.9498 - recall_m: 1.0000 - val_loss: 0.7750 - val_acc: 0.0588 - val_f1_m: 0.9688 - val_precision_m: 0.9400 - val_recall_m: 1.0000\n",
      "Epoch 2/32\n",
      "158/158 [==============================] - 1s 3ms/step - loss: 0.7255 - acc: 0.0623 - f1_m: 0.9743 - precision_m: 0.9503 - recall_m: 1.0000 - val_loss: 0.7021 - val_acc: 0.1195 - val_f1_m: 0.9688 - val_precision_m: 0.9400 - val_recall_m: 1.0000\n",
      "Epoch 3/32\n",
      "158/158 [==============================] - 1s 3ms/step - loss: 0.6974 - acc: 0.2384 - f1_m: 0.9741 - precision_m: 0.9499 - recall_m: 1.0000 - val_loss: 0.6954 - val_acc: 0.3642 - val_f1_m: 0.9688 - val_precision_m: 0.9400 - val_recall_m: 1.0000\n",
      "Epoch 4/32\n",
      "158/158 [==============================] - 1s 3ms/step - loss: 0.6950 - acc: 0.4377 - f1_m: 0.9742 - precision_m: 0.9501 - recall_m: 1.0000 - val_loss: 0.6949 - val_acc: 0.4877 - val_f1_m: 0.9688 - val_precision_m: 0.9400 - val_recall_m: 1.0000\n",
      "Epoch 5/32\n",
      "158/158 [==============================] - 1s 3ms/step - loss: 0.6947 - acc: 0.5175 - f1_m: 0.9740 - precision_m: 0.9498 - recall_m: 1.0000 - val_loss: 0.6947 - val_acc: 0.5290 - val_f1_m: 0.9688 - val_precision_m: 0.9400 - val_recall_m: 1.0000\n",
      "Epoch 6/32\n",
      "158/158 [==============================] - 1s 3ms/step - loss: 0.6945 - acc: 0.5391 - f1_m: 0.9742 - precision_m: 0.9501 - recall_m: 1.0000 - val_loss: 0.6945 - val_acc: 0.5258 - val_f1_m: 0.9688 - val_precision_m: 0.9400 - val_recall_m: 1.0000\n",
      "Epoch 7/32\n",
      "158/158 [==============================] - 1s 4ms/step - loss: 0.6944 - acc: 0.5180 - f1_m: 0.9739 - precision_m: 0.9496 - recall_m: 1.0000 - val_loss: 0.6944 - val_acc: 0.5123 - val_f1_m: 0.9688 - val_precision_m: 0.9400 - val_recall_m: 1.0000\n",
      "Epoch 8/32\n",
      "158/158 [==============================] - 1s 3ms/step - loss: 0.6943 - acc: 0.5069 - f1_m: 0.9741 - precision_m: 0.9499 - recall_m: 1.0000 - val_loss: 0.6943 - val_acc: 0.5032 - val_f1_m: 0.9688 - val_precision_m: 0.9400 - val_recall_m: 1.0000\n",
      "Epoch 9/32\n",
      "158/158 [==============================] - 1s 3ms/step - loss: 0.6943 - acc: 0.4998 - f1_m: 0.9742 - precision_m: 0.9501 - recall_m: 1.0000 - val_loss: 0.6943 - val_acc: 0.4821 - val_f1_m: 0.9688 - val_precision_m: 0.9400 - val_recall_m: 1.0000\n",
      "Epoch 10/32\n",
      "158/158 [==============================] - 1s 3ms/step - loss: 0.6942 - acc: 0.4943 - f1_m: 0.9741 - precision_m: 0.9499 - recall_m: 1.0000 - val_loss: 0.6941 - val_acc: 0.4944 - val_f1_m: 0.9688 - val_precision_m: 0.9400 - val_recall_m: 1.0000\n",
      "Epoch 11/32\n",
      "158/158 [==============================] - 1s 3ms/step - loss: 0.6940 - acc: 0.5052 - f1_m: 0.9743 - precision_m: 0.9503 - recall_m: 1.0000 - val_loss: 0.6940 - val_acc: 0.5079 - val_f1_m: 0.9688 - val_precision_m: 0.9400 - val_recall_m: 1.0000\n",
      "Epoch 12/32\n",
      "158/158 [==============================] - 1s 3ms/step - loss: 0.6939 - acc: 0.5103 - f1_m: 0.9741 - precision_m: 0.9499 - recall_m: 1.0000 - val_loss: 0.6939 - val_acc: 0.4944 - val_f1_m: 0.9688 - val_precision_m: 0.9400 - val_recall_m: 1.0000\n",
      "Epoch 13/32\n",
      "158/158 [==============================] - 1s 3ms/step - loss: 0.6938 - acc: 0.5144 - f1_m: 0.9743 - precision_m: 0.9503 - recall_m: 1.0000 - val_loss: 0.6938 - val_acc: 0.4984 - val_f1_m: 0.9688 - val_precision_m: 0.9400 - val_recall_m: 1.0000\n",
      "Epoch 14/32\n",
      "158/158 [==============================] - 1s 4ms/step - loss: 0.6937 - acc: 0.5222 - f1_m: 0.9740 - precision_m: 0.9499 - recall_m: 1.0000 - val_loss: 0.6937 - val_acc: 0.5187 - val_f1_m: 0.9688 - val_precision_m: 0.9400 - val_recall_m: 1.0000\n",
      "Epoch 15/32\n",
      "158/158 [==============================] - 1s 3ms/step - loss: 0.6936 - acc: 0.5314 - f1_m: 0.9743 - precision_m: 0.9503 - recall_m: 1.0000 - val_loss: 0.6936 - val_acc: 0.5218 - val_f1_m: 0.9688 - val_precision_m: 0.9400 - val_recall_m: 1.0000\n",
      "Epoch 16/32\n",
      "158/158 [==============================] - 1s 3ms/step - loss: 0.6935 - acc: 0.5365 - f1_m: 0.9741 - precision_m: 0.9499 - recall_m: 1.0000 - val_loss: 0.6935 - val_acc: 0.4885 - val_f1_m: 0.9688 - val_precision_m: 0.9400 - val_recall_m: 1.0000\n",
      "Epoch 17/32\n",
      "158/158 [==============================] - 1s 3ms/step - loss: 0.6935 - acc: 0.5376 - f1_m: 0.9740 - precision_m: 0.9498 - recall_m: 1.0000 - val_loss: 0.6934 - val_acc: 0.5056 - val_f1_m: 0.9688 - val_precision_m: 0.9400 - val_recall_m: 1.0000\n",
      "Epoch 18/32\n",
      "158/158 [==============================] - 1s 3ms/step - loss: 0.6934 - acc: 0.5415 - f1_m: 0.9740 - precision_m: 0.9498 - recall_m: 1.0000 - val_loss: 0.6934 - val_acc: 0.5044 - val_f1_m: 0.9688 - val_precision_m: 0.9400 - val_recall_m: 1.0000\n",
      "Epoch 19/32\n",
      "158/158 [==============================] - 1s 3ms/step - loss: 0.6934 - acc: 0.5432 - f1_m: 0.9743 - precision_m: 0.9503 - recall_m: 1.0000 - val_loss: 0.6934 - val_acc: 0.5123 - val_f1_m: 0.9688 - val_precision_m: 0.9400 - val_recall_m: 1.0000\n",
      "Epoch 20/32\n",
      "158/158 [==============================] - 1s 3ms/step - loss: 0.6933 - acc: 0.5460 - f1_m: 0.9743 - precision_m: 0.9503 - recall_m: 1.0000 - val_loss: 0.6933 - val_acc: 0.5075 - val_f1_m: 0.9688 - val_precision_m: 0.9400 - val_recall_m: 1.0000\n",
      "Epoch 21/32\n",
      "158/158 [==============================] - 1s 4ms/step - loss: 0.6933 - acc: 0.5451 - f1_m: 0.9742 - precision_m: 0.9501 - recall_m: 1.0000 - val_loss: 0.6933 - val_acc: 0.5060 - val_f1_m: 0.9688 - val_precision_m: 0.9400 - val_recall_m: 1.0000\n",
      "Epoch 22/32\n",
      "158/158 [==============================] - 1s 4ms/step - loss: 0.6933 - acc: 0.5429 - f1_m: 0.9741 - precision_m: 0.9499 - recall_m: 1.0000 - val_loss: 0.6933 - val_acc: 0.5433 - val_f1_m: 0.9688 - val_precision_m: 0.9400 - val_recall_m: 1.0000\n",
      "Epoch 23/32\n",
      "158/158 [==============================] - 1s 3ms/step - loss: 0.6932 - acc: 0.5435 - f1_m: 0.9742 - precision_m: 0.9501 - recall_m: 1.0000 - val_loss: 0.6932 - val_acc: 0.5147 - val_f1_m: 0.9688 - val_precision_m: 0.9400 - val_recall_m: 1.0000\n",
      "Epoch 24/32\n",
      "158/158 [==============================] - 1s 4ms/step - loss: 0.6932 - acc: 0.5407 - f1_m: 0.9742 - precision_m: 0.9501 - recall_m: 1.0000 - val_loss: 0.6932 - val_acc: 0.4865 - val_f1_m: 0.9688 - val_precision_m: 0.9400 - val_recall_m: 1.0000\n",
      "Epoch 25/32\n",
      "158/158 [==============================] - 1s 4ms/step - loss: 0.6932 - acc: 0.5352 - f1_m: 0.9740 - precision_m: 0.9498 - recall_m: 1.0000 - val_loss: 0.6932 - val_acc: 0.5123 - val_f1_m: 0.9688 - val_precision_m: 0.9400 - val_recall_m: 1.0000\n",
      "Epoch 26/32\n",
      "158/158 [==============================] - 1s 3ms/step - loss: 0.6932 - acc: 0.5323 - f1_m: 0.9741 - precision_m: 0.9499 - recall_m: 1.0000 - val_loss: 0.6932 - val_acc: 0.4809 - val_f1_m: 0.9688 - val_precision_m: 0.9400 - val_recall_m: 1.0000\n",
      "Epoch 27/32\n",
      "158/158 [==============================] - 1s 3ms/step - loss: 0.6932 - acc: 0.5269 - f1_m: 0.9742 - precision_m: 0.9501 - recall_m: 1.0000 - val_loss: 0.6932 - val_acc: 0.5290 - val_f1_m: 0.9688 - val_precision_m: 0.9400 - val_recall_m: 1.0000\n",
      "Epoch 28/32\n",
      "158/158 [==============================] - 1s 3ms/step - loss: 0.6932 - acc: 0.5239 - f1_m: 0.9740 - precision_m: 0.9498 - recall_m: 1.0000 - val_loss: 0.6932 - val_acc: 0.5564 - val_f1_m: 0.9688 - val_precision_m: 0.9400 - val_recall_m: 1.0000\n",
      "Epoch 29/32\n",
      "158/158 [==============================] - 1s 3ms/step - loss: 0.6932 - acc: 0.5220 - f1_m: 0.9743 - precision_m: 0.9503 - recall_m: 1.0000 - val_loss: 0.6932 - val_acc: 0.4893 - val_f1_m: 0.9688 - val_precision_m: 0.9400 - val_recall_m: 1.0000\n",
      "Epoch 30/32\n",
      "158/158 [==============================] - 1s 3ms/step - loss: 0.6932 - acc: 0.5182 - f1_m: 0.9742 - precision_m: 0.9501 - recall_m: 1.0000 - val_loss: 0.6932 - val_acc: 0.5226 - val_f1_m: 0.9688 - val_precision_m: 0.9400 - val_recall_m: 1.0000\n",
      "Epoch 31/32\n",
      "158/158 [==============================] - 1s 3ms/step - loss: 0.6932 - acc: 0.5153 - f1_m: 0.9742 - precision_m: 0.9501 - recall_m: 1.0000 - val_loss: 0.6932 - val_acc: 0.4778 - val_f1_m: 0.9688 - val_precision_m: 0.9400 - val_recall_m: 1.0000\n",
      "Epoch 32/32\n",
      "158/158 [==============================] - 1s 4ms/step - loss: 0.6932 - acc: 0.5122 - f1_m: 0.9743 - precision_m: 0.9503 - recall_m: 1.0000 - val_loss: 0.6932 - val_acc: 0.5361 - val_f1_m: 0.9688 - val_precision_m: 0.9400 - val_recall_m: 1.0000\n"
     ]
    }
   ],
   "source": [
    "# Joint Model with one hot encoding \n",
    "inputB = Input(shape=(pred_df.shape[1],))\n",
    "c = Dense(2, activation='relu')(inputB)\n",
    "c = Dense(4, activation='relu')(c)\n",
    "c = Dense(2, activation='softmax')(c)\n",
    "full_model = Model(inputs=inputB, outputs=c)\n",
    "\n",
    "full_model.compile(loss='binary_crossentropy', optimizer='adam', \n",
    "                      metrics=['acc',f1_m,precision_m, recall_m])\n",
    "history = full_model.fit(x=pred_df, y=y_train_deception, epochs=32, \n",
    "                    batch_size=64, \n",
    "                    validation_split=0.2, callbacks=[callback])"
   ]
  },
  {
   "cell_type": "code",
   "execution_count": 109,
   "metadata": {},
   "outputs": [
    {
     "name": "stdout",
     "output_type": "stream",
     "text": [
      "Epoch 1/15\n",
      "79/79 [==============================] - 3s 35ms/step - loss: 0.2425 - accuracy: 0.9423 - f1_m: 0.9692 - recall_m: 0.9916 - precision_m: 0.9502 - val_loss: 0.2294 - val_accuracy: 0.9412 - val_f1_m: 0.9693 - val_recall_m: 1.0000 - val_precision_m: 0.9407\n",
      "Epoch 2/15\n",
      "79/79 [==============================] - 3s 35ms/step - loss: 0.2008 - accuracy: 0.9501 - f1_m: 0.9744 - recall_m: 1.0000 - precision_m: 0.9503 - val_loss: 0.2459 - val_accuracy: 0.9412 - val_f1_m: 0.9693 - val_recall_m: 1.0000 - val_precision_m: 0.9407\n"
     ]
    },
    {
     "data": {
      "text/plain": [
       "<tensorflow.python.keras.callbacks.History at 0x11421ad6188>"
      ]
     },
     "execution_count": 109,
     "metadata": {},
     "output_type": "execute_result"
    }
   ],
   "source": [
    "# Joint Model with model Add\n",
    "commonInput = Input(shape=[max_len])\n",
    "\n",
    "out1 = gamemove_model(commonInput)    \n",
    "out2 = reasoning_model(commonInput)   \n",
    "out3 = shareinfo_model(commonInput)\n",
    "out4 = rapport_model(commonInput)\n",
    "mergedOut = Add()([out1,out2,out3,out4])\n",
    "\n",
    "mergedOut = Flatten()(mergedOut)    \n",
    "mergedOut = Dense(256, activation='relu')(mergedOut)\n",
    "mergedOut = Dropout(.5)(mergedOut)\n",
    "mergedOut = Dense(128, activation='relu')(mergedOut)\n",
    "mergedOut = Dropout(.35)(mergedOut)\n",
    "mergedOut = Dense(2, activation='softmax')(mergedOut)  #Cuz binary\n",
    "\n",
    "mergedModel = Model(commonInput, mergedOut)\n",
    "mergedModel.compile(loss='binary_crossentropy', optimizer=RMSprop(), metrics=['accuracy', f1_m, recall_m, precision_m])\n",
    "shareinfo_model.fit(X_train,y_train_deception,\n",
    "          batch_size=128,\n",
    "          epochs=15,\n",
    "          validation_split=0.2, callbacks=[early_stop])"
   ]
  }
 ],
 "metadata": {
  "kernelspec": {
   "display_name": "tfgpu",
   "language": "python",
   "name": "tfgpu"
  },
  "language_info": {
   "codemirror_mode": {
    "name": "ipython",
    "version": 3
   },
   "file_extension": ".py",
   "mimetype": "text/x-python",
   "name": "python",
   "nbconvert_exporter": "python",
   "pygments_lexer": "ipython3",
   "version": "3.7.9"
  }
 },
 "nbformat": 4,
 "nbformat_minor": 4
}
