{
 "cells": [
  {
   "cell_type": "code",
   "execution_count": 90,
   "metadata": {},
   "outputs": [],
   "source": [
    "import pandas as pd\n",
    "import numpy as np\n",
    "\n",
    "from tensorflow.keras.utils import to_categorical\n",
    "from tensorflow.keras.layers import LSTM, Input, InputLayer, Dropout, Dense, Flatten, Embedding, Add, Concatenate\n",
    "from tensorflow.keras import Sequential\n",
    "from tensorflow.keras.models import Model\n",
    "from tensorflow.keras.callbacks import EarlyStopping\n",
    "import tensorflow as tf\n",
    "\n",
    "from sklearn.ensemble import RandomForestClassifier\n",
    "from sklearn.model_selection import train_test_split\n",
    "from sklearn.metrics import classification_report\n",
    "from tensorflow.keras.preprocessing.text import Tokenizer\n",
    "from sklearn.preprocessing import LabelEncoder\n",
    "from keras.preprocessing.sequence import pad_sequences\n",
    "from tensorflow.keras.optimizers import RMSprop"
   ]
  },
  {
   "cell_type": "code",
   "execution_count": 45,
   "metadata": {},
   "outputs": [],
   "source": [
    "# Good data\n",
    "df = pd.read_csv('./data/kokil dec 6 reprepare/affcon_final_with_linguistics.csv')"
   ]
  },
  {
   "cell_type": "code",
   "execution_count": 71,
   "metadata": {},
   "outputs": [],
   "source": [
    "# Messy data\n",
    "df = pd.read_csv('./data/affcon_final_politeness_strategies_merge.csv')"
   ]
  },
  {
   "cell_type": "code",
   "execution_count": 60,
   "metadata": {},
   "outputs": [],
   "source": [
    "df = df.dropna()"
   ]
  },
  {
   "cell_type": "code",
   "execution_count": 106,
   "metadata": {},
   "outputs": [],
   "source": [
    "train, test = train_test_split(df, test_size=0.2)\n",
    "\n",
    "y_train_deception = to_categorical(train['Input.deception_quadrant_cat'].tolist())\n",
    "y_train_rapport_c = to_categorical(train['affcon_rapport'].tolist())\n",
    "y_train_rapport = train['affcon_rapport'].tolist()\n",
    "y_train_share_information = train['affcon_shareinformation'].tolist()\n",
    "y_train_reasoning = train['affcon_reasoning'].tolist()\n",
    "y_train_gamemove = train['affcon_gamemove'].tolist()\n",
    "\n",
    "y_test_deception = to_categorical(test['Input.deception_quadrant_cat'].tolist())\n",
    "y_test_rapport_c = to_categorical(test['affcon_rapport'].tolist())\n",
    "y_test_rapport = test['affcon_rapport'].tolist()\n",
    "y_test_share_information = test['affcon_shareinformation'].tolist()\n",
    "y_test_reasoning = test['affcon_reasoning'].tolist()\n",
    "y_test_gamemove = test['affcon_gamemove'].tolist()\n",
    "\n",
    "X_train = train.drop(columns=['affcon_gamemove', 'affcon_reasoning',\n",
    "                              'affcon_rapport', 'affcon_shareinformation', 'Input.deception_quadrant',\n",
    "                              'Input.deception_quadrant_cat'])\n",
    "\n",
    "X_test = test.drop(columns=['affcon_gamemove', 'affcon_reasoning',\n",
    "                              'affcon_rapport', 'affcon_shareinformation', 'Input.deception_quadrant',\n",
    "                              'Input.deception_quadrant_cat'])"
   ]
  },
  {
   "cell_type": "markdown",
   "metadata": {},
   "source": [
    "### Individual classifiers are Random Forests"
   ]
  },
  {
   "cell_type": "code",
   "execution_count": 83,
   "metadata": {},
   "outputs": [
    {
     "name": "stdout",
     "output_type": "stream",
     "text": [
      "              precision    recall  f1-score   support\n",
      "\n",
      "         0.0       0.00      0.00      0.00         0\n",
      "         1.0       1.00      0.84      0.91      3210\n",
      "\n",
      "    accuracy                           0.84      3210\n",
      "   macro avg       0.50      0.42      0.46      3210\n",
      "weighted avg       1.00      0.84      0.91      3210\n",
      "\n"
     ]
    },
    {
     "name": "stderr",
     "output_type": "stream",
     "text": [
      "C:\\Users\\lynne\\anaconda3\\envs\\tf-gpu\\lib\\site-packages\\sklearn\\metrics\\_classification.py:1221: UndefinedMetricWarning: Recall and F-score are ill-defined and being set to 0.0 in labels with no true samples. Use `zero_division` parameter to control this behavior.\n",
      "  _warn_prf(average, modifier, msg_start, len(result))\n"
     ]
    }
   ],
   "source": [
    "# Game move classifier\n",
    "clf_gamemove = RandomForestClassifier(max_depth=2, random_state=0)\n",
    "clf_gamemove.fit(X_train, y_train_gamemove)\n",
    "y_pred_gamemove = clf_gamemove.predict(X_train)\n",
    "y_pred_test_gamemove = clf_gamemove.predict(X_test)\n",
    "print(classification_report(y_pred_gamemove, y_train_gamemove))"
   ]
  },
  {
   "cell_type": "code",
   "execution_count": 107,
   "metadata": {},
   "outputs": [
    {
     "name": "stdout",
     "output_type": "stream",
     "text": [
      "              precision    recall  f1-score   support\n",
      "\n",
      "         0.0       0.00      0.00      0.00         0\n",
      "         1.0       1.00      0.83      0.91      3210\n",
      "\n",
      "    accuracy                           0.83      3210\n",
      "   macro avg       0.50      0.42      0.45      3210\n",
      "weighted avg       1.00      0.83      0.91      3210\n",
      "\n"
     ]
    },
    {
     "name": "stderr",
     "output_type": "stream",
     "text": [
      "C:\\Users\\lynne\\anaconda3\\envs\\tf-gpu\\lib\\site-packages\\sklearn\\metrics\\_classification.py:1221: UndefinedMetricWarning: Recall and F-score are ill-defined and being set to 0.0 in labels with no true samples. Use `zero_division` parameter to control this behavior.\n",
      "  _warn_prf(average, modifier, msg_start, len(result))\n"
     ]
    }
   ],
   "source": [
    "# Rapport classifier\n",
    "clf_rapport = RandomForestClassifier(max_depth=2, random_state=0)\n",
    "clf_rapport.fit(X_train, y_train_rapport)\n",
    "y_pred_rapport = clf_rapport.predict(X_train)\n",
    "y_pred_test_rapport = clf_rapport.predict(X_test)\n",
    "print(classification_report(y_pred_rapport, y_train_rapport))"
   ]
  },
  {
   "cell_type": "code",
   "execution_count": 85,
   "metadata": {},
   "outputs": [
    {
     "name": "stdout",
     "output_type": "stream",
     "text": [
      "              precision    recall  f1-score   support\n",
      "\n",
      "         0.0       0.00      0.00      0.00         0\n",
      "         1.0       1.00      0.81      0.89      3210\n",
      "\n",
      "    accuracy                           0.81      3210\n",
      "   macro avg       0.50      0.40      0.45      3210\n",
      "weighted avg       1.00      0.81      0.89      3210\n",
      "\n"
     ]
    },
    {
     "name": "stderr",
     "output_type": "stream",
     "text": [
      "C:\\Users\\lynne\\anaconda3\\envs\\tf-gpu\\lib\\site-packages\\sklearn\\metrics\\_classification.py:1221: UndefinedMetricWarning: Recall and F-score are ill-defined and being set to 0.0 in labels with no true samples. Use `zero_division` parameter to control this behavior.\n",
      "  _warn_prf(average, modifier, msg_start, len(result))\n"
     ]
    }
   ],
   "source": [
    "# Share Information classifier\n",
    "clf_shareinfo = RandomForestClassifier(max_depth=2, random_state=0)\n",
    "clf_shareinfo.fit(X_train, y_train_share_information)\n",
    "y_pred_shareinfo = clf_shareinfo.predict(X_train)\n",
    "y_pred_test_shareinfo = clf_shareinfo.predict(X_test)\n",
    "print(classification_report(y_pred_shareinfo, y_train_share_information))"
   ]
  },
  {
   "cell_type": "code",
   "execution_count": 86,
   "metadata": {},
   "outputs": [
    {
     "name": "stdout",
     "output_type": "stream",
     "text": [
      "              precision    recall  f1-score   support\n",
      "\n",
      "         0.0       0.00      0.00      0.00         0\n",
      "         1.0       1.00      0.80      0.89      3210\n",
      "\n",
      "    accuracy                           0.80      3210\n",
      "   macro avg       0.50      0.40      0.44      3210\n",
      "weighted avg       1.00      0.80      0.89      3210\n",
      "\n"
     ]
    },
    {
     "name": "stderr",
     "output_type": "stream",
     "text": [
      "C:\\Users\\lynne\\anaconda3\\envs\\tf-gpu\\lib\\site-packages\\sklearn\\metrics\\_classification.py:1221: UndefinedMetricWarning: Recall and F-score are ill-defined and being set to 0.0 in labels with no true samples. Use `zero_division` parameter to control this behavior.\n",
      "  _warn_prf(average, modifier, msg_start, len(result))\n"
     ]
    }
   ],
   "source": [
    "# Reasoning classifier\n",
    "clf_reasoning = RandomForestClassifier(max_depth=2, random_state=0)\n",
    "clf_reasoning.fit(X_train, y_train_reasoning)\n",
    "y_pred_reasoning = clf_reasoning.predict(X_train)\n",
    "y_pred_test_reasoning = clf_reasoning.predict(X_test)\n",
    "print(classification_report(y_pred_reasoning, y_train_reasoning))"
   ]
  },
  {
   "cell_type": "code",
   "execution_count": 109,
   "metadata": {},
   "outputs": [],
   "source": [
    "pred_df_arr = []\n",
    "for i in range(0, len(y_pred_gamemove)):\n",
    "    pred_obj = {}\n",
    "    pred_obj['gamemove'] = y_pred_gamemove[i]\n",
    "    pred_obj['reasoning'] = y_pred_reasoning[i]\n",
    "    pred_obj['shareinfo'] = y_pred_shareinfo[i]\n",
    "    pred_obj['rapport'] = y_pred_rapport[i]\n",
    "    \n",
    "    pred_df_arr.append(pred_obj)\n",
    "    \n",
    "pred_df = pd.DataFrame(pred_df_arr)"
   ]
  },
  {
   "cell_type": "code",
   "execution_count": 110,
   "metadata": {},
   "outputs": [],
   "source": [
    "pred_test_df_arr = []\n",
    "for i in range(0, len(y_pred_test_gamemove)):\n",
    "    pred_obj = {}\n",
    "    pred_obj['gamemove'] = y_pred_test_gamemove[i]\n",
    "    pred_obj['reasoning'] = y_pred_test_reasoning[i]\n",
    "    pred_obj['shareinfo'] = y_pred_test_shareinfo[i]\n",
    "    pred_obj['rapport'] = y_pred_test_rapport[i]\n",
    "    \n",
    "    pred_test_df_arr.append(pred_obj)\n",
    "    \n",
    "pred_test_df = pd.DataFrame(pred_test_df_arr)"
   ]
  },
  {
   "cell_type": "code",
   "execution_count": 51,
   "metadata": {},
   "outputs": [],
   "source": [
    "from keras import backend as K\n",
    "\n",
    "def recall_m(y_true, y_pred):\n",
    "    true_positives = K.sum(K.round(K.clip(y_true * y_pred, 0, 1)))\n",
    "    possible_positives = K.sum(K.round(K.clip(y_true, 0, 1)))\n",
    "    recall = true_positives / (possible_positives + K.epsilon())\n",
    "    return recall\n",
    "\n",
    "def precision_m(y_true, y_pred):\n",
    "    true_positives = K.sum(K.round(K.clip(y_true * y_pred, 0, 1)))\n",
    "    predicted_positives = K.sum(K.round(K.clip(y_pred, 0, 1)))\n",
    "    precision = true_positives / (predicted_positives + K.epsilon())\n",
    "    return precision\n",
    "\n",
    "def f1_m(y_true, y_pred):\n",
    "    precision = precision_m(y_true, y_pred)\n",
    "    recall = recall_m(y_true, y_pred)\n",
    "    return 2*((precision*recall)/(precision+recall+K.epsilon()))\n",
    "\n",
    "callback = tf.keras.callbacks.EarlyStopping(\n",
    "    monitor='val_loss', min_delta=0, patience=0, verbose=0, mode='auto',\n",
    "    baseline=None, restore_best_weights=False\n",
    ")"
   ]
  },
  {
   "cell_type": "code",
   "execution_count": 112,
   "metadata": {},
   "outputs": [
    {
     "name": "stdout",
     "output_type": "stream",
     "text": [
      "Epoch 1/32\n",
      "51/51 [==============================] - 0s 8ms/step - loss: 7.7125 - acc: 0.0458 - f1_m: 0.0000e+00 - precision_m: 0.0000e+00 - recall_m: 0.0000e+00 - val_loss: 7.7125 - val_acc: 0.0523 - val_f1_m: 0.0000e+00 - val_precision_m: 0.0000e+00 - val_recall_m: 0.0000e+00\n",
      "Epoch 2/32\n",
      "51/51 [==============================] - 0s 4ms/step - loss: 7.7125 - acc: 0.0458 - f1_m: 0.0000e+00 - precision_m: 0.0000e+00 - recall_m: 0.0000e+00 - val_loss: 7.7125 - val_acc: 0.0523 - val_f1_m: 0.0000e+00 - val_precision_m: 0.0000e+00 - val_recall_m: 0.0000e+00\n"
     ]
    }
   ],
   "source": [
    "# Combined model\n",
    "\n",
    "inputB = Input(shape=(pred_df.shape[1],))\n",
    "c = Dense(2, activation='relu')(inputB)\n",
    "c = Dense(4, activation='relu')(c)\n",
    "c = Dense(2, activation='linear')(c)\n",
    "m = Model(inputs=inputB, outputs=c)\n",
    "\n",
    "m.compile(loss='binary_crossentropy', optimizer='adam', \n",
    "                      metrics=['acc',f1_m, precision_m,recall_m])\n",
    "history = m.fit(x=pred_df, y=y_train_deception, epochs=32, \n",
    "                    batch_size=64, \n",
    "                    validation_data=(pred_test_df,y_test_deception), callbacks=[callback])"
   ]
  },
  {
   "cell_type": "code",
   "execution_count": null,
   "metadata": {},
   "outputs": [],
   "source": []
  },
  {
   "cell_type": "code",
   "execution_count": null,
   "metadata": {},
   "outputs": [],
   "source": []
  },
  {
   "cell_type": "markdown",
   "metadata": {},
   "source": [
    "### Individual classifiers are LSTMs\n",
    "\n",
    "Merge classifiers by Add"
   ]
  },
  {
   "cell_type": "code",
   "execution_count": 72,
   "metadata": {},
   "outputs": [],
   "source": [
    "train, test = train_test_split(df, test_size=0.2)\n",
    "\n",
    "y_train_deception = train['Input.deception_quadrant_cat'].tolist()\n",
    "y_train_rapport = train['affcon_rapport'].tolist()\n",
    "y_train_share_information = train['affcon_shareinformation'].tolist()\n",
    "y_train_reasoning = train['affcon_reasoning'].tolist()\n",
    "y_train_gamemove = train['affcon_gamemove'].tolist()\n",
    "\n",
    "y_test_deception = test['Input.deception_quadrant_cat'].tolist()\n",
    "y_test_rapport = test['affcon_rapport'].tolist()\n",
    "y_test_share_information = test['affcon_shareinformation'].tolist()\n",
    "y_test_reasoning = test['affcon_reasoning'].tolist()\n",
    "y_test_gamemove = test['affcon_gamemove'].tolist()\n",
    "\n",
    "X_train_col = train['Input.full_text']\n",
    "\n",
    "X_test_col = test['Input.full_text']"
   ]
  },
  {
   "cell_type": "code",
   "execution_count": 73,
   "metadata": {},
   "outputs": [],
   "source": [
    "from keras import backend as K\n",
    "\n",
    "def recall_m(y_true, y_pred):\n",
    "    true_positives = K.sum(K.round(K.clip(y_true * y_pred, 0, 1)))\n",
    "    possible_positives = K.sum(K.round(K.clip(y_true, 0, 1)))\n",
    "    recall = true_positives / (possible_positives + K.epsilon())\n",
    "    return recall\n",
    "\n",
    "def precision_m(y_true, y_pred):\n",
    "    true_positives = K.sum(K.round(K.clip(y_true * y_pred, 0, 1)))\n",
    "    predicted_positives = K.sum(K.round(K.clip(y_pred, 0, 1)))\n",
    "    precision = true_positives / (predicted_positives + K.epsilon())\n",
    "    return precision\n",
    "\n",
    "def f1_m(y_true, y_pred):\n",
    "    precision = precision_m(y_true, y_pred)\n",
    "    recall = recall_m(y_true, y_pred)\n",
    "    return 2*((precision*recall)/(precision+recall+K.epsilon()))\n",
    "\n",
    "callback = tf.keras.callbacks.EarlyStopping(\n",
    "    monitor='val_loss', min_delta=0, patience=0, verbose=0, mode='auto',\n",
    "    baseline=None, restore_best_weights=False\n",
    ")"
   ]
  },
  {
   "cell_type": "code",
   "execution_count": 74,
   "metadata": {},
   "outputs": [
    {
     "name": "stderr",
     "output_type": "stream",
     "text": [
      "C:\\Users\\lynne\\anaconda3\\envs\\tf-gpu\\lib\\site-packages\\sklearn\\utils\\validation.py:72: DataConversionWarning: A column-vector y was passed when a 1d array was expected. Please change the shape of y to (n_samples, ), for example using ravel().\n",
      "  return f(**kwargs)\n"
     ]
    }
   ],
   "source": [
    "le = LabelEncoder()\n",
    "\n",
    "y_train_deception = le.fit_transform(y_train_deception)\n",
    "y_train_deception = y_train_deception.reshape(-1,1)\n",
    "\n",
    "y_train_rapport = le.fit_transform(y_train_rapport)\n",
    "y_train_rapport = y_train_rapport.reshape(-1,1)\n",
    "\n",
    "y_train_share_information = le.fit_transform(y_train_share_information)\n",
    "y_train_share_information = y_train_share_information.reshape(-1,1)\n",
    "\n",
    "y_train_reasoning = le.fit_transform(y_train_reasoning)\n",
    "y_train_reasoning = y_train_reasoning.reshape(-1,1)\n",
    "\n",
    "y_train_gamemove = le.fit_transform(y_train_gamemove)\n",
    "y_train_gamemove = y_train_gamemove.reshape(-1,1)\n",
    "\n",
    "y_train_deception = le.fit_transform(y_train_deception)\n",
    "y_train_deception = y_train_deception.reshape(-1,1)\n",
    "\n",
    "y_test_rapport = le.fit_transform(y_test_rapport)\n",
    "y_test_rapport = y_test_rapport.reshape(-1,1)\n",
    "\n",
    "y_test_share_information = le.fit_transform(y_test_share_information)\n",
    "y_test_share_information = y_test_share_information.reshape(-1,1)\n",
    "\n",
    "y_test_reasoning = le.fit_transform(y_test_reasoning)\n",
    "y_test_reasoning = y_test_reasoning.reshape(-1,1)\n",
    "\n",
    "y_test_gamemove = le.fit_transform(y_test_gamemove)\n",
    "y_test_gamemove = y_test_gamemove.reshape(-1,1)\n",
    "\n",
    "y_test_deception = le.fit_transform(y_test_deception)\n",
    "y_test_deception = y_test_deception.reshape(-1,1)"
   ]
  },
  {
   "cell_type": "code",
   "execution_count": 75,
   "metadata": {},
   "outputs": [],
   "source": [
    "max_words = 1000\n",
    "max_len = 220\n",
    "\n",
    "tok = Tokenizer(num_words=max_words)\n",
    "\n",
    "tok.fit_on_texts(X_train_col)\n",
    "X_train_sequences = tok.texts_to_sequences(X_train_col)\n",
    "X_train = pad_sequences(X_train_sequences, maxlen=max_len)\n",
    "\n",
    "tok.fit_on_texts(X_test_col)\n",
    "X_test_sequences = tok.texts_to_sequences(X_test_col)\n",
    "X_test = pad_sequences(X_test_sequences, maxlen=max_len)"
   ]
  },
  {
   "cell_type": "code",
   "execution_count": 76,
   "metadata": {},
   "outputs": [],
   "source": [
    "early_stop = EarlyStopping(monitor='val_loss',min_delta=0.00001)\n",
    "def create_lstm():\n",
    "    Inp = Input(name='inputs', shape=[max_len])\n",
    "    x = Embedding(max_words, 50, input_length=max_len)(Inp)\n",
    "    x = LSTM(64, name='LSTM_01')(x)\n",
    "    x = Dropout(0.5, name='Dropout')(x)\n",
    "    x = Dense(128, activation='relu',name='Dense_01')(x)\n",
    "    # x = Dropout(0.5,name='Dropout')(x)\n",
    "    out = Dense(1,activation='sigmoid', name='output')(x)\n",
    "    model = Model(inputs=Inp, outputs=out)\n",
    "    \n",
    "    return model"
   ]
  },
  {
   "cell_type": "code",
   "execution_count": 77,
   "metadata": {},
   "outputs": [
    {
     "name": "stdout",
     "output_type": "stream",
     "text": [
      "Epoch 1/15\n",
      "99/99 [==============================] - 4s 41ms/step - loss: 0.6686 - accuracy: 0.6025 - f1_m: 0.7440 - recall_m: 0.9723 - precision_m: 0.6062 - val_loss: 0.6576 - val_accuracy: 0.6144 - val_f1_m: 0.7531 - val_recall_m: 0.9658 - val_precision_m: 0.6184\n",
      "Epoch 2/15\n",
      "99/99 [==============================] - 3s 35ms/step - loss: 0.6498 - accuracy: 0.6048 - f1_m: 0.7268 - recall_m: 0.8851 - precision_m: 0.6205 - val_loss: 0.6576 - val_accuracy: 0.6064 - val_f1_m: 0.7285 - val_recall_m: 0.8664 - val_precision_m: 0.6298\n"
     ]
    },
    {
     "data": {
      "text/plain": [
       "<tensorflow.python.keras.callbacks.History at 0x2300c26c688>"
      ]
     },
     "execution_count": 77,
     "metadata": {},
     "output_type": "execute_result"
    }
   ],
   "source": [
    "# Rapport model\n",
    "rapport_model = create_lstm()\n",
    "rapport_model.compile(loss='binary_crossentropy',optimizer=RMSprop(),metrics=['accuracy', f1_m, recall_m, precision_m])\n",
    "rapport_model.fit(X_train,y_train_rapport,\n",
    "          batch_size=128,\n",
    "          epochs=15,\n",
    "          validation_data=(X_test, y_test_rapport), callbacks=[early_stop])"
   ]
  },
  {
   "cell_type": "code",
   "execution_count": 78,
   "metadata": {},
   "outputs": [],
   "source": [
    "rapport_pred = rapport_model.predict(X_train)\n",
    "rapport_pred_test = rapport_model.predict(X_test)"
   ]
  },
  {
   "cell_type": "code",
   "execution_count": 79,
   "metadata": {},
   "outputs": [
    {
     "name": "stdout",
     "output_type": "stream",
     "text": [
      "Epoch 1/15\n",
      "99/99 [==============================] - 4s 40ms/step - loss: 0.6042 - accuracy: 0.7145 - f1_m: 0.8299 - recall_m: 0.9918 - precision_m: 0.7178 - val_loss: 0.5934 - val_accuracy: 0.7217 - val_f1_m: 0.8374 - val_recall_m: 1.0000 - val_precision_m: 0.7211\n",
      "Epoch 2/15\n",
      "99/99 [==============================] - 3s 35ms/step - loss: 0.5864 - accuracy: 0.7184 - f1_m: 0.8359 - recall_m: 0.9999 - precision_m: 0.7190 - val_loss: 0.5876 - val_accuracy: 0.7217 - val_f1_m: 0.8374 - val_recall_m: 1.0000 - val_precision_m: 0.7211\n",
      "Epoch 3/15\n",
      "99/99 [==============================] - 3s 35ms/step - loss: 0.5736 - accuracy: 0.7186 - f1_m: 0.8348 - recall_m: 0.9971 - precision_m: 0.7189 - val_loss: 0.5976 - val_accuracy: 0.7205 - val_f1_m: 0.8365 - val_recall_m: 0.9970 - val_precision_m: 0.7214\n"
     ]
    },
    {
     "data": {
      "text/plain": [
       "<tensorflow.python.keras.callbacks.History at 0x230116b9e88>"
      ]
     },
     "execution_count": 79,
     "metadata": {},
     "output_type": "execute_result"
    }
   ],
   "source": [
    "# Game move model\n",
    "gamemove_model = create_lstm()\n",
    "gamemove_model.compile(loss='binary_crossentropy',optimizer=RMSprop(),metrics=['accuracy', f1_m, recall_m, precision_m])\n",
    "gamemove_model.fit(X_train,y_train_gamemove,\n",
    "          batch_size=128,\n",
    "          epochs=15,\n",
    "          validation_data=(X_test, y_test_gamemove), callbacks=[early_stop])"
   ]
  },
  {
   "cell_type": "code",
   "execution_count": 80,
   "metadata": {},
   "outputs": [],
   "source": [
    "gamemove_pred = gamemove_model.predict(X_train)\n",
    "gamemove_pred_test = gamemove_model.predict(X_test)"
   ]
  },
  {
   "cell_type": "code",
   "execution_count": 81,
   "metadata": {},
   "outputs": [
    {
     "name": "stdout",
     "output_type": "stream",
     "text": [
      "Epoch 1/15\n",
      "99/99 [==============================] - 4s 40ms/step - loss: 0.5558 - accuracy: 0.7617 - f1_m: 0.8634 - recall_m: 0.9964 - precision_m: 0.7628 - val_loss: 0.5378 - val_accuracy: 0.7691 - val_f1_m: 0.8692 - val_recall_m: 1.0000 - val_precision_m: 0.7696\n",
      "Epoch 2/15\n",
      "99/99 [==============================] - 3s 34ms/step - loss: 0.5292 - accuracy: 0.7639 - f1_m: 0.8649 - recall_m: 0.9973 - precision_m: 0.7645 - val_loss: 0.5327 - val_accuracy: 0.7668 - val_f1_m: 0.8651 - val_recall_m: 0.9746 - val_precision_m: 0.7787\n",
      "Epoch 3/15\n",
      "99/99 [==============================] - 3s 35ms/step - loss: 0.5187 - accuracy: 0.7657 - f1_m: 0.8644 - recall_m: 0.9835 - precision_m: 0.7719 - val_loss: 0.5363 - val_accuracy: 0.7662 - val_f1_m: 0.8657 - val_recall_m: 0.9819 - val_precision_m: 0.7750\n"
     ]
    },
    {
     "data": {
      "text/plain": [
       "<tensorflow.python.keras.callbacks.History at 0x23015c7d588>"
      ]
     },
     "execution_count": 81,
     "metadata": {},
     "output_type": "execute_result"
    }
   ],
   "source": [
    "# Reasoning model\n",
    "reasoning_model = create_lstm()\n",
    "reasoning_model.compile(loss='binary_crossentropy',optimizer=RMSprop(),metrics=['accuracy', f1_m, recall_m, precision_m])\n",
    "reasoning_model.fit(X_train,y_train_reasoning,\n",
    "          batch_size=128,\n",
    "          epochs=15,\n",
    "          validation_data=(X_test, y_test_reasoning), callbacks=[early_stop])"
   ]
  },
  {
   "cell_type": "code",
   "execution_count": 82,
   "metadata": {},
   "outputs": [],
   "source": [
    "reasoning_pred = reasoning_model.predict(X_train)\n",
    "reasoning_pred_test = reasoning_model.predict(X_test)"
   ]
  },
  {
   "cell_type": "code",
   "execution_count": 83,
   "metadata": {},
   "outputs": [
    {
     "name": "stdout",
     "output_type": "stream",
     "text": [
      "Epoch 1/15\n",
      "99/99 [==============================] - 4s 40ms/step - loss: 0.6837 - accuracy: 0.5443 - f1_m: 0.6133 - recall_m: 0.7571 - precision_m: 0.5587 - val_loss: 0.6747 - val_accuracy: 0.5750 - val_f1_m: 0.6293 - val_recall_m: 0.7003 - val_precision_m: 0.5737\n",
      "Epoch 2/15\n",
      "99/99 [==============================] - 3s 35ms/step - loss: 0.6482 - accuracy: 0.6186 - f1_m: 0.6061 - recall_m: 0.5805 - precision_m: 0.6616 - val_loss: 0.6888 - val_accuracy: 0.5581 - val_f1_m: 0.4343 - val_recall_m: 0.3307 - val_precision_m: 0.6425\n"
     ]
    },
    {
     "data": {
      "text/plain": [
       "<tensorflow.python.keras.callbacks.History at 0x2301be91308>"
      ]
     },
     "execution_count": 83,
     "metadata": {},
     "output_type": "execute_result"
    }
   ],
   "source": [
    "# Share Information model\n",
    "shareinfo_model = create_lstm()\n",
    "shareinfo_model.compile(loss='binary_crossentropy',optimizer=RMSprop(),metrics=['accuracy', f1_m, recall_m, precision_m])\n",
    "shareinfo_model.fit(X_train,y_train_share_information,\n",
    "          batch_size=128,\n",
    "          epochs=15,\n",
    "          validation_data=(X_test, y_test_share_information), callbacks=[early_stop])"
   ]
  },
  {
   "cell_type": "code",
   "execution_count": 84,
   "metadata": {},
   "outputs": [],
   "source": [
    "shareinfo_pred = shareinfo_model.predict(X_train)\n",
    "shareinfo_pred_test = shareinfo_model.predict(X_test)"
   ]
  },
  {
   "cell_type": "code",
   "execution_count": 85,
   "metadata": {},
   "outputs": [
    {
     "name": "stdout",
     "output_type": "stream",
     "text": [
      "Epoch 1/15\n",
      "99/99 [==============================] - 4s 40ms/step - loss: 0.2242 - accuracy: 0.9461 - f1_m: 0.9718 - recall_m: 0.9964 - precision_m: 0.9492 - val_loss: 0.2178 - val_accuracy: 0.9476 - val_f1_m: 0.9731 - val_recall_m: 1.0000 - val_precision_m: 0.9478\n",
      "Epoch 2/15\n",
      "99/99 [==============================] - 3s 35ms/step - loss: 0.2033 - accuracy: 0.9494 - f1_m: 0.9741 - recall_m: 1.0000 - precision_m: 0.9496 - val_loss: 0.2062 - val_accuracy: 0.9476 - val_f1_m: 0.9731 - val_recall_m: 1.0000 - val_precision_m: 0.9478\n",
      "Epoch 3/15\n",
      "99/99 [==============================] - 3s 35ms/step - loss: 0.1906 - accuracy: 0.9494 - f1_m: 0.9741 - recall_m: 1.0000 - precision_m: 0.9496 - val_loss: 0.2252 - val_accuracy: 0.9476 - val_f1_m: 0.9731 - val_recall_m: 1.0000 - val_precision_m: 0.9478\n"
     ]
    },
    {
     "data": {
      "text/plain": [
       "<tensorflow.python.keras.callbacks.History at 0x230210cb248>"
      ]
     },
     "execution_count": 85,
     "metadata": {},
     "output_type": "execute_result"
    }
   ],
   "source": [
    "# Deception model\n",
    "deception_model = create_lstm()\n",
    "deception_model.compile(loss='binary_crossentropy',optimizer=RMSprop(),metrics=['accuracy', f1_m, recall_m, precision_m])\n",
    "deception_model.fit(X_train,y_train_deception,\n",
    "          batch_size=128,\n",
    "          epochs=15,\n",
    "          validation_data=(X_test, y_test_deception), callbacks=[early_stop])"
   ]
  },
  {
   "cell_type": "code",
   "execution_count": 86,
   "metadata": {},
   "outputs": [],
   "source": [
    "# One hot encoding\n",
    "pred_df_arr = []\n",
    "for i in range(0, len(gamemove_pred)):\n",
    "    pred_obj = {}\n",
    "    pred_obj['gamemove'] = gamemove_pred[i][0]\n",
    "    pred_obj['reasoning'] = reasoning_pred[i][0]\n",
    "    pred_obj['shareinfo'] = shareinfo_pred[i][0]\n",
    "    #pred_obj['rapport'] = rapport_pred[i][0]\n",
    "    \n",
    "    pred_df_arr.append(pred_obj)\n",
    "    \n",
    "pred_df = pd.DataFrame(pred_df_arr)"
   ]
  },
  {
   "cell_type": "code",
   "execution_count": 87,
   "metadata": {},
   "outputs": [],
   "source": [
    "pred_test_df_arr = []\n",
    "for i in range(0, len(gamemove_pred_test)):\n",
    "    pred_obj = {}\n",
    "    pred_obj['gamemove'] = gamemove_pred_test[i][0]\n",
    "    pred_obj['reasoning'] = reasoning_pred_test[i][0]\n",
    "    pred_obj['shareinfo'] = shareinfo_pred_test[i][0]\n",
    "    #pred_obj['rapport'] = rapport_pred_test[i][0]\n",
    "    \n",
    "    pred_test_df_arr.append(pred_obj)\n",
    "    \n",
    "pred_test_df = pd.DataFrame(pred_test_df_arr)"
   ]
  },
  {
   "cell_type": "code",
   "execution_count": 112,
   "metadata": {},
   "outputs": [
    {
     "data": {
      "text/html": [
       "<div>\n",
       "<style scoped>\n",
       "    .dataframe tbody tr th:only-of-type {\n",
       "        vertical-align: middle;\n",
       "    }\n",
       "\n",
       "    .dataframe tbody tr th {\n",
       "        vertical-align: top;\n",
       "    }\n",
       "\n",
       "    .dataframe thead th {\n",
       "        text-align: right;\n",
       "    }\n",
       "</style>\n",
       "<table border=\"1\" class=\"dataframe\">\n",
       "  <thead>\n",
       "    <tr style=\"text-align: right;\">\n",
       "      <th></th>\n",
       "      <th>gamemove</th>\n",
       "      <th>reasoning</th>\n",
       "      <th>shareinfo</th>\n",
       "      <th>rapport</th>\n",
       "    </tr>\n",
       "  </thead>\n",
       "  <tbody>\n",
       "    <tr>\n",
       "      <th>0</th>\n",
       "      <td>0.709489</td>\n",
       "      <td>0.840170</td>\n",
       "      <td>0.837677</td>\n",
       "      <td>0.639576</td>\n",
       "    </tr>\n",
       "    <tr>\n",
       "      <th>1</th>\n",
       "      <td>0.683541</td>\n",
       "      <td>0.853558</td>\n",
       "      <td>0.680558</td>\n",
       "      <td>0.623211</td>\n",
       "    </tr>\n",
       "    <tr>\n",
       "      <th>2</th>\n",
       "      <td>0.577929</td>\n",
       "      <td>0.632894</td>\n",
       "      <td>0.490597</td>\n",
       "      <td>0.564213</td>\n",
       "    </tr>\n",
       "    <tr>\n",
       "      <th>3</th>\n",
       "      <td>0.711058</td>\n",
       "      <td>0.816315</td>\n",
       "      <td>0.778096</td>\n",
       "      <td>0.708829</td>\n",
       "    </tr>\n",
       "    <tr>\n",
       "      <th>4</th>\n",
       "      <td>0.618718</td>\n",
       "      <td>0.720346</td>\n",
       "      <td>0.556693</td>\n",
       "      <td>0.500282</td>\n",
       "    </tr>\n",
       "  </tbody>\n",
       "</table>\n",
       "</div>"
      ],
      "text/plain": [
       "   gamemove  reasoning  shareinfo   rapport\n",
       "0  0.709489   0.840170   0.837677  0.639576\n",
       "1  0.683541   0.853558   0.680558  0.623211\n",
       "2  0.577929   0.632894   0.490597  0.564213\n",
       "3  0.711058   0.816315   0.778096  0.708829\n",
       "4  0.618718   0.720346   0.556693  0.500282"
      ]
     },
     "execution_count": 112,
     "metadata": {},
     "output_type": "execute_result"
    }
   ],
   "source": [
    "pred_df.head()"
   ]
  },
  {
   "cell_type": "code",
   "execution_count": 113,
   "metadata": {},
   "outputs": [],
   "source": [
    "from sklearn.utils import class_weight\n",
    "class_weight = {'gamemove': 50,\n",
    "                'reasoning': 50.,\n",
    "                'shareinfo': 10, 'rapport': 2}"
   ]
  },
  {
   "cell_type": "code",
   "execution_count": 92,
   "metadata": {},
   "outputs": [
    {
     "name": "stdout",
     "output_type": "stream",
     "text": [
      "Epoch 1/32\n",
      "158/158 [==============================] - 1s 5ms/step - loss: 0.6932 - acc: 0.4398 - f1_m: 0.7494 - precision_m: 0.6046 - recall_m: 0.9949 - val_loss: 0.6931 - val_acc: 0.4114 - val_f1_m: 0.7397 - val_precision_m: 0.5901 - val_recall_m: 1.0000\n",
      "Epoch 2/32\n",
      "158/158 [==============================] - 1s 3ms/step - loss: 0.6931 - acc: 0.4584 - f1_m: 0.7525 - precision_m: 0.6054 - recall_m: 1.0000 - val_loss: 0.6931 - val_acc: 0.5886 - val_f1_m: 0.7397 - val_precision_m: 0.5901 - val_recall_m: 1.0000\n",
      "Epoch 3/32\n",
      "158/158 [==============================] - 1s 3ms/step - loss: 0.6931 - acc: 0.4582 - f1_m: 0.7478 - precision_m: 0.6020 - recall_m: 0.9937 - val_loss: 0.6931 - val_acc: 0.4114 - val_f1_m: 0.7397 - val_precision_m: 0.5901 - val_recall_m: 1.0000\n",
      "Epoch 4/32\n",
      "158/158 [==============================] - 1s 3ms/step - loss: 0.6931 - acc: 0.4813 - f1_m: 0.7523 - precision_m: 0.6054 - recall_m: 1.0000 - val_loss: 0.6931 - val_acc: 0.4110 - val_f1_m: 0.7397 - val_precision_m: 0.5901 - val_recall_m: 1.0000\n",
      "Epoch 5/32\n",
      "158/158 [==============================] - 1s 3ms/step - loss: 0.6931 - acc: 0.4815 - f1_m: 0.7526 - precision_m: 0.6057 - recall_m: 1.0000 - val_loss: 0.6931 - val_acc: 0.4106 - val_f1_m: 0.7397 - val_precision_m: 0.5901 - val_recall_m: 1.0000\n"
     ]
    }
   ],
   "source": [
    "# Joint Model with one hot encoding \n",
    "inputB = Input(shape=(pred_df.shape[1],))\n",
    "c = Dense(2, activation='relu')(inputB)\n",
    "c = Dense(4, activation='relu')(c)\n",
    "c = Dense(2, activation='softmax')(c)\n",
    "full_model = Model(inputs=inputB, outputs=c)\n",
    "\n",
    "full_model.compile(loss='binary_crossentropy', optimizer='adam', \n",
    "                      metrics=['acc',f1_m,precision_m, recall_m])\n",
    "# history = full_model.fit(x=pred_df, y=y_train_deception, epochs=32, \n",
    "#                     batch_size=64, \n",
    "#                     validation_split=0.2, callbacks=[callback])\n",
    "\n",
    "history = full_model.fit(x=pred_df, y=y_train_rapport, epochs=32, \n",
    "                    batch_size=64, \n",
    "                    validation_split=0.2, callbacks=[callback])"
   ]
  },
  {
   "cell_type": "code",
   "execution_count": 91,
   "metadata": {},
   "outputs": [
    {
     "name": "stdout",
     "output_type": "stream",
     "text": [
      "Epoch 1/15\n",
      "79/79 [==============================] - 8s 98ms/step - loss: 0.6931 - accuracy: 0.5005 - f1_m: 0.7524 - recall_m: 1.0000 - precision_m: 0.6047 - val_loss: 0.6931 - val_accuracy: 0.4114 - val_f1_m: 0.7397 - val_recall_m: 1.0000 - val_precision_m: 0.5884\n",
      "Epoch 2/15\n",
      "79/79 [==============================] - 7s 86ms/step - loss: 0.6931 - accuracy: 0.5139 - f1_m: 0.7531 - recall_m: 0.9998 - precision_m: 0.6052 - val_loss: 0.6931 - val_accuracy: 0.4114 - val_f1_m: 0.7397 - val_recall_m: 1.0000 - val_precision_m: 0.5884\n"
     ]
    },
    {
     "data": {
      "text/plain": [
       "<tensorflow.python.keras.callbacks.History at 0x22faa256288>"
      ]
     },
     "execution_count": 91,
     "metadata": {},
     "output_type": "execute_result"
    }
   ],
   "source": [
    "# Joint Model with model Add\n",
    "commonInput = Input(shape=[max_len])\n",
    "\n",
    "out1 = gamemove_model(commonInput)    \n",
    "out2 = reasoning_model(commonInput)   \n",
    "out3 = shareinfo_model(commonInput)\n",
    "out4 = rapport_model(commonInput)\n",
    "#mergedOut = Add()([out1,out2,out3,out4])\n",
    "mergedOut = Concatenate()([out1,out2,out3])\n",
    "\n",
    "mergedOut = Flatten()(mergedOut)    \n",
    "mergedOut = Dense(256, activation='relu')(mergedOut)\n",
    "mergedOut = Dropout(.5)(mergedOut)\n",
    "mergedOut = Dense(128, activation='relu')(mergedOut)\n",
    "mergedOut = Dropout(.35)(mergedOut)\n",
    "mergedOut = Dense(2, activation='softmax')(mergedOut)  #Cuz binary\n",
    "\n",
    "mergedModel = Model(commonInput, mergedOut)\n",
    "mergedModel.compile(loss='binary_crossentropy', optimizer=RMSprop(), metrics=['accuracy', f1_m, recall_m, precision_m])\n",
    "# mergedModel.fit(X_train,y_train_deception,\n",
    "#           batch_size=128,\n",
    "#           epochs=15,\n",
    "#           validation_split=0.2, callbacks=[early_stop])\n",
    "\n",
    "mergedModel.fit(X_train,y_train_rapport,\n",
    "          batch_size=128,\n",
    "          epochs=15,\n",
    "          validation_split=0.2, callbacks=[early_stop])"
   ]
  }
 ],
 "metadata": {
  "kernelspec": {
   "display_name": "tfgpu",
   "language": "python",
   "name": "tfgpu"
  },
  "language_info": {
   "codemirror_mode": {
    "name": "ipython",
    "version": 3
   },
   "file_extension": ".py",
   "mimetype": "text/x-python",
   "name": "python",
   "nbconvert_exporter": "python",
   "pygments_lexer": "ipython3",
   "version": "3.7.9"
  }
 },
 "nbformat": 4,
 "nbformat_minor": 4
}
