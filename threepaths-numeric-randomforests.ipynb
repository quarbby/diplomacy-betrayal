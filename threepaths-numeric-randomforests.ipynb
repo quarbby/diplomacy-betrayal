{
 "cells": [
  {
   "cell_type": "code",
   "execution_count": 68,
   "metadata": {},
   "outputs": [],
   "source": [
    "import pandas as pd\n",
    "import numpy as np\n",
    "\n",
    "from tensorflow.keras.utils import to_categorical\n",
    "from tensorflow.keras.layers import LSTM, Input, InputLayer, Dropout, Dense, Flatten, Embedding, Add\n",
    "from tensorflow.keras import Sequential\n",
    "from tensorflow.keras.models import Model\n",
    "from tensorflow.keras.callbacks import EarlyStopping\n",
    "import tensorflow as tf\n",
    "\n",
    "from sklearn.ensemble import RandomForestClassifier\n",
    "from sklearn.model_selection import train_test_split\n",
    "from sklearn.metrics import classification_report\n",
    "from tensorflow.keras.preprocessing.text import Tokenizer\n",
    "from sklearn.preprocessing import LabelEncoder\n",
    "from keras.preprocessing.sequence import pad_sequences\n",
    "from tensorflow.keras.optimizers import RMSprop"
   ]
  },
  {
   "cell_type": "code",
   "execution_count": 10,
   "metadata": {},
   "outputs": [],
   "source": [
    "df = pd.read_csv('./data/kokil dec 6 reprepare/affcon_final_with_linguistics.csv')"
   ]
  },
  {
   "cell_type": "code",
   "execution_count": 11,
   "metadata": {},
   "outputs": [],
   "source": [
    "df = df.fillna(0)"
   ]
  },
  {
   "cell_type": "code",
   "execution_count": 106,
   "metadata": {},
   "outputs": [],
   "source": [
    "train, test = train_test_split(df, test_size=0.2)\n",
    "\n",
    "y_train_deception = to_categorical(train['Input.deception_quadrant_cat'].tolist())\n",
    "y_train_rapport_c = to_categorical(train['affcon_rapport'].tolist())\n",
    "y_train_rapport = train['affcon_rapport'].tolist()\n",
    "y_train_share_information = train['affcon_shareinformation'].tolist()\n",
    "y_train_reasoning = train['affcon_reasoning'].tolist()\n",
    "y_train_gamemove = train['affcon_gamemove'].tolist()\n",
    "\n",
    "y_test_deception = to_categorical(test['Input.deception_quadrant_cat'].tolist())\n",
    "y_test_rapport_c = to_categorical(test['affcon_rapport'].tolist())\n",
    "y_test_rapport = test['affcon_rapport'].tolist()\n",
    "y_test_share_information = test['affcon_shareinformation'].tolist()\n",
    "y_test_reasoning = test['affcon_reasoning'].tolist()\n",
    "y_test_gamemove = test['affcon_gamemove'].tolist()\n",
    "\n",
    "X_train = train.drop(columns=['affcon_gamemove', 'affcon_reasoning',\n",
    "                              'affcon_rapport', 'affcon_shareinformation', 'Input.deception_quadrant',\n",
    "                              'Input.deception_quadrant_cat'])\n",
    "\n",
    "X_test = test.drop(columns=['affcon_gamemove', 'affcon_reasoning',\n",
    "                              'affcon_rapport', 'affcon_shareinformation', 'Input.deception_quadrant',\n",
    "                              'Input.deception_quadrant_cat'])"
   ]
  },
  {
   "cell_type": "markdown",
   "metadata": {},
   "source": [
    "### Individual classifiers are Random Forests"
   ]
  },
  {
   "cell_type": "code",
   "execution_count": 83,
   "metadata": {},
   "outputs": [
    {
     "name": "stdout",
     "output_type": "stream",
     "text": [
      "              precision    recall  f1-score   support\n",
      "\n",
      "         0.0       0.00      0.00      0.00         0\n",
      "         1.0       1.00      0.84      0.91      3210\n",
      "\n",
      "    accuracy                           0.84      3210\n",
      "   macro avg       0.50      0.42      0.46      3210\n",
      "weighted avg       1.00      0.84      0.91      3210\n",
      "\n"
     ]
    },
    {
     "name": "stderr",
     "output_type": "stream",
     "text": [
      "C:\\Users\\lynne\\anaconda3\\envs\\tf-gpu\\lib\\site-packages\\sklearn\\metrics\\_classification.py:1221: UndefinedMetricWarning: Recall and F-score are ill-defined and being set to 0.0 in labels with no true samples. Use `zero_division` parameter to control this behavior.\n",
      "  _warn_prf(average, modifier, msg_start, len(result))\n"
     ]
    }
   ],
   "source": [
    "# Game move classifier\n",
    "clf_gamemove = RandomForestClassifier(max_depth=2, random_state=0)\n",
    "clf_gamemove.fit(X_train, y_train_gamemove)\n",
    "y_pred_gamemove = clf_gamemove.predict(X_train)\n",
    "y_pred_test_gamemove = clf_gamemove.predict(X_test)\n",
    "print(classification_report(y_pred_gamemove, y_train_gamemove))"
   ]
  },
  {
   "cell_type": "code",
   "execution_count": 107,
   "metadata": {},
   "outputs": [
    {
     "name": "stdout",
     "output_type": "stream",
     "text": [
      "              precision    recall  f1-score   support\n",
      "\n",
      "         0.0       0.00      0.00      0.00         0\n",
      "         1.0       1.00      0.83      0.91      3210\n",
      "\n",
      "    accuracy                           0.83      3210\n",
      "   macro avg       0.50      0.42      0.45      3210\n",
      "weighted avg       1.00      0.83      0.91      3210\n",
      "\n"
     ]
    },
    {
     "name": "stderr",
     "output_type": "stream",
     "text": [
      "C:\\Users\\lynne\\anaconda3\\envs\\tf-gpu\\lib\\site-packages\\sklearn\\metrics\\_classification.py:1221: UndefinedMetricWarning: Recall and F-score are ill-defined and being set to 0.0 in labels with no true samples. Use `zero_division` parameter to control this behavior.\n",
      "  _warn_prf(average, modifier, msg_start, len(result))\n"
     ]
    }
   ],
   "source": [
    "# Rapport classifier\n",
    "clf_rapport = RandomForestClassifier(max_depth=2, random_state=0)\n",
    "clf_rapport.fit(X_train, y_train_rapport)\n",
    "y_pred_rapport = clf_rapport.predict(X_train)\n",
    "y_pred_test_rapport = clf_rapport.predict(X_test)\n",
    "print(classification_report(y_pred_rapport, y_train_rapport))"
   ]
  },
  {
   "cell_type": "code",
   "execution_count": 85,
   "metadata": {},
   "outputs": [
    {
     "name": "stdout",
     "output_type": "stream",
     "text": [
      "              precision    recall  f1-score   support\n",
      "\n",
      "         0.0       0.00      0.00      0.00         0\n",
      "         1.0       1.00      0.81      0.89      3210\n",
      "\n",
      "    accuracy                           0.81      3210\n",
      "   macro avg       0.50      0.40      0.45      3210\n",
      "weighted avg       1.00      0.81      0.89      3210\n",
      "\n"
     ]
    },
    {
     "name": "stderr",
     "output_type": "stream",
     "text": [
      "C:\\Users\\lynne\\anaconda3\\envs\\tf-gpu\\lib\\site-packages\\sklearn\\metrics\\_classification.py:1221: UndefinedMetricWarning: Recall and F-score are ill-defined and being set to 0.0 in labels with no true samples. Use `zero_division` parameter to control this behavior.\n",
      "  _warn_prf(average, modifier, msg_start, len(result))\n"
     ]
    }
   ],
   "source": [
    "# Share Information classifier\n",
    "clf_shareinfo = RandomForestClassifier(max_depth=2, random_state=0)\n",
    "clf_shareinfo.fit(X_train, y_train_share_information)\n",
    "y_pred_shareinfo = clf_shareinfo.predict(X_train)\n",
    "y_pred_test_shareinfo = clf_shareinfo.predict(X_test)\n",
    "print(classification_report(y_pred_shareinfo, y_train_share_information))"
   ]
  },
  {
   "cell_type": "code",
   "execution_count": 86,
   "metadata": {},
   "outputs": [
    {
     "name": "stdout",
     "output_type": "stream",
     "text": [
      "              precision    recall  f1-score   support\n",
      "\n",
      "         0.0       0.00      0.00      0.00         0\n",
      "         1.0       1.00      0.80      0.89      3210\n",
      "\n",
      "    accuracy                           0.80      3210\n",
      "   macro avg       0.50      0.40      0.44      3210\n",
      "weighted avg       1.00      0.80      0.89      3210\n",
      "\n"
     ]
    },
    {
     "name": "stderr",
     "output_type": "stream",
     "text": [
      "C:\\Users\\lynne\\anaconda3\\envs\\tf-gpu\\lib\\site-packages\\sklearn\\metrics\\_classification.py:1221: UndefinedMetricWarning: Recall and F-score are ill-defined and being set to 0.0 in labels with no true samples. Use `zero_division` parameter to control this behavior.\n",
      "  _warn_prf(average, modifier, msg_start, len(result))\n"
     ]
    }
   ],
   "source": [
    "# Reasoning classifier\n",
    "clf_reasoning = RandomForestClassifier(max_depth=2, random_state=0)\n",
    "clf_reasoning.fit(X_train, y_train_reasoning)\n",
    "y_pred_reasoning = clf_reasoning.predict(X_train)\n",
    "y_pred_test_reasoning = clf_reasoning.predict(X_test)\n",
    "print(classification_report(y_pred_reasoning, y_train_reasoning))"
   ]
  },
  {
   "cell_type": "code",
   "execution_count": 109,
   "metadata": {},
   "outputs": [],
   "source": [
    "pred_df_arr = []\n",
    "for i in range(0, len(y_pred_gamemove)):\n",
    "    pred_obj = {}\n",
    "    pred_obj['gamemove'] = y_pred_gamemove[i]\n",
    "    pred_obj['reasoning'] = y_pred_reasoning[i]\n",
    "    pred_obj['shareinfo'] = y_pred_shareinfo[i]\n",
    "    pred_obj['rapport'] = y_pred_rapport[i]\n",
    "    \n",
    "    pred_df_arr.append(pred_obj)\n",
    "    \n",
    "pred_df = pd.DataFrame(pred_df_arr)"
   ]
  },
  {
   "cell_type": "code",
   "execution_count": 110,
   "metadata": {},
   "outputs": [],
   "source": [
    "pred_test_df_arr = []\n",
    "for i in range(0, len(y_pred_test_gamemove)):\n",
    "    pred_obj = {}\n",
    "    pred_obj['gamemove'] = y_pred_test_gamemove[i]\n",
    "    pred_obj['reasoning'] = y_pred_test_reasoning[i]\n",
    "    pred_obj['shareinfo'] = y_pred_test_shareinfo[i]\n",
    "    pred_obj['rapport'] = y_pred_test_rapport[i]\n",
    "    \n",
    "    pred_test_df_arr.append(pred_obj)\n",
    "    \n",
    "pred_test_df = pd.DataFrame(pred_test_df_arr)"
   ]
  },
  {
   "cell_type": "code",
   "execution_count": 51,
   "metadata": {},
   "outputs": [],
   "source": [
    "from keras import backend as K\n",
    "\n",
    "def recall_m(y_true, y_pred):\n",
    "    true_positives = K.sum(K.round(K.clip(y_true * y_pred, 0, 1)))\n",
    "    possible_positives = K.sum(K.round(K.clip(y_true, 0, 1)))\n",
    "    recall = true_positives / (possible_positives + K.epsilon())\n",
    "    return recall\n",
    "\n",
    "def precision_m(y_true, y_pred):\n",
    "    true_positives = K.sum(K.round(K.clip(y_true * y_pred, 0, 1)))\n",
    "    predicted_positives = K.sum(K.round(K.clip(y_pred, 0, 1)))\n",
    "    precision = true_positives / (predicted_positives + K.epsilon())\n",
    "    return precision\n",
    "\n",
    "def f1_m(y_true, y_pred):\n",
    "    precision = precision_m(y_true, y_pred)\n",
    "    recall = recall_m(y_true, y_pred)\n",
    "    return 2*((precision*recall)/(precision+recall+K.epsilon()))\n",
    "\n",
    "callback = tf.keras.callbacks.EarlyStopping(\n",
    "    monitor='val_loss', min_delta=0, patience=0, verbose=0, mode='auto',\n",
    "    baseline=None, restore_best_weights=False\n",
    ")"
   ]
  },
  {
   "cell_type": "code",
   "execution_count": 112,
   "metadata": {},
   "outputs": [
    {
     "name": "stdout",
     "output_type": "stream",
     "text": [
      "Epoch 1/32\n",
      "51/51 [==============================] - 0s 8ms/step - loss: 7.7125 - acc: 0.0458 - f1_m: 0.0000e+00 - precision_m: 0.0000e+00 - recall_m: 0.0000e+00 - val_loss: 7.7125 - val_acc: 0.0523 - val_f1_m: 0.0000e+00 - val_precision_m: 0.0000e+00 - val_recall_m: 0.0000e+00\n",
      "Epoch 2/32\n",
      "51/51 [==============================] - 0s 4ms/step - loss: 7.7125 - acc: 0.0458 - f1_m: 0.0000e+00 - precision_m: 0.0000e+00 - recall_m: 0.0000e+00 - val_loss: 7.7125 - val_acc: 0.0523 - val_f1_m: 0.0000e+00 - val_precision_m: 0.0000e+00 - val_recall_m: 0.0000e+00\n"
     ]
    }
   ],
   "source": [
    "# Combined model\n",
    "\n",
    "inputB = Input(shape=(pred_df.shape[1],))\n",
    "c = Dense(2, activation='relu')(inputB)\n",
    "c = Dense(4, activation='relu')(c)\n",
    "c = Dense(2, activation='linear')(c)\n",
    "m = Model(inputs=inputB, outputs=c)\n",
    "\n",
    "m.compile(loss='binary_crossentropy', optimizer='adam', \n",
    "                      metrics=['acc',f1_m, precision_m,recall_m])\n",
    "history = m.fit(x=pred_df, y=y_train_deception, epochs=32, \n",
    "                    batch_size=64, \n",
    "                    validation_data=(pred_test_df,y_test_deception), callbacks=[callback])"
   ]
  },
  {
   "cell_type": "code",
   "execution_count": null,
   "metadata": {},
   "outputs": [],
   "source": []
  },
  {
   "cell_type": "markdown",
   "metadata": {},
   "source": [
    "### Individual Classifiers are MLP"
   ]
  },
  {
   "cell_type": "code",
   "execution_count": 113,
   "metadata": {},
   "outputs": [],
   "source": [
    "y_train_deception = to_categorical(train['Input.deception_quadrant_cat'].tolist())\n",
    "y_train_rapport = to_categorical(train['affcon_rapport'].tolist())\n",
    "y_train_share_information = to_categorical(train['affcon_shareinformation'].tolist())\n",
    "y_train_reasoning = to_categorical(train['affcon_reasoning'].tolist())\n",
    "y_train_gamemove = to_categorical(train['affcon_gamemove'].tolist())\n",
    "\n",
    "y_test_deception = to_categorical(test['Input.deception_quadrant_cat'].tolist())\n",
    "y_test_rapport = to_categorical(test['affcon_rapport'].tolist())\n",
    "y_test_share_information = to_categorical(test['affcon_shareinformation'].tolist())\n",
    "y_test_reasoning = to_categorical(test['affcon_reasoning'].tolist())\n",
    "y_test_gamemove = to_categorical(test['affcon_gamemove'].tolist())\n",
    "\n",
    "X_train = train.drop(columns=['affcon_gamemove', 'affcon_reasoning',\n",
    "                              'affcon_rapport', 'affcon_shareinformation', 'Input.deception_quadrant',\n",
    "                              'Input.deception_quadrant_cat'])\n",
    "\n",
    "X_test = test.drop(columns=['affcon_gamemove', 'affcon_reasoning',\n",
    "                              'affcon_rapport', 'affcon_shareinformation', 'Input.deception_quadrant',\n",
    "                              'Input.deception_quadrant_cat'])"
   ]
  },
  {
   "cell_type": "code",
   "execution_count": 114,
   "metadata": {},
   "outputs": [
    {
     "name": "stdout",
     "output_type": "stream",
     "text": [
      "Epoch 1/32\n",
      "41/41 [==============================] - 0s 8ms/step - loss: 4.4695 - acc: 0.8357 - f1_m: 0.5196 - precision_m: 0.5271 - recall_m: 0.5343 - val_loss: 3.3540 - val_acc: 0.8489 - val_f1_m: 0.4062 - val_precision_m: 0.5493 - val_recall_m: 0.3281\n",
      "Epoch 2/32\n",
      "41/41 [==============================] - 0s 4ms/step - loss: 3.0580 - acc: 0.8431 - f1_m: 0.3630 - precision_m: 0.5515 - recall_m: 0.2763 - val_loss: 3.0895 - val_acc: 0.8489 - val_f1_m: 0.4206 - val_precision_m: 0.5631 - val_recall_m: 0.3409\n",
      "Epoch 3/32\n",
      "41/41 [==============================] - 0s 4ms/step - loss: 2.7283 - acc: 0.8431 - f1_m: 0.2841 - precision_m: 0.5674 - recall_m: 0.2069 - val_loss: 2.3662 - val_acc: 0.8474 - val_f1_m: 0.1205 - val_precision_m: 0.5567 - val_recall_m: 0.0682\n",
      "Epoch 4/32\n",
      "41/41 [==============================] - 0s 4ms/step - loss: 2.4846 - acc: 0.8438 - f1_m: 0.2330 - precision_m: 0.6070 - recall_m: 0.1521 - val_loss: 2.5463 - val_acc: 0.8489 - val_f1_m: 0.3652 - val_precision_m: 0.6157 - val_recall_m: 0.2614\n",
      "0.637887716293335 0.2423878312110901 0.3458583950996399\n"
     ]
    }
   ],
   "source": [
    "# Game move model\n",
    "inputB = Input(shape=(X_train.shape[1],))\n",
    "c = Dense(2, activation='relu')(inputB)\n",
    "c = Dense(4, activation='relu')(c)\n",
    "c = Dense(2, activation='linear')(c)\n",
    "gamemove_model = Model(inputs=inputB, outputs=c)\n",
    "\n",
    "gamemove_model.compile(loss='binary_crossentropy', optimizer='adam', \n",
    "                      metrics=['acc',f1_m,precision_m, recall_m])\n",
    "history = gamemove_model.fit(x=X_train, y=y_train_gamemove, epochs=32, \n",
    "                    batch_size=64, \n",
    "                    validation_split=0.2, callbacks=[callback])\n",
    "loss, accuracy, f1_score, precision, recall = gamemove_model.evaluate(X_test, y_test_gamemove, verbose=0)\n",
    "print(precision, recall, f1_score)\n",
    "\n",
    "y_pred_gamemove = gamemove_model.predict(X_train)\n",
    "y_pred_test_gamemove = gamemove_model.predict(X_test)"
   ]
  },
  {
   "cell_type": "code",
   "execution_count": null,
   "metadata": {},
   "outputs": [],
   "source": [
    "# Reasoning model\n",
    "inputB = Input(shape=(X_train.shape[1],))\n",
    "c = Dense(2, activation='relu')(inputB)\n",
    "c = Dense(4, activation='relu')(c)\n",
    "c = Dense(2, activation='linear')(c)\n",
    "gamemove_model = Model(inputs=inputB, outputs=c)\n",
    "\n",
    "gamemove_model.compile(loss='binary_crossentropy', optimizer='adam', \n",
    "                      metrics=['acc',f1_m,precision_m, recall_m])\n",
    "history = gamemove_model.fit(x=X_train, y=y_train_gamemove, epochs=32, \n",
    "                    batch_size=64, \n",
    "                    validation_split=0.2, callbacks=[callback])\n",
    "loss, accuracy, f1_score, precision, recall = gamemove_model.evaluate(X_test, y_test_gamemove, verbose=0)\n",
    "print(precision, recall, f1_score)\n",
    "\n",
    "y_pred_gamemove = gamemove_model.predict(X_train)\n",
    "y_pred_test_gamemove = gamemove_model.predict(X_test)"
   ]
  },
  {
   "cell_type": "code",
   "execution_count": null,
   "metadata": {},
   "outputs": [],
   "source": []
  },
  {
   "cell_type": "markdown",
   "metadata": {},
   "source": [
    "### Individual classifiers are LSTMs"
   ]
  },
  {
   "cell_type": "code",
   "execution_count": 55,
   "metadata": {},
   "outputs": [],
   "source": [
    "train, test = train_test_split(df, test_size=0.2)\n",
    "\n",
    "y_train_deception = train['Input.deception_quadrant_cat'].tolist()\n",
    "y_train_rapport = train['affcon_rapport'].tolist()\n",
    "y_train_share_information = train['affcon_shareinformation'].tolist()\n",
    "y_train_reasoning = train['affcon_reasoning'].tolist()\n",
    "y_train_gamemove = train['affcon_gamemove'].tolist()\n",
    "\n",
    "y_test_deception = test['Input.deception_quadrant_cat'].tolist()\n",
    "y_test_rapport = test['affcon_rapport'].tolist()\n",
    "y_test_share_information = test['affcon_shareinformation'].tolist()\n",
    "y_test_reasoning = test['affcon_reasoning'].tolist()\n",
    "y_test_gamemove = test['affcon_gamemove'].tolist()\n",
    "\n",
    "X_train_col = train['Input.full_text']\n",
    "\n",
    "X_test_col = test['Input.full_text']"
   ]
  },
  {
   "cell_type": "code",
   "execution_count": 61,
   "metadata": {},
   "outputs": [],
   "source": [
    "le = LabelEncoder()\n",
    "\n",
    "y_train_deception = le.fit_transform(y_train_deception)\n",
    "y_train_deception = y_train_deception.reshape(-1,1)\n",
    "\n",
    "y_train_rapport = le.fit_transform(y_train_rapport)\n",
    "y_train_rapport = y_train_rapport.reshape(-1,1)\n",
    "\n",
    "y_train_share_information = le.fit_transform(y_train_share_information)\n",
    "y_train_share_information = y_train_share_information.reshape(-1,1)\n",
    "\n",
    "y_train_reasoning = le.fit_transform(y_train_reasoning)\n",
    "y_train_reasoning = y_train_reasoning.reshape(-1,1)\n",
    "\n",
    "y_train_gamemove = le.fit_transform(y_train_gamemove)\n",
    "y_train_gamemove = y_train_gamemove.reshape(-1,1)\n",
    "\n",
    "y_test_rapport = le.fit_transform(y_test_rapport)\n",
    "y_test_rapport = y_test_rapport.reshape(-1,1)\n",
    "\n",
    "y_test_share_information = le.fit_transform(y_test_share_information)\n",
    "y_test_share_information = y_test_share_information.reshape(-1,1)\n",
    "\n",
    "y_test_reasoning = le.fit_transform(y_test_reasoning)\n",
    "y_test_reasoning = y_test_reasoning.reshape(-1,1)\n",
    "\n",
    "y_test_gamemove = le.fit_transform(y_test_gamemove)\n",
    "y_test_gamemove = y_test_gamemove.reshape(-1,1)"
   ]
  },
  {
   "cell_type": "code",
   "execution_count": 58,
   "metadata": {},
   "outputs": [],
   "source": [
    "max_words = 1000\n",
    "max_len = 220\n",
    "\n",
    "tok = Tokenizer(num_words=max_words)\n",
    "\n",
    "tok.fit_on_texts(X_train_col)\n",
    "X_train_sequences = tok.texts_to_sequences(X_train_col)\n",
    "X_train = pad_sequences(X_train_sequences, maxlen=max_len)\n",
    "\n",
    "tok.fit_on_texts(X_test_col)\n",
    "X_test_sequences = tok.texts_to_sequences(X_test_col)\n",
    "X_test = pad_sequences(X_test_sequences, maxlen=max_len)"
   ]
  },
  {
   "cell_type": "code",
   "execution_count": 48,
   "metadata": {},
   "outputs": [],
   "source": [
    "early_stop = EarlyStopping(monitor='val_loss',min_delta=0.00001)\n",
    "def create_lstm():\n",
    "    Inp = Input(name='inputs', shape=[max_len])\n",
    "    x = Embedding(max_words, 50, input_length=max_len)(Inp)\n",
    "    x = LSTM(64, name='LSTM_01')(x)\n",
    "    x = Dropout(0.5, name='Dropout')(x)\n",
    "    x = Dense(128, activation='relu',name='Dense_01')(x)\n",
    "    # x = Dropout(0.5,name='Dropout')(x)\n",
    "    out = Dense(1,activation='sigmoid', name='output')(x)\n",
    "    model = Model(inputs=Inp, outputs=out)\n",
    "    \n",
    "    return model"
   ]
  },
  {
   "cell_type": "code",
   "execution_count": 60,
   "metadata": {},
   "outputs": [
    {
     "name": "stdout",
     "output_type": "stream",
     "text": [
      "Epoch 1/15\n",
      "26/26 [==============================] - 1s 52ms/step - loss: 0.5210 - accuracy: 0.8184 - val_loss: 0.4999 - val_accuracy: 0.8356\n",
      "Epoch 2/15\n",
      "26/26 [==============================] - 1s 36ms/step - loss: 0.4668 - accuracy: 0.8265 - val_loss: 0.4528 - val_accuracy: 0.8356\n",
      "Epoch 3/15\n",
      "26/26 [==============================] - 1s 36ms/step - loss: 0.4661 - accuracy: 0.8265 - val_loss: 0.4686 - val_accuracy: 0.8356\n"
     ]
    },
    {
     "data": {
      "text/plain": [
       "<tensorflow.python.keras.callbacks.History at 0x18c73d965c8>"
      ]
     },
     "execution_count": 60,
     "metadata": {},
     "output_type": "execute_result"
    }
   ],
   "source": [
    "# Rapport model\n",
    "rapport_model = create_lstm()\n",
    "rapport_model.compile(loss='binary_crossentropy',optimizer=RMSprop(),metrics=['accuracy'])\n",
    "rapport_model.fit(X_train,y_train_rapport,\n",
    "          batch_size=128,\n",
    "          epochs=15,\n",
    "          validation_data=(X_test, y_test_rapport), callbacks=[early_stop])"
   ]
  },
  {
   "cell_type": "code",
   "execution_count": 62,
   "metadata": {},
   "outputs": [
    {
     "name": "stdout",
     "output_type": "stream",
     "text": [
      "Epoch 1/15\n",
      "26/26 [==============================] - 1s 48ms/step - loss: 0.4875 - accuracy: 0.8174 - val_loss: 0.4051 - val_accuracy: 0.8605\n",
      "Epoch 2/15\n",
      "26/26 [==============================] - 1s 33ms/step - loss: 0.4462 - accuracy: 0.8389 - val_loss: 0.4059 - val_accuracy: 0.8605\n"
     ]
    },
    {
     "data": {
      "text/plain": [
       "<tensorflow.python.keras.callbacks.History at 0x18e1659e688>"
      ]
     },
     "execution_count": 62,
     "metadata": {},
     "output_type": "execute_result"
    }
   ],
   "source": [
    "# Game move model\n",
    "gamemove_model = create_lstm()\n",
    "gamemove_model.compile(loss='binary_crossentropy',optimizer=RMSprop(),metrics=['accuracy'])\n",
    "gamemove_model.fit(X_train,y_train_gamemove,\n",
    "          batch_size=128,\n",
    "          epochs=15,\n",
    "          validation_data=(X_test, y_test_gamemove), callbacks=[early_stop])"
   ]
  },
  {
   "cell_type": "code",
   "execution_count": 63,
   "metadata": {},
   "outputs": [
    {
     "name": "stdout",
     "output_type": "stream",
     "text": [
      "Epoch 1/15\n",
      "26/26 [==============================] - 1s 49ms/step - loss: 0.5367 - accuracy: 0.7947 - val_loss: 0.4990 - val_accuracy: 0.8095\n",
      "Epoch 2/15\n",
      "26/26 [==============================] - 1s 33ms/step - loss: 0.5058 - accuracy: 0.8009 - val_loss: 0.4884 - val_accuracy: 0.8095\n",
      "Epoch 3/15\n",
      "26/26 [==============================] - 1s 33ms/step - loss: 0.5004 - accuracy: 0.8009 - val_loss: 0.4916 - val_accuracy: 0.8095\n"
     ]
    },
    {
     "data": {
      "text/plain": [
       "<tensorflow.python.keras.callbacks.History at 0x18e19b00b08>"
      ]
     },
     "execution_count": 63,
     "metadata": {},
     "output_type": "execute_result"
    }
   ],
   "source": [
    "# Reasoning model\n",
    "reasoning_model = create_lstm()\n",
    "reasoning_model.compile(loss='binary_crossentropy',optimizer=RMSprop(),metrics=['accuracy'])\n",
    "reasoning_model.fit(X_train,y_train_reasoning,\n",
    "          batch_size=128,\n",
    "          epochs=15,\n",
    "          validation_data=(X_test, y_test_reasoning), callbacks=[early_stop])"
   ]
  },
  {
   "cell_type": "code",
   "execution_count": 65,
   "metadata": {},
   "outputs": [
    {
     "name": "stdout",
     "output_type": "stream",
     "text": [
      "Epoch 1/15\n",
      "26/26 [==============================] - 2s 61ms/step - loss: 0.5280 - accuracy: 0.7935 - val_loss: 0.4761 - val_accuracy: 0.8306\n",
      "Epoch 2/15\n",
      "26/26 [==============================] - 1s 33ms/step - loss: 0.5030 - accuracy: 0.8044 - val_loss: 0.5416 - val_accuracy: 0.8306\n"
     ]
    },
    {
     "data": {
      "text/plain": [
       "<tensorflow.python.keras.callbacks.History at 0x18e1f962848>"
      ]
     },
     "execution_count": 65,
     "metadata": {},
     "output_type": "execute_result"
    }
   ],
   "source": [
    "# Share Information model\n",
    "shareinfo_model = create_lstm()\n",
    "shareinfo_model.compile(loss='binary_crossentropy',optimizer=RMSprop(),metrics=['accuracy'])\n",
    "shareinfo_model.fit(X_train,y_train_share_information,\n",
    "          batch_size=128,\n",
    "          epochs=15,\n",
    "          validation_data=(X_test, y_test_share_information), callbacks=[early_stop])"
   ]
  },
  {
   "cell_type": "code",
   "execution_count": 67,
   "metadata": {},
   "outputs": [
    {
     "ename": "NameError",
     "evalue": "name 'max_length' is not defined",
     "output_type": "error",
     "traceback": [
      "\u001b[1;31m---------------------------------------------------------------------------\u001b[0m",
      "\u001b[1;31mNameError\u001b[0m                                 Traceback (most recent call last)",
      "\u001b[1;32m<ipython-input-67-dfa481ec42fd>\u001b[0m in \u001b[0;36m<module>\u001b[1;34m\u001b[0m\n\u001b[0;32m      2\u001b[0m \u001b[1;32mfrom\u001b[0m \u001b[0mkeras\u001b[0m\u001b[1;33m.\u001b[0m\u001b[0mlayers\u001b[0m \u001b[1;32mimport\u001b[0m \u001b[1;33m*\u001b[0m\u001b[1;33m\u001b[0m\u001b[1;33m\u001b[0m\u001b[0m\n\u001b[0;32m      3\u001b[0m \u001b[1;33m\u001b[0m\u001b[0m\n\u001b[1;32m----> 4\u001b[1;33m \u001b[0mcommonInput\u001b[0m \u001b[1;33m=\u001b[0m \u001b[0mtf\u001b[0m\u001b[1;33m.\u001b[0m\u001b[0mkeras\u001b[0m\u001b[1;33m.\u001b[0m\u001b[0mlayers\u001b[0m\u001b[1;33m.\u001b[0m\u001b[0mInput\u001b[0m\u001b[1;33m(\u001b[0m\u001b[0mshape\u001b[0m\u001b[1;33m=\u001b[0m\u001b[1;33m(\u001b[0m\u001b[0mmax_length\u001b[0m\u001b[1;33m,\u001b[0m\u001b[1;33m)\u001b[0m\u001b[1;33m)\u001b[0m\u001b[1;33m\u001b[0m\u001b[1;33m\u001b[0m\u001b[0m\n\u001b[0m\u001b[0;32m      5\u001b[0m \u001b[1;33m\u001b[0m\u001b[0m\n\u001b[0;32m      6\u001b[0m \u001b[0mout1\u001b[0m \u001b[1;33m=\u001b[0m \u001b[0mgamemove_model\u001b[0m\u001b[1;33m(\u001b[0m\u001b[0mcommonInput\u001b[0m\u001b[1;33m)\u001b[0m\u001b[1;33m\u001b[0m\u001b[1;33m\u001b[0m\u001b[0m\n",
      "\u001b[1;31mNameError\u001b[0m: name 'max_length' is not defined"
     ]
    }
   ],
   "source": [
    "# Joint Model\n",
    "commonInput = Input(shape=[max_len])\n",
    "\n",
    "out1 = gamemove_model(commonInput)    \n",
    "out2 = reasoning_model(commonInput)   \n",
    "out3 = shareinfo_model(commonInput)\n",
    "out4 = rapport_model(commonInput)\n",
    "mergedOut = Add()([out1,out2,out3,out4])\n",
    "\n",
    "mergedOut = Flatten()(mergedOut)    \n",
    "mergedOut = Dense(256, activation='relu')(mergedOut)\n",
    "mergedOut = Dropout(.5)(mergedOut)\n",
    "mergedOut = Dense(128, activation='relu')(mergedOut)\n",
    "mergedOut = Dropout(.35)(mergedOut)\n",
    "mergedOut = tf.keras.layers.Dense(2, activation='softmax')(mergedOut)  #Cuz binary\n",
    "\n",
    "mergedModel = tf.keras.Model(commonInput, mergedOut)\n",
    "mergedModel.compile(loss='binary_crossentropy', optimizer=RMSprop(), metrics=['accuracy'])\n",
    "shareinfo_model.fit(X_train,y_train_deception,\n",
    "          batch_size=128,\n",
    "          epochs=15,\n",
    "          validation_data=(X_test, y_test_deception), callbacks=[early_stop])"
   ]
  }
 ],
 "metadata": {
  "kernelspec": {
   "display_name": "tfgpu",
   "language": "python",
   "name": "tfgpu"
  },
  "language_info": {
   "codemirror_mode": {
    "name": "ipython",
    "version": 3
   },
   "file_extension": ".py",
   "mimetype": "text/x-python",
   "name": "python",
   "nbconvert_exporter": "python",
   "pygments_lexer": "ipython3",
   "version": "3.7.9"
  }
 },
 "nbformat": 4,
 "nbformat_minor": 4
}
