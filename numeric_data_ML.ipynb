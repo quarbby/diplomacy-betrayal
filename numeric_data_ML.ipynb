{
 "cells": [
  {
   "cell_type": "code",
   "execution_count": 1,
   "metadata": {},
   "outputs": [],
   "source": [
    "import pandas as pd\n",
    "import numpy as np\n",
    "\n",
    "from sklearn.metrics import classification_report\n",
    "from sklearn.metrics import accuracy_score"
   ]
  },
  {
   "cell_type": "code",
   "execution_count": 2,
   "metadata": {},
   "outputs": [],
   "source": [
    "full_df = pd.read_csv('politeness_strategies_merge_pruned.csv')\n",
    "politeness_df = pd.read_csv('politeness_strategies_affcon_4_categories.csv')\n",
    "liwc_df = pd.read_csv('LIWC2015 Results_affcon_4_categories_pruned.csv')"
   ]
  },
  {
   "cell_type": "code",
   "execution_count": 3,
   "metadata": {},
   "outputs": [],
   "source": [
    "from sklearn.model_selection import train_test_split\n",
    "\n",
    "all_cols = ['affcon_rapport', 'affcon_shareinformation', 'affcon_gamemove', 'affcon_reasoning', \n",
    "                                                    'Input.deception_quadrant']\n",
    "liwc_cols = ['affcon_rapport', 'affcon_shareinformation', 'affcon_gamemove', 'affcon_reasoning']\n",
    "\n",
    "df = full_df\n",
    "cols = all_cols\n",
    "\n",
    "df_stripped = df.drop(columns=cols)"
   ]
  },
  {
   "cell_type": "code",
   "execution_count": 4,
   "metadata": {},
   "outputs": [
    {
     "name": "stdout",
     "output_type": "stream",
     "text": [
      "affcon_rapport\n"
     ]
    },
    {
     "name": "stderr",
     "output_type": "stream",
     "text": [
      "C:\\Users\\lynne\\Anaconda3\\lib\\site-packages\\sklearn\\linear_model\\_logistic.py:764: ConvergenceWarning: lbfgs failed to converge (status=1):\n",
      "STOP: TOTAL NO. of ITERATIONS REACHED LIMIT.\n",
      "\n",
      "Increase the number of iterations (max_iter) or scale the data as shown in:\n",
      "    https://scikit-learn.org/stable/modules/preprocessing.html\n",
      "Please also refer to the documentation for alternative solver options:\n",
      "    https://scikit-learn.org/stable/modules/linear_model.html#logistic-regression\n",
      "  extra_warning_msg=_LOGISTIC_SOLVER_CONVERGENCE_MSG)\n"
     ]
    },
    {
     "name": "stdout",
     "output_type": "stream",
     "text": [
      "              precision    recall  f1-score   support\n",
      "\n",
      "           0       0.47      0.13      0.20      1273\n",
      "           1       0.60      0.90      0.72      1875\n",
      "\n",
      "    accuracy                           0.59      3148\n",
      "   macro avg       0.54      0.52      0.46      3148\n",
      "weighted avg       0.55      0.59      0.51      3148\n",
      "\n",
      "affcon_shareinformation\n"
     ]
    },
    {
     "name": "stderr",
     "output_type": "stream",
     "text": [
      "C:\\Users\\lynne\\Anaconda3\\lib\\site-packages\\sklearn\\linear_model\\_logistic.py:764: ConvergenceWarning: lbfgs failed to converge (status=1):\n",
      "STOP: TOTAL NO. of ITERATIONS REACHED LIMIT.\n",
      "\n",
      "Increase the number of iterations (max_iter) or scale the data as shown in:\n",
      "    https://scikit-learn.org/stable/modules/preprocessing.html\n",
      "Please also refer to the documentation for alternative solver options:\n",
      "    https://scikit-learn.org/stable/modules/linear_model.html#logistic-regression\n",
      "  extra_warning_msg=_LOGISTIC_SOLVER_CONVERGENCE_MSG)\n"
     ]
    },
    {
     "name": "stdout",
     "output_type": "stream",
     "text": [
      "              precision    recall  f1-score   support\n",
      "\n",
      "           0       0.55      0.47      0.51      1527\n",
      "           1       0.56      0.65      0.60      1621\n",
      "\n",
      "    accuracy                           0.56      3148\n",
      "   macro avg       0.56      0.56      0.55      3148\n",
      "weighted avg       0.56      0.56      0.56      3148\n",
      "\n",
      "affcon_gamemove\n"
     ]
    },
    {
     "name": "stderr",
     "output_type": "stream",
     "text": [
      "C:\\Users\\lynne\\Anaconda3\\lib\\site-packages\\sklearn\\linear_model\\_logistic.py:764: ConvergenceWarning: lbfgs failed to converge (status=1):\n",
      "STOP: TOTAL NO. of ITERATIONS REACHED LIMIT.\n",
      "\n",
      "Increase the number of iterations (max_iter) or scale the data as shown in:\n",
      "    https://scikit-learn.org/stable/modules/preprocessing.html\n",
      "Please also refer to the documentation for alternative solver options:\n",
      "    https://scikit-learn.org/stable/modules/linear_model.html#logistic-regression\n",
      "  extra_warning_msg=_LOGISTIC_SOLVER_CONVERGENCE_MSG)\n"
     ]
    },
    {
     "name": "stdout",
     "output_type": "stream",
     "text": [
      "              precision    recall  f1-score   support\n",
      "\n",
      "           0       0.29      0.01      0.01       936\n",
      "           1       0.70      0.99      0.82      2212\n",
      "\n",
      "    accuracy                           0.70      3148\n",
      "   macro avg       0.49      0.50      0.42      3148\n",
      "weighted avg       0.58      0.70      0.58      3148\n",
      "\n",
      "affcon_reasoning\n"
     ]
    },
    {
     "name": "stderr",
     "output_type": "stream",
     "text": [
      "C:\\Users\\lynne\\Anaconda3\\lib\\site-packages\\sklearn\\linear_model\\_logistic.py:764: ConvergenceWarning: lbfgs failed to converge (status=1):\n",
      "STOP: TOTAL NO. of ITERATIONS REACHED LIMIT.\n",
      "\n",
      "Increase the number of iterations (max_iter) or scale the data as shown in:\n",
      "    https://scikit-learn.org/stable/modules/preprocessing.html\n",
      "Please also refer to the documentation for alternative solver options:\n",
      "    https://scikit-learn.org/stable/modules/linear_model.html#logistic-regression\n",
      "  extra_warning_msg=_LOGISTIC_SOLVER_CONVERGENCE_MSG)\n"
     ]
    },
    {
     "name": "stdout",
     "output_type": "stream",
     "text": [
      "              precision    recall  f1-score   support\n",
      "\n",
      "           0       0.53      0.16      0.25       731\n",
      "           1       0.79      0.96      0.87      2417\n",
      "\n",
      "    accuracy                           0.77      3148\n",
      "   macro avg       0.66      0.56      0.56      3148\n",
      "weighted avg       0.73      0.77      0.72      3148\n",
      "\n",
      "Input.deception_quadrant\n"
     ]
    },
    {
     "name": "stderr",
     "output_type": "stream",
     "text": [
      "C:\\Users\\lynne\\Anaconda3\\lib\\site-packages\\sklearn\\linear_model\\_logistic.py:764: ConvergenceWarning: lbfgs failed to converge (status=1):\n",
      "STOP: TOTAL NO. of ITERATIONS REACHED LIMIT.\n",
      "\n",
      "Increase the number of iterations (max_iter) or scale the data as shown in:\n",
      "    https://scikit-learn.org/stable/modules/preprocessing.html\n",
      "Please also refer to the documentation for alternative solver options:\n",
      "    https://scikit-learn.org/stable/modules/linear_model.html#logistic-regression\n",
      "  extra_warning_msg=_LOGISTIC_SOLVER_CONVERGENCE_MSG)\n",
      "C:\\Users\\lynne\\Anaconda3\\lib\\site-packages\\sklearn\\metrics\\_classification.py:1221: UndefinedMetricWarning: Precision and F-score are ill-defined and being set to 0.0 in labels with no predicted samples. Use `zero_division` parameter to control this behavior.\n",
      "  _warn_prf(average, modifier, msg_start, len(result))\n"
     ]
    },
    {
     "name": "stdout",
     "output_type": "stream",
     "text": [
      "                 precision    recall  f1-score   support\n",
      "\n",
      "      Cassandra       0.00      0.00      0.00       169\n",
      "Straightforward       0.95      1.00      0.97      2979\n",
      "\n",
      "       accuracy                           0.95      3148\n",
      "      macro avg       0.47      0.50      0.49      3148\n",
      "   weighted avg       0.90      0.95      0.92      3148\n",
      "\n"
     ]
    }
   ],
   "source": [
    "from sklearn.linear_model import LogisticRegression\n",
    "\n",
    "for c in cols:\n",
    "    print(c)\n",
    "    y = df[c]\n",
    "    \n",
    "    X_train, X_test, y_train, y_test = train_test_split(df_stripped, y, test_size=0.2, train_size=0.8)\n",
    "    \n",
    "    clf = LogisticRegression(random_state=0).fit(X_train, y_train)\n",
    "    y_pred = clf.predict(X_test)\n",
    "    print(classification_report(y_test, y_pred))"
   ]
  },
  {
   "cell_type": "code",
   "execution_count": 5,
   "metadata": {
    "scrolled": true
   },
   "outputs": [
    {
     "name": "stdout",
     "output_type": "stream",
     "text": [
      "affcon_rapport\n"
     ]
    },
    {
     "name": "stderr",
     "output_type": "stream",
     "text": [
      "C:\\Users\\lynne\\Anaconda3\\lib\\site-packages\\sklearn\\svm\\_base.py:977: ConvergenceWarning: Liblinear failed to converge, increase the number of iterations.\n",
      "  \"the number of iterations.\", ConvergenceWarning)\n"
     ]
    },
    {
     "name": "stdout",
     "output_type": "stream",
     "text": [
      "              precision    recall  f1-score   support\n",
      "\n",
      "           0       0.51      0.16      0.24      1278\n",
      "           1       0.61      0.90      0.73      1870\n",
      "\n",
      "    accuracy                           0.60      3148\n",
      "   macro avg       0.56      0.53      0.48      3148\n",
      "weighted avg       0.57      0.60      0.53      3148\n",
      "\n",
      "affcon_shareinformation\n"
     ]
    },
    {
     "name": "stderr",
     "output_type": "stream",
     "text": [
      "C:\\Users\\lynne\\Anaconda3\\lib\\site-packages\\sklearn\\svm\\_base.py:977: ConvergenceWarning: Liblinear failed to converge, increase the number of iterations.\n",
      "  \"the number of iterations.\", ConvergenceWarning)\n"
     ]
    },
    {
     "name": "stdout",
     "output_type": "stream",
     "text": [
      "              precision    recall  f1-score   support\n",
      "\n",
      "           0       0.58      0.46      0.51      1504\n",
      "           1       0.58      0.69      0.63      1644\n",
      "\n",
      "    accuracy                           0.58      3148\n",
      "   macro avg       0.58      0.57      0.57      3148\n",
      "weighted avg       0.58      0.58      0.57      3148\n",
      "\n",
      "affcon_gamemove\n"
     ]
    },
    {
     "name": "stderr",
     "output_type": "stream",
     "text": [
      "C:\\Users\\lynne\\Anaconda3\\lib\\site-packages\\sklearn\\svm\\_base.py:977: ConvergenceWarning: Liblinear failed to converge, increase the number of iterations.\n",
      "  \"the number of iterations.\", ConvergenceWarning)\n"
     ]
    },
    {
     "name": "stdout",
     "output_type": "stream",
     "text": [
      "              precision    recall  f1-score   support\n",
      "\n",
      "           0       0.32      0.01      0.02       912\n",
      "           1       0.71      0.99      0.83      2236\n",
      "\n",
      "    accuracy                           0.71      3148\n",
      "   macro avg       0.52      0.50      0.42      3148\n",
      "weighted avg       0.60      0.71      0.59      3148\n",
      "\n",
      "affcon_reasoning\n"
     ]
    },
    {
     "name": "stderr",
     "output_type": "stream",
     "text": [
      "C:\\Users\\lynne\\Anaconda3\\lib\\site-packages\\sklearn\\svm\\_base.py:977: ConvergenceWarning: Liblinear failed to converge, increase the number of iterations.\n",
      "  \"the number of iterations.\", ConvergenceWarning)\n"
     ]
    },
    {
     "name": "stdout",
     "output_type": "stream",
     "text": [
      "              precision    recall  f1-score   support\n",
      "\n",
      "           0       0.55      0.15      0.23       735\n",
      "           1       0.79      0.96      0.87      2413\n",
      "\n",
      "    accuracy                           0.77      3148\n",
      "   macro avg       0.67      0.55      0.55      3148\n",
      "weighted avg       0.73      0.77      0.72      3148\n",
      "\n",
      "Input.deception_quadrant\n",
      "                 precision    recall  f1-score   support\n",
      "\n",
      "      Cassandra       0.00      0.00      0.00       168\n",
      "Straightforward       0.95      1.00      0.97      2980\n",
      "\n",
      "       accuracy                           0.95      3148\n",
      "      macro avg       0.47      0.50      0.49      3148\n",
      "   weighted avg       0.90      0.95      0.92      3148\n",
      "\n"
     ]
    },
    {
     "name": "stderr",
     "output_type": "stream",
     "text": [
      "C:\\Users\\lynne\\Anaconda3\\lib\\site-packages\\sklearn\\svm\\_base.py:977: ConvergenceWarning: Liblinear failed to converge, increase the number of iterations.\n",
      "  \"the number of iterations.\", ConvergenceWarning)\n",
      "C:\\Users\\lynne\\Anaconda3\\lib\\site-packages\\sklearn\\metrics\\_classification.py:1221: UndefinedMetricWarning: Precision and F-score are ill-defined and being set to 0.0 in labels with no predicted samples. Use `zero_division` parameter to control this behavior.\n",
      "  _warn_prf(average, modifier, msg_start, len(result))\n"
     ]
    }
   ],
   "source": [
    "from sklearn.pipeline import make_pipeline\n",
    "from sklearn.svm import LinearSVC\n",
    "from sklearn.preprocessing import StandardScaler\n",
    "svm_clf = make_pipeline(StandardScaler(),  LinearSVC(random_state=0, tol=1e-5))\n",
    "\n",
    "for c in cols:\n",
    "    print(c)\n",
    "    y = df[c]\n",
    "    \n",
    "    X_train, X_test, y_train, y_test = train_test_split(df_stripped, y, test_size=0.2, train_size=0.8)\n",
    "\n",
    "    svm_clf.fit(X_train, y_train)\n",
    "    y_pred = svm_clf.predict(X_test)\n",
    "    print(classification_report(y_test, y_pred))"
   ]
  },
  {
   "cell_type": "code",
   "execution_count": 6,
   "metadata": {},
   "outputs": [
    {
     "name": "stdout",
     "output_type": "stream",
     "text": [
      "affcon_rapport\n",
      "              precision    recall  f1-score   support\n",
      "\n",
      "           0       0.16      0.47      0.23       421\n",
      "           1       0.88      0.60      0.72      2727\n",
      "\n",
      "    accuracy                           0.59      3148\n",
      "   macro avg       0.52      0.54      0.48      3148\n",
      "weighted avg       0.78      0.59      0.65      3148\n",
      "\n",
      "affcon_shareinformation\n",
      "              precision    recall  f1-score   support\n",
      "\n",
      "           0       0.48      0.59      0.52      1237\n",
      "           1       0.68      0.58      0.63      1911\n",
      "\n",
      "    accuracy                           0.58      3148\n",
      "   macro avg       0.58      0.58      0.58      3148\n",
      "weighted avg       0.60      0.58      0.59      3148\n",
      "\n",
      "affcon_gamemove\n",
      "              precision    recall  f1-score   support\n",
      "\n",
      "           0       0.01      0.36      0.02        22\n",
      "           1       0.99      0.72      0.84      3126\n",
      "\n",
      "    accuracy                           0.72      3148\n",
      "   macro avg       0.50      0.54      0.43      3148\n",
      "weighted avg       0.99      0.72      0.83      3148\n",
      "\n",
      "affcon_reasoning\n",
      "              precision    recall  f1-score   support\n",
      "\n",
      "           0       0.20      0.58      0.30       253\n",
      "           1       0.96      0.79      0.87      2895\n",
      "\n",
      "    accuracy                           0.78      3148\n",
      "   macro avg       0.58      0.69      0.58      3148\n",
      "weighted avg       0.90      0.78      0.82      3148\n",
      "\n",
      "Input.deception_quadrant\n",
      "                 precision    recall  f1-score   support\n",
      "\n",
      "      Cassandra       0.00      0.00      0.00         0\n",
      "Straightforward       1.00      0.95      0.97      3148\n",
      "\n",
      "       accuracy                           0.95      3148\n",
      "      macro avg       0.50      0.47      0.49      3148\n",
      "   weighted avg       1.00      0.95      0.97      3148\n",
      "\n"
     ]
    },
    {
     "name": "stderr",
     "output_type": "stream",
     "text": [
      "C:\\Users\\lynne\\Anaconda3\\lib\\site-packages\\sklearn\\metrics\\_classification.py:1221: UndefinedMetricWarning: Recall and F-score are ill-defined and being set to 0.0 in labels with no true samples. Use `zero_division` parameter to control this behavior.\n",
      "  _warn_prf(average, modifier, msg_start, len(result))\n"
     ]
    }
   ],
   "source": [
    "from sklearn.discriminant_analysis import LinearDiscriminantAnalysis\n",
    "\n",
    "lda_clf = LinearDiscriminantAnalysis()\n",
    "\n",
    "cols = ['affcon_rapport', 'affcon_shareinformation', 'affcon_gamemove', 'affcon_reasoning', \n",
    "                                                    'Input.deception_quadrant']\n",
    "\n",
    "y = df['affcon_rapport']\n",
    "\n",
    "for c in cols:\n",
    "    print(c)\n",
    "    y = politeness_df[c]\n",
    "    \n",
    "    X_train, X_test, y_train, y_test = train_test_split(df_stripped, y, test_size=0.2, train_size=0.8)\n",
    "\n",
    "    lda_clf.fit(X_train, y_train)\n",
    "    y_pred = lda_clf.predict(X_test)\n",
    "    print(classification_report(y_pred, y_test))"
   ]
  },
  {
   "cell_type": "code",
   "execution_count": 7,
   "metadata": {},
   "outputs": [
    {
     "name": "stdout",
     "output_type": "stream",
     "text": [
      "affcon_rapport\n",
      "              precision    recall  f1-score   support\n",
      "\n",
      "           0       0.32      0.41      0.36       921\n",
      "           1       0.72      0.64      0.68      2227\n",
      "\n",
      "    accuracy                           0.57      3148\n",
      "   macro avg       0.52      0.52      0.52      3148\n",
      "weighted avg       0.60      0.57      0.58      3148\n",
      "\n",
      "affcon_shareinformation\n",
      "              precision    recall  f1-score   support\n",
      "\n",
      "           0       0.45      0.50      0.47      1348\n",
      "           1       0.59      0.55      0.57      1800\n",
      "\n",
      "    accuracy                           0.53      3148\n",
      "   macro avg       0.52      0.52      0.52      3148\n",
      "weighted avg       0.53      0.53      0.53      3148\n",
      "\n",
      "affcon_gamemove\n",
      "              precision    recall  f1-score   support\n",
      "\n",
      "           0       0.10      0.24      0.14       356\n",
      "           1       0.88      0.72      0.79      2792\n",
      "\n",
      "    accuracy                           0.67      3148\n",
      "   macro avg       0.49      0.48      0.47      3148\n",
      "weighted avg       0.79      0.67      0.72      3148\n",
      "\n",
      "affcon_reasoning\n",
      "              precision    recall  f1-score   support\n",
      "\n",
      "           0       0.13      0.36      0.19       262\n",
      "           1       0.93      0.78      0.85      2886\n",
      "\n",
      "    accuracy                           0.74      3148\n",
      "   macro avg       0.53      0.57      0.52      3148\n",
      "weighted avg       0.86      0.74      0.79      3148\n",
      "\n",
      "Input.deception_quadrant\n",
      "                 precision    recall  f1-score   support\n",
      "\n",
      "      Cassandra       0.00      0.00      0.00         3\n",
      "Straightforward       1.00      0.95      0.97      3145\n",
      "\n",
      "       accuracy                           0.95      3148\n",
      "      macro avg       0.50      0.47      0.49      3148\n",
      "   weighted avg       1.00      0.95      0.97      3148\n",
      "\n"
     ]
    }
   ],
   "source": [
    "from sklearn.neighbors import KNeighborsClassifier\n",
    "KNN_model = KNeighborsClassifier(n_neighbors=5)\n",
    "\n",
    "cols = ['affcon_rapport', 'affcon_shareinformation', 'affcon_gamemove', 'affcon_reasoning', \n",
    "                                                    'Input.deception_quadrant']\n",
    "\n",
    "y = politeness_df['affcon_rapport']\n",
    "\n",
    "for c in cols:\n",
    "    print(c)\n",
    "    y = df[c]\n",
    "    \n",
    "    X_train, X_test, y_train, y_test = train_test_split(df_stripped, y, test_size=0.2, train_size=0.8)\n",
    "\n",
    "    KNN_model.fit(X_train, y_train)\n",
    "    KNN_prediction = KNN_model.predict(X_test)\n",
    "    print(classification_report(KNN_prediction, y_test))"
   ]
  },
  {
   "cell_type": "code",
   "execution_count": 8,
   "metadata": {},
   "outputs": [
    {
     "name": "stdout",
     "output_type": "stream",
     "text": [
      "affcon_rapport\n",
      "              precision    recall  f1-score   support\n",
      "\n",
      "           0       0.30      0.43      0.36       845\n",
      "           1       0.75      0.64      0.69      2303\n",
      "\n",
      "    accuracy                           0.58      3148\n",
      "   macro avg       0.53      0.53      0.52      3148\n",
      "weighted avg       0.63      0.58      0.60      3148\n",
      "\n",
      "affcon_shareinformation\n",
      "              precision    recall  f1-score   support\n",
      "\n",
      "           0       0.42      0.55      0.48      1143\n",
      "           1       0.69      0.57      0.63      2005\n",
      "\n",
      "    accuracy                           0.57      3148\n",
      "   macro avg       0.56      0.56      0.55      3148\n",
      "weighted avg       0.60      0.57      0.57      3148\n",
      "\n",
      "affcon_gamemove\n",
      "              precision    recall  f1-score   support\n",
      "\n",
      "           0       0.26      0.34      0.30       690\n",
      "           1       0.80      0.73      0.76      2458\n",
      "\n",
      "    accuracy                           0.64      3148\n",
      "   macro avg       0.53      0.53      0.53      3148\n",
      "weighted avg       0.68      0.64      0.66      3148\n",
      "\n",
      "affcon_reasoning\n",
      "              precision    recall  f1-score   support\n",
      "\n",
      "           0       0.36      0.37      0.36       752\n",
      "           1       0.80      0.80      0.80      2396\n",
      "\n",
      "    accuracy                           0.69      3148\n",
      "   macro avg       0.58      0.58      0.58      3148\n",
      "weighted avg       0.70      0.69      0.69      3148\n",
      "\n",
      "Input.deception_quadrant\n",
      "                 precision    recall  f1-score   support\n",
      "\n",
      "      Cassandra       0.91      0.06      0.11      2737\n",
      "Straightforward       0.13      0.96      0.23       411\n",
      "\n",
      "       accuracy                           0.18      3148\n",
      "      macro avg       0.52      0.51      0.17      3148\n",
      "   weighted avg       0.81      0.18      0.13      3148\n",
      "\n"
     ]
    }
   ],
   "source": [
    "from sklearn.naive_bayes import GaussianNB\n",
    "\n",
    "gnb = GaussianNB()\n",
    "\n",
    "cols = ['affcon_rapport', 'affcon_shareinformation', 'affcon_gamemove', 'affcon_reasoning', \n",
    "                                                    'Input.deception_quadrant']\n",
    "\n",
    "y = politeness_df['affcon_rapport']\n",
    "\n",
    "for c in cols:\n",
    "    print(c)\n",
    "    y = df[c]\n",
    "    \n",
    "    X_train, X_test, y_train, y_test = train_test_split(df_stripped, y, test_size=0.2, train_size=0.8)\n",
    "\n",
    "    gnb.fit(X_train, y_train)\n",
    "    y_pred = gnb.predict(X_test)\n",
    "    print(classification_report(y_pred, y_test))"
   ]
  },
  {
   "cell_type": "code",
   "execution_count": 9,
   "metadata": {},
   "outputs": [
    {
     "name": "stdout",
     "output_type": "stream",
     "text": [
      "affcon_rapport\n",
      "              precision    recall  f1-score   support\n",
      "\n",
      "           0       0.43      0.43      0.43      1248\n",
      "           1       0.63      0.63      0.63      1900\n",
      "\n",
      "    accuracy                           0.55      3148\n",
      "   macro avg       0.53      0.53      0.53      3148\n",
      "weighted avg       0.55      0.55      0.55      3148\n",
      "\n",
      "affcon_shareinformation\n",
      "              precision    recall  f1-score   support\n",
      "\n",
      "           0       0.51      0.52      0.51      1501\n",
      "           1       0.55      0.54      0.55      1647\n",
      "\n",
      "    accuracy                           0.53      3148\n",
      "   macro avg       0.53      0.53      0.53      3148\n",
      "weighted avg       0.53      0.53      0.53      3148\n",
      "\n",
      "affcon_gamemove\n",
      "              precision    recall  f1-score   support\n",
      "\n",
      "           0       0.32      0.30      0.31       957\n",
      "           1       0.70      0.72      0.71      2191\n",
      "\n",
      "    accuracy                           0.59      3148\n",
      "   macro avg       0.51      0.51      0.51      3148\n",
      "weighted avg       0.59      0.59      0.59      3148\n",
      "\n",
      "affcon_reasoning\n",
      "              precision    recall  f1-score   support\n",
      "\n",
      "           0       0.32      0.30      0.31       787\n",
      "           1       0.77      0.79      0.78      2361\n",
      "\n",
      "    accuracy                           0.67      3148\n",
      "   macro avg       0.55      0.54      0.54      3148\n",
      "weighted avg       0.66      0.67      0.66      3148\n",
      "\n",
      "Input.deception_quadrant\n",
      "                 precision    recall  f1-score   support\n",
      "\n",
      "      Cassandra       0.13      0.10      0.11       194\n",
      "Straightforward       0.94      0.96      0.95      2954\n",
      "\n",
      "       accuracy                           0.90      3148\n",
      "      macro avg       0.53      0.53      0.53      3148\n",
      "   weighted avg       0.89      0.90      0.90      3148\n",
      "\n"
     ]
    }
   ],
   "source": [
    "from sklearn.tree import DecisionTreeClassifier\n",
    "tree_clf = DecisionTreeClassifier(random_state=0)\n",
    "\n",
    "cols = ['affcon_rapport', 'affcon_shareinformation', 'affcon_gamemove', 'affcon_reasoning', \n",
    "                                                    'Input.deception_quadrant']\n",
    "\n",
    "y = politeness_df['affcon_rapport']\n",
    "\n",
    "for c in cols:\n",
    "    print(c)\n",
    "    y = df[c]\n",
    "    \n",
    "    X_train, X_test, y_train, y_test = train_test_split(df_stripped, y, test_size=0.2, train_size=0.8)\n",
    "\n",
    "    tree_clf.fit(X_train, y_train)\n",
    "    y_pred = tree_clf.predict(X_test)\n",
    "    print(classification_report(y_pred, y_test))"
   ]
  },
  {
   "cell_type": "code",
   "execution_count": 11,
   "metadata": {},
   "outputs": [
    {
     "name": "stdout",
     "output_type": "stream",
     "text": [
      "affcon_rapport\n"
     ]
    },
    {
     "name": "stderr",
     "output_type": "stream",
     "text": [
      "C:\\Users\\lynne\\Anaconda3\\lib\\site-packages\\sklearn\\neural_network\\_multilayer_perceptron.py:471: ConvergenceWarning: lbfgs failed to converge (status=1):\n",
      "STOP: TOTAL NO. of ITERATIONS REACHED LIMIT.\n",
      "\n",
      "Increase the number of iterations (max_iter) or scale the data as shown in:\n",
      "    https://scikit-learn.org/stable/modules/preprocessing.html\n",
      "  self.n_iter_ = _check_optimize_result(\"lbfgs\", opt_res, self.max_iter)\n"
     ]
    },
    {
     "name": "stdout",
     "output_type": "stream",
     "text": [
      "              precision    recall  f1-score   support\n",
      "\n",
      "           0       0.00      0.38      0.01        16\n",
      "           1       0.99      0.60      0.75      3132\n",
      "\n",
      "    accuracy                           0.60      3148\n",
      "   macro avg       0.50      0.49      0.38      3148\n",
      "weighted avg       0.99      0.60      0.74      3148\n",
      "\n",
      "affcon_shareinformation\n",
      "              precision    recall  f1-score   support\n",
      "\n",
      "           0       0.00      0.44      0.01        16\n",
      "           1       0.99      0.52      0.68      3132\n",
      "\n",
      "    accuracy                           0.52      3148\n",
      "   macro avg       0.50      0.48      0.35      3148\n",
      "weighted avg       0.99      0.52      0.68      3148\n",
      "\n",
      "affcon_gamemove\n"
     ]
    },
    {
     "name": "stderr",
     "output_type": "stream",
     "text": [
      "C:\\Users\\lynne\\Anaconda3\\lib\\site-packages\\sklearn\\neural_network\\_multilayer_perceptron.py:471: ConvergenceWarning: lbfgs failed to converge (status=1):\n",
      "STOP: TOTAL NO. of ITERATIONS REACHED LIMIT.\n",
      "\n",
      "Increase the number of iterations (max_iter) or scale the data as shown in:\n",
      "    https://scikit-learn.org/stable/modules/preprocessing.html\n",
      "  self.n_iter_ = _check_optimize_result(\"lbfgs\", opt_res, self.max_iter)\n"
     ]
    },
    {
     "name": "stdout",
     "output_type": "stream",
     "text": [
      "              precision    recall  f1-score   support\n",
      "\n",
      "           0       0.01      0.40      0.01        15\n",
      "           1       1.00      0.72      0.84      3133\n",
      "\n",
      "    accuracy                           0.72      3148\n",
      "   macro avg       0.50      0.56      0.42      3148\n",
      "weighted avg       0.99      0.72      0.83      3148\n",
      "\n",
      "affcon_reasoning\n"
     ]
    },
    {
     "name": "stderr",
     "output_type": "stream",
     "text": [
      "C:\\Users\\lynne\\Anaconda3\\lib\\site-packages\\sklearn\\neural_network\\_multilayer_perceptron.py:471: ConvergenceWarning: lbfgs failed to converge (status=1):\n",
      "STOP: TOTAL NO. of ITERATIONS REACHED LIMIT.\n",
      "\n",
      "Increase the number of iterations (max_iter) or scale the data as shown in:\n",
      "    https://scikit-learn.org/stable/modules/preprocessing.html\n",
      "  self.n_iter_ = _check_optimize_result(\"lbfgs\", opt_res, self.max_iter)\n"
     ]
    },
    {
     "name": "stdout",
     "output_type": "stream",
     "text": [
      "              precision    recall  f1-score   support\n",
      "\n",
      "           0       0.21      0.61      0.31       257\n",
      "           1       0.96      0.80      0.87      2891\n",
      "\n",
      "    accuracy                           0.78      3148\n",
      "   macro avg       0.58      0.70      0.59      3148\n",
      "weighted avg       0.90      0.78      0.82      3148\n",
      "\n",
      "Input.deception_quadrant\n"
     ]
    },
    {
     "name": "stderr",
     "output_type": "stream",
     "text": [
      "C:\\Users\\lynne\\Anaconda3\\lib\\site-packages\\sklearn\\neural_network\\_multilayer_perceptron.py:471: ConvergenceWarning: lbfgs failed to converge (status=1):\n",
      "STOP: TOTAL NO. of ITERATIONS REACHED LIMIT.\n",
      "\n",
      "Increase the number of iterations (max_iter) or scale the data as shown in:\n",
      "    https://scikit-learn.org/stable/modules/preprocessing.html\n",
      "  self.n_iter_ = _check_optimize_result(\"lbfgs\", opt_res, self.max_iter)\n",
      "C:\\Users\\lynne\\Anaconda3\\lib\\site-packages\\sklearn\\metrics\\_classification.py:1221: UndefinedMetricWarning: Recall and F-score are ill-defined and being set to 0.0 in labels with no true samples. Use `zero_division` parameter to control this behavior.\n",
      "  _warn_prf(average, modifier, msg_start, len(result))\n"
     ]
    },
    {
     "name": "stdout",
     "output_type": "stream",
     "text": [
      "                 precision    recall  f1-score   support\n",
      "\n",
      "      Cassandra       0.00      0.00      0.00         0\n",
      "Straightforward       1.00      0.94      0.97      3148\n",
      "\n",
      "       accuracy                           0.94      3148\n",
      "      macro avg       0.50      0.47      0.49      3148\n",
      "   weighted avg       1.00      0.94      0.97      3148\n",
      "\n"
     ]
    }
   ],
   "source": [
    "from sklearn.neural_network import MLPClassifier\n",
    "from sklearn.preprocessing import LabelEncoder\n",
    "\n",
    "mlp_clf = MLPClassifier(solver='lbfgs', alpha=1e-5, hidden_layer_sizes=(5, 2), random_state=1)\n",
    "\n",
    "cols = ['affcon_rapport', 'affcon_shareinformation', 'affcon_gamemove', 'affcon_reasoning', \n",
    "                                                    'Input.deception_quadrant']\n",
    "\n",
    "#politeness_df = politeness_df.astype(int)\n",
    "#df_stripped = df_stripped.astype(int)\n",
    "\n",
    "#print(politeness_df_stripped.dtypes)\n",
    "\n",
    "# y = politeness_df['affcon_rapport']\n",
    "# lb = LabelEncoder()  \n",
    "# lb.fit(y)\n",
    "# lb.transform(y.astype(int))\n",
    "\n",
    "for c in cols:\n",
    "    print(c)\n",
    "    y = df[c]\n",
    "    \n",
    "    X_train, X_test, y_train, y_test = train_test_split(df_stripped, y, test_size=0.2, train_size=0.8)\n",
    "\n",
    "    mlp_clf.fit(X_train, y_train)\n",
    "    y_pred = mlp_clf.predict(X_test)\n",
    "    print(classification_report(y_pred, y_test))"
   ]
  },
  {
   "cell_type": "code",
   "execution_count": null,
   "metadata": {},
   "outputs": [],
   "source": []
  }
 ],
 "metadata": {
  "kernelspec": {
   "display_name": "Python 3",
   "language": "python",
   "name": "python3"
  },
  "language_info": {
   "codemirror_mode": {
    "name": "ipython",
    "version": 3
   },
   "file_extension": ".py",
   "mimetype": "text/x-python",
   "name": "python",
   "nbconvert_exporter": "python",
   "pygments_lexer": "ipython3",
   "version": "3.7.4"
  }
 },
 "nbformat": 4,
 "nbformat_minor": 2
}
