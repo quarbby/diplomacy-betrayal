{
 "cells": [
  {
   "cell_type": "code",
   "execution_count": 1,
   "metadata": {},
   "outputs": [],
   "source": [
    "import pandas as pd\n",
    "import numpy as np\n",
    "\n",
    "from sklearn.metrics import classification_report\n",
    "from sklearn.metrics import accuracy_score"
   ]
  },
  {
   "cell_type": "code",
   "execution_count": 44,
   "metadata": {},
   "outputs": [],
   "source": [
    "df = pd.read_csv('./data/kokil dec 6 reprepare/linguistics/affcon_final_with_linguistics_liwconly.csv')"
   ]
  },
  {
   "cell_type": "code",
   "execution_count": 45,
   "metadata": {},
   "outputs": [],
   "source": [
    "df = df.fillna(0)"
   ]
  },
  {
   "cell_type": "code",
   "execution_count": 46,
   "metadata": {},
   "outputs": [],
   "source": [
    "from sklearn.model_selection import train_test_split\n",
    "\n",
    "df = df.drop(columns=['Input.deception_quadrant'])\n",
    "\n",
    "cols = ['affcon_rapport', 'affcon_shareinformation', 'affcon_gamemove', 'affcon_reasoning', \n",
    "                                                    'Input.deception_quadrant_cat']\n",
    "\n",
    "df_stripped = df.drop(columns=cols)"
   ]
  },
  {
   "cell_type": "code",
   "execution_count": null,
   "metadata": {},
   "outputs": [],
   "source": []
  },
  {
   "cell_type": "code",
   "execution_count": 47,
   "metadata": {},
   "outputs": [
    {
     "name": "stdout",
     "output_type": "stream",
     "text": [
      "affcon_rapport\n",
      "              precision    recall  f1-score   support\n",
      "\n",
      "         0.0       0.00      0.00      0.00       129\n",
      "         1.0       0.84      1.00      0.91       674\n",
      "\n",
      "    accuracy                           0.84       803\n",
      "   macro avg       0.42      0.50      0.46       803\n",
      "weighted avg       0.70      0.84      0.77       803\n",
      "\n",
      "affcon_shareinformation\n",
      "              precision    recall  f1-score   support\n",
      "\n",
      "         0.0       0.00      0.00      0.00       156\n",
      "         1.0       0.81      1.00      0.89       647\n",
      "\n",
      "    accuracy                           0.80       803\n",
      "   macro avg       0.40      0.50      0.45       803\n",
      "weighted avg       0.65      0.80      0.72       803\n",
      "\n",
      "affcon_gamemove\n"
     ]
    },
    {
     "name": "stderr",
     "output_type": "stream",
     "text": [
      "C:\\Users\\lynne\\anaconda3\\envs\\tf-gpu\\lib\\site-packages\\sklearn\\linear_model\\_logistic.py:764: ConvergenceWarning: lbfgs failed to converge (status=1):\n",
      "STOP: TOTAL NO. of ITERATIONS REACHED LIMIT.\n",
      "\n",
      "Increase the number of iterations (max_iter) or scale the data as shown in:\n",
      "    https://scikit-learn.org/stable/modules/preprocessing.html\n",
      "Please also refer to the documentation for alternative solver options:\n",
      "    https://scikit-learn.org/stable/modules/linear_model.html#logistic-regression\n",
      "  extra_warning_msg=_LOGISTIC_SOLVER_CONVERGENCE_MSG)\n",
      "C:\\Users\\lynne\\anaconda3\\envs\\tf-gpu\\lib\\site-packages\\sklearn\\linear_model\\_logistic.py:764: ConvergenceWarning: lbfgs failed to converge (status=1):\n",
      "STOP: TOTAL NO. of ITERATIONS REACHED LIMIT.\n",
      "\n",
      "Increase the number of iterations (max_iter) or scale the data as shown in:\n",
      "    https://scikit-learn.org/stable/modules/preprocessing.html\n",
      "Please also refer to the documentation for alternative solver options:\n",
      "    https://scikit-learn.org/stable/modules/linear_model.html#logistic-regression\n",
      "  extra_warning_msg=_LOGISTIC_SOLVER_CONVERGENCE_MSG)\n",
      "C:\\Users\\lynne\\anaconda3\\envs\\tf-gpu\\lib\\site-packages\\sklearn\\linear_model\\_logistic.py:764: ConvergenceWarning: lbfgs failed to converge (status=1):\n",
      "STOP: TOTAL NO. of ITERATIONS REACHED LIMIT.\n",
      "\n",
      "Increase the number of iterations (max_iter) or scale the data as shown in:\n",
      "    https://scikit-learn.org/stable/modules/preprocessing.html\n",
      "Please also refer to the documentation for alternative solver options:\n",
      "    https://scikit-learn.org/stable/modules/linear_model.html#logistic-regression\n",
      "  extra_warning_msg=_LOGISTIC_SOLVER_CONVERGENCE_MSG)\n"
     ]
    },
    {
     "name": "stdout",
     "output_type": "stream",
     "text": [
      "              precision    recall  f1-score   support\n",
      "\n",
      "         0.0       0.00      0.00      0.00       121\n",
      "         1.0       0.85      1.00      0.92       682\n",
      "\n",
      "    accuracy                           0.85       803\n",
      "   macro avg       0.42      0.50      0.46       803\n",
      "weighted avg       0.72      0.85      0.78       803\n",
      "\n",
      "affcon_reasoning\n",
      "              precision    recall  f1-score   support\n",
      "\n",
      "         0.0       0.00      0.00      0.00       154\n",
      "         1.0       0.81      1.00      0.89       649\n",
      "\n",
      "    accuracy                           0.80       803\n",
      "   macro avg       0.40      0.50      0.45       803\n",
      "weighted avg       0.65      0.80      0.72       803\n",
      "\n",
      "Input.deception_quadrant_cat\n",
      "              precision    recall  f1-score   support\n",
      "\n",
      "           0       0.00      0.00      0.00        44\n",
      "           1       0.95      1.00      0.97       759\n",
      "\n",
      "    accuracy                           0.95       803\n",
      "   macro avg       0.47      0.50      0.49       803\n",
      "weighted avg       0.89      0.95      0.92       803\n",
      "\n"
     ]
    },
    {
     "name": "stderr",
     "output_type": "stream",
     "text": [
      "C:\\Users\\lynne\\anaconda3\\envs\\tf-gpu\\lib\\site-packages\\sklearn\\linear_model\\_logistic.py:764: ConvergenceWarning: lbfgs failed to converge (status=1):\n",
      "STOP: TOTAL NO. of ITERATIONS REACHED LIMIT.\n",
      "\n",
      "Increase the number of iterations (max_iter) or scale the data as shown in:\n",
      "    https://scikit-learn.org/stable/modules/preprocessing.html\n",
      "Please also refer to the documentation for alternative solver options:\n",
      "    https://scikit-learn.org/stable/modules/linear_model.html#logistic-regression\n",
      "  extra_warning_msg=_LOGISTIC_SOLVER_CONVERGENCE_MSG)\n",
      "C:\\Users\\lynne\\anaconda3\\envs\\tf-gpu\\lib\\site-packages\\sklearn\\linear_model\\_logistic.py:764: ConvergenceWarning: lbfgs failed to converge (status=1):\n",
      "STOP: TOTAL NO. of ITERATIONS REACHED LIMIT.\n",
      "\n",
      "Increase the number of iterations (max_iter) or scale the data as shown in:\n",
      "    https://scikit-learn.org/stable/modules/preprocessing.html\n",
      "Please also refer to the documentation for alternative solver options:\n",
      "    https://scikit-learn.org/stable/modules/linear_model.html#logistic-regression\n",
      "  extra_warning_msg=_LOGISTIC_SOLVER_CONVERGENCE_MSG)\n",
      "C:\\Users\\lynne\\anaconda3\\envs\\tf-gpu\\lib\\site-packages\\sklearn\\metrics\\_classification.py:1221: UndefinedMetricWarning: Precision and F-score are ill-defined and being set to 0.0 in labels with no predicted samples. Use `zero_division` parameter to control this behavior.\n",
      "  _warn_prf(average, modifier, msg_start, len(result))\n"
     ]
    }
   ],
   "source": [
    "from sklearn.linear_model import LogisticRegression\n",
    "\n",
    "for c in cols:\n",
    "    print(c)\n",
    "    y = df[c]\n",
    "    \n",
    "    X_train, X_test, y_train, y_test = train_test_split(df_stripped, y, test_size=0.2, train_size=0.8)\n",
    "    \n",
    "    clf = LogisticRegression(random_state=0).fit(X_train, y_train)\n",
    "    y_pred = clf.predict(X_test)\n",
    "    print(classification_report(y_test, y_pred))"
   ]
  },
  {
   "cell_type": "code",
   "execution_count": 48,
   "metadata": {
    "scrolled": true
   },
   "outputs": [
    {
     "name": "stdout",
     "output_type": "stream",
     "text": [
      "affcon_rapport\n"
     ]
    },
    {
     "name": "stderr",
     "output_type": "stream",
     "text": [
      "C:\\Users\\lynne\\anaconda3\\envs\\tf-gpu\\lib\\site-packages\\sklearn\\svm\\_base.py:977: ConvergenceWarning: Liblinear failed to converge, increase the number of iterations.\n",
      "  \"the number of iterations.\", ConvergenceWarning)\n"
     ]
    },
    {
     "name": "stdout",
     "output_type": "stream",
     "text": [
      "              precision    recall  f1-score   support\n",
      "\n",
      "         0.0       0.50      0.01      0.01       142\n",
      "         1.0       0.82      1.00      0.90       661\n",
      "\n",
      "    accuracy                           0.82       803\n",
      "   macro avg       0.66      0.50      0.46       803\n",
      "weighted avg       0.77      0.82      0.75       803\n",
      "\n",
      "affcon_shareinformation\n"
     ]
    },
    {
     "name": "stderr",
     "output_type": "stream",
     "text": [
      "C:\\Users\\lynne\\anaconda3\\envs\\tf-gpu\\lib\\site-packages\\sklearn\\svm\\_base.py:977: ConvergenceWarning: Liblinear failed to converge, increase the number of iterations.\n",
      "  \"the number of iterations.\", ConvergenceWarning)\n"
     ]
    },
    {
     "name": "stdout",
     "output_type": "stream",
     "text": [
      "              precision    recall  f1-score   support\n",
      "\n",
      "         0.0       0.00      0.00      0.00       153\n",
      "         1.0       0.81      1.00      0.89       650\n",
      "\n",
      "    accuracy                           0.81       803\n",
      "   macro avg       0.40      0.50      0.45       803\n",
      "weighted avg       0.66      0.81      0.72       803\n",
      "\n",
      "affcon_gamemove\n"
     ]
    },
    {
     "name": "stderr",
     "output_type": "stream",
     "text": [
      "C:\\Users\\lynne\\anaconda3\\envs\\tf-gpu\\lib\\site-packages\\sklearn\\svm\\_base.py:977: ConvergenceWarning: Liblinear failed to converge, increase the number of iterations.\n",
      "  \"the number of iterations.\", ConvergenceWarning)\n",
      "C:\\Users\\lynne\\anaconda3\\envs\\tf-gpu\\lib\\site-packages\\sklearn\\metrics\\_classification.py:1221: UndefinedMetricWarning: Precision and F-score are ill-defined and being set to 0.0 in labels with no predicted samples. Use `zero_division` parameter to control this behavior.\n",
      "  _warn_prf(average, modifier, msg_start, len(result))\n"
     ]
    },
    {
     "name": "stdout",
     "output_type": "stream",
     "text": [
      "              precision    recall  f1-score   support\n",
      "\n",
      "         0.0       0.00      0.00      0.00       131\n",
      "         1.0       0.84      1.00      0.91       672\n",
      "\n",
      "    accuracy                           0.84       803\n",
      "   macro avg       0.42      0.50      0.46       803\n",
      "weighted avg       0.70      0.84      0.76       803\n",
      "\n",
      "affcon_reasoning\n"
     ]
    },
    {
     "name": "stderr",
     "output_type": "stream",
     "text": [
      "C:\\Users\\lynne\\anaconda3\\envs\\tf-gpu\\lib\\site-packages\\sklearn\\svm\\_base.py:977: ConvergenceWarning: Liblinear failed to converge, increase the number of iterations.\n",
      "  \"the number of iterations.\", ConvergenceWarning)\n"
     ]
    },
    {
     "name": "stdout",
     "output_type": "stream",
     "text": [
      "              precision    recall  f1-score   support\n",
      "\n",
      "         0.0       1.00      0.01      0.03       157\n",
      "         1.0       0.81      1.00      0.89       646\n",
      "\n",
      "    accuracy                           0.81       803\n",
      "   macro avg       0.90      0.51      0.46       803\n",
      "weighted avg       0.84      0.81      0.72       803\n",
      "\n",
      "Input.deception_quadrant_cat\n",
      "              precision    recall  f1-score   support\n",
      "\n",
      "           0       0.00      0.00      0.00        31\n",
      "           1       0.96      1.00      0.98       772\n",
      "\n",
      "    accuracy                           0.96       803\n",
      "   macro avg       0.48      0.50      0.49       803\n",
      "weighted avg       0.92      0.96      0.94       803\n",
      "\n"
     ]
    },
    {
     "name": "stderr",
     "output_type": "stream",
     "text": [
      "C:\\Users\\lynne\\anaconda3\\envs\\tf-gpu\\lib\\site-packages\\sklearn\\svm\\_base.py:977: ConvergenceWarning: Liblinear failed to converge, increase the number of iterations.\n",
      "  \"the number of iterations.\", ConvergenceWarning)\n",
      "C:\\Users\\lynne\\anaconda3\\envs\\tf-gpu\\lib\\site-packages\\sklearn\\metrics\\_classification.py:1221: UndefinedMetricWarning: Precision and F-score are ill-defined and being set to 0.0 in labels with no predicted samples. Use `zero_division` parameter to control this behavior.\n",
      "  _warn_prf(average, modifier, msg_start, len(result))\n"
     ]
    }
   ],
   "source": [
    "from sklearn.pipeline import make_pipeline\n",
    "from sklearn.svm import LinearSVC\n",
    "from sklearn.preprocessing import StandardScaler\n",
    "svm_clf = make_pipeline(StandardScaler(),  LinearSVC(random_state=0, tol=1e-5))\n",
    "\n",
    "for c in cols:\n",
    "    print(c)\n",
    "    y = df[c]\n",
    "    \n",
    "    X_train, X_test, y_train, y_test = train_test_split(df_stripped, y, test_size=0.2, train_size=0.8)\n",
    "\n",
    "    svm_clf.fit(X_train, y_train)\n",
    "    y_pred = svm_clf.predict(X_test)\n",
    "    print(classification_report(y_test, y_pred))"
   ]
  },
  {
   "cell_type": "code",
   "execution_count": 30,
   "metadata": {},
   "outputs": [
    {
     "name": "stdout",
     "output_type": "stream",
     "text": [
      "affcon_rapport\n",
      "              precision    recall  f1-score   support\n",
      "\n",
      "         0.0       0.00      0.00      0.00         2\n",
      "         1.0       1.00      0.84      0.91       801\n",
      "\n",
      "    accuracy                           0.83       803\n",
      "   macro avg       0.50      0.42      0.45       803\n",
      "weighted avg       0.99      0.83      0.91       803\n",
      "\n",
      "affcon_shareinformation\n",
      "              precision    recall  f1-score   support\n",
      "\n",
      "         0.0       0.01      0.25      0.01         4\n",
      "         1.0       1.00      0.82      0.90       799\n",
      "\n",
      "    accuracy                           0.82       803\n",
      "   macro avg       0.50      0.53      0.46       803\n",
      "weighted avg       0.99      0.82      0.89       803\n",
      "\n",
      "affcon_gamemove\n",
      "              precision    recall  f1-score   support\n",
      "\n",
      "         0.0       0.01      0.12      0.01         8\n",
      "         1.0       0.99      0.84      0.91       795\n",
      "\n",
      "    accuracy                           0.84       803\n",
      "   macro avg       0.50      0.48      0.46       803\n",
      "weighted avg       0.98      0.84      0.90       803\n",
      "\n",
      "affcon_reasoning\n",
      "              precision    recall  f1-score   support\n",
      "\n",
      "         0.0       0.03      0.67      0.05         6\n",
      "         1.0       1.00      0.81      0.89       797\n",
      "\n",
      "    accuracy                           0.80       803\n",
      "   macro avg       0.51      0.74      0.47       803\n",
      "weighted avg       0.99      0.80      0.88       803\n",
      "\n",
      "Input.deception_quadrant_cat\n",
      "              precision    recall  f1-score   support\n",
      "\n",
      "           0       0.00      0.00      0.00         2\n",
      "           1       1.00      0.96      0.98       801\n",
      "\n",
      "    accuracy                           0.96       803\n",
      "   macro avg       0.50      0.48      0.49       803\n",
      "weighted avg       0.99      0.96      0.98       803\n",
      "\n"
     ]
    }
   ],
   "source": [
    "from sklearn.discriminant_analysis import LinearDiscriminantAnalysis\n",
    "\n",
    "lda_clf = LinearDiscriminantAnalysis()\n",
    "\n",
    "for c in cols:\n",
    "    print(c)\n",
    "    y = df[c]\n",
    "    \n",
    "    X_train, X_test, y_train, y_test = train_test_split(df_stripped, y, test_size=0.2, train_size=0.8)\n",
    "\n",
    "    lda_clf.fit(X_train, y_train)\n",
    "    y_pred = lda_clf.predict(X_test)\n",
    "    print(classification_report(y_pred, y_test))"
   ]
  },
  {
   "cell_type": "code",
   "execution_count": 49,
   "metadata": {},
   "outputs": [
    {
     "name": "stdout",
     "output_type": "stream",
     "text": [
      "affcon_rapport\n",
      "              precision    recall  f1-score   support\n",
      "\n",
      "         0.0       0.03      0.24      0.06        21\n",
      "         1.0       0.98      0.81      0.89       782\n",
      "\n",
      "    accuracy                           0.80       803\n",
      "   macro avg       0.50      0.53      0.47       803\n",
      "weighted avg       0.95      0.80      0.86       803\n",
      "\n",
      "affcon_shareinformation\n",
      "              precision    recall  f1-score   support\n",
      "\n",
      "         0.0       0.05      0.21      0.08        38\n",
      "         1.0       0.95      0.81      0.88       765\n",
      "\n",
      "    accuracy                           0.78       803\n",
      "   macro avg       0.50      0.51      0.48       803\n",
      "weighted avg       0.91      0.78      0.84       803\n",
      "\n",
      "affcon_gamemove\n",
      "              precision    recall  f1-score   support\n",
      "\n",
      "         0.0       0.02      0.12      0.03        16\n",
      "         1.0       0.98      0.85      0.91       787\n",
      "\n",
      "    accuracy                           0.84       803\n",
      "   macro avg       0.50      0.49      0.47       803\n",
      "weighted avg       0.96      0.84      0.89       803\n",
      "\n",
      "affcon_reasoning\n",
      "              precision    recall  f1-score   support\n",
      "\n",
      "         0.0       0.06      0.27      0.10        41\n",
      "         1.0       0.95      0.79      0.86       762\n",
      "\n",
      "    accuracy                           0.76       803\n",
      "   macro avg       0.51      0.53      0.48       803\n",
      "weighted avg       0.91      0.76      0.83       803\n",
      "\n",
      "Input.deception_quadrant_cat\n",
      "              precision    recall  f1-score   support\n",
      "\n",
      "           0       0.00      0.00      0.00         0\n",
      "           1       1.00      0.97      0.98       803\n",
      "\n",
      "    accuracy                           0.97       803\n",
      "   macro avg       0.50      0.48      0.49       803\n",
      "weighted avg       1.00      0.97      0.98       803\n",
      "\n"
     ]
    },
    {
     "name": "stderr",
     "output_type": "stream",
     "text": [
      "C:\\Users\\lynne\\anaconda3\\envs\\tf-gpu\\lib\\site-packages\\sklearn\\metrics\\_classification.py:1221: UndefinedMetricWarning: Recall and F-score are ill-defined and being set to 0.0 in labels with no true samples. Use `zero_division` parameter to control this behavior.\n",
      "  _warn_prf(average, modifier, msg_start, len(result))\n"
     ]
    }
   ],
   "source": [
    "from sklearn.neighbors import KNeighborsClassifier\n",
    "KNN_model = KNeighborsClassifier(n_neighbors=5)\n",
    "\n",
    "for c in cols:\n",
    "    print(c)\n",
    "    y = df[c]\n",
    "    \n",
    "    X_train, X_test, y_train, y_test = train_test_split(df_stripped, y, test_size=0.2, train_size=0.8)\n",
    "\n",
    "    KNN_model.fit(X_train, y_train)\n",
    "    KNN_prediction = KNN_model.predict(X_test)\n",
    "    print(classification_report(KNN_prediction, y_test))"
   ]
  },
  {
   "cell_type": "code",
   "execution_count": 50,
   "metadata": {},
   "outputs": [
    {
     "name": "stdout",
     "output_type": "stream",
     "text": [
      "affcon_rapport\n",
      "              precision    recall  f1-score   support\n",
      "\n",
      "         0.0       0.90      0.17      0.28       727\n",
      "         1.0       0.09      0.83      0.17        76\n",
      "\n",
      "    accuracy                           0.23       803\n",
      "   macro avg       0.50      0.50      0.23       803\n",
      "weighted avg       0.83      0.23      0.27       803\n",
      "\n",
      "affcon_shareinformation\n",
      "              precision    recall  f1-score   support\n",
      "\n",
      "         0.0       0.51      0.21      0.29       379\n",
      "         1.0       0.54      0.82      0.65       424\n",
      "\n",
      "    accuracy                           0.53       803\n",
      "   macro avg       0.52      0.51      0.47       803\n",
      "weighted avg       0.52      0.53      0.48       803\n",
      "\n",
      "affcon_gamemove\n",
      "              precision    recall  f1-score   support\n",
      "\n",
      "         0.0       0.89      0.14      0.25       709\n",
      "         1.0       0.12      0.87      0.21        94\n",
      "\n",
      "    accuracy                           0.23       803\n",
      "   macro avg       0.51      0.51      0.23       803\n",
      "weighted avg       0.80      0.23      0.24       803\n",
      "\n",
      "affcon_reasoning\n",
      "              precision    recall  f1-score   support\n",
      "\n",
      "         0.0       0.46      0.19      0.27       376\n",
      "         1.0       0.53      0.80      0.64       427\n",
      "\n",
      "    accuracy                           0.52       803\n",
      "   macro avg       0.50      0.50      0.45       803\n",
      "weighted avg       0.50      0.52      0.47       803\n",
      "\n",
      "Input.deception_quadrant_cat\n",
      "              precision    recall  f1-score   support\n",
      "\n",
      "           0       0.85      0.04      0.08       670\n",
      "           1       0.17      0.96      0.28       133\n",
      "\n",
      "    accuracy                           0.19       803\n",
      "   macro avg       0.51      0.50      0.18       803\n",
      "weighted avg       0.74      0.19      0.11       803\n",
      "\n"
     ]
    }
   ],
   "source": [
    "from sklearn.naive_bayes import GaussianNB\n",
    "\n",
    "gnb = GaussianNB()\n",
    "\n",
    "for c in cols:\n",
    "    print(c)\n",
    "    y = df[c]\n",
    "    \n",
    "    X_train, X_test, y_train, y_test = train_test_split(df_stripped, y, test_size=0.2, train_size=0.8)\n",
    "\n",
    "    gnb.fit(X_train, y_train)\n",
    "    y_pred = gnb.predict(X_test)\n",
    "    print(classification_report(y_pred, y_test))"
   ]
  },
  {
   "cell_type": "code",
   "execution_count": 51,
   "metadata": {},
   "outputs": [
    {
     "name": "stdout",
     "output_type": "stream",
     "text": [
      "affcon_rapport\n",
      "              precision    recall  f1-score   support\n",
      "\n",
      "         0.0       0.22      0.21      0.22       151\n",
      "         1.0       0.82      0.83      0.82       652\n",
      "\n",
      "    accuracy                           0.71       803\n",
      "   macro avg       0.52      0.52      0.52       803\n",
      "weighted avg       0.71      0.71      0.71       803\n",
      "\n",
      "affcon_shareinformation\n",
      "              precision    recall  f1-score   support\n",
      "\n",
      "         0.0       0.20      0.21      0.21       152\n",
      "         1.0       0.81      0.81      0.81       651\n",
      "\n",
      "    accuracy                           0.69       803\n",
      "   macro avg       0.51      0.51      0.51       803\n",
      "weighted avg       0.70      0.69      0.70       803\n",
      "\n",
      "affcon_gamemove\n",
      "              precision    recall  f1-score   support\n",
      "\n",
      "         0.0       0.22      0.17      0.19       147\n",
      "         1.0       0.82      0.87      0.84       656\n",
      "\n",
      "    accuracy                           0.74       803\n",
      "   macro avg       0.52      0.52      0.52       803\n",
      "weighted avg       0.71      0.74      0.72       803\n",
      "\n",
      "affcon_reasoning\n",
      "              precision    recall  f1-score   support\n",
      "\n",
      "         0.0       0.27      0.22      0.24       202\n",
      "         1.0       0.75      0.81      0.78       601\n",
      "\n",
      "    accuracy                           0.66       803\n",
      "   macro avg       0.51      0.51      0.51       803\n",
      "weighted avg       0.63      0.66      0.64       803\n",
      "\n",
      "Input.deception_quadrant_cat\n",
      "              precision    recall  f1-score   support\n",
      "\n",
      "           0       0.03      0.02      0.03        43\n",
      "           1       0.95      0.96      0.95       760\n",
      "\n",
      "    accuracy                           0.91       803\n",
      "   macro avg       0.49      0.49      0.49       803\n",
      "weighted avg       0.90      0.91      0.90       803\n",
      "\n"
     ]
    }
   ],
   "source": [
    "from sklearn.tree import DecisionTreeClassifier\n",
    "tree_clf = DecisionTreeClassifier(random_state=0)\n",
    "\n",
    "for c in cols:\n",
    "    print(c)\n",
    "    y = df[c]\n",
    "    \n",
    "    X_train, X_test, y_train, y_test = train_test_split(df_stripped, y, test_size=0.2, train_size=0.8)\n",
    "\n",
    "    tree_clf.fit(X_train, y_train)\n",
    "    y_pred = tree_clf.predict(X_test)\n",
    "    print(classification_report(y_pred, y_test))"
   ]
  },
  {
   "cell_type": "code",
   "execution_count": 43,
   "metadata": {},
   "outputs": [
    {
     "name": "stdout",
     "output_type": "stream",
     "text": [
      "affcon_rapport\n",
      "              precision    recall  f1-score   support\n",
      "\n",
      "         0.0       0.00      0.00      0.00         0\n",
      "         1.0       1.00      0.85      0.92       803\n",
      "\n",
      "    accuracy                           0.85       803\n",
      "   macro avg       0.50      0.42      0.46       803\n",
      "weighted avg       1.00      0.85      0.92       803\n",
      "\n",
      "affcon_shareinformation\n"
     ]
    },
    {
     "name": "stderr",
     "output_type": "stream",
     "text": [
      "C:\\Users\\lynne\\anaconda3\\envs\\tf-gpu\\lib\\site-packages\\sklearn\\metrics\\_classification.py:1221: UndefinedMetricWarning: Recall and F-score are ill-defined and being set to 0.0 in labels with no true samples. Use `zero_division` parameter to control this behavior.\n",
      "  _warn_prf(average, modifier, msg_start, len(result))\n",
      "C:\\Users\\lynne\\anaconda3\\envs\\tf-gpu\\lib\\site-packages\\sklearn\\metrics\\_classification.py:1221: UndefinedMetricWarning: Recall and F-score are ill-defined and being set to 0.0 in labels with no true samples. Use `zero_division` parameter to control this behavior.\n",
      "  _warn_prf(average, modifier, msg_start, len(result))\n"
     ]
    },
    {
     "name": "stdout",
     "output_type": "stream",
     "text": [
      "              precision    recall  f1-score   support\n",
      "\n",
      "         0.0       0.00      0.00      0.00         0\n",
      "         1.0       1.00      0.82      0.90       803\n",
      "\n",
      "    accuracy                           0.82       803\n",
      "   macro avg       0.50      0.41      0.45       803\n",
      "weighted avg       1.00      0.82      0.90       803\n",
      "\n",
      "affcon_gamemove\n",
      "              precision    recall  f1-score   support\n",
      "\n",
      "         0.0       0.00      0.00      0.00         0\n",
      "         1.0       1.00      0.85      0.92       803\n",
      "\n",
      "    accuracy                           0.85       803\n",
      "   macro avg       0.50      0.43      0.46       803\n",
      "weighted avg       1.00      0.85      0.92       803\n",
      "\n",
      "affcon_reasoning\n"
     ]
    },
    {
     "name": "stderr",
     "output_type": "stream",
     "text": [
      "C:\\Users\\lynne\\anaconda3\\envs\\tf-gpu\\lib\\site-packages\\sklearn\\metrics\\_classification.py:1221: UndefinedMetricWarning: Recall and F-score are ill-defined and being set to 0.0 in labels with no true samples. Use `zero_division` parameter to control this behavior.\n",
      "  _warn_prf(average, modifier, msg_start, len(result))\n",
      "C:\\Users\\lynne\\anaconda3\\envs\\tf-gpu\\lib\\site-packages\\sklearn\\metrics\\_classification.py:1221: UndefinedMetricWarning: Recall and F-score are ill-defined and being set to 0.0 in labels with no true samples. Use `zero_division` parameter to control this behavior.\n",
      "  _warn_prf(average, modifier, msg_start, len(result))\n"
     ]
    },
    {
     "name": "stdout",
     "output_type": "stream",
     "text": [
      "              precision    recall  f1-score   support\n",
      "\n",
      "         0.0       0.00      0.00      0.00         0\n",
      "         1.0       1.00      0.80      0.89       803\n",
      "\n",
      "    accuracy                           0.80       803\n",
      "   macro avg       0.50      0.40      0.45       803\n",
      "weighted avg       1.00      0.80      0.89       803\n",
      "\n",
      "Input.deception_quadrant_cat\n",
      "              precision    recall  f1-score   support\n",
      "\n",
      "           0       0.00      0.00      0.00         0\n",
      "           1       1.00      0.95      0.97       803\n",
      "\n",
      "    accuracy                           0.95       803\n",
      "   macro avg       0.50      0.47      0.49       803\n",
      "weighted avg       1.00      0.95      0.97       803\n",
      "\n"
     ]
    },
    {
     "name": "stderr",
     "output_type": "stream",
     "text": [
      "C:\\Users\\lynne\\anaconda3\\envs\\tf-gpu\\lib\\site-packages\\sklearn\\metrics\\_classification.py:1221: UndefinedMetricWarning: Recall and F-score are ill-defined and being set to 0.0 in labels with no true samples. Use `zero_division` parameter to control this behavior.\n",
      "  _warn_prf(average, modifier, msg_start, len(result))\n"
     ]
    }
   ],
   "source": [
    "from sklearn.ensemble import RandomForestClassifier\n",
    "clf_rfc = RandomForestClassifier(max_depth=2, random_state=0)\n",
    "\n",
    "for c in cols:\n",
    "    print(c)\n",
    "    y = df[c]\n",
    "    \n",
    "    X_train, X_test, y_train, y_test = train_test_split(df_stripped, y, test_size=0.2, train_size=0.8)\n",
    "\n",
    "    clf_rfc.fit(X_train, y_train)\n",
    "    y_pred = clf_rfc.predict(X_test)\n",
    "    print(classification_report(y_pred, y_test))"
   ]
  }
 ],
 "metadata": {
  "kernelspec": {
   "display_name": "Python 3",
   "language": "python",
   "name": "python3"
  },
  "language_info": {
   "codemirror_mode": {
    "name": "ipython",
    "version": 3
   },
   "file_extension": ".py",
   "mimetype": "text/x-python",
   "name": "python",
   "nbconvert_exporter": "python",
   "pygments_lexer": "ipython3",
   "version": "3.7.9"
  }
 },
 "nbformat": 4,
 "nbformat_minor": 2
}
