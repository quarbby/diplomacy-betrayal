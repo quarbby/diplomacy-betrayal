{
 "cells": [
  {
   "cell_type": "markdown",
   "metadata": {},
   "source": [
    "## Entire notebook is commented out because changes are already made to csv files themselves. Codes here are for error checking purposes only. (Do not rerun code unnecessarily)"
   ]
  },
  {
   "cell_type": "markdown",
   "metadata": {},
   "source": [
    "# 1. Fix PC Agreement on CLAFF dataset"
   ]
  },
  {
   "cell_type": "code",
   "execution_count": 1,
   "metadata": {},
   "outputs": [],
   "source": [
    "# import pandas as pd"
   ]
  },
  {
   "cell_type": "code",
   "execution_count": 2,
   "metadata": {},
   "outputs": [],
   "source": [
    "# df = pd.read_csv('./data/kokil dec 6 reprepare/conf_pc_worker_sem.csv')\n",
    "# df = df.dropna()"
   ]
  },
  {
   "cell_type": "code",
   "execution_count": 3,
   "metadata": {},
   "outputs": [],
   "source": [
    "# def fix_pc_agreement(old_value):\n",
    "#     if old_value < 0.5:\n",
    "#         return 1 - old_value\n",
    "#     else:\n",
    "#         return old_value"
   ]
  },
  {
   "cell_type": "code",
   "execution_count": 4,
   "metadata": {},
   "outputs": [],
   "source": [
    "# impt_pc_agreement = ['Answer.1gamemove.yes_pc_agree', 'Answer.2reasoning.yes_pc_agree', 'Answer.4shareinformation.yes_pc_agree', 'Answer.3rapport.yes_pc_agree']\n",
    "# out = df[impt_pc_agreement].copy()"
   ]
  },
  {
   "cell_type": "code",
   "execution_count": 5,
   "metadata": {},
   "outputs": [],
   "source": [
    "# out = out.applymap(fix_pc_agreement)\n",
    "# # out.to_csv('./output/claff_pc_agreement_fix.csv')"
   ]
  },
  {
   "cell_type": "code",
   "execution_count": 6,
   "metadata": {},
   "outputs": [
    {
     "data": {
      "text/html": [
       "<div>\n",
       "<style scoped>\n",
       "    .dataframe tbody tr th:only-of-type {\n",
       "        vertical-align: middle;\n",
       "    }\n",
       "\n",
       "    .dataframe tbody tr th {\n",
       "        vertical-align: top;\n",
       "    }\n",
       "\n",
       "    .dataframe thead th {\n",
       "        text-align: right;\n",
       "    }\n",
       "</style>\n",
       "<table border=\"1\" class=\"dataframe\">\n",
       "  <thead>\n",
       "    <tr style=\"text-align: right;\">\n",
       "      <th></th>\n",
       "      <th>Answer.1gamemove.yes_pc_agree</th>\n",
       "      <th>Answer.2reasoning.yes_pc_agree</th>\n",
       "      <th>Answer.4shareinformation.yes_pc_agree</th>\n",
       "      <th>Answer.3rapport.yes_pc_agree</th>\n",
       "    </tr>\n",
       "  </thead>\n",
       "  <tbody>\n",
       "    <tr>\n",
       "      <th>5</th>\n",
       "      <td>1.0</td>\n",
       "      <td>0.8</td>\n",
       "      <td>1.0</td>\n",
       "      <td>0.8</td>\n",
       "    </tr>\n",
       "    <tr>\n",
       "      <th>6</th>\n",
       "      <td>1.0</td>\n",
       "      <td>0.6</td>\n",
       "      <td>0.8</td>\n",
       "      <td>0.8</td>\n",
       "    </tr>\n",
       "    <tr>\n",
       "      <th>7</th>\n",
       "      <td>0.8</td>\n",
       "      <td>0.6</td>\n",
       "      <td>0.6</td>\n",
       "      <td>0.6</td>\n",
       "    </tr>\n",
       "    <tr>\n",
       "      <th>8</th>\n",
       "      <td>0.8</td>\n",
       "      <td>0.8</td>\n",
       "      <td>0.8</td>\n",
       "      <td>0.8</td>\n",
       "    </tr>\n",
       "    <tr>\n",
       "      <th>9</th>\n",
       "      <td>0.8</td>\n",
       "      <td>0.8</td>\n",
       "      <td>1.0</td>\n",
       "      <td>1.0</td>\n",
       "    </tr>\n",
       "    <tr>\n",
       "      <th>...</th>\n",
       "      <td>...</td>\n",
       "      <td>...</td>\n",
       "      <td>...</td>\n",
       "      <td>...</td>\n",
       "    </tr>\n",
       "    <tr>\n",
       "      <th>13189</th>\n",
       "      <td>1.0</td>\n",
       "      <td>0.8</td>\n",
       "      <td>0.8</td>\n",
       "      <td>0.6</td>\n",
       "    </tr>\n",
       "    <tr>\n",
       "      <th>13190</th>\n",
       "      <td>1.0</td>\n",
       "      <td>1.0</td>\n",
       "      <td>1.0</td>\n",
       "      <td>0.6</td>\n",
       "    </tr>\n",
       "    <tr>\n",
       "      <th>13191</th>\n",
       "      <td>1.0</td>\n",
       "      <td>0.8</td>\n",
       "      <td>0.8</td>\n",
       "      <td>0.8</td>\n",
       "    </tr>\n",
       "    <tr>\n",
       "      <th>13192</th>\n",
       "      <td>1.0</td>\n",
       "      <td>1.0</td>\n",
       "      <td>1.0</td>\n",
       "      <td>1.0</td>\n",
       "    </tr>\n",
       "    <tr>\n",
       "      <th>13193</th>\n",
       "      <td>0.8</td>\n",
       "      <td>0.6</td>\n",
       "      <td>0.8</td>\n",
       "      <td>0.6</td>\n",
       "    </tr>\n",
       "  </tbody>\n",
       "</table>\n",
       "<p>11366 rows × 4 columns</p>\n",
       "</div>"
      ],
      "text/plain": [
       "       Answer.1gamemove.yes_pc_agree  Answer.2reasoning.yes_pc_agree  \\\n",
       "5                                1.0                             0.8   \n",
       "6                                1.0                             0.6   \n",
       "7                                0.8                             0.6   \n",
       "8                                0.8                             0.8   \n",
       "9                                0.8                             0.8   \n",
       "...                              ...                             ...   \n",
       "13189                            1.0                             0.8   \n",
       "13190                            1.0                             1.0   \n",
       "13191                            1.0                             0.8   \n",
       "13192                            1.0                             1.0   \n",
       "13193                            0.8                             0.6   \n",
       "\n",
       "       Answer.4shareinformation.yes_pc_agree  Answer.3rapport.yes_pc_agree  \n",
       "5                                        1.0                           0.8  \n",
       "6                                        0.8                           0.8  \n",
       "7                                        0.6                           0.6  \n",
       "8                                        0.8                           0.8  \n",
       "9                                        1.0                           1.0  \n",
       "...                                      ...                           ...  \n",
       "13189                                    0.8                           0.6  \n",
       "13190                                    1.0                           0.6  \n",
       "13191                                    0.8                           0.8  \n",
       "13192                                    1.0                           1.0  \n",
       "13193                                    0.8                           0.6  \n",
       "\n",
       "[11366 rows x 4 columns]"
      ]
     },
     "execution_count": 6,
     "metadata": {},
     "output_type": "execute_result"
    }
   ],
   "source": [
    "# out"
   ]
  },
  {
   "cell_type": "code",
   "execution_count": 7,
   "metadata": {},
   "outputs": [],
   "source": [
    "# df.drop(labels=impt_pc_agreement, axis=\"columns\", inplace=True)\n",
    "# df[impt_pc_agreement] = out[impt_pc_agreement]\n",
    "# df.to_csv('./data/kokil dec 6 reprepare/conf_pc_worker_sem.csv')"
   ]
  },
  {
   "cell_type": "markdown",
   "metadata": {},
   "source": [
    "# 2. Add PC Agreement in Popularity dataset"
   ]
  },
  {
   "cell_type": "code",
   "execution_count": 26,
   "metadata": {},
   "outputs": [],
   "source": [
    "# import pandas as pd"
   ]
  },
  {
   "cell_type": "code",
   "execution_count": 27,
   "metadata": {},
   "outputs": [],
   "source": [
    "# df = pd.read_csv('/home/kaiyuan/Desktop/ky_code/affcon/diplomacy-betrayal/data/popularity/mean_merge.csv')\n",
    "# df = df.dropna()"
   ]
  },
  {
   "cell_type": "code",
   "execution_count": 29,
   "metadata": {},
   "outputs": [],
   "source": [
    "# def generate_pc_agreement(original_df, multiple_annotator_label_column_names_list, pc_agreement_col_name):\n",
    "#     impt_df = original_df[multiple_annotator_label_column_names_list].copy()\n",
    "#     df_length = impt_df.shape[0]\n",
    "    \n",
    "#     def helper(list_true_and_false):\n",
    "#         true_count = list_true_and_false.count(True)\n",
    "#         pc_agreement_true_count = true_count / len(list_true_and_false)\n",
    "#         if pc_agreement_true_count < 0.5:\n",
    "#             return 1 - pc_agreement_true_count\n",
    "#         else:\n",
    "#             return pc_agreement_true_count\n",
    "    \n",
    "#     pc_agreement = []\n",
    "#     for i in range(df_length):\n",
    "#         true_false_list = impt_df[multiple_annotator_label_column_names_list].iloc[i,:].to_list()\n",
    "#         pc_agreement.append(helper(true_false_list))\n",
    "    \n",
    "#     return pd.DataFrame({pc_agreement_col_name:pc_agreement})"
   ]
  },
  {
   "cell_type": "code",
   "execution_count": 30,
   "metadata": {},
   "outputs": [],
   "source": [
    "# multiple_annotator_label_column_names_1 = ['emo_disc.1', 'emo_disc.2', 'emo_disc.3', 'emo_disc.4']\n",
    "# emo_disc_pc_agree_df = generate_pc_agreement(df, multiple_annotator_label_column_names_1, 'emo_disc_pc_agree')\n",
    "\n",
    "# multiple_annotator_label_column_names_2 = ['info_disc.1', 'info_disc.2', 'info_disc.3', 'info_disc.4']\n",
    "# info_disc_pc_agree_df = generate_pc_agreement(df, multiple_annotator_label_column_names_2, 'info_disc_pc_agree')\n",
    "\n",
    "# multiple_annotator_label_column_names_3 = ['emo_supp.1', 'emo_supp.2', 'emo_supp.3', 'emo_supp.4']\n",
    "# emo_supp_pc_agree_df = generate_pc_agreement(df, multiple_annotator_label_column_names_3, 'emo_supp_pc_agree')\n",
    "\n",
    "# multiple_annotator_label_column_names_4 = ['info_supp.1', 'info_supp.2', 'info_supp.3', 'info_supp.4']\n",
    "# info_supp_pc_agree_df = generate_pc_agreement(df, multiple_annotator_label_column_names_4, 'info_supp_pc_agree')"
   ]
  },
  {
   "cell_type": "code",
   "execution_count": 33,
   "metadata": {},
   "outputs": [],
   "source": [
    "# df = df.join([emo_disc_pc_agree_df, info_disc_pc_agree_df, emo_supp_pc_agree_df, info_supp_pc_agree_df])"
   ]
  },
  {
   "cell_type": "code",
   "execution_count": 34,
   "metadata": {},
   "outputs": [],
   "source": [
    "# df.to_csv('/home/kaiyuan/Desktop/ky_code/affcon/diplomacy-betrayal/data/popularity/mean_merge.csv')"
   ]
  },
  {
   "cell_type": "code",
   "execution_count": null,
   "metadata": {},
   "outputs": [],
   "source": []
  }
 ],
 "metadata": {
  "kernelspec": {
   "display_name": "TF2",
   "language": "python",
   "name": "tf2"
  },
  "language_info": {
   "codemirror_mode": {
    "name": "ipython",
    "version": 3
   },
   "file_extension": ".py",
   "mimetype": "text/x-python",
   "name": "python",
   "nbconvert_exporter": "python",
   "pygments_lexer": "ipython3",
   "version": "3.6.12"
  }
 },
 "nbformat": 4,
 "nbformat_minor": 4
}
