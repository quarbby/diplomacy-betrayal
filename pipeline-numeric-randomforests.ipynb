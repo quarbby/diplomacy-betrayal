{
 "cells": [
  {
   "cell_type": "code",
   "execution_count": 1,
   "metadata": {},
   "outputs": [
    {
     "name": "stderr",
     "output_type": "stream",
     "text": [
      "Using TensorFlow backend.\n"
     ]
    }
   ],
   "source": [
    "import pandas as pd\n",
    "import numpy as np\n",
    "\n",
    "from tensorflow.keras.utils import to_categorical\n",
    "from tensorflow.keras.layers import LSTM, Input, InputLayer, Dropout, Dense, Flatten, Embedding, Add, Concatenate\n",
    "from tensorflow.keras import Sequential\n",
    "from tensorflow.keras.models import Model\n",
    "from tensorflow.keras.callbacks import EarlyStopping\n",
    "import tensorflow as tf\n",
    "\n",
    "from sklearn.ensemble import RandomForestClassifier\n",
    "from sklearn.model_selection import train_test_split\n",
    "from sklearn.metrics import classification_report\n",
    "from tensorflow.keras.preprocessing.text import Tokenizer\n",
    "from sklearn.preprocessing import LabelEncoder\n",
    "from keras.preprocessing.sequence import pad_sequences\n",
    "from tensorflow.keras.optimizers import RMSprop\n",
    "\n",
    "from sklearn.metrics import precision_recall_fscore_support"
   ]
  },
  {
   "cell_type": "code",
   "execution_count": 2,
   "metadata": {},
   "outputs": [],
   "source": [
    "df = pd.read_csv('data/kokil dec 6 reprepare/linguistics_w_metadata/conf_pc_worker_sem_liwc.csv')"
   ]
  },
  {
   "cell_type": "code",
   "execution_count": 3,
   "metadata": {},
   "outputs": [],
   "source": [
    "df = df.dropna()\n",
    "\n",
    "# Throughput\n",
    "df_throughput = df[['Throughput.1', 'Throughput.2', 'Throughput.3', 'Throughput.4', 'Throughput.5']].copy()\n",
    "df_throughput['avg_throughput'] = df_throughput.mean(axis=1)\n",
    "df_throughput['avg_throughput'] = df_throughput['avg_throughput'] / df_throughput['avg_throughput'].max()\n",
    "\n",
    "# WorkTime\n",
    "df_worktime = df[['WorkTime.1', 'WorkTime.2', 'WorkTime.3', 'WorkTime.4', 'WorkTime.5']].copy()\n",
    "df_worktime['avg_worktime'] = df_worktime.mean(axis=1)\n",
    "df_worktime['avg_worktime'] = df_worktime['avg_worktime'] / df_worktime['avg_worktime'].max()"
   ]
  },
  {
   "cell_type": "code",
   "execution_count": 4,
   "metadata": {},
   "outputs": [],
   "source": [
    "df = df.drop(columns=['Input.msg_id', 'HITId', 'Input.sentence_id', 'Input.convo_id', 'Input.train_test_val',\n",
    "                     'Input.similar_text_id', 'Input.msg_id', 'Input.timestamp', 'Input.full_text',\n",
    "                      'Input.speaker', 'Input.reply_to', \n",
    "                      'Input.game_score_delta', 'Input.game_score_receiver',\n",
    "                      'Input.speaker_intention', 'Input.reciever_perception', 'Input.reciever',\n",
    "                      'Input.absolute_message_index', 'Input.relative_message_index', 'Input.year',\n",
    "                      'Input.game_score_speaker', 'Input.num_words', 'Input.num_characters', \n",
    "                      'Input.sno', 'Input.sno1',\n",
    "                      'WorkTime.1', 'WorkTime.2', 'WorkTime.3', 'WorkTime.4', 'WorkTime.5',\n",
    "                      'Throughput.1', 'Throughput.2', 'Throughput.3', 'Throughput.4', 'Throughput.5',\n",
    "                      'Answer.1gamemove.yes', 'Answer.2reasoning.yes',\n",
    "                      'Answer.3a_apologies.yes', 'Answer.3a_compliment.yes', 'Answer.3a_personalthoughts.yes',\n",
    "                      'Answer.3a_reassurance.yes', 'Answer.3rapport.yes', 'Answer.4shareinformation.yes', 'count',\n",
    "                      'Answer.1gamemove.yes_pc_agree', 'Answer.2reasoning.yes_pc_agree', \n",
    "                      'Answer.3a_apologies.yes_pc_agree', 'Answer.3a_compliment.yes_pc_agree',\n",
    "                      'Answer.3a_personalthoughts.yes_pc_agree', 'Answer.3a_reassurance.yes_pc_agree',\n",
    "                      'Answer.3rapport.yes_pc_agree', 'Answer.4shareinformation.yes_pc_agree', \n",
    "                      'message_id.x', 'message_id.y',\n",
    "                      'Answer.3a_apologies.yes_label', 'Answer.3a_compliment.yes_label',\n",
    "                      'Answer.3a_personalthoughts.yes_label', 'Answer.3a_reassurance.yes_label'\n",
    "                     ])"
   ]
  },
  {
   "cell_type": "code",
   "execution_count": 5,
   "metadata": {},
   "outputs": [],
   "source": [
    "indices = range(df.shape[0])"
   ]
  },
  {
   "cell_type": "code",
   "execution_count": 29,
   "metadata": {},
   "outputs": [],
   "source": [
    "train, test, indices_train, indices_test = train_test_split(df, indices, test_size=0.2)\n",
    "\n",
    "new_deception_train = train[\"Input.deception_quadrant\"].copy()\n",
    "new_deception_train['Input.deception_quadrant'] = train[\"Input.deception_quadrant\"].apply(lambda x : 1 if x == \"Straightforward\" else 0)\n",
    "y_train_deception = new_deception_train['Input.deception_quadrant'].tolist()\n",
    "y_train_rapport = train['Answer.3rapport.yes_label'].tolist()\n",
    "y_train_share_information = train['Answer.4shareinformation.yes_label'].tolist()\n",
    "y_train_reasoning = train['Answer.2reasoning.yes_label'].tolist()\n",
    "y_train_gamemove = train['Answer.1gamemove.yes_label'].tolist()\n",
    "\n",
    "new_deception_test = test[\"Input.deception_quadrant\"].copy()\n",
    "new_deception_test['Input.deception_quadrant'] = test[\"Input.deception_quadrant\"].apply(lambda x : 1 if x == \"Straightforward\" else 0)\n",
    "y_test_deception = new_deception_test['Input.deception_quadrant'].tolist()\n",
    "y_test_rapport = test['Answer.3rapport.yes_label'].tolist()\n",
    "y_test_share_information = test['Answer.4shareinformation.yes_label'].tolist()\n",
    "y_test_reasoning = test['Answer.2reasoning.yes_label'].tolist()\n",
    "y_test_gamemove = test['Answer.1gamemove.yes_label'].tolist()\n",
    "\n",
    "X_train = train.drop(columns=['Answer.1gamemove.yes_label', 'Answer.2reasoning.yes_label',\n",
    "                              'Answer.3rapport.yes_label', 'Answer.4shareinformation.yes_label', 'Input.deception_quadrant'])\n",
    "\n",
    "X_test = test.drop(columns=['Answer.1gamemove.yes_label', 'Answer.2reasoning.yes_label',\n",
    "                              'Answer.3rapport.yes_label', 'Answer.4shareinformation.yes_label', 'Input.deception_quadrant'])"
   ]
  },
  {
   "cell_type": "markdown",
   "metadata": {},
   "source": [
    "### Individual classifiers are Random Forests"
   ]
  },
  {
   "cell_type": "code",
   "execution_count": 30,
   "metadata": {},
   "outputs": [
    {
     "name": "stdout",
     "output_type": "stream",
     "text": [
      "              precision    recall  f1-score   support\n",
      "\n",
      "         0.0       0.00      0.00      0.00         0\n",
      "         1.0       1.00      0.93      0.96      9092\n",
      "\n",
      "    accuracy                           0.93      9092\n",
      "   macro avg       0.50      0.47      0.48      9092\n",
      "weighted avg       1.00      0.93      0.96      9092\n",
      "\n"
     ]
    },
    {
     "name": "stderr",
     "output_type": "stream",
     "text": [
      "C:\\Users\\lynne\\anaconda3\\envs\\tf-gpu\\lib\\site-packages\\sklearn\\metrics\\_classification.py:1221: UndefinedMetricWarning: Recall and F-score are ill-defined and being set to 0.0 in labels with no true samples. Use `zero_division` parameter to control this behavior.\n",
      "  _warn_prf(average, modifier, msg_start, len(result))\n"
     ]
    }
   ],
   "source": [
    "# Game move classifier\n",
    "clf_gamemove = RandomForestClassifier(max_depth=2, random_state=0)\n",
    "clf_gamemove.fit(X_train, y_train_gamemove)\n",
    "y_pred_gamemove = clf_gamemove.predict(X_train)\n",
    "y_pred_test_gamemove = clf_gamemove.predict(X_test)\n",
    "print(classification_report(y_pred_gamemove, y_train_gamemove))"
   ]
  },
  {
   "cell_type": "code",
   "execution_count": 31,
   "metadata": {},
   "outputs": [
    {
     "name": "stdout",
     "output_type": "stream",
     "text": [
      "              precision    recall  f1-score   support\n",
      "\n",
      "         0.0       0.00      0.00      0.00         0\n",
      "         1.0       1.00      0.86      0.93      9092\n",
      "\n",
      "    accuracy                           0.86      9092\n",
      "   macro avg       0.50      0.43      0.46      9092\n",
      "weighted avg       1.00      0.86      0.93      9092\n",
      "\n"
     ]
    },
    {
     "name": "stderr",
     "output_type": "stream",
     "text": [
      "C:\\Users\\lynne\\anaconda3\\envs\\tf-gpu\\lib\\site-packages\\sklearn\\metrics\\_classification.py:1221: UndefinedMetricWarning: Recall and F-score are ill-defined and being set to 0.0 in labels with no true samples. Use `zero_division` parameter to control this behavior.\n",
      "  _warn_prf(average, modifier, msg_start, len(result))\n"
     ]
    }
   ],
   "source": [
    "# Rapport classifier\n",
    "clf_rapport = RandomForestClassifier(max_depth=2, random_state=0)\n",
    "clf_rapport.fit(X_train, y_train_rapport)\n",
    "y_pred_rapport = clf_rapport.predict(X_train)\n",
    "y_pred_test_rapport = clf_rapport.predict(X_test)\n",
    "print(classification_report(y_pred_rapport, y_train_rapport))"
   ]
  },
  {
   "cell_type": "code",
   "execution_count": 32,
   "metadata": {},
   "outputs": [
    {
     "name": "stdout",
     "output_type": "stream",
     "text": [
      "              precision    recall  f1-score   support\n",
      "\n",
      "         0.0       0.00      0.00      0.00         0\n",
      "         1.0       1.00      0.84      0.91      9092\n",
      "\n",
      "    accuracy                           0.84      9092\n",
      "   macro avg       0.50      0.42      0.46      9092\n",
      "weighted avg       1.00      0.84      0.91      9092\n",
      "\n"
     ]
    },
    {
     "name": "stderr",
     "output_type": "stream",
     "text": [
      "C:\\Users\\lynne\\anaconda3\\envs\\tf-gpu\\lib\\site-packages\\sklearn\\metrics\\_classification.py:1221: UndefinedMetricWarning: Recall and F-score are ill-defined and being set to 0.0 in labels with no true samples. Use `zero_division` parameter to control this behavior.\n",
      "  _warn_prf(average, modifier, msg_start, len(result))\n"
     ]
    }
   ],
   "source": [
    "# Share Information classifier\n",
    "clf_shareinfo = RandomForestClassifier(max_depth=2, random_state=0)\n",
    "clf_shareinfo.fit(X_train, y_train_share_information)\n",
    "y_pred_shareinfo = clf_shareinfo.predict(X_train)\n",
    "y_pred_test_shareinfo = clf_shareinfo.predict(X_test)\n",
    "print(classification_report(y_pred_shareinfo, y_train_share_information))"
   ]
  },
  {
   "cell_type": "code",
   "execution_count": 33,
   "metadata": {},
   "outputs": [
    {
     "name": "stdout",
     "output_type": "stream",
     "text": [
      "              precision    recall  f1-score   support\n",
      "\n",
      "         0.0       0.00      0.00      0.00         0\n",
      "         1.0       1.00      0.83      0.91      9092\n",
      "\n",
      "    accuracy                           0.83      9092\n",
      "   macro avg       0.50      0.41      0.45      9092\n",
      "weighted avg       1.00      0.83      0.91      9092\n",
      "\n"
     ]
    },
    {
     "name": "stderr",
     "output_type": "stream",
     "text": [
      "C:\\Users\\lynne\\anaconda3\\envs\\tf-gpu\\lib\\site-packages\\sklearn\\metrics\\_classification.py:1221: UndefinedMetricWarning: Recall and F-score are ill-defined and being set to 0.0 in labels with no true samples. Use `zero_division` parameter to control this behavior.\n",
      "  _warn_prf(average, modifier, msg_start, len(result))\n"
     ]
    }
   ],
   "source": [
    "# Reasoning classifier\n",
    "clf_reasoning = RandomForestClassifier(max_depth=2, random_state=0)\n",
    "clf_reasoning.fit(X_train, y_train_reasoning)\n",
    "y_pred_reasoning = clf_reasoning.predict(X_train)\n",
    "y_pred_test_reasoning = clf_reasoning.predict(X_test)\n",
    "print(classification_report(y_pred_reasoning, y_train_reasoning))"
   ]
  },
  {
   "cell_type": "code",
   "execution_count": null,
   "metadata": {},
   "outputs": [],
   "source": [
    "### One hot encodings "
   ]
  },
  {
   "cell_type": "code",
   "execution_count": 34,
   "metadata": {},
   "outputs": [],
   "source": [
    "# Train encodings\n",
    "pred_df_arr_full = []\n",
    "pred_df_arr = []\n",
    "for i in range(0, len(y_pred_gamemove)):  \n",
    "    pred_obj_1 = {}\n",
    "    pred_obj_1['gamemove'] = y_pred_gamemove[i]\n",
    "    pred_obj_1['reasoning'] = y_pred_reasoning[i]\n",
    "    pred_obj_1['shareinfo'] = y_pred_shareinfo[i]\n",
    "    pred_df_arr.append(pred_obj_1)\n",
    "    \n",
    "    pred_obj_2 = pred_obj_1.copy()\n",
    "    pred_obj_2['rapport'] = y_pred_rapport[i]\n",
    "    pred_df_arr_full.append(pred_obj_2)\n",
    "    \n",
    "pred_df_full = pd.DataFrame(pred_df_arr_full)\n",
    "pred_df = pd.DataFrame(pred_df_arr)"
   ]
  },
  {
   "cell_type": "code",
   "execution_count": 35,
   "metadata": {},
   "outputs": [],
   "source": [
    "# Test encodings\n",
    "pred_test_df_arr_full = []\n",
    "pred_test_df_arr = []\n",
    "\n",
    "for i in range(0, len(y_pred_test_gamemove)):\n",
    "    pred_obj_1 = {}\n",
    "    pred_obj_1['gamemove'] = y_pred_test_gamemove[i]\n",
    "    pred_obj_1['reasoning'] = y_pred_test_reasoning[i]\n",
    "    pred_obj_1['shareinfo'] = y_pred_test_shareinfo[i]\n",
    "    pred_test_df_arr.append(pred_obj_1)\n",
    "    \n",
    "    pred_obj_2 = pred_obj_1.copy()\n",
    "    pred_obj_2['rapport'] = y_pred_test_rapport[i]\n",
    "    pred_test_df_arr_full.append(pred_obj_2)\n",
    "    \n",
    "pred_test_df_full = pd.DataFrame(pred_test_df_arr_full)\n",
    "pred_test_df = pd.DataFrame(pred_test_df_arr)"
   ]
  },
  {
   "cell_type": "code",
   "execution_count": 36,
   "metadata": {},
   "outputs": [],
   "source": [
    "# Train weighted encodings\n",
    "pred_df_full_throughput = pred_df_full.copy()\n",
    "pred_df_full_worktime = pred_df_full.copy()\n",
    "pred_df_throughput = pred_df.copy()\n",
    "pred_df_worktime = pred_df.copy()\n",
    "\n",
    "throughput_values = df_throughput['avg_throughput'].take(indices_train).values\n",
    "pred_df_full_throughput = pred_df_full_throughput.mul(throughput_values, axis=0)\n",
    "pred_df_throughput = pred_df_throughput.mul(throughput_values, axis=0)\n",
    "\n",
    "worktime_values = df_worktime['avg_worktime'].take(indices_train).values\n",
    "pred_df_full_worktime = pred_df_full_worktime.mul(worktime_values, axis=0)\n",
    "pred_df_worktime = pred_df_worktime.mul(worktime_values, axis=0)"
   ]
  },
  {
   "cell_type": "code",
   "execution_count": 37,
   "metadata": {},
   "outputs": [],
   "source": [
    "# Test weighted encodings\n",
    "pred_df_full_throughput_test = pred_test_df_full.copy()\n",
    "pred_df_full_worktime_test = pred_test_df_full.copy()\n",
    "pred_df_throughput_test = pred_test_df.copy()\n",
    "pred_df_worktime_test = pred_test_df.copy()\n",
    "\n",
    "throughput_values_test = df_throughput['avg_throughput'].take(indices_test).values\n",
    "pred_df_full_throughput_test = pred_df_full_throughput_test.mul(throughput_values_test, axis=0)\n",
    "pred_df_throughput_test = pred_df_throughput_test.mul(throughput_values_test, axis=0)\n",
    "\n",
    "worktime_values_test = df_worktime['avg_worktime'].take(indices_test).values\n",
    "pred_df_full_worktime_test = pred_df_full_worktime_test.mul(worktime_values_test, axis=0)\n",
    "pred_df_worktime_test = pred_df_worktime_test.mul(worktime_values_test, axis=0)"
   ]
  },
  {
   "cell_type": "code",
   "execution_count": 38,
   "metadata": {},
   "outputs": [],
   "source": [
    "from keras import backend as K\n",
    "\n",
    "def recall_m(y_true, y_pred):\n",
    "    true_positives = K.sum(K.round(K.clip(y_true * y_pred, 0, 1)))\n",
    "    possible_positives = K.sum(K.round(K.clip(y_true, 0, 1)))\n",
    "    recall = true_positives / (possible_positives + K.epsilon())\n",
    "    return recall\n",
    "\n",
    "def precision_m(y_true, y_pred):\n",
    "    true_positives = K.sum(K.round(K.clip(y_true * y_pred, 0, 1)))\n",
    "    predicted_positives = K.sum(K.round(K.clip(y_pred, 0, 1)))\n",
    "    precision = true_positives / (predicted_positives + K.epsilon())\n",
    "    return precision\n",
    "\n",
    "def f1_m(y_true, y_pred):\n",
    "    precision = precision_m(y_true, y_pred)\n",
    "    recall = recall_m(y_true, y_pred)\n",
    "    return 2*((precision*recall)/(precision+recall+K.epsilon()))\n",
    "\n",
    "callback = tf.keras.callbacks.EarlyStopping(\n",
    "    monitor='val_loss', min_delta=0, patience=0, verbose=0, mode='auto',\n",
    "    baseline=None, restore_best_weights=False\n",
    ")\n",
    "\n",
    "def f1(y_true, y_pred):\n",
    "    classes_number=2\n",
    "    result = 0.0\n",
    "    for class_id in range(1, classes_number + 1):\n",
    "        y_true_single_class = y_true[:,:,class_id]\n",
    "        y_pred_single_class = y_pred[:,:,class_id]\n",
    "        f1_single = f1_binary(y_true_single_class, y_pred_single_class)\n",
    "        result += f1_single / float(classes_number)\n",
    "    return result"
   ]
  },
  {
   "cell_type": "code",
   "execution_count": 39,
   "metadata": {},
   "outputs": [],
   "source": [
    "def create_joint_model(df):\n",
    "    inputB = Input(shape=(df.shape[1],))\n",
    "    c = Dense(2, activation='relu')(inputB)\n",
    "    c = Dense(4, activation='relu')(c)\n",
    "    c = Dense(2, activation='softmax')(c)\n",
    "    full_model = Model(inputs=inputB, outputs=c)\n",
    "\n",
    "    full_model.compile(loss='binary_crossentropy', optimizer='adam', \n",
    "                          metrics=['acc',f1_m,precision_m, recall_m])\n",
    "    \n",
    "    return full_model"
   ]
  },
  {
   "cell_type": "code",
   "execution_count": 40,
   "metadata": {},
   "outputs": [],
   "source": [
    "y_train_deception = np.array(y_train_deception)\n",
    "y_test_deception = np.array(y_test_deception)"
   ]
  },
  {
   "cell_type": "code",
   "execution_count": 41,
   "metadata": {},
   "outputs": [
    {
     "name": "stdout",
     "output_type": "stream",
     "text": [
      "Joint full model with one hot encoding, predicting deception\n",
      "Model: \"functional_7\"\n",
      "_________________________________________________________________\n",
      "Layer (type)                 Output Shape              Param #   \n",
      "=================================================================\n",
      "input_4 (InputLayer)         [(None, 4)]               0         \n",
      "_________________________________________________________________\n",
      "dense_9 (Dense)              (None, 2)                 10        \n",
      "_________________________________________________________________\n",
      "dense_10 (Dense)             (None, 4)                 12        \n",
      "_________________________________________________________________\n",
      "dense_11 (Dense)             (None, 2)                 10        \n",
      "=================================================================\n",
      "Total params: 32\n",
      "Trainable params: 32\n",
      "Non-trainable params: 0\n",
      "_________________________________________________________________\n",
      "Epoch 1/32\n",
      "143/143 [==============================] - 1s 5ms/step - loss: 0.6931 - acc: 0.4916 - f1_m: 0.9754 - precision_m: 0.9524 - recall_m: 1.0000 - val_loss: 0.6931 - val_acc: 0.9464 - val_f1_m: 0.9720 - val_precision_m: 0.9459 - val_recall_m: 1.0000\n",
      "Epoch 2/32\n",
      "143/143 [==============================] - 0s 3ms/step - loss: 0.6931 - acc: 0.3361 - f1_m: 0.6140 - precision_m: 0.5997 - recall_m: 0.6294 - val_loss: 0.6931 - val_acc: 0.0536 - val_f1_m: 0.0000e+00 - val_precision_m: 0.0000e+00 - val_recall_m: 0.0000e+00\n"
     ]
    }
   ],
   "source": [
    "print('Joint full model with one hot encoding, predicting deception')\n",
    "joint_full_model = create_joint_model(pred_df_full)\n",
    "joint_full_model.summary()\n",
    "history = joint_full_model.fit(x=pred_df_full, y=y_train_deception, epochs=32, \n",
    "                    batch_size=64, \n",
    "                    validation_data=(pred_test_df_full,y_test_deception), callbacks=[callback])"
   ]
  },
  {
   "cell_type": "code",
   "execution_count": 42,
   "metadata": {},
   "outputs": [],
   "source": [
    "full_pred = joint_full_model.predict(pred_df_full)\n",
    "full_pred = np.argmax(full_pred, axis=1)\n",
    "\n",
    "full_pred_test = joint_full_model.predict(pred_test_df_full)\n",
    "full_pred_test = np.argmax(full_pred_test, axis=1)"
   ]
  },
  {
   "cell_type": "code",
   "execution_count": 43,
   "metadata": {},
   "outputs": [
    {
     "name": "stderr",
     "output_type": "stream",
     "text": [
      "C:\\Users\\lynne\\anaconda3\\envs\\tf-gpu\\lib\\site-packages\\sklearn\\metrics\\_classification.py:1221: UndefinedMetricWarning: Precision and F-score are ill-defined and being set to 0.0 in labels with no predicted samples. Use `zero_division` parameter to control this behavior.\n",
      "  _warn_prf(average, modifier, msg_start, len(result))\n"
     ]
    },
    {
     "data": {
      "text/plain": [
       "(0.026824978012313105, 0.5, 0.05091819699499165, None)"
      ]
     },
     "execution_count": 43,
     "metadata": {},
     "output_type": "execute_result"
    }
   ],
   "source": [
    "precision_recall_fscore_support(y_test_deception, full_pred_test, average='macro')"
   ]
  },
  {
   "cell_type": "code",
   "execution_count": 47,
   "metadata": {},
   "outputs": [
    {
     "name": "stdout",
     "output_type": "stream",
     "text": [
      "Joint full model with one hot encoding, predicting rapport\n",
      "Model: \"functional_15\"\n",
      "_________________________________________________________________\n",
      "Layer (type)                 Output Shape              Param #   \n",
      "=================================================================\n",
      "input_8 (InputLayer)         [(None, 3)]               0         \n",
      "_________________________________________________________________\n",
      "dense_21 (Dense)             (None, 2)                 8         \n",
      "_________________________________________________________________\n",
      "dense_22 (Dense)             (None, 4)                 12        \n",
      "_________________________________________________________________\n",
      "dense_23 (Dense)             (None, 2)                 10        \n",
      "=================================================================\n",
      "Total params: 30\n",
      "Trainable params: 30\n",
      "Non-trainable params: 0\n",
      "_________________________________________________________________\n",
      "Epoch 1/32\n",
      "143/143 [==============================] - 1s 5ms/step - loss: 0.6932 - acc: 0.4999 - f1_m: 0.9259 - precision_m: 0.8629 - recall_m: 1.0000 - val_loss: 0.6931 - val_acc: 0.8650 - val_f1_m: 0.9271 - val_precision_m: 0.8648 - val_recall_m: 1.0000\n",
      "Epoch 2/32\n",
      "143/143 [==============================] - 1s 4ms/step - loss: 0.6931 - acc: 0.4319 - f1_m: 0.7627 - precision_m: 0.7100 - recall_m: 0.8252 - val_loss: 0.6931 - val_acc: 0.1350 - val_f1_m: 0.0000e+00 - val_precision_m: 0.0000e+00 - val_recall_m: 0.0000e+00\n"
     ]
    }
   ],
   "source": [
    "y_train_rapport = np.array(y_train_rapport)\n",
    "y_test_rapport = np.array(y_test_rapport)\n",
    "\n",
    "print('Joint full model with one hot encoding, predicting rapport')\n",
    "joint_full_model_rapport = create_joint_model(pred_df)\n",
    "joint_full_model_rapport.summary()\n",
    "history = joint_full_model_rapport.fit(x=pred_df, y=y_train_rapport, epochs=32, \n",
    "                    batch_size=64, \n",
    "                    validation_data=(pred_test_df,y_test_rapport), callbacks=[callback])"
   ]
  },
  {
   "cell_type": "code",
   "execution_count": 48,
   "metadata": {},
   "outputs": [
    {
     "name": "stderr",
     "output_type": "stream",
     "text": [
      "C:\\Users\\lynne\\anaconda3\\envs\\tf-gpu\\lib\\site-packages\\sklearn\\metrics\\_classification.py:1221: UndefinedMetricWarning: Precision and F-score are ill-defined and being set to 0.0 in labels with no predicted samples. Use `zero_division` parameter to control this behavior.\n",
      "  _warn_prf(average, modifier, msg_start, len(result))\n"
     ]
    },
    {
     "data": {
      "text/plain": [
       "(0.06750219876868953, 0.5, 0.11894614490507553, None)"
      ]
     },
     "execution_count": 48,
     "metadata": {},
     "output_type": "execute_result"
    }
   ],
   "source": [
    "full_pred = joint_full_model_rapport.predict(pred_df)\n",
    "full_pred = np.argmax(full_pred, axis=1)\n",
    "\n",
    "full_pred_test = joint_full_model_rapport.predict(pred_test_df)\n",
    "full_pred_test = np.argmax(full_pred_test, axis=1)\n",
    "\n",
    "precision_recall_fscore_support(y_test_rapport, full_pred_test, average='macro')"
   ]
  },
  {
   "cell_type": "code",
   "execution_count": null,
   "metadata": {},
   "outputs": [],
   "source": []
  },
  {
   "cell_type": "code",
   "execution_count": null,
   "metadata": {},
   "outputs": [],
   "source": []
  },
  {
   "cell_type": "code",
   "execution_count": 49,
   "metadata": {},
   "outputs": [
    {
     "name": "stdout",
     "output_type": "stream",
     "text": [
      "Joint full model with one hot encoding, predicting deception, weighted by throughput\n",
      "Model: \"functional_17\"\n",
      "_________________________________________________________________\n",
      "Layer (type)                 Output Shape              Param #   \n",
      "=================================================================\n",
      "input_9 (InputLayer)         [(None, 4)]               0         \n",
      "_________________________________________________________________\n",
      "dense_24 (Dense)             (None, 2)                 10        \n",
      "_________________________________________________________________\n",
      "dense_25 (Dense)             (None, 4)                 12        \n",
      "_________________________________________________________________\n",
      "dense_26 (Dense)             (None, 2)                 10        \n",
      "=================================================================\n",
      "Total params: 32\n",
      "Trainable params: 32\n",
      "Non-trainable params: 0\n",
      "_________________________________________________________________\n",
      "Epoch 1/32\n",
      "143/143 [==============================] - 1s 6ms/step - loss: 0.6932 - acc: 0.4936 - f1_m: 0.9745 - precision_m: 0.9507 - recall_m: 1.0000 - val_loss: 0.6932 - val_acc: 0.5334 - val_f1_m: 0.9720 - val_precision_m: 0.9459 - val_recall_m: 1.0000\n",
      "Epoch 2/32\n",
      "143/143 [==============================] - 1s 4ms/step - loss: 0.6932 - acc: 0.5269 - f1_m: 0.9754 - precision_m: 0.9524 - recall_m: 1.0000 - val_loss: 0.6932 - val_acc: 0.5356 - val_f1_m: 0.9720 - val_precision_m: 0.9459 - val_recall_m: 1.0000\n",
      "Epoch 3/32\n",
      "143/143 [==============================] - 1s 4ms/step - loss: 0.6932 - acc: 0.5313 - f1_m: 0.9754 - precision_m: 0.9524 - recall_m: 1.0000 - val_loss: 0.6931 - val_acc: 0.5229 - val_f1_m: 0.9720 - val_precision_m: 0.9459 - val_recall_m: 1.0000\n",
      "Epoch 4/32\n",
      "143/143 [==============================] - 1s 4ms/step - loss: 0.6931 - acc: 0.5674 - f1_m: 0.9754 - precision_m: 0.9524 - recall_m: 1.0000 - val_loss: 0.6931 - val_acc: 0.6086 - val_f1_m: 0.9720 - val_precision_m: 0.9459 - val_recall_m: 1.0000\n",
      "Epoch 5/32\n",
      "143/143 [==============================] - 1s 4ms/step - loss: 0.6931 - acc: 0.7042 - f1_m: 0.9754 - precision_m: 0.9524 - recall_m: 1.0000 - val_loss: 0.6931 - val_acc: 0.7678 - val_f1_m: 0.9720 - val_precision_m: 0.9459 - val_recall_m: 1.0000\n",
      "Epoch 6/32\n",
      "143/143 [==============================] - 1s 4ms/step - loss: 0.6931 - acc: 0.8311 - f1_m: 0.9754 - precision_m: 0.9524 - recall_m: 1.0000 - val_loss: 0.6931 - val_acc: 0.8575 - val_f1_m: 0.9720 - val_precision_m: 0.9459 - val_recall_m: 1.0000\n"
     ]
    }
   ],
   "source": [
    "print('Joint full model with one hot encoding, predicting deception, weighted by throughput')\n",
    "joint_full_model = create_joint_model(pred_df_full_throughput)\n",
    "joint_full_model.summary()\n",
    "history = joint_full_model.fit(x=pred_df_full_throughput, y=y_train_deception, epochs=32, \n",
    "                    batch_size=64, \n",
    "                    validation_data=(pred_df_full_throughput_test,y_test_deception), callbacks=[callback])"
   ]
  },
  {
   "cell_type": "code",
   "execution_count": 50,
   "metadata": {},
   "outputs": [
    {
     "name": "stderr",
     "output_type": "stream",
     "text": [
      "C:\\Users\\lynne\\anaconda3\\envs\\tf-gpu\\lib\\site-packages\\sklearn\\metrics\\_classification.py:1221: UndefinedMetricWarning: Precision and F-score are ill-defined and being set to 0.0 in labels with no predicted samples. Use `zero_division` parameter to control this behavior.\n",
      "  _warn_prf(average, modifier, msg_start, len(result))\n"
     ]
    },
    {
     "data": {
      "text/plain": [
       "(0.026824978012313105, 0.5, 0.05091819699499165, None)"
      ]
     },
     "execution_count": 50,
     "metadata": {},
     "output_type": "execute_result"
    }
   ],
   "source": [
    "full_pred = joint_full_model.predict(pred_df_full)\n",
    "full_pred = np.argmax(full_pred, axis=1)\n",
    "\n",
    "full_pred_test = joint_full_model.predict(pred_test_df_full)\n",
    "full_pred_test = np.argmax(full_pred_test, axis=1)\n",
    "\n",
    "precision_recall_fscore_support(y_test_deception, full_pred_test, average='macro')"
   ]
  },
  {
   "cell_type": "code",
   "execution_count": 53,
   "metadata": {},
   "outputs": [
    {
     "name": "stdout",
     "output_type": "stream",
     "text": [
      "Joint full model with one hot encoding, predicting rapport, weighted by throughput\n",
      "Model: \"functional_23\"\n",
      "_________________________________________________________________\n",
      "Layer (type)                 Output Shape              Param #   \n",
      "=================================================================\n",
      "input_12 (InputLayer)        [(None, 3)]               0         \n",
      "_________________________________________________________________\n",
      "dense_33 (Dense)             (None, 2)                 8         \n",
      "_________________________________________________________________\n",
      "dense_34 (Dense)             (None, 4)                 12        \n",
      "_________________________________________________________________\n",
      "dense_35 (Dense)             (None, 2)                 10        \n",
      "=================================================================\n",
      "Total params: 30\n",
      "Trainable params: 30\n",
      "Non-trainable params: 0\n",
      "_________________________________________________________________\n",
      "Epoch 1/32\n",
      "143/143 [==============================] - 1s 5ms/step - loss: 0.7001 - acc: 0.6699 - f1_m: 0.9249 - precision_m: 0.8612 - recall_m: 1.0000 - val_loss: 0.6944 - val_acc: 0.4617 - val_f1_m: 0.9271 - val_precision_m: 0.8648 - val_recall_m: 1.0000\n",
      "Epoch 2/32\n",
      "143/143 [==============================] - 0s 3ms/step - loss: 0.6942 - acc: 0.4055 - f1_m: 0.9258 - precision_m: 0.8630 - recall_m: 1.0000 - val_loss: 0.6940 - val_acc: 0.3975 - val_f1_m: 0.9271 - val_precision_m: 0.8648 - val_recall_m: 1.0000\n",
      "Epoch 3/32\n",
      "143/143 [==============================] - 1s 4ms/step - loss: 0.6939 - acc: 0.3878 - f1_m: 0.9249 - precision_m: 0.8612 - recall_m: 1.0000 - val_loss: 0.6938 - val_acc: 0.3971 - val_f1_m: 0.9271 - val_precision_m: 0.8648 - val_recall_m: 1.0000\n",
      "Epoch 4/32\n",
      "143/143 [==============================] - 1s 4ms/step - loss: 0.6936 - acc: 0.3936 - f1_m: 0.9257 - precision_m: 0.8629 - recall_m: 1.0000 - val_loss: 0.6936 - val_acc: 0.4041 - val_f1_m: 0.9271 - val_precision_m: 0.8648 - val_recall_m: 1.0000\n",
      "Epoch 5/32\n",
      "143/143 [==============================] - 0s 3ms/step - loss: 0.6935 - acc: 0.3957 - f1_m: 0.9259 - precision_m: 0.8629 - recall_m: 1.0000 - val_loss: 0.6934 - val_acc: 0.4081 - val_f1_m: 0.9271 - val_precision_m: 0.8648 - val_recall_m: 1.0000\n",
      "Epoch 6/32\n",
      "143/143 [==============================] - 1s 4ms/step - loss: 0.6934 - acc: 0.4007 - f1_m: 0.9257 - precision_m: 0.8629 - recall_m: 1.0000 - val_loss: 0.6933 - val_acc: 0.4090 - val_f1_m: 0.9271 - val_precision_m: 0.8648 - val_recall_m: 1.0000\n",
      "Epoch 7/32\n",
      "143/143 [==============================] - 1s 4ms/step - loss: 0.6933 - acc: 0.4009 - f1_m: 0.9248 - precision_m: 0.8612 - recall_m: 1.0000 - val_loss: 0.6933 - val_acc: 0.4156 - val_f1_m: 0.9271 - val_precision_m: 0.8648 - val_recall_m: 1.0000\n",
      "Epoch 8/32\n",
      "143/143 [==============================] - 0s 3ms/step - loss: 0.6933 - acc: 0.4026 - f1_m: 0.9236 - precision_m: 0.8596 - recall_m: 1.0000 - val_loss: 0.6932 - val_acc: 0.4116 - val_f1_m: 0.9271 - val_precision_m: 0.8648 - val_recall_m: 1.0000\n",
      "Epoch 9/32\n",
      "143/143 [==============================] - 1s 4ms/step - loss: 0.6932 - acc: 0.4042 - f1_m: 0.9249 - precision_m: 0.8612 - recall_m: 1.0000 - val_loss: 0.6932 - val_acc: 0.4116 - val_f1_m: 0.9271 - val_precision_m: 0.8648 - val_recall_m: 1.0000\n",
      "Epoch 10/32\n",
      "143/143 [==============================] - 1s 4ms/step - loss: 0.6932 - acc: 0.4042 - f1_m: 0.9249 - precision_m: 0.8612 - recall_m: 1.0000 - val_loss: 0.6932 - val_acc: 0.4103 - val_f1_m: 0.9271 - val_precision_m: 0.8648 - val_recall_m: 1.0000\n",
      "Epoch 11/32\n",
      "143/143 [==============================] - 1s 4ms/step - loss: 0.6932 - acc: 0.4071 - f1_m: 0.9259 - precision_m: 0.8629 - recall_m: 1.0000 - val_loss: 0.6932 - val_acc: 0.4090 - val_f1_m: 0.9271 - val_precision_m: 0.8648 - val_recall_m: 1.0000\n",
      "Epoch 12/32\n",
      "143/143 [==============================] - 0s 3ms/step - loss: 0.6932 - acc: 0.4050 - f1_m: 0.9248 - precision_m: 0.8612 - recall_m: 1.0000 - val_loss: 0.6932 - val_acc: 0.4138 - val_f1_m: 0.9271 - val_precision_m: 0.8648 - val_recall_m: 1.0000\n",
      "Epoch 13/32\n",
      "143/143 [==============================] - 0s 3ms/step - loss: 0.6932 - acc: 0.4062 - f1_m: 0.9250 - precision_m: 0.8612 - recall_m: 1.0000 - val_loss: 0.6932 - val_acc: 0.4208 - val_f1_m: 0.9271 - val_precision_m: 0.8648 - val_recall_m: 1.0000\n",
      "Epoch 14/32\n",
      "143/143 [==============================] - 0s 3ms/step - loss: 0.6932 - acc: 0.4053 - f1_m: 0.9259 - precision_m: 0.8629 - recall_m: 1.0000 - val_loss: 0.6932 - val_acc: 0.4138 - val_f1_m: 0.9271 - val_precision_m: 0.8648 - val_recall_m: 1.0000\n",
      "Epoch 15/32\n",
      "143/143 [==============================] - 1s 4ms/step - loss: 0.6932 - acc: 0.4035 - f1_m: 0.9256 - precision_m: 0.8629 - recall_m: 1.0000 - val_loss: 0.6932 - val_acc: 0.4301 - val_f1_m: 0.9271 - val_precision_m: 0.8648 - val_recall_m: 1.0000\n",
      "Epoch 16/32\n",
      "143/143 [==============================] - 1s 4ms/step - loss: 0.6932 - acc: 0.4070 - f1_m: 0.9249 - precision_m: 0.8612 - recall_m: 1.0000 - val_loss: 0.6932 - val_acc: 0.4195 - val_f1_m: 0.9271 - val_precision_m: 0.8648 - val_recall_m: 1.0000\n",
      "Epoch 17/32\n",
      "143/143 [==============================] - 0s 3ms/step - loss: 0.6931 - acc: 0.4054 - f1_m: 0.9248 - precision_m: 0.8612 - recall_m: 1.0000 - val_loss: 0.6931 - val_acc: 0.4107 - val_f1_m: 0.9268 - val_precision_m: 0.8648 - val_recall_m: 0.9995\n",
      "Epoch 18/32\n",
      "143/143 [==============================] - 0s 3ms/step - loss: 0.6931 - acc: 0.4032 - f1_m: 0.9250 - precision_m: 0.8612 - recall_m: 1.0000 - val_loss: 0.6931 - val_acc: 0.4138 - val_f1_m: 0.9271 - val_precision_m: 0.8648 - val_recall_m: 1.0000\n",
      "Epoch 19/32\n",
      "143/143 [==============================] - 0s 3ms/step - loss: 0.6931 - acc: 0.4061 - f1_m: 0.9258 - precision_m: 0.8629 - recall_m: 1.0000 - val_loss: 0.6931 - val_acc: 0.4164 - val_f1_m: 0.9271 - val_precision_m: 0.8648 - val_recall_m: 1.0000\n",
      "Epoch 20/32\n",
      "143/143 [==============================] - 1s 4ms/step - loss: 0.6931 - acc: 0.4033 - f1_m: 0.9236 - precision_m: 0.8596 - recall_m: 1.0000 - val_loss: 0.6931 - val_acc: 0.4244 - val_f1_m: 0.9271 - val_precision_m: 0.8648 - val_recall_m: 1.0000\n",
      "Epoch 21/32\n",
      "143/143 [==============================] - 0s 3ms/step - loss: 0.6931 - acc: 0.4045 - f1_m: 0.9247 - precision_m: 0.8612 - recall_m: 0.9998 - val_loss: 0.6931 - val_acc: 0.4292 - val_f1_m: 0.9271 - val_precision_m: 0.8648 - val_recall_m: 1.0000\n",
      "Epoch 22/32\n",
      "143/143 [==============================] - 0s 3ms/step - loss: 0.6931 - acc: 0.4067 - f1_m: 0.9247 - precision_m: 0.8612 - recall_m: 0.9999 - val_loss: 0.6931 - val_acc: 0.4178 - val_f1_m: 0.9271 - val_precision_m: 0.8648 - val_recall_m: 1.0000\n",
      "Epoch 23/32\n",
      "143/143 [==============================] - 0s 3ms/step - loss: 0.6931 - acc: 0.4066 - f1_m: 0.9247 - precision_m: 0.8612 - recall_m: 1.0000 - val_loss: 0.6931 - val_acc: 0.4195 - val_f1_m: 0.9271 - val_precision_m: 0.8648 - val_recall_m: 1.0000\n"
     ]
    }
   ],
   "source": [
    "print('Joint full model with one hot encoding, predicting rapport, weighted by throughput')\n",
    "joint_full_model_rapport = create_joint_model(pred_df_throughput)\n",
    "joint_full_model_rapport.summary()\n",
    "history = joint_full_model_rapport.fit(x=pred_df_throughput, y=y_train_rapport, epochs=32, \n",
    "                    batch_size=64, \n",
    "                    validation_data=(pred_df_throughput_test,y_test_rapport), callbacks=[callback])"
   ]
  },
  {
   "cell_type": "code",
   "execution_count": 54,
   "metadata": {},
   "outputs": [
    {
     "data": {
      "text/plain": [
       "(0.4367172073096702, 0.36482912684704794, 0.34301910744380487, None)"
      ]
     },
     "execution_count": 54,
     "metadata": {},
     "output_type": "execute_result"
    }
   ],
   "source": [
    "full_pred_test = joint_full_model_rapport.predict(pred_df_throughput_test)\n",
    "full_pred_test = np.argmax(full_pred_test, axis=1)\n",
    "\n",
    "precision_recall_fscore_support(y_test_rapport, full_pred_test, average='macro')"
   ]
  },
  {
   "cell_type": "code",
   "execution_count": 65,
   "metadata": {},
   "outputs": [
    {
     "name": "stdout",
     "output_type": "stream",
     "text": [
      "Joint full model with one hot encoding, predicting deception, weighted by worktime\n",
      "Model: \"functional_25\"\n",
      "_________________________________________________________________\n",
      "Layer (type)                 Output Shape              Param #   \n",
      "=================================================================\n",
      "input_13 (InputLayer)        [(None, 4)]               0         \n",
      "_________________________________________________________________\n",
      "dense_36 (Dense)             (None, 2)                 10        \n",
      "_________________________________________________________________\n",
      "dense_37 (Dense)             (None, 4)                 12        \n",
      "_________________________________________________________________\n",
      "dense_38 (Dense)             (None, 2)                 10        \n",
      "=================================================================\n",
      "Total params: 32\n",
      "Trainable params: 32\n",
      "Non-trainable params: 0\n",
      "_________________________________________________________________\n",
      "Epoch 1/32\n",
      "143/143 [==============================] - 1s 5ms/step - loss: 0.6933 - acc: 0.1633 - f1_m: 0.9754 - precision_m: 0.9524 - recall_m: 1.0000 - val_loss: 0.6931 - val_acc: 0.0690 - val_f1_m: 0.9720 - val_precision_m: 0.9459 - val_recall_m: 1.0000\n",
      "Epoch 2/32\n",
      "143/143 [==============================] - 0s 3ms/step - loss: 0.6931 - acc: 0.1335 - f1_m: 0.9744 - precision_m: 0.9507 - recall_m: 1.0000 - val_loss: 0.6931 - val_acc: 0.9464 - val_f1_m: 0.9720 - val_precision_m: 0.9459 - val_recall_m: 1.0000\n",
      "Epoch 3/32\n",
      "143/143 [==============================] - 0s 3ms/step - loss: 0.6931 - acc: 0.1164 - f1_m: 0.9754 - precision_m: 0.9524 - recall_m: 1.0000 - val_loss: 0.6931 - val_acc: 0.9464 - val_f1_m: 0.9720 - val_precision_m: 0.9459 - val_recall_m: 1.0000\n",
      "Epoch 4/32\n",
      "143/143 [==============================] - 0s 3ms/step - loss: 0.6931 - acc: 0.2841 - f1_m: 0.9685 - precision_m: 0.9455 - recall_m: 0.9930 - val_loss: 0.6931 - val_acc: 0.9464 - val_f1_m: 0.9720 - val_precision_m: 0.9459 - val_recall_m: 1.0000\n",
      "Epoch 5/32\n",
      "143/143 [==============================] - 0s 3ms/step - loss: 0.6931 - acc: 0.3570 - f1_m: 0.9754 - precision_m: 0.9524 - recall_m: 1.0000 - val_loss: 0.6931 - val_acc: 0.0541 - val_f1_m: 9.2593e-04 - val_precision_m: 0.0278 - val_recall_m: 4.7081e-04\n",
      "Epoch 6/32\n",
      "143/143 [==============================] - 0s 3ms/step - loss: 0.6931 - acc: 0.3843 - f1_m: 0.9613 - precision_m: 0.9448 - recall_m: 0.9861 - val_loss: 0.6931 - val_acc: 0.0541 - val_f1_m: 0.9720 - val_precision_m: 0.9459 - val_recall_m: 1.0000\n"
     ]
    },
    {
     "data": {
      "text/plain": [
       "(0.5268367795864496, 0.5002323420074349, 0.051403925386434624, None)"
      ]
     },
     "execution_count": 65,
     "metadata": {},
     "output_type": "execute_result"
    }
   ],
   "source": [
    "print('Joint full model with one hot encoding, predicting deception, weighted by worktime')\n",
    "joint_full_model = create_joint_model(pred_df_full_worktime)\n",
    "joint_full_model.summary()\n",
    "history = joint_full_model.fit(x=pred_df_full_worktime, y=y_train_deception, epochs=32, \n",
    "                    batch_size=64, \n",
    "                    validation_data=(pred_df_full_worktime_test,y_test_deception), callbacks=[callback])\n",
    "\n",
    "full_pred_test = joint_full_model.predict(pred_df_full_worktime_test)\n",
    "full_pred_test = np.argmax(full_pred_test, axis=1)\n",
    "\n",
    "precision_recall_fscore_support(y_test_deception, full_pred_test, average='macro')"
   ]
  },
  {
   "cell_type": "code",
   "execution_count": 67,
   "metadata": {},
   "outputs": [
    {
     "name": "stdout",
     "output_type": "stream",
     "text": [
      "Joint full model with one hot encoding, predicting rapport, weighted by worktime\n",
      "Model: \"functional_29\"\n",
      "_________________________________________________________________\n",
      "Layer (type)                 Output Shape              Param #   \n",
      "=================================================================\n",
      "input_15 (InputLayer)        [(None, 3)]               0         \n",
      "_________________________________________________________________\n",
      "dense_42 (Dense)             (None, 2)                 8         \n",
      "_________________________________________________________________\n",
      "dense_43 (Dense)             (None, 4)                 12        \n",
      "_________________________________________________________________\n",
      "dense_44 (Dense)             (None, 2)                 10        \n",
      "=================================================================\n",
      "Total params: 30\n",
      "Trainable params: 30\n",
      "Non-trainable params: 0\n",
      "_________________________________________________________________\n",
      "Epoch 1/32\n",
      "143/143 [==============================] - 1s 6ms/step - loss: 0.6931 - acc: 0.4689 - f1_m: 0.9249 - precision_m: 0.8612 - recall_m: 1.0000 - val_loss: 0.6931 - val_acc: 0.1354 - val_f1_m: 0.9271 - val_precision_m: 0.8648 - val_recall_m: 1.0000\n",
      "Epoch 2/32\n",
      "143/143 [==============================] - 0s 3ms/step - loss: 0.6931 - acc: 0.4671 - f1_m: 0.8921 - precision_m: 0.8305 - recall_m: 0.9650 - val_loss: 0.6931 - val_acc: 0.8650 - val_f1_m: 0.9271 - val_precision_m: 0.8648 - val_recall_m: 1.0000\n"
     ]
    },
    {
     "name": "stderr",
     "output_type": "stream",
     "text": [
      "C:\\Users\\lynne\\anaconda3\\envs\\tf-gpu\\lib\\site-packages\\sklearn\\metrics\\_classification.py:1221: UndefinedMetricWarning: Precision and F-score are ill-defined and being set to 0.0 in labels with no predicted samples. Use `zero_division` parameter to control this behavior.\n",
      "  _warn_prf(average, modifier, msg_start, len(result))\n"
     ]
    },
    {
     "data": {
      "text/plain": [
       "(0.4324978012313105, 0.5, 0.4638057062013676, None)"
      ]
     },
     "execution_count": 67,
     "metadata": {},
     "output_type": "execute_result"
    }
   ],
   "source": [
    "print('Joint full model with one hot encoding, predicting rapport, weighted by worktime')\n",
    "joint_full_model = create_joint_model(pred_df_worktime)\n",
    "joint_full_model.summary()\n",
    "history = joint_full_model.fit(x=pred_df_worktime, y=y_train_rapport, epochs=32, \n",
    "                    batch_size=64, \n",
    "                    validation_data=(pred_df_worktime_test,y_test_rapport), callbacks=[callback])\n",
    "\n",
    "full_pred_test = joint_full_model.predict(pred_df_worktime_test)\n",
    "full_pred_test = np.argmax(full_pred_test, axis=1)\n",
    "\n",
    "precision_recall_fscore_support(y_test_rapport, full_pred_test, average='macro')"
   ]
  },
  {
   "cell_type": "code",
   "execution_count": null,
   "metadata": {},
   "outputs": [],
   "source": []
  },
  {
   "cell_type": "code",
   "execution_count": 57,
   "metadata": {},
   "outputs": [
    {
     "name": "stdout",
     "output_type": "stream",
     "text": [
      "              precision    recall  f1-score   support\n",
      "\n",
      "           0       0.00      0.00      0.00         0\n",
      "           1       1.00      0.95      0.97      2274\n",
      "\n",
      "    accuracy                           0.95      2274\n",
      "   macro avg       0.50      0.47      0.49      2274\n",
      "weighted avg       1.00      0.95      0.97      2274\n",
      "\n"
     ]
    },
    {
     "name": "stderr",
     "output_type": "stream",
     "text": [
      "C:\\Users\\lynne\\anaconda3\\envs\\tf-gpu\\lib\\site-packages\\sklearn\\metrics\\_classification.py:1221: UndefinedMetricWarning: Recall and F-score are ill-defined and being set to 0.0 in labels with no true samples. Use `zero_division` parameter to control this behavior.\n",
      "  _warn_prf(average, modifier, msg_start, len(result))\n",
      "C:\\Users\\lynne\\anaconda3\\envs\\tf-gpu\\lib\\site-packages\\sklearn\\metrics\\_classification.py:1221: UndefinedMetricWarning: Precision and F-score are ill-defined and being set to 0.0 in labels with no predicted samples. Use `zero_division` parameter to control this behavior.\n",
      "  _warn_prf(average, modifier, msg_start, len(result))\n"
     ]
    },
    {
     "data": {
      "text/plain": [
       "(0.4731750219876869, 0.5, 0.48621780388612745, None)"
      ]
     },
     "execution_count": 57,
     "metadata": {},
     "output_type": "execute_result"
    }
   ],
   "source": [
    "## Joint full model with Random Forests, predicting deception\n",
    "clf_joint = RandomForestClassifier(max_depth=2, random_state=0)\n",
    "clf_joint.fit(pred_df_full, y_train_deception)\n",
    "y_pred_deception = clf_joint.predict(pred_df_full)\n",
    "y_pred_test_deception = clf_joint.predict(pred_test_df_full)\n",
    "print(classification_report(y_pred_test_deception, y_test_deception))\n",
    "\n",
    "precision_recall_fscore_support(y_test_deception, y_pred_test_deception, average='macro')"
   ]
  },
  {
   "cell_type": "code",
   "execution_count": 64,
   "metadata": {},
   "outputs": [
    {
     "name": "stdout",
     "output_type": "stream",
     "text": [
      "              precision    recall  f1-score   support\n",
      "\n",
      "         0.0       0.00      0.00      0.00         0\n",
      "         1.0       1.00      0.86      0.93      2274\n",
      "\n",
      "    accuracy                           0.86      2274\n",
      "   macro avg       0.50      0.43      0.46      2274\n",
      "weighted avg       1.00      0.86      0.93      2274\n",
      "\n"
     ]
    },
    {
     "name": "stderr",
     "output_type": "stream",
     "text": [
      "C:\\Users\\lynne\\anaconda3\\envs\\tf-gpu\\lib\\site-packages\\sklearn\\metrics\\_classification.py:1221: UndefinedMetricWarning: Recall and F-score are ill-defined and being set to 0.0 in labels with no true samples. Use `zero_division` parameter to control this behavior.\n",
      "  _warn_prf(average, modifier, msg_start, len(result))\n",
      "C:\\Users\\lynne\\anaconda3\\envs\\tf-gpu\\lib\\site-packages\\sklearn\\metrics\\_classification.py:1221: UndefinedMetricWarning: Precision and F-score are ill-defined and being set to 0.0 in labels with no predicted samples. Use `zero_division` parameter to control this behavior.\n",
      "  _warn_prf(average, modifier, msg_start, len(result))\n"
     ]
    },
    {
     "data": {
      "text/plain": [
       "(0.4324978012313105, 0.5, 0.4638057062013676, None)"
      ]
     },
     "execution_count": 64,
     "metadata": {},
     "output_type": "execute_result"
    }
   ],
   "source": [
    "## Joint full model with Random Forests, predicting rapport\n",
    "clf_joint = RandomForestClassifier(max_depth=2, random_state=0)\n",
    "clf_joint.fit(pred_df, y_train_rapport)\n",
    "y_pred_repport = clf_joint.predict(pred_df)\n",
    "y_pred_test_rapport = clf_joint.predict(pred_test_df)\n",
    "print(classification_report(y_pred_test_rapport, y_test_rapport))\n",
    "\n",
    "precision_recall_fscore_support(y_test_rapport, y_pred_test_rapport, average='macro')"
   ]
  },
  {
   "cell_type": "code",
   "execution_count": 62,
   "metadata": {},
   "outputs": [
    {
     "name": "stdout",
     "output_type": "stream",
     "text": [
      "              precision    recall  f1-score   support\n",
      "\n",
      "           0       0.00      0.00      0.00         0\n",
      "           1       1.00      0.95      0.97      2274\n",
      "\n",
      "    accuracy                           0.95      2274\n",
      "   macro avg       0.50      0.47      0.49      2274\n",
      "weighted avg       1.00      0.95      0.97      2274\n",
      "\n"
     ]
    },
    {
     "name": "stderr",
     "output_type": "stream",
     "text": [
      "C:\\Users\\lynne\\anaconda3\\envs\\tf-gpu\\lib\\site-packages\\sklearn\\metrics\\_classification.py:1221: UndefinedMetricWarning: Recall and F-score are ill-defined and being set to 0.0 in labels with no true samples. Use `zero_division` parameter to control this behavior.\n",
      "  _warn_prf(average, modifier, msg_start, len(result))\n",
      "C:\\Users\\lynne\\anaconda3\\envs\\tf-gpu\\lib\\site-packages\\sklearn\\metrics\\_classification.py:1221: UndefinedMetricWarning: Precision and F-score are ill-defined and being set to 0.0 in labels with no predicted samples. Use `zero_division` parameter to control this behavior.\n",
      "  _warn_prf(average, modifier, msg_start, len(result))\n"
     ]
    },
    {
     "data": {
      "text/plain": [
       "(0.4731750219876869, 0.5, 0.48621780388612745, None)"
      ]
     },
     "execution_count": 62,
     "metadata": {},
     "output_type": "execute_result"
    }
   ],
   "source": [
    "## Joint full model with Random Forests, predicting deception, weighted by throughput\n",
    "clf_joint = RandomForestClassifier(max_depth=2, random_state=0)\n",
    "clf_joint.fit(pred_df_full_throughput, y_train_deception)\n",
    "y_pred_deception = clf_joint.predict(pred_df_full_throughput)\n",
    "y_pred_test_deception = clf_joint.predict(pred_df_full_throughput_test)\n",
    "print(classification_report(y_pred_test_deception, y_test_deception))\n",
    "\n",
    "precision_recall_fscore_support(y_test_deception, y_pred_test_deception, average='macro')"
   ]
  },
  {
   "cell_type": "code",
   "execution_count": 68,
   "metadata": {},
   "outputs": [
    {
     "name": "stdout",
     "output_type": "stream",
     "text": [
      "              precision    recall  f1-score   support\n",
      "\n",
      "         0.0       0.00      0.00      0.00         0\n",
      "         1.0       1.00      0.86      0.93      2274\n",
      "\n",
      "    accuracy                           0.86      2274\n",
      "   macro avg       0.50      0.43      0.46      2274\n",
      "weighted avg       1.00      0.86      0.93      2274\n",
      "\n"
     ]
    },
    {
     "name": "stderr",
     "output_type": "stream",
     "text": [
      "C:\\Users\\lynne\\anaconda3\\envs\\tf-gpu\\lib\\site-packages\\sklearn\\metrics\\_classification.py:1221: UndefinedMetricWarning: Recall and F-score are ill-defined and being set to 0.0 in labels with no true samples. Use `zero_division` parameter to control this behavior.\n",
      "  _warn_prf(average, modifier, msg_start, len(result))\n",
      "C:\\Users\\lynne\\anaconda3\\envs\\tf-gpu\\lib\\site-packages\\sklearn\\metrics\\_classification.py:1221: UndefinedMetricWarning: Precision and F-score are ill-defined and being set to 0.0 in labels with no predicted samples. Use `zero_division` parameter to control this behavior.\n",
      "  _warn_prf(average, modifier, msg_start, len(result))\n"
     ]
    },
    {
     "data": {
      "text/plain": [
       "(0.4324978012313105, 0.5, 0.4638057062013676, None)"
      ]
     },
     "execution_count": 68,
     "metadata": {},
     "output_type": "execute_result"
    }
   ],
   "source": [
    "## Joint full model with Random Forests, predicting rapport, weighted by throughput\n",
    "clf_joint = RandomForestClassifier(max_depth=2, random_state=0)\n",
    "clf_joint.fit(pred_df_throughput, y_train_rapport)\n",
    "y_pred_rapport = clf_joint.predict(pred_df_throughput)\n",
    "y_pred_test_rapport = clf_joint.predict(pred_df_throughput_test)\n",
    "print(classification_report(y_pred_test_rapport, y_test_rapport))\n",
    "\n",
    "precision_recall_fscore_support(y_test_rapport, y_pred_test_rapport, average='macro')"
   ]
  },
  {
   "cell_type": "code",
   "execution_count": 69,
   "metadata": {},
   "outputs": [
    {
     "name": "stdout",
     "output_type": "stream",
     "text": [
      "              precision    recall  f1-score   support\n",
      "\n",
      "         0.0       0.00      0.00      0.00         0\n",
      "         1.0       1.00      0.86      0.93      2274\n",
      "\n",
      "    accuracy                           0.86      2274\n",
      "   macro avg       0.50      0.43      0.46      2274\n",
      "weighted avg       1.00      0.86      0.93      2274\n",
      "\n"
     ]
    },
    {
     "name": "stderr",
     "output_type": "stream",
     "text": [
      "C:\\Users\\lynne\\anaconda3\\envs\\tf-gpu\\lib\\site-packages\\sklearn\\metrics\\_classification.py:1221: UndefinedMetricWarning: Recall and F-score are ill-defined and being set to 0.0 in labels with no true samples. Use `zero_division` parameter to control this behavior.\n",
      "  _warn_prf(average, modifier, msg_start, len(result))\n"
     ]
    },
    {
     "data": {
      "text/plain": [
       "(0.5, 0.4324978012313105, 0.4638057062013676, None)"
      ]
     },
     "execution_count": 69,
     "metadata": {},
     "output_type": "execute_result"
    }
   ],
   "source": [
    "## Joint full model with Random Forests, predicting rapport, weighted by worktime\n",
    "clf_joint = RandomForestClassifier(max_depth=2, random_state=0)\n",
    "clf_joint.fit(pred_df_worktime, y_train_rapport)\n",
    "y_pred_test_rapport = clf_joint.predict(pred_df_worktime_test)\n",
    "print(classification_report(y_pred_test_rapport, y_test_rapport))\n",
    "\n",
    "precision_recall_fscore_support(y_pred_test_rapport, y_test_rapport, average='macro')"
   ]
  },
  {
   "cell_type": "code",
   "execution_count": 70,
   "metadata": {},
   "outputs": [
    {
     "name": "stdout",
     "output_type": "stream",
     "text": [
      "              precision    recall  f1-score   support\n",
      "\n",
      "           0       0.00      0.00      0.00         0\n",
      "           1       1.00      0.95      0.97      2274\n",
      "\n",
      "    accuracy                           0.95      2274\n",
      "   macro avg       0.50      0.47      0.49      2274\n",
      "weighted avg       1.00      0.95      0.97      2274\n",
      "\n"
     ]
    },
    {
     "name": "stderr",
     "output_type": "stream",
     "text": [
      "C:\\Users\\lynne\\anaconda3\\envs\\tf-gpu\\lib\\site-packages\\sklearn\\metrics\\_classification.py:1221: UndefinedMetricWarning: Recall and F-score are ill-defined and being set to 0.0 in labels with no true samples. Use `zero_division` parameter to control this behavior.\n",
      "  _warn_prf(average, modifier, msg_start, len(result))\n"
     ]
    },
    {
     "data": {
      "text/plain": [
       "(0.5, 0.4731750219876869, 0.48621780388612745, None)"
      ]
     },
     "execution_count": 70,
     "metadata": {},
     "output_type": "execute_result"
    }
   ],
   "source": [
    "## Joint full model with Random Forests, predicting deception, weighted by worktime\n",
    "clf_joint = RandomForestClassifier(max_depth=2, random_state=0)\n",
    "clf_joint.fit(pred_df_full_worktime, y_train_deception)\n",
    "y_pred_test = clf_joint.predict(pred_df_full_worktime_test)\n",
    "print(classification_report(y_pred_test, y_test_deception))\n",
    "\n",
    "precision_recall_fscore_support(y_pred_test, y_test_deception, average='macro')"
   ]
  }
 ],
 "metadata": {
  "kernelspec": {
   "display_name": "tfgpu",
   "language": "python",
   "name": "tfgpu"
  },
  "language_info": {
   "codemirror_mode": {
    "name": "ipython",
    "version": 3
   },
   "file_extension": ".py",
   "mimetype": "text/x-python",
   "name": "python",
   "nbconvert_exporter": "python",
   "pygments_lexer": "ipython3",
   "version": "3.7.9"
  }
 },
 "nbformat": 4,
 "nbformat_minor": 4
}
