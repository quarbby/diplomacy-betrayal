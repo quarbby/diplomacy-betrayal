{
 "cells": [
  {
   "cell_type": "code",
   "execution_count": 127,
   "metadata": {},
   "outputs": [],
   "source": [
    "import pandas as pd\n",
    "import numpy as np\n",
    "\n",
    "from tensorflow.keras.utils import to_categorical\n",
    "from tensorflow.keras.layers import LSTM, Input, InputLayer, Dropout, Dense, Flatten, Embedding, Add, Concatenate\n",
    "from tensorflow.keras import Sequential\n",
    "from tensorflow.keras.models import Model\n",
    "from tensorflow.keras.callbacks import EarlyStopping\n",
    "import tensorflow as tf\n",
    "\n",
    "from sklearn.ensemble import RandomForestClassifier\n",
    "from sklearn.model_selection import StratifiedShuffleSplit\n",
    "from sklearn.metrics import classification_report\n",
    "from tensorflow.keras.preprocessing.text import Tokenizer\n",
    "from sklearn.preprocessing import LabelEncoder\n",
    "from keras.preprocessing.sequence import pad_sequences\n",
    "from tensorflow.keras.optimizers import RMSprop\n",
    "\n",
    "from sklearn.metrics import precision_recall_fscore_support\n",
    "\n",
    "import matplotlib.pyplot as plt\n",
    "\n",
    "# Own code\n",
    "import import_ipynb\n",
    "import metadata_options\n",
    "import models_semantic\n",
    "import models_nn"
   ]
  },
  {
   "cell_type": "code",
   "execution_count": 128,
   "metadata": {},
   "outputs": [],
   "source": [
    "df = pd.read_csv('./data/kokil dec 6 reprepare/conf_pc_worker_sem.csv')\n",
    "df = df.dropna()"
   ]
  },
  {
   "cell_type": "code",
   "execution_count": 130,
   "metadata": {},
   "outputs": [
    {
     "name": "stdout",
     "output_type": "stream",
     "text": [
      "TP4 + k: weighted by 1 upright k-power U-shaped variance per set of OHE, i.e. (a, b, c, d) -> (w*a, w*b, w*c, w*d)\n",
      "Plot below: old throughput (x-axis) vs new throughput (y-axis)\n",
      "WT2: weighted by 1 linear variance per set of OHE, i.e. (a, b, c, d) -> (w*a, w*b, w*c, w*d)\n",
      "PC3: weighted by 1 PC agreement weight per annotation in each OHE, i.e. (a, b, c, d) -> (w1*a, w2*b, w3*c, w4*d)\n",
      "TL2: weighted by 1 normalised number of words per set of OHE, i.e. (a, b, c, d) -> (w*a, w*b, w*c, w*d)\n",
      "# RAND_NORM: weighted by 1 normally distributed random number between 0 to 1 per set of OHE, i.e. (a, b, c, d) -> (w*a, w*b, w*c, w*d)\n"
     ]
    },
    {
     "ename": "TypeError",
     "evalue": "normal() got an unexpected keyword argument 'low'",
     "output_type": "error",
     "traceback": [
      "\u001b[1;31m---------------------------------------------------------------------------\u001b[0m",
      "\u001b[1;31mTypeError\u001b[0m                                 Traceback (most recent call last)",
      "\u001b[1;32m<ipython-input-130-ddab5a25ed6f>\u001b[0m in \u001b[0;36m<module>\u001b[1;34m\u001b[0m\n\u001b[0;32m      6\u001b[0m \u001b[0mk_option_for_tp\u001b[0m \u001b[1;33m=\u001b[0m \u001b[1;36m1\u001b[0m\u001b[1;33m\u001b[0m\u001b[1;33m\u001b[0m\u001b[0m\n\u001b[0;32m      7\u001b[0m \u001b[1;33m\u001b[0m\u001b[0m\n\u001b[1;32m----> 8\u001b[1;33m \u001b[0mdf_throughput\u001b[0m\u001b[1;33m,\u001b[0m \u001b[0mdf_worktime\u001b[0m\u001b[1;33m,\u001b[0m \u001b[0mdf_agreement\u001b[0m\u001b[1;33m,\u001b[0m \u001b[0mdf_textlength\u001b[0m\u001b[1;33m,\u001b[0m \u001b[0mdf_special\u001b[0m \u001b[1;33m=\u001b[0m \u001b[0mmetadata_options\u001b[0m\u001b[1;33m.\u001b[0m\u001b[0mset_OHE_pipeline_options\u001b[0m\u001b[1;33m(\u001b[0m\u001b[0mdf\u001b[0m\u001b[1;33m,\u001b[0m \u001b[0mthroughput_option\u001b[0m\u001b[1;33m,\u001b[0m \u001b[0mworktime_option\u001b[0m\u001b[1;33m,\u001b[0m \u001b[0mpc_agreement_option\u001b[0m\u001b[1;33m,\u001b[0m \u001b[0mtextlength_option\u001b[0m\u001b[1;33m,\u001b[0m \u001b[0mspecial_option\u001b[0m\u001b[1;33m,\u001b[0m \u001b[0mk_option_for_tp\u001b[0m\u001b[1;33m)\u001b[0m\u001b[1;33m\u001b[0m\u001b[1;33m\u001b[0m\u001b[0m\n\u001b[0m",
      "\u001b[1;32m~\\Documents\\diplomacy-betrayal\\metadata_options.ipynb\u001b[0m in \u001b[0;36mset_OHE_pipeline_options\u001b[1;34m(dataframe, option_TP, option_WT, option_PC, option_TL, option_SP, option_k)\u001b[0m\n",
      "\u001b[1;32mmtrand.pyx\u001b[0m in \u001b[0;36mnumpy.random.mtrand.RandomState.normal\u001b[1;34m()\u001b[0m\n",
      "\u001b[1;31mTypeError\u001b[0m: normal() got an unexpected keyword argument 'low'"
     ]
    },
    {
     "data": {
      "image/png": "[encoded data removed]",
      "text/plain": [
       "<Figure size 432x288 with 1 Axes>"
      ]
     },
     "metadata": {
      "needs_background": "light"
     },
     "output_type": "display_data"
    }
   ],
   "source": [
    "throughput_option = 'TP4'\n",
    "worktime_option = 'WT2'\n",
    "pc_agreement_option = 'PC3'\n",
    "textlength_option = 'TL2'\n",
    "special_option = 'RAND_NORM'\n",
    "k_option_for_tp = 1\n",
    "\n",
    "df_throughput, df_worktime, df_agreement, df_textlength, df_special = metadata_options.set_OHE_pipeline_options(df, throughput_option, worktime_option, pc_agreement_option, textlength_option, special_option, k_option_for_tp)"
   ]
  },
  {
   "cell_type": "code",
   "execution_count": null,
   "metadata": {},
   "outputs": [],
   "source": [
    "######################################\n",
    "## Model Options ##\n",
    "######################################\n",
    "# options: randomforest, logreg\n",
    "\n",
    "model_name = 'randomforest'\n",
    "models_semantic.MODEL_NAME = model_name"
   ]
  },
  {
   "cell_type": "code",
   "execution_count": null,
   "metadata": {},
   "outputs": [],
   "source": [
    "df = df.drop(columns=['Input.msg_id', 'HITId', 'Input.sentence_id', 'Input.convo_id', 'Input.train_test_val',\n",
    "                     'Input.similar_text_id', 'Input.msg_id', 'Input.timestamp', 'Input.full_text',\n",
    "                      'Input.speaker', 'Input.reply_to', \n",
    "                      'Input.game_score_delta', 'Input.game_score_receiver',\n",
    "                      'Input.speaker_intention', 'Input.reciever_perception', 'Input.reciever',\n",
    "                      'Input.absolute_message_index', 'Input.relative_message_index', 'Input.year',\n",
    "                      'Input.game_score_speaker', 'Input.num_words', 'Input.num_characters', \n",
    "                      'Input.sno', 'Input.sno1',\n",
    "                      'WorkTime.1', 'WorkTime.2', 'WorkTime.3', 'WorkTime.4', 'WorkTime.5',\n",
    "                      'Throughput.1', 'Throughput.2', 'Throughput.3', 'Throughput.4', 'Throughput.5',\n",
    "                      'Answer.1gamemove.yes', 'Answer.2reasoning.yes',\n",
    "                      'Answer.3a_apologies.yes', 'Answer.3a_compliment.yes', 'Answer.3a_personalthoughts.yes',\n",
    "                      'Answer.3a_reassurance.yes', 'Answer.3rapport.yes', 'Answer.4shareinformation.yes', 'count',\n",
    "                      'Answer.1gamemove.yes_pc_agree', 'Answer.2reasoning.yes_pc_agree', \n",
    "                      'Answer.3a_apologies.yes_pc_agree', 'Answer.3a_compliment.yes_pc_agree',\n",
    "                      'Answer.3a_personalthoughts.yes_pc_agree', 'Answer.3a_reassurance.yes_pc_agree',\n",
    "                      'Answer.3rapport.yes_pc_agree', 'Answer.4shareinformation.yes_pc_agree', \n",
    "                      'message_id.x', 'message_id.y',\n",
    "                      'Answer.3a_apologies.yes_label', 'Answer.3a_compliment.yes_label',\n",
    "                      'Answer.3a_personalthoughts.yes_label', 'Answer.3a_reassurance.yes_label'\n",
    "                     ])"
   ]
  },
  {
   "cell_type": "code",
   "execution_count": null,
   "metadata": {},
   "outputs": [],
   "source": [
    "indices = range(df.shape[0])"
   ]
  },
  {
   "cell_type": "code",
   "execution_count": null,
   "metadata": {},
   "outputs": [],
   "source": [
    "# New train_test_split using Stratified Shaffled Splits\n",
    "y = df[\"Input.deception_quadrant\"].copy()\n",
    "X = df.drop([\"Input.deception_quadrant\"], axis=1)\n",
    "sss = StratifiedShuffleSplit(n_splits=1, test_size=0.2, random_state=0)\n",
    "splits_generator = sss.split(X, y)\n",
    "\n",
    "for train_idx, test_idx in splits_generator:\n",
    "    indices_train = train_idx\n",
    "    indices_test = test_idx\n",
    "\n",
    "train = df.take(indices_train)\n",
    "test = df.take(indices_test)\n",
    "\n",
    "new_deception_train = train[\"Input.deception_quadrant\"].copy()\n",
    "new_deception_train['Input.deception_quadrant'] = train[\"Input.deception_quadrant\"].apply(lambda x : 1 if x == \"Straightforward\" else 0)\n",
    "y_train_deception = new_deception_train['Input.deception_quadrant'].tolist()\n",
    "y_train_rapport = train['Answer.3rapport.yes_label'].tolist()\n",
    "y_train_share_information = train['Answer.4shareinformation.yes_label'].tolist()\n",
    "y_train_reasoning = train['Answer.2reasoning.yes_label'].tolist()\n",
    "y_train_gamemove = train['Answer.1gamemove.yes_label'].tolist()\n",
    "\n",
    "new_deception_test = test[\"Input.deception_quadrant\"].copy()\n",
    "new_deception_test['Input.deception_quadrant'] = test[\"Input.deception_quadrant\"].apply(lambda x : 1 if x == \"Straightforward\" else 0)\n",
    "y_test_deception = new_deception_test['Input.deception_quadrant'].tolist()\n",
    "y_test_rapport = test['Answer.3rapport.yes_label'].tolist()\n",
    "y_test_share_information = test['Answer.4shareinformation.yes_label'].tolist()\n",
    "y_test_reasoning = test['Answer.2reasoning.yes_label'].tolist()\n",
    "y_test_gamemove = test['Answer.1gamemove.yes_label'].tolist()\n",
    "\n",
    "X_train = train.drop(columns=['Answer.1gamemove.yes_label', 'Answer.2reasoning.yes_label',\n",
    "                              'Answer.3rapport.yes_label', 'Answer.4shareinformation.yes_label', 'Input.deception_quadrant'])\n",
    "\n",
    "X_test = test.drop(columns=['Answer.1gamemove.yes_label', 'Answer.2reasoning.yes_label',\n",
    "                              'Answer.3rapport.yes_label', 'Answer.4shareinformation.yes_label', 'Input.deception_quadrant'])"
   ]
  },
  {
   "cell_type": "code",
   "execution_count": null,
   "metadata": {},
   "outputs": [],
   "source": []
  },
  {
   "cell_type": "markdown",
   "metadata": {},
   "source": [
    "### Individual classifiers "
   ]
  },
  {
   "cell_type": "code",
   "execution_count": null,
   "metadata": {},
   "outputs": [],
   "source": [
    "# Game move classifier\n",
    "clf_gamemove = models_semantic.get_semantic_model()\n",
    "clf_gamemove.fit(X_train, y_train_gamemove)\n",
    "y_pred_gamemove = clf_gamemove.predict(X_train)\n",
    "y_pred_test_gamemove = clf_gamemove.predict(X_test)\n",
    "print(classification_report(y_pred_gamemove, y_train_gamemove))"
   ]
  },
  {
   "cell_type": "code",
   "execution_count": null,
   "metadata": {},
   "outputs": [],
   "source": [
    "# Rapport classifier\n",
    "clf_rapport = models_semantic.get_semantic_model()\n",
    "clf_rapport.fit(X_train, y_train_rapport)\n",
    "y_pred_rapport = clf_rapport.predict(X_train)\n",
    "y_pred_test_rapport = clf_rapport.predict(X_test)\n",
    "print(classification_report(y_pred_rapport, y_train_rapport))"
   ]
  },
  {
   "cell_type": "code",
   "execution_count": null,
   "metadata": {},
   "outputs": [],
   "source": [
    "# Share Information classifier\n",
    "clf_shareinfo = models_semantic.get_semantic_model()\n",
    "clf_shareinfo.fit(X_train, y_train_share_information)\n",
    "y_pred_shareinfo = clf_shareinfo.predict(X_train)\n",
    "y_pred_test_shareinfo = clf_shareinfo.predict(X_test)\n",
    "print(classification_report(y_pred_shareinfo, y_train_share_information))"
   ]
  },
  {
   "cell_type": "code",
   "execution_count": null,
   "metadata": {},
   "outputs": [],
   "source": [
    "# Reasoning classifier\n",
    "clf_reasoning = models_semantic.get_semantic_model()\n",
    "clf_reasoning.fit(X_train, y_train_reasoning)\n",
    "y_pred_reasoning = clf_reasoning.predict(X_train)\n",
    "y_pred_test_reasoning = clf_reasoning.predict(X_test)\n",
    "print(classification_report(y_pred_reasoning, y_train_reasoning))"
   ]
  },
  {
   "cell_type": "markdown",
   "metadata": {},
   "source": [
    "### One hot encodings "
   ]
  },
  {
   "cell_type": "code",
   "execution_count": null,
   "metadata": {},
   "outputs": [],
   "source": [
    "# Train encodings\n",
    "pred_df_arr_full = []\n",
    "pred_df_arr = []\n",
    "for i in range(0, len(y_pred_gamemove)):  \n",
    "    pred_obj_1 = {}\n",
    "    pred_obj_1['gamemove'] = y_pred_gamemove[i]\n",
    "    pred_obj_1['reasoning'] = y_pred_reasoning[i]\n",
    "    pred_obj_1['shareinfo'] = y_pred_shareinfo[i]\n",
    "    pred_df_arr.append(pred_obj_1)\n",
    "    \n",
    "    pred_obj_2 = pred_obj_1.copy()\n",
    "    pred_obj_2['rapport'] = y_pred_rapport[i]\n",
    "    pred_df_arr_full.append(pred_obj_2)\n",
    "    \n",
    "pred_df_full = pd.DataFrame(pred_df_arr_full)\n",
    "pred_df = pd.DataFrame(pred_df_arr)"
   ]
  },
  {
   "cell_type": "code",
   "execution_count": null,
   "metadata": {},
   "outputs": [],
   "source": [
    "# Test encodings\n",
    "pred_test_df_arr_full = []\n",
    "pred_test_df_arr = []\n",
    "\n",
    "for i in range(0, len(y_pred_test_gamemove)):\n",
    "    pred_obj_1 = {}\n",
    "    pred_obj_1['gamemove'] = y_pred_test_gamemove[i]\n",
    "    pred_obj_1['reasoning'] = y_pred_test_reasoning[i]\n",
    "    pred_obj_1['shareinfo'] = y_pred_test_shareinfo[i]\n",
    "    pred_test_df_arr.append(pred_obj_1)\n",
    "    \n",
    "    pred_obj_2 = pred_obj_1.copy()\n",
    "    pred_obj_2['rapport'] = y_pred_test_rapport[i]\n",
    "    pred_test_df_arr_full.append(pred_obj_2)\n",
    "    \n",
    "pred_test_df_full = pd.DataFrame(pred_test_df_arr_full)\n",
    "pred_test_df = pd.DataFrame(pred_test_df_arr)"
   ]
  },
  {
   "cell_type": "code",
   "execution_count": null,
   "metadata": {},
   "outputs": [],
   "source": [
    "# Train weighted encodings\n",
    "pred_df_full_throughput = pred_df_full.copy()\n",
    "pred_df_full_worktime = pred_df_full.copy()\n",
    "pred_df_throughput = pred_df.copy()\n",
    "pred_df_worktime = pred_df.copy()\n",
    "\n",
    "df_throughput_keys = df_throughput.keys().to_list()\n",
    "throughput_values = df_throughput[df_throughput_keys[-1]].take(indices_train).values\n",
    "pred_df_full_throughput = pred_df_full_throughput.mul(throughput_values, axis=0)\n",
    "pred_df_throughput = pred_df_throughput.mul(throughput_values, axis=0)\n",
    "\n",
    "df_worktime_keys = df_worktime.keys().to_list()\n",
    "worktime_values = df_worktime[df_worktime_keys[-1]].take(indices_train).values\n",
    "pred_df_full_worktime = pred_df_full_worktime.mul(worktime_values, axis=0)\n",
    "pred_df_worktime = pred_df_worktime.mul(worktime_values, axis=0)\n",
    "\n",
    "df_agreement_keys = df_agreement.keys().to_list()\n",
    "if len(df_agreement_keys) == 5:\n",
    "    agreement_values = df_agreement[df_agreement_keys[-1]].take(indices_train).values\n",
    "    pred_df_full_agreement = pred_df_full_throughput.mul(agreement_values, axis=0)\n",
    "    pred_df_agreement = pred_df_throughput.mul(agreement_values, axis=0)\n",
    "elif len(df_agreement_keys) == 4:\n",
    "    agreement_values = df_agreement.take(indices_train)\n",
    "    pred_df_full_agreement = np.multiply(pred_df_full_throughput, agreement_values)\n",
    "    agreement_values_wo_rapport = agreement_values.drop(columns=['Answer.3rapport.yes_pc_agree'])\n",
    "    pred_df_agreement = np.multiply(pred_df_throughput, agreement_values_wo_rapport)\n",
    "    \n",
    "textlength_values = df_textlength.take(indices_train).values\n",
    "pred_df_full_textlength = pred_df_full_throughput.mul(textlength_values, axis=0)\n",
    "pred_df_textlength = pred_df_throughput.mul(textlength_values, axis=0)\n",
    "\n",
    "df_special_keys = df_special.keys().to_list()\n",
    "special_values = df_special[df_special_keys[-1]].take(indices_train).values\n",
    "pred_df_full_special = pred_df_full_throughput.mul(special_values, axis=0)\n",
    "pred_df_special = pred_df_throughput.mul(special_values, axis=0)"
   ]
  },
  {
   "cell_type": "code",
   "execution_count": null,
   "metadata": {},
   "outputs": [],
   "source": [
    "# Test weighted encodings\n",
    "pred_df_full_throughput_test = pred_test_df_full.copy()\n",
    "pred_df_full_worktime_test = pred_test_df_full.copy()\n",
    "pred_df_throughput_test = pred_test_df.copy()\n",
    "pred_df_worktime_test = pred_test_df.copy()\n",
    "\n",
    "df_throughput_keys = df_throughput.keys().to_list()\n",
    "throughput_values_test = df_throughput[df_throughput_keys[-1]].take(indices_test).values\n",
    "pred_df_full_throughput_test = pred_df_full_throughput_test.mul(throughput_values_test, axis=0)\n",
    "pred_df_throughput_test = pred_df_throughput_test.mul(throughput_values_test, axis=0)\n",
    "\n",
    "df_worktime_keys = df_worktime.keys().to_list()\n",
    "worktime_values_test = df_worktime[df_worktime_keys[-1]].take(indices_test).values\n",
    "pred_df_full_worktime_test = pred_df_full_worktime_test.mul(worktime_values_test, axis=0)\n",
    "pred_df_worktime_test = pred_df_worktime_test.mul(worktime_values_test, axis=0)\n",
    "\n",
    "df_agreement_keys = df_agreement.keys().to_list()\n",
    "if len(df_agreement_keys) == 5:\n",
    "    agreement_values_test = df_agreement[df_agreement_keys[-1]].take(indices_test).values\n",
    "    pred_df_full_agreement_test = pred_df_full_throughput_test.mul(agreement_values_test, axis=0)\n",
    "    pred_df_agreement_test = pred_df_throughput_test.mul(agreement_values_test, axis=0)\n",
    "elif len(df_agreement_keys) == 4:\n",
    "    agreement_values_test = df_agreement.take(indices_test)\n",
    "    pred_df_full_agreement_test = np.multiply(pred_df_full_throughput_test, agreement_values_test)\n",
    "    agreement_values_wo_rapport_test = agreement_values_test.drop(columns=['Answer.3rapport.yes_pc_agree'])\n",
    "    pred_df_agreement_test = np.multiply(pred_df_throughput_test, agreement_values_wo_rapport_test)\n",
    "    \n",
    "textlength_values_test = df_textlength.take(indices_test).values\n",
    "pred_df_full_textlength_test = pred_df_full_throughput_test.mul(textlength_values_test, axis=0)\n",
    "pred_df_textlength_test = pred_df_throughput_test.mul(textlength_values_test, axis=0)\n",
    "\n",
    "df_special_keys = df_special.keys().to_list()\n",
    "special_values_test = df_special[df_special_keys[-1]].take(indices_test).values\n",
    "pred_df_full_special_test = pred_df_full_throughput_test.mul(special_values_test, axis=0)\n",
    "pred_df_special_test = pred_df_throughput_test.mul(special_values_test, axis=0)"
   ]
  },
  {
   "cell_type": "markdown",
   "metadata": {},
   "source": [
    "### Joint model is dense layer"
   ]
  },
  {
   "cell_type": "code",
   "execution_count": null,
   "metadata": {},
   "outputs": [],
   "source": [
    "y_train_deception = np.array(y_train_deception)\n",
    "y_test_deception = np.array(y_test_deception)\n",
    "\n",
    "y_train_rapport = np.array(y_train_rapport)\n",
    "y_test_rapport = np.array(y_test_rapport)"
   ]
  },
  {
   "cell_type": "code",
   "execution_count": null,
   "metadata": {},
   "outputs": [],
   "source": [
    "print('Joint full model with one hot encoding, predicting deception')\n",
    "joint_full_model = models_nn.create_joint_model(pred_df_full)\n",
    "joint_full_model.summary()\n",
    "history = joint_full_model.fit(x=pred_df_full, y=y_train_deception, epochs=32, \n",
    "                    batch_size=64, \n",
    "                    validation_data=(pred_test_df_full,y_test_deception), callbacks=[models_nn.early_stop])"
   ]
  },
  {
   "cell_type": "code",
   "execution_count": null,
   "metadata": {},
   "outputs": [],
   "source": [
    "full_pred = joint_full_model.predict(pred_df_full)\n",
    "full_pred = np.argmax(full_pred, axis=1)\n",
    "\n",
    "full_pred_test = joint_full_model.predict(pred_test_df_full)\n",
    "full_pred_test = np.argmax(full_pred_test, axis=1)"
   ]
  },
  {
   "cell_type": "code",
   "execution_count": null,
   "metadata": {},
   "outputs": [],
   "source": [
    "precision_recall_fscore_support(y_test_deception, full_pred_test, average='macro')"
   ]
  },
  {
   "cell_type": "code",
   "execution_count": null,
   "metadata": {},
   "outputs": [],
   "source": [
    "y_train_rapport = np.array(y_train_rapport)\n",
    "y_test_rapport = np.array(y_test_rapport)\n",
    "\n",
    "print('Joint full model with one hot encoding, predicting rapport')\n",
    "joint_full_model_rapport = models_nn.create_joint_model(pred_df)\n",
    "joint_full_model_rapport.summary()\n",
    "history = joint_full_model_rapport.fit(x=pred_df, y=y_train_rapport, epochs=32, \n",
    "                    batch_size=64, \n",
    "                    validation_data=(pred_test_df,y_test_rapport), callbacks=[models_nn.early_stop])"
   ]
  },
  {
   "cell_type": "code",
   "execution_count": null,
   "metadata": {},
   "outputs": [],
   "source": [
    "full_pred = joint_full_model_rapport.predict(pred_df)\n",
    "full_pred = np.argmax(full_pred, axis=1)\n",
    "\n",
    "full_pred_test = joint_full_model_rapport.predict(pred_test_df)\n",
    "full_pred_test = np.argmax(full_pred_test, axis=1)\n",
    "\n",
    "precision_recall_fscore_support(y_test_rapport, full_pred_test, average='macro')"
   ]
  },
  {
   "cell_type": "code",
   "execution_count": null,
   "metadata": {},
   "outputs": [],
   "source": []
  },
  {
   "cell_type": "code",
   "execution_count": null,
   "metadata": {},
   "outputs": [],
   "source": []
  },
  {
   "cell_type": "code",
   "execution_count": null,
   "metadata": {},
   "outputs": [],
   "source": [
    "print('Joint full model with one hot encoding, predicting deception, weighted by throughput')\n",
    "joint_full_model = models_nn.create_joint_model(pred_df_full_throughput)\n",
    "joint_full_model.summary()\n",
    "history = joint_full_model.fit(x=pred_df_full_throughput, y=y_train_deception, epochs=32, \n",
    "                    batch_size=64, \n",
    "                    validation_data=(pred_df_full_throughput_test,y_test_deception), callbacks=[models_nn.early_stop])"
   ]
  },
  {
   "cell_type": "code",
   "execution_count": null,
   "metadata": {},
   "outputs": [],
   "source": [
    "full_pred = joint_full_model.predict(pred_df_full)\n",
    "full_pred = np.argmax(full_pred, axis=1)\n",
    "\n",
    "full_pred_test = joint_full_model.predict(pred_test_df_full)\n",
    "full_pred_test = np.argmax(full_pred_test, axis=1)\n",
    "\n",
    "precision_recall_fscore_support(y_test_deception, full_pred_test, average='macro')"
   ]
  },
  {
   "cell_type": "code",
   "execution_count": null,
   "metadata": {},
   "outputs": [],
   "source": [
    "y_train_rapport = np.array(y_train_rapport).astype(int)\n",
    "y_test_rapport = np.array(y_test_rapport).astype(int)"
   ]
  },
  {
   "cell_type": "code",
   "execution_count": null,
   "metadata": {},
   "outputs": [],
   "source": [
    "print('Joint full model with one hot encoding, predicting rapport, weighted by throughput')\n",
    "joint_full_model_rapport = models_nn.create_joint_model(pred_df_throughput)\n",
    "joint_full_model_rapport.summary()\n",
    "history = joint_full_model_rapport.fit(x=pred_df_throughput, y=y_train_rapport, epochs=32, \n",
    "                    batch_size=64, \n",
    "                    validation_data=(pred_df_throughput_test,y_test_rapport), callbacks=[models_nn.early_stop])"
   ]
  },
  {
   "cell_type": "code",
   "execution_count": null,
   "metadata": {},
   "outputs": [],
   "source": [
    "full_pred_test = joint_full_model_rapport.predict(pred_df_throughput_test)\n",
    "full_pred_test = np.argmax(full_pred_test, axis=1)\n",
    "\n",
    "precision_recall_fscore_support(y_test_rapport, full_pred_test, average='macro')"
   ]
  },
  {
   "cell_type": "code",
   "execution_count": null,
   "metadata": {},
   "outputs": [],
   "source": [
    "print('Joint full model with one hot encoding, predicting deception, weighted by worktime')\n",
    "joint_full_model = models_nn.create_joint_model(pred_df_full_worktime)\n",
    "joint_full_model.summary()\n",
    "history = joint_full_model.fit(x=pred_df_full_worktime, y=y_train_deception, epochs=32, \n",
    "                    batch_size=64, \n",
    "                    validation_data=(pred_df_full_worktime_test,y_test_deception), callbacks=[models_nn.early_stop])\n",
    "\n",
    "full_pred_test = joint_full_model.predict(pred_df_full_worktime_test)\n",
    "full_pred_test = np.argmax(full_pred_test, axis=1)\n",
    "\n",
    "precision_recall_fscore_support(y_test_deception, full_pred_test, average='macro')"
   ]
  },
  {
   "cell_type": "code",
   "execution_count": null,
   "metadata": {},
   "outputs": [],
   "source": [
    "print('Joint full model with one hot encoding, predicting rapport, weighted by worktime')\n",
    "joint_full_model = models_nn.create_joint_model(pred_df_worktime)\n",
    "joint_full_model.summary()\n",
    "history = joint_full_model.fit(x=pred_df_worktime, y=y_train_rapport, epochs=32, \n",
    "                    batch_size=64, \n",
    "                    validation_data=(pred_df_worktime_test,y_test_rapport), callbacks=[models_nn.early_stop])\n",
    "\n",
    "full_pred_test = joint_full_model.predict(pred_df_worktime_test)\n",
    "full_pred_test = np.argmax(full_pred_test, axis=1)\n",
    "\n",
    "precision_recall_fscore_support(y_test_rapport, full_pred_test, average='macro')"
   ]
  },
  {
   "cell_type": "code",
   "execution_count": null,
   "metadata": {},
   "outputs": [],
   "source": [
    "print('Joint full model with one hot encoding, predicting deception, weighted by agreement')\n",
    "joint_full_model = models_nn.create_joint_model(pred_df_full_agreement)\n",
    "joint_full_model.summary()\n",
    "history = joint_full_model.fit(x=pred_df_full_agreement, y=y_train_deception, epochs=32, \n",
    "                    batch_size=64, \n",
    "                    validation_data=(pred_df_full_agreement_test,y_test_deception), callbacks=[models_nn.early_stop])\n",
    "\n",
    "full_pred_test = joint_full_model.predict(pred_df_full_agreement_test)\n",
    "full_pred_test = np.argmax(full_pred_test, axis=1)\n",
    "\n",
    "precision_recall_fscore_support(y_test_deception, full_pred_test, average='macro')"
   ]
  },
  {
   "cell_type": "code",
   "execution_count": null,
   "metadata": {},
   "outputs": [],
   "source": [
    "print('Joint full model with one hot encoding, predicting rapport, weighted by agreement')\n",
    "joint_full_model = models_nn.create_joint_model(pred_df_agreement)\n",
    "joint_full_model.summary()\n",
    "history = joint_full_model.fit(x=pred_df_agreement, y=y_train_rapport, epochs=32, \n",
    "                    batch_size=64, \n",
    "                    validation_data=(pred_df_agreement_test,y_test_rapport), callbacks=[models_nn.early_stop])\n",
    "\n",
    "full_pred_test = joint_full_model.predict(pred_df_agreement_test)\n",
    "full_pred_test = np.argmax(full_pred_test, axis=1)\n",
    "\n",
    "precision_recall_fscore_support(y_test_rapport, full_pred_test, average='macro')"
   ]
  },
  {
   "cell_type": "code",
   "execution_count": null,
   "metadata": {},
   "outputs": [],
   "source": [
    "print('Joint full model with one hot encoding, predicting deception, weighted by text length')\n",
    "joint_full_model = models_nn.create_joint_model(pred_df_full_textlength_test)\n",
    "joint_full_model.summary()\n",
    "history = joint_full_model.fit(x=pred_df_full_textlength, y=y_train_deception, epochs=32, \n",
    "                    batch_size=64, \n",
    "                    validation_data=(pred_df_full_textlength_test,y_test_deception), callbacks=[models_nn.early_stop])\n",
    "\n",
    "full_pred_test = joint_full_model.predict(pred_df_full_textlength_test)\n",
    "full_pred_test = np.argmax(full_pred_test, axis=1)\n",
    "\n",
    "precision_recall_fscore_support(y_test_deception, full_pred_test, average='macro')"
   ]
  },
  {
   "cell_type": "code",
   "execution_count": null,
   "metadata": {},
   "outputs": [],
   "source": [
    "print('Joint full model with one hot encoding, predicting rapport, weighted by text length')\n",
    "joint_full_model = models_nn.create_joint_model(pred_df_textlength)\n",
    "joint_full_model.summary()\n",
    "history = joint_full_model.fit(x=pred_df_textlength, y=y_train_rapport, epochs=32, \n",
    "                    batch_size=64, \n",
    "                    validation_data=(pred_df_textlength_test,y_test_rapport), callbacks=[models_nn.early_stop])\n",
    "\n",
    "full_pred_test = joint_full_model.predict(pred_df_textlength_test)\n",
    "full_pred_test = np.argmax(full_pred_test, axis=1)\n",
    "\n",
    "precision_recall_fscore_support(y_test_rapport, full_pred_test, average='macro')"
   ]
  },
  {
   "cell_type": "code",
   "execution_count": null,
   "metadata": {},
   "outputs": [],
   "source": []
  },
  {
   "cell_type": "code",
   "execution_count": null,
   "metadata": {},
   "outputs": [],
   "source": [
    "## Joint full model with semantic model, predicting deception\n",
    "clf_joint = models_semantic.get_semantic_model()\n",
    "clf_joint.fit(pred_df_full, y_train_deception)\n",
    "y_pred_deception = clf_joint.predict(pred_df_full)\n",
    "y_pred_test_deception = clf_joint.predict(pred_test_df_full)\n",
    "print(classification_report(y_pred_test_deception, y_test_deception))\n",
    "\n",
    "precision_recall_fscore_support(y_test_deception, y_pred_test_deception, average='macro')"
   ]
  },
  {
   "cell_type": "code",
   "execution_count": null,
   "metadata": {},
   "outputs": [],
   "source": [
    "## Joint full model with semantic model, predicting rapport\n",
    "clf_joint = models_semantic.get_semantic_model()\n",
    "clf_joint.fit(pred_df, y_train_rapport)\n",
    "y_pred_repport = clf_joint.predict(pred_df)\n",
    "y_pred_test_rapport = clf_joint.predict(pred_test_df)\n",
    "print(classification_report(y_pred_test_rapport, y_test_rapport))\n",
    "\n",
    "precision_recall_fscore_support(y_test_rapport, y_pred_test_rapport, average='macro')"
   ]
  },
  {
   "cell_type": "code",
   "execution_count": null,
   "metadata": {},
   "outputs": [],
   "source": [
    "## Joint full model with semantic model, predicting deception, weighted by throughput\n",
    "clf_joint = models_semantic.get_semantic_model()\n",
    "clf_joint.fit(pred_df_full_throughput, y_train_deception)\n",
    "y_pred_deception = clf_joint.predict(pred_df_full_throughput)\n",
    "y_pred_test_deception = clf_joint.predict(pred_df_full_throughput_test)\n",
    "print(classification_report(y_pred_test_deception, y_test_deception))\n",
    "\n",
    "precision_recall_fscore_support(y_test_deception, y_pred_test_deception, average='macro')"
   ]
  },
  {
   "cell_type": "code",
   "execution_count": null,
   "metadata": {},
   "outputs": [],
   "source": [
    "## Joint full model with semantic model, predicting rapport, weighted by throughput\n",
    "clf_joint = models_semantic.get_semantic_model()\n",
    "clf_joint.fit(pred_df_throughput, y_train_rapport)\n",
    "y_pred_rapport = clf_joint.predict(pred_df_throughput)\n",
    "y_pred_test_rapport = clf_joint.predict(pred_df_throughput_test)\n",
    "print(classification_report(y_pred_test_rapport, y_test_rapport))\n",
    "\n",
    "precision_recall_fscore_support(y_test_rapport, y_pred_test_rapport, average='macro')"
   ]
  },
  {
   "cell_type": "code",
   "execution_count": null,
   "metadata": {},
   "outputs": [],
   "source": [
    "## Joint full model with semantic model, predicting deception, weighted by worktime\n",
    "clf_joint = models_semantic.get_semantic_model()\n",
    "clf_joint.fit(pred_df_full_worktime, y_train_deception)\n",
    "y_pred_test = clf_joint.predict(pred_df_full_worktime_test)\n",
    "print(classification_report(y_pred_test, y_test_deception))\n",
    "\n",
    "precision_recall_fscore_support(y_pred_test, y_test_deception, average='macro')"
   ]
  },
  {
   "cell_type": "code",
   "execution_count": null,
   "metadata": {},
   "outputs": [],
   "source": [
    "## Joint full model with semantic model, predicting rapport, weighted by worktime\n",
    "clf_joint = models_semantic.get_semantic_model()\n",
    "clf_joint.fit(pred_df_worktime, y_train_rapport)\n",
    "y_pred_test_rapport = clf_joint.predict(pred_df_worktime_test)\n",
    "print(classification_report(y_pred_test_rapport, y_test_rapport))\n",
    "\n",
    "precision_recall_fscore_support(y_pred_test_rapport, y_test_rapport, average='macro')"
   ]
  },
  {
   "cell_type": "code",
   "execution_count": null,
   "metadata": {},
   "outputs": [],
   "source": [
    "## Joint full model with semantic model, predicting deception, weighted by agreement\n",
    "clf_joint = models_semantic.get_semantic_model()\n",
    "clf_joint.fit(pred_df_full_agreement, y_train_deception)\n",
    "y_pred_test = clf_joint.predict(pred_df_full_agreement_test)\n",
    "print(classification_report(y_pred_test, y_test_deception))\n",
    "\n",
    "precision_recall_fscore_support(y_pred_test, y_test_deception, average='macro')"
   ]
  },
  {
   "cell_type": "code",
   "execution_count": null,
   "metadata": {},
   "outputs": [],
   "source": [
    "## Joint full model with semantic model, predicting rapport, weighted by agreement\n",
    "clf_joint = models_semantic.get_semantic_model()\n",
    "clf_joint.fit(pred_df_agreement, y_train_rapport)\n",
    "y_pred_test_rapport = clf_joint.predict(pred_df_agreement_test)\n",
    "print(classification_report(y_pred_test_rapport, y_test_rapport))\n",
    "\n",
    "precision_recall_fscore_support(y_pred_test_rapport, y_test_rapport, average='macro')"
   ]
  },
  {
   "cell_type": "code",
   "execution_count": null,
   "metadata": {},
   "outputs": [],
   "source": []
  },
  {
   "cell_type": "markdown",
   "metadata": {},
   "source": [
    "## Other special options (either SP1, SP2, SP3, RAND_UNI, or RAND_NORM)"
   ]
  },
  {
   "cell_type": "code",
   "execution_count": null,
   "metadata": {},
   "outputs": [],
   "source": [
    "print('Joint full model with one hot encoding, predicting deception, weighted by special option')\n",
    "joint_full_model = models_nn.create_joint_model(pred_df_full_special)\n",
    "joint_full_model.summary()\n",
    "history = joint_full_model.fit(x=pred_df_full_special, \n",
    "                               y=y_train_deception, \n",
    "                               epochs=32, \n",
    "                               batch_size=64, \n",
    "                               validation_data=(pred_df_full_special_test,y_test_deception), \n",
    "                               callbacks=[models_nn.early_stop])\n",
    "\n",
    "joint_predict = joint_full_model.predict(pred_df_full_special_test)\n",
    "joint_predict_round = []\n",
    "for a in joint_predict:\n",
    "    joint_predict_round.append(np.argmax(a))\n",
    "precision_recall_fscore_support(y_test_deception, np.array(joint_predict_round), average='macro')"
   ]
  },
  {
   "cell_type": "code",
   "execution_count": null,
   "metadata": {},
   "outputs": [],
   "source": [
    "print('Joint full model with one hot encoding, predicting rapport, weighted by special option')\n",
    "joint_full_model = models_nn.create_joint_model(pred_df_special)\n",
    "joint_full_model.summary()\n",
    "history = joint_full_model.fit(x=pred_df_special, \n",
    "                               y=y_train_rapport, \n",
    "                               epochs=32, \n",
    "                               batch_size=64,\n",
    "                               validation_data=(pred_df_special_test,y_test_rapport), \n",
    "                               callbacks=[models_nn.early_stop])\n",
    "\n",
    "joint_predict = joint_full_model.predict(pred_df_special_test)\n",
    "joint_predict_round = []\n",
    "for a in joint_predict:\n",
    "    joint_predict_round.append(np.argmax(a))\n",
    "precision_recall_fscore_support(y_test_rapport, np.array(joint_predict_round), average='macro')"
   ]
  }
 ],
 "metadata": {
  "kernelspec": {
   "display_name": "tfgpu",
   "language": "python",
   "name": "tfgpu"
  },
  "language_info": {
   "codemirror_mode": {
    "name": "ipython",
    "version": 3
   },
   "file_extension": ".py",
   "mimetype": "text/x-python",
   "name": "python",
   "nbconvert_exporter": "python",
   "pygments_lexer": "ipython3",
   "version": "3.8.5"
  }
 },
 "nbformat": 4,
 "nbformat_minor": 4
}
