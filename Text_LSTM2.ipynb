{
 "cells": [
  {
   "cell_type": "code",
   "execution_count": 1,
   "metadata": {},
   "outputs": [],
   "source": [
    "import pandas as pd\n",
    "import numpy as np\n",
    "import matplotlib.pyplot as plt\n",
    "\n",
    "from sklearn.model_selection import train_test_split\n",
    "from sklearn.preprocessing import LabelEncoder\n",
    "\n",
    "import tensorflow as tf\n",
    "\n",
    "from tensorflow.keras.models import Model, Sequential\n",
    "from tensorflow.keras.layers import LSTM, Dense, Dropout, Input, Embedding, Flatten, Conv1D, MaxPooling1D\n",
    "from tensorflow.keras.optimizers import RMSprop\n",
    "\n",
    "from tensorflow.keras.preprocessing.text import Tokenizer\n",
    "from tensorflow.keras.preprocessing import sequence\n",
    "from tensorflow.keras.utils import to_categorical\n",
    "\n",
    "from tensorflow.keras.callbacks import EarlyStopping"
   ]
  },
  {
   "cell_type": "code",
   "execution_count": 2,
   "metadata": {},
   "outputs": [],
   "source": [
    "full_df = pd.read_csv('data/kokil dec 6 reprepare/conf_good_agg_withpc.csv')"
   ]
  },
  {
   "cell_type": "code",
   "execution_count": 3,
   "metadata": {},
   "outputs": [
    {
     "data": {
      "text/html": [
       "<div>\n",
       "<style scoped>\n",
       "    .dataframe tbody tr th:only-of-type {\n",
       "        vertical-align: middle;\n",
       "    }\n",
       "\n",
       "    .dataframe tbody tr th {\n",
       "        vertical-align: top;\n",
       "    }\n",
       "\n",
       "    .dataframe thead th {\n",
       "        text-align: right;\n",
       "    }\n",
       "</style>\n",
       "<table border=\"1\" class=\"dataframe\">\n",
       "  <thead>\n",
       "    <tr style=\"text-align: right;\">\n",
       "      <th></th>\n",
       "      <th>HITId</th>\n",
       "      <th>Input.sentence_id</th>\n",
       "      <th>Input.convo_id</th>\n",
       "      <th>Input.train_test_val</th>\n",
       "      <th>Input.msg_id</th>\n",
       "      <th>Input.timestamp</th>\n",
       "      <th>Input.full_text</th>\n",
       "      <th>Input.speaker</th>\n",
       "      <th>Input.reply_to</th>\n",
       "      <th>Input.speaker_intention</th>\n",
       "      <th>...</th>\n",
       "      <th>Answer.3rapport.yes_pc_agree</th>\n",
       "      <th>Answer.4shareinformation.yes_pc_agree</th>\n",
       "      <th>Answer.1gamemove.yes_label</th>\n",
       "      <th>Answer.2reasoning.yes_label</th>\n",
       "      <th>Answer.3a_apologies.yes_label</th>\n",
       "      <th>Answer.3a_compliment.yes_label</th>\n",
       "      <th>Answer.3a_personalthoughts.yes_label</th>\n",
       "      <th>Answer.3a_reassurance.yes_label</th>\n",
       "      <th>Answer.3rapport.yes_label</th>\n",
       "      <th>Answer.4shareinformation.yes_label</th>\n",
       "    </tr>\n",
       "  </thead>\n",
       "  <tbody>\n",
       "    <tr>\n",
       "      <th>0</th>\n",
       "      <td>301KG0KX9CLR06T6MC6UVPAHBC92HU</td>\n",
       "      <td>22056</td>\n",
       "      <td>Game7-turkey-austria</td>\n",
       "      <td>Train</td>\n",
       "      <td>Game7-turkey-austria-9</td>\n",
       "      <td>197</td>\n",
       "      <td>Im moving my fleet to Alb not for Greece but f...</td>\n",
       "      <td>austria-Game7</td>\n",
       "      <td>Game7-turkey-austria-8</td>\n",
       "      <td>Truth</td>\n",
       "      <td>...</td>\n",
       "      <td>1.00</td>\n",
       "      <td>1.000000</td>\n",
       "      <td>1.0</td>\n",
       "      <td>1.0</td>\n",
       "      <td>1.0</td>\n",
       "      <td>1.0</td>\n",
       "      <td>1.0</td>\n",
       "      <td>1.0</td>\n",
       "      <td>1.0</td>\n",
       "      <td>1.0</td>\n",
       "    </tr>\n",
       "    <tr>\n",
       "      <th>1</th>\n",
       "      <td>301KG0KX9CLR06T6MC6UVPAHBCAH2A</td>\n",
       "      <td>6906</td>\n",
       "      <td>Game11-austria-italy</td>\n",
       "      <td>Validation</td>\n",
       "      <td>Game11-austria-italy-5</td>\n",
       "      <td>45</td>\n",
       "      <td>And yes I would like peace on our front, I cou...</td>\n",
       "      <td>austria-Game11</td>\n",
       "      <td>Game11-austria-italy-4</td>\n",
       "      <td>Truth</td>\n",
       "      <td>...</td>\n",
       "      <td>1.00</td>\n",
       "      <td>1.000000</td>\n",
       "      <td>1.0</td>\n",
       "      <td>1.0</td>\n",
       "      <td>1.0</td>\n",
       "      <td>1.0</td>\n",
       "      <td>1.0</td>\n",
       "      <td>1.0</td>\n",
       "      <td>1.0</td>\n",
       "      <td>1.0</td>\n",
       "    </tr>\n",
       "    <tr>\n",
       "      <th>2</th>\n",
       "      <td>301KG0KX9CLR06T6MC6UVPAHBCC2HX</td>\n",
       "      <td>3066</td>\n",
       "      <td>Game1-england-germany</td>\n",
       "      <td>Train</td>\n",
       "      <td>Game1-england-germany-271</td>\n",
       "      <td>1468</td>\n",
       "      <td>okay...well, as the person who has ever seen a...</td>\n",
       "      <td>germany-Game1</td>\n",
       "      <td>Game1-england-germany-270</td>\n",
       "      <td>Truth</td>\n",
       "      <td>...</td>\n",
       "      <td>1.00</td>\n",
       "      <td>0.666667</td>\n",
       "      <td>1.0</td>\n",
       "      <td>1.0</td>\n",
       "      <td>1.0</td>\n",
       "      <td>1.0</td>\n",
       "      <td>1.0</td>\n",
       "      <td>1.0</td>\n",
       "      <td>1.0</td>\n",
       "      <td>1.0</td>\n",
       "    </tr>\n",
       "    <tr>\n",
       "      <th>3</th>\n",
       "      <td>301KG0KX9CLR06T6MC6UVPAHBCCH2C</td>\n",
       "      <td>24093</td>\n",
       "      <td>Game9-italy-germany</td>\n",
       "      <td>Train</td>\n",
       "      <td>Game9-italy-germany-70</td>\n",
       "      <td>1460</td>\n",
       "      <td>I think the best thing we can do to keep the a...</td>\n",
       "      <td>germany-Game9</td>\n",
       "      <td>Game9-italy-germany-69</td>\n",
       "      <td>Truth</td>\n",
       "      <td>...</td>\n",
       "      <td>0.75</td>\n",
       "      <td>0.750000</td>\n",
       "      <td>1.0</td>\n",
       "      <td>1.0</td>\n",
       "      <td>1.0</td>\n",
       "      <td>1.0</td>\n",
       "      <td>1.0</td>\n",
       "      <td>1.0</td>\n",
       "      <td>1.0</td>\n",
       "      <td>1.0</td>\n",
       "    </tr>\n",
       "    <tr>\n",
       "      <th>4</th>\n",
       "      <td>301KG0KX9CLR06T6MC6UVPAHBCD2HY</td>\n",
       "      <td>1591</td>\n",
       "      <td>Game1-england-italy</td>\n",
       "      <td>Train</td>\n",
       "      <td>Game1-england-italy-273</td>\n",
       "      <td>1809</td>\n",
       "      <td>We'll see if I can keep it friendly.</td>\n",
       "      <td>england-Game1</td>\n",
       "      <td>Game1-england-italy-272</td>\n",
       "      <td>Truth</td>\n",
       "      <td>...</td>\n",
       "      <td>0.75</td>\n",
       "      <td>0.750000</td>\n",
       "      <td>1.0</td>\n",
       "      <td>1.0</td>\n",
       "      <td>1.0</td>\n",
       "      <td>1.0</td>\n",
       "      <td>NaN</td>\n",
       "      <td>NaN</td>\n",
       "      <td>1.0</td>\n",
       "      <td>1.0</td>\n",
       "    </tr>\n",
       "  </tbody>\n",
       "</table>\n",
       "<p>5 rows × 49 columns</p>\n",
       "</div>"
      ],
      "text/plain": [
       "                            HITId  Input.sentence_id         Input.convo_id  \\\n",
       "0  301KG0KX9CLR06T6MC6UVPAHBC92HU              22056   Game7-turkey-austria   \n",
       "1  301KG0KX9CLR06T6MC6UVPAHBCAH2A               6906   Game11-austria-italy   \n",
       "2  301KG0KX9CLR06T6MC6UVPAHBCC2HX               3066  Game1-england-germany   \n",
       "3  301KG0KX9CLR06T6MC6UVPAHBCCH2C              24093    Game9-italy-germany   \n",
       "4  301KG0KX9CLR06T6MC6UVPAHBCD2HY               1591    Game1-england-italy   \n",
       "\n",
       "  Input.train_test_val               Input.msg_id  Input.timestamp  \\\n",
       "0                Train     Game7-turkey-austria-9              197   \n",
       "1           Validation     Game11-austria-italy-5               45   \n",
       "2                Train  Game1-england-germany-271             1468   \n",
       "3                Train     Game9-italy-germany-70             1460   \n",
       "4                Train    Game1-england-italy-273             1809   \n",
       "\n",
       "                                     Input.full_text   Input.speaker  \\\n",
       "0  Im moving my fleet to Alb not for Greece but f...   austria-Game7   \n",
       "1  And yes I would like peace on our front, I cou...  austria-Game11   \n",
       "2  okay...well, as the person who has ever seen a...   germany-Game1   \n",
       "3  I think the best thing we can do to keep the a...   germany-Game9   \n",
       "4               We'll see if I can keep it friendly.   england-Game1   \n",
       "\n",
       "              Input.reply_to Input.speaker_intention  ...  \\\n",
       "0     Game7-turkey-austria-8                   Truth  ...   \n",
       "1     Game11-austria-italy-4                   Truth  ...   \n",
       "2  Game1-england-germany-270                   Truth  ...   \n",
       "3     Game9-italy-germany-69                   Truth  ...   \n",
       "4    Game1-england-italy-272                   Truth  ...   \n",
       "\n",
       "  Answer.3rapport.yes_pc_agree Answer.4shareinformation.yes_pc_agree  \\\n",
       "0                         1.00                              1.000000   \n",
       "1                         1.00                              1.000000   \n",
       "2                         1.00                              0.666667   \n",
       "3                         0.75                              0.750000   \n",
       "4                         0.75                              0.750000   \n",
       "\n",
       "   Answer.1gamemove.yes_label  Answer.2reasoning.yes_label  \\\n",
       "0                         1.0                          1.0   \n",
       "1                         1.0                          1.0   \n",
       "2                         1.0                          1.0   \n",
       "3                         1.0                          1.0   \n",
       "4                         1.0                          1.0   \n",
       "\n",
       "   Answer.3a_apologies.yes_label  Answer.3a_compliment.yes_label  \\\n",
       "0                            1.0                             1.0   \n",
       "1                            1.0                             1.0   \n",
       "2                            1.0                             1.0   \n",
       "3                            1.0                             1.0   \n",
       "4                            1.0                             1.0   \n",
       "\n",
       "   Answer.3a_personalthoughts.yes_label  Answer.3a_reassurance.yes_label  \\\n",
       "0                                   1.0                              1.0   \n",
       "1                                   1.0                              1.0   \n",
       "2                                   1.0                              1.0   \n",
       "3                                   1.0                              1.0   \n",
       "4                                   NaN                              NaN   \n",
       "\n",
       "  Answer.3rapport.yes_label  Answer.4shareinformation.yes_label  \n",
       "0                       1.0                                 1.0  \n",
       "1                       1.0                                 1.0  \n",
       "2                       1.0                                 1.0  \n",
       "3                       1.0                                 1.0  \n",
       "4                       1.0                                 1.0  \n",
       "\n",
       "[5 rows x 49 columns]"
      ]
     },
     "execution_count": 3,
     "metadata": {},
     "output_type": "execute_result"
    }
   ],
   "source": [
    "full_df.head()"
   ]
  },
  {
   "cell_type": "code",
   "execution_count": 4,
   "metadata": {},
   "outputs": [
    {
     "name": "stdout",
     "output_type": "stream",
     "text": [
      "(3295,)\n",
      "(3295, 1)\n",
      "(2636,)\n",
      "(2636, 1)\n",
      "(659,)\n",
      "(659, 1)\n"
     ]
    }
   ],
   "source": [
    "full_df = full_df.dropna() # dataset contains NaN values, dropping NaNs here\n",
    "\n",
    "X = full_df['Input.full_text']\n",
    "y = full_df['Answer.1gamemove.yes_label']\n",
    "\n",
    "le = LabelEncoder() # this can convert our categories into labels, make sure you don't have NaNs or Nulls in your data first\n",
    "y = le.fit_transform(y)\n",
    "print(y.shape)\n",
    "\n",
    "# we reshape \n",
    "y = y.reshape(-1,1) # the -1 allows it to have whatever number went in there\n",
    "print(y.shape)\n",
    "\n",
    "X_train, X_test, y_train, y_test = train_test_split(X, y, test_size=0.2)\n",
    "# X_train, X_test, y_train, y_test = train_test_split(X, y, stratify=y, test_size=0.2)\n",
    "print(X_train.shape)\n",
    "print(y_train.shape)\n",
    "print(X_test.shape)\n",
    "print(y_test.shape)"
   ]
  },
  {
   "cell_type": "code",
   "execution_count": 5,
   "metadata": {},
   "outputs": [],
   "source": [
    "max_words = 1000\n",
    "max_len = 50\n",
    "\n",
    "tok = Tokenizer(num_words=max_words)\n",
    "tok.fit_on_texts(X_train)\n",
    "\n",
    "sequences = tok.texts_to_sequences(X_train)\n",
    "X_train = sequence.pad_sequences(sequences,maxlen=max_len)\n",
    "# X_train = sequence.pad_sequences(sequences)"
   ]
  },
  {
   "cell_type": "code",
   "execution_count": 6,
   "metadata": {},
   "outputs": [],
   "source": [
    "from keras import backend as K\n",
    "\n",
    "def recall_m(y_true, y_pred):\n",
    "    true_positives = K.sum(K.round(K.clip(y_true * y_pred, 0, 1)))\n",
    "    possible_positives = K.sum(K.round(K.clip(y_true, 0, 1)))\n",
    "    recall = true_positives / (possible_positives + K.epsilon())\n",
    "    return recall\n",
    "\n",
    "def precision_m(y_true, y_pred):\n",
    "    true_positives = K.sum(K.round(K.clip(y_true * y_pred, 0, 1)))\n",
    "    predicted_positives = K.sum(K.round(K.clip(y_pred, 0, 1)))\n",
    "    precision = true_positives / (predicted_positives + K.epsilon())\n",
    "    return precision\n",
    "\n",
    "def f1_m(y_true, y_pred):\n",
    "    precision = precision_m(y_true, y_pred)\n",
    "    recall = recall_m(y_true, y_pred)\n",
    "    return 2*((precision*recall)/(precision+recall+K.epsilon()))"
   ]
  },
  {
   "cell_type": "code",
   "execution_count": 7,
   "metadata": {},
   "outputs": [],
   "source": [
    "early_stop = EarlyStopping(monitor='val_loss',min_delta=0.00001)"
   ]
  },
  {
   "cell_type": "code",
   "execution_count": 8,
   "metadata": {},
   "outputs": [],
   "source": [
    "Inp = Input(name='inputs',shape=[max_len])\n",
    "x = Embedding(max_words,50,input_length=max_len)(Inp)\n",
    "x = LSTM(64,name='LSTM_01')(x)\n",
    "x = Dropout(0.5,name='Dropout')(x)\n",
    "x = Dense(128,activation='relu',name='Dense_01')(x)\n",
    "# x = Dropout(0.5,name='Dropout')(x)\n",
    "out = Dense(1,activation='sigmoid', name='output')(x)"
   ]
  },
  {
   "cell_type": "code",
   "execution_count": 9,
   "metadata": {},
   "outputs": [],
   "source": [
    "model = Model(inputs=Inp,outputs=out)"
   ]
  },
  {
   "cell_type": "code",
   "execution_count": 10,
   "metadata": {},
   "outputs": [],
   "source": [
    "# model.compile(loss='binary_crossentropy',optimizer=RMSprop(),metrics=['accuracy'])\n",
    "model.compile(loss='binary_crossentropy',optimizer=RMSprop(),metrics=['acc',f1_m,precision_m, recall_m])"
   ]
  },
  {
   "cell_type": "code",
   "execution_count": 11,
   "metadata": {},
   "outputs": [
    {
     "name": "stdout",
     "output_type": "stream",
     "text": [
      "Model: \"functional_1\"\n",
      "_________________________________________________________________\n",
      "Layer (type)                 Output Shape              Param #   \n",
      "=================================================================\n",
      "inputs (InputLayer)          [(None, 50)]              0         \n",
      "_________________________________________________________________\n",
      "embedding (Embedding)        (None, 50, 50)            50000     \n",
      "_________________________________________________________________\n",
      "LSTM_01 (LSTM)               (None, 64)                29440     \n",
      "_________________________________________________________________\n",
      "Dropout (Dropout)            (None, 64)                0         \n",
      "_________________________________________________________________\n",
      "Dense_01 (Dense)             (None, 128)               8320      \n",
      "_________________________________________________________________\n",
      "output (Dense)               (None, 1)                 129       \n",
      "=================================================================\n",
      "Total params: 87,889\n",
      "Trainable params: 87,889\n",
      "Non-trainable params: 0\n",
      "_________________________________________________________________\n"
     ]
    }
   ],
   "source": [
    "model.summary()"
   ]
  },
  {
   "cell_type": "code",
   "execution_count": 12,
   "metadata": {},
   "outputs": [
    {
     "name": "stdout",
     "output_type": "stream",
     "text": [
      "Epoch 1/15\n",
      "17/17 [==============================] - 0s 25ms/step - loss: 0.4661 - acc: 0.8615 - f1_m: 0.9256 - precision_m: 0.8716 - recall_m: 0.9886 - val_loss: 0.3382 - val_acc: 0.8939 - val_f1_m: 0.9536 - val_precision_m: 0.9125 - val_recall_m: 1.0000\n",
      "Epoch 2/15\n",
      "17/17 [==============================] - 0s 8ms/step - loss: 0.3919 - acc: 0.8700 - f1_m: 0.9316 - precision_m: 0.8725 - recall_m: 1.0000 - val_loss: 0.3413 - val_acc: 0.8939 - val_f1_m: 0.9536 - val_precision_m: 0.9125 - val_recall_m: 1.0000\n"
     ]
    },
    {
     "data": {
      "text/plain": [
       "<tensorflow.python.keras.callbacks.History at 0x7fad801a07f0>"
      ]
     },
     "execution_count": 12,
     "metadata": {},
     "output_type": "execute_result"
    }
   ],
   "source": [
    "model.fit(X_train,y_train,\n",
    "          batch_size=128,\n",
    "          epochs=15,\n",
    "          validation_split=0.2,\n",
    "          callbacks=[early_stop])\n",
    "\n",
    "# model.fit(X_train,y_train,\n",
    "#           batch_size=128,\n",
    "#           epochs=15,\n",
    "#           validation_split=0.2)"
   ]
  },
  {
   "cell_type": "code",
   "execution_count": 8,
   "metadata": {},
   "outputs": [
    {
     "name": "stdout",
     "output_type": "stream",
     "text": [
      "Model: \"CNN_with_embeddings\"\n",
      "_________________________________________________________________\n",
      "Layer (type)                 Output Shape              Param #   \n",
      "=================================================================\n",
      "embedding (Embedding)        (None, 50, 50)            50000     \n",
      "_________________________________________________________________\n",
      "conv1d (Conv1D)              (None, 43, 32)            12832     \n",
      "_________________________________________________________________\n",
      "max_pooling1d (MaxPooling1D) (None, 21, 32)            0         \n",
      "_________________________________________________________________\n",
      "flatten (Flatten)            (None, 672)               0         \n",
      "_________________________________________________________________\n",
      "dropout (Dropout)            (None, 672)               0         \n",
      "_________________________________________________________________\n",
      "dense (Dense)                (None, 10)                6730      \n",
      "_________________________________________________________________\n",
      "dense_1 (Dense)              (None, 1)                 11        \n",
      "=================================================================\n",
      "Total params: 69,573\n",
      "Trainable params: 69,573\n",
      "Non-trainable params: 0\n",
      "_________________________________________________________________\n"
     ]
    }
   ],
   "source": [
    "model = Sequential(name=\"CNN_with_embeddings\")\n",
    "model.add(Embedding(max_words, 50, input_length=max_len))\n",
    "model.add(Conv1D(filters=32, kernel_size=8, activation='relu'))\n",
    "model.add(MaxPooling1D(pool_size=2))\n",
    "model.add(Flatten())\n",
    "model.add(Dropout(0.5))\n",
    "model.add(Dense(10, activation='relu'))\n",
    "model.add(Dense(1, activation='sigmoid'))\n",
    "\n",
    "model.compile(loss='binary_crossentropy', \n",
    "              optimizer= 'adam',\n",
    "              metrics=['acc',f1_m,precision_m, recall_m])\n",
    "\n",
    "model.summary()"
   ]
  },
  {
   "cell_type": "code",
   "execution_count": 9,
   "metadata": {},
   "outputs": [],
   "source": [
    "early_stop = EarlyStopping(monitor='val_loss',min_delta=0.00001)"
   ]
  },
  {
   "cell_type": "code",
   "execution_count": 10,
   "metadata": {},
   "outputs": [
    {
     "name": "stdout",
     "output_type": "stream",
     "text": [
      "Epoch 1/15\n",
      "17/17 [==============================] - 0s 16ms/step - loss: 0.5648 - acc: 0.8306 - f1_m: 0.8953 - precision_m: 0.8704 - recall_m: 0.9486 - val_loss: 0.3951 - val_acc: 0.8693 - val_f1_m: 0.9240 - val_precision_m: 0.8594 - val_recall_m: 1.0000\n",
      "Epoch 2/15\n",
      "17/17 [==============================] - 0s 4ms/step - loss: 0.4104 - acc: 0.8672 - f1_m: 0.9281 - precision_m: 0.8661 - recall_m: 1.0000 - val_loss: 0.3931 - val_acc: 0.8693 - val_f1_m: 0.9240 - val_precision_m: 0.8594 - val_recall_m: 1.0000\n",
      "Epoch 3/15\n",
      "17/17 [==============================] - 0s 4ms/step - loss: 0.3964 - acc: 0.8672 - f1_m: 0.9286 - precision_m: 0.8672 - recall_m: 1.0000 - val_loss: 0.3921 - val_acc: 0.8693 - val_f1_m: 0.9240 - val_precision_m: 0.8594 - val_recall_m: 1.0000\n",
      "Epoch 4/15\n",
      "17/17 [==============================] - 0s 4ms/step - loss: 0.3857 - acc: 0.8672 - f1_m: 0.9287 - precision_m: 0.8672 - recall_m: 1.0000 - val_loss: 0.3932 - val_acc: 0.8693 - val_f1_m: 0.9240 - val_precision_m: 0.8594 - val_recall_m: 1.0000\n"
     ]
    },
    {
     "data": {
      "text/plain": [
       "<tensorflow.python.keras.callbacks.History at 0x7f6d900db7b8>"
      ]
     },
     "execution_count": 10,
     "metadata": {},
     "output_type": "execute_result"
    }
   ],
   "source": [
    "model.fit(X_train,y_train,\n",
    "          batch_size=128,\n",
    "          epochs=15,\n",
    "          validation_split=0.2,\n",
    "          callbacks=[early_stop])"
   ]
  },
  {
   "cell_type": "code",
   "execution_count": 11,
   "metadata": {},
   "outputs": [],
   "source": [
    "test_sequences = tok.texts_to_sequences(X_test)\n",
    "X_test = sequence.pad_sequences(test_sequences,maxlen=max_len)"
   ]
  },
  {
   "cell_type": "code",
   "execution_count": 12,
   "metadata": {},
   "outputs": [
    {
     "name": "stdout",
     "output_type": "stream",
     "text": [
      "21/21 [==============================] - 0s 2ms/step - loss: 0.3442 - acc: 0.8953 - f1_m: 0.9449 - precision_m: 0.8973 - recall_m: 1.0000\n"
     ]
    },
    {
     "data": {
      "text/plain": [
       "[0.3442312479019165,\n",
       " 0.8952959179878235,\n",
       " 0.9449462890625,\n",
       " 0.8973214030265808,\n",
       " 1.0]"
      ]
     },
     "execution_count": 12,
     "metadata": {},
     "output_type": "execute_result"
    }
   ],
   "source": [
    "model.evaluate(X_test,y_test)"
   ]
  },
  {
   "cell_type": "code",
   "execution_count": null,
   "metadata": {},
   "outputs": [],
   "source": []
  },
  {
   "cell_type": "code",
   "execution_count": null,
   "metadata": {},
   "outputs": [],
   "source": []
  }
 ],
 "metadata": {
  "kernelspec": {
   "display_name": "TF2",
   "language": "python",
   "name": "tf2"
  },
  "language_info": {
   "codemirror_mode": {
    "name": "ipython",
    "version": 3
   },
   "file_extension": ".py",
   "mimetype": "text/x-python",
   "name": "python",
   "nbconvert_exporter": "python",
   "pygments_lexer": "ipython3",
   "version": "3.6.12"
  }
 },
 "nbformat": 4,
 "nbformat_minor": 2
}
