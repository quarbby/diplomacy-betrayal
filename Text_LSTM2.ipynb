{
 "cells": [
  {
   "cell_type": "code",
   "execution_count": 1,
   "metadata": {},
   "outputs": [],
   "source": [
    "import pandas as pd\n",
    "import numpy as np\n",
    "import matplotlib.pyplot as plt\n",
    "\n",
    "from sklearn.model_selection import train_test_split\n",
    "from sklearn.preprocessing import LabelEncoder\n",
    "\n",
    "import tensorflow as tf\n",
    "\n",
    "from tensorflow.keras.models import Model\n",
    "from tensorflow.keras.layers import LSTM, Dense, Dropout, Input, Embedding\n",
    "from tensorflow.keras.optimizers import RMSprop\n",
    "\n",
    "from tensorflow.keras.preprocessing.text import Tokenizer\n",
    "from tensorflow.keras.preprocessing import sequence\n",
    "from tensorflow.keras.utils import to_categorical\n",
    "\n",
    "from tensorflow.keras.callbacks import EarlyStopping"
   ]
  },
  {
   "cell_type": "code",
   "execution_count": 2,
   "metadata": {},
   "outputs": [],
   "source": [
    "full_df = pd.read_csv('data/affcon_final.csv')"
   ]
  },
  {
   "cell_type": "code",
   "execution_count": 3,
   "metadata": {},
   "outputs": [
    {
     "data": {
      "text/html": [
       "<div>\n",
       "<style scoped>\n",
       "    .dataframe tbody tr th:only-of-type {\n",
       "        vertical-align: middle;\n",
       "    }\n",
       "\n",
       "    .dataframe tbody tr th {\n",
       "        vertical-align: top;\n",
       "    }\n",
       "\n",
       "    .dataframe thead th {\n",
       "        text-align: right;\n",
       "    }\n",
       "</style>\n",
       "<table border=\"1\" class=\"dataframe\">\n",
       "  <thead>\n",
       "    <tr style=\"text-align: right;\">\n",
       "      <th></th>\n",
       "      <th>Input.convo_id</th>\n",
       "      <th>Input.train_test_val</th>\n",
       "      <th>Input.msg_id</th>\n",
       "      <th>Input.timestamp</th>\n",
       "      <th>Input.full_text</th>\n",
       "      <th>affcon_gamemove</th>\n",
       "      <th>affcon_reasoning</th>\n",
       "      <th>affcon_rapport</th>\n",
       "      <th>affcon_shareinformation</th>\n",
       "      <th>Input.speaker</th>\n",
       "      <th>...</th>\n",
       "      <th>Input.relative_message_index</th>\n",
       "      <th>Input.year</th>\n",
       "      <th>Input.game_score_speaker</th>\n",
       "      <th>Input.game_score_receiver</th>\n",
       "      <th>Input.game_score_delta</th>\n",
       "      <th>Input.deception_quadrant</th>\n",
       "      <th>Input.num_words</th>\n",
       "      <th>Input.num_characters</th>\n",
       "      <th>Input.sno</th>\n",
       "      <th>Input.sno1</th>\n",
       "    </tr>\n",
       "  </thead>\n",
       "  <tbody>\n",
       "    <tr>\n",
       "      <th>0</th>\n",
       "      <td>Game7-turkey-austria</td>\n",
       "      <td>Train</td>\n",
       "      <td>Game7-turkey-austria-9</td>\n",
       "      <td>197</td>\n",
       "      <td>Im moving my fleet to Alb not for Greece but f...</td>\n",
       "      <td>1</td>\n",
       "      <td>1</td>\n",
       "      <td>1</td>\n",
       "      <td>1</td>\n",
       "      <td>austria-Game7</td>\n",
       "      <td>...</td>\n",
       "      <td>9</td>\n",
       "      <td>1901</td>\n",
       "      <td>3</td>\n",
       "      <td>3</td>\n",
       "      <td>0</td>\n",
       "      <td>Straightforward</td>\n",
       "      <td>12</td>\n",
       "      <td>56</td>\n",
       "      <td>32</td>\n",
       "      <td>16.0</td>\n",
       "    </tr>\n",
       "    <tr>\n",
       "      <th>1</th>\n",
       "      <td>Game10-england-russia</td>\n",
       "      <td>Train</td>\n",
       "      <td>Game10-england-russia-36</td>\n",
       "      <td>722</td>\n",
       "      <td>If you take action in the spring to fight Aust...</td>\n",
       "      <td>1</td>\n",
       "      <td>1</td>\n",
       "      <td>1</td>\n",
       "      <td>1</td>\n",
       "      <td>england-Game10</td>\n",
       "      <td>...</td>\n",
       "      <td>36</td>\n",
       "      <td>1905</td>\n",
       "      <td>7</td>\n",
       "      <td>7</td>\n",
       "      <td>0</td>\n",
       "      <td>Straightforward</td>\n",
       "      <td>28</td>\n",
       "      <td>150</td>\n",
       "      <td>100</td>\n",
       "      <td>12.0</td>\n",
       "    </tr>\n",
       "    <tr>\n",
       "      <th>2</th>\n",
       "      <td>Game6-england-germany</td>\n",
       "      <td>Train</td>\n",
       "      <td>Game6-england-germany-86</td>\n",
       "      <td>469</td>\n",
       "      <td>This is to help prevent the ottoman advance.</td>\n",
       "      <td>0</td>\n",
       "      <td>1</td>\n",
       "      <td>0</td>\n",
       "      <td>1</td>\n",
       "      <td>england-Game6</td>\n",
       "      <td>...</td>\n",
       "      <td>86</td>\n",
       "      <td>1909</td>\n",
       "      <td>6</td>\n",
       "      <td>9</td>\n",
       "      <td>3</td>\n",
       "      <td>Straightforward</td>\n",
       "      <td>8</td>\n",
       "      <td>44</td>\n",
       "      <td>30</td>\n",
       "      <td>5.0</td>\n",
       "    </tr>\n",
       "    <tr>\n",
       "      <th>3</th>\n",
       "      <td>Game11-austria-italy</td>\n",
       "      <td>Validation</td>\n",
       "      <td>Game11-austria-italy-5</td>\n",
       "      <td>45</td>\n",
       "      <td>And yes I would like peace on our front, I cou...</td>\n",
       "      <td>1</td>\n",
       "      <td>1</td>\n",
       "      <td>1</td>\n",
       "      <td>0</td>\n",
       "      <td>austria-Game11</td>\n",
       "      <td>...</td>\n",
       "      <td>5</td>\n",
       "      <td>1901</td>\n",
       "      <td>3</td>\n",
       "      <td>3</td>\n",
       "      <td>0</td>\n",
       "      <td>Straightforward</td>\n",
       "      <td>31</td>\n",
       "      <td>132</td>\n",
       "      <td>46</td>\n",
       "      <td>22.0</td>\n",
       "    </tr>\n",
       "    <tr>\n",
       "      <th>4</th>\n",
       "      <td>Game6-germany-russia</td>\n",
       "      <td>Train</td>\n",
       "      <td>Game6-germany-russia-3</td>\n",
       "      <td>37</td>\n",
       "      <td>Just to be clear, England is not necessarily a...</td>\n",
       "      <td>1</td>\n",
       "      <td>0</td>\n",
       "      <td>0</td>\n",
       "      <td>1</td>\n",
       "      <td>russia-Game6</td>\n",
       "      <td>...</td>\n",
       "      <td>3</td>\n",
       "      <td>1901</td>\n",
       "      <td>4</td>\n",
       "      <td>5</td>\n",
       "      <td>1</td>\n",
       "      <td>Cassandra</td>\n",
       "      <td>27</td>\n",
       "      <td>148</td>\n",
       "      <td>63</td>\n",
       "      <td>21.0</td>\n",
       "    </tr>\n",
       "  </tbody>\n",
       "</table>\n",
       "<p>5 rows × 25 columns</p>\n",
       "</div>"
      ],
      "text/plain": [
       "          Input.convo_id Input.train_test_val              Input.msg_id  \\\n",
       "0   Game7-turkey-austria                Train    Game7-turkey-austria-9   \n",
       "1  Game10-england-russia                Train  Game10-england-russia-36   \n",
       "2  Game6-england-germany                Train  Game6-england-germany-86   \n",
       "3   Game11-austria-italy           Validation    Game11-austria-italy-5   \n",
       "4   Game6-germany-russia                Train    Game6-germany-russia-3   \n",
       "\n",
       "   Input.timestamp                                    Input.full_text  \\\n",
       "0              197  Im moving my fleet to Alb not for Greece but f...   \n",
       "1              722  If you take action in the spring to fight Aust...   \n",
       "2              469       This is to help prevent the ottoman advance.   \n",
       "3               45  And yes I would like peace on our front, I cou...   \n",
       "4               37  Just to be clear, England is not necessarily a...   \n",
       "\n",
       "   affcon_gamemove  affcon_reasoning  affcon_rapport  affcon_shareinformation  \\\n",
       "0                1                 1               1                        1   \n",
       "1                1                 1               1                        1   \n",
       "2                0                 1               0                        1   \n",
       "3                1                 1               1                        0   \n",
       "4                1                 0               0                        1   \n",
       "\n",
       "    Input.speaker  ... Input.relative_message_index Input.year  \\\n",
       "0   austria-Game7  ...                            9       1901   \n",
       "1  england-Game10  ...                           36       1905   \n",
       "2   england-Game6  ...                           86       1909   \n",
       "3  austria-Game11  ...                            5       1901   \n",
       "4    russia-Game6  ...                            3       1901   \n",
       "\n",
       "  Input.game_score_speaker Input.game_score_receiver  Input.game_score_delta  \\\n",
       "0                        3                         3                       0   \n",
       "1                        7                         7                       0   \n",
       "2                        6                         9                       3   \n",
       "3                        3                         3                       0   \n",
       "4                        4                         5                       1   \n",
       "\n",
       "   Input.deception_quadrant  Input.num_words  Input.num_characters  Input.sno  \\\n",
       "0           Straightforward               12                    56         32   \n",
       "1           Straightforward               28                   150        100   \n",
       "2           Straightforward                8                    44         30   \n",
       "3           Straightforward               31                   132         46   \n",
       "4                 Cassandra               27                   148         63   \n",
       "\n",
       "   Input.sno1  \n",
       "0        16.0  \n",
       "1        12.0  \n",
       "2         5.0  \n",
       "3        22.0  \n",
       "4        21.0  \n",
       "\n",
       "[5 rows x 25 columns]"
      ]
     },
     "execution_count": 3,
     "metadata": {},
     "output_type": "execute_result"
    }
   ],
   "source": [
    "full_df.head()"
   ]
  },
  {
   "cell_type": "code",
   "execution_count": 4,
   "metadata": {},
   "outputs": [
    {
     "name": "stdout",
     "output_type": "stream",
     "text": [
      "(15738,)\n",
      "(15738, 1)\n",
      "(12590,)\n",
      "(12590, 1)\n",
      "(3148,)\n",
      "(3148, 1)\n"
     ]
    }
   ],
   "source": [
    "# X = full_df['Input.full_text'].to_list()\n",
    "# y = full_df['affcon_rapport'].tolist()\n",
    "\n",
    "X = full_df['Input.full_text']\n",
    "y = full_df['affcon_rapport']\n",
    "\n",
    "le = LabelEncoder() # this can convert our categories into labels, make sure you don't have NaNs or Nulls in your data first\n",
    "y = le.fit_transform(y)\n",
    "print(y.shape)\n",
    "\n",
    "# we reshape \n",
    "y = y.reshape(-1,1) # the -1 allows it to have whatever number went in there\n",
    "print(y.shape)\n",
    "\n",
    "X_train, X_test, y_train, y_test = train_test_split(X, y, stratify=y, test_size=0.2)\n",
    "print(X_train.shape)\n",
    "print(y_train.shape)\n",
    "print(X_test.shape)\n",
    "print(y_test.shape)"
   ]
  },
  {
   "cell_type": "code",
   "execution_count": 10,
   "metadata": {},
   "outputs": [
    {
     "data": {
      "text/plain": [
       "532"
      ]
     },
     "execution_count": 10,
     "metadata": {},
     "output_type": "execute_result"
    }
   ],
   "source": [
    "X_train.map(len).max()"
   ]
  },
  {
   "cell_type": "code",
   "execution_count": 11,
   "metadata": {},
   "outputs": [],
   "source": [
    "max_words = 600\n",
    "max_len = 50\n",
    "\n",
    "tok = Tokenizer(num_words=max_words)\n",
    "tok.fit_on_texts(X_train)\n",
    "\n",
    "sequences = tok.texts_to_sequences(X_train)\n",
    "X_train = sequence.pad_sequences(sequences,maxlen=max_len)"
   ]
  },
  {
   "cell_type": "code",
   "execution_count": 12,
   "metadata": {},
   "outputs": [],
   "source": [
    "Inp = Input(name='inputs',shape=[max_len])\n",
    "x = Embedding(max_words,50,input_length=max_len)(Inp)\n",
    "x = LSTM(64,name='LSTM_01')(x)\n",
    "x = Dense(256,activation='relu',name='Dense_01')(x)\n",
    "x = Dropout(0.2,name='Dropout')(x)\n",
    "out = Dense(1,activation='sigmoid', name='output')(x)"
   ]
  },
  {
   "cell_type": "code",
   "execution_count": 13,
   "metadata": {},
   "outputs": [],
   "source": [
    "model = Model(inputs=Inp,outputs=out)"
   ]
  },
  {
   "cell_type": "code",
   "execution_count": 14,
   "metadata": {},
   "outputs": [],
   "source": [
    "model.compile(loss='binary_crossentropy',optimizer=RMSprop(),metrics=['accuracy'])"
   ]
  },
  {
   "cell_type": "code",
   "execution_count": 15,
   "metadata": {},
   "outputs": [
    {
     "name": "stdout",
     "output_type": "stream",
     "text": [
      "Model: \"functional_1\"\n",
      "_________________________________________________________________\n",
      "Layer (type)                 Output Shape              Param #   \n",
      "=================================================================\n",
      "inputs (InputLayer)          [(None, 50)]              0         \n",
      "_________________________________________________________________\n",
      "embedding (Embedding)        (None, 50, 50)            30000     \n",
      "_________________________________________________________________\n",
      "LSTM_01 (LSTM)               (None, 64)                29440     \n",
      "_________________________________________________________________\n",
      "Dense_01 (Dense)             (None, 256)               16640     \n",
      "_________________________________________________________________\n",
      "Dropout (Dropout)            (None, 256)               0         \n",
      "_________________________________________________________________\n",
      "output (Dense)               (None, 1)                 257       \n",
      "=================================================================\n",
      "Total params: 76,337\n",
      "Trainable params: 76,337\n",
      "Non-trainable params: 0\n",
      "_________________________________________________________________\n"
     ]
    }
   ],
   "source": [
    "model.summary()"
   ]
  },
  {
   "cell_type": "code",
   "execution_count": 16,
   "metadata": {},
   "outputs": [],
   "source": [
    "early_stop = EarlyStopping(monitor='val_loss',min_delta=0.0001)"
   ]
  },
  {
   "cell_type": "code",
   "execution_count": 17,
   "metadata": {},
   "outputs": [
    {
     "name": "stdout",
     "output_type": "stream",
     "text": [
      "Epoch 1/10\n",
      "79/79 [==============================] - 1s 11ms/step - loss: 0.6668 - accuracy: 0.6068 - val_loss: 0.6666 - val_accuracy: 0.5993\n",
      "Epoch 2/10\n",
      "79/79 [==============================] - 1s 6ms/step - loss: 0.6474 - accuracy: 0.6114 - val_loss: 0.6599 - val_accuracy: 0.5743\n",
      "Epoch 3/10\n",
      "79/79 [==============================] - 1s 7ms/step - loss: 0.6371 - accuracy: 0.6219 - val_loss: 0.6622 - val_accuracy: 0.5766\n"
     ]
    },
    {
     "data": {
      "text/plain": [
       "<tensorflow.python.keras.callbacks.History at 0x7f41eeedff98>"
      ]
     },
     "execution_count": 17,
     "metadata": {},
     "output_type": "execute_result"
    }
   ],
   "source": [
    "model.fit(X_train,y_train,\n",
    "          batch_size=128,\n",
    "          epochs=10,\n",
    "          validation_split=0.2,\n",
    "          callbacks=[early_stop])"
   ]
  },
  {
   "cell_type": "code",
   "execution_count": 18,
   "metadata": {},
   "outputs": [],
   "source": [
    "test_sequences = tok.texts_to_sequences(X_test)\n",
    "X_test = sequence.pad_sequences(test_sequences,maxlen=max_len)"
   ]
  },
  {
   "cell_type": "code",
   "execution_count": 15,
   "metadata": {},
   "outputs": [
    {
     "name": "stdout",
     "output_type": "stream",
     "text": [
      "99/99 [==============================] - 0s 4ms/step - loss: 0.6585 - accuracy: 0.5953\n"
     ]
    },
    {
     "data": {
      "text/plain": [
       "[0.658470094203949, 0.5952985882759094]"
      ]
     },
     "execution_count": 15,
     "metadata": {},
     "output_type": "execute_result"
    }
   ],
   "source": [
    "model.evaluate(X_test,y_test)"
   ]
  },
  {
   "cell_type": "code",
   "execution_count": null,
   "metadata": {},
   "outputs": [],
   "source": []
  }
 ],
 "metadata": {
  "kernelspec": {
   "display_name": "TF2",
   "language": "python",
   "name": "tf2"
  },
  "language_info": {
   "codemirror_mode": {
    "name": "ipython",
    "version": 3
   },
   "file_extension": ".py",
   "mimetype": "text/x-python",
   "name": "python",
   "nbconvert_exporter": "python",
   "pygments_lexer": "ipython3",
   "version": "3.6.12"
  }
 },
 "nbformat": 4,
 "nbformat_minor": 2
}
