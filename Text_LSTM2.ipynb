{
 "cells": [
  {
   "cell_type": "code",
   "execution_count": 13,
   "metadata": {},
   "outputs": [],
   "source": [
    "import pandas as pd\n",
    "import numpy as np\n",
    "import matplotlib.pyplot as plt\n",
    "\n",
    "from sklearn.model_selection import train_test_split\n",
    "from sklearn.preprocessing import LabelEncoder\n",
    "\n",
    "import tensorflow as tf\n",
    "\n",
    "from tensorflow.keras.models import Model, Sequential\n",
    "from tensorflow.keras.layers import LSTM, Dense, Dropout, Input, Embedding, Flatten, Conv1D, MaxPooling1D\n",
    "from tensorflow.keras.optimizers import RMSprop\n",
    "\n",
    "from tensorflow.keras.preprocessing.text import Tokenizer\n",
    "from tensorflow.keras.preprocessing import sequence\n",
    "from tensorflow.keras.utils import to_categorical\n",
    "\n",
    "from tensorflow.keras.callbacks import EarlyStopping"
   ]
  },
  {
   "cell_type": "code",
   "execution_count": 2,
   "metadata": {},
   "outputs": [],
   "source": [
    "full_df = pd.read_csv('data/affcon_final.csv')"
   ]
  },
  {
   "cell_type": "code",
   "execution_count": 3,
   "metadata": {},
   "outputs": [
    {
     "data": {
      "text/html": [
       "<div>\n",
       "<style scoped>\n",
       "    .dataframe tbody tr th:only-of-type {\n",
       "        vertical-align: middle;\n",
       "    }\n",
       "\n",
       "    .dataframe tbody tr th {\n",
       "        vertical-align: top;\n",
       "    }\n",
       "\n",
       "    .dataframe thead th {\n",
       "        text-align: right;\n",
       "    }\n",
       "</style>\n",
       "<table border=\"1\" class=\"dataframe\">\n",
       "  <thead>\n",
       "    <tr style=\"text-align: right;\">\n",
       "      <th></th>\n",
       "      <th>Input.convo_id</th>\n",
       "      <th>Input.train_test_val</th>\n",
       "      <th>Input.msg_id</th>\n",
       "      <th>Input.timestamp</th>\n",
       "      <th>Input.full_text</th>\n",
       "      <th>affcon_gamemove</th>\n",
       "      <th>affcon_reasoning</th>\n",
       "      <th>affcon_rapport</th>\n",
       "      <th>affcon_shareinformation</th>\n",
       "      <th>Input.speaker</th>\n",
       "      <th>...</th>\n",
       "      <th>Input.relative_message_index</th>\n",
       "      <th>Input.year</th>\n",
       "      <th>Input.game_score_speaker</th>\n",
       "      <th>Input.game_score_receiver</th>\n",
       "      <th>Input.game_score_delta</th>\n",
       "      <th>Input.deception_quadrant</th>\n",
       "      <th>Input.num_words</th>\n",
       "      <th>Input.num_characters</th>\n",
       "      <th>Input.sno</th>\n",
       "      <th>Input.sno1</th>\n",
       "    </tr>\n",
       "  </thead>\n",
       "  <tbody>\n",
       "    <tr>\n",
       "      <th>0</th>\n",
       "      <td>Game7-turkey-austria</td>\n",
       "      <td>Train</td>\n",
       "      <td>Game7-turkey-austria-9</td>\n",
       "      <td>197</td>\n",
       "      <td>Im moving my fleet to Alb not for Greece but f...</td>\n",
       "      <td>1</td>\n",
       "      <td>1</td>\n",
       "      <td>1</td>\n",
       "      <td>1</td>\n",
       "      <td>austria-Game7</td>\n",
       "      <td>...</td>\n",
       "      <td>9</td>\n",
       "      <td>1901</td>\n",
       "      <td>3</td>\n",
       "      <td>3</td>\n",
       "      <td>0</td>\n",
       "      <td>Straightforward</td>\n",
       "      <td>12</td>\n",
       "      <td>56</td>\n",
       "      <td>32</td>\n",
       "      <td>16.0</td>\n",
       "    </tr>\n",
       "    <tr>\n",
       "      <th>1</th>\n",
       "      <td>Game10-england-russia</td>\n",
       "      <td>Train</td>\n",
       "      <td>Game10-england-russia-36</td>\n",
       "      <td>722</td>\n",
       "      <td>If you take action in the spring to fight Aust...</td>\n",
       "      <td>1</td>\n",
       "      <td>1</td>\n",
       "      <td>1</td>\n",
       "      <td>1</td>\n",
       "      <td>england-Game10</td>\n",
       "      <td>...</td>\n",
       "      <td>36</td>\n",
       "      <td>1905</td>\n",
       "      <td>7</td>\n",
       "      <td>7</td>\n",
       "      <td>0</td>\n",
       "      <td>Straightforward</td>\n",
       "      <td>28</td>\n",
       "      <td>150</td>\n",
       "      <td>100</td>\n",
       "      <td>12.0</td>\n",
       "    </tr>\n",
       "    <tr>\n",
       "      <th>2</th>\n",
       "      <td>Game6-england-germany</td>\n",
       "      <td>Train</td>\n",
       "      <td>Game6-england-germany-86</td>\n",
       "      <td>469</td>\n",
       "      <td>This is to help prevent the ottoman advance.</td>\n",
       "      <td>0</td>\n",
       "      <td>1</td>\n",
       "      <td>0</td>\n",
       "      <td>1</td>\n",
       "      <td>england-Game6</td>\n",
       "      <td>...</td>\n",
       "      <td>86</td>\n",
       "      <td>1909</td>\n",
       "      <td>6</td>\n",
       "      <td>9</td>\n",
       "      <td>3</td>\n",
       "      <td>Straightforward</td>\n",
       "      <td>8</td>\n",
       "      <td>44</td>\n",
       "      <td>30</td>\n",
       "      <td>5.0</td>\n",
       "    </tr>\n",
       "    <tr>\n",
       "      <th>3</th>\n",
       "      <td>Game11-austria-italy</td>\n",
       "      <td>Validation</td>\n",
       "      <td>Game11-austria-italy-5</td>\n",
       "      <td>45</td>\n",
       "      <td>And yes I would like peace on our front, I cou...</td>\n",
       "      <td>1</td>\n",
       "      <td>1</td>\n",
       "      <td>1</td>\n",
       "      <td>0</td>\n",
       "      <td>austria-Game11</td>\n",
       "      <td>...</td>\n",
       "      <td>5</td>\n",
       "      <td>1901</td>\n",
       "      <td>3</td>\n",
       "      <td>3</td>\n",
       "      <td>0</td>\n",
       "      <td>Straightforward</td>\n",
       "      <td>31</td>\n",
       "      <td>132</td>\n",
       "      <td>46</td>\n",
       "      <td>22.0</td>\n",
       "    </tr>\n",
       "    <tr>\n",
       "      <th>4</th>\n",
       "      <td>Game6-germany-russia</td>\n",
       "      <td>Train</td>\n",
       "      <td>Game6-germany-russia-3</td>\n",
       "      <td>37</td>\n",
       "      <td>Just to be clear, England is not necessarily a...</td>\n",
       "      <td>1</td>\n",
       "      <td>0</td>\n",
       "      <td>0</td>\n",
       "      <td>1</td>\n",
       "      <td>russia-Game6</td>\n",
       "      <td>...</td>\n",
       "      <td>3</td>\n",
       "      <td>1901</td>\n",
       "      <td>4</td>\n",
       "      <td>5</td>\n",
       "      <td>1</td>\n",
       "      <td>Cassandra</td>\n",
       "      <td>27</td>\n",
       "      <td>148</td>\n",
       "      <td>63</td>\n",
       "      <td>21.0</td>\n",
       "    </tr>\n",
       "  </tbody>\n",
       "</table>\n",
       "<p>5 rows × 25 columns</p>\n",
       "</div>"
      ],
      "text/plain": [
       "          Input.convo_id Input.train_test_val              Input.msg_id  \\\n",
       "0   Game7-turkey-austria                Train    Game7-turkey-austria-9   \n",
       "1  Game10-england-russia                Train  Game10-england-russia-36   \n",
       "2  Game6-england-germany                Train  Game6-england-germany-86   \n",
       "3   Game11-austria-italy           Validation    Game11-austria-italy-5   \n",
       "4   Game6-germany-russia                Train    Game6-germany-russia-3   \n",
       "\n",
       "   Input.timestamp                                    Input.full_text  \\\n",
       "0              197  Im moving my fleet to Alb not for Greece but f...   \n",
       "1              722  If you take action in the spring to fight Aust...   \n",
       "2              469       This is to help prevent the ottoman advance.   \n",
       "3               45  And yes I would like peace on our front, I cou...   \n",
       "4               37  Just to be clear, England is not necessarily a...   \n",
       "\n",
       "   affcon_gamemove  affcon_reasoning  affcon_rapport  affcon_shareinformation  \\\n",
       "0                1                 1               1                        1   \n",
       "1                1                 1               1                        1   \n",
       "2                0                 1               0                        1   \n",
       "3                1                 1               1                        0   \n",
       "4                1                 0               0                        1   \n",
       "\n",
       "    Input.speaker  ... Input.relative_message_index Input.year  \\\n",
       "0   austria-Game7  ...                            9       1901   \n",
       "1  england-Game10  ...                           36       1905   \n",
       "2   england-Game6  ...                           86       1909   \n",
       "3  austria-Game11  ...                            5       1901   \n",
       "4    russia-Game6  ...                            3       1901   \n",
       "\n",
       "  Input.game_score_speaker Input.game_score_receiver  Input.game_score_delta  \\\n",
       "0                        3                         3                       0   \n",
       "1                        7                         7                       0   \n",
       "2                        6                         9                       3   \n",
       "3                        3                         3                       0   \n",
       "4                        4                         5                       1   \n",
       "\n",
       "   Input.deception_quadrant  Input.num_words  Input.num_characters  Input.sno  \\\n",
       "0           Straightforward               12                    56         32   \n",
       "1           Straightforward               28                   150        100   \n",
       "2           Straightforward                8                    44         30   \n",
       "3           Straightforward               31                   132         46   \n",
       "4                 Cassandra               27                   148         63   \n",
       "\n",
       "   Input.sno1  \n",
       "0        16.0  \n",
       "1        12.0  \n",
       "2         5.0  \n",
       "3        22.0  \n",
       "4        21.0  \n",
       "\n",
       "[5 rows x 25 columns]"
      ]
     },
     "execution_count": 3,
     "metadata": {},
     "output_type": "execute_result"
    }
   ],
   "source": [
    "full_df.head()"
   ]
  },
  {
   "cell_type": "code",
   "execution_count": 4,
   "metadata": {},
   "outputs": [
    {
     "name": "stdout",
     "output_type": "stream",
     "text": [
      "(15738,)\n",
      "(15738, 1)\n",
      "(12590,)\n",
      "(12590, 1)\n",
      "(3148,)\n",
      "(3148, 1)\n"
     ]
    }
   ],
   "source": [
    "# X = full_df['Input.full_text'].to_list()\n",
    "# y = full_df['affcon_rapport'].tolist()\n",
    "\n",
    "X = full_df['Input.full_text']\n",
    "y = full_df['affcon_rapport']\n",
    "\n",
    "le = LabelEncoder() # this can convert our categories into labels, make sure you don't have NaNs or Nulls in your data first\n",
    "y = le.fit_transform(y)\n",
    "print(y.shape)\n",
    "\n",
    "# we reshape \n",
    "y = y.reshape(-1,1) # the -1 allows it to have whatever number went in there\n",
    "print(y.shape)\n",
    "\n",
    "X_train, X_test, y_train, y_test = train_test_split(X, y, test_size=0.2)\n",
    "# X_train, X_test, y_train, y_test = train_test_split(X, y, stratify=y, test_size=0.2)\n",
    "print(X_train.shape)\n",
    "print(y_train.shape)\n",
    "print(X_test.shape)\n",
    "print(y_test.shape)"
   ]
  },
  {
   "cell_type": "code",
   "execution_count": 5,
   "metadata": {},
   "outputs": [],
   "source": [
    "max_chars = 0\n",
    "max_words = 0\n",
    "\n",
    "for i in range(len(X)):\n",
    "    word_no = len(X[i].split(\" \"))\n",
    "    char_no = len(X[i])\n",
    "    if max_words < word_no:\n",
    "        max_words = word_no\n",
    "    if max_chars < char_no:\n",
    "        max_chars = char_no"
   ]
  },
  {
   "cell_type": "code",
   "execution_count": 6,
   "metadata": {},
   "outputs": [
    {
     "name": "stdout",
     "output_type": "stream",
     "text": [
      "532 100\n"
     ]
    }
   ],
   "source": [
    "print(max_chars, max_words)"
   ]
  },
  {
   "cell_type": "code",
   "execution_count": 7,
   "metadata": {},
   "outputs": [],
   "source": [
    "max_words = 1000\n",
    "max_len = 220\n",
    "\n",
    "tok = Tokenizer(num_words=max_words)\n",
    "tok.fit_on_texts(X_train)\n",
    "\n",
    "sequences = tok.texts_to_sequences(X_train)\n",
    "X_train = sequence.pad_sequences(sequences,maxlen=max_len)\n",
    "# X_train = sequence.pad_sequences(sequences)"
   ]
  },
  {
   "cell_type": "code",
   "execution_count": 48,
   "metadata": {},
   "outputs": [],
   "source": [
    "Inp = Input(name='inputs',shape=[max_len])\n",
    "x = Embedding(max_words,50,input_length=max_len)(Inp)\n",
    "x = LSTM(32,name='LSTM_01')(x)\n",
    "x = Dropout(0.5,name='Dropout')(x)\n",
    "x = Dense(8,activation='relu',name='Dense_01')(x)\n",
    "# x = Dropout(0.5,name='Dropout')(x)\n",
    "out = Dense(1,activation='sigmoid', name='output')(x)"
   ]
  },
  {
   "cell_type": "code",
   "execution_count": 49,
   "metadata": {},
   "outputs": [],
   "source": [
    "model = Model(inputs=Inp,outputs=out)"
   ]
  },
  {
   "cell_type": "code",
   "execution_count": 50,
   "metadata": {},
   "outputs": [],
   "source": [
    "# model.compile(loss='binary_crossentropy',optimizer=RMSprop(),metrics=['accuracy'])\n",
    "model.compile(loss='binary_crossentropy',optimizer=RMSprop(),metrics=['accuracy'])"
   ]
  },
  {
   "cell_type": "code",
   "execution_count": 51,
   "metadata": {},
   "outputs": [
    {
     "name": "stdout",
     "output_type": "stream",
     "text": [
      "Model: \"functional_11\"\n",
      "_________________________________________________________________\n",
      "Layer (type)                 Output Shape              Param #   \n",
      "=================================================================\n",
      "inputs (InputLayer)          [(None, 220)]             0         \n",
      "_________________________________________________________________\n",
      "embedding_5 (Embedding)      (None, 220, 50)           50000     \n",
      "_________________________________________________________________\n",
      "LSTM_01 (LSTM)               (None, 32)                10624     \n",
      "_________________________________________________________________\n",
      "Dropout (Dropout)            (None, 32)                0         \n",
      "_________________________________________________________________\n",
      "Dense_01 (Dense)             (None, 8)                 264       \n",
      "_________________________________________________________________\n",
      "output (Dense)               (None, 1)                 9         \n",
      "=================================================================\n",
      "Total params: 60,897\n",
      "Trainable params: 60,897\n",
      "Non-trainable params: 0\n",
      "_________________________________________________________________\n"
     ]
    }
   ],
   "source": [
    "model.summary()"
   ]
  },
  {
   "cell_type": "code",
   "execution_count": 52,
   "metadata": {},
   "outputs": [],
   "source": [
    "early_stop = EarlyStopping(monitor='val_loss',min_delta=0.00001)"
   ]
  },
  {
   "cell_type": "code",
   "execution_count": 53,
   "metadata": {},
   "outputs": [
    {
     "name": "stdout",
     "output_type": "stream",
     "text": [
      "Epoch 1/15\n",
      "79/79 [==============================] - 2s 20ms/step - loss: 0.6692 - accuracy: 0.6038 - val_loss: 0.6620 - val_accuracy: 0.6044\n",
      "Epoch 2/15\n",
      "79/79 [==============================] - 1s 16ms/step - loss: 0.6503 - accuracy: 0.6045 - val_loss: 0.6539 - val_accuracy: 0.6044\n",
      "Epoch 3/15\n",
      "79/79 [==============================] - 1s 15ms/step - loss: 0.6361 - accuracy: 0.6089 - val_loss: 0.6541 - val_accuracy: 0.5977\n",
      "Epoch 4/15\n",
      "79/79 [==============================] - 1s 17ms/step - loss: 0.6273 - accuracy: 0.6172 - val_loss: 0.6590 - val_accuracy: 0.5631\n",
      "Epoch 5/15\n",
      "79/79 [==============================] - 1s 16ms/step - loss: 0.6183 - accuracy: 0.6356 - val_loss: 0.6725 - val_accuracy: 0.5802\n",
      "Epoch 6/15\n",
      "79/79 [==============================] - 1s 16ms/step - loss: 0.6139 - accuracy: 0.6442 - val_loss: 0.6716 - val_accuracy: 0.5794\n",
      "Epoch 7/15\n",
      "79/79 [==============================] - 1s 16ms/step - loss: 0.6075 - accuracy: 0.6490 - val_loss: 0.6807 - val_accuracy: 0.5759\n",
      "Epoch 8/15\n",
      "79/79 [==============================] - 1s 19ms/step - loss: 0.5993 - accuracy: 0.6594 - val_loss: 0.6857 - val_accuracy: 0.5766\n",
      "Epoch 9/15\n",
      "79/79 [==============================] - 1s 17ms/step - loss: 0.5942 - accuracy: 0.6670 - val_loss: 0.6946 - val_accuracy: 0.5616\n",
      "Epoch 10/15\n",
      "79/79 [==============================] - 1s 19ms/step - loss: 0.5862 - accuracy: 0.6698 - val_loss: 0.6990 - val_accuracy: 0.5500\n",
      "Epoch 11/15\n",
      "79/79 [==============================] - 1s 16ms/step - loss: 0.5811 - accuracy: 0.6752 - val_loss: 0.7311 - val_accuracy: 0.5643\n",
      "Epoch 12/15\n",
      "79/79 [==============================] - 1s 18ms/step - loss: 0.5732 - accuracy: 0.6845 - val_loss: 0.7239 - val_accuracy: 0.5556\n",
      "Epoch 13/15\n",
      "79/79 [==============================] - 1s 17ms/step - loss: 0.5701 - accuracy: 0.6870 - val_loss: 0.7142 - val_accuracy: 0.5254\n",
      "Epoch 14/15\n",
      "79/79 [==============================] - 1s 17ms/step - loss: 0.5621 - accuracy: 0.6954 - val_loss: 0.7269 - val_accuracy: 0.5230\n",
      "Epoch 15/15\n",
      "79/79 [==============================] - 1s 18ms/step - loss: 0.5585 - accuracy: 0.6948 - val_loss: 0.7528 - val_accuracy: 0.5548\n"
     ]
    },
    {
     "data": {
      "text/plain": [
       "<tensorflow.python.keras.callbacks.History at 0x7fc384376b38>"
      ]
     },
     "execution_count": 53,
     "metadata": {},
     "output_type": "execute_result"
    }
   ],
   "source": [
    "# model.fit(X_train,y_train,\n",
    "#           batch_size=128,\n",
    "#           epochs=10,\n",
    "#           validation_split=0.2,\n",
    "#           callbacks=[early_stop])\n",
    "\n",
    "model.fit(X_train,y_train,\n",
    "          batch_size=128,\n",
    "          epochs=15,\n",
    "          validation_split=0.2)"
   ]
  },
  {
   "cell_type": "code",
   "execution_count": 25,
   "metadata": {},
   "outputs": [
    {
     "name": "stdout",
     "output_type": "stream",
     "text": [
      "Model: \"CNN_with_embeddings\"\n",
      "_________________________________________________________________\n",
      "Layer (type)                 Output Shape              Param #   \n",
      "=================================================================\n",
      "embedding_4 (Embedding)      (None, 220, 50)           50000     \n",
      "_________________________________________________________________\n",
      "conv1d_3 (Conv1D)            (None, 217, 16)           3216      \n",
      "_________________________________________________________________\n",
      "max_pooling1d_3 (MaxPooling1 (None, 108, 16)           0         \n",
      "_________________________________________________________________\n",
      "flatten_3 (Flatten)          (None, 1728)              0         \n",
      "_________________________________________________________________\n",
      "dropout_3 (Dropout)          (None, 1728)              0         \n",
      "_________________________________________________________________\n",
      "dense_6 (Dense)              (None, 10)                17290     \n",
      "_________________________________________________________________\n",
      "dense_7 (Dense)              (None, 1)                 11        \n",
      "=================================================================\n",
      "Total params: 70,517\n",
      "Trainable params: 70,517\n",
      "Non-trainable params: 0\n",
      "_________________________________________________________________\n"
     ]
    }
   ],
   "source": [
    "model = Sequential(name=\"CNN_with_embeddings\")\n",
    "model.add(Embedding(max_words, 50, input_length=max_len))\n",
    "model.add(Conv1D(filters=16, kernel_size=4, activation='relu'))\n",
    "model.add(MaxPooling1D(pool_size=2))\n",
    "model.add(Flatten())\n",
    "model.add(Dropout(0.5))\n",
    "model.add(Dense(10, activation='relu'))\n",
    "model.add(Dense(1, activation='sigmoid'))\n",
    "\n",
    "model.compile(loss='binary_crossentropy', \n",
    "              optimizer= 'adam',\n",
    "              metrics=['accuracy'])\n",
    "\n",
    "model.summary()"
   ]
  },
  {
   "cell_type": "code",
   "execution_count": 26,
   "metadata": {},
   "outputs": [
    {
     "name": "stdout",
     "output_type": "stream",
     "text": [
      "Epoch 1/15\n",
      "79/79 [==============================] - 1s 11ms/step - loss: 0.6715 - accuracy: 0.5999 - val_loss: 0.6600 - val_accuracy: 0.6180\n",
      "Epoch 2/15\n",
      "79/79 [==============================] - 0s 6ms/step - loss: 0.6546 - accuracy: 0.6017 - val_loss: 0.6454 - val_accuracy: 0.6180\n",
      "Epoch 3/15\n",
      "79/79 [==============================] - 0s 6ms/step - loss: 0.6346 - accuracy: 0.6099 - val_loss: 0.6463 - val_accuracy: 0.6136\n",
      "Epoch 4/15\n",
      "79/79 [==============================] - 1s 7ms/step - loss: 0.6172 - accuracy: 0.6339 - val_loss: 0.6507 - val_accuracy: 0.6104\n",
      "Epoch 5/15\n",
      "79/79 [==============================] - 0s 6ms/step - loss: 0.5968 - accuracy: 0.6646 - val_loss: 0.6592 - val_accuracy: 0.5981\n",
      "Epoch 6/15\n",
      "79/79 [==============================] - 1s 7ms/step - loss: 0.5709 - accuracy: 0.6952 - val_loss: 0.6752 - val_accuracy: 0.5902\n",
      "Epoch 7/15\n",
      "79/79 [==============================] - 1s 7ms/step - loss: 0.5419 - accuracy: 0.7224 - val_loss: 0.6931 - val_accuracy: 0.5822\n",
      "Epoch 8/15\n",
      "79/79 [==============================] - 1s 7ms/step - loss: 0.5099 - accuracy: 0.7438 - val_loss: 0.7153 - val_accuracy: 0.5778\n",
      "Epoch 9/15\n",
      "79/79 [==============================] - 0s 6ms/step - loss: 0.4798 - accuracy: 0.7695 - val_loss: 0.7459 - val_accuracy: 0.5818\n",
      "Epoch 10/15\n",
      "79/79 [==============================] - 0s 6ms/step - loss: 0.4480 - accuracy: 0.7859 - val_loss: 0.7736 - val_accuracy: 0.5794\n",
      "Epoch 11/15\n",
      "79/79 [==============================] - 0s 6ms/step - loss: 0.4312 - accuracy: 0.7922 - val_loss: 0.7961 - val_accuracy: 0.5735\n",
      "Epoch 12/15\n",
      "79/79 [==============================] - 0s 6ms/step - loss: 0.4124 - accuracy: 0.8083 - val_loss: 0.8177 - val_accuracy: 0.5790\n",
      "Epoch 13/15\n",
      "79/79 [==============================] - 1s 6ms/step - loss: 0.3869 - accuracy: 0.8168 - val_loss: 0.8513 - val_accuracy: 0.5699\n",
      "Epoch 14/15\n",
      "79/79 [==============================] - 0s 6ms/step - loss: 0.3721 - accuracy: 0.8275 - val_loss: 0.8849 - val_accuracy: 0.5671\n",
      "Epoch 15/15\n",
      "79/79 [==============================] - 1s 7ms/step - loss: 0.3668 - accuracy: 0.8322 - val_loss: 0.8964 - val_accuracy: 0.5759\n"
     ]
    },
    {
     "data": {
      "text/plain": [
       "<tensorflow.python.keras.callbacks.History at 0x7fdfe4837748>"
      ]
     },
     "execution_count": 26,
     "metadata": {},
     "output_type": "execute_result"
    }
   ],
   "source": [
    "model.fit(X_train,y_train,\n",
    "          batch_size=128,\n",
    "          epochs=15,\n",
    "          validation_split=0.2)"
   ]
  },
  {
   "cell_type": "code",
   "execution_count": 27,
   "metadata": {
    "collapsed": true
   },
   "outputs": [
    {
     "ename": "AttributeError",
     "evalue": "'numpy.ndarray' object has no attribute 'lower'",
     "output_type": "error",
     "traceback": [
      "\u001b[0;31m---------------------------------------------------------------------------\u001b[0m",
      "\u001b[0;31mAttributeError\u001b[0m                            Traceback (most recent call last)",
      "\u001b[0;32m<ipython-input-27-8c85021acf7c>\u001b[0m in \u001b[0;36m<module>\u001b[0;34m\u001b[0m\n\u001b[0;32m----> 1\u001b[0;31m \u001b[0mtest_sequences\u001b[0m \u001b[0;34m=\u001b[0m \u001b[0mtok\u001b[0m\u001b[0;34m.\u001b[0m\u001b[0mtexts_to_sequences\u001b[0m\u001b[0;34m(\u001b[0m\u001b[0mX_test\u001b[0m\u001b[0;34m)\u001b[0m\u001b[0;34m\u001b[0m\u001b[0;34m\u001b[0m\u001b[0m\n\u001b[0m\u001b[1;32m      2\u001b[0m \u001b[0mX_test\u001b[0m \u001b[0;34m=\u001b[0m \u001b[0msequence\u001b[0m\u001b[0;34m.\u001b[0m\u001b[0mpad_sequences\u001b[0m\u001b[0;34m(\u001b[0m\u001b[0mtest_sequences\u001b[0m\u001b[0;34m,\u001b[0m\u001b[0mmaxlen\u001b[0m\u001b[0;34m=\u001b[0m\u001b[0mmax_len\u001b[0m\u001b[0;34m)\u001b[0m\u001b[0;34m\u001b[0m\u001b[0;34m\u001b[0m\u001b[0m\n",
      "\u001b[0;32m~/anaconda3/envs/TF2/lib/python3.6/site-packages/keras_preprocessing/text.py\u001b[0m in \u001b[0;36mtexts_to_sequences\u001b[0;34m(self, texts)\u001b[0m\n\u001b[1;32m    279\u001b[0m             \u001b[0mA\u001b[0m \u001b[0mlist\u001b[0m \u001b[0mof\u001b[0m \u001b[0msequences\u001b[0m\u001b[0;34m.\u001b[0m\u001b[0;34m\u001b[0m\u001b[0;34m\u001b[0m\u001b[0m\n\u001b[1;32m    280\u001b[0m         \"\"\"\n\u001b[0;32m--> 281\u001b[0;31m         \u001b[0;32mreturn\u001b[0m \u001b[0mlist\u001b[0m\u001b[0;34m(\u001b[0m\u001b[0mself\u001b[0m\u001b[0;34m.\u001b[0m\u001b[0mtexts_to_sequences_generator\u001b[0m\u001b[0;34m(\u001b[0m\u001b[0mtexts\u001b[0m\u001b[0;34m)\u001b[0m\u001b[0;34m)\u001b[0m\u001b[0;34m\u001b[0m\u001b[0;34m\u001b[0m\u001b[0m\n\u001b[0m\u001b[1;32m    282\u001b[0m \u001b[0;34m\u001b[0m\u001b[0m\n\u001b[1;32m    283\u001b[0m     \u001b[0;32mdef\u001b[0m \u001b[0mtexts_to_sequences_generator\u001b[0m\u001b[0;34m(\u001b[0m\u001b[0mself\u001b[0m\u001b[0;34m,\u001b[0m \u001b[0mtexts\u001b[0m\u001b[0;34m)\u001b[0m\u001b[0;34m:\u001b[0m\u001b[0;34m\u001b[0m\u001b[0;34m\u001b[0m\u001b[0m\n",
      "\u001b[0;32m~/anaconda3/envs/TF2/lib/python3.6/site-packages/keras_preprocessing/text.py\u001b[0m in \u001b[0;36mtexts_to_sequences_generator\u001b[0;34m(self, texts)\u001b[0m\n\u001b[1;32m    310\u001b[0m                                             \u001b[0mself\u001b[0m\u001b[0;34m.\u001b[0m\u001b[0mfilters\u001b[0m\u001b[0;34m,\u001b[0m\u001b[0;34m\u001b[0m\u001b[0;34m\u001b[0m\u001b[0m\n\u001b[1;32m    311\u001b[0m                                             \u001b[0mself\u001b[0m\u001b[0;34m.\u001b[0m\u001b[0mlower\u001b[0m\u001b[0;34m,\u001b[0m\u001b[0;34m\u001b[0m\u001b[0;34m\u001b[0m\u001b[0m\n\u001b[0;32m--> 312\u001b[0;31m                                             self.split)\n\u001b[0m\u001b[1;32m    313\u001b[0m             \u001b[0mvect\u001b[0m \u001b[0;34m=\u001b[0m \u001b[0;34m[\u001b[0m\u001b[0;34m]\u001b[0m\u001b[0;34m\u001b[0m\u001b[0;34m\u001b[0m\u001b[0m\n\u001b[1;32m    314\u001b[0m             \u001b[0;32mfor\u001b[0m \u001b[0mw\u001b[0m \u001b[0;32min\u001b[0m \u001b[0mseq\u001b[0m\u001b[0;34m:\u001b[0m\u001b[0;34m\u001b[0m\u001b[0;34m\u001b[0m\u001b[0m\n",
      "\u001b[0;32m~/anaconda3/envs/TF2/lib/python3.6/site-packages/keras_preprocessing/text.py\u001b[0m in \u001b[0;36mtext_to_word_sequence\u001b[0;34m(text, filters, lower, split)\u001b[0m\n\u001b[1;32m     41\u001b[0m     \"\"\"\n\u001b[1;32m     42\u001b[0m     \u001b[0;32mif\u001b[0m \u001b[0mlower\u001b[0m\u001b[0;34m:\u001b[0m\u001b[0;34m\u001b[0m\u001b[0;34m\u001b[0m\u001b[0m\n\u001b[0;32m---> 43\u001b[0;31m         \u001b[0mtext\u001b[0m \u001b[0;34m=\u001b[0m \u001b[0mtext\u001b[0m\u001b[0;34m.\u001b[0m\u001b[0mlower\u001b[0m\u001b[0;34m(\u001b[0m\u001b[0;34m)\u001b[0m\u001b[0;34m\u001b[0m\u001b[0;34m\u001b[0m\u001b[0m\n\u001b[0m\u001b[1;32m     44\u001b[0m \u001b[0;34m\u001b[0m\u001b[0m\n\u001b[1;32m     45\u001b[0m     \u001b[0;32mif\u001b[0m \u001b[0msys\u001b[0m\u001b[0;34m.\u001b[0m\u001b[0mversion_info\u001b[0m \u001b[0;34m<\u001b[0m \u001b[0;34m(\u001b[0m\u001b[0;36m3\u001b[0m\u001b[0;34m,\u001b[0m\u001b[0;34m)\u001b[0m\u001b[0;34m:\u001b[0m\u001b[0;34m\u001b[0m\u001b[0;34m\u001b[0m\u001b[0m\n",
      "\u001b[0;31mAttributeError\u001b[0m: 'numpy.ndarray' object has no attribute 'lower'"
     ]
    }
   ],
   "source": [
    "test_sequences = tok.texts_to_sequences(X_test)\n",
    "X_test = sequence.pad_sequences(test_sequences,maxlen=max_len)"
   ]
  },
  {
   "cell_type": "code",
   "execution_count": 28,
   "metadata": {},
   "outputs": [
    {
     "name": "stdout",
     "output_type": "stream",
     "text": [
      "99/99 [==============================] - 0s 2ms/step - loss: 0.9314 - accuracy: 0.5499\n"
     ]
    },
    {
     "data": {
      "text/plain": [
       "[0.9313653707504272, 0.5498729348182678]"
      ]
     },
     "execution_count": 28,
     "metadata": {},
     "output_type": "execute_result"
    }
   ],
   "source": [
    "model.evaluate(X_test,y_test)"
   ]
  },
  {
   "cell_type": "code",
   "execution_count": null,
   "metadata": {},
   "outputs": [],
   "source": []
  }
 ],
 "metadata": {
  "kernelspec": {
   "display_name": "TF2",
   "language": "python",
   "name": "tf2"
  },
  "language_info": {
   "codemirror_mode": {
    "name": "ipython",
    "version": 3
   },
   "file_extension": ".py",
   "mimetype": "text/x-python",
   "name": "python",
   "nbconvert_exporter": "python",
   "pygments_lexer": "ipython3",
   "version": "3.6.12"
  }
 },
 "nbformat": 4,
 "nbformat_minor": 2
}
