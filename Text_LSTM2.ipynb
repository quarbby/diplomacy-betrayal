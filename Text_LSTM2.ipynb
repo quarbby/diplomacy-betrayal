{
 "cells": [
  {
   "cell_type": "code",
   "execution_count": 1,
   "metadata": {},
   "outputs": [],
   "source": [
    "import pandas as pd\n",
    "import numpy as np\n",
    "import matplotlib.pyplot as plt\n",
    "\n",
    "from sklearn.model_selection import train_test_split\n",
    "from sklearn.preprocessing import LabelEncoder\n",
    "\n",
    "import tensorflow as tf\n",
    "\n",
    "from tensorflow.keras.models import Model, Sequential\n",
    "from tensorflow.keras.layers import LSTM, Dense, Dropout, Input, Embedding, Flatten, Conv1D, MaxPooling1D\n",
    "from tensorflow.keras.optimizers import RMSprop\n",
    "\n",
    "from tensorflow.keras.preprocessing.text import Tokenizer\n",
    "from tensorflow.keras.preprocessing import sequence\n",
    "from tensorflow.keras.utils import to_categorical\n",
    "\n",
    "from tensorflow.keras.callbacks import EarlyStopping"
   ]
  },
  {
   "cell_type": "code",
   "execution_count": 2,
   "metadata": {},
   "outputs": [],
   "source": [
    "full_df = pd.read_csv('data/affcon_final.csv')"
   ]
  },
  {
   "cell_type": "code",
   "execution_count": 3,
   "metadata": {},
   "outputs": [
    {
     "data": {
      "text/html": [
       "<div>\n",
       "<style scoped>\n",
       "    .dataframe tbody tr th:only-of-type {\n",
       "        vertical-align: middle;\n",
       "    }\n",
       "\n",
       "    .dataframe tbody tr th {\n",
       "        vertical-align: top;\n",
       "    }\n",
       "\n",
       "    .dataframe thead th {\n",
       "        text-align: right;\n",
       "    }\n",
       "</style>\n",
       "<table border=\"1\" class=\"dataframe\">\n",
       "  <thead>\n",
       "    <tr style=\"text-align: right;\">\n",
       "      <th></th>\n",
       "      <th>Input.convo_id</th>\n",
       "      <th>Input.train_test_val</th>\n",
       "      <th>Input.msg_id</th>\n",
       "      <th>Input.timestamp</th>\n",
       "      <th>Input.full_text</th>\n",
       "      <th>affcon_gamemove</th>\n",
       "      <th>affcon_reasoning</th>\n",
       "      <th>affcon_rapport</th>\n",
       "      <th>affcon_shareinformation</th>\n",
       "      <th>Input.speaker</th>\n",
       "      <th>...</th>\n",
       "      <th>Input.relative_message_index</th>\n",
       "      <th>Input.year</th>\n",
       "      <th>Input.game_score_speaker</th>\n",
       "      <th>Input.game_score_receiver</th>\n",
       "      <th>Input.game_score_delta</th>\n",
       "      <th>Input.deception_quadrant</th>\n",
       "      <th>Input.num_words</th>\n",
       "      <th>Input.num_characters</th>\n",
       "      <th>Input.sno</th>\n",
       "      <th>Input.sno1</th>\n",
       "    </tr>\n",
       "  </thead>\n",
       "  <tbody>\n",
       "    <tr>\n",
       "      <th>0</th>\n",
       "      <td>Game7-turkey-austria</td>\n",
       "      <td>Train</td>\n",
       "      <td>Game7-turkey-austria-9</td>\n",
       "      <td>197</td>\n",
       "      <td>Im moving my fleet to Alb not for Greece but f...</td>\n",
       "      <td>1</td>\n",
       "      <td>1</td>\n",
       "      <td>1</td>\n",
       "      <td>1</td>\n",
       "      <td>austria-Game7</td>\n",
       "      <td>...</td>\n",
       "      <td>9</td>\n",
       "      <td>1901</td>\n",
       "      <td>3</td>\n",
       "      <td>3</td>\n",
       "      <td>0</td>\n",
       "      <td>Straightforward</td>\n",
       "      <td>12</td>\n",
       "      <td>56</td>\n",
       "      <td>32</td>\n",
       "      <td>16.0</td>\n",
       "    </tr>\n",
       "    <tr>\n",
       "      <th>1</th>\n",
       "      <td>Game10-england-russia</td>\n",
       "      <td>Train</td>\n",
       "      <td>Game10-england-russia-36</td>\n",
       "      <td>722</td>\n",
       "      <td>If you take action in the spring to fight Aust...</td>\n",
       "      <td>1</td>\n",
       "      <td>1</td>\n",
       "      <td>1</td>\n",
       "      <td>1</td>\n",
       "      <td>england-Game10</td>\n",
       "      <td>...</td>\n",
       "      <td>36</td>\n",
       "      <td>1905</td>\n",
       "      <td>7</td>\n",
       "      <td>7</td>\n",
       "      <td>0</td>\n",
       "      <td>Straightforward</td>\n",
       "      <td>28</td>\n",
       "      <td>150</td>\n",
       "      <td>100</td>\n",
       "      <td>12.0</td>\n",
       "    </tr>\n",
       "    <tr>\n",
       "      <th>2</th>\n",
       "      <td>Game6-england-germany</td>\n",
       "      <td>Train</td>\n",
       "      <td>Game6-england-germany-86</td>\n",
       "      <td>469</td>\n",
       "      <td>This is to help prevent the ottoman advance.</td>\n",
       "      <td>0</td>\n",
       "      <td>1</td>\n",
       "      <td>0</td>\n",
       "      <td>1</td>\n",
       "      <td>england-Game6</td>\n",
       "      <td>...</td>\n",
       "      <td>86</td>\n",
       "      <td>1909</td>\n",
       "      <td>6</td>\n",
       "      <td>9</td>\n",
       "      <td>3</td>\n",
       "      <td>Straightforward</td>\n",
       "      <td>8</td>\n",
       "      <td>44</td>\n",
       "      <td>30</td>\n",
       "      <td>5.0</td>\n",
       "    </tr>\n",
       "    <tr>\n",
       "      <th>3</th>\n",
       "      <td>Game11-austria-italy</td>\n",
       "      <td>Validation</td>\n",
       "      <td>Game11-austria-italy-5</td>\n",
       "      <td>45</td>\n",
       "      <td>And yes I would like peace on our front, I cou...</td>\n",
       "      <td>1</td>\n",
       "      <td>1</td>\n",
       "      <td>1</td>\n",
       "      <td>0</td>\n",
       "      <td>austria-Game11</td>\n",
       "      <td>...</td>\n",
       "      <td>5</td>\n",
       "      <td>1901</td>\n",
       "      <td>3</td>\n",
       "      <td>3</td>\n",
       "      <td>0</td>\n",
       "      <td>Straightforward</td>\n",
       "      <td>31</td>\n",
       "      <td>132</td>\n",
       "      <td>46</td>\n",
       "      <td>22.0</td>\n",
       "    </tr>\n",
       "    <tr>\n",
       "      <th>4</th>\n",
       "      <td>Game6-germany-russia</td>\n",
       "      <td>Train</td>\n",
       "      <td>Game6-germany-russia-3</td>\n",
       "      <td>37</td>\n",
       "      <td>Just to be clear, England is not necessarily a...</td>\n",
       "      <td>1</td>\n",
       "      <td>0</td>\n",
       "      <td>0</td>\n",
       "      <td>1</td>\n",
       "      <td>russia-Game6</td>\n",
       "      <td>...</td>\n",
       "      <td>3</td>\n",
       "      <td>1901</td>\n",
       "      <td>4</td>\n",
       "      <td>5</td>\n",
       "      <td>1</td>\n",
       "      <td>Cassandra</td>\n",
       "      <td>27</td>\n",
       "      <td>148</td>\n",
       "      <td>63</td>\n",
       "      <td>21.0</td>\n",
       "    </tr>\n",
       "  </tbody>\n",
       "</table>\n",
       "<p>5 rows × 25 columns</p>\n",
       "</div>"
      ],
      "text/plain": [
       "          Input.convo_id Input.train_test_val              Input.msg_id  \\\n",
       "0   Game7-turkey-austria                Train    Game7-turkey-austria-9   \n",
       "1  Game10-england-russia                Train  Game10-england-russia-36   \n",
       "2  Game6-england-germany                Train  Game6-england-germany-86   \n",
       "3   Game11-austria-italy           Validation    Game11-austria-italy-5   \n",
       "4   Game6-germany-russia                Train    Game6-germany-russia-3   \n",
       "\n",
       "   Input.timestamp                                    Input.full_text  \\\n",
       "0              197  Im moving my fleet to Alb not for Greece but f...   \n",
       "1              722  If you take action in the spring to fight Aust...   \n",
       "2              469       This is to help prevent the ottoman advance.   \n",
       "3               45  And yes I would like peace on our front, I cou...   \n",
       "4               37  Just to be clear, England is not necessarily a...   \n",
       "\n",
       "   affcon_gamemove  affcon_reasoning  affcon_rapport  affcon_shareinformation  \\\n",
       "0                1                 1               1                        1   \n",
       "1                1                 1               1                        1   \n",
       "2                0                 1               0                        1   \n",
       "3                1                 1               1                        0   \n",
       "4                1                 0               0                        1   \n",
       "\n",
       "    Input.speaker  ... Input.relative_message_index Input.year  \\\n",
       "0   austria-Game7  ...                            9       1901   \n",
       "1  england-Game10  ...                           36       1905   \n",
       "2   england-Game6  ...                           86       1909   \n",
       "3  austria-Game11  ...                            5       1901   \n",
       "4    russia-Game6  ...                            3       1901   \n",
       "\n",
       "  Input.game_score_speaker Input.game_score_receiver  Input.game_score_delta  \\\n",
       "0                        3                         3                       0   \n",
       "1                        7                         7                       0   \n",
       "2                        6                         9                       3   \n",
       "3                        3                         3                       0   \n",
       "4                        4                         5                       1   \n",
       "\n",
       "   Input.deception_quadrant  Input.num_words  Input.num_characters  Input.sno  \\\n",
       "0           Straightforward               12                    56         32   \n",
       "1           Straightforward               28                   150        100   \n",
       "2           Straightforward                8                    44         30   \n",
       "3           Straightforward               31                   132         46   \n",
       "4                 Cassandra               27                   148         63   \n",
       "\n",
       "   Input.sno1  \n",
       "0        16.0  \n",
       "1        12.0  \n",
       "2         5.0  \n",
       "3        22.0  \n",
       "4        21.0  \n",
       "\n",
       "[5 rows x 25 columns]"
      ]
     },
     "execution_count": 3,
     "metadata": {},
     "output_type": "execute_result"
    }
   ],
   "source": [
    "full_df.head()"
   ]
  },
  {
   "cell_type": "code",
   "execution_count": 4,
   "metadata": {},
   "outputs": [
    {
     "name": "stdout",
     "output_type": "stream",
     "text": [
      "(13493,)\n",
      "(13493, 1)\n",
      "(10794,)\n",
      "(10794, 1)\n",
      "(2699,)\n",
      "(2699, 1)\n"
     ]
    }
   ],
   "source": [
    "full_df = full_df.dropna() # dataset contains NaN values, dropping NaNs here\n",
    "\n",
    "X = full_df['Input.full_text']\n",
    "\n",
    "full_df[\"Input.deception_quadrant\"] = full_df[\"Input.deception_quadrant\"].apply(lambda x : 1 if x == \"Straightforward\" else 0)\n",
    "y = full_df['Input.deception_quadrant']\n",
    "\n",
    "le = LabelEncoder() # this can convert our categories into labels, make sure you don't have NaNs or Nulls in your data first\n",
    "y = le.fit_transform(y)\n",
    "print(y.shape)\n",
    "\n",
    "# we reshape \n",
    "y = y.reshape(-1,1) # the -1 allows it to have whatever number went in there\n",
    "print(y.shape)\n",
    "\n",
    "X_train, X_test, y_train, y_test = train_test_split(X, y, test_size=0.2)\n",
    "# X_train, X_test, y_train, y_test = train_test_split(X, y, stratify=y, test_size=0.2)\n",
    "print(X_train.shape)\n",
    "print(y_train.shape)\n",
    "print(X_test.shape)\n",
    "print(y_test.shape)"
   ]
  },
  {
   "cell_type": "code",
   "execution_count": 5,
   "metadata": {},
   "outputs": [],
   "source": [
    "max_words = 1000\n",
    "max_len = 100\n",
    "\n",
    "tok = Tokenizer(num_words=max_words)\n",
    "tok.fit_on_texts(X_train)\n",
    "\n",
    "sequences = tok.texts_to_sequences(X_train)\n",
    "X_train = sequence.pad_sequences(sequences,maxlen=max_len)\n",
    "# X_train = sequence.pad_sequences(sequences)"
   ]
  },
  {
   "cell_type": "code",
   "execution_count": 6,
   "metadata": {},
   "outputs": [],
   "source": [
    "from keras import backend as K\n",
    "\n",
    "def recall_m(y_true, y_pred):\n",
    "    true_positives = K.sum(K.round(K.clip(y_true * y_pred, 0, 1)))\n",
    "    possible_positives = K.sum(K.round(K.clip(y_true, 0, 1)))\n",
    "    recall = true_positives / (possible_positives + K.epsilon())\n",
    "    return recall\n",
    "\n",
    "def precision_m(y_true, y_pred):\n",
    "    true_positives = K.sum(K.round(K.clip(y_true * y_pred, 0, 1)))\n",
    "    predicted_positives = K.sum(K.round(K.clip(y_pred, 0, 1)))\n",
    "    precision = true_positives / (predicted_positives + K.epsilon())\n",
    "    return precision\n",
    "\n",
    "def f1_m(y_true, y_pred):\n",
    "    precision = precision_m(y_true, y_pred)\n",
    "    recall = recall_m(y_true, y_pred)\n",
    "    return 2*((precision*recall)/(precision+recall+K.epsilon()))"
   ]
  },
  {
   "cell_type": "markdown",
   "metadata": {},
   "source": [
    "## LSTM Model"
   ]
  },
  {
   "cell_type": "code",
   "execution_count": 7,
   "metadata": {},
   "outputs": [
    {
     "name": "stdout",
     "output_type": "stream",
     "text": [
      "Model: \"functional_1\"\n",
      "_________________________________________________________________\n",
      "Layer (type)                 Output Shape              Param #   \n",
      "=================================================================\n",
      "inputs (InputLayer)          [(None, 100)]             0         \n",
      "_________________________________________________________________\n",
      "embedding (Embedding)        (None, 100, 50)           50000     \n",
      "_________________________________________________________________\n",
      "LSTM_01 (LSTM)               (None, 64)                29440     \n",
      "_________________________________________________________________\n",
      "Dropout (Dropout)            (None, 64)                0         \n",
      "_________________________________________________________________\n",
      "Dense_01 (Dense)             (None, 128)               8320      \n",
      "_________________________________________________________________\n",
      "output (Dense)               (None, 1)                 129       \n",
      "=================================================================\n",
      "Total params: 87,889\n",
      "Trainable params: 87,889\n",
      "Non-trainable params: 0\n",
      "_________________________________________________________________\n"
     ]
    }
   ],
   "source": [
    "Inp = Input(name='inputs',shape=[max_len])\n",
    "x = Embedding(max_words,50,input_length=max_len)(Inp)\n",
    "x = LSTM(64,name='LSTM_01')(x)\n",
    "x = Dropout(0.5,name='Dropout')(x)\n",
    "x = Dense(128,activation='relu',name='Dense_01')(x)\n",
    "# x = Dropout(0.5,name='Dropout')(x)\n",
    "out = Dense(1,activation='sigmoid', name='output')(x)\n",
    "\n",
    "model = Model(inputs=Inp,outputs=out)\n",
    "\n",
    "model.compile(loss='binary_crossentropy',optimizer=RMSprop(),metrics=['acc',f1_m,precision_m, recall_m])\n",
    "\n",
    "model.summary()"
   ]
  },
  {
   "cell_type": "code",
   "execution_count": 8,
   "metadata": {},
   "outputs": [
    {
     "name": "stdout",
     "output_type": "stream",
     "text": [
      "Epoch 1/15\n",
      "68/68 [==============================] - 1s 16ms/step - loss: 0.2320 - acc: 0.9467 - f1_m: 0.9722 - precision_m: 0.9497 - recall_m: 0.9966 - val_loss: 0.2109 - val_acc: 0.9477 - val_f1_m: 0.9731 - val_precision_m: 0.9476 - val_recall_m: 1.0000\n",
      "Epoch 2/15\n",
      "68/68 [==============================] - 1s 13ms/step - loss: 0.2055 - acc: 0.9497 - f1_m: 0.9741 - precision_m: 0.9496 - recall_m: 1.0000 - val_loss: 0.2066 - val_acc: 0.9477 - val_f1_m: 0.9731 - val_precision_m: 0.9476 - val_recall_m: 1.0000\n",
      "Epoch 3/15\n",
      "68/68 [==============================] - 1s 14ms/step - loss: 0.2012 - acc: 0.9497 - f1_m: 0.9742 - precision_m: 0.9499 - recall_m: 1.0000 - val_loss: 0.2023 - val_acc: 0.9477 - val_f1_m: 0.9731 - val_precision_m: 0.9476 - val_recall_m: 1.0000\n",
      "Epoch 4/15\n",
      "68/68 [==============================] - 1s 12ms/step - loss: 0.1871 - acc: 0.9497 - f1_m: 0.9738 - precision_m: 0.9492 - recall_m: 1.0000 - val_loss: 0.2233 - val_acc: 0.9477 - val_f1_m: 0.9731 - val_precision_m: 0.9476 - val_recall_m: 1.0000\n"
     ]
    },
    {
     "data": {
      "text/plain": [
       "<tensorflow.python.keras.callbacks.History at 0x7faf6ec87748>"
      ]
     },
     "execution_count": 8,
     "metadata": {},
     "output_type": "execute_result"
    }
   ],
   "source": [
    "early_stop = EarlyStopping(monitor='val_loss',min_delta=0.00001)\n",
    "\n",
    "model.fit(X_train,y_train,\n",
    "          batch_size=128,\n",
    "          epochs=15,\n",
    "          validation_split=0.2,\n",
    "          callbacks=[early_stop])"
   ]
  },
  {
   "cell_type": "code",
   "execution_count": 9,
   "metadata": {},
   "outputs": [
    {
     "name": "stdout",
     "output_type": "stream",
     "text": [
      "85/85 [==============================] - 0s 4ms/step - loss: 0.2294 - acc: 0.9470 - f1_m: 0.9726 - precision_m: 0.9474 - recall_m: 1.0000\n"
     ]
    },
    {
     "data": {
      "text/plain": [
       "[0.22943942248821259,\n",
       " 0.9470174312591553,\n",
       " 0.9726169109344482,\n",
       " 0.9474264979362488,\n",
       " 1.0]"
      ]
     },
     "execution_count": 9,
     "metadata": {},
     "output_type": "execute_result"
    }
   ],
   "source": [
    "test_sequences_LSTM = tok.texts_to_sequences(X_test)\n",
    "X_test_LSTM = sequence.pad_sequences(test_sequences_LSTM,maxlen=max_len)\n",
    "model.evaluate(X_test_LSTM,y_test)"
   ]
  },
  {
   "cell_type": "markdown",
   "metadata": {},
   "source": [
    "## CNN Model"
   ]
  },
  {
   "cell_type": "code",
   "execution_count": 10,
   "metadata": {},
   "outputs": [
    {
     "name": "stdout",
     "output_type": "stream",
     "text": [
      "Model: \"CNN_with_embeddings\"\n",
      "_________________________________________________________________\n",
      "Layer (type)                 Output Shape              Param #   \n",
      "=================================================================\n",
      "embedding_1 (Embedding)      (None, 100, 50)           50000     \n",
      "_________________________________________________________________\n",
      "conv1d (Conv1D)              (None, 93, 32)            12832     \n",
      "_________________________________________________________________\n",
      "max_pooling1d (MaxPooling1D) (None, 46, 32)            0         \n",
      "_________________________________________________________________\n",
      "flatten (Flatten)            (None, 1472)              0         \n",
      "_________________________________________________________________\n",
      "dropout (Dropout)            (None, 1472)              0         \n",
      "_________________________________________________________________\n",
      "dense (Dense)                (None, 10)                14730     \n",
      "_________________________________________________________________\n",
      "dense_1 (Dense)              (None, 1)                 11        \n",
      "=================================================================\n",
      "Total params: 77,573\n",
      "Trainable params: 77,573\n",
      "Non-trainable params: 0\n",
      "_________________________________________________________________\n"
     ]
    }
   ],
   "source": [
    "model_CNN = Sequential(name=\"CNN_with_embeddings\")\n",
    "model_CNN.add(Embedding(max_words, 50, input_length=max_len))\n",
    "model_CNN.add(Conv1D(filters=32, kernel_size=8, activation='relu'))\n",
    "model_CNN.add(MaxPooling1D(pool_size=2))\n",
    "model_CNN.add(Flatten())\n",
    "model_CNN.add(Dropout(0.5))\n",
    "model_CNN.add(Dense(10, activation='relu'))\n",
    "model_CNN.add(Dense(1, activation='sigmoid'))\n",
    "\n",
    "model_CNN.compile(loss='binary_crossentropy', \n",
    "              optimizer= 'adam',\n",
    "              metrics=['acc',f1_m,precision_m, recall_m])\n",
    "\n",
    "model_CNN.summary()"
   ]
  },
  {
   "cell_type": "code",
   "execution_count": 11,
   "metadata": {},
   "outputs": [
    {
     "name": "stdout",
     "output_type": "stream",
     "text": [
      "Epoch 1/15\n",
      "68/68 [==============================] - 1s 8ms/step - loss: 0.2798 - acc: 0.9328 - f1_m: 0.9592 - precision_m: 0.9509 - recall_m: 0.9806 - val_loss: 0.2052 - val_acc: 0.9477 - val_f1_m: 0.9731 - val_precision_m: 0.9476 - val_recall_m: 1.0000\n",
      "Epoch 2/15\n",
      "68/68 [==============================] - 0s 5ms/step - loss: 0.2003 - acc: 0.9497 - f1_m: 0.9741 - precision_m: 0.9496 - recall_m: 1.0000 - val_loss: 0.2044 - val_acc: 0.9477 - val_f1_m: 0.9731 - val_precision_m: 0.9476 - val_recall_m: 1.0000\n",
      "Epoch 3/15\n",
      "68/68 [==============================] - 0s 5ms/step - loss: 0.1979 - acc: 0.9497 - f1_m: 0.9742 - precision_m: 0.9500 - recall_m: 1.0000 - val_loss: 0.2047 - val_acc: 0.9477 - val_f1_m: 0.9731 - val_precision_m: 0.9476 - val_recall_m: 1.0000\n"
     ]
    },
    {
     "data": {
      "text/plain": [
       "<tensorflow.python.keras.callbacks.History at 0x7faf4c10ce48>"
      ]
     },
     "execution_count": 11,
     "metadata": {},
     "output_type": "execute_result"
    }
   ],
   "source": [
    "early_stop = EarlyStopping(monitor='val_loss',min_delta=0.00001)\n",
    "\n",
    "model_CNN.fit(X_train,y_train,\n",
    "          batch_size=128,\n",
    "          epochs=15,\n",
    "          validation_split=0.2,\n",
    "          callbacks=[early_stop])"
   ]
  },
  {
   "cell_type": "code",
   "execution_count": 12,
   "metadata": {},
   "outputs": [
    {
     "name": "stdout",
     "output_type": "stream",
     "text": [
      "85/85 [==============================] - 0s 2ms/step - loss: 0.2073 - acc: 0.9470 - f1_m: 0.9726 - precision_m: 0.9474 - recall_m: 1.0000\n"
     ]
    },
    {
     "data": {
      "text/plain": [
       "[0.20725136995315552,\n",
       " 0.9470174312591553,\n",
       " 0.9726169109344482,\n",
       " 0.9474264979362488,\n",
       " 1.0]"
      ]
     },
     "execution_count": 12,
     "metadata": {},
     "output_type": "execute_result"
    }
   ],
   "source": [
    "test_sequences_CNN = tok.texts_to_sequences(X_test)\n",
    "X_test_CNN = sequence.pad_sequences(test_sequences_CNN,maxlen=max_len)\n",
    "\n",
    "model_CNN.evaluate(X_test_CNN,y_test)"
   ]
  }
 ],
 "metadata": {
  "kernelspec": {
   "display_name": "tfgpu",
   "language": "python",
   "name": "tfgpu"
  },
  "language_info": {
   "codemirror_mode": {
    "name": "ipython",
    "version": 3
   },
   "file_extension": ".py",
   "mimetype": "text/x-python",
   "name": "python",
   "nbconvert_exporter": "python",
   "pygments_lexer": "ipython3",
   "version": "3.7.9"
  }
 },
 "nbformat": 4,
 "nbformat_minor": 2
}
