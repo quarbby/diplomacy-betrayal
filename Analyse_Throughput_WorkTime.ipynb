{
 "cells": [
  {
   "cell_type": "code",
   "execution_count": 1,
   "metadata": {},
   "outputs": [],
   "source": [
    "import pandas as pd\n",
    "import matplotlib.pyplot as plt\n",
    "\n",
    "import numpy as np\n",
    "import scipy.stats as st\n",
    "import seaborn as sb\n",
    "sb.set()"
   ]
  },
  {
   "cell_type": "code",
   "execution_count": 2,
   "metadata": {},
   "outputs": [],
   "source": [
    "# Data with Throughput & WorkTime\n",
    "df = pd.read_csv('./data/kokil dec 6 reprepare/conf_pc_worker_sem.csv')\n",
    "df = df.dropna()"
   ]
  },
  {
   "cell_type": "code",
   "execution_count": 3,
   "metadata": {},
   "outputs": [
    {
     "data": {
      "text/html": [
       "<div>\n",
       "<style scoped>\n",
       "    .dataframe tbody tr th:only-of-type {\n",
       "        vertical-align: middle;\n",
       "    }\n",
       "\n",
       "    .dataframe tbody tr th {\n",
       "        vertical-align: top;\n",
       "    }\n",
       "\n",
       "    .dataframe thead th {\n",
       "        text-align: right;\n",
       "    }\n",
       "</style>\n",
       "<table border=\"1\" class=\"dataframe\">\n",
       "  <thead>\n",
       "    <tr style=\"text-align: right;\">\n",
       "      <th></th>\n",
       "      <th>Unnamed: 0</th>\n",
       "      <th>Input.sentence_id</th>\n",
       "      <th>HITId</th>\n",
       "      <th>Input.convo_id</th>\n",
       "      <th>Input.train_test_val</th>\n",
       "      <th>Input.msg_id</th>\n",
       "      <th>Input.timestamp</th>\n",
       "      <th>Input.full_text</th>\n",
       "      <th>Input.speaker</th>\n",
       "      <th>Input.reply_to</th>\n",
       "      <th>...</th>\n",
       "      <th>rcmod</th>\n",
       "      <th>rel</th>\n",
       "      <th>root</th>\n",
       "      <th>tmod</th>\n",
       "      <th>xcomp</th>\n",
       "      <th>xsubj</th>\n",
       "      <th>Answer.1gamemove.yes_pc_agree</th>\n",
       "      <th>Answer.2reasoning.yes_pc_agree</th>\n",
       "      <th>Answer.4shareinformation.yes_pc_agree</th>\n",
       "      <th>Answer.3rapport.yes_pc_agree</th>\n",
       "    </tr>\n",
       "  </thead>\n",
       "  <tbody>\n",
       "    <tr>\n",
       "      <th>0</th>\n",
       "      <td>5</td>\n",
       "      <td>11</td>\n",
       "      <td>3MG8450X2OASXZ0WO9O5AH70GU3UPA</td>\n",
       "      <td>Game1-italy-germany</td>\n",
       "      <td>Train</td>\n",
       "      <td>Game1-italy-germany-3</td>\n",
       "      <td>87</td>\n",
       "      <td>It seems like there are a lot of ways that cou...</td>\n",
       "      <td>germany-Game1</td>\n",
       "      <td>Game1-italy-germany-2</td>\n",
       "      <td>...</td>\n",
       "      <td>1.0</td>\n",
       "      <td>0.0</td>\n",
       "      <td>1.0</td>\n",
       "      <td>0.0</td>\n",
       "      <td>0.0</td>\n",
       "      <td>0.0</td>\n",
       "      <td>1.0</td>\n",
       "      <td>0.8</td>\n",
       "      <td>1.0</td>\n",
       "      <td>0.8</td>\n",
       "    </tr>\n",
       "    <tr>\n",
       "      <th>1</th>\n",
       "      <td>6</td>\n",
       "      <td>12</td>\n",
       "      <td>38G0E1M85M552JXSALX4G9WI2I6UVX</td>\n",
       "      <td>Game1-italy-germany</td>\n",
       "      <td>Train</td>\n",
       "      <td>Game1-italy-germany-7</td>\n",
       "      <td>117</td>\n",
       "      <td>Sorry Italy I've been away doing, um, German t...</td>\n",
       "      <td>germany-Game1</td>\n",
       "      <td>Game1-italy-germany-6</td>\n",
       "      <td>...</td>\n",
       "      <td>0.0</td>\n",
       "      <td>0.0</td>\n",
       "      <td>1.0</td>\n",
       "      <td>0.0</td>\n",
       "      <td>0.0</td>\n",
       "      <td>0.0</td>\n",
       "      <td>1.0</td>\n",
       "      <td>0.6</td>\n",
       "      <td>0.8</td>\n",
       "      <td>0.8</td>\n",
       "    </tr>\n",
       "    <tr>\n",
       "      <th>2</th>\n",
       "      <td>7</td>\n",
       "      <td>14</td>\n",
       "      <td>3HYV4299H0WQ2B4TCS7PKDQ75WHE81</td>\n",
       "      <td>Game1-italy-germany</td>\n",
       "      <td>Train</td>\n",
       "      <td>Game1-italy-germany-8</td>\n",
       "      <td>119</td>\n",
       "      <td>I don't think I'm ready to go for that idea, h...</td>\n",
       "      <td>germany-Game1</td>\n",
       "      <td>Game1-italy-germany-7</td>\n",
       "      <td>...</td>\n",
       "      <td>0.0</td>\n",
       "      <td>0.0</td>\n",
       "      <td>1.0</td>\n",
       "      <td>0.0</td>\n",
       "      <td>1.0</td>\n",
       "      <td>0.0</td>\n",
       "      <td>0.8</td>\n",
       "      <td>0.6</td>\n",
       "      <td>0.6</td>\n",
       "      <td>0.6</td>\n",
       "    </tr>\n",
       "    <tr>\n",
       "      <th>3</th>\n",
       "      <td>8</td>\n",
       "      <td>15</td>\n",
       "      <td>3XU9MCX6VOC4P079IHIO9TCNYLGR2P</td>\n",
       "      <td>Game1-italy-germany</td>\n",
       "      <td>Train</td>\n",
       "      <td>Game1-italy-germany-9</td>\n",
       "      <td>121</td>\n",
       "      <td>I am pretty conflicted about whether to guess ...</td>\n",
       "      <td>italy-Game1</td>\n",
       "      <td>Game1-italy-germany-8</td>\n",
       "      <td>...</td>\n",
       "      <td>0.0</td>\n",
       "      <td>0.0</td>\n",
       "      <td>1.0</td>\n",
       "      <td>0.0</td>\n",
       "      <td>0.0</td>\n",
       "      <td>0.0</td>\n",
       "      <td>0.8</td>\n",
       "      <td>0.8</td>\n",
       "      <td>0.8</td>\n",
       "      <td>0.8</td>\n",
       "    </tr>\n",
       "    <tr>\n",
       "      <th>4</th>\n",
       "      <td>9</td>\n",
       "      <td>16</td>\n",
       "      <td>3FVBZG9CLJEK4WQS7P2GC1H2EEQH0Q</td>\n",
       "      <td>Game1-italy-germany</td>\n",
       "      <td>Train</td>\n",
       "      <td>Game1-italy-germany-9</td>\n",
       "      <td>121</td>\n",
       "      <td>I am going to take it literally and say  even ...</td>\n",
       "      <td>italy-Game1</td>\n",
       "      <td>Game1-italy-germany-8</td>\n",
       "      <td>...</td>\n",
       "      <td>0.0</td>\n",
       "      <td>0.0</td>\n",
       "      <td>1.0</td>\n",
       "      <td>0.0</td>\n",
       "      <td>2.0</td>\n",
       "      <td>1.0</td>\n",
       "      <td>0.8</td>\n",
       "      <td>0.8</td>\n",
       "      <td>1.0</td>\n",
       "      <td>1.0</td>\n",
       "    </tr>\n",
       "  </tbody>\n",
       "</table>\n",
       "<p>5 rows × 863 columns</p>\n",
       "</div>"
      ],
      "text/plain": [
       "   Unnamed: 0  Input.sentence_id                           HITId  \\\n",
       "0           5                 11  3MG8450X2OASXZ0WO9O5AH70GU3UPA   \n",
       "1           6                 12  38G0E1M85M552JXSALX4G9WI2I6UVX   \n",
       "2           7                 14  3HYV4299H0WQ2B4TCS7PKDQ75WHE81   \n",
       "3           8                 15  3XU9MCX6VOC4P079IHIO9TCNYLGR2P   \n",
       "4           9                 16  3FVBZG9CLJEK4WQS7P2GC1H2EEQH0Q   \n",
       "\n",
       "        Input.convo_id Input.train_test_val           Input.msg_id  \\\n",
       "0  Game1-italy-germany                Train  Game1-italy-germany-3   \n",
       "1  Game1-italy-germany                Train  Game1-italy-germany-7   \n",
       "2  Game1-italy-germany                Train  Game1-italy-germany-8   \n",
       "3  Game1-italy-germany                Train  Game1-italy-germany-9   \n",
       "4  Game1-italy-germany                Train  Game1-italy-germany-9   \n",
       "\n",
       "   Input.timestamp                                    Input.full_text  \\\n",
       "0               87  It seems like there are a lot of ways that cou...   \n",
       "1              117  Sorry Italy I've been away doing, um, German t...   \n",
       "2              119  I don't think I'm ready to go for that idea, h...   \n",
       "3              121  I am pretty conflicted about whether to guess ...   \n",
       "4              121  I am going to take it literally and say  even ...   \n",
       "\n",
       "   Input.speaker         Input.reply_to  ... rcmod  rel root  tmod  xcomp  \\\n",
       "0  germany-Game1  Game1-italy-germany-2  ...   1.0  0.0  1.0   0.0    0.0   \n",
       "1  germany-Game1  Game1-italy-germany-6  ...   0.0  0.0  1.0   0.0    0.0   \n",
       "2  germany-Game1  Game1-italy-germany-7  ...   0.0  0.0  1.0   0.0    1.0   \n",
       "3    italy-Game1  Game1-italy-germany-8  ...   0.0  0.0  1.0   0.0    0.0   \n",
       "4    italy-Game1  Game1-italy-germany-8  ...   0.0  0.0  1.0   0.0    2.0   \n",
       "\n",
       "   xsubj  Answer.1gamemove.yes_pc_agree  Answer.2reasoning.yes_pc_agree  \\\n",
       "0    0.0                            1.0                             0.8   \n",
       "1    0.0                            1.0                             0.6   \n",
       "2    0.0                            0.8                             0.6   \n",
       "3    0.0                            0.8                             0.8   \n",
       "4    1.0                            0.8                             0.8   \n",
       "\n",
       "   Answer.4shareinformation.yes_pc_agree Answer.3rapport.yes_pc_agree  \n",
       "0                                    1.0                          0.8  \n",
       "1                                    0.8                          0.8  \n",
       "2                                    0.6                          0.6  \n",
       "3                                    0.8                          0.8  \n",
       "4                                    1.0                          1.0  \n",
       "\n",
       "[5 rows x 863 columns]"
      ]
     },
     "execution_count": 3,
     "metadata": {},
     "output_type": "execute_result"
    }
   ],
   "source": [
    "df = df.dropna()\n",
    "df.head()"
   ]
  },
  {
   "cell_type": "code",
   "execution_count": 7,
   "metadata": {},
   "outputs": [],
   "source": [
    "x_indices = range(df.shape[0])"
   ]
  },
  {
   "cell_type": "code",
   "execution_count": 19,
   "metadata": {},
   "outputs": [],
   "source": [
    "df_y_axis = df[\"Throughput.1\"].to_list()"
   ]
  },
  {
   "cell_type": "code",
   "execution_count": 27,
   "metadata": {},
   "outputs": [
    {
     "data": {
      "text/plain": [
       "[<matplotlib.lines.Line2D at 0x7f2eb6efc080>]"
      ]
     },
     "execution_count": 27,
     "metadata": {},
     "output_type": "execute_result"
    },
    {
     "data": {
      "image/png": "[encoded data removed]",
      "text/plain": [
       "<Figure size 1440x720 with 1 Axes>"
      ]
     },
     "metadata": {
      "needs_background": "light"
     },
     "output_type": "display_data"
    }
   ],
   "source": [
    "plt.figure(figsize=(20,10))\n",
    "\n",
    "plt.plot(sorted(df_y_axis), x_indices)"
   ]
  },
  {
   "cell_type": "code",
   "execution_count": 1,
   "metadata": {},
   "outputs": [],
   "source": []
  },
  {
   "cell_type": "markdown",
   "metadata": {},
   "source": [
    "### Testing Allen FBetaMeasure"
   ]
  },
  {
   "cell_type": "code",
   "execution_count": 19,
   "metadata": {},
   "outputs": [],
   "source": [
    "import torch\n",
    "import numpy as np"
   ]
  },
  {
   "cell_type": "code",
   "execution_count": 33,
   "metadata": {},
   "outputs": [
    {
     "ename": "IndexError",
     "evalue": "The shape of the mask [6] at index 0 does not match the shape of the indexed tensor [1] at index 0",
     "output_type": "error",
     "traceback": [
      "\u001b[1;31m---------------------------------------------------------------------------\u001b[0m",
      "\u001b[1;31mIndexError\u001b[0m                                Traceback (most recent call last)",
      "\u001b[1;32m<ipython-input-33-e40fd4d7de98>\u001b[0m in \u001b[0;36m<module>\u001b[1;34m\u001b[0m\n\u001b[0;32m     12\u001b[0m \u001b[0mtargets\u001b[0m \u001b[1;33m=\u001b[0m \u001b[0mtorch\u001b[0m\u001b[1;33m.\u001b[0m\u001b[0mTensor\u001b[0m\u001b[1;33m(\u001b[0m\u001b[1;33m[\u001b[0m\u001b[1;36m0\u001b[0m\u001b[1;33m,\u001b[0m \u001b[1;36m4\u001b[0m\u001b[1;33m,\u001b[0m \u001b[1;36m1\u001b[0m\u001b[1;33m,\u001b[0m \u001b[1;36m0\u001b[0m\u001b[1;33m,\u001b[0m \u001b[1;36m3\u001b[0m\u001b[1;33m,\u001b[0m \u001b[1;36m0\u001b[0m\u001b[1;33m]\u001b[0m\u001b[1;33m)\u001b[0m\u001b[1;33m\u001b[0m\u001b[1;33m\u001b[0m\u001b[0m\n\u001b[0;32m     13\u001b[0m \u001b[0mpredictions\u001b[0m \u001b[1;33m=\u001b[0m \u001b[0mtorch\u001b[0m\u001b[1;33m.\u001b[0m\u001b[0mTensor\u001b[0m\u001b[1;33m(\u001b[0m\u001b[1;33m[\u001b[0m\u001b[1;33m[\u001b[0m\u001b[1;36m0\u001b[0m\u001b[1;33m,\u001b[0m\u001b[1;36m1\u001b[0m\u001b[1;33m,\u001b[0m\u001b[1;36m0\u001b[0m\u001b[1;33m,\u001b[0m\u001b[1;36m0\u001b[0m\u001b[1;33m,\u001b[0m\u001b[1;36m1\u001b[0m\u001b[1;33m,\u001b[0m\u001b[1;36m1\u001b[0m\u001b[1;33m]\u001b[0m\u001b[1;33m]\u001b[0m\u001b[1;33m)\u001b[0m\u001b[1;33m\u001b[0m\u001b[1;33m\u001b[0m\u001b[0m\n\u001b[1;32m---> 14\u001b[1;33m \u001b[0mf1_measure\u001b[0m\u001b[1;33m(\u001b[0m\u001b[0mpredictions\u001b[0m\u001b[1;33m,\u001b[0m \u001b[0mtargets\u001b[0m\u001b[1;33m)\u001b[0m\u001b[1;33m\u001b[0m\u001b[1;33m\u001b[0m\u001b[0m\n\u001b[0m\u001b[0;32m     15\u001b[0m \u001b[0mf1_measure\u001b[0m\u001b[1;33m.\u001b[0m\u001b[0mget_metric\u001b[0m\u001b[1;33m(\u001b[0m\u001b[1;33m)\u001b[0m\u001b[1;33m\u001b[0m\u001b[1;33m\u001b[0m\u001b[0m\n",
      "\u001b[1;32m~\\anaconda3\\envs\\tf-gpu\\lib\\site-packages\\allennlp\\training\\metrics\\fbeta_measure.py\u001b[0m in \u001b[0;36m__call__\u001b[1;34m(self, predictions, gold_labels, mask)\u001b[0m\n\u001b[0;32m    149\u001b[0m             ).float()\n\u001b[0;32m    150\u001b[0m \u001b[1;33m\u001b[0m\u001b[0m\n\u001b[1;32m--> 151\u001b[1;33m         \u001b[0mpred_bins\u001b[0m \u001b[1;33m=\u001b[0m \u001b[0margmax_predictions\u001b[0m\u001b[1;33m[\u001b[0m\u001b[0mmask\u001b[0m \u001b[1;33m&\u001b[0m \u001b[0mpred_mask\u001b[0m\u001b[1;33m]\u001b[0m\u001b[1;33m.\u001b[0m\u001b[0mlong\u001b[0m\u001b[1;33m(\u001b[0m\u001b[1;33m)\u001b[0m\u001b[1;33m\u001b[0m\u001b[1;33m\u001b[0m\u001b[0m\n\u001b[0m\u001b[0;32m    152\u001b[0m         \u001b[1;31m# Watch it:\u001b[0m\u001b[1;33m\u001b[0m\u001b[1;33m\u001b[0m\u001b[1;33m\u001b[0m\u001b[0m\n\u001b[0;32m    153\u001b[0m         \u001b[1;31m# When the `mask` is all 0, we will get an _empty_ tensor.\u001b[0m\u001b[1;33m\u001b[0m\u001b[1;33m\u001b[0m\u001b[1;33m\u001b[0m\u001b[0m\n",
      "\u001b[1;31mIndexError\u001b[0m: The shape of the mask [6] at index 0 does not match the shape of the indexed tensor [1] at index 0"
     ]
    }
   ],
   "source": [
    "from allennlp.training.metrics import F1Measure\n",
    "from allennlp.training.metrics import FBetaMeasure\n",
    "\n",
    "f1_measure = F1Measure(positive_label=0)\n",
    "#f1_measure = FBetaMeasure(average='macro')\n",
    "predictions = torch.Tensor([[0.35, 0.25, 0.1, 0.1, 0.2],\n",
    "                            [0.1, 0.6, 0.1, 0.2, 0.0],\n",
    "                            [0.1, 0.6, 0.1, 0.2, 0.0],\n",
    "                            [0.1, 0.5, 0.1, 0.2, 0.0],\n",
    "                            [0.1, 0.2, 0.1, 0.7, 0.0],\n",
    "                            [0.1, 0.6, 0.1, 0.2, 0.0]])\n",
    "targets = torch.Tensor([0, 4, 1, 0, 3, 0])\n",
    "predictions = torch.Tensor([[0,1,0,0,1,1]])\n",
    "f1_measure(predictions, targets)\n",
    "f1_measure.get_metric()"
   ]
  },
  {
   "cell_type": "code",
   "execution_count": 24,
   "metadata": {},
   "outputs": [
    {
     "data": {
      "text/plain": [
       "{'precision': 1.0, 'recall': 0.3333333432674408, 'f1': 0.5}"
      ]
     },
     "execution_count": 24,
     "metadata": {},
     "output_type": "execute_result"
    }
   ],
   "source": [
    "f1_measure.get_metric()"
   ]
  },
  {
   "cell_type": "code",
   "execution_count": null,
   "metadata": {},
   "outputs": [],
   "source": []
  },
  {
   "cell_type": "markdown",
   "metadata": {},
   "source": [
    "### Exploratory Data Analysis"
   ]
  },
  {
   "cell_type": "code",
   "execution_count": 31,
   "metadata": {},
   "outputs": [
    {
     "name": "stderr",
     "output_type": "stream",
     "text": [
      "<ipython-input-31-356a6a08f94f>:4: MatplotlibDeprecationWarning: Adding an axes using the same arguments as a previous axes currently reuses the earlier instance.  In a future version, a new instance will always be created and returned.  Meanwhile, this warning can be suppressed, and the future behavior ensured, by passing a unique label to each axes instance.\n",
      "  plt.axes().set_ylabel('')\n"
     ]
    },
    {
     "data": {
      "text/plain": [
       "Text(0, 0.5, '')"
      ]
     },
     "execution_count": 31,
     "metadata": {},
     "output_type": "execute_result"
    },
    {
     "data": {
      "image/png": "[encoded data removed]",
      "text/plain": [
       "<Figure size 640x480 with 1 Axes>"
      ]
     },
     "metadata": {},
     "output_type": "display_data"
    }
   ],
   "source": [
    "deception_groups = df.groupby(['Input.deception_quadrant']).size()\n",
    "deception_groups = deception_groups / deception_groups.sum()\n",
    "deception_groups.plot.pie(autopct='%1.1f%%')\n",
    "plt.axes().set_ylabel('')"
   ]
  },
  {
   "cell_type": "code",
   "execution_count": null,
   "metadata": {},
   "outputs": [],
   "source": []
  },
  {
   "cell_type": "code",
   "execution_count": 13,
   "metadata": {},
   "outputs": [],
   "source": [
    "sub_df1 = df.groupby(['Answer.1gamemove.yes_label']).size()\n",
    "sub_df1 = sub_df1 / sub_df1.sum()\n",
    "\n",
    "sub_df2 = df.groupby(['Answer.2reasoning.yes_label']).size()\n",
    "sub_df2 = sub_df2 / sub_df2.sum()\n",
    "\n",
    "sub_df3 = df.groupby(['Answer.3rapport.yes_label']).size()\n",
    "sub_df3 = sub_df3 / sub_df3.sum()\n",
    "\n",
    "sub_df4 = df.groupby(['Answer.4shareinformation.yes_label']).size()\n",
    "sub_df4 = sub_df4 / sub_df4.sum()\n",
    "\n",
    "df['Input.deception_quadrant'] = df['Input.deception_quadrant'].apply(lambda x : 1 if x == \"Straightforward\" else 0)\n",
    "sub_df5 = df.groupby(['Input.deception_quadrant']).size()\n",
    "sub_df5 = sub_df5 / sub_df5.sum()"
   ]
  },
  {
   "cell_type": "code",
   "execution_count": 14,
   "metadata": {},
   "outputs": [
    {
     "data": {
      "image/png": "[encoded data removed]",
      "text/plain": [
       "<Figure size 432x288 with 1 Axes>"
      ]
     },
     "metadata": {},
     "output_type": "display_data"
    }
   ],
   "source": [
    "sub_df = pd.concat([sub_df1,sub_df2,sub_df3,sub_df4, sub_df5], keys=['Game Move', 'Reasoning', 'Rapport', 'Share\\n Information', 'Deception']).unstack()\n",
    "sub_df.plot(kind='bar', stacked=True, rot=1)\n",
    "plt.legend(loc=2)  \n",
    "plt.show()"
   ]
  },
  {
   "cell_type": "code",
   "execution_count": null,
   "metadata": {},
   "outputs": [],
   "source": []
  },
  {
   "cell_type": "markdown",
   "metadata": {},
   "source": [
    "### Popularity Dataset"
   ]
  },
  {
   "cell_type": "code",
   "execution_count": 2,
   "metadata": {},
   "outputs": [],
   "source": [
    "# Data with Throughput & WorkTime\n",
    "df = pd.read_csv('./data/popularity/mean_merge.csv')\n",
    "df = df.dropna()"
   ]
  },
  {
   "cell_type": "code",
   "execution_count": 3,
   "metadata": {},
   "outputs": [],
   "source": [
    "sub_df1 = df.groupby(['popularity_x']).size()\n",
    "sub_df1 = sub_df1 / sub_df1.sum()\n",
    "\n",
    "sub_df2 = df.groupby(['Emotional_disclosure']).size()\n",
    "sub_df2 = sub_df2 / sub_df2.sum()\n",
    "\n",
    "sub_df3 = df.groupby(['Information_disclosure']).size()\n",
    "sub_df3 = sub_df3 / sub_df3.sum()\n",
    "\n",
    "sub_df4 = df.groupby(['Emo_support']).size()\n",
    "sub_df4 = sub_df4 / sub_df4.sum()\n",
    "\n",
    "sub_df5 = df.groupby(['Info_support']).size()\n",
    "sub_df5 = sub_df5 / sub_df5.sum()"
   ]
  },
  {
   "cell_type": "code",
   "execution_count": 8,
   "metadata": {},
   "outputs": [
    {
     "data": {
      "image/png": "[encoded data removed]",
      "text/plain": [
       "<Figure size 432x288 with 1 Axes>"
      ]
     },
     "metadata": {},
     "output_type": "display_data"
    }
   ],
   "source": [
    "sub_df = pd.concat([sub_df1,sub_df2,sub_df3,sub_df4,sub_df5], keys=['Popularity', 'Emo\\n Disclosure', 'Info\\n Disclosure', 'Emo\\n Support', 'Info\\n Support']).unstack()\n",
    "sub_df.plot(kind='bar', stacked=True, rot=1)\n",
    "plt.legend(loc=2)  \n",
    "plt.show()"
   ]
  },
  {
   "cell_type": "code",
   "execution_count": null,
   "metadata": {},
   "outputs": [],
   "source": []
  },
  {
   "cell_type": "code",
   "execution_count": 4,
   "metadata": {},
   "outputs": [],
   "source": [
    "from sklearn.model_selection import StratifiedShuffleSplit"
   ]
  },
  {
   "cell_type": "code",
   "execution_count": 5,
   "metadata": {},
   "outputs": [],
   "source": [
    "y = df[\"Input.deception_quadrant\"].copy()\n",
    "X = df.drop([\"Input.deception_quadrant\"], axis=1)\n",
    "sss = StratifiedShuffleSplit(n_splits=1, test_size=0.2, random_state=0)\n",
    "splits_generator = sss.split(X, y)\n",
    "\n",
    "for train_idx, test_idx in splits_generator:\n",
    "    indices_train = train_idx\n",
    "    indices_test = test_idx\n",
    "\n",
    "train = df.take(indices_train)\n",
    "test = df.take(indices_test)"
   ]
  },
  {
   "cell_type": "code",
   "execution_count": 8,
   "metadata": {},
   "outputs": [
    {
     "data": {
      "text/plain": [
       "((9092, 863), (2274, 863))"
      ]
     },
     "execution_count": 8,
     "metadata": {},
     "output_type": "execute_result"
    }
   ],
   "source": [
    "train.shape, test.shape"
   ]
  },
  {
   "cell_type": "code",
   "execution_count": 16,
   "metadata": {},
   "outputs": [
    {
     "data": {
      "text/plain": [
       "((8646, 863), (446, 863))"
      ]
     },
     "execution_count": 16,
     "metadata": {},
     "output_type": "execute_result"
    }
   ],
   "source": [
    "train[train['Input.deception_quadrant']=='Straightforward'].shape, train[train['Input.deception_quadrant']=='Cassandra'].shape"
   ]
  },
  {
   "cell_type": "code",
   "execution_count": 21,
   "metadata": {},
   "outputs": [
    {
     "data": {
      "text/plain": [
       "((7823, 863), (1269, 863))"
      ]
     },
     "execution_count": 21,
     "metadata": {},
     "output_type": "execute_result"
    }
   ],
   "source": [
    "train[train['Answer.3rapport.yes_label']==1].shape, train[train['Answer.3rapport.yes_label']==0].shape"
   ]
  },
  {
   "cell_type": "code",
   "execution_count": 22,
   "metadata": {},
   "outputs": [
    {
     "data": {
      "text/plain": [
       "((2162, 863), (112, 863))"
      ]
     },
     "execution_count": 22,
     "metadata": {},
     "output_type": "execute_result"
    }
   ],
   "source": [
    "test[test['Input.deception_quadrant']=='Straightforward'].shape, test[test['Input.deception_quadrant']=='Cassandra'].shape"
   ]
  },
  {
   "cell_type": "code",
   "execution_count": 23,
   "metadata": {},
   "outputs": [
    {
     "data": {
      "text/plain": [
       "((1981, 863), (293, 863))"
      ]
     },
     "execution_count": 23,
     "metadata": {},
     "output_type": "execute_result"
    }
   ],
   "source": [
    "test[test['Answer.3rapport.yes_label']==1].shape, test[test['Answer.3rapport.yes_label']==0].shape"
   ]
  },
  {
   "cell_type": "code",
   "execution_count": 26,
   "metadata": {},
   "outputs": [],
   "source": [
    "# Data with Throughput & WorkTime\n",
    "df = pd.read_csv('./data/popularity/mean_merge.csv')\n",
    "df = df.dropna()"
   ]
  },
  {
   "cell_type": "code",
   "execution_count": 27,
   "metadata": {},
   "outputs": [],
   "source": [
    "y = df[\"popularity_x\"].copy()\n",
    "X = df.drop([\"popularity_x\"], axis=1)\n",
    "sss = StratifiedShuffleSplit(n_splits=1, test_size=0.2, random_state=0)\n",
    "splits_generator = sss.split(X, y)\n",
    "\n",
    "for train_idx, test_idx in splits_generator:\n",
    "    indices_train = train_idx\n",
    "    indices_test = test_idx\n",
    "\n",
    "train = df.take(indices_train)\n",
    "test = df.take(indices_test)"
   ]
  },
  {
   "cell_type": "code",
   "execution_count": 31,
   "metadata": {},
   "outputs": [
    {
     "data": {
      "text/plain": [
       "((11403, 49), (2575, 49))"
      ]
     },
     "execution_count": 31,
     "metadata": {},
     "output_type": "execute_result"
    }
   ],
   "source": [
    "train[train['popularity_x']==0].shape, train[train['popularity_x']==1].shape"
   ]
  },
  {
   "cell_type": "code",
   "execution_count": 32,
   "metadata": {},
   "outputs": [
    {
     "data": {
      "text/plain": [
       "((2851, 49), (644, 49))"
      ]
     },
     "execution_count": 32,
     "metadata": {},
     "output_type": "execute_result"
    }
   ],
   "source": [
    "test[test['popularity_x']==0].shape, test[test['popularity_x']==1].shape"
   ]
  }
 ],
 "metadata": {
  "kernelspec": {
   "display_name": "tfgpu",
   "language": "python",
   "name": "tfgpu"
  },
  "language_info": {
   "codemirror_mode": {
    "name": "ipython",
    "version": 3
   },
   "file_extension": ".py",
   "mimetype": "text/x-python",
   "name": "python",
   "nbconvert_exporter": "python",
   "pygments_lexer": "ipython3",
   "version": "3.7.9"
  }
 },
 "nbformat": 4,
 "nbformat_minor": 4
}
