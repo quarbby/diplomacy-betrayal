{
 "cells": [
  {
   "cell_type": "code",
   "execution_count": 2,
   "metadata": {},
   "outputs": [],
   "source": [
    "import pandas as pd\n",
    "import numpy as np\n",
    "\n",
    "from sklearn.metrics import classification_report\n",
    "from sklearn.metrics import accuracy_score"
   ]
  },
  {
   "cell_type": "code",
   "execution_count": 3,
   "metadata": {},
   "outputs": [],
   "source": [
    "df = pd.read_csv('./data/kokil dec 6 reprepare/conf_pc_worker_sem.csv')"
   ]
  },
  {
   "cell_type": "code",
   "execution_count": 4,
   "metadata": {},
   "outputs": [],
   "source": [
    "df = df.fillna(0)"
   ]
  },
  {
   "cell_type": "code",
   "execution_count": 40,
   "metadata": {},
   "outputs": [],
   "source": [
    "from sklearn.model_selection import train_test_split\n",
    "\n",
    "df = df.drop(columns=['Input.deception_quadrant'])\n",
    "\n",
    "cols = ['affcon_rapport', 'affcon_shareinformation', 'affcon_gamemove', 'affcon_reasoning', \n",
    "                                                    'Input.deception_quadrant_cat']\n",
    "\n",
    "df_stripped = df.drop(columns=cols)"
   ]
  },
  {
   "cell_type": "code",
   "execution_count": null,
   "metadata": {},
   "outputs": [],
   "source": []
  },
  {
   "cell_type": "code",
   "execution_count": 41,
   "metadata": {},
   "outputs": [
    {
     "name": "stdout",
     "output_type": "stream",
     "text": [
      "affcon_rapport\n"
     ]
    },
    {
     "name": "stderr",
     "output_type": "stream",
     "text": [
      "C:\\Users\\lynne\\anaconda3\\envs\\tf-gpu\\lib\\site-packages\\sklearn\\linear_model\\_logistic.py:764: ConvergenceWarning: lbfgs failed to converge (status=1):\n",
      "STOP: TOTAL NO. of ITERATIONS REACHED LIMIT.\n",
      "\n",
      "Increase the number of iterations (max_iter) or scale the data as shown in:\n",
      "    https://scikit-learn.org/stable/modules/preprocessing.html\n",
      "Please also refer to the documentation for alternative solver options:\n",
      "    https://scikit-learn.org/stable/modules/linear_model.html#logistic-regression\n",
      "  extra_warning_msg=_LOGISTIC_SOLVER_CONVERGENCE_MSG)\n"
     ]
    },
    {
     "name": "stdout",
     "output_type": "stream",
     "text": [
      "              precision    recall  f1-score   support\n",
      "\n",
      "           0       0.44      0.12      0.19      1262\n",
      "           1       0.60      0.90      0.72      1886\n",
      "\n",
      "    accuracy                           0.59      3148\n",
      "   macro avg       0.52      0.51      0.45      3148\n",
      "weighted avg       0.54      0.59      0.51      3148\n",
      "\n",
      "affcon_shareinformation\n"
     ]
    },
    {
     "name": "stderr",
     "output_type": "stream",
     "text": [
      "C:\\Users\\lynne\\anaconda3\\envs\\tf-gpu\\lib\\site-packages\\sklearn\\linear_model\\_logistic.py:764: ConvergenceWarning: lbfgs failed to converge (status=1):\n",
      "STOP: TOTAL NO. of ITERATIONS REACHED LIMIT.\n",
      "\n",
      "Increase the number of iterations (max_iter) or scale the data as shown in:\n",
      "    https://scikit-learn.org/stable/modules/preprocessing.html\n",
      "Please also refer to the documentation for alternative solver options:\n",
      "    https://scikit-learn.org/stable/modules/linear_model.html#logistic-regression\n",
      "  extra_warning_msg=_LOGISTIC_SOLVER_CONVERGENCE_MSG)\n"
     ]
    },
    {
     "name": "stdout",
     "output_type": "stream",
     "text": [
      "              precision    recall  f1-score   support\n",
      "\n",
      "           0       0.58      0.45      0.51      1549\n",
      "           1       0.56      0.68      0.62      1599\n",
      "\n",
      "    accuracy                           0.57      3148\n",
      "   macro avg       0.57      0.57      0.56      3148\n",
      "weighted avg       0.57      0.57      0.57      3148\n",
      "\n",
      "affcon_gamemove\n"
     ]
    },
    {
     "name": "stderr",
     "output_type": "stream",
     "text": [
      "C:\\Users\\lynne\\anaconda3\\envs\\tf-gpu\\lib\\site-packages\\sklearn\\linear_model\\_logistic.py:764: ConvergenceWarning: lbfgs failed to converge (status=1):\n",
      "STOP: TOTAL NO. of ITERATIONS REACHED LIMIT.\n",
      "\n",
      "Increase the number of iterations (max_iter) or scale the data as shown in:\n",
      "    https://scikit-learn.org/stable/modules/preprocessing.html\n",
      "Please also refer to the documentation for alternative solver options:\n",
      "    https://scikit-learn.org/stable/modules/linear_model.html#logistic-regression\n",
      "  extra_warning_msg=_LOGISTIC_SOLVER_CONVERGENCE_MSG)\n"
     ]
    },
    {
     "name": "stdout",
     "output_type": "stream",
     "text": [
      "              precision    recall  f1-score   support\n",
      "\n",
      "           0       0.36      0.01      0.01       904\n",
      "           1       0.71      1.00      0.83      2244\n",
      "\n",
      "    accuracy                           0.71      3148\n",
      "   macro avg       0.54      0.50      0.42      3148\n",
      "weighted avg       0.61      0.71      0.60      3148\n",
      "\n",
      "affcon_reasoning\n"
     ]
    },
    {
     "name": "stderr",
     "output_type": "stream",
     "text": [
      "C:\\Users\\lynne\\anaconda3\\envs\\tf-gpu\\lib\\site-packages\\sklearn\\linear_model\\_logistic.py:764: ConvergenceWarning: lbfgs failed to converge (status=1):\n",
      "STOP: TOTAL NO. of ITERATIONS REACHED LIMIT.\n",
      "\n",
      "Increase the number of iterations (max_iter) or scale the data as shown in:\n",
      "    https://scikit-learn.org/stable/modules/preprocessing.html\n",
      "Please also refer to the documentation for alternative solver options:\n",
      "    https://scikit-learn.org/stable/modules/linear_model.html#logistic-regression\n",
      "  extra_warning_msg=_LOGISTIC_SOLVER_CONVERGENCE_MSG)\n"
     ]
    },
    {
     "name": "stdout",
     "output_type": "stream",
     "text": [
      "              precision    recall  f1-score   support\n",
      "\n",
      "           0       0.58      0.18      0.28       758\n",
      "           1       0.79      0.96      0.86      2390\n",
      "\n",
      "    accuracy                           0.77      3148\n",
      "   macro avg       0.69      0.57      0.57      3148\n",
      "weighted avg       0.74      0.77      0.72      3148\n",
      "\n",
      "Input.deception_quadrant_cat\n",
      "              precision    recall  f1-score   support\n",
      "\n",
      "           0       0.00      0.00      0.00       172\n",
      "           1       0.95      1.00      0.97      2976\n",
      "\n",
      "    accuracy                           0.95      3148\n",
      "   macro avg       0.47      0.50      0.49      3148\n",
      "weighted avg       0.89      0.95      0.92      3148\n",
      "\n"
     ]
    },
    {
     "name": "stderr",
     "output_type": "stream",
     "text": [
      "C:\\Users\\lynne\\anaconda3\\envs\\tf-gpu\\lib\\site-packages\\sklearn\\linear_model\\_logistic.py:764: ConvergenceWarning: lbfgs failed to converge (status=1):\n",
      "STOP: TOTAL NO. of ITERATIONS REACHED LIMIT.\n",
      "\n",
      "Increase the number of iterations (max_iter) or scale the data as shown in:\n",
      "    https://scikit-learn.org/stable/modules/preprocessing.html\n",
      "Please also refer to the documentation for alternative solver options:\n",
      "    https://scikit-learn.org/stable/modules/linear_model.html#logistic-regression\n",
      "  extra_warning_msg=_LOGISTIC_SOLVER_CONVERGENCE_MSG)\n",
      "C:\\Users\\lynne\\anaconda3\\envs\\tf-gpu\\lib\\site-packages\\sklearn\\metrics\\_classification.py:1221: UndefinedMetricWarning: Precision and F-score are ill-defined and being set to 0.0 in labels with no predicted samples. Use `zero_division` parameter to control this behavior.\n",
      "  _warn_prf(average, modifier, msg_start, len(result))\n"
     ]
    }
   ],
   "source": [
    "from sklearn.linear_model import LogisticRegression\n",
    "\n",
    "for c in cols:\n",
    "    print(c)\n",
    "    y = df[c]\n",
    "    \n",
    "    X_train, X_test, y_train, y_test = train_test_split(df_stripped, y, test_size=0.2, train_size=0.8)\n",
    "    \n",
    "    clf = LogisticRegression(random_state=0).fit(X_train, y_train)\n",
    "    y_pred = clf.predict(X_test)\n",
    "    print(classification_report(y_test, y_pred))"
   ]
  },
  {
   "cell_type": "code",
   "execution_count": 42,
   "metadata": {
    "scrolled": true
   },
   "outputs": [
    {
     "name": "stdout",
     "output_type": "stream",
     "text": [
      "affcon_rapport\n"
     ]
    },
    {
     "name": "stderr",
     "output_type": "stream",
     "text": [
      "C:\\Users\\lynne\\anaconda3\\envs\\tf-gpu\\lib\\site-packages\\sklearn\\svm\\_base.py:977: ConvergenceWarning: Liblinear failed to converge, increase the number of iterations.\n",
      "  \"the number of iterations.\", ConvergenceWarning)\n"
     ]
    },
    {
     "name": "stdout",
     "output_type": "stream",
     "text": [
      "              precision    recall  f1-score   support\n",
      "\n",
      "           0       0.47      0.10      0.16      1287\n",
      "           1       0.60      0.92      0.73      1861\n",
      "\n",
      "    accuracy                           0.59      3148\n",
      "   macro avg       0.54      0.51      0.44      3148\n",
      "weighted avg       0.55      0.59      0.50      3148\n",
      "\n",
      "affcon_shareinformation\n"
     ]
    },
    {
     "name": "stderr",
     "output_type": "stream",
     "text": [
      "C:\\Users\\lynne\\anaconda3\\envs\\tf-gpu\\lib\\site-packages\\sklearn\\svm\\_base.py:977: ConvergenceWarning: Liblinear failed to converge, increase the number of iterations.\n",
      "  \"the number of iterations.\", ConvergenceWarning)\n"
     ]
    },
    {
     "name": "stdout",
     "output_type": "stream",
     "text": [
      "              precision    recall  f1-score   support\n",
      "\n",
      "           0       0.56      0.46      0.51      1493\n",
      "           1       0.58      0.68      0.63      1655\n",
      "\n",
      "    accuracy                           0.58      3148\n",
      "   macro avg       0.57      0.57      0.57      3148\n",
      "weighted avg       0.57      0.58      0.57      3148\n",
      "\n",
      "affcon_gamemove\n"
     ]
    },
    {
     "name": "stderr",
     "output_type": "stream",
     "text": [
      "C:\\Users\\lynne\\anaconda3\\envs\\tf-gpu\\lib\\site-packages\\sklearn\\svm\\_base.py:977: ConvergenceWarning: Liblinear failed to converge, increase the number of iterations.\n",
      "  \"the number of iterations.\", ConvergenceWarning)\n"
     ]
    },
    {
     "name": "stdout",
     "output_type": "stream",
     "text": [
      "              precision    recall  f1-score   support\n",
      "\n",
      "           0       0.31      0.00      0.01       840\n",
      "           1       0.73      1.00      0.84      2308\n",
      "\n",
      "    accuracy                           0.73      3148\n",
      "   macro avg       0.52      0.50      0.43      3148\n",
      "weighted avg       0.62      0.73      0.62      3148\n",
      "\n",
      "affcon_reasoning\n"
     ]
    },
    {
     "name": "stderr",
     "output_type": "stream",
     "text": [
      "C:\\Users\\lynne\\anaconda3\\envs\\tf-gpu\\lib\\site-packages\\sklearn\\svm\\_base.py:977: ConvergenceWarning: Liblinear failed to converge, increase the number of iterations.\n",
      "  \"the number of iterations.\", ConvergenceWarning)\n"
     ]
    },
    {
     "name": "stdout",
     "output_type": "stream",
     "text": [
      "              precision    recall  f1-score   support\n",
      "\n",
      "           0       0.57      0.18      0.28       718\n",
      "           1       0.80      0.96      0.87      2430\n",
      "\n",
      "    accuracy                           0.78      3148\n",
      "   macro avg       0.69      0.57      0.57      3148\n",
      "weighted avg       0.75      0.78      0.74      3148\n",
      "\n",
      "Input.deception_quadrant_cat\n",
      "              precision    recall  f1-score   support\n",
      "\n",
      "           0       0.00      0.00      0.00       154\n",
      "           1       0.95      1.00      0.97      2994\n",
      "\n",
      "    accuracy                           0.95      3148\n",
      "   macro avg       0.48      0.50      0.49      3148\n",
      "weighted avg       0.90      0.95      0.93      3148\n",
      "\n"
     ]
    },
    {
     "name": "stderr",
     "output_type": "stream",
     "text": [
      "C:\\Users\\lynne\\anaconda3\\envs\\tf-gpu\\lib\\site-packages\\sklearn\\svm\\_base.py:977: ConvergenceWarning: Liblinear failed to converge, increase the number of iterations.\n",
      "  \"the number of iterations.\", ConvergenceWarning)\n",
      "C:\\Users\\lynne\\anaconda3\\envs\\tf-gpu\\lib\\site-packages\\sklearn\\metrics\\_classification.py:1221: UndefinedMetricWarning: Precision and F-score are ill-defined and being set to 0.0 in labels with no predicted samples. Use `zero_division` parameter to control this behavior.\n",
      "  _warn_prf(average, modifier, msg_start, len(result))\n"
     ]
    }
   ],
   "source": [
    "from sklearn.pipeline import make_pipeline\n",
    "from sklearn.svm import LinearSVC\n",
    "from sklearn.preprocessing import StandardScaler\n",
    "svm_clf = make_pipeline(StandardScaler(),  LinearSVC(random_state=0, tol=1e-5))\n",
    "\n",
    "for c in cols:\n",
    "    print(c)\n",
    "    y = df[c]\n",
    "    \n",
    "    X_train, X_test, y_train, y_test = train_test_split(df_stripped, y, test_size=0.2, train_size=0.8)\n",
    "\n",
    "    svm_clf.fit(X_train, y_train)\n",
    "    y_pred = svm_clf.predict(X_test)\n",
    "    print(classification_report(y_test, y_pred))"
   ]
  },
  {
   "cell_type": "code",
   "execution_count": 30,
   "metadata": {},
   "outputs": [
    {
     "name": "stdout",
     "output_type": "stream",
     "text": [
      "affcon_rapport\n",
      "              precision    recall  f1-score   support\n",
      "\n",
      "         0.0       0.00      0.00      0.00         2\n",
      "         1.0       1.00      0.84      0.91       801\n",
      "\n",
      "    accuracy                           0.83       803\n",
      "   macro avg       0.50      0.42      0.45       803\n",
      "weighted avg       0.99      0.83      0.91       803\n",
      "\n",
      "affcon_shareinformation\n",
      "              precision    recall  f1-score   support\n",
      "\n",
      "         0.0       0.01      0.25      0.01         4\n",
      "         1.0       1.00      0.82      0.90       799\n",
      "\n",
      "    accuracy                           0.82       803\n",
      "   macro avg       0.50      0.53      0.46       803\n",
      "weighted avg       0.99      0.82      0.89       803\n",
      "\n",
      "affcon_gamemove\n",
      "              precision    recall  f1-score   support\n",
      "\n",
      "         0.0       0.01      0.12      0.01         8\n",
      "         1.0       0.99      0.84      0.91       795\n",
      "\n",
      "    accuracy                           0.84       803\n",
      "   macro avg       0.50      0.48      0.46       803\n",
      "weighted avg       0.98      0.84      0.90       803\n",
      "\n",
      "affcon_reasoning\n",
      "              precision    recall  f1-score   support\n",
      "\n",
      "         0.0       0.03      0.67      0.05         6\n",
      "         1.0       1.00      0.81      0.89       797\n",
      "\n",
      "    accuracy                           0.80       803\n",
      "   macro avg       0.51      0.74      0.47       803\n",
      "weighted avg       0.99      0.80      0.88       803\n",
      "\n",
      "Input.deception_quadrant_cat\n",
      "              precision    recall  f1-score   support\n",
      "\n",
      "           0       0.00      0.00      0.00         2\n",
      "           1       1.00      0.96      0.98       801\n",
      "\n",
      "    accuracy                           0.96       803\n",
      "   macro avg       0.50      0.48      0.49       803\n",
      "weighted avg       0.99      0.96      0.98       803\n",
      "\n"
     ]
    }
   ],
   "source": [
    "from sklearn.discriminant_analysis import LinearDiscriminantAnalysis\n",
    "\n",
    "lda_clf = LinearDiscriminantAnalysis()\n",
    "\n",
    "for c in cols:\n",
    "    print(c)\n",
    "    y = df[c]\n",
    "    \n",
    "    X_train, X_test, y_train, y_test = train_test_split(df_stripped, y, test_size=0.2, train_size=0.8)\n",
    "\n",
    "    lda_clf.fit(X_train, y_train)\n",
    "    y_pred = lda_clf.predict(X_test)\n",
    "    print(classification_report(y_pred, y_test))"
   ]
  },
  {
   "cell_type": "code",
   "execution_count": 43,
   "metadata": {},
   "outputs": [
    {
     "name": "stdout",
     "output_type": "stream",
     "text": [
      "affcon_rapport\n",
      "              precision    recall  f1-score   support\n",
      "\n",
      "           0       0.32      0.41      0.36       954\n",
      "           1       0.71      0.62      0.66      2194\n",
      "\n",
      "    accuracy                           0.55      3148\n",
      "   macro avg       0.51      0.51      0.51      3148\n",
      "weighted avg       0.59      0.55      0.57      3148\n",
      "\n",
      "affcon_shareinformation\n",
      "              precision    recall  f1-score   support\n",
      "\n",
      "           0       0.47      0.53      0.49      1363\n",
      "           1       0.60      0.54      0.57      1785\n",
      "\n",
      "    accuracy                           0.53      3148\n",
      "   macro avg       0.53      0.53      0.53      3148\n",
      "weighted avg       0.54      0.53      0.54      3148\n",
      "\n",
      "affcon_gamemove\n",
      "              precision    recall  f1-score   support\n",
      "\n",
      "           0       0.13      0.29      0.18       386\n",
      "           1       0.88      0.72      0.79      2762\n",
      "\n",
      "    accuracy                           0.67      3148\n",
      "   macro avg       0.50      0.50      0.48      3148\n",
      "weighted avg       0.79      0.67      0.72      3148\n",
      "\n",
      "affcon_reasoning\n",
      "              precision    recall  f1-score   support\n",
      "\n",
      "           0       0.15      0.37      0.21       304\n",
      "           1       0.92      0.77      0.84      2844\n",
      "\n",
      "    accuracy                           0.73      3148\n",
      "   macro avg       0.53      0.57      0.53      3148\n",
      "weighted avg       0.85      0.73      0.78      3148\n",
      "\n",
      "Input.deception_quadrant_cat\n",
      "              precision    recall  f1-score   support\n",
      "\n",
      "           0       0.01      0.08      0.01        12\n",
      "           1       1.00      0.95      0.97      3136\n",
      "\n",
      "    accuracy                           0.95      3148\n",
      "   macro avg       0.50      0.52      0.49      3148\n",
      "weighted avg       0.99      0.95      0.97      3148\n",
      "\n"
     ]
    }
   ],
   "source": [
    "from sklearn.neighbors import KNeighborsClassifier\n",
    "KNN_model = KNeighborsClassifier(n_neighbors=5)\n",
    "\n",
    "for c in cols:\n",
    "    print(c)\n",
    "    y = df[c]\n",
    "    \n",
    "    X_train, X_test, y_train, y_test = train_test_split(df_stripped, y, test_size=0.2, train_size=0.8)\n",
    "\n",
    "    KNN_model.fit(X_train, y_train)\n",
    "    KNN_prediction = KNN_model.predict(X_test)\n",
    "    print(classification_report(KNN_prediction, y_test))"
   ]
  },
  {
   "cell_type": "code",
   "execution_count": 44,
   "metadata": {},
   "outputs": [
    {
     "name": "stdout",
     "output_type": "stream",
     "text": [
      "affcon_rapport\n",
      "              precision    recall  f1-score   support\n",
      "\n",
      "           0       0.31      0.46      0.37       825\n",
      "           1       0.77      0.63      0.69      2323\n",
      "\n",
      "    accuracy                           0.59      3148\n",
      "   macro avg       0.54      0.54      0.53      3148\n",
      "weighted avg       0.65      0.59      0.61      3148\n",
      "\n",
      "affcon_shareinformation\n",
      "              precision    recall  f1-score   support\n",
      "\n",
      "           0       0.42      0.54      0.47      1140\n",
      "           1       0.69      0.57      0.62      2008\n",
      "\n",
      "    accuracy                           0.56      3148\n",
      "   macro avg       0.55      0.55      0.55      3148\n",
      "weighted avg       0.59      0.56      0.57      3148\n",
      "\n",
      "affcon_gamemove\n",
      "              precision    recall  f1-score   support\n",
      "\n",
      "           0       0.25      0.33      0.28       669\n",
      "           1       0.80      0.74      0.77      2479\n",
      "\n",
      "    accuracy                           0.65      3148\n",
      "   macro avg       0.53      0.53      0.53      3148\n",
      "weighted avg       0.68      0.65      0.66      3148\n",
      "\n",
      "affcon_reasoning\n",
      "              precision    recall  f1-score   support\n",
      "\n",
      "           0       0.34      0.35      0.34       710\n",
      "           1       0.81      0.80      0.80      2438\n",
      "\n",
      "    accuracy                           0.70      3148\n",
      "   macro avg       0.57      0.58      0.57      3148\n",
      "weighted avg       0.70      0.70      0.70      3148\n",
      "\n",
      "Input.deception_quadrant_cat\n",
      "              precision    recall  f1-score   support\n",
      "\n",
      "           0       0.85      0.05      0.10      2537\n",
      "           1       0.20      0.96      0.33       611\n",
      "\n",
      "    accuracy                           0.23      3148\n",
      "   macro avg       0.53      0.51      0.21      3148\n",
      "weighted avg       0.73      0.23      0.14      3148\n",
      "\n"
     ]
    }
   ],
   "source": [
    "from sklearn.naive_bayes import GaussianNB\n",
    "\n",
    "gnb = GaussianNB()\n",
    "\n",
    "for c in cols:\n",
    "    print(c)\n",
    "    y = df[c]\n",
    "    \n",
    "    X_train, X_test, y_train, y_test = train_test_split(df_stripped, y, test_size=0.2, train_size=0.8)\n",
    "\n",
    "    gnb.fit(X_train, y_train)\n",
    "    y_pred = gnb.predict(X_test)\n",
    "    print(classification_report(y_pred, y_test))"
   ]
  },
  {
   "cell_type": "code",
   "execution_count": 45,
   "metadata": {},
   "outputs": [
    {
     "name": "stdout",
     "output_type": "stream",
     "text": [
      "affcon_rapport\n",
      "              precision    recall  f1-score   support\n",
      "\n",
      "           0       0.42      0.41      0.42      1258\n",
      "           1       0.61      0.62      0.62      1890\n",
      "\n",
      "    accuracy                           0.54      3148\n",
      "   macro avg       0.52      0.52      0.52      3148\n",
      "weighted avg       0.53      0.54      0.54      3148\n",
      "\n",
      "affcon_shareinformation\n",
      "              precision    recall  f1-score   support\n",
      "\n",
      "           0       0.52      0.52      0.52      1548\n",
      "           1       0.53      0.53      0.53      1600\n",
      "\n",
      "    accuracy                           0.53      3148\n",
      "   macro avg       0.52      0.52      0.52      3148\n",
      "weighted avg       0.53      0.53      0.53      3148\n",
      "\n",
      "affcon_gamemove\n",
      "              precision    recall  f1-score   support\n",
      "\n",
      "           0       0.29      0.27      0.28       944\n",
      "           1       0.70      0.72      0.71      2204\n",
      "\n",
      "    accuracy                           0.59      3148\n",
      "   macro avg       0.50      0.50      0.50      3148\n",
      "weighted avg       0.58      0.59      0.58      3148\n",
      "\n",
      "affcon_reasoning\n",
      "              precision    recall  f1-score   support\n",
      "\n",
      "           0       0.35      0.33      0.34       798\n",
      "           1       0.78      0.79      0.78      2350\n",
      "\n",
      "    accuracy                           0.67      3148\n",
      "   macro avg       0.56      0.56      0.56      3148\n",
      "weighted avg       0.67      0.67      0.67      3148\n",
      "\n",
      "Input.deception_quadrant_cat\n",
      "              precision    recall  f1-score   support\n",
      "\n",
      "           0       0.09      0.07      0.08       201\n",
      "           1       0.94      0.95      0.94      2947\n",
      "\n",
      "    accuracy                           0.89      3148\n",
      "   macro avg       0.51      0.51      0.51      3148\n",
      "weighted avg       0.88      0.89      0.89      3148\n",
      "\n"
     ]
    }
   ],
   "source": [
    "from sklearn.tree import DecisionTreeClassifier\n",
    "tree_clf = DecisionTreeClassifier(random_state=0)\n",
    "\n",
    "for c in cols:\n",
    "    print(c)\n",
    "    y = df[c]\n",
    "    \n",
    "    X_train, X_test, y_train, y_test = train_test_split(df_stripped, y, test_size=0.2, train_size=0.8)\n",
    "\n",
    "    tree_clf.fit(X_train, y_train)\n",
    "    y_pred = tree_clf.predict(X_test)\n",
    "    print(classification_report(y_pred, y_test))"
   ]
  },
  {
   "cell_type": "code",
   "execution_count": 46,
   "metadata": {},
   "outputs": [
    {
     "name": "stdout",
     "output_type": "stream",
     "text": [
      "affcon_rapport\n",
      "              precision    recall  f1-score   support\n",
      "\n",
      "           0       0.00      0.50      0.00         2\n",
      "           1       1.00      0.60      0.75      3146\n",
      "\n",
      "    accuracy                           0.60      3148\n",
      "   macro avg       0.50      0.55      0.37      3148\n",
      "weighted avg       1.00      0.60      0.75      3148\n",
      "\n",
      "affcon_shareinformation\n",
      "              precision    recall  f1-score   support\n",
      "\n",
      "           0       0.25      0.64      0.36       606\n",
      "           1       0.86      0.55      0.67      2542\n",
      "\n",
      "    accuracy                           0.57      3148\n",
      "   macro avg       0.56      0.59      0.52      3148\n",
      "weighted avg       0.75      0.57      0.61      3148\n",
      "\n",
      "affcon_gamemove\n"
     ]
    },
    {
     "name": "stderr",
     "output_type": "stream",
     "text": [
      "C:\\Users\\lynne\\anaconda3\\envs\\tf-gpu\\lib\\site-packages\\sklearn\\metrics\\_classification.py:1221: UndefinedMetricWarning: Recall and F-score are ill-defined and being set to 0.0 in labels with no true samples. Use `zero_division` parameter to control this behavior.\n",
      "  _warn_prf(average, modifier, msg_start, len(result))\n"
     ]
    },
    {
     "name": "stdout",
     "output_type": "stream",
     "text": [
      "              precision    recall  f1-score   support\n",
      "\n",
      "           0       0.00      0.00      0.00         0\n",
      "           1       1.00      0.72      0.84      3148\n",
      "\n",
      "    accuracy                           0.72      3148\n",
      "   macro avg       0.50      0.36      0.42      3148\n",
      "weighted avg       1.00      0.72      0.84      3148\n",
      "\n",
      "affcon_reasoning\n"
     ]
    },
    {
     "name": "stderr",
     "output_type": "stream",
     "text": [
      "C:\\Users\\lynne\\anaconda3\\envs\\tf-gpu\\lib\\site-packages\\sklearn\\metrics\\_classification.py:1221: UndefinedMetricWarning: Recall and F-score are ill-defined and being set to 0.0 in labels with no true samples. Use `zero_division` parameter to control this behavior.\n",
      "  _warn_prf(average, modifier, msg_start, len(result))\n"
     ]
    },
    {
     "name": "stdout",
     "output_type": "stream",
     "text": [
      "              precision    recall  f1-score   support\n",
      "\n",
      "           0       0.00      0.00      0.00         0\n",
      "           1       1.00      0.77      0.87      3148\n",
      "\n",
      "    accuracy                           0.77      3148\n",
      "   macro avg       0.50      0.39      0.44      3148\n",
      "weighted avg       1.00      0.77      0.87      3148\n",
      "\n",
      "Input.deception_quadrant_cat\n",
      "              precision    recall  f1-score   support\n",
      "\n",
      "           0       0.00      0.00      0.00         0\n",
      "           1       1.00      0.95      0.97      3148\n",
      "\n",
      "    accuracy                           0.95      3148\n",
      "   macro avg       0.50      0.47      0.49      3148\n",
      "weighted avg       1.00      0.95      0.97      3148\n",
      "\n"
     ]
    },
    {
     "name": "stderr",
     "output_type": "stream",
     "text": [
      "C:\\Users\\lynne\\anaconda3\\envs\\tf-gpu\\lib\\site-packages\\sklearn\\metrics\\_classification.py:1221: UndefinedMetricWarning: Recall and F-score are ill-defined and being set to 0.0 in labels with no true samples. Use `zero_division` parameter to control this behavior.\n",
      "  _warn_prf(average, modifier, msg_start, len(result))\n"
     ]
    }
   ],
   "source": [
    "from sklearn.ensemble import RandomForestClassifier\n",
    "clf_rfc = RandomForestClassifier(max_depth=2, random_state=0)\n",
    "\n",
    "for c in cols:\n",
    "    print(c)\n",
    "    y = df[c]\n",
    "    \n",
    "    X_train, X_test, y_train, y_test = train_test_split(df_stripped, y, test_size=0.2, train_size=0.8)\n",
    "\n",
    "    clf_rfc.fit(X_train, y_train)\n",
    "    y_pred = clf_rfc.predict(X_test)\n",
    "    print(classification_report(y_pred, y_test))"
   ]
  }
 ],
 "metadata": {
  "kernelspec": {
   "display_name": "Python 3",
   "language": "python",
   "name": "python3"
  },
  "language_info": {
   "codemirror_mode": {
    "name": "ipython",
    "version": 3
   },
   "file_extension": ".py",
   "mimetype": "text/x-python",
   "name": "python",
   "nbconvert_exporter": "python",
   "pygments_lexer": "ipython3",
   "version": "3.7.9"
  }
 },
 "nbformat": 4,
 "nbformat_minor": 2
}
