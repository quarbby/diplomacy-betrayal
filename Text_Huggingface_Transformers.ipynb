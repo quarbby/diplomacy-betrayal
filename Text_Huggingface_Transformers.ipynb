{
 "cells": [
  {
   "cell_type": "code",
   "execution_count": 1,
   "metadata": {},
   "outputs": [],
   "source": [
    "# Reference: https://curiousily.com/posts/sentiment-analysis-with-bert-and-hugging-face-using-pytorch-and-python/"
   ]
  },
  {
   "cell_type": "code",
   "execution_count": 1,
   "metadata": {},
   "outputs": [],
   "source": [
    "import pandas as pd\n",
    "import numpy as np\n",
    "import matplotlib.pyplot as plt\n",
    "\n",
    "from sklearn.model_selection import train_test_split\n",
    "from sklearn.preprocessing import LabelEncoder\n",
    "\n",
    "from sklearn.metrics import precision_recall_fscore_support\n",
    "from sklearn.metrics import confusion_matrix, classification_report\n",
    "\n",
    "import torch\n",
    "from torch import nn, optim\n",
    "\n",
    "from collections import defaultdict\n",
    "import seaborn as sns"
   ]
  },
  {
   "cell_type": "code",
   "execution_count": 2,
   "metadata": {},
   "outputs": [],
   "source": [
    "from transformers import AutoModel, AutoTokenizer, AdamW, get_linear_schedule_with_warmup"
   ]
  },
  {
   "cell_type": "code",
   "execution_count": 3,
   "metadata": {},
   "outputs": [],
   "source": [
    "PRE_TRAINED_MODEL_NAME = 'bert-base-uncased'\n",
    "MAX_LEN = 100\n",
    "\n",
    "BATCH_SIZE = 4\n",
    "EPOCHS = 3\n",
    "\n",
    "tokenizer = AutoTokenizer.from_pretrained(PRE_TRAINED_MODEL_NAME)\n",
    "model = AutoModel.from_pretrained(PRE_TRAINED_MODEL_NAME)\n",
    "\n",
    "optimizer = AdamW(model.parameters(), lr=2e-5, correct_bias=False)"
   ]
  },
  {
   "cell_type": "code",
   "execution_count": 4,
   "metadata": {},
   "outputs": [],
   "source": [
    "full_df = pd.read_csv('data/kokil dec 6 reprepare/conf_pc_worker_sem.csv')\n",
    "full_df = full_df.dropna() # dataset contains NaN values, dropping NaNs here\n",
    "\n",
    "y_variables = ['Answer.1gamemove.yes_label', 'Answer.2reasoning.yes_label', \n",
    "               'Answer.3rapport.yes_label', 'Answer.4shareinformation.yes_label',\n",
    "               'Input.deception_quadrant']\n",
    "\n",
    "le = LabelEncoder()\n",
    "full_df['Answer.1gamemove.yes_label'] = le.fit_transform(full_df['Answer.1gamemove.yes_label'])\n",
    "full_df['Answer.2reasoning.yes_label'] = le.fit_transform(full_df['Answer.2reasoning.yes_label'])\n",
    "full_df['Answer.3rapport.yes_label'] = le.fit_transform(full_df['Answer.3rapport.yes_label'])\n",
    "full_df['Answer.4shareinformation.yes_label'] = le.fit_transform(full_df['Answer.4shareinformation.yes_label'])\n",
    "full_df['Input.deception_quadrant'] = le.fit_transform(full_df['Input.deception_quadrant'])\n",
    "\n",
    "df_train, df_test = train_test_split(full_df, test_size=0.2)\n",
    "df_val, df_test = train_test_split(df_test, test_size=0.2)"
   ]
  },
  {
   "cell_type": "code",
   "execution_count": 5,
   "metadata": {},
   "outputs": [],
   "source": [
    "from torch.utils.data import Dataset, DataLoader\n",
    "\n",
    "class Dataset(Dataset):\n",
    "    def __init__(self, full_texts, y_vars, tokenizer, max_len):\n",
    "        self.full_texts = full_texts\n",
    "        self.y_vars = y_vars\n",
    "        self.tokenizer = tokenizer\n",
    "        self.max_len = max_len\n",
    "        \n",
    "    def __len__(self):\n",
    "        return len(self.full_texts)\n",
    "    \n",
    "    def __getitem__(self, item):\n",
    "        full_text = str(self.full_texts[item])\n",
    "        y = self.y_vars[item]\n",
    "        encoding = self.tokenizer.encode_plus(\n",
    "          full_text,\n",
    "          add_special_tokens=True,\n",
    "          max_length=self.max_len,\n",
    "          return_token_type_ids=False,\n",
    "          pad_to_max_length=True,\n",
    "          return_attention_mask=True,\n",
    "          return_tensors='pt',\n",
    "        )\n",
    "        return {\n",
    "          'full_text': full_text,\n",
    "          'input_ids': encoding['input_ids'].flatten(),\n",
    "          'attention_mask': encoding['attention_mask'].flatten(),\n",
    "          'y_vars': torch.tensor(y, dtype=torch.long)\n",
    "        }\n",
    "\n",
    "def create_data_loader(df, tokenizer, y_var_name, max_len, batch_size):\n",
    "    ds = Dataset(\n",
    "        full_texts=df['Input.full_text'].to_numpy(),\n",
    "        y_vars=df[y_var_name].to_numpy(),\n",
    "        tokenizer=tokenizer,\n",
    "        max_len=max_len\n",
    "    )\n",
    "    return DataLoader(\n",
    "        ds,\n",
    "        batch_size=batch_size,\n",
    "        num_workers=0\n",
    "    )"
   ]
  },
  {
   "cell_type": "code",
   "execution_count": 6,
   "metadata": {},
   "outputs": [],
   "source": [
    "class QuadrantClassifier(nn.Module):\n",
    "    def __init__(self, n_classes):\n",
    "        super(QuadrantClassifier, self).__init__()\n",
    "        self.modelitem = model.from_pretrained(PRE_TRAINED_MODEL_NAME)\n",
    "        self.drop = nn.Dropout(p=0.3)\n",
    "        self.out = nn.Linear(self.modelitem.config.hidden_size, n_classes)\n",
    "        \n",
    "    def forward(self, input_ids, attention_mask):\n",
    "        _, pooled_output = self.modelitem (\n",
    "          input_ids=input_ids,\n",
    "          attention_mask=attention_mask\n",
    "        )\n",
    "        output = self.drop(pooled_output)\n",
    "        return self.out(output)"
   ]
  },
  {
   "cell_type": "code",
   "execution_count": 7,
   "metadata": {},
   "outputs": [],
   "source": [
    "def train_epoch(model, data_loader, loss_fn, optimizer, device, scheduler, n_examples):\n",
    "    model = model.train()\n",
    "    losses = []\n",
    "    correct_predictions = 0\n",
    "\n",
    "    for d in data_loader:\n",
    "        input_ids = d[\"input_ids\"].to(device)\n",
    "        attention_mask = d[\"attention_mask\"].to(device)\n",
    "        y_var = d[\"y_vars\"].to(device)\n",
    "        outputs = model(\n",
    "          input_ids=input_ids,\n",
    "          attention_mask=attention_mask\n",
    "        )\n",
    "        _, preds = torch.max(outputs, dim=1)\n",
    "        loss = loss_fn(outputs, y_var)\n",
    "        correct_predictions += torch.sum(preds == y_var)\n",
    "        losses.append(loss.item())\n",
    "        loss.backward()\n",
    "        nn.utils.clip_grad_norm_(model.parameters(), max_norm=1.0)\n",
    "        optimizer.step()\n",
    "        scheduler.step()\n",
    "        optimizer.zero_grad()\n",
    "    return correct_predictions.double() / n_examples, np.mean(losses)"
   ]
  },
  {
   "cell_type": "code",
   "execution_count": 8,
   "metadata": {},
   "outputs": [],
   "source": [
    "def eval_model(model, data_loader, loss_fn, device, n_examples):\n",
    "    model = model.eval()\n",
    "    losses = []\n",
    "    correct_predictions = 0\n",
    "    \n",
    "    with torch.no_grad():\n",
    "        for d in data_loader:\n",
    "            input_ids = d[\"input_ids\"].to(device)\n",
    "            attention_mask = d[\"attention_mask\"].to(device)\n",
    "            y_var = d[\"y_vars\"].to(device)\n",
    "            \n",
    "            outputs = model(input_ids=input_ids, attention_mask=attention_mask)\n",
    "            _, preds = torch.max(outputs, dim=1)\n",
    "            \n",
    "            loss = loss_fn(outputs, y_var)\n",
    "            correct_predictions += torch.sum(preds == y_var)\n",
    "            losses.append(loss.item())\n",
    "            \n",
    "    return correct_predictions.double() / n_examples, np.mean(losses)"
   ]
  },
  {
   "cell_type": "code",
   "execution_count": 9,
   "metadata": {},
   "outputs": [],
   "source": [
    "def get_predictions(model, data_loader):\n",
    "    model = model.eval()\n",
    "    full_texts = []\n",
    "    predictions = []\n",
    "    prediction_probs = []\n",
    "    real_values = []\n",
    "    \n",
    "    with torch.no_grad():\n",
    "        for d in data_loader:\n",
    "            texts = d[\"full_text\"]\n",
    "            input_ids = d[\"input_ids\"].to(device)\n",
    "            attention_mask = d[\"attention_mask\"].to(device)\n",
    "            y_var = d[\"y_vars\"].to(device)\n",
    "            \n",
    "            outputs = model(\n",
    "                input_ids=input_ids,\n",
    "                attention_mask=attention_mask\n",
    "                )\n",
    "            \n",
    "            _, preds = torch.max(outputs, dim=1)\n",
    "            full_texts.extend(texts)\n",
    "            predictions.extend(preds)\n",
    "            prediction_probs.extend(outputs)\n",
    "            real_values.extend(y_var)\n",
    "            \n",
    "    predictions = torch.stack(predictions).cpu()\n",
    "    prediction_probs = torch.stack(prediction_probs).cpu()\n",
    "    real_values = torch.stack(real_values).cpu()\n",
    "    return full_texts, predictions, prediction_probs, real_values"
   ]
  },
  {
   "cell_type": "code",
   "execution_count": 10,
   "metadata": {},
   "outputs": [],
   "source": [
    "def show_confusion_matrix(confusion_matrix):\n",
    "    hmap = sns.heatmap(confusion_matrix, annot=True, fmt=\"d\", cmap=\"Blues\")\n",
    "    hmap.yaxis.set_ticklabels(hmap.yaxis.get_ticklabels(), rotation=0, ha='right')\n",
    "    hmap.xaxis.set_ticklabels(hmap.xaxis.get_ticklabels(), rotation=30, ha='right')\n",
    "    plt.ylabel('True')\n",
    "    plt.xlabel('Predicted')"
   ]
  },
  {
   "cell_type": "code",
   "execution_count": null,
   "metadata": {},
   "outputs": [],
   "source": []
  },
  {
   "cell_type": "code",
   "execution_count": 11,
   "metadata": {},
   "outputs": [
    {
     "name": "stderr",
     "output_type": "stream",
     "text": [
      "Truncation was not explicitly activated but `max_length` is provided a specific value, please use `truncation=True` to explicitly truncate examples to max length. Defaulting to 'longest_first' truncation strategy. If you encode pairs of sequences (GLUE-style) with the tokenizer you can select this strategy more precisely by providing a specific strategy to `truncation`.\n"
     ]
    },
    {
     "name": "stdout",
     "output_type": "stream",
     "text": [
      "device:  cuda:0\n",
      "Answer.1gamemove.yes_label\n",
      "sanity checks\n",
      "dict_keys(['full_text', 'input_ids', 'attention_mask', 'y_vars'])\n",
      "torch.Size([4, 100])\n",
      "torch.Size([4, 100])\n"
     ]
    },
    {
     "name": "stderr",
     "output_type": "stream",
     "text": [
      "C:\\Users\\lynne\\anaconda3\\envs\\tf-gpu\\lib\\site-packages\\transformers\\tokenization_utils_base.py:2022: FutureWarning: The `pad_to_max_length` argument is deprecated and will be removed in a future version, use `padding=True` or `padding='longest'` to pad to the longest sequence in the batch, or use `padding='max_length'` to pad to a max length. In this case, you can give a specific length with `max_length` (e.g. `max_length=45`) or leave max_length to None to pad to the maximal input size of the model (e.g. 512 for Bert).\n",
      "  FutureWarning,\n"
     ]
    },
    {
     "name": "stdout",
     "output_type": "stream",
     "text": [
      "Epoch 1/3\n",
      "----------\n",
      "Train loss 0.5582481473356524 accuracy 0.8218213814342279\n",
      "Epoch 2/3\n",
      "----------\n",
      "Train loss 0.5600813775926867 accuracy 0.8174219093708756\n",
      "Epoch 3/3\n",
      "----------\n",
      "Train loss 0.5634188818685084 accuracy 0.8173119225692917\n",
      "Test accuracy:  0.9406593406593406\n"
     ]
    },
    {
     "name": "stderr",
     "output_type": "stream",
     "text": [
      "C:\\Users\\lynne\\anaconda3\\envs\\tf-gpu\\lib\\site-packages\\sklearn\\metrics\\_classification.py:1221: UndefinedMetricWarning: Precision and F-score are ill-defined and being set to 0.0 in labels with no predicted samples. Use `zero_division` parameter to control this behavior.\n",
      "  _warn_prf(average, modifier, msg_start, len(result))\n",
      "C:\\Users\\lynne\\anaconda3\\envs\\tf-gpu\\lib\\site-packages\\transformers\\tokenization_utils_base.py:2022: FutureWarning: The `pad_to_max_length` argument is deprecated and will be removed in a future version, use `padding=True` or `padding='longest'` to pad to the longest sequence in the batch, or use `padding='max_length'` to pad to a max length. In this case, you can give a specific length with `max_length` (e.g. `max_length=45`) or leave max_length to None to pad to the maximal input size of the model (e.g. 512 for Bert).\n",
      "  FutureWarning,\n"
     ]
    },
    {
     "name": "stdout",
     "output_type": "stream",
     "text": [
      "              precision    recall  f1-score     support\n",
      "0              0.000000  0.000000  0.000000   27.000000\n",
      "1              0.940659  1.000000  0.969422  428.000000\n",
      "accuracy       0.940659  0.940659  0.940659    0.940659\n",
      "macro avg      0.470330  0.500000  0.484711  455.000000\n",
      "weighted avg   0.884840  0.940659  0.911896  455.000000\n",
      "None\n",
      "Answer.2reasoning.yes_label\n",
      "sanity checks\n",
      "dict_keys(['full_text', 'input_ids', 'attention_mask', 'y_vars'])\n",
      "torch.Size([4, 100])\n",
      "torch.Size([4, 100])\n",
      "Epoch 1/3\n",
      "----------\n",
      "Train loss 0.7519910188299205 accuracy 0.3869335679718434\n",
      "Epoch 2/3\n",
      "----------\n",
      "Train loss 0.7501034209553072 accuracy 0.3901231852177739\n",
      "Epoch 3/3\n",
      "----------\n",
      "Train loss 0.7528082793156481 accuracy 0.3850637923449186\n",
      "Test accuracy:  0.1912087912087912\n",
      "              precision    recall  f1-score     support\n",
      "0              0.185268  0.965116  0.310861   86.000000\n",
      "1              0.571429  0.010840  0.021277  369.000000\n",
      "accuracy       0.191209  0.191209  0.191209    0.191209\n",
      "macro avg      0.378348  0.487978  0.166069  455.000000\n",
      "weighted avg   0.498440  0.191209  0.076011  455.000000\n",
      "None\n",
      "Answer.3rapport.yes_label\n",
      "sanity checks\n",
      "dict_keys(['full_text', 'input_ids', 'attention_mask', 'y_vars'])\n",
      "torch.Size([4, 100])\n",
      "torch.Size([4, 100])\n"
     ]
    },
    {
     "name": "stderr",
     "output_type": "stream",
     "text": [
      "C:\\Users\\lynne\\anaconda3\\envs\\tf-gpu\\lib\\site-packages\\transformers\\tokenization_utils_base.py:2022: FutureWarning: The `pad_to_max_length` argument is deprecated and will be removed in a future version, use `padding=True` or `padding='longest'` to pad to the longest sequence in the batch, or use `padding='max_length'` to pad to a max length. In this case, you can give a specific length with `max_length` (e.g. `max_length=45`) or leave max_length to None to pad to the maximal input size of the model (e.g. 512 for Bert).\n",
      "  FutureWarning,\n"
     ]
    },
    {
     "name": "stdout",
     "output_type": "stream",
     "text": [
      "Epoch 1/3\n",
      "----------\n",
      "Train loss 0.7137303485043816 accuracy 0.47910250769907614\n",
      "Epoch 2/3\n",
      "----------\n",
      "Train loss 0.7117811116126472 accuracy 0.49010118785745715\n",
      "Epoch 3/3\n",
      "----------\n",
      "Train loss 0.7153287554594897 accuracy 0.48251209854817423\n",
      "Test accuracy:  0.3956043956043956\n",
      "              precision    recall  f1-score     support\n",
      "0              0.176849  0.743243  0.285714   74.000000\n",
      "1              0.868056  0.328084  0.476190  381.000000\n",
      "accuracy       0.395604  0.395604  0.395604    0.395604\n",
      "macro avg      0.522452  0.535664  0.380952  455.000000\n",
      "weighted avg   0.755640  0.395604  0.445212  455.000000\n",
      "None\n",
      "Answer.4shareinformation.yes_label\n",
      "sanity checks\n",
      "dict_keys(['full_text', 'input_ids', 'attention_mask', 'y_vars'])\n",
      "torch.Size([4, 100])\n",
      "torch.Size([4, 100])\n"
     ]
    },
    {
     "name": "stderr",
     "output_type": "stream",
     "text": [
      "C:\\Users\\lynne\\anaconda3\\envs\\tf-gpu\\lib\\site-packages\\transformers\\tokenization_utils_base.py:2022: FutureWarning: The `pad_to_max_length` argument is deprecated and will be removed in a future version, use `padding=True` or `padding='longest'` to pad to the longest sequence in the batch, or use `padding='max_length'` to pad to a max length. In this case, you can give a specific length with `max_length` (e.g. `max_length=45`) or leave max_length to None to pad to the maximal input size of the model (e.g. 512 for Bert).\n",
      "  FutureWarning,\n"
     ]
    },
    {
     "name": "stdout",
     "output_type": "stream",
     "text": [
      "Epoch 1/3\n",
      "----------\n",
      "Train loss 0.6522837061872578 accuracy 0.6283545974483062\n",
      "Epoch 2/3\n",
      "----------\n",
      "Train loss 0.6571688824323008 accuracy 0.6212054553453585\n",
      "Epoch 3/3\n",
      "----------\n",
      "Train loss 0.6537962814574193 accuracy 0.6290145182578091\n",
      "Test accuracy:  0.8241758241758241\n",
      "              precision    recall  f1-score     support\n",
      "0              0.000000  0.000000  0.000000   69.000000\n",
      "1              0.844595  0.971503  0.903614  386.000000\n",
      "accuracy       0.824176  0.824176  0.824176    0.824176\n",
      "macro avg      0.422297  0.485751  0.451807  455.000000\n",
      "weighted avg   0.716513  0.824176  0.766583  455.000000\n",
      "None\n",
      "Input.deception_quadrant\n",
      "sanity checks\n",
      "dict_keys(['full_text', 'input_ids', 'attention_mask', 'y_vars'])\n",
      "torch.Size([4, 100])\n",
      "torch.Size([4, 100])\n"
     ]
    },
    {
     "name": "stderr",
     "output_type": "stream",
     "text": [
      "C:\\Users\\lynne\\anaconda3\\envs\\tf-gpu\\lib\\site-packages\\transformers\\tokenization_utils_base.py:2022: FutureWarning: The `pad_to_max_length` argument is deprecated and will be removed in a future version, use `padding=True` or `padding='longest'` to pad to the longest sequence in the batch, or use `padding='max_length'` to pad to a max length. In this case, you can give a specific length with `max_length` (e.g. `max_length=45`) or leave max_length to None to pad to the maximal input size of the model (e.g. 512 for Bert).\n",
      "  FutureWarning,\n"
     ]
    },
    {
     "name": "stdout",
     "output_type": "stream",
     "text": [
      "Epoch 1/3\n",
      "----------\n",
      "Train loss 1.1923349877836629 accuracy 0.05499340079190498\n",
      "Epoch 2/3\n",
      "----------\n",
      "Train loss 1.1976342823502255 accuracy 0.053233611966564016\n",
      "Epoch 3/3\n",
      "----------\n",
      "Train loss 1.1959983079747067 accuracy 0.053453585569731635\n",
      "Test accuracy:  0.054945054945054944\n"
     ]
    },
    {
     "name": "stderr",
     "output_type": "stream",
     "text": [
      "C:\\Users\\lynne\\anaconda3\\envs\\tf-gpu\\lib\\site-packages\\sklearn\\metrics\\_classification.py:1221: UndefinedMetricWarning: Precision and F-score are ill-defined and being set to 0.0 in labels with no predicted samples. Use `zero_division` parameter to control this behavior.\n",
      "  _warn_prf(average, modifier, msg_start, len(result))\n"
     ]
    },
    {
     "name": "stdout",
     "output_type": "stream",
     "text": [
      "              precision    recall  f1-score     support\n",
      "0              0.054945  1.000000  0.104167   25.000000\n",
      "1              0.000000  0.000000  0.000000  430.000000\n",
      "accuracy       0.054945  0.054945  0.054945    0.054945\n",
      "macro avg      0.027473  0.500000  0.052083  455.000000\n",
      "weighted avg   0.003019  0.054945  0.005723  455.000000\n",
      "None\n"
     ]
    },
    {
     "data": {
      "image/png": "[encoded data removed]",
      "text/plain": [
       "<Figure size 432x288 with 6 Axes>"
      ]
     },
     "metadata": {
      "needs_background": "light"
     },
     "output_type": "display_data"
    }
   ],
   "source": [
    "device = torch.device(\"cuda:0\" if torch.cuda.is_available() else \"cpu\")\n",
    "print('device: ', device)\n",
    "\n",
    "\n",
    "for y_var in y_variables:\n",
    "    print(y_var)\n",
    "    \n",
    "    # Create data splits\n",
    "    train_data_loader = create_data_loader(df_train, tokenizer, y_var, MAX_LEN, BATCH_SIZE)\n",
    "    test_data_loader = create_data_loader(df_test, tokenizer, y_var, MAX_LEN, BATCH_SIZE)\n",
    "    val_data_loader = create_data_loader(df_val, tokenizer, y_var, MAX_LEN, BATCH_SIZE)\n",
    "    \n",
    "    # Sainty checks\n",
    "    print('sanity checks')\n",
    "    data = next(iter(train_data_loader))\n",
    "    print(data.keys())\n",
    "    print(data['input_ids'].shape)\n",
    "    print(data['attention_mask'].shape)\n",
    "    \n",
    "    class_names = df_train[y_var].unique()\n",
    "    \n",
    "    # Create classifier model\n",
    "    new_model = QuadrantClassifier(len(class_names))\n",
    "    new_model = new_model.to(device)\n",
    "    \n",
    "    input_ids = data['input_ids'].to(device)\n",
    "    attention_mask = data['attention_mask'].to(device)\n",
    "    \n",
    "    # Add softmax final layer \n",
    "    nn.functional.softmax(new_model(input_ids, attention_mask), dim=1)\n",
    "\n",
    "    # Compile model for number of epochs\n",
    "    total_steps = len(train_data_loader) * EPOCHS\n",
    "    scheduler = get_linear_schedule_with_warmup(\n",
    "      optimizer,\n",
    "      num_warmup_steps=0,\n",
    "      num_training_steps=total_steps\n",
    "    )\n",
    "    loss_fn = nn.CrossEntropyLoss().to(device)\n",
    "    \n",
    "    # Do training\n",
    "    history = defaultdict(list)\n",
    "    best_accuracy = 0\n",
    "\n",
    "    for epoch in range(EPOCHS):\n",
    "        print(f'Epoch {epoch + 1}/{EPOCHS}')\n",
    "        print('-' * 10)\n",
    "        train_acc, train_loss = train_epoch(\n",
    "            new_model,\n",
    "            train_data_loader,\n",
    "            loss_fn,\n",
    "            optimizer,\n",
    "            device,\n",
    "            scheduler,\n",
    "            len(df_train)\n",
    "        )\n",
    "\n",
    "        print(f'Train loss {train_loss} accuracy {train_acc}')\n",
    "\n",
    "        val_acc, val_loss = eval_model(\n",
    "            new_model,\n",
    "            val_data_loader,\n",
    "            loss_fn,\n",
    "            device,\n",
    "            len(df_val)\n",
    "          )\n",
    "\n",
    "        history['train_acc'].append(train_acc)\n",
    "        history['train_loss'].append(train_loss)\n",
    "        history['val_acc'].append(val_acc)\n",
    "        history['val_loss'].append(val_loss)\n",
    "\n",
    "        if val_acc > best_accuracy:\n",
    "            torch.save(model.state_dict(), 'best_model_state.bin')\n",
    "            best_accuracy = val_acc\n",
    "    \n",
    "    # Plot values \n",
    "    plt.plot(history['train_acc'], label='train accuracy')\n",
    "    plt.plot(history['val_acc'], label='validation accuracy')\n",
    "    plt.title('Training history')\n",
    "    plt.ylabel('Accuracy')\n",
    "    plt.xlabel('Epoch')\n",
    "    plt.legend()\n",
    "    plt.ylim([0, 1]);\n",
    "    \n",
    "    test_acc, _ = eval_model(\n",
    "      new_model,\n",
    "      test_data_loader,\n",
    "      loss_fn,\n",
    "      device,\n",
    "      len(df_test)\n",
    "    )\n",
    "    print('Test accuracy: ', test_acc.item())\n",
    "    \n",
    "    # Get predictions\n",
    "    y_full_texts, y_pred, y_pred_probs, y_test = get_predictions(\n",
    "      new_model,\n",
    "      test_data_loader\n",
    "    )\n",
    "    y_pred = y_pred.numpy()\n",
    "    y_test = y_test.numpy()\n",
    "\n",
    "    # Classification report and confusion matrix\n",
    "    report = classification_report(y_test, y_pred, output_dict=True)\n",
    "    print(pd.DataFrame(report).transpose())\n",
    "    \n",
    "    cm = confusion_matrix(y_test, y_pred)\n",
    "    df_cm = pd.DataFrame(cm, index=class_names, columns=class_names)\n",
    "    show_confusion_matrix(df_cm)\n",
    "    \n",
    "    # Clear GPU memory\n",
    "    del input_ids\n",
    "    del attention_mask\n",
    "    del new_model\n",
    "    del loss_fn\n",
    "    \n",
    "    print(torch.cuda.empty_cache())"
   ]
  },
  {
   "cell_type": "code",
   "execution_count": 6,
   "metadata": {},
   "outputs": [],
   "source": []
  },
  {
   "cell_type": "code",
   "execution_count": 8,
   "metadata": {},
   "outputs": [],
   "source": []
  }
 ],
 "metadata": {
  "kernelspec": {
   "display_name": "tfgpu",
   "language": "python",
   "name": "tfgpu"
  },
  "language_info": {
   "codemirror_mode": {
    "name": "ipython",
    "version": 3
   },
   "file_extension": ".py",
   "mimetype": "text/x-python",
   "name": "python",
   "nbconvert_exporter": "python",
   "pygments_lexer": "ipython3",
   "version": "3.7.9"
  }
 },
 "nbformat": 4,
 "nbformat_minor": 4
}
