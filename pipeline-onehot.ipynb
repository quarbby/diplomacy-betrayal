{
 "cells": [
  {
   "cell_type": "code",
   "execution_count": 1,
   "metadata": {},
   "outputs": [
    {
     "name": "stderr",
     "output_type": "stream",
     "text": [
      "Using TensorFlow backend.\n"
     ]
    }
   ],
   "source": [
    "import pandas as pd\n",
    "import numpy as np\n",
    "\n",
    "from tensorflow.keras.utils import to_categorical\n",
    "from tensorflow.keras.layers import LSTM, Input, InputLayer, Dropout, Dense, Flatten, Embedding, Add, Concatenate\n",
    "from tensorflow.keras import Sequential\n",
    "from tensorflow.keras.models import Model\n",
    "from tensorflow.keras.callbacks import EarlyStopping\n",
    "import tensorflow as tf\n",
    "\n",
    "from sklearn.ensemble import RandomForestClassifier\n",
    "from sklearn.model_selection import train_test_split\n",
    "from sklearn.metrics import classification_report\n",
    "from tensorflow.keras.preprocessing.text import Tokenizer\n",
    "from sklearn.preprocessing import LabelEncoder\n",
    "from keras.preprocessing.sequence import pad_sequences\n",
    "from tensorflow.keras.optimizers import RMSprop\n",
    "\n",
    "import torch\n",
    "from sklearn.metrics import precision_recall_fscore_support"
   ]
  },
  {
   "cell_type": "code",
   "execution_count": 2,
   "metadata": {},
   "outputs": [],
   "source": [
    "# Good data\n",
    "# df = pd.read_csv('./data/kokil dec 6 reprepare/affcon_final_with_linguistics.csv')"
   ]
  },
  {
   "cell_type": "code",
   "execution_count": 3,
   "metadata": {},
   "outputs": [],
   "source": [
    "# Messy data\n",
    "# df = pd.read_csv('./data/affcon_final_politeness_strategies_merge.csv')"
   ]
  },
  {
   "cell_type": "code",
   "execution_count": 2,
   "metadata": {},
   "outputs": [],
   "source": [
    "# Data with Throughput & WorkTime\n",
    "df = pd.read_csv('./data/kokil dec 6 reprepare/conf_pc_worker_sem.csv')"
   ]
  },
  {
   "cell_type": "code",
   "execution_count": 3,
   "metadata": {},
   "outputs": [],
   "source": [
    "df = df.dropna()"
   ]
  },
  {
   "cell_type": "code",
   "execution_count": 4,
   "metadata": {},
   "outputs": [
    {
     "ename": "NameError",
     "evalue": "name 'df_throughput' is not defined",
     "output_type": "error",
     "traceback": [
      "\u001b[1;31m---------------------------------------------------------------------------\u001b[0m",
      "\u001b[1;31mNameError\u001b[0m                                 Traceback (most recent call last)",
      "\u001b[1;32m<ipython-input-4-7c1a4c92c02b>\u001b[0m in \u001b[0;36m<module>\u001b[1;34m\u001b[0m\n\u001b[1;32m----> 1\u001b[1;33m \u001b[0mmax\u001b[0m\u001b[1;33m(\u001b[0m\u001b[0mdf_throughput\u001b[0m\u001b[1;33m.\u001b[0m\u001b[0mmax\u001b[0m\u001b[1;33m(\u001b[0m\u001b[1;33m)\u001b[0m\u001b[1;33m)\u001b[0m\u001b[1;33m\u001b[0m\u001b[1;33m\u001b[0m\u001b[0m\n\u001b[0m",
      "\u001b[1;31mNameError\u001b[0m: name 'df_throughput' is not defined"
     ]
    }
   ],
   "source": [
    "max(df_throughput.max())"
   ]
  },
  {
   "cell_type": "code",
   "execution_count": 5,
   "metadata": {},
   "outputs": [],
   "source": [
    "# Throughput\n",
    "df_throughput = df[['Throughput.1', 'Throughput.2', 'Throughput.3', 'Throughput.4', 'Throughput.5']].copy()\n",
    "df_throughput['avg_throughput'] = df_throughput.mean(axis=1) / max(df_throughput.max())\n",
    "\n",
    "# WorkTime\n",
    "df_worktime = df[['WorkTime.1', 'WorkTime.2', 'WorkTime.3', 'WorkTime.4', 'WorkTime.5']].copy()\n",
    "df_worktime['avg_worktime'] = df_worktime.mean(axis=1) / max(df_worktime.max())"
   ]
  },
  {
   "cell_type": "code",
   "execution_count": 6,
   "metadata": {},
   "outputs": [],
   "source": [
    "indices = range(df.shape[0])"
   ]
  },
  {
   "cell_type": "markdown",
   "metadata": {},
   "source": [
    "### Individual Classifiers are LSTMS"
   ]
  },
  {
   "cell_type": "code",
   "execution_count": 7,
   "metadata": {},
   "outputs": [],
   "source": [
    "train, test, indices_train, indices_test = train_test_split(df, indices, test_size=0.2)\n",
    "\n",
    "new_deception_train = train[\"Input.deception_quadrant\"].copy()\n",
    "new_deception_train['Input.deception_quadrant'] = train[\"Input.deception_quadrant\"].apply(lambda x : 1 if x == \"Straightforward\" else 0)\n",
    "y_train_deception = new_deception_train['Input.deception_quadrant'].tolist()\n",
    "y_train_rapport = train['Answer.3rapport.yes_label'].tolist()\n",
    "y_train_share_information = train['Answer.4shareinformation.yes_label'].tolist()\n",
    "y_train_reasoning = train['Answer.2reasoning.yes_label'].tolist()\n",
    "y_train_gamemove = train['Answer.1gamemove.yes_label'].tolist()\n",
    "\n",
    "X_train_col = train['Input.full_text']\n",
    "\n",
    "new_deception_test = test[\"Input.deception_quadrant\"].copy()\n",
    "new_deception_test['Input.deception_quadrant'] = test[\"Input.deception_quadrant\"].apply(lambda x : 1 if x == \"Straightforward\" else 0)\n",
    "y_test_deception = new_deception_test['Input.deception_quadrant'].tolist()\n",
    "y_test_rapport = test['Answer.3rapport.yes_label'].tolist()\n",
    "y_test_share_information = test['Answer.4shareinformation.yes_label'].tolist()\n",
    "y_test_reasoning = test['Answer.2reasoning.yes_label'].tolist()\n",
    "y_test_gamemove = test['Answer.1gamemove.yes_label'].tolist()\n",
    "\n",
    "X_test_col = test['Input.full_text']"
   ]
  },
  {
   "cell_type": "code",
   "execution_count": 8,
   "metadata": {},
   "outputs": [],
   "source": [
    "from keras import backend as K\n",
    "\n",
    "def recall_m(y_true, y_pred):\n",
    "    true_positives = K.sum(K.round(K.clip(y_true * y_pred, 0, 1)))\n",
    "    possible_positives = K.sum(K.round(K.clip(y_true, 0, 1)))\n",
    "    recall = true_positives / (possible_positives + K.epsilon())\n",
    "    return recall\n",
    "\n",
    "def precision_m(y_true, y_pred):\n",
    "    true_positives = K.sum(K.round(K.clip(y_true * y_pred, 0, 1)))\n",
    "    predicted_positives = K.sum(K.round(K.clip(y_pred, 0, 1)))\n",
    "    precision = true_positives / (predicted_positives + K.epsilon())\n",
    "    return precision\n",
    "\n",
    "def f1_m(y_true, y_pred):\n",
    "    precision = precision_m(y_true, y_pred)\n",
    "    recall = recall_m(y_true, y_pred)\n",
    "    return 2*((precision*recall)/(precision+recall+K.epsilon()))\n",
    "\n",
    "callback = tf.keras.callbacks.EarlyStopping(\n",
    "    monitor='val_loss', min_delta=0, patience=0, verbose=0, mode='auto',\n",
    "    baseline=None, restore_best_weights=False\n",
    ")"
   ]
  },
  {
   "cell_type": "code",
   "execution_count": 9,
   "metadata": {},
   "outputs": [
    {
     "name": "stderr",
     "output_type": "stream",
     "text": [
      "C:\\Users\\lynne\\anaconda3\\envs\\tf-gpu\\lib\\site-packages\\sklearn\\utils\\validation.py:72: DataConversionWarning: A column-vector y was passed when a 1d array was expected. Please change the shape of y to (n_samples, ), for example using ravel().\n",
      "  return f(**kwargs)\n"
     ]
    }
   ],
   "source": [
    "le = LabelEncoder()\n",
    "\n",
    "y_train_deception = le.fit_transform(y_train_deception)\n",
    "y_train_deception = y_train_deception.reshape(-1,1)\n",
    "\n",
    "y_train_rapport = le.fit_transform(y_train_rapport)\n",
    "y_train_rapport = y_train_rapport.reshape(-1,1)\n",
    "\n",
    "y_train_share_information = le.fit_transform(y_train_share_information)\n",
    "y_train_share_information = y_train_share_information.reshape(-1,1)\n",
    "\n",
    "y_train_reasoning = le.fit_transform(y_train_reasoning)\n",
    "y_train_reasoning = y_train_reasoning.reshape(-1,1)\n",
    "\n",
    "y_train_gamemove = le.fit_transform(y_train_gamemove)\n",
    "y_train_gamemove = y_train_gamemove.reshape(-1,1)\n",
    "\n",
    "y_train_deception = le.fit_transform(y_train_deception)\n",
    "y_train_deception = y_train_deception.reshape(-1,1)\n",
    "\n",
    "y_test_rapport = le.fit_transform(y_test_rapport)\n",
    "y_test_rapport = y_test_rapport.reshape(-1,1)\n",
    "\n",
    "y_test_share_information = le.fit_transform(y_test_share_information)\n",
    "y_test_share_information = y_test_share_information.reshape(-1,1)\n",
    "\n",
    "y_test_reasoning = le.fit_transform(y_test_reasoning)\n",
    "y_test_reasoning = y_test_reasoning.reshape(-1,1)\n",
    "\n",
    "y_test_gamemove = le.fit_transform(y_test_gamemove)\n",
    "y_test_gamemove = y_test_gamemove.reshape(-1,1)\n",
    "\n",
    "y_test_deception = le.fit_transform(y_test_deception)\n",
    "y_test_deception = y_test_deception.reshape(-1,1)"
   ]
  },
  {
   "cell_type": "code",
   "execution_count": 10,
   "metadata": {},
   "outputs": [],
   "source": [
    "max_words = 1000\n",
    "max_len = 220\n",
    "\n",
    "tok = Tokenizer(num_words=max_words)\n",
    "\n",
    "tok.fit_on_texts(X_train_col)\n",
    "X_train_sequences = tok.texts_to_sequences(X_train_col)\n",
    "X_train = pad_sequences(X_train_sequences, maxlen=max_len)\n",
    "\n",
    "tok.fit_on_texts(X_test_col)\n",
    "X_test_sequences = tok.texts_to_sequences(X_test_col)\n",
    "X_test = pad_sequences(X_test_sequences, maxlen=max_len)"
   ]
  },
  {
   "cell_type": "code",
   "execution_count": 11,
   "metadata": {},
   "outputs": [],
   "source": [
    "early_stop = EarlyStopping(monitor='val_loss',min_delta=0.00001)\n",
    "def create_lstm():\n",
    "    Inp = Input(name='inputs', shape=[max_len])\n",
    "    x = Embedding(max_words, 50, input_length=max_len)(Inp)\n",
    "    x = LSTM(64, name='LSTM_01')(x)\n",
    "    x = Dropout(0.5, name='Dropout')(x)\n",
    "    x = Dense(128, activation='relu',name='Dense_01')(x)\n",
    "    # x = Dropout(0.5,name='Dropout')(x)\n",
    "    out = Dense(1,activation='sigmoid', name='output')(x)\n",
    "    model = Model(inputs=Inp, outputs=out)\n",
    "    \n",
    "    return model"
   ]
  },
  {
   "cell_type": "markdown",
   "metadata": {},
   "source": [
    "### Construct individual LSTM models"
   ]
  },
  {
   "cell_type": "code",
   "execution_count": 14,
   "metadata": {},
   "outputs": [
    {
     "name": "stdout",
     "output_type": "stream",
     "text": [
      "Epoch 1/15\n",
      "72/72 [==============================] - 3s 42ms/step - loss: 0.4249 - accuracy: 0.8603 - f1_m: 0.9253 - recall_m: 0.9957 - precision_m: 0.8656 - val_loss: 0.4170 - val_accuracy: 0.8584 - val_f1_m: 0.9236 - val_recall_m: 1.0000 - val_precision_m: 0.8584\n",
      "Epoch 2/15\n",
      "72/72 [==============================] - 3s 35ms/step - loss: 0.4045 - accuracy: 0.8636 - f1_m: 0.9275 - recall_m: 1.0000 - precision_m: 0.8655 - val_loss: 0.4228 - val_accuracy: 0.8584 - val_f1_m: 0.9236 - val_recall_m: 1.0000 - val_precision_m: 0.8584\n"
     ]
    },
    {
     "data": {
      "text/plain": [
       "<tensorflow.python.keras.callbacks.History at 0x21faa359608>"
      ]
     },
     "execution_count": 14,
     "metadata": {},
     "output_type": "execute_result"
    }
   ],
   "source": [
    "# Rapport model\n",
    "rapport_model = create_lstm()\n",
    "rapport_model.compile(loss='binary_crossentropy',optimizer=RMSprop(),metrics=['accuracy', f1_m, recall_m, precision_m])\n",
    "rapport_model.fit(X_train,y_train_rapport,\n",
    "          batch_size=128,\n",
    "          epochs=15,\n",
    "          validation_data=(X_test, y_test_rapport), callbacks=[early_stop])"
   ]
  },
  {
   "cell_type": "code",
   "execution_count": 15,
   "metadata": {},
   "outputs": [],
   "source": [
    "rapport_pred = rapport_model.predict(X_train)\n",
    "rapport_pred_test = rapport_model.predict(X_test)"
   ]
  },
  {
   "cell_type": "code",
   "execution_count": 16,
   "metadata": {},
   "outputs": [
    {
     "data": {
      "text/plain": [
       "(0.4291996481970097, 0.5, 0.4619025082820634, None)"
      ]
     },
     "execution_count": 16,
     "metadata": {},
     "output_type": "execute_result"
    }
   ],
   "source": [
    "rapport_pred_test_round = rapport_pred_test.round()\n",
    "precision_recall_fscore_support(y_test_rapport, rapport_pred_test_round, average='macro')"
   ]
  },
  {
   "cell_type": "code",
   "execution_count": 17,
   "metadata": {},
   "outputs": [
    {
     "name": "stdout",
     "output_type": "stream",
     "text": [
      "Epoch 1/15\n",
      "72/72 [==============================] - 3s 42ms/step - loss: 0.2803 - accuracy: 0.9264 - f1_m: 0.9592 - recall_m: 0.9937 - precision_m: 0.9294 - val_loss: 0.2701 - val_accuracy: 0.9283 - val_f1_m: 0.9628 - val_recall_m: 1.0000 - val_precision_m: 0.9285\n",
      "Epoch 2/15\n",
      "72/72 [==============================] - 2s 35ms/step - loss: 0.2566 - accuracy: 0.9314 - f1_m: 0.9648 - recall_m: 1.0000 - precision_m: 0.9323 - val_loss: 0.2666 - val_accuracy: 0.9283 - val_f1_m: 0.9628 - val_recall_m: 1.0000 - val_precision_m: 0.9285\n",
      "Epoch 3/15\n",
      "72/72 [==============================] - 3s 35ms/step - loss: 0.2507 - accuracy: 0.9314 - f1_m: 0.9648 - recall_m: 1.0000 - precision_m: 0.9323 - val_loss: 0.2652 - val_accuracy: 0.9283 - val_f1_m: 0.9628 - val_recall_m: 1.0000 - val_precision_m: 0.9285\n",
      "Epoch 4/15\n",
      "72/72 [==============================] - 3s 35ms/step - loss: 0.2347 - accuracy: 0.9314 - f1_m: 0.9648 - recall_m: 1.0000 - precision_m: 0.9323 - val_loss: 0.2905 - val_accuracy: 0.9283 - val_f1_m: 0.9628 - val_recall_m: 1.0000 - val_precision_m: 0.9285\n"
     ]
    },
    {
     "data": {
      "text/plain": [
       "<tensorflow.python.keras.callbacks.History at 0x221a3bd3508>"
      ]
     },
     "execution_count": 17,
     "metadata": {},
     "output_type": "execute_result"
    }
   ],
   "source": [
    "# Game move model\n",
    "gamemove_model = create_lstm()\n",
    "gamemove_model.compile(loss='binary_crossentropy',optimizer=RMSprop(),metrics=['accuracy', f1_m, recall_m, precision_m])\n",
    "gamemove_model.fit(X_train,y_train_gamemove,\n",
    "          batch_size=128,\n",
    "          epochs=15,\n",
    "          validation_data=(X_test, y_test_gamemove), callbacks=[early_stop])"
   ]
  },
  {
   "cell_type": "code",
   "execution_count": 18,
   "metadata": {},
   "outputs": [],
   "source": [
    "gamemove_pred = gamemove_model.predict(X_train)\n",
    "gamemove_pred_test = gamemove_model.predict(X_test)"
   ]
  },
  {
   "cell_type": "code",
   "execution_count": 19,
   "metadata": {},
   "outputs": [
    {
     "data": {
      "text/plain": [
       "(0.4641600703605981, 0.5, 0.4814139110604333, None)"
      ]
     },
     "execution_count": 19,
     "metadata": {},
     "output_type": "execute_result"
    }
   ],
   "source": [
    "gamemove_pred_test_round = gamemove_pred_test.round()\n",
    "precision_recall_fscore_support(y_test_gamemove, gamemove_pred_test_round, average='macro')"
   ]
  },
  {
   "cell_type": "code",
   "execution_count": 20,
   "metadata": {},
   "outputs": [
    {
     "name": "stdout",
     "output_type": "stream",
     "text": [
      "Epoch 1/15\n",
      "72/72 [==============================] - 3s 42ms/step - loss: 0.4871 - accuracy: 0.8196 - f1_m: 0.8962 - recall_m: 0.9891 - precision_m: 0.8261 - val_loss: 0.4525 - val_accuracy: 0.8417 - val_f1_m: 0.9135 - val_recall_m: 1.0000 - val_precision_m: 0.8414\n",
      "Epoch 2/15\n",
      "72/72 [==============================] - 3s 36ms/step - loss: 0.4643 - accuracy: 0.8261 - f1_m: 0.9057 - recall_m: 1.0000 - precision_m: 0.8285 - val_loss: 0.4784 - val_accuracy: 0.8417 - val_f1_m: 0.9135 - val_recall_m: 1.0000 - val_precision_m: 0.8414\n"
     ]
    },
    {
     "data": {
      "text/plain": [
       "<tensorflow.python.keras.callbacks.History at 0x221a9e28a08>"
      ]
     },
     "execution_count": 20,
     "metadata": {},
     "output_type": "execute_result"
    }
   ],
   "source": [
    "# Reasoning model\n",
    "reasoning_model = create_lstm()\n",
    "reasoning_model.compile(loss='binary_crossentropy',optimizer=RMSprop(),metrics=['accuracy', f1_m, recall_m, precision_m])\n",
    "reasoning_model.fit(X_train,y_train_reasoning,\n",
    "          batch_size=128,\n",
    "          epochs=15,\n",
    "          validation_data=(X_test, y_test_reasoning), callbacks=[early_stop])"
   ]
  },
  {
   "cell_type": "code",
   "execution_count": 21,
   "metadata": {},
   "outputs": [],
   "source": [
    "reasoning_pred = reasoning_model.predict(X_train)\n",
    "reasoning_pred_test = reasoning_model.predict(X_test)"
   ]
  },
  {
   "cell_type": "code",
   "execution_count": 22,
   "metadata": {},
   "outputs": [
    {
     "data": {
      "text/plain": [
       "(0.420844327176781, 0.5, 0.45702005730659023, None)"
      ]
     },
     "execution_count": 22,
     "metadata": {},
     "output_type": "execute_result"
    }
   ],
   "source": [
    "reasoning_pred_test_round = reasoning_pred_test.round()\n",
    "precision_recall_fscore_support(y_test_reasoning, reasoning_pred_test_round, average='macro')"
   ]
  },
  {
   "cell_type": "code",
   "execution_count": 23,
   "metadata": {},
   "outputs": [
    {
     "name": "stdout",
     "output_type": "stream",
     "text": [
      "Epoch 1/15\n",
      "72/72 [==============================] - 3s 41ms/step - loss: 0.4677 - accuracy: 0.8384 - f1_m: 0.9084 - recall_m: 0.9981 - precision_m: 0.8352 - val_loss: 0.5052 - val_accuracy: 0.8439 - val_f1_m: 0.9151 - val_recall_m: 1.0000 - val_precision_m: 0.8441\n",
      "Epoch 2/15\n",
      "72/72 [==============================] - 2s 34ms/step - loss: 0.4430 - accuracy: 0.8397 - f1_m: 0.9117 - recall_m: 1.0000 - precision_m: 0.8385 - val_loss: 0.4691 - val_accuracy: 0.8439 - val_f1_m: 0.9151 - val_recall_m: 1.0000 - val_precision_m: 0.8441\n",
      "Epoch 3/15\n",
      "72/72 [==============================] - 3s 35ms/step - loss: 0.4321 - accuracy: 0.8397 - f1_m: 0.9138 - recall_m: 1.0000 - precision_m: 0.8419 - val_loss: 0.4703 - val_accuracy: 0.8439 - val_f1_m: 0.9151 - val_recall_m: 1.0000 - val_precision_m: 0.8441\n"
     ]
    },
    {
     "data": {
      "text/plain": [
       "<tensorflow.python.keras.callbacks.History at 0x221aeeed048>"
      ]
     },
     "execution_count": 23,
     "metadata": {},
     "output_type": "execute_result"
    }
   ],
   "source": [
    "# Share Information model\n",
    "shareinfo_model = create_lstm()\n",
    "shareinfo_model.compile(loss='binary_crossentropy',optimizer=RMSprop(),metrics=['accuracy', f1_m, recall_m, precision_m])\n",
    "shareinfo_model.fit(X_train,y_train_share_information,\n",
    "          batch_size=128,\n",
    "          epochs=15,\n",
    "          validation_data=(X_test, y_test_share_information), callbacks=[early_stop])"
   ]
  },
  {
   "cell_type": "code",
   "execution_count": 24,
   "metadata": {},
   "outputs": [],
   "source": [
    "shareinfo_pred = shareinfo_model.predict(X_train)\n",
    "shareinfo_pred_test = shareinfo_model.predict(X_test)"
   ]
  },
  {
   "cell_type": "code",
   "execution_count": 25,
   "metadata": {},
   "outputs": [
    {
     "data": {
      "text/plain": [
       "(0.4219437115215479, 0.5, 0.45766754113999525, None)"
      ]
     },
     "execution_count": 25,
     "metadata": {},
     "output_type": "execute_result"
    }
   ],
   "source": [
    "shareinfo_pred_test_round = shareinfo_pred_test.round()\n",
    "precision_recall_fscore_support(y_test_share_information, shareinfo_pred_test_round, average='macro')"
   ]
  },
  {
   "cell_type": "code",
   "execution_count": 12,
   "metadata": {},
   "outputs": [
    {
     "name": "stdout",
     "output_type": "stream",
     "text": [
      "Epoch 1/15\n",
      "72/72 [==============================] - 3s 42ms/step - loss: 0.2245 - accuracy: 0.9435 - f1_m: 0.9694 - recall_m: 0.9916 - precision_m: 0.9515 - val_loss: 0.2168 - val_accuracy: 0.9499 - val_f1_m: 0.9743 - val_recall_m: 1.0000 - val_precision_m: 0.9501\n",
      "Epoch 2/15\n",
      "72/72 [==============================] - 2s 35ms/step - loss: 0.1997 - accuracy: 0.9512 - f1_m: 0.9752 - recall_m: 1.0000 - precision_m: 0.9518 - val_loss: 0.2018 - val_accuracy: 0.9499 - val_f1_m: 0.9743 - val_recall_m: 1.0000 - val_precision_m: 0.9501\n",
      "Epoch 3/15\n",
      "72/72 [==============================] - 2s 35ms/step - loss: 0.1946 - accuracy: 0.9512 - f1_m: 0.9733 - recall_m: 1.0000 - precision_m: 0.9485 - val_loss: 0.2114 - val_accuracy: 0.9499 - val_f1_m: 0.9743 - val_recall_m: 1.0000 - val_precision_m: 0.9501\n"
     ]
    },
    {
     "data": {
      "text/plain": [
       "<tensorflow.python.keras.callbacks.History at 0x21fbdeead88>"
      ]
     },
     "execution_count": 12,
     "metadata": {},
     "output_type": "execute_result"
    }
   ],
   "source": [
    "# Deception model\n",
    "deception_model = create_lstm()\n",
    "deception_model.compile(loss='binary_crossentropy',optimizer=RMSprop(),metrics=['accuracy', f1_m, recall_m, precision_m])\n",
    "deception_model.fit(X_train,y_train_deception,\n",
    "          batch_size=128,\n",
    "          epochs=15,\n",
    "          validation_data=(X_test, y_test_deception), callbacks=[early_stop])"
   ]
  },
  {
   "cell_type": "code",
   "execution_count": 13,
   "metadata": {},
   "outputs": [
    {
     "name": "stderr",
     "output_type": "stream",
     "text": [
      "C:\\Users\\lynne\\anaconda3\\envs\\tf-gpu\\lib\\site-packages\\sklearn\\metrics\\_classification.py:1221: UndefinedMetricWarning: Precision and F-score are ill-defined and being set to 0.0 in labels with no predicted samples. Use `zero_division` parameter to control this behavior.\n",
      "  _warn_prf(average, modifier, msg_start, len(result))\n"
     ]
    },
    {
     "data": {
      "text/plain": [
       "(0.47493403693931396, 0.5, 0.48714479025710417, None)"
      ]
     },
     "execution_count": 13,
     "metadata": {},
     "output_type": "execute_result"
    }
   ],
   "source": [
    "deception_pred = deception_model.predict(X_train)\n",
    "deception_pred_test = deception_model.predict(X_test)\n",
    "deception_pred_test_round = deception_pred_test.round()\n",
    "precision_recall_fscore_support(y_test_deception, deception_pred_test_round, average='macro')"
   ]
  },
  {
   "cell_type": "markdown",
   "metadata": {},
   "source": [
    "### One hot encodings"
   ]
  },
  {
   "cell_type": "code",
   "execution_count": 26,
   "metadata": {},
   "outputs": [],
   "source": [
    "# Train encodings\n",
    "pred_df_arr_full = []\n",
    "pred_df_arr = []\n",
    "for i in range(0, len(gamemove_pred)):\n",
    "    pred_obj_1 = {}\n",
    "    pred_obj_1['gamemove'] = gamemove_pred[i][0]\n",
    "    pred_obj_1['reasoning'] = reasoning_pred[i][0]\n",
    "    pred_obj_1['shareinfo'] = shareinfo_pred[i][0]\n",
    "    pred_df_arr.append(pred_obj_1)\n",
    "    \n",
    "    pred_obj_2 = pred_obj_1.copy()\n",
    "    pred_obj_2['rapport'] = rapport_pred[i][0]\n",
    "    pred_df_arr_full.append(pred_obj_2)\n",
    "    \n",
    "pred_df_full = pd.DataFrame(pred_df_arr_full)\n",
    "pred_df = pd.DataFrame(pred_df_arr)"
   ]
  },
  {
   "cell_type": "code",
   "execution_count": 27,
   "metadata": {},
   "outputs": [],
   "source": [
    "# Test encodings\n",
    "pred_test_df_arr_full = []\n",
    "pred_test_df_arr = []\n",
    "\n",
    "for i in range(0, len(gamemove_pred_test)):\n",
    "    pred_obj_1 = {}\n",
    "    pred_obj_1['gamemove'] = gamemove_pred_test[i][0]\n",
    "    pred_obj_1['reasoning'] = reasoning_pred_test[i][0]\n",
    "    pred_obj_1['shareinfo'] = shareinfo_pred_test[i][0]\n",
    "    pred_test_df_arr.append(pred_obj_1)\n",
    "    \n",
    "    pred_obj_2 = pred_obj_1.copy()\n",
    "    pred_obj_2['rapport'] = rapport_pred_test[i][0]\n",
    "    pred_test_df_arr_full.append(pred_obj_2)\n",
    "    \n",
    "pred_test_df_full = pd.DataFrame(pred_test_df_arr_full)\n",
    "pred_test_df = pd.DataFrame(pred_test_df_arr)"
   ]
  },
  {
   "cell_type": "markdown",
   "metadata": {},
   "source": [
    "### Joint Model with one hot encoding "
   ]
  },
  {
   "cell_type": "code",
   "execution_count": 28,
   "metadata": {},
   "outputs": [],
   "source": [
    "def create_joint_model(df):\n",
    "    inputB = Input(shape=(df.shape[1],))\n",
    "    c = Dense(2, activation='relu')(inputB)\n",
    "    c = Dense(4, activation='relu')(c)\n",
    "    c = Dense(2, activation='softmax')(c)\n",
    "    full_model = Model(inputs=inputB, outputs=c)\n",
    "\n",
    "    full_model.compile(loss='binary_crossentropy', optimizer='adam', \n",
    "                          metrics=['acc',f1_m,precision_m, recall_m])\n",
    "    \n",
    "    return full_model"
   ]
  },
  {
   "cell_type": "code",
   "execution_count": 47,
   "metadata": {},
   "outputs": [
    {
     "name": "stdout",
     "output_type": "stream",
     "text": [
      "Joint full model with one hot encoding, predicting deception\n",
      "Model: \"functional_19\"\n",
      "_________________________________________________________________\n",
      "Layer (type)                 Output Shape              Param #   \n",
      "=================================================================\n",
      "input_5 (InputLayer)         [(None, 4)]               0         \n",
      "_________________________________________________________________\n",
      "dense_12 (Dense)             (None, 2)                 10        \n",
      "_________________________________________________________________\n",
      "dense_13 (Dense)             (None, 4)                 12        \n",
      "_________________________________________________________________\n",
      "dense_14 (Dense)             (None, 2)                 10        \n",
      "=================================================================\n",
      "Total params: 32\n",
      "Trainable params: 32\n",
      "Non-trainable params: 0\n",
      "_________________________________________________________________\n",
      "Epoch 1/32\n",
      "143/143 [==============================] - 1s 5ms/step - loss: 0.6935 - acc: 0.6336 - f1_m: 0.9749 - precision_m: 0.9515 - recall_m: 1.0000 - val_loss: 0.6931 - val_acc: 0.5444 - val_f1_m: 0.9742 - val_precision_m: 0.9501 - val_recall_m: 1.0000\n",
      "Epoch 2/32\n",
      "143/143 [==============================] - 1s 4ms/step - loss: 0.6931 - acc: 0.5400 - f1_m: 0.9749 - precision_m: 0.9515 - recall_m: 1.0000 - val_loss: 0.6931 - val_acc: 0.5532 - val_f1_m: 0.9742 - val_precision_m: 0.9501 - val_recall_m: 1.0000\n",
      "Epoch 3/32\n",
      "143/143 [==============================] - 1s 4ms/step - loss: 0.6931 - acc: 0.5396 - f1_m: 0.9749 - precision_m: 0.9515 - recall_m: 0.9999 - val_loss: 0.6931 - val_acc: 0.5721 - val_f1_m: 0.9742 - val_precision_m: 0.9501 - val_recall_m: 1.0000\n"
     ]
    }
   ],
   "source": [
    "print('Joint full model with one hot encoding, predicting deception')\n",
    "joint_full_model = create_joint_model(pred_df_full)\n",
    "joint_full_model.summary()\n",
    "history = joint_full_model.fit(x=pred_df_full, y=y_train_deception, epochs=32, \n",
    "                    batch_size=64, \n",
    "                    validation_data=(pred_test_df_full,y_test_deception), callbacks=[callback])"
   ]
  },
  {
   "cell_type": "code",
   "execution_count": 49,
   "metadata": {},
   "outputs": [
    {
     "data": {
      "text/plain": [
       "(0.49685597400747533, 0.4839546783625731, 0.4019521005312042, None)"
      ]
     },
     "execution_count": 49,
     "metadata": {},
     "output_type": "execute_result"
    }
   ],
   "source": [
    "joint_predict = joint_full_model.predict(pred_test_df_full)\n",
    "joint_predict_round = []\n",
    "for a in joint_predict:\n",
    "    joint_predict_round.append([np.argmax(a)])\n",
    "precision_recall_fscore_support(y_test_deception, np.array(joint_predict_round), average='macro')"
   ]
  },
  {
   "cell_type": "code",
   "execution_count": null,
   "metadata": {},
   "outputs": [],
   "source": []
  },
  {
   "cell_type": "code",
   "execution_count": 50,
   "metadata": {},
   "outputs": [
    {
     "name": "stdout",
     "output_type": "stream",
     "text": [
      "Joint full model with one hot encoding, predicting rapport\n",
      "Model: \"functional_21\"\n",
      "_________________________________________________________________\n",
      "Layer (type)                 Output Shape              Param #   \n",
      "=================================================================\n",
      "input_6 (InputLayer)         [(None, 3)]               0         \n",
      "_________________________________________________________________\n",
      "dense_15 (Dense)             (None, 2)                 8         \n",
      "_________________________________________________________________\n",
      "dense_16 (Dense)             (None, 4)                 12        \n",
      "_________________________________________________________________\n",
      "dense_17 (Dense)             (None, 2)                 10        \n",
      "=================================================================\n",
      "Total params: 30\n",
      "Trainable params: 30\n",
      "Non-trainable params: 0\n",
      "_________________________________________________________________\n",
      "Epoch 1/32\n",
      "143/143 [==============================] - 1s 5ms/step - loss: 0.6931 - acc: 0.1364 - f1_m: 0.0000e+00 - precision_m: 0.0000e+00 - recall_m: 0.0000e+00 - val_loss: 0.6931 - val_acc: 0.1416 - val_f1_m: 0.0000e+00 - val_precision_m: 0.0000e+00 - val_recall_m: 0.0000e+00\n",
      "Epoch 2/32\n",
      "143/143 [==============================] - 1s 4ms/step - loss: 0.6931 - acc: 0.1364 - f1_m: 0.0000e+00 - precision_m: 0.0000e+00 - recall_m: 0.0000e+00 - val_loss: 0.6931 - val_acc: 0.1416 - val_f1_m: 0.0000e+00 - val_precision_m: 0.0000e+00 - val_recall_m: 0.0000e+00\n"
     ]
    }
   ],
   "source": [
    "print('Joint full model with one hot encoding, predicting rapport')\n",
    "joint_full_model = create_joint_model(pred_df)\n",
    "joint_full_model.summary()\n",
    "history = joint_full_model.fit(x=pred_df, y=y_train_rapport, epochs=32, \n",
    "                    batch_size=64, \n",
    "                    validation_data=(pred_test_df,y_test_rapport), callbacks=[callback])"
   ]
  },
  {
   "cell_type": "code",
   "execution_count": 51,
   "metadata": {},
   "outputs": [
    {
     "name": "stderr",
     "output_type": "stream",
     "text": [
      "C:\\Users\\lynne\\anaconda3\\envs\\tf-gpu\\lib\\site-packages\\sklearn\\metrics\\_classification.py:1221: UndefinedMetricWarning: Precision and F-score are ill-defined and being set to 0.0 in labels with no predicted samples. Use `zero_division` parameter to control this behavior.\n",
      "  _warn_prf(average, modifier, msg_start, len(result))\n"
     ]
    },
    {
     "data": {
      "text/plain": [
       "(0.07080035180299032, 0.5, 0.12403697996918336, None)"
      ]
     },
     "execution_count": 51,
     "metadata": {},
     "output_type": "execute_result"
    }
   ],
   "source": [
    "joint_predict = joint_full_model.predict(pred_test_df)\n",
    "joint_predict_round = []\n",
    "for a in joint_predict:\n",
    "    joint_predict_round.append([np.argmax(a)])\n",
    "precision_recall_fscore_support(y_test_rapport, np.array(joint_predict_round), average='macro')"
   ]
  },
  {
   "cell_type": "markdown",
   "metadata": {},
   "source": [
    "### Joint Model by Keras Concatenate"
   ]
  },
  {
   "cell_type": "code",
   "execution_count": 26,
   "metadata": {},
   "outputs": [],
   "source": [
    "def create_concatenate_keras_model(models_arr):\n",
    "    commonInput = Input(shape=[max_len])\n",
    "\n",
    "    input_model_arr = []\n",
    "    for model in models_arr: \n",
    "        outmodel = model(commonInput)\n",
    "        input_model_arr.append(outmodel)\n",
    "    \n",
    "    mergedOut = Concatenate()(input_model_arr)\n",
    "\n",
    "    mergedOut = Flatten()(mergedOut)    \n",
    "    mergedOut = Dense(256, activation='relu')(mergedOut)\n",
    "    mergedOut = Dropout(.5)(mergedOut)\n",
    "    mergedOut = Dense(128, activation='relu')(mergedOut)\n",
    "    mergedOut = Dropout(.35)(mergedOut)\n",
    "    mergedOut = Dense(2, activation='softmax')(mergedOut)  #Cuz binary\n",
    "\n",
    "    mergedModel = Model(commonInput, mergedOut)\n",
    "    mergedModel.compile(loss='binary_crossentropy', optimizer=RMSprop(), metrics=['accuracy', f1_m, recall_m, precision_m])\n",
    "    \n",
    "    return mergedModel"
   ]
  },
  {
   "cell_type": "code",
   "execution_count": 27,
   "metadata": {},
   "outputs": [
    {
     "name": "stdout",
     "output_type": "stream",
     "text": [
      "Joint model by concatenate, predicting deception\n",
      "Epoch 1/15\n",
      "72/72 [==============================] - 6s 80ms/step - loss: 0.6942 - accuracy: 0.5033 - f1_m: 0.9751 - recall_m: 1.0000 - precision_m: 0.9517 - val_loss: 0.6931 - val_accuracy: 0.9503 - val_f1_m: 0.9744 - val_recall_m: 1.0000 - val_precision_m: 0.9502\n",
      "Epoch 2/15\n",
      "72/72 [==============================] - 5s 68ms/step - loss: 0.6931 - accuracy: 0.5021 - f1_m: 0.9732 - recall_m: 0.9999 - precision_m: 0.9483 - val_loss: 0.6931 - val_accuracy: 0.9503 - val_f1_m: 0.9744 - val_recall_m: 1.0000 - val_precision_m: 0.9502\n"
     ]
    },
    {
     "data": {
      "text/plain": [
       "<tensorflow.python.keras.callbacks.History at 0x7ff3d45f0518>"
      ]
     },
     "execution_count": 27,
     "metadata": {},
     "output_type": "execute_result"
    }
   ],
   "source": [
    "print('Joint model by concatenate, predicting deception')\n",
    "merged_model = create_concatenate_keras_model([gamemove_model, reasoning_model, shareinfo_model, rapport_model])\n",
    "merged_model.fit(X_train,y_train_deception,\n",
    "          batch_size=128,\n",
    "          epochs=15,\n",
    "          validation_data=(X_test,y_test_deception), callbacks=[early_stop])"
   ]
  },
  {
   "cell_type": "code",
   "execution_count": 28,
   "metadata": {},
   "outputs": [
    {
     "name": "stdout",
     "output_type": "stream",
     "text": [
      "Joint model by concatenate, predicting rapport\n",
      "Epoch 1/15\n",
      "72/72 [==============================] - 4s 62ms/step - loss: 0.6932 - accuracy: 0.4965 - f1_m: 0.9278 - recall_m: 1.0000 - precision_m: 0.8660 - val_loss: 0.6931 - val_accuracy: 0.8562 - val_f1_m: 0.9223 - val_recall_m: 1.0000 - val_precision_m: 0.8563\n",
      "Epoch 2/15\n",
      "72/72 [==============================] - 4s 52ms/step - loss: 0.6931 - accuracy: 0.5045 - f1_m: 0.9279 - recall_m: 1.0000 - precision_m: 0.8660 - val_loss: 0.6931 - val_accuracy: 0.8562 - val_f1_m: 0.9223 - val_recall_m: 1.0000 - val_precision_m: 0.8563\n"
     ]
    },
    {
     "data": {
      "text/plain": [
       "<tensorflow.python.keras.callbacks.History at 0x7ff3bc1b26a0>"
      ]
     },
     "execution_count": 28,
     "metadata": {},
     "output_type": "execute_result"
    }
   ],
   "source": [
    "print('Joint model by concatenate, predicting rapport')\n",
    "merged_model = create_concatenate_keras_model([gamemove_model, reasoning_model, shareinfo_model])\n",
    "merged_model.fit(X_train,y_train_rapport,\n",
    "          batch_size=128,\n",
    "          epochs=15,\n",
    "          validation_data=(X_test,y_test_rapport), callbacks=[early_stop])"
   ]
  },
  {
   "cell_type": "markdown",
   "metadata": {},
   "source": [
    "## Weighted against Throughput & WorkTime"
   ]
  },
  {
   "cell_type": "code",
   "execution_count": 52,
   "metadata": {},
   "outputs": [],
   "source": [
    "# Train weighted encodings\n",
    "pred_df_full_throughput = pred_df_full.copy()\n",
    "pred_df_full_worktime = pred_df_full.copy()\n",
    "pred_df_throughput = pred_df.copy()\n",
    "pred_df_worktime = pred_df.copy()\n",
    "\n",
    "throughput_values = df_throughput['avg_throughput'].take(indices_train).values\n",
    "pred_df_full_throughput = pred_df_full_throughput.mul(throughput_values, axis=0)\n",
    "pred_df_throughput = pred_df_throughput.mul(throughput_values, axis=0)\n",
    "\n",
    "worktime_values = df_worktime['avg_worktime'].take(indices_train).values\n",
    "pred_df_full_worktime = pred_df_full_worktime.mul(worktime_values, axis=0)\n",
    "pred_df_worktime = pred_df_worktime.mul(worktime_values, axis=0)"
   ]
  },
  {
   "cell_type": "code",
   "execution_count": 53,
   "metadata": {},
   "outputs": [],
   "source": [
    "# Test weighted encodings\n",
    "pred_df_full_throughput_test = pred_test_df_full.copy()\n",
    "pred_df_full_worktime_test = pred_test_df_full.copy()\n",
    "pred_df_throughput_test = pred_test_df.copy()\n",
    "pred_df_worktime_test = pred_test_df.copy()\n",
    "\n",
    "throughput_values_test = df_throughput['avg_throughput'].take(indices_test).values\n",
    "pred_df_full_throughput_test = pred_df_full_throughput_test.mul(throughput_values_test, axis=0)\n",
    "pred_df_throughput_test = pred_df_throughput_test.mul(throughput_values_test, axis=0)\n",
    "\n",
    "worktime_values_test = df_worktime['avg_worktime'].take(indices_test).values\n",
    "pred_df_full_worktime_test = pred_df_full_worktime_test.mul(worktime_values_test, axis=0)\n",
    "pred_df_worktime_test = pred_df_worktime_test.mul(worktime_values_test, axis=0)"
   ]
  },
  {
   "cell_type": "markdown",
   "metadata": {},
   "source": [
    "## Throughput only"
   ]
  },
  {
   "cell_type": "markdown",
   "metadata": {},
   "source": [
    "### Joint Model with one hot encoding "
   ]
  },
  {
   "cell_type": "code",
   "execution_count": 54,
   "metadata": {},
   "outputs": [],
   "source": [
    "def create_joint_model(df):\n",
    "    inputB = Input(shape=(df.shape[1],))\n",
    "    c = Dense(2, activation='relu')(inputB)\n",
    "    c = Dense(4, activation='relu')(c)\n",
    "    c = Dense(2, activation='softmax')(c)\n",
    "    full_model = Model(inputs=inputB, outputs=c)\n",
    "\n",
    "    full_model.compile(loss='binary_crossentropy', optimizer='adam', \n",
    "                          metrics=['acc',f1_m,precision_m, recall_m])\n",
    "    \n",
    "    return full_model"
   ]
  },
  {
   "cell_type": "code",
   "execution_count": 60,
   "metadata": {
    "scrolled": true
   },
   "outputs": [
    {
     "name": "stdout",
     "output_type": "stream",
     "text": [
      "Joint full model with one hot encoding, predicting deception, weighted by throughput\n",
      "Model: \"functional_29\"\n",
      "_________________________________________________________________\n",
      "Layer (type)                 Output Shape              Param #   \n",
      "=================================================================\n",
      "input_10 (InputLayer)        [(None, 4)]               0         \n",
      "_________________________________________________________________\n",
      "dense_27 (Dense)             (None, 2)                 10        \n",
      "_________________________________________________________________\n",
      "dense_28 (Dense)             (None, 4)                 12        \n",
      "_________________________________________________________________\n",
      "dense_29 (Dense)             (None, 2)                 10        \n",
      "=================================================================\n",
      "Total params: 32\n",
      "Trainable params: 32\n",
      "Non-trainable params: 0\n",
      "_________________________________________________________________\n",
      "Epoch 1/32\n",
      "143/143 [==============================] - 1s 5ms/step - loss: 0.6933 - acc: 0.4747 - f1_m: 0.9740 - precision_m: 0.9498 - recall_m: 1.0000 - val_loss: 0.6932 - val_acc: 0.5352 - val_f1_m: 0.9742 - val_precision_m: 0.9501 - val_recall_m: 1.0000\n",
      "Epoch 2/32\n",
      "143/143 [==============================] - 1s 4ms/step - loss: 0.6932 - acc: 0.5255 - f1_m: 0.9750 - precision_m: 0.9515 - recall_m: 1.0000 - val_loss: 0.6932 - val_acc: 0.5237 - val_f1_m: 0.9742 - val_precision_m: 0.9501 - val_recall_m: 1.0000\n",
      "Epoch 3/32\n",
      "143/143 [==============================] - 1s 4ms/step - loss: 0.6932 - acc: 0.5230 - f1_m: 0.9750 - precision_m: 0.9515 - recall_m: 1.0000 - val_loss: 0.6932 - val_acc: 0.4890 - val_f1_m: 0.9742 - val_precision_m: 0.9501 - val_recall_m: 1.0000\n",
      "Epoch 4/32\n",
      "143/143 [==============================] - 1s 4ms/step - loss: 0.6932 - acc: 0.5200 - f1_m: 0.9750 - precision_m: 0.9515 - recall_m: 1.0000 - val_loss: 0.6932 - val_acc: 0.5114 - val_f1_m: 0.9742 - val_precision_m: 0.9501 - val_recall_m: 1.0000\n",
      "Epoch 5/32\n",
      "143/143 [==============================] - 1s 4ms/step - loss: 0.6932 - acc: 0.5306 - f1_m: 0.9749 - precision_m: 0.9515 - recall_m: 0.9999 - val_loss: 0.6931 - val_acc: 0.5119 - val_f1_m: 0.9742 - val_precision_m: 0.9501 - val_recall_m: 1.0000\n",
      "Epoch 6/32\n",
      "143/143 [==============================] - 1s 4ms/step - loss: 0.6931 - acc: 0.5562 - f1_m: 0.9749 - precision_m: 0.9515 - recall_m: 1.0000 - val_loss: 0.6931 - val_acc: 0.5818 - val_f1_m: 0.9742 - val_precision_m: 0.9501 - val_recall_m: 1.0000\n",
      "Epoch 7/32\n",
      "143/143 [==============================] - 1s 4ms/step - loss: 0.6931 - acc: 0.6167 - f1_m: 0.9740 - precision_m: 0.9498 - recall_m: 1.0000 - val_loss: 0.6931 - val_acc: 0.6548 - val_f1_m: 0.9742 - val_precision_m: 0.9501 - val_recall_m: 1.0000\n",
      "Epoch 8/32\n",
      "143/143 [==============================] - 1s 4ms/step - loss: 0.6931 - acc: 0.7072 - f1_m: 0.9740 - precision_m: 0.9498 - recall_m: 1.0000 - val_loss: 0.6931 - val_acc: 0.7414 - val_f1_m: 0.9742 - val_precision_m: 0.9501 - val_recall_m: 1.0000\n",
      "Epoch 9/32\n",
      "143/143 [==============================] - 1s 4ms/step - loss: 0.6931 - acc: 0.7791 - f1_m: 0.9749 - precision_m: 0.9515 - recall_m: 1.0000 - val_loss: 0.6931 - val_acc: 0.8052 - val_f1_m: 0.9742 - val_precision_m: 0.9501 - val_recall_m: 1.0000\n",
      "Epoch 10/32\n",
      "143/143 [==============================] - 1s 4ms/step - loss: 0.6931 - acc: 0.8323 - f1_m: 0.9750 - precision_m: 0.9515 - recall_m: 1.0000 - val_loss: 0.6931 - val_acc: 0.8461 - val_f1_m: 0.9742 - val_precision_m: 0.9501 - val_recall_m: 1.0000\n"
     ]
    }
   ],
   "source": [
    "print('Joint full model with one hot encoding, predicting deception, weighted by throughput')\n",
    "joint_full_model = create_joint_model(pred_df_full_throughput)\n",
    "joint_full_model.summary()\n",
    "history = joint_full_model.fit(x=pred_df_full_throughput, y=y_train_deception, epochs=32, \n",
    "                    batch_size=64, \n",
    "                    validation_data=(pred_df_full_throughput_test,y_test_deception), callbacks=[callback])"
   ]
  },
  {
   "cell_type": "code",
   "execution_count": 61,
   "metadata": {},
   "outputs": [
    {
     "data": {
      "text/plain": [
       "(0.4937631627849356, 0.4869152046783626, 0.4851409571371275, None)"
      ]
     },
     "execution_count": 61,
     "metadata": {},
     "output_type": "execute_result"
    }
   ],
   "source": [
    "joint_predict = joint_full_model.predict(pred_df_full_throughput_test)\n",
    "joint_predict_round = []\n",
    "for a in joint_predict:\n",
    "    joint_predict_round.append([np.argmax(a)])\n",
    "precision_recall_fscore_support(y_test_deception, np.array(joint_predict_round), average='macro')"
   ]
  },
  {
   "cell_type": "code",
   "execution_count": 62,
   "metadata": {},
   "outputs": [],
   "source": [
    "y_test_rapport = np.asarray(y_test_rapport)\n",
    "y_train_rapport = np.asarray(y_train_rapport)"
   ]
  },
  {
   "cell_type": "code",
   "execution_count": 63,
   "metadata": {
    "scrolled": true
   },
   "outputs": [
    {
     "name": "stdout",
     "output_type": "stream",
     "text": [
      "Joint full model with one hot encoding, predicting rapport, weighted by throughput\n",
      "Model: \"functional_31\"\n",
      "_________________________________________________________________\n",
      "Layer (type)                 Output Shape              Param #   \n",
      "=================================================================\n",
      "input_11 (InputLayer)        [(None, 3)]               0         \n",
      "_________________________________________________________________\n",
      "dense_30 (Dense)             (None, 2)                 8         \n",
      "_________________________________________________________________\n",
      "dense_31 (Dense)             (None, 4)                 12        \n",
      "_________________________________________________________________\n",
      "dense_32 (Dense)             (None, 2)                 10        \n",
      "=================================================================\n",
      "Total params: 30\n",
      "Trainable params: 30\n",
      "Non-trainable params: 0\n",
      "_________________________________________________________________\n",
      "Epoch 1/32\n",
      "143/143 [==============================] - 1s 5ms/step - loss: 0.6939 - acc: 0.4751 - f1_m: 0.9246 - precision_m: 0.8612 - recall_m: 1.0000 - val_loss: 0.6934 - val_acc: 0.4099 - val_f1_m: 0.9229 - val_precision_m: 0.8579 - val_recall_m: 1.0000\n",
      "Epoch 2/32\n",
      "143/143 [==============================] - 1s 4ms/step - loss: 0.6933 - acc: 0.3988 - f1_m: 0.9247 - precision_m: 0.8612 - recall_m: 1.0000 - val_loss: 0.6933 - val_acc: 0.4112 - val_f1_m: 0.9229 - val_precision_m: 0.8579 - val_recall_m: 1.0000\n",
      "Epoch 3/32\n",
      "143/143 [==============================] - 1s 4ms/step - loss: 0.6932 - acc: 0.3927 - f1_m: 0.9257 - precision_m: 0.8629 - recall_m: 1.0000 - val_loss: 0.6932 - val_acc: 0.4019 - val_f1_m: 0.9229 - val_precision_m: 0.8579 - val_recall_m: 1.0000\n",
      "Epoch 4/32\n",
      "143/143 [==============================] - 1s 4ms/step - loss: 0.6932 - acc: 0.3775 - f1_m: 0.9256 - precision_m: 0.8629 - recall_m: 1.0000 - val_loss: 0.6932 - val_acc: 0.3786 - val_f1_m: 0.9229 - val_precision_m: 0.8579 - val_recall_m: 1.0000\n",
      "Epoch 5/32\n",
      "143/143 [==============================] - 1s 4ms/step - loss: 0.6932 - acc: 0.4178 - f1_m: 0.9268 - precision_m: 0.8645 - recall_m: 1.0000 - val_loss: 0.6932 - val_acc: 0.4481 - val_f1_m: 0.9229 - val_precision_m: 0.8579 - val_recall_m: 1.0000\n",
      "Epoch 6/32\n",
      "143/143 [==============================] - 1s 4ms/step - loss: 0.6932 - acc: 0.4666 - f1_m: 0.9267 - precision_m: 0.8645 - recall_m: 1.0000 - val_loss: 0.6932 - val_acc: 0.4736 - val_f1_m: 0.9229 - val_precision_m: 0.8579 - val_recall_m: 1.0000\n",
      "Epoch 7/32\n",
      "143/143 [==============================] - 1s 4ms/step - loss: 0.6931 - acc: 0.4908 - f1_m: 0.9245 - precision_m: 0.8612 - recall_m: 1.0000 - val_loss: 0.6931 - val_acc: 0.4930 - val_f1_m: 0.9229 - val_precision_m: 0.8579 - val_recall_m: 1.0000\n",
      "Epoch 8/32\n",
      "143/143 [==============================] - 0s 3ms/step - loss: 0.6931 - acc: 0.5099 - f1_m: 0.9266 - precision_m: 0.8645 - recall_m: 1.0000 - val_loss: 0.6931 - val_acc: 0.4991 - val_f1_m: 0.9229 - val_precision_m: 0.8579 - val_recall_m: 1.0000\n",
      "Epoch 9/32\n",
      "143/143 [==============================] - 1s 4ms/step - loss: 0.6931 - acc: 0.5255 - f1_m: 0.9267 - precision_m: 0.8645 - recall_m: 1.0000 - val_loss: 0.6931 - val_acc: 0.5062 - val_f1_m: 0.9229 - val_precision_m: 0.8579 - val_recall_m: 1.0000\n",
      "Epoch 10/32\n",
      "143/143 [==============================] - 1s 4ms/step - loss: 0.6931 - acc: 0.5322 - f1_m: 0.9267 - precision_m: 0.8645 - recall_m: 1.0000 - val_loss: 0.6931 - val_acc: 0.5211 - val_f1_m: 0.9226 - val_precision_m: 0.8579 - val_recall_m: 0.9995\n",
      "Epoch 11/32\n",
      "143/143 [==============================] - 0s 3ms/step - loss: 0.6931 - acc: 0.5405 - f1_m: 0.9258 - precision_m: 0.8629 - recall_m: 1.0000 - val_loss: 0.6931 - val_acc: 0.5303 - val_f1_m: 0.9229 - val_precision_m: 0.8579 - val_recall_m: 1.0000\n",
      "Epoch 12/32\n",
      "143/143 [==============================] - 1s 4ms/step - loss: 0.6931 - acc: 0.5401 - f1_m: 0.9245 - precision_m: 0.8612 - recall_m: 1.0000 - val_loss: 0.6931 - val_acc: 0.5163 - val_f1_m: 0.9229 - val_precision_m: 0.8579 - val_recall_m: 1.0000\n",
      "Epoch 13/32\n",
      "143/143 [==============================] - 1s 4ms/step - loss: 0.6931 - acc: 0.5466 - f1_m: 0.9267 - precision_m: 0.8645 - recall_m: 1.0000 - val_loss: 0.6931 - val_acc: 0.5295 - val_f1_m: 0.9229 - val_precision_m: 0.8579 - val_recall_m: 1.0000\n",
      "Epoch 14/32\n",
      "143/143 [==============================] - 1s 4ms/step - loss: 0.6931 - acc: 0.5488 - f1_m: 0.9265 - precision_m: 0.8645 - recall_m: 0.9994 - val_loss: 0.6931 - val_acc: 0.5352 - val_f1_m: 0.9229 - val_precision_m: 0.8579 - val_recall_m: 1.0000\n"
     ]
    }
   ],
   "source": [
    "print('Joint full model with one hot encoding, predicting rapport, weighted by throughput')\n",
    "joint_full_model = create_joint_model(pred_df_throughput)\n",
    "joint_full_model.summary()\n",
    "history = joint_full_model.fit(x=pred_df_throughput, y=y_train_rapport, epochs=32, \n",
    "                    batch_size=64, \n",
    "                    validation_data=(pred_df_throughput_test,y_test_rapport), callbacks=[callback])"
   ]
  },
  {
   "cell_type": "code",
   "execution_count": 64,
   "metadata": {},
   "outputs": [
    {
     "data": {
      "text/plain": [
       "(0.4759055392223486, 0.4517694863048569, 0.42346491727781344, None)"
      ]
     },
     "execution_count": 64,
     "metadata": {},
     "output_type": "execute_result"
    }
   ],
   "source": [
    "joint_predict = joint_full_model.predict(pred_df_throughput_test)\n",
    "joint_predict_round = []\n",
    "for a in joint_predict:\n",
    "    joint_predict_round.append([np.argmax(a)])\n",
    "precision_recall_fscore_support(y_test_rapport, np.array(joint_predict_round), average='macro')"
   ]
  },
  {
   "cell_type": "code",
   "execution_count": null,
   "metadata": {},
   "outputs": [],
   "source": []
  },
  {
   "cell_type": "markdown",
   "metadata": {},
   "source": [
    "## WorkTime only"
   ]
  },
  {
   "cell_type": "markdown",
   "metadata": {},
   "source": [
    "### Joint Model with one hot encoding "
   ]
  },
  {
   "cell_type": "markdown",
   "metadata": {},
   "source": [
    "### Joint Model with one hot encoding "
   ]
  },
  {
   "cell_type": "code",
   "execution_count": 158,
   "metadata": {},
   "outputs": [],
   "source": [
    "def create_joint_model(df):\n",
    "    inputB = Input(shape=(df.shape[1],))\n",
    "    c = Dense(2, activation='relu')(inputB)\n",
    "    c = Dense(4, activation='relu')(c)\n",
    "    c = Dense(2, activation='softmax')(c)\n",
    "    full_model = Model(inputs=inputB, outputs=c)\n",
    "\n",
    "    full_model.compile(loss='binary_crossentropy', optimizer='adam', \n",
    "                          metrics=['acc',f1_m,precision_m, recall_m])\n",
    "    \n",
    "    return full_model"
   ]
  },
  {
   "cell_type": "code",
   "execution_count": 159,
   "metadata": {
    "scrolled": true
   },
   "outputs": [
    {
     "name": "stdout",
     "output_type": "stream",
     "text": [
      "Joint full model with one hot encoding, predicting deception, weighted by throughput\n",
      "Model: \"functional_33\"\n",
      "_________________________________________________________________\n",
      "Layer (type)                 Output Shape              Param #   \n",
      "=================================================================\n",
      "input_12 (InputLayer)        [(None, 4)]               0         \n",
      "_________________________________________________________________\n",
      "dense_33 (Dense)             (None, 2)                 10        \n",
      "_________________________________________________________________\n",
      "dense_34 (Dense)             (None, 4)                 12        \n",
      "_________________________________________________________________\n",
      "dense_35 (Dense)             (None, 2)                 10        \n",
      "=================================================================\n",
      "Total params: 32\n",
      "Trainable params: 32\n",
      "Non-trainable params: 0\n",
      "_________________________________________________________________\n",
      "Epoch 1/32\n",
      "143/143 [==============================] - 0s 3ms/step - loss: 0.6932 - acc: 0.6332 - f1_m: 0.9754 - precision_m: 0.9523 - recall_m: 1.0000 - val_loss: 0.6931 - val_acc: 0.8610 - val_f1_m: 0.9718 - val_precision_m: 0.9456 - val_recall_m: 1.0000\n",
      "Epoch 2/32\n",
      "143/143 [==============================] - 0s 2ms/step - loss: 0.6931 - acc: 0.6828 - f1_m: 0.9754 - precision_m: 0.9523 - recall_m: 1.0000 - val_loss: 0.6931 - val_acc: 0.9006 - val_f1_m: 0.9718 - val_precision_m: 0.9456 - val_recall_m: 1.0000\n",
      "Epoch 3/32\n",
      "143/143 [==============================] - 0s 2ms/step - loss: 0.6931 - acc: 0.6249 - f1_m: 0.9754 - precision_m: 0.9523 - recall_m: 1.0000 - val_loss: 0.6931 - val_acc: 0.0602 - val_f1_m: 0.9718 - val_precision_m: 0.9456 - val_recall_m: 1.0000\n",
      "Epoch 4/32\n",
      "143/143 [==============================] - 0s 2ms/step - loss: 0.6931 - acc: 0.5914 - f1_m: 0.9754 - precision_m: 0.9523 - recall_m: 1.0000 - val_loss: 0.6931 - val_acc: 0.0572 - val_f1_m: 0.9718 - val_precision_m: 0.9456 - val_recall_m: 1.0000\n",
      "Epoch 5/32\n",
      "143/143 [==============================] - 0s 2ms/step - loss: 0.6931 - acc: 0.6614 - f1_m: 0.9753 - precision_m: 0.9523 - recall_m: 1.0000 - val_loss: 0.6931 - val_acc: 0.9314 - val_f1_m: 0.9718 - val_precision_m: 0.9456 - val_recall_m: 1.0000\n",
      "Epoch 6/32\n",
      "143/143 [==============================] - 0s 2ms/step - loss: 0.6931 - acc: 0.4989 - f1_m: 0.9744 - precision_m: 0.9506 - recall_m: 1.0000 - val_loss: 0.6931 - val_acc: 0.0686 - val_f1_m: 0.9718 - val_precision_m: 0.9456 - val_recall_m: 1.0000\n"
     ]
    }
   ],
   "source": [
    "print('Joint full model with one hot encoding, predicting deception, weighted by throughput')\n",
    "joint_full_model = create_joint_model(pred_df_full_worktime)\n",
    "joint_full_model.summary()\n",
    "history = joint_full_model.fit(x=pred_df_full_worktime, y=y_train_deception, epochs=32, \n",
    "                    batch_size=64, \n",
    "                    validation_data=(pred_df_full_worktime_test,y_test_deception), callbacks=[callback])"
   ]
  },
  {
   "cell_type": "code",
   "execution_count": 160,
   "metadata": {},
   "outputs": [],
   "source": [
    "y_test_rapport = np.asarray(y_test_rapport)\n",
    "y_train_rapport = np.asarray(y_train_rapport)\n"
   ]
  },
  {
   "cell_type": "code",
   "execution_count": 161,
   "metadata": {
    "scrolled": true
   },
   "outputs": [
    {
     "name": "stdout",
     "output_type": "stream",
     "text": [
      "Joint full model with one hot encoding, predicting rapport, weighted by throughput\n",
      "Model: \"functional_35\"\n",
      "_________________________________________________________________\n",
      "Layer (type)                 Output Shape              Param #   \n",
      "=================================================================\n",
      "input_13 (InputLayer)        [(None, 3)]               0         \n",
      "_________________________________________________________________\n",
      "dense_36 (Dense)             (None, 2)                 8         \n",
      "_________________________________________________________________\n",
      "dense_37 (Dense)             (None, 4)                 12        \n",
      "_________________________________________________________________\n",
      "dense_38 (Dense)             (None, 2)                 10        \n",
      "=================================================================\n",
      "Total params: 30\n",
      "Trainable params: 30\n",
      "Non-trainable params: 0\n",
      "_________________________________________________________________\n",
      "Epoch 1/32\n",
      "143/143 [==============================] - 0s 3ms/step - loss: 0.6932 - acc: 0.2500 - f1_m: 0.9244 - precision_m: 0.8611 - recall_m: 0.9999 - val_loss: 0.6931 - val_acc: 0.1658 - val_f1_m: 0.9231 - val_precision_m: 0.8580 - val_recall_m: 1.0000\n",
      "Epoch 2/32\n",
      "143/143 [==============================] - 0s 2ms/step - loss: 0.6931 - acc: 0.2122 - f1_m: 0.9258 - precision_m: 0.8628 - recall_m: 1.0000 - val_loss: 0.6931 - val_acc: 0.1513 - val_f1_m: 0.9231 - val_precision_m: 0.8580 - val_recall_m: 1.0000\n",
      "Epoch 3/32\n",
      "143/143 [==============================] - 0s 2ms/step - loss: 0.6931 - acc: 0.3079 - f1_m: 0.9243 - precision_m: 0.8611 - recall_m: 1.0000 - val_loss: 0.6931 - val_acc: 0.8588 - val_f1_m: 0.9231 - val_precision_m: 0.8580 - val_recall_m: 1.0000\n",
      "Epoch 4/32\n",
      "143/143 [==============================] - 0s 2ms/step - loss: 0.6931 - acc: 0.2918 - f1_m: 0.9258 - precision_m: 0.8628 - recall_m: 1.0000 - val_loss: 0.6931 - val_acc: 0.8588 - val_f1_m: 0.9231 - val_precision_m: 0.8580 - val_recall_m: 1.0000\n",
      "Epoch 5/32\n",
      "143/143 [==============================] - 0s 2ms/step - loss: 0.6931 - acc: 0.4132 - f1_m: 0.9200 - precision_m: 0.8581 - recall_m: 0.9930 - val_loss: 0.6931 - val_acc: 0.1429 - val_f1_m: 0.9231 - val_precision_m: 0.8580 - val_recall_m: 1.0000\n"
     ]
    }
   ],
   "source": [
    "print('Joint full model with one hot encoding, predicting rapport, weighted by throughput')\n",
    "joint_full_model = create_joint_model(pred_df_worktime)\n",
    "joint_full_model.summary()\n",
    "history = joint_full_model.fit(x=pred_df_worktime, y=y_train_rapport, epochs=32, \n",
    "                    batch_size=64, \n",
    "                    validation_data=(pred_df_worktime_test,y_test_rapport), callbacks=[callback])"
   ]
  },
  {
   "cell_type": "code",
   "execution_count": null,
   "metadata": {},
   "outputs": [],
   "source": []
  }
 ],
 "metadata": {
  "kernelspec": {
   "display_name": "tfgpu",
   "language": "python",
   "name": "tfgpu"
  },
  "language_info": {
   "codemirror_mode": {
    "name": "ipython",
    "version": 3
   },
   "file_extension": ".py",
   "mimetype": "text/x-python",
   "name": "python",
   "nbconvert_exporter": "python",
   "pygments_lexer": "ipython3",
   "version": "3.7.9"
  }
 },
 "nbformat": 4,
 "nbformat_minor": 4
}
