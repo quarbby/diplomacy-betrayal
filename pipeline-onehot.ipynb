{
 "cells": [
  {
   "cell_type": "code",
   "execution_count": 1,
   "metadata": {},
   "outputs": [
    {
     "name": "stderr",
     "output_type": "stream",
     "text": [
      "Using TensorFlow backend.\n"
     ]
    },
    {
     "name": "stdout",
     "output_type": "stream",
     "text": [
      "importing Jupyter notebook from metadata_options.ipynb\n",
      "importing Jupyter notebook from models_nn.ipynb\n"
     ]
    }
   ],
   "source": [
    "import pandas as pd\n",
    "import numpy as np\n",
    "\n",
    "from tensorflow.keras.utils import to_categorical\n",
    "from tensorflow.keras.layers import LSTM, Input, InputLayer, Dropout, Dense, Flatten, Embedding, Add, Concatenate\n",
    "from tensorflow.keras import Sequential\n",
    "from tensorflow.keras.models import Model\n",
    "from tensorflow.keras.callbacks import EarlyStopping\n",
    "import tensorflow as tf\n",
    "\n",
    "# from sklearn.model_selection import train_test_split\n",
    "from sklearn.model_selection import StratifiedShuffleSplit\n",
    "from sklearn.utils import class_weight\n",
    "\n",
    "from sklearn.ensemble import RandomForestClassifier\n",
    "from sklearn.metrics import classification_report\n",
    "from tensorflow.keras.preprocessing.text import Tokenizer\n",
    "from sklearn.preprocessing import LabelEncoder\n",
    "from keras.preprocessing.sequence import pad_sequences\n",
    "from tensorflow.keras.optimizers import RMSprop\n",
    "\n",
    "import matplotlib.pyplot as plt\n",
    "\n",
    "from sklearn.metrics import precision_recall_fscore_support\n",
    "\n",
    "## Own code \n",
    "import import_ipynb\n",
    "import metadata_options\n",
    "import models_nn"
   ]
  },
  {
   "cell_type": "code",
   "execution_count": 2,
   "metadata": {},
   "outputs": [],
   "source": [
    "# Data with Throughput & WorkTime\n",
    "df = pd.read_csv('./data/kokil dec 6 reprepare/conf_pc_worker_sem.csv')\n",
    "df = df.dropna()"
   ]
  },
  {
   "cell_type": "code",
   "execution_count": 3,
   "metadata": {},
   "outputs": [
    {
     "name": "stdout",
     "output_type": "stream",
     "text": [
      "TP4 + k: weighted by 1 upright k-power U-shaped variance per set of OHE, i.e. (a, b, c, d) -> (w*a, w*b, w*c, w*d)\n",
      "Plot below: old throughput (x-axis) vs new throughput (y-axis)\n",
      "WT2: weighted by 1 linear variance per set of OHE, i.e. (a, b, c, d) -> (w*a, w*b, w*c, w*d)\n",
      "PC3: weighted by 1 PC agreement weight per annotation in each OHE, i.e. (a, b, c, d) -> (w1*a, w2*b, w3*c, w4*d)\n",
      "TL2: weighted by 1 normalised number of words per set of OHE, i.e. (a, b, c, d) -> (w*a, w*b, w*c, w*d)\n",
      "# RAND_NORM: weighted by 1 normally distributed random number between 0 to 1 per set of OHE, i.e. (a, b, c, d) -> (w*a, w*b, w*c, w*d)\n"
     ]
    },
    {
     "data": {
      "image/png": "[encoded data removed]",
      "text/plain": [
       "<Figure size 432x288 with 1 Axes>"
      ]
     },
     "metadata": {
      "needs_background": "light"
     },
     "output_type": "display_data"
    }
   ],
   "source": [
    "######################################\n",
    "## Weighted Onehot Encoding options ##\n",
    "######################################\n",
    "\n",
    "##############\n",
    "# Throughput #\n",
    "##############\n",
    "# TP1: weighted by 1 average per set of OHE, i.e. (a, b, c, d) -> (w*a, w*b, w*c, w*d)\n",
    "# TP2: weighted by 1 linear variance per set of OHE, i.e. (a, b, c, d) -> (w*a, w*b, w*c, w*d)\n",
    "# TP3 + k: weighted by 1 inverted k-power U-shaped variance per set of OHE, i.e. (a, b, c, d) -> (w*a, w*b, w*c, w*d)\n",
    "# TP4 + k: weighted by 1 upright k-power U-shaped variance per set of OHE, i.e. (a, b, c, d) -> (w*a, w*b, w*c, w*d)\n",
    "# (For TP3 & TP4, k=1 results in V-shaped variance, and as k>1 increases, sides will curve into U-shaped variance)\n",
    "\n",
    "############\n",
    "# Worktime #\n",
    "############\n",
    "# WT1: weighted by 1 average per set of OHE, i.e. (a, b, c, d) -> (w*a, w*b, w*c, w*d)\n",
    "# WT2: weighted by 1 linear variance per set of OHE, i.e. (a, b, c, d) -> (w*a, w*b, w*c, w*d)\n",
    "\n",
    "################\n",
    "# PC agreement #\n",
    "################\n",
    "# PC1: weighted by 1 average per set of OHE, i.e. (a, b, c, d) -> (w*a, w*b, w*c, w*d)\n",
    "# PC2: weighted by 1 linear variance per set of OHE, i.e. (a, b, c, d) -> (w*a, w*b, w*c, w*d)\n",
    "# PC3: weighted by 1 PC agreement weight per annotation in each OHE, i.e. (a, b, c, d) -> (w1*a, w2*b, w3*c, w4*d)\n",
    "\n",
    "#####################\n",
    "# Input text length #\n",
    "#####################\n",
    "# TL1: weighted by 1 normalised number of characters per set of OHE, i.e. (a, b, c, d) -> (w*a, w*b, w*c, w*d)\n",
    "# TL2: weighted by 1 normalised number of words per set of OHE, i.e. (a, b, c, d) -> (w*a, w*b, w*c, w*d)\n",
    "\n",
    "###################\n",
    "# Special Options #\n",
    "###################\n",
    "# SP1: weighted by average of TP1 and TP2 per set of OHE, i.e. (a, b, c, d) -> (w*a, w*b, w*c, w*d)\n",
    "# SP2: weighted by average of WT1 and WT2 per set of OHE, i.e. (a, b, c, d) -> (w*a, w*b, w*c, w*d)\n",
    "# SP3: weighted by average of PC1 and PC2 per set of OHE, i.e. (a, b, c, d) -> (w*a, w*b, w*c, w*d)\n",
    "# RAND_UNI: weighted by 1 uniformly distributed random number between 0 to 1 per set of OHE, i.e. (a, b, c, d) -> (w*a, w*b, w*c, w*d)\n",
    "# RAND_NORM: weighted by 1 normally distributed random number between 0 to 1 per set of OHE, i.e. (a, b, c, d) -> (w*a, w*b, w*c, w*d)\n",
    "\n",
    "# Select 1 option from each of the few variants above, e.g. TP2, WT1, PC3, TL1, SP3, and input into function\n",
    "# set_OHE_pipeline_options. If not selecting TP3 or TP4, input k (option_k) will be ignored. After\n",
    "# editing the options, run the entire notebook for results accordingly.\n",
    "\n",
    "# Edit option choices here\n",
    "throughput_option = 'TP4'\n",
    "worktime_option = 'WT2'\n",
    "pc_agreement_option = 'PC3'\n",
    "textlength_option = 'TL2'\n",
    "special_option = 'RAND_NORM'\n",
    "k_option_for_tp = 3\n",
    "\n",
    "df_throughput, df_worktime, df_agreement, df_textlength, df_special = metadata_options.set_OHE_pipeline_options(df, throughput_option, worktime_option, pc_agreement_option, textlength_option, special_option, k_option_for_tp)"
   ]
  },
  {
   "cell_type": "code",
   "execution_count": 4,
   "metadata": {},
   "outputs": [],
   "source": [
    "######################################\n",
    "## Model Options ##\n",
    "######################################\n",
    "# options: lstm, cnn, lstm-attn\n",
    "\n",
    "model_name = 'lstm-attn'\n",
    "models_nn.MODEL_NAME = model_name"
   ]
  },
  {
   "cell_type": "code",
   "execution_count": 5,
   "metadata": {
    "scrolled": true
   },
   "outputs": [
    {
     "data": {
      "text/html": [
       "<div>\n",
       "<style scoped>\n",
       "    .dataframe tbody tr th:only-of-type {\n",
       "        vertical-align: middle;\n",
       "    }\n",
       "\n",
       "    .dataframe tbody tr th {\n",
       "        vertical-align: top;\n",
       "    }\n",
       "\n",
       "    .dataframe thead th {\n",
       "        text-align: right;\n",
       "    }\n",
       "</style>\n",
       "<table border=\"1\" class=\"dataframe\">\n",
       "  <thead>\n",
       "    <tr style=\"text-align: right;\">\n",
       "      <th></th>\n",
       "      <th>Input.sentence_id</th>\n",
       "      <th>HITId</th>\n",
       "      <th>Input.convo_id</th>\n",
       "      <th>Input.train_test_val</th>\n",
       "      <th>Input.msg_id</th>\n",
       "      <th>Input.timestamp</th>\n",
       "      <th>Input.full_text</th>\n",
       "      <th>Input.speaker</th>\n",
       "      <th>Input.reply_to</th>\n",
       "      <th>Input.speaker_intention</th>\n",
       "      <th>...</th>\n",
       "      <th>prt</th>\n",
       "      <th>punct</th>\n",
       "      <th>purpcl</th>\n",
       "      <th>quantmod</th>\n",
       "      <th>rcmod</th>\n",
       "      <th>rel</th>\n",
       "      <th>root</th>\n",
       "      <th>tmod</th>\n",
       "      <th>xcomp</th>\n",
       "      <th>xsubj</th>\n",
       "    </tr>\n",
       "  </thead>\n",
       "  <tbody>\n",
       "    <tr>\n",
       "      <th>5</th>\n",
       "      <td>11</td>\n",
       "      <td>3MG8450X2OASXZ0WO9O5AH70GU3UPA</td>\n",
       "      <td>Game1-italy-germany</td>\n",
       "      <td>Train</td>\n",
       "      <td>Game1-italy-germany-3</td>\n",
       "      <td>87</td>\n",
       "      <td>It seems like there are a lot of ways that cou...</td>\n",
       "      <td>germany-Game1</td>\n",
       "      <td>Game1-italy-germany-2</td>\n",
       "      <td>Truth</td>\n",
       "      <td>...</td>\n",
       "      <td>0.0</td>\n",
       "      <td>0.0</td>\n",
       "      <td>0.0</td>\n",
       "      <td>0.0</td>\n",
       "      <td>1.0</td>\n",
       "      <td>0.0</td>\n",
       "      <td>1.0</td>\n",
       "      <td>0.0</td>\n",
       "      <td>0.0</td>\n",
       "      <td>0.0</td>\n",
       "    </tr>\n",
       "    <tr>\n",
       "      <th>6</th>\n",
       "      <td>12</td>\n",
       "      <td>38G0E1M85M552JXSALX4G9WI2I6UVX</td>\n",
       "      <td>Game1-italy-germany</td>\n",
       "      <td>Train</td>\n",
       "      <td>Game1-italy-germany-7</td>\n",
       "      <td>117</td>\n",
       "      <td>Sorry Italy I've been away doing, um, German t...</td>\n",
       "      <td>germany-Game1</td>\n",
       "      <td>Game1-italy-germany-6</td>\n",
       "      <td>Truth</td>\n",
       "      <td>...</td>\n",
       "      <td>0.0</td>\n",
       "      <td>0.0</td>\n",
       "      <td>0.0</td>\n",
       "      <td>0.0</td>\n",
       "      <td>0.0</td>\n",
       "      <td>0.0</td>\n",
       "      <td>1.0</td>\n",
       "      <td>0.0</td>\n",
       "      <td>0.0</td>\n",
       "      <td>0.0</td>\n",
       "    </tr>\n",
       "    <tr>\n",
       "      <th>7</th>\n",
       "      <td>14</td>\n",
       "      <td>3HYV4299H0WQ2B4TCS7PKDQ75WHE81</td>\n",
       "      <td>Game1-italy-germany</td>\n",
       "      <td>Train</td>\n",
       "      <td>Game1-italy-germany-8</td>\n",
       "      <td>119</td>\n",
       "      <td>I don't think I'm ready to go for that idea, h...</td>\n",
       "      <td>germany-Game1</td>\n",
       "      <td>Game1-italy-germany-7</td>\n",
       "      <td>Truth</td>\n",
       "      <td>...</td>\n",
       "      <td>0.0</td>\n",
       "      <td>0.0</td>\n",
       "      <td>0.0</td>\n",
       "      <td>0.0</td>\n",
       "      <td>0.0</td>\n",
       "      <td>0.0</td>\n",
       "      <td>1.0</td>\n",
       "      <td>0.0</td>\n",
       "      <td>1.0</td>\n",
       "      <td>0.0</td>\n",
       "    </tr>\n",
       "    <tr>\n",
       "      <th>8</th>\n",
       "      <td>15</td>\n",
       "      <td>3XU9MCX6VOC4P079IHIO9TCNYLGR2P</td>\n",
       "      <td>Game1-italy-germany</td>\n",
       "      <td>Train</td>\n",
       "      <td>Game1-italy-germany-9</td>\n",
       "      <td>121</td>\n",
       "      <td>I am pretty conflicted about whether to guess ...</td>\n",
       "      <td>italy-Game1</td>\n",
       "      <td>Game1-italy-germany-8</td>\n",
       "      <td>Truth</td>\n",
       "      <td>...</td>\n",
       "      <td>0.0</td>\n",
       "      <td>0.0</td>\n",
       "      <td>0.0</td>\n",
       "      <td>0.0</td>\n",
       "      <td>0.0</td>\n",
       "      <td>0.0</td>\n",
       "      <td>1.0</td>\n",
       "      <td>0.0</td>\n",
       "      <td>0.0</td>\n",
       "      <td>0.0</td>\n",
       "    </tr>\n",
       "    <tr>\n",
       "      <th>9</th>\n",
       "      <td>16</td>\n",
       "      <td>3FVBZG9CLJEK4WQS7P2GC1H2EEQH0Q</td>\n",
       "      <td>Game1-italy-germany</td>\n",
       "      <td>Train</td>\n",
       "      <td>Game1-italy-germany-9</td>\n",
       "      <td>121</td>\n",
       "      <td>I am going to take it literally and say  even ...</td>\n",
       "      <td>italy-Game1</td>\n",
       "      <td>Game1-italy-germany-8</td>\n",
       "      <td>Truth</td>\n",
       "      <td>...</td>\n",
       "      <td>0.0</td>\n",
       "      <td>0.0</td>\n",
       "      <td>0.0</td>\n",
       "      <td>0.0</td>\n",
       "      <td>0.0</td>\n",
       "      <td>0.0</td>\n",
       "      <td>1.0</td>\n",
       "      <td>0.0</td>\n",
       "      <td>2.0</td>\n",
       "      <td>1.0</td>\n",
       "    </tr>\n",
       "  </tbody>\n",
       "</table>\n",
       "<p>5 rows × 862 columns</p>\n",
       "</div>"
      ],
      "text/plain": [
       "   Input.sentence_id                           HITId       Input.convo_id  \\\n",
       "5                 11  3MG8450X2OASXZ0WO9O5AH70GU3UPA  Game1-italy-germany   \n",
       "6                 12  38G0E1M85M552JXSALX4G9WI2I6UVX  Game1-italy-germany   \n",
       "7                 14  3HYV4299H0WQ2B4TCS7PKDQ75WHE81  Game1-italy-germany   \n",
       "8                 15  3XU9MCX6VOC4P079IHIO9TCNYLGR2P  Game1-italy-germany   \n",
       "9                 16  3FVBZG9CLJEK4WQS7P2GC1H2EEQH0Q  Game1-italy-germany   \n",
       "\n",
       "  Input.train_test_val           Input.msg_id  Input.timestamp  \\\n",
       "5                Train  Game1-italy-germany-3               87   \n",
       "6                Train  Game1-italy-germany-7              117   \n",
       "7                Train  Game1-italy-germany-8              119   \n",
       "8                Train  Game1-italy-germany-9              121   \n",
       "9                Train  Game1-italy-germany-9              121   \n",
       "\n",
       "                                     Input.full_text  Input.speaker  \\\n",
       "5  It seems like there are a lot of ways that cou...  germany-Game1   \n",
       "6  Sorry Italy I've been away doing, um, German t...  germany-Game1   \n",
       "7  I don't think I'm ready to go for that idea, h...  germany-Game1   \n",
       "8  I am pretty conflicted about whether to guess ...    italy-Game1   \n",
       "9  I am going to take it literally and say  even ...    italy-Game1   \n",
       "\n",
       "          Input.reply_to Input.speaker_intention  ...  prt punct  purpcl  \\\n",
       "5  Game1-italy-germany-2                   Truth  ...  0.0   0.0     0.0   \n",
       "6  Game1-italy-germany-6                   Truth  ...  0.0   0.0     0.0   \n",
       "7  Game1-italy-germany-7                   Truth  ...  0.0   0.0     0.0   \n",
       "8  Game1-italy-germany-8                   Truth  ...  0.0   0.0     0.0   \n",
       "9  Game1-italy-germany-8                   Truth  ...  0.0   0.0     0.0   \n",
       "\n",
       "   quantmod  rcmod  rel  root  tmod xcomp  xsubj  \n",
       "5       0.0    1.0  0.0   1.0   0.0   0.0    0.0  \n",
       "6       0.0    0.0  0.0   1.0   0.0   0.0    0.0  \n",
       "7       0.0    0.0  0.0   1.0   0.0   1.0    0.0  \n",
       "8       0.0    0.0  0.0   1.0   0.0   0.0    0.0  \n",
       "9       0.0    0.0  0.0   1.0   0.0   2.0    1.0  \n",
       "\n",
       "[5 rows x 862 columns]"
      ]
     },
     "execution_count": 5,
     "metadata": {},
     "output_type": "execute_result"
    }
   ],
   "source": [
    "df.head()"
   ]
  },
  {
   "cell_type": "code",
   "execution_count": 6,
   "metadata": {},
   "outputs": [],
   "source": [
    "# # Old train_test_split code\n",
    "# train, test, indices_train, indices_test = train_test_split(df, indices, test_size=0.2)\n",
    "\n",
    "# New train_test_split using Stratified Shaffled Splits\n",
    "y = df[\"Input.deception_quadrant\"].copy()\n",
    "X = df.drop([\"Input.deception_quadrant\"], axis=1)\n",
    "sss = StratifiedShuffleSplit(n_splits=1, test_size=0.2, random_state=0)\n",
    "splits_generator = sss.split(X, y)\n",
    "\n",
    "for train_idx, test_idx in splits_generator:\n",
    "    indices_train = train_idx\n",
    "    indices_test = test_idx\n",
    "\n",
    "train = df.take(indices_train)\n",
    "test = df.take(indices_test)"
   ]
  },
  {
   "cell_type": "code",
   "execution_count": 7,
   "metadata": {},
   "outputs": [
    {
     "name": "stdout",
     "output_type": "stream",
     "text": [
      "(11366, 862) (9092, 862) (2274, 862)\n"
     ]
    }
   ],
   "source": [
    "print(df.shape, train.shape, test.shape)"
   ]
  },
  {
   "cell_type": "code",
   "execution_count": 8,
   "metadata": {},
   "outputs": [
    {
     "name": "stdout",
     "output_type": "stream",
     "text": [
      "sklearn: 0.23.2\n"
     ]
    }
   ],
   "source": [
    "# check scikit-learn version\n",
    "import sklearn\n",
    "print('sklearn: %s' % sklearn.__version__)"
   ]
  },
  {
   "cell_type": "code",
   "execution_count": 9,
   "metadata": {},
   "outputs": [
    {
     "name": "stderr",
     "output_type": "stream",
     "text": [
      "C:\\Users\\lynne\\anaconda3\\envs\\tf-gpu\\lib\\site-packages\\sklearn\\utils\\validation.py:70: FutureWarning: Pass classes=[0 1], y=[1 1 1 ... 1 1 1] as keyword args. From version 0.25 passing these as positional arguments will result in an error\n",
      "  FutureWarning)\n",
      "C:\\Users\\lynne\\anaconda3\\envs\\tf-gpu\\lib\\site-packages\\sklearn\\utils\\validation.py:70: FutureWarning: Pass classes=[0. 1.], y=[1.0, 1.0, 1.0, 1.0, 1.0, 1.0, 0.0, 1.0, 1.0, 1.0, 1.0, 1.0, 1.0, 1.0, 1.0, 1.0, 1.0, 1.0, 1.0, 1.0, 1.0, 1.0, 1.0, 1.0, 1.0, 1.0, 1.0, 1.0, 1.0, 1.0, 1.0, 1.0, 1.0, 1.0, 1.0, 1.0, 1.0, 1.0, 1.0, 1.0, 0.0, 1.0, 1.0, 0.0, 0.0, 1.0, 1.0, 1.0, 1.0, 1.0, 1.0, 1.0, 1.0, 1.0, 1.0, 1.0, 1.0, 0.0, 1.0, 1.0, 1.0, 1.0, 1.0, 1.0, 0.0, 1.0, 1.0, 1.0, 1.0, 1.0, 0.0, 1.0, 0.0, 1.0, 1.0, 1.0, 1.0, 1.0, 0.0, 1.0, 0.0, 1.0, 1.0, 1.0, 1.0, 0.0, 1.0, 1.0, 1.0, 1.0, 1.0, 1.0, 1.0, 1.0, 1.0, 0.0, 1.0, 1.0, 1.0, 1.0, 1.0, 0.0, 1.0, 1.0, 1.0, 1.0, 1.0, 1.0, 1.0, 1.0, 0.0, 1.0, 1.0, 1.0, 1.0, 1.0, 1.0, 0.0, 1.0, 1.0, 1.0, 1.0, 1.0, 1.0, 1.0, 1.0, 1.0, 1.0, 1.0, 1.0, 1.0, 1.0, 1.0, 1.0, 1.0, 1.0, 1.0, 1.0, 1.0, 1.0, 1.0, 0.0, 1.0, 1.0, 1.0, 1.0, 1.0, 0.0, 1.0, 1.0, 1.0, 1.0, 1.0, 1.0, 0.0, 1.0, 1.0, 1.0, 1.0, 1.0, 1.0, 1.0, 1.0, 0.0, 1.0, 1.0, 1.0, 1.0, 1.0, 1.0, 1.0, 1.0, 1.0, 1.0, 1.0, 1.0, 1.0, 1.0, 1.0, 1.0, 1.0, 1.0, 1.0, 1.0, 1.0, 0.0, 1.0, 1.0, 1.0, 1.0, 1.0, 1.0, 0.0, 1.0, 1.0, 1.0, 1.0, 1.0, 1.0, 1.0, 0.0, 1.0, 1.0, 0.0, 1.0, 0.0, 1.0, 1.0, 1.0, 1.0, 1.0, 1.0, 1.0, 0.0, 1.0, 1.0, 1.0, 0.0, 1.0, 1.0, 1.0, 0.0, 1.0, 1.0, 1.0, 0.0, 1.0, 1.0, 0.0, 1.0, 1.0, 1.0, 1.0, 1.0, 1.0, 1.0, 0.0, 1.0, 0.0, 1.0, 1.0, 1.0, 0.0, 1.0, 1.0, 1.0, 1.0, 1.0, 1.0, 1.0, 1.0, 1.0, 0.0, 1.0, 1.0, 0.0, 1.0, 1.0, 0.0, 0.0, 1.0, 0.0, 1.0, 1.0, 1.0, 1.0, 1.0, 1.0, 1.0, 0.0, 1.0, 1.0, 1.0, 1.0, 1.0, 1.0, 0.0, 1.0, 0.0, 1.0, 1.0, 1.0, 1.0, 1.0, 1.0, 1.0, 1.0, 1.0, 0.0, 1.0, 1.0, 1.0, 1.0, 1.0, 1.0, 1.0, 1.0, 0.0, 1.0, 1.0, 1.0, 1.0, 0.0, 1.0, 1.0, 0.0, 1.0, 1.0, 1.0, 1.0, 1.0, 1.0, 1.0, 1.0, 1.0, 1.0, 1.0, 1.0, 1.0, 1.0, 1.0, 1.0, 1.0, 1.0, 1.0, 1.0, 1.0, 1.0, 1.0, 1.0, 1.0, 1.0, 1.0, 0.0, 1.0, 1.0, 1.0, 1.0, 1.0, 1.0, 1.0, 1.0, 1.0, 1.0, 1.0, 0.0, 1.0, 1.0, 1.0, 1.0, 1.0, 1.0, 1.0, 1.0, 1.0, 0.0, 1.0, 0.0, 1.0, 1.0, 1.0, 1.0, 1.0, 1.0, 1.0, 0.0, 1.0, 0.0, 1.0, 1.0, 1.0, 1.0, 0.0, 1.0, 1.0, 0.0, 1.0, 1.0, 1.0, 1.0, 1.0, 1.0, 1.0, 0.0, 1.0, 1.0, 1.0, 0.0, 1.0, 1.0, 1.0, 1.0, 1.0, 1.0, 0.0, 1.0, 1.0, 1.0, 1.0, 1.0, 1.0, 1.0, 1.0, 0.0, 1.0, 1.0, 1.0, 1.0, 0.0, 1.0, 1.0, 1.0, 1.0, 1.0, 1.0, 1.0, 0.0, 1.0, 1.0, 1.0, 1.0, 1.0, 0.0, 1.0, 1.0, 1.0, 1.0, 0.0, 1.0, 1.0, 1.0, 0.0, 0.0, 1.0, 1.0, 1.0, 1.0, 1.0, 1.0, 1.0, 0.0, 1.0, 1.0, 1.0, 1.0, 1.0, 1.0, 1.0, 0.0, 1.0, 1.0, 1.0, 1.0, 1.0, 1.0, 1.0, 0.0, 0.0, 1.0, 1.0, 1.0, 1.0, 1.0, 1.0, 1.0, 0.0, 1.0, 1.0, 1.0, 1.0, 0.0, 1.0, 1.0, 0.0, 1.0, 1.0, 1.0, 1.0, 1.0, 1.0, 1.0, 1.0, 1.0, 1.0, 1.0, 1.0, 1.0, 1.0, 1.0, 1.0, 1.0, 1.0, 1.0, 1.0, 1.0, 1.0, 0.0, 1.0, 1.0, 1.0, 1.0, 1.0, 1.0, 0.0, 1.0, 1.0, 1.0, 1.0, 1.0, 1.0, 1.0, 1.0, 1.0, 1.0, 1.0, 1.0, 0.0, 1.0, 1.0, 1.0, 1.0, 1.0, 1.0, 1.0, 1.0, 1.0, 1.0, 1.0, 1.0, 1.0, 1.0, 1.0, 1.0, 1.0, 1.0, 0.0, 1.0, 1.0, 0.0, 1.0, 1.0, 1.0, 1.0, 1.0, 1.0, 1.0, 1.0, 1.0, 1.0, 1.0, 1.0, 1.0, 1.0, 1.0, 1.0, 1.0, 1.0, 1.0, 0.0, 1.0, 1.0, 1.0, 1.0, 1.0, 1.0, 1.0, 1.0, 1.0, 0.0, 0.0, 1.0, 1.0, 0.0, 1.0, 1.0, 1.0, 1.0, 1.0, 0.0, 1.0, 1.0, 0.0, 1.0, 1.0, 1.0, 1.0, 1.0, 0.0, 1.0, 1.0, 1.0, 1.0, 1.0, 1.0, 0.0, 0.0, 1.0, 1.0, 1.0, 1.0, 1.0, 1.0, 1.0, 1.0, 1.0, 1.0, 1.0, 1.0, 0.0, 1.0, 1.0, 1.0, 1.0, 1.0, 1.0, 1.0, 1.0, 1.0, 1.0, 0.0, 0.0, 1.0, 1.0, 1.0, 1.0, 1.0, 1.0, 1.0, 1.0, 1.0, 1.0, 1.0, 1.0, 1.0, 1.0, 0.0, 1.0, 1.0, 1.0, 1.0, 1.0, 1.0, 0.0, 1.0, 1.0, 1.0, 0.0, 1.0, 1.0, 1.0, 1.0, 1.0, 1.0, 1.0, 1.0, 1.0, 1.0, 1.0, 1.0, 1.0, 1.0, 1.0, 0.0, 1.0, 1.0, 0.0, 1.0, 1.0, 0.0, 1.0, 1.0, 1.0, 1.0, 1.0, 1.0, 1.0, 1.0, 0.0, 1.0, 0.0, 1.0, 1.0, 1.0, 0.0, 1.0, 1.0, 1.0, 1.0, 1.0, 1.0, 1.0, 1.0, 1.0, 1.0, 1.0, 1.0, 1.0, 1.0, 1.0, 1.0, 0.0, 1.0, 1.0, 1.0, 1.0, 1.0, 1.0, 1.0, 1.0, 1.0, 1.0, 1.0, 0.0, 0.0, 1.0, 1.0, 1.0, 1.0, 1.0, 0.0, 1.0, 1.0, 1.0, 1.0, 1.0, 1.0, 1.0, 1.0, 1.0, 1.0, 1.0, 1.0, 1.0, 1.0, 1.0, 1.0, 1.0, 1.0, 1.0, 1.0, 1.0, 1.0, 1.0, 1.0, 1.0, 1.0, 1.0, 1.0, 1.0, 1.0, 1.0, 1.0, 1.0, 1.0, 0.0, 0.0, 1.0, 1.0, 0.0, 1.0, 1.0, 1.0, 1.0, 1.0, 0.0, 1.0, 0.0, 1.0, 0.0, 1.0, 1.0, 1.0, 1.0, 1.0, 1.0, 1.0, 0.0, 1.0, 1.0, 0.0, 1.0, 1.0, 1.0, 1.0, 1.0, 1.0, 1.0, 1.0, 1.0, 1.0, 1.0, 1.0, 1.0, 1.0, 0.0, 1.0, 1.0, 1.0, 1.0, 1.0, 1.0, 1.0, 1.0, 1.0, 1.0, 1.0, 1.0, 1.0, 0.0, 1.0, 1.0, 1.0, 1.0, 1.0, 1.0, 1.0, 1.0, 1.0, 1.0, 1.0, 1.0, 1.0, 1.0, 1.0, 1.0, 1.0, 1.0, 1.0, 1.0, 1.0, 1.0, 1.0, 1.0, 1.0, 1.0, 1.0, 1.0, 1.0, 1.0, 1.0, 1.0, 1.0, 1.0, 1.0, 1.0, 1.0, 1.0, 1.0, 1.0, 1.0, 1.0, 1.0, 1.0, 1.0, 1.0, 1.0, 1.0, 1.0, 1.0, 0.0, 1.0, 1.0, 1.0, 1.0, 1.0, 1.0, 0.0, 1.0, 1.0, 1.0, 1.0, 1.0, 1.0, 1.0, 0.0, 1.0, 1.0, 1.0, 1.0, 0.0, 1.0, 0.0, 1.0, 1.0, 0.0, 1.0, 1.0, 1.0, 1.0, 1.0, 0.0, 1.0, 1.0, 1.0, 1.0, 1.0, 1.0, 1.0, 1.0, 1.0, 1.0, 1.0, 1.0, 1.0, 0.0, 1.0, 1.0, 1.0, 0.0, 0.0, 0.0, 1.0, 1.0, 1.0, 0.0, 1.0, 1.0, 1.0, 1.0, 1.0, 1.0, 1.0, 1.0, 1.0, 1.0, 0.0, 0.0, 1.0, 1.0, 1.0, 1.0, 0.0, 1.0, 1.0, 1.0, 1.0, 1.0, 0.0, 1.0, 1.0, 1.0, 1.0, 1.0, 1.0, 1.0, 0.0, 1.0, 1.0, 1.0, 1.0, 1.0, 0.0, 1.0, 1.0, 1.0, 1.0, 1.0, 1.0, 1.0, 1.0, 1.0, 1.0, 1.0, 1.0, 1.0, 1.0, 1.0, 1.0, 1.0, 1.0, 1.0, 1.0, 1.0, 1.0, 1.0, 1.0, 0.0, 0.0, 1.0, 1.0, 1.0, 1.0, 1.0, 1.0, 1.0, 0.0, 1.0, 1.0, 1.0, 1.0, 1.0, 1.0, 1.0, 1.0, 0.0, 1.0, 1.0, 1.0, 0.0, 1.0, 1.0, 1.0, 1.0, 1.0, 1.0, 1.0, 1.0, 1.0, 1.0, 1.0, 1.0, 1.0, 1.0, 1.0, 0.0, 1.0, 1.0, 1.0, 1.0, 1.0, 0.0, 1.0, 1.0, 1.0, 1.0, 1.0, 1.0, 1.0, 0.0, 1.0, 0.0, 1.0, 1.0, 1.0, 1.0, 1.0, 0.0, 1.0, 1.0, 0.0, 1.0, 1.0, 1.0, 1.0, 1.0, 1.0, 0.0, 1.0, 1.0, 1.0, 1.0, 1.0, 1.0, 1.0, 1.0, 1.0, 1.0, 1.0, 0.0, 0.0, 1.0, 1.0, 1.0, 1.0, 1.0, 0.0, 1.0, 1.0, 1.0, 1.0, 1.0, 1.0, 1.0, 1.0, 1.0, 1.0, 1.0, 1.0, 1.0, 0.0, 1.0, 1.0, 1.0, 1.0, 1.0, 1.0, 1.0, 0.0, 1.0, 1.0, 1.0, 1.0, 1.0, 1.0, 1.0, 1.0, 1.0, 0.0, 1.0, 0.0, 1.0, 1.0, 1.0, 0.0, 1.0, 1.0, 1.0, 1.0, 1.0, 1.0, 1.0, 1.0, 1.0, 1.0, 1.0, 1.0, 0.0, 0.0, 1.0, 1.0, 0.0, 1.0, 1.0, 1.0, 0.0, 1.0, 1.0, 1.0, 1.0, 1.0, 1.0, 1.0, 1.0, 1.0, 0.0, 1.0, 1.0, 1.0, 1.0, 0.0, 1.0, 1.0, 1.0, 1.0, 0.0, 0.0, 1.0, 1.0, 1.0, 1.0, 1.0, 1.0, 1.0, 1.0, 1.0, 0.0, 1.0, 0.0, 1.0, 1.0, 1.0, 1.0, 1.0, 1.0, 1.0, 0.0, 1.0, 1.0, 0.0, 1.0, 0.0, 1.0, 1.0, 1.0, 1.0, 1.0, 1.0, 1.0, 0.0, 1.0, 1.0, 1.0, 1.0, 1.0, 1.0, 1.0, 1.0, 1.0, 1.0, 1.0, 1.0, 1.0, 0.0, 1.0, 0.0, 0.0, 1.0, 1.0, 1.0, 1.0, 1.0, 1.0, 1.0, 1.0, 1.0, 1.0, 1.0, 1.0, 1.0, 1.0, 1.0, 1.0, 1.0, 1.0, 1.0, 0.0, 1.0, 1.0, 1.0, 1.0, 1.0, 1.0, 0.0, 1.0, 1.0, 1.0, 1.0, 1.0, 1.0, 1.0, 1.0, 1.0, 1.0, 1.0, 1.0, 1.0, 0.0, 0.0, 1.0, 1.0, 1.0, 1.0, 1.0, 1.0, 1.0, 1.0, 1.0, 1.0, 1.0, 1.0, 1.0, 1.0, 1.0, 0.0, 1.0, 1.0, 1.0, 1.0, 1.0, 1.0, 0.0, 1.0, 1.0, 1.0, 1.0, 1.0, 1.0, 1.0, 0.0, 1.0, 1.0, 0.0, 1.0, 1.0, 1.0, 0.0, 1.0, 1.0, 0.0, 1.0, 1.0, 1.0, 1.0, 1.0, 1.0, 1.0, 1.0, 0.0, 1.0, 1.0, 1.0, 1.0, 1.0, 1.0, 1.0, 1.0, 1.0, 1.0, 1.0, 1.0, 1.0, 0.0, 1.0, 1.0, 1.0, 1.0, 1.0, 0.0, 1.0, 1.0, 1.0, 0.0, 1.0, 1.0, 1.0, 0.0, 1.0, 0.0, 1.0, 1.0, 1.0, 1.0, 0.0, 1.0, 0.0, 1.0, 0.0, 1.0, 1.0, 1.0, 0.0, 1.0, 1.0, 1.0, 1.0, 1.0, 0.0, 1.0, 1.0, 1.0, 1.0, 1.0, 1.0, 0.0, 1.0, 1.0, 0.0, 1.0, 1.0, 1.0, 1.0, 1.0, 1.0, 1.0, 0.0, 1.0, 1.0, 1.0, 1.0, 1.0, 1.0, 1.0, 1.0, 0.0, 1.0, 1.0, 0.0, 1.0, 1.0, 1.0, 1.0, 1.0, 1.0, 1.0, 1.0, 0.0, 1.0, 1.0, 1.0, 1.0, 1.0, 0.0, 1.0, 1.0, 1.0, 1.0, 1.0, 1.0, 1.0, 1.0, 1.0, 1.0, 1.0, 1.0, 1.0, 0.0, 1.0, 1.0, 1.0, 1.0, 0.0, 1.0, 1.0, 1.0, 1.0, 1.0, 1.0, 1.0, 1.0, 1.0, 1.0, 0.0, 1.0, 0.0, 1.0, 1.0, 1.0, 1.0, 1.0, 1.0, 1.0, 1.0, 0.0, 0.0, 0.0, 1.0, 1.0, 1.0, 0.0, 1.0, 1.0, 1.0, 1.0, 1.0, 0.0, 1.0, 1.0, 1.0, 1.0, 1.0, 1.0, 1.0, 1.0, 1.0, 1.0, 1.0, 1.0, 1.0, 1.0, 0.0, 1.0, 1.0, 1.0, 1.0, 1.0, 1.0, 1.0, 1.0, 1.0, 1.0, 0.0, 1.0, 1.0, 1.0, 1.0, 1.0, 1.0, 1.0, 1.0, 1.0, 1.0, 1.0, 1.0, 1.0, 1.0, 1.0, 1.0, 1.0, 1.0, 1.0, 1.0, 1.0, 1.0, 1.0, 1.0, 1.0, 1.0, 0.0, 1.0, 1.0, 0.0, 1.0, 0.0, 1.0, 1.0, 1.0, 0.0, 1.0, 1.0, 1.0, 1.0, 1.0, 1.0, 1.0, 1.0, 1.0, 1.0, 1.0, 1.0, 1.0, 1.0, 1.0, 1.0, 1.0, 1.0, 1.0, 1.0, 1.0, 1.0, 1.0, 0.0, 1.0, 1.0, 1.0, 1.0, 1.0, 1.0, 1.0, 1.0, 1.0, 0.0, 0.0, 1.0, 0.0, 1.0, 1.0, 1.0, 1.0, 1.0, 1.0, 1.0, 1.0, 1.0, 1.0, 1.0, 1.0, 1.0, 0.0, 1.0, 0.0, 1.0, 1.0, 1.0, 1.0, 1.0, 1.0, 0.0, 1.0, 1.0, 1.0, 1.0, 1.0, 1.0, 1.0, 1.0, 1.0, 1.0, 1.0, 1.0, 0.0, 1.0, 1.0, 1.0, 1.0, 1.0, 0.0, 1.0, 1.0, 1.0, 1.0, 1.0, 0.0, 1.0, 1.0, 1.0, 1.0, 0.0, 1.0, 0.0, 1.0, 1.0, 1.0, 1.0, 1.0, 1.0, 0.0, 1.0, 1.0, 0.0, 1.0, 0.0, 1.0, 1.0, 1.0, 1.0, 1.0, 1.0, 1.0, 1.0, 1.0, 1.0, 1.0, 1.0, 1.0, 1.0, 0.0, 1.0, 1.0, 1.0, 1.0, 1.0, 0.0, 0.0, 0.0, 1.0, 1.0, 1.0, 1.0, 1.0, 1.0, 1.0, 1.0, 0.0, 1.0, 1.0, 1.0, 1.0, 1.0, 1.0, 1.0, 1.0, 1.0, 0.0, 1.0, 0.0, 1.0, 1.0, 1.0, 1.0, 1.0, 1.0, 1.0, 1.0, 1.0, 1.0, 1.0, 1.0, 1.0, 0.0, 1.0, 1.0, 1.0, 1.0, 1.0, 1.0, 1.0, 1.0, 1.0, 1.0, 1.0, 1.0, 0.0, 1.0, 1.0, 1.0, 1.0, 1.0, 1.0, 1.0, 1.0, 1.0, 1.0, 1.0, 0.0, 1.0, 1.0, 1.0, 0.0, 1.0, 1.0, 1.0, 1.0, 1.0, 1.0, 1.0, 1.0, 1.0, 1.0, 0.0, 1.0, 1.0, 1.0, 1.0, 1.0, 1.0, 1.0, 1.0, 1.0, 0.0, 1.0, 1.0, 1.0, 1.0, 1.0, 1.0, 1.0, 1.0, 1.0, 1.0, 1.0, 0.0, 1.0, 1.0, 1.0, 1.0, 1.0, 1.0, 1.0, 1.0, 1.0, 0.0, 0.0, 1.0, 1.0, 1.0, 1.0, 1.0, 1.0, 1.0, 0.0, 1.0, 0.0, 1.0, 1.0, 1.0, 1.0, 1.0, 1.0, 1.0, 1.0, 1.0, 1.0, 1.0, 1.0, 1.0, 1.0, 1.0, 1.0, 0.0, 1.0, 1.0, 1.0, 1.0, 1.0, 1.0, 1.0, 1.0, 1.0, 1.0, 1.0, 0.0, 1.0, 1.0, 1.0, 1.0, 1.0, 0.0, 1.0, 1.0, 1.0, 1.0, 1.0, 1.0, 1.0, 1.0, 1.0, 1.0, 1.0, 0.0, 1.0, 1.0, 1.0, 1.0, 1.0, 0.0, 1.0, 0.0, 0.0, 1.0, 0.0, 1.0, 0.0, 1.0, 1.0, 1.0, 0.0, 1.0, 1.0, 1.0, 0.0, 0.0, 1.0, 1.0, 1.0, 1.0, 1.0, 0.0, 1.0, 1.0, 1.0, 0.0, 1.0, 1.0, 1.0, 0.0, 1.0, 1.0, 0.0, 1.0, 1.0, 1.0, 1.0, 1.0, 1.0, 1.0, 1.0, 1.0, 1.0, 1.0, 1.0, 1.0, 1.0, 1.0, 1.0, 1.0, 1.0, 1.0, 1.0, 0.0, 1.0, 1.0, 1.0, 1.0, 0.0, 1.0, 1.0, 1.0, 0.0, 1.0, 1.0, 0.0, 1.0, 0.0, 0.0, 1.0, 1.0, 1.0, 1.0, 1.0, 1.0, 1.0, 1.0, 1.0, 1.0, 1.0, 1.0, 1.0, 0.0, 1.0, 1.0, 1.0, 0.0, 0.0, 0.0, 0.0, 1.0, 1.0, 1.0, 1.0, 0.0, 1.0, 1.0, 1.0, 1.0, 1.0, 1.0, 0.0, 1.0, 1.0, 1.0, 1.0, 1.0, 0.0, 1.0, 1.0, 1.0, 1.0, 1.0, 1.0, 1.0, 1.0, 1.0, 1.0, 1.0, 1.0, 1.0, 1.0, 1.0, 1.0, 1.0, 0.0, 1.0, 1.0, 0.0, 1.0, 1.0, 1.0, 1.0, 1.0, 1.0, 1.0, 1.0, 1.0, 1.0, 1.0, 1.0, 1.0, 1.0, 1.0, 1.0, 1.0, 1.0, 1.0, 1.0, 1.0, 0.0, 1.0, 0.0, 1.0, 1.0, 1.0, 1.0, 1.0, 1.0, 1.0, 1.0, 0.0, 1.0, 1.0, 1.0, 0.0, 1.0, 1.0, 1.0, 1.0, 0.0, 1.0, 1.0, 0.0, 1.0, 1.0, 1.0, 1.0, 1.0, 1.0, 1.0, 1.0, 1.0, 1.0, 1.0, 1.0, 1.0, 1.0, 1.0, 1.0, 1.0, 1.0, 1.0, 1.0, 1.0, 1.0, 0.0, 1.0, 0.0, 1.0, 1.0, 1.0, 1.0, 1.0, 0.0, 1.0, 1.0, 1.0, 1.0, 0.0, 1.0, 1.0, 1.0, 1.0, 1.0, 1.0, 1.0, 1.0, 0.0, 1.0, 0.0, 1.0, 1.0, 1.0, 1.0, 0.0, 1.0, 0.0, 1.0, 1.0, 1.0, 1.0, 1.0, 1.0, 1.0, 1.0, 1.0, 1.0, 1.0, 1.0, 1.0, 0.0, 1.0, 1.0, 1.0, 1.0, 1.0, 1.0, 1.0, 1.0, 1.0, 1.0, 1.0, 1.0, 0.0, 1.0, 1.0, 1.0, 1.0, 1.0, 1.0, 0.0, 1.0, 1.0, 1.0, 1.0, 1.0, 1.0, 1.0, 1.0, 1.0, 1.0, 0.0, 1.0, 1.0, 1.0, 1.0, 1.0, 0.0, 1.0, 1.0, 1.0, 1.0, 1.0, 1.0, 1.0, 1.0, 1.0, 0.0, 1.0, 0.0, 1.0, 1.0, 1.0, 1.0, 1.0, 1.0, 1.0, 1.0, 0.0, 1.0, 1.0, 0.0, 1.0, 1.0, 0.0, 1.0, 0.0, 1.0, 1.0, 0.0, 1.0, 1.0, 1.0, 1.0, 1.0, 1.0, 1.0, 1.0, 1.0, 1.0, 1.0, 1.0, 0.0, 1.0, 1.0, 1.0, 1.0, 0.0, 1.0, 1.0, 1.0, 1.0, 1.0, 1.0, 1.0, 1.0, 1.0, 1.0, 1.0, 1.0, 1.0, 1.0, 1.0, 1.0, 1.0, 1.0, 1.0, 1.0, 1.0, 0.0, 0.0, 1.0, 1.0, 1.0, 1.0, 1.0, 1.0, 1.0, 1.0, 0.0, 0.0, 0.0, 1.0, 0.0, 1.0, 1.0, 1.0, 1.0, 0.0, 1.0, 1.0, 0.0, 1.0, 1.0, 1.0, 1.0, 1.0, 1.0, 1.0, 1.0, 1.0, 1.0, 1.0, 1.0, 1.0, 1.0, 1.0, 1.0, 1.0, 1.0, 1.0, 1.0, 1.0, 1.0, 1.0, 1.0, 1.0, 1.0, 1.0, 1.0, 1.0, 1.0, 0.0, 1.0, 1.0, 1.0, 1.0, 1.0, 1.0, 1.0, 1.0, 1.0, 1.0, 1.0, 1.0, 1.0, 1.0, 1.0, 1.0, 1.0, 0.0, 1.0, 1.0, 1.0, 0.0, 1.0, 1.0, 1.0, 1.0, 1.0, 1.0, 1.0, 1.0, 1.0, 1.0, 1.0, 1.0, 1.0, 1.0, 1.0, 1.0, 1.0, 1.0, 1.0, 1.0, 0.0, 1.0, 1.0, 1.0, 1.0, 1.0, 1.0, 1.0, 1.0, 1.0, 1.0, 1.0, 1.0, 1.0, 1.0, 1.0, 1.0, 1.0, 1.0, 0.0, 1.0, 1.0, 1.0, 1.0, 1.0, 1.0, 1.0, 1.0, 0.0, 1.0, 1.0, 0.0, 1.0, 1.0, 1.0, 1.0, 1.0, 0.0, 1.0, 1.0, 1.0, 1.0, 1.0, 1.0, 1.0, 1.0, 1.0, 1.0, 1.0, 1.0, 1.0, 1.0, 0.0, 1.0, 1.0, 1.0, 0.0, 1.0, 1.0, 1.0, 1.0, 1.0, 1.0, 1.0, 1.0, 1.0, 1.0, 1.0, 1.0, 1.0, 1.0, 0.0, 1.0, 1.0, 1.0, 1.0, 1.0, 0.0, 1.0, 1.0, 1.0, 1.0, 0.0, 1.0, 1.0, 1.0, 1.0, 1.0, 1.0, 1.0, 1.0, 1.0, 1.0, 1.0, 1.0, 0.0, 1.0, 1.0, 1.0, 1.0, 0.0, 1.0, 1.0, 1.0, 1.0, 1.0, 1.0, 1.0, 1.0, 1.0, 1.0, 1.0, 1.0, 1.0, 1.0, 1.0, 1.0, 1.0, 1.0, 1.0, 1.0, 0.0, 1.0, 1.0, 1.0, 1.0, 1.0, 1.0, 1.0, 1.0, 1.0, 0.0, 0.0, 1.0, 1.0, 1.0, 1.0, 1.0, 1.0, 1.0, 1.0, 1.0, 1.0, 1.0, 1.0, 1.0, 1.0, 1.0, 1.0, 1.0, 1.0, 1.0, 1.0, 1.0, 1.0, 0.0, 1.0, 1.0, 1.0, 1.0, 1.0, 1.0, 1.0, 0.0, 1.0, 1.0, 0.0, 1.0, 1.0, 1.0, 1.0, 1.0, 1.0, 1.0, 1.0, 1.0, 0.0, 0.0, 1.0, 1.0, 0.0, 0.0, 1.0, 1.0, 1.0, 0.0, 1.0, 0.0, 1.0, 1.0, 0.0, 1.0, 1.0, 1.0, 1.0, 1.0, 0.0, 1.0, 0.0, 0.0, 1.0, 1.0, 1.0, 1.0, 1.0, 1.0, 1.0, 1.0, 1.0, 1.0, 0.0, 1.0, 1.0, 1.0, 1.0, 1.0, 1.0, 1.0, 1.0, 1.0, 1.0, 1.0, 1.0, 0.0, 0.0, 1.0, 1.0, 0.0, 1.0, 1.0, 1.0, 1.0, 1.0, 1.0, 1.0, 1.0, 1.0, 1.0, 1.0, 0.0, 1.0, 1.0, 0.0, 1.0, 1.0, 1.0, 1.0, 1.0, 1.0, 1.0, 0.0, 1.0, 1.0, 1.0, 0.0, 1.0, 1.0, 1.0, 0.0, 1.0, 1.0, 1.0, 1.0, 1.0, 1.0, 1.0, 1.0, 1.0, 1.0, 1.0, 0.0, 1.0, 0.0, 1.0, 1.0, 1.0, 1.0, 1.0, 1.0, 1.0, 1.0, 1.0, 1.0, 1.0, 1.0, 1.0, 1.0, 0.0, 1.0, 1.0, 1.0, 1.0, 1.0, 1.0, 1.0, 1.0, 1.0, 0.0, 1.0, 1.0, 1.0, 0.0, 1.0, 1.0, 0.0, 1.0, 1.0, 0.0, 1.0, 1.0, 1.0, 1.0, 1.0, 1.0, 1.0, 1.0, 1.0, 1.0, 1.0, 1.0, 1.0, 1.0, 1.0, 1.0, 1.0, 1.0, 0.0, 1.0, 1.0, 1.0, 0.0, 1.0, 1.0, 1.0, 1.0, 1.0, 1.0, 1.0, 1.0, 1.0, 1.0, 1.0, 1.0, 0.0, 1.0, 1.0, 1.0, 1.0, 1.0, 1.0, 1.0, 1.0, 1.0, 1.0, 1.0, 1.0, 0.0, 1.0, 1.0, 0.0, 1.0, 0.0, 1.0, 1.0, 1.0, 1.0, 1.0, 0.0, 1.0, 1.0, 1.0, 1.0, 1.0, 1.0, 1.0, 0.0, 1.0, 0.0, 1.0, 1.0, 1.0, 1.0, 1.0, 1.0, 1.0, 1.0, 0.0, 0.0, 0.0, 1.0, 1.0, 1.0, 1.0, 1.0, 1.0, 1.0, 1.0, 1.0, 1.0, 1.0, 1.0, 1.0, 1.0, 1.0, 0.0, 1.0, 1.0, 1.0, 1.0, 0.0, 1.0, 1.0, 1.0, 1.0, 1.0, 1.0, 1.0, 1.0, 1.0, 1.0, 1.0, 1.0, 1.0, 1.0, 1.0, 1.0, 1.0, 1.0, 1.0, 1.0, 1.0, 1.0, 1.0, 0.0, 1.0, 1.0, 0.0, 1.0, 1.0, 1.0, 1.0, 0.0, 1.0, 1.0, 1.0, 1.0, 1.0, 1.0, 1.0, 1.0, 0.0, 1.0, 0.0, 0.0, 1.0, 1.0, 1.0, 1.0, 1.0, 1.0, 0.0, 1.0, 1.0, 1.0, 1.0, 1.0, 1.0, 1.0, 1.0, 1.0, 1.0, 1.0, 0.0, 0.0, 1.0, 1.0, 0.0, 1.0, 0.0, 1.0, 1.0, 1.0, 1.0, 1.0, 1.0, 1.0, 1.0, 1.0, 1.0, 1.0, 1.0, 1.0, 1.0, 0.0, 1.0, 1.0, 1.0, 1.0, 0.0, 1.0, 1.0, 1.0, 0.0, 1.0, 1.0, 0.0, 1.0, 1.0, 1.0, 1.0, 1.0, 1.0, 0.0, 1.0, 1.0, 1.0, 1.0, 1.0, 1.0, 1.0, 0.0, 1.0, 1.0, 1.0, 1.0, 1.0, 1.0, 1.0, 1.0, 1.0, 1.0, 0.0, 1.0, 1.0, 1.0, 0.0, 1.0, 1.0, 1.0, 1.0, 1.0, 1.0, 1.0, 0.0, 0.0, 1.0, 1.0, 1.0, 1.0, 1.0, 1.0, 1.0, 1.0, 1.0, 1.0, 0.0, 1.0, 1.0, 1.0, 1.0, 1.0, 1.0, 1.0, 1.0, 0.0, 1.0, 1.0, 1.0, 0.0, 1.0, 0.0, 1.0, 1.0, 1.0, 1.0, 1.0, 1.0, 1.0, 0.0, 1.0, 1.0, 1.0, 1.0, 1.0, 1.0, 1.0, 1.0, 1.0, 1.0, 1.0, 1.0, 0.0, 1.0, 1.0, 1.0, 1.0, 1.0, 1.0, 1.0, 1.0, 1.0, 1.0, 1.0, 1.0, 1.0, 1.0, 0.0, 1.0, 1.0, 1.0, 1.0, 1.0, 1.0, 1.0, 1.0, 1.0, 0.0, 0.0, 1.0, 1.0, 1.0, 1.0, 1.0, 1.0, 1.0, 1.0, 1.0, 1.0, 1.0, 1.0, 1.0, 1.0, 0.0, 1.0, 1.0, 1.0, 1.0, 1.0, 0.0, 1.0, 1.0, 1.0, 0.0, 1.0, 1.0, 1.0, 1.0, 1.0, 1.0, 1.0, 1.0, 1.0, 1.0, 1.0, 1.0, 1.0, 1.0, 1.0, 1.0, 1.0, 1.0, 1.0, 1.0, 1.0, 1.0, 1.0, 1.0, 1.0, 1.0, 0.0, 1.0, 1.0, 0.0, 1.0, 1.0, 1.0, 1.0, 1.0, 1.0, 1.0, 1.0, 1.0, 1.0, 1.0, 1.0, 1.0, 1.0, 1.0, 1.0, 0.0, 1.0, 1.0, 1.0, 1.0, 1.0, 1.0, 0.0, 1.0, 1.0, 0.0, 1.0, 0.0, 1.0, 1.0, 0.0, 1.0, 1.0, 1.0, 1.0, 1.0, 1.0, 1.0, 1.0, 1.0, 1.0, 1.0, 1.0, 1.0, 1.0, 1.0, 1.0, 0.0, 1.0, 1.0, 1.0, 1.0, 1.0, 0.0, 1.0, 1.0, 1.0, 1.0, 1.0, 1.0, 1.0, 1.0, 1.0, 1.0, 1.0, 1.0, 1.0, 1.0, 1.0, 1.0, 1.0, 1.0, 1.0, 0.0, 1.0, 1.0, 1.0, 1.0, 1.0, 1.0, 1.0, 1.0, 1.0, 1.0, 1.0, 1.0, 1.0, 1.0, 1.0, 1.0, 0.0, 1.0, 1.0, 1.0, 1.0, 0.0, 1.0, 1.0, 1.0, 1.0, 0.0, 1.0, 1.0, 1.0, 1.0, 1.0, 1.0, 1.0, 1.0, 1.0, 1.0, 1.0, 1.0, 1.0, 1.0, 1.0, 1.0, 1.0, 1.0, 1.0, 1.0, 1.0, 0.0, 0.0, 1.0, 0.0, 1.0, 0.0, 1.0, 0.0, 0.0, 1.0, 1.0, 1.0, 0.0, 1.0, 1.0, 1.0, 1.0, 1.0, 1.0, 1.0, 1.0, 1.0, 0.0, 1.0, 1.0, 1.0, 1.0, 1.0, 1.0, 1.0, 1.0, 1.0, 1.0, 1.0, 1.0, 1.0, 1.0, 1.0, 1.0, 1.0, 0.0, 1.0, 1.0, 1.0, 1.0, 1.0, 1.0, 0.0, 0.0, 0.0, 1.0, 1.0, 0.0, 0.0, 1.0, 0.0, 1.0, 1.0, 1.0, 1.0, 1.0, 1.0, 1.0, 1.0, 1.0, 0.0, 1.0, 0.0, 1.0, 0.0, 1.0, 1.0, 1.0, 0.0, 1.0, 1.0, 1.0, 1.0, 1.0, 1.0, 1.0, 0.0, 1.0, 1.0, 0.0, 1.0, 1.0, 0.0, 0.0, 1.0, 1.0, 1.0, 1.0, 1.0, 1.0, 1.0, 1.0, 1.0, 1.0, 1.0, 1.0, 1.0, 1.0, 1.0, 1.0, 1.0, 1.0, 1.0, 1.0, 1.0, 1.0, 1.0, 1.0, 0.0, 1.0, 1.0, 1.0, 1.0, 1.0, 1.0, 1.0, 1.0, 1.0, 1.0, 1.0, 1.0, 1.0, 1.0, 1.0, 1.0, 0.0, 1.0, 0.0, 1.0, 1.0, 1.0, 1.0, 1.0, 1.0, 1.0, 1.0, 1.0, 1.0, 1.0, 1.0, 1.0, 1.0, 0.0, 1.0, 1.0, 1.0, 1.0, 1.0, 1.0, 0.0, 1.0, 1.0, 0.0, 1.0, 1.0, 1.0, 1.0, 1.0, 1.0, 1.0, 1.0, 0.0, 1.0, 0.0, 1.0, 0.0, 0.0, 1.0, 1.0, 1.0, 0.0, 1.0, 0.0, 1.0, 1.0, 1.0, 1.0, 0.0, 1.0, 1.0, 1.0, 1.0, 1.0, 1.0, 1.0, 1.0, 1.0, 1.0, 0.0, 1.0, 1.0, 1.0, 1.0, 1.0, 1.0, 1.0, 1.0, 1.0, 1.0, 0.0, 1.0, 1.0, 1.0, 1.0, 1.0, 1.0, 1.0, 1.0, 1.0, 1.0, 1.0, 1.0, 1.0, 1.0, 1.0, 1.0, 1.0, 1.0, 1.0, 1.0, 1.0, 1.0, 0.0, 1.0, 0.0, 1.0, 1.0, 1.0, 1.0, 1.0, 1.0, 1.0, 1.0, 1.0, 1.0, 1.0, 1.0, 1.0, 1.0, 1.0, 1.0, 1.0, 1.0, 1.0, 0.0, 1.0, 1.0, 1.0, 1.0, 1.0, 1.0, 1.0, 1.0, 1.0, 0.0, 1.0, 0.0, 1.0, 1.0, 1.0, 1.0, 1.0, 1.0, 1.0, 1.0, 1.0, 1.0, 1.0, 1.0, 1.0, 1.0, 1.0, 1.0, 1.0, 1.0, 1.0, 1.0, 1.0, 1.0, 1.0, 1.0, 1.0, 1.0, 0.0, 1.0, 1.0, 0.0, 1.0, 1.0, 1.0, 1.0, 1.0, 1.0, 1.0, 1.0, 1.0, 0.0, 1.0, 0.0, 1.0, 0.0, 1.0, 1.0, 1.0, 1.0, 1.0, 1.0, 1.0, 1.0, 1.0, 1.0, 0.0, 1.0, 1.0, 1.0, 1.0, 1.0, 1.0, 1.0, 0.0, 1.0, 1.0, 1.0, 1.0, 1.0, 1.0, 0.0, 0.0, 0.0, 1.0, 1.0, 1.0, 1.0, 1.0, 1.0, 1.0, 1.0, 1.0, 1.0, 1.0, 1.0, 1.0, 1.0, 1.0, 1.0, 1.0, 1.0, 1.0, 0.0, 1.0, 1.0, 0.0, 0.0, 1.0, 1.0, 1.0, 1.0, 1.0, 1.0, 1.0, 0.0, 0.0, 1.0, 1.0, 1.0, 1.0, 0.0, 1.0, 1.0, 1.0, 1.0, 1.0, 1.0, 0.0, 1.0, 1.0, 1.0, 1.0, 1.0, 1.0, 1.0, 1.0, 1.0, 1.0, 1.0, 1.0, 1.0, 1.0, 1.0, 1.0, 1.0, 1.0, 0.0, 1.0, 1.0, 1.0, 1.0, 0.0, 1.0, 1.0, 1.0, 1.0, 1.0, 1.0, 1.0, 1.0, 1.0, 1.0, 1.0, 1.0, 1.0, 1.0, 1.0, 1.0, 0.0, 1.0, 1.0, 1.0, 1.0, 1.0, 1.0, 1.0, 1.0, 1.0, 1.0, 0.0, 1.0, 1.0, 1.0, 1.0, 1.0, 1.0, 0.0, 1.0, 1.0, 1.0, 1.0, 1.0, 1.0, 1.0, 1.0, 1.0, 1.0, 1.0, 0.0, 1.0, 1.0, 1.0, 1.0, 1.0, 1.0, 1.0, 1.0, 1.0, 1.0, 1.0, 1.0, 1.0, 1.0, 1.0, 1.0, 1.0, 1.0, 0.0, 1.0, 1.0, 0.0, 0.0, 0.0, 1.0, 0.0, 1.0, 0.0, 1.0, 1.0, 1.0, 1.0, 1.0, 1.0, 0.0, 1.0, 1.0, 1.0, 1.0, 0.0, 1.0, 1.0, 1.0, 0.0, 1.0, 1.0, 1.0, 1.0, 0.0, 1.0, 1.0, 1.0, 1.0, 1.0, 1.0, 0.0, 1.0, 1.0, 1.0, 1.0, 1.0, 1.0, 1.0, 1.0, 1.0, 1.0, 1.0, 1.0, 1.0, 1.0, 1.0, 1.0, 1.0, 1.0, 0.0, 1.0, 1.0, 1.0, 1.0, 1.0, 1.0, 1.0, 1.0, 1.0, 1.0, 1.0, 1.0, 1.0, 1.0, 1.0, 1.0, 1.0, 1.0, 1.0, 0.0, 1.0, 1.0, 1.0, 1.0, 1.0, 1.0, 1.0, 1.0, 1.0, 1.0, 1.0, 1.0, 1.0, 1.0, 0.0, 1.0, 0.0, 1.0, 1.0, 1.0, 0.0, 1.0, 1.0, 1.0, 1.0, 0.0, 1.0, 1.0, 1.0, 1.0, 1.0, 1.0, 1.0, 1.0, 1.0, 1.0, 1.0, 1.0, 0.0, 1.0, 1.0, 1.0, 1.0, 1.0, 1.0, 1.0, 1.0, 1.0, 0.0, 1.0, 1.0, 1.0, 1.0, 1.0, 1.0, 1.0, 0.0, 0.0, 1.0, 1.0, 1.0, 1.0, 1.0, 1.0, 1.0, 1.0, 1.0, 1.0, 1.0, 1.0, 1.0, 1.0, 1.0, 1.0, 1.0, 1.0, 1.0, 1.0, 1.0, 1.0, 0.0, 1.0, 0.0, 1.0, 0.0, 1.0, 1.0, 1.0, 1.0, 1.0, 0.0, 1.0, 1.0, 1.0, 1.0, 1.0, 1.0, 0.0, 1.0, 1.0, 1.0, 1.0, 0.0, 1.0, 0.0, 1.0, 1.0, 1.0, 1.0, 1.0, 1.0, 1.0, 1.0, 1.0, 1.0, 1.0, 0.0, 1.0, 1.0, 1.0, 1.0, 1.0, 1.0, 0.0, 1.0, 1.0, 1.0, 0.0, 0.0, 1.0, 1.0, 1.0, 1.0, 1.0, 1.0, 0.0, 1.0, 1.0, 1.0, 1.0, 1.0, 1.0, 0.0, 1.0, 1.0, 1.0, 0.0, 0.0, 0.0, 1.0, 1.0, 1.0, 1.0, 1.0, 1.0, 0.0, 1.0, 1.0, 0.0, 0.0, 1.0, 1.0, 1.0, 1.0, 1.0, 1.0, 1.0, 1.0, 1.0, 1.0, 1.0, 1.0, 1.0, 0.0, 1.0, 1.0, 1.0, 1.0, 1.0, 1.0, 0.0, 0.0, 0.0, 1.0, 1.0, 1.0, 1.0, 1.0, 1.0, 1.0, 1.0, 1.0, 1.0, 0.0, 1.0, 1.0, 1.0, 1.0, 1.0, 1.0, 1.0, 1.0, 0.0, 1.0, 0.0, 1.0, 1.0, 1.0, 1.0, 1.0, 1.0, 1.0, 1.0, 1.0, 1.0, 1.0, 1.0, 1.0, 1.0, 1.0, 1.0, 1.0, 1.0, 1.0, 1.0, 1.0, 1.0, 1.0, 1.0, 1.0, 1.0, 0.0, 0.0, 1.0, 1.0, 1.0, 1.0, 1.0, 1.0, 1.0, 1.0, 1.0, 1.0, 1.0, 1.0, 1.0, 0.0, 1.0, 1.0, 1.0, 1.0, 1.0, 1.0, 1.0, 1.0, 1.0, 1.0, 1.0, 1.0, 1.0, 1.0, 1.0, 1.0, 1.0, 1.0, 0.0, 1.0, 1.0, 1.0, 1.0, 0.0, 1.0, 1.0, 1.0, 1.0, 1.0, 1.0, 0.0, 1.0, 1.0, 0.0, 0.0, 1.0, 1.0, 1.0, 0.0, 1.0, 1.0, 1.0, 1.0, 1.0, 1.0, 1.0, 1.0, 1.0, 1.0, 1.0, 0.0, 0.0, 1.0, 1.0, 1.0, 1.0, 1.0, 0.0, 1.0, 1.0, 1.0, 1.0, 1.0, 1.0, 1.0, 1.0, 0.0, 0.0, 1.0, 0.0, 1.0, 1.0, 1.0, 1.0, 1.0, 1.0, 1.0, 1.0, 1.0, 1.0, 0.0, 1.0, 1.0, 1.0, 1.0, 1.0, 1.0, 0.0, 0.0, 1.0, 1.0, 1.0, 1.0, 0.0, 1.0, 0.0, 1.0, 0.0, 1.0, 1.0, 1.0, 1.0, 1.0, 0.0, 1.0, 1.0, 0.0, 1.0, 1.0, 1.0, 1.0, 1.0, 1.0, 1.0, 1.0, 0.0, 1.0, 1.0, 1.0, 1.0, 1.0, 1.0, 0.0, 1.0, 1.0, 0.0, 1.0, 1.0, 1.0, 1.0, 1.0, 0.0, 1.0, 1.0, 1.0, 1.0, 1.0, 1.0, 1.0, 0.0, 1.0, 1.0, 1.0, 1.0, 1.0, 1.0, 1.0, 1.0, 1.0, 1.0, 1.0, 1.0, 1.0, 1.0, 1.0, 1.0, 0.0, 0.0, 1.0, 1.0, 1.0, 0.0, 1.0, 1.0, 1.0, 1.0, 1.0, 1.0, 1.0, 1.0, 1.0, 0.0, 1.0, 1.0, 1.0, 1.0, 1.0, 1.0, 0.0, 1.0, 1.0, 1.0, 0.0, 1.0, 1.0, 1.0, 1.0, 1.0, 1.0, 1.0, 1.0, 1.0, 1.0, 1.0, 1.0, 1.0, 1.0, 1.0, 1.0, 1.0, 1.0, 1.0, 1.0, 1.0, 1.0, 1.0, 1.0, 1.0, 1.0, 1.0, 1.0, 1.0, 0.0, 1.0, 1.0, 0.0, 1.0, 1.0, 1.0, 1.0, 1.0, 1.0, 1.0, 1.0, 1.0, 0.0, 1.0, 1.0, 0.0, 1.0, 1.0, 0.0, 1.0, 1.0, 1.0, 1.0, 1.0, 1.0, 0.0, 1.0, 1.0, 1.0, 1.0, 1.0, 1.0, 1.0, 1.0, 0.0, 0.0, 1.0, 1.0, 1.0, 1.0, 1.0, 1.0, 0.0, 1.0, 1.0, 1.0, 1.0, 1.0, 1.0, 1.0, 1.0, 1.0, 1.0, 1.0, 1.0, 0.0, 1.0, 1.0, 1.0, 0.0, 1.0, 1.0, 1.0, 1.0, 1.0, 1.0, 1.0, 1.0, 1.0, 1.0, 1.0, 1.0, 1.0, 1.0, 1.0, 1.0, 0.0, 1.0, 1.0, 1.0, 0.0, 1.0, 1.0, 1.0, 1.0, 1.0, 1.0, 1.0, 1.0, 1.0, 1.0, 1.0, 1.0, 0.0, 1.0, 1.0, 1.0, 1.0, 1.0, 1.0, 1.0, 1.0, 1.0, 1.0, 1.0, 1.0, 1.0, 1.0, 1.0, 1.0, 1.0, 1.0, 1.0, 1.0, 0.0, 1.0, 1.0, 1.0, 1.0, 1.0, 1.0, 1.0, 1.0, 0.0, 1.0, 1.0, 1.0, 1.0, 1.0, 1.0, 1.0, 1.0, 1.0, 0.0, 1.0, 1.0, 1.0, 0.0, 1.0, 1.0, 1.0, 1.0, 1.0, 1.0, 1.0, 1.0, 1.0, 1.0, 1.0, 1.0, 1.0, 1.0, 1.0, 0.0, 1.0, 1.0, 1.0, 0.0, 1.0, 1.0, 1.0, 1.0, 1.0, 1.0, 1.0, 1.0, 1.0, 1.0, 1.0, 1.0, 1.0, 1.0, 0.0, 1.0, 1.0, 1.0, 1.0, 1.0, 0.0, 1.0, 1.0, 1.0, 0.0, 1.0, 1.0, 1.0, 1.0, 1.0, 1.0, 1.0, 0.0, 1.0, 1.0, 1.0, 1.0, 1.0, 1.0, 1.0, 1.0, 0.0, 1.0, 1.0, 1.0, 1.0, 1.0, 1.0, 1.0, 0.0, 1.0, 1.0, 1.0, 1.0, 0.0, 1.0, 1.0, 1.0, 1.0, 1.0, 1.0, 1.0, 1.0, 1.0, 1.0, 1.0, 1.0, 1.0, 1.0, 0.0, 1.0, 1.0, 1.0, 1.0, 1.0, 1.0, 0.0, 0.0, 1.0, 1.0, 1.0, 1.0, 1.0, 1.0, 1.0, 1.0, 1.0, 1.0, 1.0, 1.0, 0.0, 1.0, 1.0, 0.0, 1.0, 1.0, 1.0, 1.0, 1.0, 1.0, 1.0, 1.0, 1.0, 1.0, 1.0, 1.0, 0.0, 1.0, 1.0, 1.0, 1.0, 1.0, 1.0, 1.0, 1.0, 1.0, 1.0, 1.0, 1.0, 0.0, 1.0, 1.0, 0.0, 1.0, 1.0, 1.0, 1.0, 1.0, 1.0, 1.0, 1.0, 0.0, 1.0, 1.0, 1.0, 0.0, 1.0, 0.0, 1.0, 1.0, 1.0, 0.0, 1.0, 1.0, 1.0, 0.0, 1.0, 0.0, 1.0, 1.0, 1.0, 1.0, 1.0, 1.0, 1.0, 1.0, 1.0, 0.0, 0.0, 1.0, 1.0, 1.0, 1.0, 1.0, 0.0, 1.0, 1.0, 1.0, 0.0, 1.0, 1.0, 1.0, 1.0, 1.0, 1.0, 0.0, 1.0, 1.0, 0.0, 1.0, 1.0, 1.0, 1.0, 1.0, 1.0, 0.0, 1.0, 0.0, 0.0, 1.0, 1.0, 1.0, 1.0, 1.0, 1.0, 1.0, 1.0, 1.0, 1.0, 0.0, 1.0, 1.0, 1.0, 1.0, 1.0, 1.0, 1.0, 1.0, 1.0, 1.0, 1.0, 0.0, 1.0, 0.0, 1.0, 1.0, 1.0, 1.0, 1.0, 1.0, 1.0, 0.0, 1.0, 1.0, 1.0, 1.0, 1.0, 1.0, 1.0, 1.0, 1.0, 1.0, 1.0, 1.0, 1.0, 0.0, 1.0, 1.0, 0.0, 1.0, 1.0, 1.0, 1.0, 1.0, 1.0, 1.0, 1.0, 1.0, 1.0, 1.0, 1.0, 1.0, 1.0, 1.0, 0.0, 1.0, 1.0, 0.0, 0.0, 1.0, 1.0, 1.0, 1.0, 1.0, 1.0, 1.0, 1.0, 1.0, 1.0, 1.0, 1.0, 1.0, 0.0, 1.0, 1.0, 0.0, 1.0, 1.0, 0.0, 0.0, 1.0, 1.0, 1.0, 1.0, 1.0, 1.0, 0.0, 1.0, 1.0, 0.0, 1.0, 1.0, 1.0, 1.0, 1.0, 0.0, 1.0, 1.0, 1.0, 1.0, 0.0, 1.0, 1.0, 1.0, 1.0, 1.0, 1.0, 1.0, 1.0, 1.0, 1.0, 1.0, 1.0, 1.0, 1.0, 1.0, 1.0, 1.0, 0.0, 0.0, 1.0, 1.0, 1.0, 1.0, 0.0, 0.0, 1.0, 1.0, 1.0, 0.0, 1.0, 1.0, 1.0, 1.0, 1.0, 1.0, 1.0, 1.0, 1.0, 1.0, 1.0, 1.0, 1.0, 0.0, 0.0, 1.0, 1.0, 1.0, 1.0, 1.0, 1.0, 1.0, 1.0, 0.0, 0.0, 1.0, 1.0, 1.0, 1.0, 1.0, 1.0, 1.0, 1.0, 1.0, 1.0, 1.0, 1.0, 1.0, 1.0, 1.0, 1.0, 1.0, 1.0, 1.0, 1.0, 1.0, 1.0, 1.0, 1.0, 1.0, 1.0, 1.0, 1.0, 1.0, 1.0, 1.0, 1.0, 1.0, 1.0, 1.0, 1.0, 1.0, 1.0, 1.0, 1.0, 1.0, 1.0, 1.0, 1.0, 1.0, 1.0, 1.0, 1.0, 1.0, 1.0, 1.0, 0.0, 1.0, 1.0, 1.0, 1.0, 1.0, 1.0, 1.0, 1.0, 0.0, 1.0, 1.0, 1.0, 1.0, 1.0, 1.0, 1.0, 0.0, 1.0, 1.0, 1.0, 1.0, 1.0, 1.0, 0.0, 1.0, 1.0, 1.0, 1.0, 1.0, 1.0, 0.0, 1.0, 1.0, 1.0, 1.0, 1.0, 1.0, 1.0, 1.0, 1.0, 1.0, 1.0, 1.0, 1.0, 1.0, 0.0, 1.0, 1.0, 1.0, 1.0, 1.0, 1.0, 1.0, 1.0, 1.0, 1.0, 0.0, 1.0, 1.0, 0.0, 1.0, 1.0, 1.0, 1.0, 1.0, 0.0, 1.0, 1.0, 0.0, 1.0, 1.0, 1.0, 1.0, 1.0, 0.0, 1.0, 1.0, 1.0, 1.0, 1.0, 1.0, 1.0, 1.0, 1.0, 1.0, 1.0, 0.0, 1.0, 1.0, 1.0, 1.0, 1.0, 1.0, 1.0, 1.0, 0.0, 1.0, 1.0, 0.0, 1.0, 1.0, 0.0, 1.0, 1.0, 1.0, 0.0, 1.0, 1.0, 1.0, 1.0, 1.0, 1.0, 1.0, 0.0, 1.0, 1.0, 1.0, 1.0, 1.0, 1.0, 1.0, 1.0, 1.0, 1.0, 1.0, 1.0, 0.0, 1.0, 1.0, 1.0, 1.0, 1.0, 1.0, 1.0, 1.0, 1.0, 1.0, 1.0, 1.0, 0.0, 1.0, 1.0, 1.0, 1.0, 1.0, 1.0, 1.0, 1.0, 1.0, 1.0, 1.0, 1.0, 0.0, 1.0, 1.0, 1.0, 1.0, 0.0, 1.0, 1.0, 1.0, 1.0, 1.0, 1.0, 1.0, 1.0, 1.0, 1.0, 1.0, 1.0, 1.0, 1.0, 0.0, 1.0, 1.0, 1.0, 1.0, 1.0, 1.0, 1.0, 1.0, 1.0, 1.0, 1.0, 1.0, 1.0, 1.0, 1.0, 1.0, 1.0, 1.0, 1.0, 1.0, 1.0, 1.0, 1.0, 1.0, 1.0, 1.0, 1.0, 1.0, 1.0, 1.0, 1.0, 1.0, 1.0, 1.0, 1.0, 0.0, 1.0, 1.0, 1.0, 1.0, 1.0, 1.0, 0.0, 1.0, 1.0, 1.0, 1.0, 1.0, 1.0, 1.0, 1.0, 0.0, 1.0, 1.0, 1.0, 0.0, 0.0, 1.0, 1.0, 1.0, 1.0, 1.0, 1.0, 1.0, 0.0, 1.0, 1.0, 1.0, 1.0, 1.0, 1.0, 1.0, 1.0, 1.0, 1.0, 1.0, 1.0, 0.0, 0.0, 1.0, 1.0, 0.0, 1.0, 1.0, 1.0, 1.0, 1.0, 1.0, 1.0, 0.0, 1.0, 1.0, 1.0, 1.0, 0.0, 0.0, 0.0, 1.0, 1.0, 1.0, 1.0, 1.0, 1.0, 1.0, 1.0, 1.0, 0.0, 1.0, 1.0, 1.0, 1.0, 1.0, 1.0, 1.0, 1.0, 1.0, 0.0, 0.0, 1.0, 1.0, 0.0, 1.0, 1.0, 1.0, 1.0, 0.0, 0.0, 1.0, 0.0, 1.0, 1.0, 0.0, 0.0, 1.0, 1.0, 1.0, 0.0, 1.0, 1.0, 1.0, 1.0, 1.0, 1.0, 1.0, 1.0, 0.0, 1.0, 1.0, 1.0, 1.0, 1.0, 0.0, 1.0, 1.0, 1.0, 0.0, 0.0, 1.0, 1.0, 1.0, 1.0, 1.0, 1.0, 1.0, 1.0, 1.0, 1.0, 1.0, 1.0, 1.0, 1.0, 1.0, 1.0, 1.0, 1.0, 1.0, 0.0, 0.0, 1.0, 1.0, 0.0, 1.0, 1.0, 1.0, 1.0, 1.0, 1.0, 1.0, 1.0, 1.0, 1.0, 1.0, 1.0, 0.0, 1.0, 0.0, 1.0, 1.0, 1.0, 1.0, 1.0, 1.0, 1.0, 1.0, 1.0, 1.0, 0.0, 1.0, 0.0, 0.0, 1.0, 1.0, 1.0, 1.0, 1.0, 1.0, 1.0, 1.0, 1.0, 1.0, 1.0, 1.0, 1.0, 1.0, 1.0, 1.0, 1.0, 1.0, 1.0, 1.0, 1.0, 1.0, 1.0, 1.0, 1.0, 1.0, 1.0, 1.0, 0.0, 1.0, 1.0, 1.0, 1.0, 1.0, 0.0, 1.0, 1.0, 1.0, 1.0, 1.0, 1.0, 0.0, 1.0, 1.0, 1.0, 1.0, 1.0, 1.0, 1.0, 1.0, 1.0, 1.0, 1.0, 1.0, 1.0, 1.0, 1.0, 1.0, 1.0, 1.0, 1.0, 1.0, 1.0, 1.0, 1.0, 1.0, 1.0, 1.0, 1.0, 0.0, 1.0, 1.0, 1.0, 1.0, 1.0, 1.0, 0.0, 1.0, 1.0, 1.0, 0.0, 0.0, 1.0, 1.0, 1.0, 1.0, 1.0, 1.0, 1.0, 1.0, 1.0, 1.0, 1.0, 1.0, 1.0, 1.0, 1.0, 1.0, 1.0, 0.0, 1.0, 0.0, 1.0, 1.0, 1.0, 1.0, 1.0, 1.0, 1.0, 1.0, 1.0, 0.0, 0.0, 1.0, 1.0, 0.0, 0.0, 1.0, 1.0, 1.0, 1.0, 1.0, 1.0, 1.0, 0.0, 0.0, 1.0, 0.0, 1.0, 1.0, 1.0, 1.0, 1.0, 1.0, 0.0, 1.0, 1.0, 0.0, 1.0, 1.0, 1.0, 0.0, 1.0, 1.0, 1.0, 1.0, 1.0, 0.0, 1.0, 1.0, 1.0, 1.0, 1.0, 1.0, 1.0, 1.0, 1.0, 1.0, 1.0, 1.0, 1.0, 0.0, 1.0, 1.0, 1.0, 1.0, 1.0, 0.0, 1.0, 1.0, 1.0, 1.0, 1.0, 1.0, 1.0, 1.0, 1.0, 1.0, 1.0, 1.0, 1.0, 1.0, 0.0, 1.0, 1.0, 1.0, 1.0, 0.0, 1.0, 1.0, 1.0, 1.0, 1.0, 1.0, 1.0, 1.0, 1.0, 1.0, 1.0, 1.0, 1.0, 1.0, 1.0, 0.0, 1.0, 1.0, 1.0, 1.0, 1.0, 0.0, 1.0, 1.0, 1.0, 1.0, 1.0, 1.0, 1.0, 0.0, 1.0, 1.0, 1.0, 1.0, 0.0, 0.0, 1.0, 1.0, 1.0, 1.0, 1.0, 1.0, 1.0, 1.0, 1.0, 1.0, 1.0, 1.0, 1.0, 1.0, 1.0, 1.0, 1.0, 1.0, 1.0, 1.0, 1.0, 1.0, 1.0, 1.0, 1.0, 1.0, 1.0, 1.0, 1.0, 1.0, 0.0, 1.0, 1.0, 1.0, 1.0, 0.0, 1.0, 1.0, 0.0, 0.0, 1.0, 1.0, 1.0, 1.0, 0.0, 1.0, 1.0, 1.0, 1.0, 1.0, 0.0, 0.0, 1.0, 1.0, 1.0, 1.0, 0.0, 1.0, 1.0, 1.0, 1.0, 1.0, 1.0, 0.0, 1.0, 1.0, 1.0, 1.0, 1.0, 1.0, 1.0, 1.0, 1.0, 1.0, 1.0, 1.0, 1.0, 1.0, 0.0, 1.0, 1.0, 0.0, 1.0, 1.0, 0.0, 1.0, 1.0, 1.0, 1.0, 1.0, 1.0, 1.0, 1.0, 1.0, 0.0, 1.0, 1.0, 1.0, 1.0, 1.0, 1.0, 1.0, 0.0, 1.0, 1.0, 1.0, 1.0, 1.0, 1.0, 1.0, 1.0, 0.0, 1.0, 1.0, 1.0, 1.0, 1.0, 1.0, 1.0, 1.0, 1.0, 1.0, 1.0, 1.0, 1.0, 1.0, 0.0, 1.0, 1.0, 1.0, 1.0, 1.0, 1.0, 1.0, 1.0, 1.0, 1.0, 1.0, 0.0, 1.0, 1.0, 1.0, 1.0, 1.0, 1.0, 1.0, 1.0, 0.0, 1.0, 1.0, 1.0, 1.0, 1.0, 1.0, 1.0, 1.0, 1.0, 1.0, 1.0, 1.0, 1.0, 1.0, 1.0, 1.0, 1.0, 1.0, 1.0, 1.0, 0.0, 1.0, 1.0, 1.0, 1.0, 1.0, 1.0, 1.0, 1.0, 1.0, 1.0, 1.0, 1.0, 1.0, 1.0, 1.0, 0.0, 1.0, 1.0, 1.0, 1.0, 1.0, 1.0, 1.0, 1.0, 1.0, 1.0, 1.0, 1.0, 1.0, 1.0, 0.0, 1.0, 0.0, 1.0, 1.0, 1.0, 1.0, 0.0, 1.0, 1.0, 1.0, 1.0, 1.0, 1.0, 1.0, 1.0, 0.0, 1.0, 0.0, 1.0, 1.0, 1.0, 1.0, 0.0, 1.0, 1.0, 1.0, 1.0, 1.0, 1.0, 0.0, 1.0, 1.0, 1.0, 1.0, 1.0, 1.0, 1.0, 1.0, 1.0, 1.0, 1.0, 1.0, 0.0, 1.0, 1.0, 1.0, 1.0, 1.0, 1.0, 1.0, 1.0, 1.0, 1.0, 0.0, 1.0, 1.0, 1.0, 1.0, 1.0, 1.0, 1.0, 1.0, 1.0, 1.0, 1.0, 0.0, 1.0, 1.0, 1.0, 1.0, 1.0, 1.0, 1.0, 0.0, 1.0, 1.0, 1.0, 1.0, 1.0, 1.0, 1.0, 1.0, 1.0, 0.0, 1.0, 1.0, 1.0, 0.0, 1.0, 1.0, 1.0, 1.0, 1.0, 0.0, 1.0, 1.0, 0.0, 1.0, 1.0, 1.0, 1.0, 1.0, 1.0, 1.0, 1.0, 1.0, 0.0, 1.0, 1.0, 1.0, 1.0, 1.0, 1.0, 1.0, 0.0, 1.0, 1.0, 1.0, 1.0, 1.0, 1.0, 0.0, 1.0, 1.0, 1.0, 0.0, 1.0, 0.0, 1.0, 1.0, 1.0, 1.0, 1.0, 1.0, 1.0, 1.0, 1.0, 1.0, 0.0, 1.0, 1.0, 0.0, 0.0, 1.0, 1.0, 1.0, 1.0, 1.0, 0.0, 1.0, 1.0, 1.0, 1.0, 1.0, 1.0, 1.0, 1.0, 1.0, 1.0, 1.0, 0.0, 1.0, 1.0, 1.0, 1.0, 1.0, 1.0, 1.0, 0.0, 1.0, 1.0, 0.0, 1.0, 1.0, 1.0, 1.0, 1.0, 1.0, 1.0, 1.0, 1.0, 1.0, 1.0, 1.0, 1.0, 1.0, 1.0, 1.0, 1.0, 1.0, 1.0, 1.0, 1.0, 1.0, 0.0, 1.0, 1.0, 1.0, 1.0, 1.0, 1.0, 1.0, 0.0, 1.0, 1.0, 1.0, 1.0, 1.0, 1.0, 1.0, 1.0, 1.0, 1.0, 1.0, 1.0, 1.0, 0.0, 1.0, 1.0, 1.0, 1.0, 1.0, 1.0, 1.0, 1.0, 1.0, 1.0, 1.0, 1.0, 0.0, 0.0, 1.0, 1.0, 1.0, 1.0, 1.0, 1.0, 1.0, 1.0, 1.0, 1.0, 1.0, 1.0, 1.0, 1.0, 0.0, 0.0, 1.0, 0.0, 1.0, 1.0, 1.0, 1.0, 1.0, 1.0, 1.0, 1.0, 1.0, 0.0, 1.0, 1.0, 1.0, 1.0, 0.0, 1.0, 1.0, 1.0, 1.0, 1.0, 0.0, 0.0, 1.0, 1.0, 1.0, 1.0, 0.0, 1.0, 1.0, 0.0, 1.0, 1.0, 1.0, 1.0, 1.0, 1.0, 0.0, 1.0, 0.0, 1.0, 1.0, 1.0, 1.0, 1.0, 1.0, 1.0, 1.0, 1.0, 1.0, 0.0, 0.0, 1.0, 1.0, 1.0, 1.0, 1.0, 1.0, 1.0, 1.0, 0.0, 1.0, 1.0, 1.0, 1.0, 1.0, 1.0, 1.0, 0.0, 0.0, 1.0, 1.0, 1.0, 1.0, 1.0, 1.0, 0.0, 1.0, 0.0, 1.0, 0.0, 1.0, 0.0, 0.0, 1.0, 0.0, 1.0, 1.0, 1.0, 1.0, 1.0, 1.0, 1.0, 0.0, 1.0, 0.0, 1.0, 1.0, 1.0, 0.0, 1.0, 1.0, 1.0, 1.0, 0.0, 1.0, 0.0, 1.0, 0.0, 1.0, 1.0, 1.0, 1.0, 1.0, 1.0, 1.0, 1.0, 1.0, 1.0, 1.0, 1.0, 1.0, 1.0, 1.0, 1.0, 1.0, 1.0, 1.0, 1.0, 0.0, 1.0, 1.0, 1.0, 1.0, 1.0, 0.0, 1.0, 1.0, 1.0, 1.0, 1.0, 1.0, 1.0, 1.0, 1.0, 1.0, 1.0, 1.0, 1.0, 1.0, 1.0, 1.0, 1.0, 1.0, 1.0, 1.0, 1.0, 1.0, 0.0, 1.0, 1.0, 1.0, 1.0, 1.0, 1.0, 1.0, 1.0, 1.0, 1.0, 1.0, 1.0, 0.0, 0.0, 1.0, 1.0, 0.0, 1.0, 1.0, 1.0, 1.0, 1.0, 1.0, 1.0, 0.0, 1.0, 1.0, 1.0, 1.0, 1.0, 1.0, 1.0, 1.0, 1.0, 1.0, 1.0, 1.0, 1.0, 0.0, 1.0, 1.0, 1.0, 1.0, 0.0, 0.0, 1.0, 1.0, 1.0, 1.0, 1.0, 1.0, 1.0, 1.0, 1.0, 1.0, 1.0, 1.0, 1.0, 1.0, 1.0, 0.0, 1.0, 1.0, 1.0, 1.0, 1.0, 1.0, 1.0, 0.0, 1.0, 1.0, 0.0, 1.0, 1.0, 1.0, 1.0, 1.0, 1.0, 1.0, 1.0, 1.0, 1.0, 1.0, 1.0, 0.0, 1.0, 1.0, 1.0, 0.0, 0.0, 1.0, 1.0, 1.0, 1.0, 1.0, 1.0, 1.0, 1.0, 1.0, 1.0, 1.0, 1.0, 1.0, 1.0, 1.0, 1.0, 1.0, 1.0, 1.0, 1.0, 1.0, 1.0, 0.0, 1.0, 1.0, 1.0, 1.0, 1.0, 1.0, 1.0, 1.0, 1.0, 1.0, 1.0, 1.0, 1.0, 1.0, 1.0, 1.0, 1.0, 1.0, 1.0, 0.0, 0.0, 1.0, 0.0, 1.0, 0.0, 0.0, 1.0, 1.0, 1.0, 1.0, 1.0, 1.0, 0.0, 1.0, 1.0, 1.0, 1.0, 1.0, 1.0, 1.0, 1.0, 1.0, 0.0, 1.0, 1.0, 1.0, 1.0, 1.0, 1.0, 1.0, 1.0, 1.0, 1.0, 1.0, 0.0, 1.0, 0.0, 1.0, 0.0, 0.0, 1.0, 1.0, 1.0, 1.0, 1.0, 1.0, 1.0, 0.0, 1.0, 0.0, 1.0, 1.0, 1.0, 1.0, 1.0, 1.0, 1.0, 1.0, 1.0, 1.0, 1.0, 1.0, 1.0, 1.0, 0.0, 1.0, 1.0, 1.0, 1.0, 1.0, 1.0, 0.0, 1.0, 1.0, 1.0, 1.0, 1.0, 0.0, 0.0, 1.0, 1.0, 1.0, 1.0, 1.0, 1.0, 1.0, 1.0, 1.0, 0.0, 1.0, 1.0, 1.0, 1.0, 1.0, 0.0, 1.0, 1.0, 1.0, 0.0, 1.0, 1.0, 1.0, 1.0, 1.0, 1.0, 1.0, 1.0, 1.0, 1.0, 1.0, 1.0, 1.0, 1.0, 1.0, 1.0, 1.0, 1.0, 1.0, 1.0, 1.0, 0.0, 1.0, 1.0, 1.0, 0.0, 0.0, 1.0, 1.0, 1.0, 1.0, 1.0, 0.0, 1.0, 1.0, 1.0, 1.0, 1.0, 1.0, 1.0, 1.0, 0.0, 1.0, 1.0, 1.0, 1.0, 1.0, 1.0, 1.0, 1.0, 1.0, 0.0, 1.0, 1.0, 1.0, 1.0, 1.0, 1.0, 1.0, 1.0, 1.0, 1.0, 0.0, 1.0, 1.0, 1.0, 1.0, 1.0, 1.0, 1.0, 1.0, 1.0, 1.0, 1.0, 1.0, 1.0, 1.0, 1.0, 1.0, 0.0, 1.0, 1.0, 1.0, 1.0, 1.0, 1.0, 1.0, 1.0, 1.0, 1.0, 1.0, 1.0, 1.0, 0.0, 1.0, 0.0, 1.0, 1.0, 1.0, 1.0, 1.0, 1.0, 1.0, 1.0, 1.0, 1.0, 1.0, 1.0, 1.0, 1.0, 0.0, 1.0, 1.0, 1.0, 1.0, 1.0, 1.0, 0.0, 1.0, 1.0, 1.0, 1.0, 1.0, 1.0, 1.0, 1.0, 0.0, 1.0, 1.0, 1.0, 0.0, 1.0, 1.0, 1.0, 1.0, 1.0, 1.0, 0.0, 1.0, 1.0, 1.0, 1.0, 1.0, 1.0, 1.0, 1.0, 1.0, 1.0, 1.0, 1.0, 1.0, 1.0, 1.0, 1.0, 1.0, 0.0, 1.0, 0.0, 0.0, 1.0, 1.0, 1.0, 1.0, 1.0, 1.0, 1.0, 1.0, 1.0, 1.0, 1.0, 1.0, 1.0, 1.0, 1.0, 0.0, 1.0, 1.0, 1.0, 1.0, 1.0, 1.0, 1.0, 0.0, 1.0, 1.0, 1.0, 1.0, 1.0, 1.0, 1.0, 1.0, 1.0, 1.0, 1.0, 1.0, 1.0, 0.0, 1.0, 1.0, 1.0, 1.0, 1.0, 1.0, 1.0, 1.0, 1.0, 1.0, 1.0, 1.0, 1.0, 0.0, 1.0, 1.0, 1.0, 1.0, 1.0, 0.0, 1.0, 1.0, 1.0, 1.0, 0.0, 1.0, 0.0, 1.0, 1.0, 1.0, 1.0, 1.0, 0.0, 1.0, 1.0, 1.0, 1.0, 1.0, 1.0, 1.0, 1.0, 1.0, 1.0, 0.0, 1.0, 1.0, 1.0, 1.0, 1.0, 0.0, 1.0, 1.0, 1.0, 1.0, 1.0, 1.0, 1.0, 1.0, 0.0, 1.0, 1.0, 1.0, 1.0, 1.0, 1.0, 1.0, 1.0, 1.0, 1.0, 1.0, 1.0, 1.0, 1.0, 1.0, 1.0, 1.0, 1.0, 1.0, 1.0, 1.0, 1.0, 1.0, 1.0, 0.0, 1.0, 1.0, 1.0, 0.0, 1.0, 1.0, 1.0, 1.0, 1.0, 1.0, 1.0, 1.0, 1.0, 1.0, 1.0, 0.0, 0.0, 1.0, 1.0, 0.0, 0.0, 1.0, 1.0, 1.0, 1.0, 1.0, 1.0, 1.0, 1.0, 1.0, 1.0, 1.0, 1.0, 1.0, 1.0, 1.0, 1.0, 1.0, 0.0, 1.0, 1.0, 1.0, 1.0, 1.0, 1.0, 1.0, 1.0, 0.0, 0.0, 1.0, 1.0, 0.0, 1.0, 1.0, 1.0, 1.0, 1.0, 0.0, 0.0, 1.0, 1.0, 1.0, 1.0, 1.0, 1.0, 1.0, 1.0, 0.0, 1.0, 1.0, 1.0, 1.0, 1.0, 1.0, 1.0, 0.0, 1.0, 1.0, 1.0, 1.0, 0.0, 1.0, 1.0, 1.0, 1.0, 1.0, 0.0, 1.0, 1.0, 1.0, 1.0, 1.0, 1.0, 1.0, 1.0, 0.0, 0.0, 1.0, 0.0, 1.0, 1.0, 1.0, 1.0, 1.0, 1.0, 1.0, 1.0, 0.0, 0.0, 1.0, 0.0, 0.0, 1.0, 1.0, 1.0, 1.0, 1.0, 1.0, 1.0, 1.0, 1.0, 1.0, 1.0, 1.0, 1.0, 1.0, 0.0, 1.0, 1.0, 1.0, 1.0, 1.0, 1.0, 0.0, 1.0, 1.0, 0.0, 1.0, 1.0, 1.0, 1.0, 1.0, 1.0, 1.0, 1.0, 1.0, 1.0, 1.0, 0.0, 1.0, 1.0, 1.0, 0.0, 1.0, 1.0, 1.0, 1.0, 1.0, 1.0, 1.0, 1.0, 1.0, 1.0, 1.0, 1.0, 0.0, 1.0, 0.0, 1.0, 1.0, 1.0, 0.0, 1.0, 0.0, 0.0, 0.0, 1.0, 1.0, 1.0, 0.0, 0.0, 1.0, 1.0, 1.0, 1.0, 1.0, 1.0, 1.0, 1.0, 1.0, 1.0, 1.0, 1.0, 1.0, 0.0, 1.0, 1.0, 1.0, 1.0, 1.0, 1.0, 1.0, 1.0, 1.0, 1.0, 1.0, 1.0, 1.0, 1.0, 1.0, 0.0, 0.0, 1.0, 1.0, 1.0, 1.0, 1.0, 1.0, 0.0, 1.0, 1.0, 1.0, 1.0, 1.0, 1.0, 1.0, 1.0, 1.0, 0.0, 0.0, 1.0, 1.0, 0.0, 1.0, 0.0, 1.0, 1.0, 1.0, 1.0, 1.0, 1.0, 1.0, 0.0, 1.0, 1.0, 0.0, 0.0, 1.0, 1.0, 1.0, 1.0, 1.0, 1.0, 1.0, 1.0, 1.0, 1.0, 1.0, 1.0, 1.0, 1.0, 1.0, 1.0, 1.0, 1.0, 1.0, 1.0, 1.0, 0.0, 1.0, 1.0, 0.0, 1.0, 1.0, 1.0, 1.0, 1.0, 1.0, 0.0, 1.0, 1.0, 1.0, 0.0, 1.0, 1.0, 0.0, 0.0, 1.0, 1.0, 1.0, 1.0, 1.0, 1.0, 1.0, 0.0, 1.0, 1.0, 1.0, 1.0, 1.0, 1.0, 0.0, 1.0, 1.0, 1.0, 0.0, 1.0, 1.0, 1.0, 1.0, 1.0, 1.0, 1.0, 1.0, 1.0, 1.0, 1.0, 0.0, 1.0, 1.0, 1.0, 1.0, 1.0, 1.0, 1.0, 1.0, 1.0, 1.0, 1.0, 0.0, 1.0, 0.0, 1.0, 1.0, 0.0, 1.0, 1.0, 1.0, 0.0, 1.0, 1.0, 0.0, 1.0, 0.0, 1.0, 1.0, 1.0, 1.0, 1.0, 1.0, 1.0, 1.0, 1.0, 1.0, 1.0, 1.0, 1.0, 1.0, 1.0, 1.0, 1.0, 1.0, 1.0, 1.0, 1.0, 1.0, 0.0, 0.0, 0.0, 1.0, 1.0, 1.0, 1.0, 1.0, 1.0, 1.0, 1.0, 1.0, 1.0, 1.0, 1.0, 0.0, 1.0, 0.0, 1.0, 1.0, 1.0, 1.0, 0.0, 1.0, 1.0, 1.0, 1.0, 1.0, 0.0, 1.0, 1.0, 0.0, 1.0, 1.0, 1.0, 0.0, 1.0, 0.0, 1.0, 0.0, 1.0, 1.0, 0.0, 1.0, 1.0, 1.0, 1.0, 1.0, 1.0, 1.0, 0.0, 1.0, 1.0, 1.0, 1.0, 1.0, 1.0, 1.0, 1.0, 1.0, 1.0, 1.0, 1.0, 1.0, 1.0, 1.0, 1.0, 1.0, 1.0, 1.0, 1.0, 1.0, 1.0, 0.0, 1.0, 1.0, 0.0, 1.0, 1.0, 1.0, 1.0, 1.0, 1.0, 1.0, 1.0, 1.0, 1.0, 1.0, 0.0, 1.0, 0.0, 1.0, 1.0, 1.0, 1.0, 1.0, 1.0, 1.0, 0.0, 0.0, 1.0, 0.0, 1.0, 1.0, 1.0, 1.0, 1.0, 1.0, 1.0, 1.0, 0.0, 1.0, 1.0, 1.0, 1.0, 1.0, 1.0, 1.0, 1.0, 0.0, 1.0, 0.0, 1.0, 1.0, 1.0, 1.0, 1.0, 1.0, 1.0, 1.0, 1.0, 0.0, 1.0, 1.0, 1.0, 1.0, 1.0, 0.0, 1.0, 1.0, 1.0, 1.0, 1.0, 1.0, 1.0, 1.0, 0.0, 1.0, 1.0, 1.0, 1.0, 0.0, 1.0, 1.0, 1.0, 1.0, 0.0, 0.0, 1.0, 1.0, 1.0, 1.0, 1.0, 1.0, 1.0, 1.0, 1.0, 1.0, 1.0, 1.0, 1.0, 1.0, 0.0, 1.0, 1.0, 1.0, 1.0, 1.0, 1.0, 1.0, 1.0, 1.0, 1.0, 1.0, 1.0, 1.0, 1.0, 1.0, 1.0, 1.0, 1.0, 1.0, 1.0, 1.0, 1.0, 1.0, 1.0, 1.0, 1.0, 1.0, 1.0, 1.0, 1.0, 1.0, 1.0, 1.0, 1.0, 1.0, 1.0, 1.0, 0.0, 1.0, 1.0, 0.0, 1.0, 1.0, 1.0, 1.0, 1.0, 0.0, 1.0, 1.0, 1.0, 1.0, 0.0, 1.0, 1.0, 1.0, 1.0, 0.0, 1.0, 0.0, 1.0, 1.0, 1.0, 1.0, 1.0, 1.0, 1.0, 0.0, 1.0, 1.0, 1.0, 1.0, 1.0, 1.0, 1.0, 0.0, 0.0, 1.0, 0.0, 1.0, 1.0, 1.0, 1.0, 1.0, 1.0, 1.0, 1.0, 1.0, 1.0, 1.0, 1.0, 1.0, 1.0, 1.0, 1.0, 1.0, 0.0, 1.0, 1.0, 0.0, 1.0, 1.0, 1.0, 1.0, 1.0, 0.0, 1.0, 1.0, 1.0, 1.0, 1.0, 1.0, 1.0, 1.0, 0.0, 1.0, 1.0, 0.0, 1.0, 1.0, 1.0, 1.0, 1.0, 0.0, 1.0, 1.0, 1.0, 1.0, 1.0, 1.0, 1.0, 1.0, 1.0, 1.0, 0.0, 1.0, 1.0, 1.0, 1.0, 1.0, 1.0, 0.0, 1.0, 1.0, 0.0, 1.0, 1.0, 1.0, 1.0, 1.0, 1.0, 1.0, 0.0, 1.0, 1.0, 1.0, 0.0, 0.0, 1.0, 1.0, 1.0, 1.0, 1.0, 0.0, 0.0, 1.0, 1.0, 0.0, 1.0, 1.0, 1.0, 1.0, 1.0, 1.0, 1.0, 1.0, 1.0, 1.0, 1.0, 1.0, 1.0, 0.0, 1.0, 1.0, 1.0, 0.0, 1.0, 1.0, 1.0, 1.0, 0.0, 1.0, 1.0, 1.0, 1.0, 1.0, 0.0, 1.0, 1.0, 1.0, 1.0, 1.0, 1.0, 1.0, 1.0, 0.0, 1.0, 1.0, 0.0, 0.0, 1.0, 0.0, 1.0, 0.0, 1.0, 1.0, 1.0, 1.0, 1.0, 1.0, 1.0, 1.0, 0.0, 0.0, 1.0, 0.0, 1.0, 1.0, 1.0, 1.0, 0.0, 1.0, 0.0, 1.0, 1.0, 1.0, 1.0, 1.0, 1.0, 1.0, 1.0, 1.0, 1.0, 1.0, 1.0, 1.0, 1.0, 1.0, 0.0, 1.0, 1.0, 1.0, 1.0, 0.0, 1.0, 1.0, 1.0, 1.0, 1.0, 1.0, 1.0, 1.0, 1.0, 1.0, 1.0, 0.0, 1.0, 0.0, 1.0, 1.0, 1.0, 1.0, 1.0, 1.0, 1.0, 1.0, 1.0, 1.0, 1.0, 1.0, 1.0, 1.0, 1.0, 1.0, 1.0, 1.0, 1.0, 0.0, 1.0, 1.0, 1.0, 1.0, 1.0, 0.0, 1.0, 0.0, 1.0, 1.0, 1.0, 1.0, 0.0, 1.0, 0.0, 1.0, 1.0, 1.0, 1.0, 0.0, 1.0, 0.0, 1.0, 1.0, 1.0, 1.0, 0.0, 1.0, 1.0, 1.0, 1.0, 1.0, 1.0, 1.0, 0.0, 1.0, 1.0, 1.0, 1.0, 0.0, 1.0, 1.0, 1.0, 1.0, 1.0, 1.0, 1.0, 1.0, 0.0, 1.0, 1.0, 1.0, 0.0, 1.0, 0.0, 1.0, 0.0, 1.0, 1.0, 1.0, 0.0, 1.0, 1.0, 1.0, 0.0, 1.0, 1.0, 1.0, 1.0, 1.0, 1.0, 1.0, 1.0, 1.0, 0.0, 0.0, 1.0, 0.0, 1.0, 0.0, 1.0, 1.0, 1.0, 1.0, 1.0, 1.0, 0.0, 1.0, 1.0, 0.0, 0.0, 1.0, 1.0, 1.0, 1.0, 1.0, 1.0, 0.0, 1.0, 1.0, 1.0, 1.0, 1.0, 1.0, 1.0, 1.0, 1.0, 1.0, 1.0, 1.0, 0.0, 1.0, 0.0, 1.0, 1.0, 1.0, 1.0, 1.0, 1.0, 1.0, 1.0, 1.0, 1.0, 1.0, 1.0, 1.0, 1.0, 1.0, 0.0, 1.0, 0.0, 1.0, 1.0, 0.0, 1.0, 0.0, 1.0, 1.0, 1.0, 1.0, 1.0, 1.0, 1.0, 1.0, 1.0, 1.0, 1.0, 0.0, 1.0, 1.0, 1.0, 1.0, 1.0, 1.0, 0.0, 0.0, 1.0, 1.0, 0.0, 1.0, 1.0, 1.0, 1.0, 1.0, 1.0, 1.0, 1.0, 1.0, 1.0, 1.0, 0.0, 1.0, 1.0, 1.0, 1.0, 1.0, 1.0, 1.0, 1.0, 1.0, 1.0, 1.0, 1.0, 1.0, 1.0, 1.0, 1.0, 0.0, 1.0, 1.0, 1.0, 0.0, 1.0, 1.0, 0.0, 1.0, 1.0, 1.0, 1.0, 1.0, 1.0, 1.0, 0.0, 1.0, 1.0, 1.0, 1.0, 1.0, 1.0, 1.0, 1.0, 1.0, 1.0, 1.0, 1.0, 1.0, 1.0, 1.0, 1.0, 1.0, 1.0, 0.0, 1.0, 1.0, 1.0, 0.0, 0.0, 1.0, 1.0, 1.0, 1.0, 1.0, 1.0, 1.0, 1.0, 1.0, 1.0, 1.0, 1.0, 1.0, 0.0, 1.0, 1.0, 1.0, 0.0, 1.0, 1.0, 1.0, 1.0, 1.0, 1.0, 0.0, 1.0, 1.0, 1.0, 1.0, 1.0, 1.0, 1.0, 1.0, 1.0, 0.0, 1.0, 1.0, 1.0, 1.0, 1.0, 1.0, 1.0, 1.0, 1.0, 1.0, 0.0, 1.0, 1.0, 0.0, 0.0, 1.0, 1.0, 1.0, 1.0, 1.0, 1.0, 0.0, 1.0, 1.0, 1.0, 1.0, 1.0, 1.0, 1.0, 1.0, 1.0, 1.0, 1.0, 1.0, 1.0, 1.0, 1.0, 1.0, 1.0, 1.0, 1.0, 1.0, 1.0, 1.0, 1.0, 1.0, 1.0, 1.0, 1.0, 1.0, 1.0, 1.0, 1.0, 0.0, 1.0, 0.0, 1.0, 1.0, 0.0, 1.0, 1.0, 1.0, 1.0, 1.0, 1.0, 1.0, 1.0, 1.0, 1.0, 1.0, 1.0, 1.0, 0.0, 1.0, 1.0, 1.0, 1.0, 1.0, 1.0, 1.0, 1.0, 1.0, 0.0, 1.0, 1.0, 1.0, 0.0, 1.0, 1.0, 1.0, 1.0, 1.0, 1.0, 1.0, 1.0, 1.0, 1.0, 0.0, 1.0, 0.0, 1.0, 1.0, 1.0, 1.0, 1.0, 1.0, 1.0, 1.0, 0.0, 1.0, 1.0, 1.0, 0.0, 0.0, 1.0, 1.0, 1.0, 1.0, 1.0, 1.0, 1.0, 1.0, 1.0, 1.0, 1.0, 0.0, 1.0, 1.0, 1.0, 1.0, 1.0, 1.0, 1.0, 1.0, 1.0, 1.0, 1.0, 1.0, 1.0, 1.0, 1.0, 1.0, 1.0, 1.0, 1.0, 1.0, 1.0, 1.0, 1.0, 1.0, 1.0, 1.0, 1.0, 1.0, 1.0, 0.0, 1.0, 1.0, 1.0, 1.0, 1.0, 1.0, 1.0, 0.0, 1.0, 1.0, 1.0, 1.0, 1.0, 1.0, 1.0, 1.0, 1.0, 1.0, 1.0, 1.0, 1.0, 1.0, 1.0, 1.0, 1.0, 0.0, 1.0, 1.0, 1.0, 0.0, 1.0, 1.0, 1.0, 1.0, 1.0, 1.0, 1.0, 1.0, 1.0, 1.0, 0.0, 1.0, 1.0, 1.0, 1.0, 1.0, 1.0, 1.0, 0.0, 1.0, 1.0, 1.0, 1.0, 1.0, 0.0, 1.0, 1.0, 0.0, 1.0, 1.0, 1.0, 1.0, 1.0, 1.0, 0.0, 1.0, 1.0, 0.0, 1.0, 0.0, 1.0, 1.0, 1.0, 1.0, 1.0, 1.0, 1.0, 0.0, 1.0, 1.0, 1.0, 1.0, 1.0, 1.0, 1.0, 1.0, 1.0, 1.0, 1.0, 1.0, 1.0, 1.0, 1.0, 1.0, 0.0, 1.0, 1.0, 0.0, 1.0, 1.0, 1.0, 1.0, 1.0, 1.0, 1.0, 1.0, 1.0, 1.0, 1.0, 1.0, 1.0, 1.0, 1.0, 1.0, 1.0, 1.0, 1.0, 1.0, 1.0, 1.0, 1.0, 1.0, 1.0, 1.0, 1.0, 1.0, 1.0, 1.0, 1.0, 1.0, 1.0, 1.0, 1.0, 1.0, 0.0, 1.0, 1.0, 1.0, 1.0, 1.0, 1.0, 1.0, 1.0, 1.0, 1.0, 0.0, 1.0, 1.0, 1.0, 1.0, 1.0, 1.0, 1.0, 1.0, 1.0, 1.0, 1.0, 1.0, 1.0, 1.0, 1.0, 1.0, 1.0, 1.0, 1.0, 1.0, 1.0, 1.0, 0.0, 1.0, 1.0, 1.0, 1.0, 0.0, 1.0, 0.0, 0.0, 1.0, 1.0, 1.0, 0.0, 1.0, 1.0, 1.0, 1.0, 1.0, 1.0, 1.0, 1.0, 1.0, 1.0, 1.0, 1.0, 1.0, 1.0, 1.0, 1.0, 1.0, 0.0, 1.0, 1.0, 1.0, 1.0, 1.0, 1.0, 1.0, 1.0, 1.0, 1.0, 0.0, 1.0, 1.0, 1.0, 1.0, 1.0, 1.0, 1.0, 1.0, 1.0, 1.0, 1.0, 1.0, 0.0, 1.0, 1.0, 1.0, 1.0, 0.0, 1.0, 0.0, 1.0, 1.0, 1.0, 1.0, 1.0, 1.0, 1.0, 1.0, 1.0, 1.0, 1.0, 1.0, 1.0, 1.0, 0.0, 1.0, 0.0, 1.0, 1.0, 1.0, 1.0, 1.0, 1.0, 1.0, 1.0, 1.0, 1.0, 1.0, 1.0, 1.0, 1.0, 1.0, 1.0, 0.0, 1.0, 1.0, 0.0, 1.0, 1.0, 1.0, 1.0, 1.0, 1.0, 1.0, 0.0, 1.0, 1.0, 0.0, 1.0, 1.0, 0.0, 1.0, 1.0, 1.0, 1.0, 1.0, 1.0, 1.0, 0.0, 1.0, 1.0, 1.0, 1.0, 1.0, 1.0, 1.0, 1.0, 1.0, 1.0, 0.0, 1.0, 1.0, 1.0, 1.0, 1.0, 1.0, 1.0, 1.0, 1.0, 1.0, 1.0, 1.0, 1.0, 1.0, 1.0, 1.0, 1.0, 1.0, 1.0, 1.0, 1.0, 1.0, 1.0, 1.0, 1.0, 1.0, 1.0, 1.0, 1.0, 1.0, 0.0, 1.0, 1.0, 1.0, 1.0, 1.0, 1.0, 1.0, 1.0, 1.0, 1.0, 1.0, 1.0, 1.0, 1.0, 1.0, 1.0, 1.0, 0.0, 1.0, 1.0, 1.0, 1.0, 1.0, 1.0, 1.0, 1.0, 1.0, 0.0, 1.0, 1.0, 1.0, 1.0, 1.0, 1.0, 1.0, 1.0, 1.0, 1.0, 1.0, 1.0, 1.0, 0.0, 1.0, 1.0, 0.0, 1.0, 1.0, 0.0, 1.0, 1.0, 1.0, 1.0, 1.0, 1.0, 1.0, 1.0, 0.0, 1.0, 1.0, 1.0, 1.0, 1.0, 1.0, 1.0, 1.0, 1.0, 1.0, 1.0, 1.0, 1.0, 1.0, 1.0, 1.0, 1.0, 1.0, 1.0, 1.0, 1.0, 1.0, 1.0, 1.0, 1.0, 1.0, 1.0, 1.0, 0.0, 1.0, 1.0, 1.0, 1.0, 1.0, 1.0, 1.0, 1.0, 1.0, 0.0, 1.0, 1.0, 1.0, 1.0, 1.0, 1.0, 1.0, 1.0, 1.0, 1.0, 1.0, 1.0, 1.0, 1.0, 0.0, 1.0, 1.0, 1.0, 1.0, 0.0, 1.0, 1.0, 0.0, 1.0, 1.0, 1.0, 1.0, 1.0, 1.0, 0.0, 1.0, 1.0, 1.0, 1.0, 1.0, 1.0, 1.0, 1.0, 1.0, 1.0, 1.0, 1.0, 0.0, 0.0, 1.0, 1.0, 1.0, 1.0, 1.0, 0.0, 1.0, 1.0, 1.0, 1.0, 0.0, 1.0, 1.0, 1.0, 1.0, 1.0, 1.0, 1.0, 1.0, 0.0, 1.0, 0.0, 1.0, 1.0, 1.0, 0.0, 0.0, 1.0, 1.0, 0.0, 1.0, 1.0, 1.0, 1.0, 0.0, 1.0, 1.0, 1.0, 0.0, 1.0, 1.0, 0.0, 1.0, 1.0, 1.0, 1.0, 1.0, 1.0, 1.0, 1.0, 1.0, 0.0, 1.0, 1.0, 1.0, 1.0, 1.0, 0.0, 1.0, 1.0, 1.0, 1.0, 1.0, 1.0, 1.0, 1.0, 1.0, 1.0, 1.0, 1.0, 1.0, 1.0, 1.0, 1.0, 1.0, 0.0, 1.0, 1.0, 0.0, 1.0, 1.0, 1.0, 1.0, 1.0, 1.0, 1.0, 1.0, 1.0, 1.0, 0.0, 0.0, 1.0, 1.0, 0.0, 1.0, 0.0, 1.0, 1.0, 1.0, 1.0, 1.0, 0.0, 1.0, 1.0, 1.0, 1.0, 1.0, 1.0, 0.0, 0.0, 1.0, 1.0, 1.0, 0.0, 1.0, 1.0, 1.0, 1.0, 0.0, 1.0, 1.0, 0.0, 1.0, 1.0, 1.0, 1.0, 1.0, 0.0, 0.0, 1.0, 1.0, 1.0, 0.0, 1.0, 0.0, 1.0, 1.0, 1.0, 1.0, 1.0, 1.0, 1.0, 1.0, 1.0, 1.0, 1.0, 1.0, 1.0, 1.0, 0.0, 1.0, 1.0, 1.0, 1.0, 1.0, 1.0, 1.0, 1.0, 1.0, 1.0, 1.0, 1.0, 1.0, 1.0, 1.0, 1.0, 1.0, 1.0, 1.0, 1.0, 0.0, 1.0, 1.0, 1.0, 1.0, 1.0, 1.0, 1.0, 0.0, 1.0, 1.0, 1.0, 1.0, 1.0, 1.0, 1.0, 1.0, 1.0, 0.0, 1.0, 1.0, 1.0, 0.0, 1.0, 1.0, 1.0, 1.0, 1.0, 1.0, 1.0, 0.0, 1.0, 1.0, 1.0, 0.0, 1.0, 1.0, 0.0, 1.0, 1.0, 1.0, 1.0, 1.0, 1.0, 1.0, 1.0, 1.0, 1.0, 1.0, 1.0, 0.0, 0.0, 1.0, 1.0, 1.0, 1.0, 1.0, 1.0, 1.0, 1.0, 1.0, 0.0, 1.0, 1.0, 1.0, 1.0, 1.0, 0.0, 1.0, 1.0, 0.0, 1.0, 1.0, 1.0, 1.0, 1.0, 0.0, 1.0, 1.0, 1.0, 1.0, 1.0, 0.0, 1.0, 1.0, 1.0, 1.0, 1.0, 1.0, 1.0, 1.0, 0.0, 1.0, 1.0, 1.0, 1.0, 1.0, 1.0, 1.0, 1.0, 0.0, 0.0, 1.0, 1.0, 1.0, 0.0, 1.0, 0.0, 1.0, 0.0, 1.0, 1.0, 1.0, 1.0, 1.0, 1.0, 1.0, 0.0, 0.0, 1.0, 1.0, 1.0, 0.0, 1.0, 1.0, 1.0, 1.0, 0.0, 1.0, 1.0, 1.0, 1.0, 1.0, 1.0, 1.0, 1.0, 1.0, 1.0, 0.0, 1.0, 1.0, 1.0, 1.0, 1.0, 1.0, 1.0, 1.0, 1.0, 0.0, 1.0, 1.0, 1.0, 1.0, 1.0, 1.0, 1.0, 1.0, 0.0, 1.0, 1.0, 1.0, 1.0, 1.0, 1.0, 1.0, 1.0, 1.0, 1.0, 1.0, 1.0, 1.0, 1.0, 1.0, 1.0, 0.0, 1.0, 1.0, 0.0, 1.0, 0.0, 1.0, 0.0, 1.0, 1.0, 1.0, 1.0, 1.0, 1.0, 1.0, 0.0, 1.0, 1.0, 1.0, 1.0, 1.0, 1.0, 1.0, 1.0, 1.0, 1.0, 1.0, 1.0, 0.0, 1.0, 1.0, 1.0, 1.0, 1.0, 1.0, 1.0, 1.0, 1.0, 1.0, 1.0, 1.0, 0.0, 1.0, 0.0, 0.0, 0.0, 0.0, 1.0, 1.0, 1.0, 0.0, 1.0, 1.0, 1.0, 0.0, 1.0, 1.0, 0.0, 1.0, 1.0, 1.0, 1.0, 1.0, 1.0, 0.0, 1.0, 1.0, 1.0, 1.0, 1.0, 1.0, 1.0, 1.0, 1.0, 0.0, 1.0, 0.0, 1.0, 1.0, 1.0, 0.0, 1.0, 1.0, 1.0, 1.0, 1.0, 1.0, 1.0, 1.0, 1.0, 1.0, 0.0, 1.0, 1.0, 1.0, 1.0, 1.0, 1.0, 1.0, 1.0, 1.0, 1.0, 1.0, 1.0, 0.0, 1.0, 0.0, 1.0, 1.0, 1.0, 1.0, 1.0, 0.0, 1.0, 0.0, 1.0, 1.0, 1.0, 1.0, 1.0, 1.0, 1.0, 1.0, 1.0, 1.0, 1.0, 1.0, 1.0, 1.0, 1.0, 1.0, 1.0, 1.0, 1.0, 1.0, 1.0, 1.0, 1.0, 1.0, 1.0, 1.0, 1.0, 1.0, 1.0, 1.0, 1.0, 1.0, 1.0, 1.0, 1.0, 1.0, 1.0, 1.0, 1.0, 1.0, 1.0, 1.0, 1.0, 0.0, 1.0, 1.0, 0.0, 1.0, 1.0, 1.0, 0.0, 1.0, 1.0, 1.0, 1.0, 1.0, 1.0, 1.0, 0.0, 1.0, 1.0, 1.0, 1.0, 1.0, 1.0, 1.0, 1.0, 1.0, 0.0, 1.0, 1.0, 1.0, 0.0, 1.0, 0.0, 1.0, 1.0, 1.0, 1.0, 1.0, 1.0, 1.0, 1.0, 1.0, 1.0, 0.0, 1.0, 1.0, 1.0, 1.0, 1.0, 1.0, 1.0, 0.0, 1.0, 1.0, 1.0, 1.0, 1.0, 1.0, 1.0, 1.0, 1.0, 1.0, 1.0, 1.0, 1.0, 0.0, 1.0, 1.0, 0.0, 1.0, 1.0, 1.0, 1.0, 1.0, 1.0, 1.0, 1.0, 1.0, 1.0, 1.0, 1.0, 1.0, 1.0, 1.0, 1.0, 1.0, 1.0, 1.0, 1.0, 1.0, 1.0, 1.0, 1.0, 0.0, 1.0, 1.0, 0.0, 0.0, 1.0, 1.0, 1.0, 1.0, 1.0, 1.0, 1.0, 1.0, 1.0, 1.0, 1.0, 1.0, 0.0, 1.0, 0.0, 1.0, 1.0, 1.0, 1.0, 1.0, 0.0, 1.0, 1.0, 1.0, 0.0, 1.0, 0.0, 1.0, 1.0, 1.0, 1.0, 1.0, 0.0, 1.0, 1.0, 1.0, 1.0, 1.0, 1.0, 1.0, 1.0, 1.0, 1.0, 1.0, 1.0, 1.0, 1.0, 1.0, 1.0, 0.0, 1.0, 1.0, 1.0, 1.0, 1.0, 1.0, 0.0, 1.0, 1.0, 1.0, 1.0, 1.0, 0.0, 1.0, 0.0, 1.0, 1.0, 0.0, 1.0, 1.0, 0.0, 1.0, 1.0, 0.0, 1.0, 1.0, 1.0, 0.0, 1.0, 1.0, 1.0, 1.0, 1.0, 1.0, 0.0, 1.0, 1.0, 0.0, 1.0, 1.0, 1.0, 0.0, 1.0, 1.0, 1.0, 1.0, 1.0, 1.0, 1.0, 0.0, 0.0, 0.0, 1.0, 1.0, 1.0, 1.0, 1.0, 1.0, 1.0, 1.0, 1.0, 1.0, 1.0, 1.0, 1.0, 1.0, 0.0, 1.0, 0.0, 1.0, 1.0, 1.0, 0.0, 1.0, 1.0, 1.0, 1.0, 1.0, 1.0, 1.0, 1.0, 1.0, 1.0, 1.0, 1.0, 1.0, 1.0, 1.0, 1.0, 1.0, 1.0, 1.0, 1.0, 1.0, 1.0, 1.0, 1.0, 1.0, 1.0, 1.0, 1.0, 1.0, 1.0, 1.0, 1.0, 1.0, 1.0, 1.0, 1.0, 1.0, 1.0, 1.0, 1.0, 1.0, 1.0, 1.0, 0.0, 1.0, 1.0, 0.0, 1.0, 1.0, 1.0, 1.0, 0.0, 0.0, 1.0, 1.0, 1.0, 1.0, 1.0, 1.0, 0.0, 1.0, 1.0, 1.0, 1.0, 1.0, 1.0, 1.0, 1.0, 1.0, 1.0, 1.0, 1.0, 1.0, 1.0, 1.0, 1.0, 1.0, 1.0, 0.0, 1.0, 1.0, 1.0, 0.0, 1.0, 1.0, 1.0, 1.0, 1.0, 0.0, 0.0, 1.0, 1.0, 1.0, 1.0, 1.0, 1.0, 1.0, 0.0, 1.0, 1.0, 1.0, 1.0, 1.0, 1.0, 1.0, 1.0, 1.0, 1.0, 1.0, 1.0, 1.0, 1.0, 1.0, 1.0, 1.0, 1.0, 1.0, 1.0, 1.0, 0.0, 1.0, 1.0, 1.0, 1.0, 1.0, 1.0, 1.0, 1.0, 1.0, 1.0, 1.0, 1.0, 1.0, 1.0, 1.0, 1.0, 1.0, 1.0, 1.0, 1.0, 1.0, 1.0, 1.0, 1.0, 1.0, 1.0, 1.0, 0.0, 1.0, 1.0, 1.0, 1.0, 1.0, 1.0, 1.0, 0.0, 1.0, 1.0, 0.0, 1.0, 1.0, 1.0, 1.0, 1.0, 1.0, 1.0, 1.0, 0.0, 0.0, 1.0, 1.0, 1.0, 0.0, 1.0, 1.0, 0.0, 1.0, 1.0, 1.0, 1.0, 1.0, 1.0, 1.0, 1.0, 1.0, 0.0, 1.0, 1.0, 1.0, 1.0, 1.0, 1.0, 1.0, 0.0, 0.0, 1.0, 1.0, 1.0, 0.0, 1.0, 1.0, 1.0, 1.0, 1.0, 1.0, 0.0, 1.0, 1.0, 1.0, 0.0, 1.0, 1.0, 1.0, 1.0, 1.0, 1.0, 1.0, 1.0, 1.0, 1.0, 1.0, 1.0, 1.0, 0.0, 1.0, 1.0, 1.0, 1.0, 1.0, 1.0, 1.0, 1.0, 1.0, 1.0, 1.0, 1.0, 1.0, 1.0, 1.0, 0.0, 1.0, 1.0, 1.0, 0.0, 1.0, 1.0, 1.0, 1.0, 0.0, 0.0, 1.0, 1.0, 1.0, 1.0, 1.0, 1.0, 1.0, 1.0, 1.0, 1.0, 0.0, 1.0, 1.0, 0.0, 1.0, 1.0, 0.0, 1.0, 1.0, 1.0, 1.0, 1.0, 1.0, 1.0, 1.0, 1.0, 1.0, 1.0, 1.0, 1.0, 1.0, 1.0, 1.0, 1.0, 1.0, 1.0, 1.0, 1.0, 1.0, 1.0, 0.0, 1.0, 1.0, 1.0, 0.0, 1.0, 1.0, 1.0, 1.0, 1.0, 1.0, 1.0, 1.0, 1.0, 1.0, 1.0, 1.0, 1.0, 1.0, 1.0, 1.0, 1.0, 1.0, 1.0, 0.0, 1.0, 1.0, 1.0, 1.0, 1.0, 1.0] as keyword args. From version 0.25 passing these as positional arguments will result in an error\n",
      "  FutureWarning)\n",
      "C:\\Users\\lynne\\anaconda3\\envs\\tf-gpu\\lib\\site-packages\\sklearn\\utils\\validation.py:70: FutureWarning: Pass classes=[0. 1.], y=[1.0, 1.0, 0.0, 0.0, 1.0, 1.0, 1.0, 1.0, 1.0, 1.0, 1.0, 1.0, 1.0, 1.0, 1.0, 1.0, 1.0, 1.0, 1.0, 1.0, 1.0, 1.0, 1.0, 1.0, 1.0, 1.0, 1.0, 1.0, 1.0, 1.0, 0.0, 1.0, 1.0, 1.0, 1.0, 1.0, 1.0, 1.0, 1.0, 1.0, 1.0, 1.0, 1.0, 0.0, 1.0, 1.0, 1.0, 1.0, 1.0, 1.0, 1.0, 0.0, 1.0, 1.0, 1.0, 1.0, 1.0, 1.0, 1.0, 1.0, 1.0, 1.0, 1.0, 1.0, 0.0, 0.0, 1.0, 0.0, 1.0, 0.0, 0.0, 1.0, 0.0, 1.0, 1.0, 1.0, 1.0, 1.0, 1.0, 1.0, 1.0, 1.0, 1.0, 1.0, 1.0, 1.0, 0.0, 1.0, 0.0, 0.0, 1.0, 1.0, 1.0, 1.0, 1.0, 0.0, 1.0, 1.0, 1.0, 1.0, 1.0, 0.0, 1.0, 1.0, 1.0, 1.0, 1.0, 1.0, 1.0, 1.0, 1.0, 1.0, 1.0, 1.0, 1.0, 1.0, 1.0, 0.0, 1.0, 1.0, 1.0, 0.0, 0.0, 0.0, 0.0, 1.0, 1.0, 1.0, 1.0, 1.0, 1.0, 1.0, 1.0, 1.0, 1.0, 1.0, 1.0, 1.0, 1.0, 1.0, 1.0, 1.0, 1.0, 1.0, 0.0, 1.0, 1.0, 0.0, 1.0, 1.0, 1.0, 1.0, 0.0, 1.0, 1.0, 1.0, 1.0, 1.0, 1.0, 1.0, 1.0, 1.0, 1.0, 1.0, 1.0, 1.0, 1.0, 1.0, 1.0, 1.0, 1.0, 0.0, 1.0, 1.0, 1.0, 0.0, 1.0, 1.0, 0.0, 1.0, 1.0, 0.0, 1.0, 1.0, 1.0, 0.0, 1.0, 1.0, 1.0, 1.0, 1.0, 1.0, 0.0, 1.0, 0.0, 1.0, 0.0, 1.0, 1.0, 0.0, 1.0, 1.0, 1.0, 0.0, 1.0, 0.0, 1.0, 1.0, 1.0, 1.0, 1.0, 0.0, 1.0, 1.0, 1.0, 1.0, 1.0, 1.0, 0.0, 1.0, 1.0, 0.0, 1.0, 0.0, 1.0, 0.0, 1.0, 0.0, 0.0, 1.0, 1.0, 1.0, 1.0, 1.0, 1.0, 1.0, 1.0, 1.0, 1.0, 1.0, 1.0, 1.0, 0.0, 1.0, 1.0, 1.0, 1.0, 1.0, 1.0, 1.0, 1.0, 1.0, 0.0, 1.0, 1.0, 0.0, 0.0, 1.0, 1.0, 1.0, 0.0, 1.0, 0.0, 1.0, 1.0, 1.0, 0.0, 0.0, 1.0, 0.0, 0.0, 1.0, 1.0, 0.0, 1.0, 1.0, 0.0, 0.0, 1.0, 1.0, 1.0, 0.0, 1.0, 1.0, 1.0, 1.0, 1.0, 1.0, 1.0, 1.0, 1.0, 1.0, 1.0, 1.0, 1.0, 0.0, 1.0, 0.0, 1.0, 1.0, 1.0, 1.0, 1.0, 1.0, 1.0, 1.0, 1.0, 1.0, 1.0, 1.0, 1.0, 1.0, 1.0, 1.0, 1.0, 1.0, 1.0, 1.0, 1.0, 1.0, 1.0, 1.0, 1.0, 1.0, 1.0, 1.0, 1.0, 1.0, 0.0, 1.0, 1.0, 1.0, 1.0, 0.0, 1.0, 1.0, 1.0, 1.0, 1.0, 1.0, 1.0, 1.0, 1.0, 1.0, 1.0, 0.0, 1.0, 1.0, 0.0, 1.0, 1.0, 1.0, 1.0, 1.0, 0.0, 0.0, 1.0, 1.0, 1.0, 1.0, 1.0, 1.0, 1.0, 1.0, 1.0, 1.0, 1.0, 1.0, 1.0, 1.0, 1.0, 1.0, 0.0, 1.0, 1.0, 1.0, 1.0, 1.0, 1.0, 1.0, 1.0, 1.0, 1.0, 1.0, 1.0, 1.0, 1.0, 0.0, 1.0, 1.0, 1.0, 1.0, 1.0, 0.0, 0.0, 1.0, 1.0, 0.0, 1.0, 1.0, 1.0, 1.0, 1.0, 0.0, 1.0, 1.0, 1.0, 1.0, 0.0, 1.0, 1.0, 0.0, 1.0, 1.0, 1.0, 1.0, 1.0, 1.0, 1.0, 1.0, 0.0, 1.0, 1.0, 1.0, 1.0, 1.0, 0.0, 0.0, 1.0, 1.0, 1.0, 1.0, 0.0, 1.0, 1.0, 1.0, 1.0, 1.0, 1.0, 1.0, 0.0, 1.0, 1.0, 1.0, 1.0, 1.0, 1.0, 1.0, 1.0, 1.0, 1.0, 1.0, 1.0, 1.0, 1.0, 1.0, 0.0, 1.0, 0.0, 0.0, 1.0, 1.0, 1.0, 1.0, 1.0, 0.0, 1.0, 1.0, 1.0, 1.0, 1.0, 1.0, 1.0, 1.0, 1.0, 1.0, 1.0, 1.0, 1.0, 0.0, 1.0, 0.0, 1.0, 1.0, 1.0, 1.0, 0.0, 1.0, 1.0, 1.0, 1.0, 1.0, 1.0, 0.0, 1.0, 1.0, 0.0, 1.0, 1.0, 1.0, 1.0, 1.0, 1.0, 0.0, 1.0, 1.0, 0.0, 1.0, 1.0, 1.0, 1.0, 1.0, 1.0, 1.0, 1.0, 1.0, 0.0, 1.0, 1.0, 0.0, 1.0, 1.0, 1.0, 1.0, 1.0, 1.0, 0.0, 1.0, 1.0, 1.0, 1.0, 1.0, 1.0, 1.0, 1.0, 0.0, 1.0, 1.0, 0.0, 1.0, 1.0, 1.0, 0.0, 0.0, 1.0, 1.0, 1.0, 0.0, 1.0, 1.0, 1.0, 1.0, 1.0, 1.0, 1.0, 1.0, 0.0, 1.0, 0.0, 1.0, 1.0, 1.0, 0.0, 1.0, 1.0, 1.0, 0.0, 1.0, 1.0, 1.0, 1.0, 1.0, 1.0, 1.0, 1.0, 1.0, 1.0, 1.0, 1.0, 1.0, 1.0, 0.0, 1.0, 1.0, 1.0, 1.0, 1.0, 0.0, 1.0, 1.0, 1.0, 1.0, 1.0, 1.0, 0.0, 1.0, 1.0, 1.0, 1.0, 1.0, 1.0, 1.0, 1.0, 1.0, 1.0, 1.0, 1.0, 1.0, 1.0, 1.0, 1.0, 0.0, 1.0, 1.0, 1.0, 1.0, 0.0, 1.0, 0.0, 0.0, 0.0, 0.0, 1.0, 1.0, 1.0, 1.0, 1.0, 1.0, 1.0, 1.0, 1.0, 1.0, 1.0, 1.0, 1.0, 1.0, 1.0, 1.0, 1.0, 0.0, 1.0, 1.0, 0.0, 1.0, 1.0, 1.0, 1.0, 1.0, 1.0, 1.0, 1.0, 1.0, 1.0, 1.0, 1.0, 1.0, 1.0, 1.0, 1.0, 1.0, 1.0, 0.0, 1.0, 1.0, 1.0, 0.0, 1.0, 1.0, 1.0, 1.0, 1.0, 1.0, 1.0, 1.0, 1.0, 1.0, 1.0, 1.0, 1.0, 1.0, 1.0, 1.0, 1.0, 1.0, 1.0, 1.0, 1.0, 1.0, 1.0, 1.0, 1.0, 1.0, 0.0, 1.0, 1.0, 1.0, 1.0, 1.0, 1.0, 1.0, 1.0, 0.0, 1.0, 1.0, 0.0, 0.0, 1.0, 1.0, 1.0, 1.0, 0.0, 1.0, 0.0, 0.0, 1.0, 1.0, 1.0, 1.0, 1.0, 1.0, 0.0, 1.0, 1.0, 1.0, 1.0, 1.0, 1.0, 1.0, 1.0, 0.0, 1.0, 1.0, 1.0, 1.0, 1.0, 1.0, 0.0, 1.0, 1.0, 1.0, 1.0, 1.0, 1.0, 0.0, 1.0, 1.0, 1.0, 1.0, 1.0, 1.0, 1.0, 1.0, 1.0, 0.0, 0.0, 1.0, 1.0, 1.0, 0.0, 1.0, 1.0, 1.0, 1.0, 0.0, 1.0, 1.0, 0.0, 1.0, 1.0, 1.0, 1.0, 1.0, 1.0, 1.0, 1.0, 1.0, 0.0, 1.0, 1.0, 0.0, 1.0, 1.0, 1.0, 1.0, 1.0, 1.0, 1.0, 1.0, 1.0, 1.0, 1.0, 1.0, 1.0, 1.0, 0.0, 1.0, 1.0, 1.0, 1.0, 1.0, 1.0, 1.0, 0.0, 1.0, 1.0, 1.0, 1.0, 1.0, 1.0, 1.0, 1.0, 1.0, 1.0, 0.0, 0.0, 1.0, 1.0, 1.0, 1.0, 1.0, 1.0, 1.0, 1.0, 1.0, 1.0, 1.0, 1.0, 1.0, 1.0, 1.0, 1.0, 1.0, 1.0, 1.0, 1.0, 1.0, 1.0, 1.0, 1.0, 1.0, 1.0, 1.0, 1.0, 1.0, 1.0, 1.0, 1.0, 1.0, 0.0, 1.0, 1.0, 1.0, 1.0, 1.0, 1.0, 1.0, 1.0, 1.0, 0.0, 1.0, 1.0, 1.0, 1.0, 1.0, 1.0, 1.0, 0.0, 1.0, 1.0, 1.0, 1.0, 1.0, 1.0, 1.0, 1.0, 1.0, 1.0, 1.0, 0.0, 1.0, 0.0, 1.0, 1.0, 1.0, 1.0, 1.0, 1.0, 0.0, 1.0, 1.0, 0.0, 1.0, 1.0, 1.0, 1.0, 1.0, 1.0, 1.0, 1.0, 1.0, 1.0, 1.0, 1.0, 1.0, 1.0, 1.0, 1.0, 1.0, 1.0, 1.0, 1.0, 1.0, 1.0, 0.0, 1.0, 1.0, 1.0, 1.0, 1.0, 1.0, 1.0, 1.0, 1.0, 1.0, 1.0, 0.0, 1.0, 1.0, 1.0, 1.0, 1.0, 1.0, 1.0, 1.0, 0.0, 1.0, 1.0, 1.0, 1.0, 1.0, 1.0, 1.0, 1.0, 1.0, 1.0, 1.0, 1.0, 1.0, 0.0, 1.0, 1.0, 0.0, 1.0, 1.0, 1.0, 1.0, 1.0, 1.0, 1.0, 0.0, 1.0, 1.0, 0.0, 1.0, 1.0, 1.0, 0.0, 1.0, 1.0, 0.0, 0.0, 1.0, 1.0, 0.0, 1.0, 1.0, 1.0, 0.0, 1.0, 1.0, 1.0, 1.0, 1.0, 1.0, 1.0, 0.0, 1.0, 1.0, 1.0, 1.0, 1.0, 1.0, 1.0, 1.0, 0.0, 1.0, 1.0, 1.0, 0.0, 0.0, 1.0, 1.0, 0.0, 1.0, 1.0, 1.0, 1.0, 1.0, 1.0, 0.0, 1.0, 1.0, 1.0, 1.0, 0.0, 1.0, 1.0, 1.0, 1.0, 1.0, 0.0, 1.0, 1.0, 1.0, 0.0, 1.0, 1.0, 1.0, 0.0, 1.0, 1.0, 1.0, 1.0, 1.0, 1.0, 1.0, 1.0, 0.0, 1.0, 0.0, 1.0, 1.0, 1.0, 1.0, 1.0, 1.0, 0.0, 1.0, 1.0, 1.0, 1.0, 1.0, 1.0, 1.0, 1.0, 1.0, 1.0, 1.0, 1.0, 1.0, 1.0, 1.0, 1.0, 0.0, 1.0, 0.0, 1.0, 1.0, 1.0, 1.0, 1.0, 1.0, 1.0, 0.0, 1.0, 1.0, 1.0, 1.0, 1.0, 0.0, 1.0, 1.0, 1.0, 1.0, 1.0, 1.0, 1.0, 0.0, 1.0, 1.0, 1.0, 0.0, 1.0, 0.0, 1.0, 1.0, 1.0, 0.0, 1.0, 0.0, 1.0, 1.0, 1.0, 1.0, 1.0, 1.0, 1.0, 0.0, 1.0, 1.0, 1.0, 1.0, 0.0, 1.0, 1.0, 1.0, 1.0, 1.0, 1.0, 1.0, 1.0, 1.0, 1.0, 1.0, 0.0, 1.0, 0.0, 1.0, 1.0, 0.0, 0.0, 1.0, 1.0, 1.0, 0.0, 1.0, 1.0, 1.0, 1.0, 0.0, 1.0, 1.0, 0.0, 1.0, 0.0, 1.0, 1.0, 1.0, 1.0, 1.0, 1.0, 1.0, 1.0, 1.0, 1.0, 1.0, 1.0, 1.0, 1.0, 1.0, 1.0, 1.0, 1.0, 0.0, 1.0, 1.0, 1.0, 1.0, 0.0, 0.0, 0.0, 1.0, 1.0, 1.0, 1.0, 1.0, 1.0, 1.0, 1.0, 1.0, 1.0, 1.0, 1.0, 1.0, 0.0, 1.0, 1.0, 1.0, 1.0, 1.0, 1.0, 1.0, 1.0, 1.0, 0.0, 0.0, 1.0, 1.0, 1.0, 1.0, 1.0, 1.0, 1.0, 1.0, 1.0, 1.0, 1.0, 1.0, 1.0, 1.0, 1.0, 1.0, 1.0, 1.0, 1.0, 1.0, 1.0, 1.0, 0.0, 1.0, 1.0, 1.0, 1.0, 0.0, 1.0, 1.0, 1.0, 1.0, 1.0, 0.0, 1.0, 1.0, 0.0, 0.0, 1.0, 1.0, 0.0, 0.0, 1.0, 1.0, 1.0, 1.0, 1.0, 1.0, 1.0, 1.0, 1.0, 1.0, 1.0, 0.0, 1.0, 1.0, 1.0, 1.0, 1.0, 1.0, 1.0, 1.0, 1.0, 1.0, 0.0, 1.0, 1.0, 1.0, 1.0, 0.0, 1.0, 1.0, 0.0, 1.0, 1.0, 1.0, 1.0, 1.0, 1.0, 1.0, 1.0, 1.0, 1.0, 1.0, 1.0, 1.0, 1.0, 1.0, 1.0, 1.0, 1.0, 1.0, 1.0, 1.0, 1.0, 1.0, 1.0, 0.0, 1.0, 1.0, 1.0, 1.0, 0.0, 1.0, 1.0, 1.0, 1.0, 1.0, 1.0, 1.0, 1.0, 1.0, 1.0, 1.0, 1.0, 1.0, 1.0, 1.0, 1.0, 0.0, 1.0, 0.0, 1.0, 1.0, 1.0, 0.0, 0.0, 1.0, 1.0, 1.0, 1.0, 1.0, 1.0, 1.0, 0.0, 1.0, 1.0, 1.0, 1.0, 1.0, 1.0, 1.0, 0.0, 1.0, 1.0, 1.0, 1.0, 1.0, 1.0, 1.0, 1.0, 1.0, 1.0, 1.0, 0.0, 1.0, 0.0, 0.0, 1.0, 1.0, 1.0, 1.0, 1.0, 1.0, 1.0, 1.0, 1.0, 1.0, 1.0, 1.0, 1.0, 1.0, 0.0, 0.0, 1.0, 1.0, 1.0, 1.0, 1.0, 0.0, 1.0, 1.0, 1.0, 1.0, 1.0, 1.0, 1.0, 1.0, 1.0, 1.0, 1.0, 1.0, 1.0, 1.0, 0.0, 1.0, 1.0, 1.0, 1.0, 0.0, 0.0, 1.0, 1.0, 0.0, 0.0, 1.0, 1.0, 1.0, 0.0, 0.0, 0.0, 1.0, 1.0, 1.0, 1.0, 1.0, 1.0, 1.0, 1.0, 1.0, 1.0, 1.0, 1.0, 1.0, 1.0, 0.0, 0.0, 1.0, 0.0, 0.0, 1.0, 1.0, 1.0, 1.0, 1.0, 1.0, 1.0, 1.0, 1.0, 1.0, 1.0, 1.0, 1.0, 1.0, 1.0, 0.0, 1.0, 1.0, 1.0, 1.0, 1.0, 0.0, 0.0, 1.0, 0.0, 1.0, 1.0, 1.0, 1.0, 1.0, 1.0, 1.0, 1.0, 1.0, 1.0, 1.0, 1.0, 1.0, 1.0, 1.0, 1.0, 1.0, 1.0, 1.0, 1.0, 1.0, 1.0, 1.0, 1.0, 1.0, 0.0, 1.0, 1.0, 1.0, 1.0, 1.0, 1.0, 1.0, 1.0, 0.0, 1.0, 1.0, 1.0, 1.0, 1.0, 1.0, 0.0, 1.0, 1.0, 1.0, 0.0, 1.0, 1.0, 1.0, 1.0, 1.0, 1.0, 1.0, 1.0, 1.0, 1.0, 1.0, 1.0, 0.0, 1.0, 1.0, 1.0, 0.0, 1.0, 1.0, 1.0, 1.0, 1.0, 1.0, 0.0, 1.0, 1.0, 1.0, 1.0, 1.0, 1.0, 0.0, 1.0, 1.0, 0.0, 0.0, 1.0, 1.0, 1.0, 0.0, 1.0, 1.0, 1.0, 1.0, 1.0, 1.0, 1.0, 1.0, 1.0, 0.0, 1.0, 0.0, 1.0, 1.0, 0.0, 1.0, 1.0, 1.0, 1.0, 1.0, 1.0, 0.0, 1.0, 1.0, 1.0, 1.0, 1.0, 1.0, 1.0, 1.0, 1.0, 1.0, 1.0, 1.0, 1.0, 1.0, 1.0, 1.0, 1.0, 0.0, 1.0, 1.0, 1.0, 1.0, 0.0, 1.0, 1.0, 0.0, 1.0, 1.0, 1.0, 1.0, 1.0, 1.0, 1.0, 1.0, 1.0, 1.0, 1.0, 0.0, 1.0, 0.0, 0.0, 1.0, 1.0, 1.0, 1.0, 1.0, 1.0, 1.0, 1.0, 1.0, 1.0, 0.0, 1.0, 1.0, 1.0, 1.0, 1.0, 0.0, 1.0, 1.0, 1.0, 1.0, 1.0, 0.0, 1.0, 0.0, 1.0, 1.0, 1.0, 1.0, 1.0, 1.0, 1.0, 1.0, 0.0, 1.0, 1.0, 1.0, 0.0, 0.0, 1.0, 1.0, 0.0, 1.0, 0.0, 1.0, 0.0, 1.0, 1.0, 1.0, 1.0, 1.0, 1.0, 1.0, 1.0, 1.0, 1.0, 1.0, 1.0, 1.0, 1.0, 1.0, 1.0, 1.0, 0.0, 1.0, 0.0, 1.0, 1.0, 1.0, 1.0, 1.0, 1.0, 0.0, 0.0, 1.0, 1.0, 1.0, 1.0, 1.0, 1.0, 1.0, 0.0, 1.0, 1.0, 0.0, 0.0, 1.0, 1.0, 1.0, 1.0, 1.0, 1.0, 1.0, 0.0, 0.0, 1.0, 1.0, 1.0, 1.0, 0.0, 1.0, 0.0, 1.0, 1.0, 1.0, 1.0, 0.0, 1.0, 1.0, 1.0, 1.0, 1.0, 1.0, 1.0, 1.0, 1.0, 1.0, 1.0, 0.0, 1.0, 1.0, 0.0, 1.0, 1.0, 1.0, 1.0, 1.0, 1.0, 1.0, 1.0, 1.0, 1.0, 0.0, 1.0, 1.0, 1.0, 1.0, 1.0, 1.0, 1.0, 1.0, 1.0, 0.0, 1.0, 1.0, 1.0, 1.0, 1.0, 1.0, 1.0, 1.0, 1.0, 1.0, 1.0, 1.0, 0.0, 1.0, 1.0, 1.0, 1.0, 1.0, 1.0, 1.0, 1.0, 1.0, 1.0, 1.0, 1.0, 1.0, 1.0, 1.0, 1.0, 1.0, 1.0, 1.0, 1.0, 1.0, 1.0, 1.0, 1.0, 1.0, 1.0, 1.0, 1.0, 1.0, 1.0, 1.0, 1.0, 1.0, 0.0, 1.0, 1.0, 1.0, 0.0, 1.0, 1.0, 1.0, 1.0, 0.0, 1.0, 0.0, 1.0, 0.0, 1.0, 0.0, 1.0, 1.0, 1.0, 0.0, 0.0, 1.0, 0.0, 1.0, 1.0, 1.0, 1.0, 1.0, 1.0, 1.0, 1.0, 1.0, 1.0, 1.0, 1.0, 1.0, 0.0, 1.0, 1.0, 1.0, 1.0, 1.0, 1.0, 1.0, 1.0, 0.0, 1.0, 1.0, 1.0, 1.0, 1.0, 1.0, 1.0, 1.0, 0.0, 1.0, 1.0, 1.0, 1.0, 1.0, 0.0, 1.0, 1.0, 1.0, 1.0, 1.0, 1.0, 1.0, 1.0, 0.0, 1.0, 1.0, 1.0, 1.0, 0.0, 0.0, 1.0, 1.0, 1.0, 0.0, 1.0, 1.0, 1.0, 1.0, 1.0, 1.0, 1.0, 0.0, 1.0, 0.0, 1.0, 1.0, 1.0, 1.0, 1.0, 0.0, 1.0, 1.0, 1.0, 1.0, 0.0, 0.0, 1.0, 1.0, 0.0, 1.0, 1.0, 1.0, 0.0, 1.0, 1.0, 1.0, 1.0, 1.0, 0.0, 1.0, 1.0, 0.0, 1.0, 0.0, 1.0, 1.0, 1.0, 1.0, 0.0, 1.0, 1.0, 1.0, 1.0, 1.0, 1.0, 1.0, 0.0, 1.0, 1.0, 1.0, 1.0, 1.0, 1.0, 1.0, 1.0, 1.0, 1.0, 0.0, 1.0, 1.0, 1.0, 1.0, 1.0, 1.0, 1.0, 1.0, 1.0, 1.0, 1.0, 1.0, 1.0, 1.0, 1.0, 1.0, 0.0, 1.0, 1.0, 1.0, 1.0, 1.0, 0.0, 1.0, 0.0, 1.0, 1.0, 1.0, 0.0, 1.0, 1.0, 1.0, 1.0, 0.0, 1.0, 1.0, 0.0, 1.0, 1.0, 1.0, 1.0, 1.0, 1.0, 1.0, 1.0, 1.0, 1.0, 1.0, 1.0, 1.0, 1.0, 1.0, 1.0, 1.0, 1.0, 1.0, 1.0, 1.0, 1.0, 1.0, 1.0, 0.0, 1.0, 1.0, 1.0, 1.0, 1.0, 1.0, 1.0, 1.0, 0.0, 1.0, 1.0, 0.0, 1.0, 1.0, 1.0, 1.0, 1.0, 1.0, 0.0, 0.0, 1.0, 1.0, 1.0, 1.0, 1.0, 1.0, 1.0, 1.0, 1.0, 0.0, 1.0, 1.0, 1.0, 1.0, 1.0, 1.0, 1.0, 1.0, 0.0, 1.0, 1.0, 1.0, 0.0, 1.0, 1.0, 1.0, 1.0, 1.0, 1.0, 1.0, 1.0, 1.0, 1.0, 1.0, 1.0, 0.0, 1.0, 1.0, 1.0, 1.0, 1.0, 0.0, 0.0, 1.0, 1.0, 1.0, 1.0, 1.0, 1.0, 1.0, 1.0, 0.0, 1.0, 1.0, 0.0, 1.0, 1.0, 0.0, 1.0, 1.0, 1.0, 1.0, 1.0, 1.0, 1.0, 1.0, 0.0, 1.0, 1.0, 0.0, 1.0, 0.0, 1.0, 0.0, 1.0, 1.0, 1.0, 1.0, 1.0, 1.0, 1.0, 1.0, 1.0, 0.0, 1.0, 1.0, 1.0, 1.0, 1.0, 1.0, 1.0, 0.0, 1.0, 1.0, 1.0, 1.0, 1.0, 1.0, 1.0, 1.0, 1.0, 1.0, 1.0, 1.0, 1.0, 0.0, 1.0, 0.0, 1.0, 1.0, 1.0, 1.0, 1.0, 1.0, 1.0, 0.0, 1.0, 1.0, 1.0, 1.0, 1.0, 1.0, 1.0, 0.0, 1.0, 1.0, 1.0, 1.0, 1.0, 1.0, 1.0, 1.0, 1.0, 1.0, 1.0, 1.0, 1.0, 1.0, 1.0, 1.0, 1.0, 0.0, 1.0, 0.0, 1.0, 1.0, 1.0, 1.0, 1.0, 1.0, 0.0, 0.0, 1.0, 1.0, 1.0, 1.0, 0.0, 1.0, 1.0, 1.0, 1.0, 1.0, 0.0, 1.0, 1.0, 0.0, 1.0, 1.0, 1.0, 1.0, 1.0, 1.0, 1.0, 1.0, 1.0, 1.0, 1.0, 1.0, 1.0, 1.0, 1.0, 1.0, 1.0, 1.0, 0.0, 1.0, 1.0, 1.0, 1.0, 1.0, 1.0, 1.0, 1.0, 1.0, 1.0, 1.0, 1.0, 1.0, 1.0, 0.0, 1.0, 1.0, 1.0, 1.0, 1.0, 1.0, 0.0, 1.0, 1.0, 1.0, 1.0, 1.0, 1.0, 1.0, 1.0, 1.0, 1.0, 1.0, 1.0, 1.0, 1.0, 1.0, 1.0, 1.0, 1.0, 1.0, 0.0, 0.0, 1.0, 0.0, 1.0, 1.0, 1.0, 1.0, 1.0, 1.0, 1.0, 1.0, 1.0, 1.0, 1.0, 1.0, 1.0, 1.0, 1.0, 0.0, 0.0, 1.0, 1.0, 1.0, 0.0, 0.0, 1.0, 0.0, 1.0, 1.0, 1.0, 1.0, 0.0, 1.0, 0.0, 1.0, 1.0, 1.0, 0.0, 1.0, 1.0, 1.0, 0.0, 1.0, 1.0, 1.0, 1.0, 1.0, 1.0, 1.0, 0.0, 1.0, 1.0, 0.0, 1.0, 1.0, 1.0, 1.0, 1.0, 1.0, 0.0, 1.0, 1.0, 1.0, 1.0, 0.0, 1.0, 1.0, 1.0, 1.0, 1.0, 0.0, 0.0, 1.0, 1.0, 1.0, 1.0, 1.0, 1.0, 1.0, 1.0, 1.0, 1.0, 1.0, 1.0, 1.0, 1.0, 1.0, 1.0, 1.0, 1.0, 1.0, 1.0, 1.0, 1.0, 0.0, 1.0, 1.0, 1.0, 1.0, 1.0, 0.0, 1.0, 1.0, 1.0, 0.0, 1.0, 1.0, 1.0, 1.0, 1.0, 1.0, 1.0, 1.0, 1.0, 1.0, 1.0, 1.0, 1.0, 1.0, 1.0, 1.0, 0.0, 1.0, 1.0, 1.0, 1.0, 1.0, 0.0, 1.0, 0.0, 1.0, 1.0, 1.0, 1.0, 1.0, 1.0, 1.0, 1.0, 1.0, 0.0, 1.0, 1.0, 1.0, 1.0, 0.0, 1.0, 1.0, 0.0, 0.0, 1.0, 1.0, 1.0, 1.0, 1.0, 1.0, 1.0, 1.0, 1.0, 1.0, 1.0, 1.0, 1.0, 1.0, 0.0, 1.0, 1.0, 1.0, 1.0, 1.0, 1.0, 0.0, 1.0, 1.0, 0.0, 0.0, 1.0, 0.0, 0.0, 0.0, 1.0, 0.0, 0.0, 1.0, 1.0, 1.0, 1.0, 1.0, 0.0, 1.0, 1.0, 1.0, 1.0, 1.0, 1.0, 1.0, 1.0, 1.0, 1.0, 1.0, 1.0, 0.0, 1.0, 1.0, 1.0, 1.0, 1.0, 1.0, 1.0, 1.0, 1.0, 1.0, 1.0, 1.0, 1.0, 1.0, 1.0, 1.0, 1.0, 1.0, 1.0, 1.0, 1.0, 1.0, 1.0, 1.0, 1.0, 1.0, 0.0, 1.0, 0.0, 1.0, 1.0, 1.0, 1.0, 1.0, 0.0, 0.0, 1.0, 0.0, 0.0, 0.0, 1.0, 0.0, 1.0, 1.0, 1.0, 1.0, 1.0, 1.0, 1.0, 1.0, 1.0, 1.0, 1.0, 0.0, 1.0, 1.0, 1.0, 1.0, 1.0, 1.0, 1.0, 1.0, 0.0, 1.0, 1.0, 0.0, 1.0, 0.0, 1.0, 0.0, 1.0, 1.0, 1.0, 1.0, 1.0, 1.0, 1.0, 0.0, 1.0, 1.0, 1.0, 0.0, 1.0, 1.0, 0.0, 1.0, 0.0, 0.0, 1.0, 1.0, 1.0, 1.0, 1.0, 1.0, 1.0, 1.0, 0.0, 1.0, 1.0, 1.0, 1.0, 1.0, 1.0, 1.0, 1.0, 1.0, 0.0, 1.0, 0.0, 1.0, 1.0, 0.0, 1.0, 1.0, 1.0, 1.0, 1.0, 1.0, 1.0, 1.0, 1.0, 1.0, 1.0, 1.0, 1.0, 1.0, 0.0, 1.0, 1.0, 0.0, 1.0, 1.0, 0.0, 1.0, 1.0, 1.0, 1.0, 1.0, 1.0, 1.0, 1.0, 0.0, 0.0, 1.0, 1.0, 1.0, 1.0, 1.0, 1.0, 1.0, 1.0, 1.0, 0.0, 1.0, 1.0, 1.0, 1.0, 1.0, 1.0, 1.0, 0.0, 1.0, 0.0, 0.0, 0.0, 1.0, 1.0, 1.0, 1.0, 1.0, 0.0, 1.0, 1.0, 1.0, 1.0, 1.0, 1.0, 1.0, 1.0, 1.0, 1.0, 1.0, 1.0, 1.0, 1.0, 0.0, 1.0, 1.0, 0.0, 1.0, 0.0, 1.0, 1.0, 1.0, 1.0, 1.0, 1.0, 0.0, 1.0, 1.0, 1.0, 1.0, 1.0, 1.0, 0.0, 1.0, 1.0, 1.0, 0.0, 1.0, 1.0, 1.0, 1.0, 1.0, 1.0, 1.0, 1.0, 1.0, 1.0, 1.0, 1.0, 1.0, 1.0, 1.0, 1.0, 1.0, 1.0, 0.0, 1.0, 1.0, 1.0, 1.0, 1.0, 1.0, 1.0, 1.0, 1.0, 0.0, 1.0, 1.0, 0.0, 1.0, 1.0, 1.0, 1.0, 1.0, 1.0, 0.0, 1.0, 0.0, 1.0, 0.0, 0.0, 1.0, 1.0, 1.0, 1.0, 1.0, 1.0, 1.0, 1.0, 1.0, 1.0, 0.0, 1.0, 1.0, 1.0, 1.0, 0.0, 1.0, 1.0, 0.0, 1.0, 1.0, 1.0, 1.0, 1.0, 0.0, 1.0, 1.0, 1.0, 1.0, 1.0, 1.0, 1.0, 0.0, 1.0, 1.0, 1.0, 0.0, 1.0, 1.0, 0.0, 1.0, 1.0, 1.0, 1.0, 0.0, 1.0, 1.0, 1.0, 0.0, 1.0, 1.0, 1.0, 1.0, 1.0, 1.0, 0.0, 1.0, 1.0, 1.0, 1.0, 0.0, 1.0, 1.0, 0.0, 1.0, 1.0, 0.0, 1.0, 1.0, 1.0, 1.0, 1.0, 1.0, 1.0, 1.0, 1.0, 1.0, 0.0, 1.0, 1.0, 1.0, 1.0, 1.0, 1.0, 1.0, 1.0, 1.0, 1.0, 1.0, 1.0, 0.0, 1.0, 1.0, 1.0, 1.0, 1.0, 1.0, 1.0, 1.0, 1.0, 0.0, 1.0, 1.0, 0.0, 1.0, 1.0, 1.0, 1.0, 1.0, 1.0, 1.0, 1.0, 1.0, 1.0, 1.0, 1.0, 0.0, 0.0, 1.0, 1.0, 1.0, 1.0, 1.0, 1.0, 1.0, 1.0, 1.0, 1.0, 1.0, 1.0, 1.0, 1.0, 1.0, 1.0, 1.0, 0.0, 1.0, 1.0, 1.0, 1.0, 1.0, 1.0, 1.0, 0.0, 1.0, 1.0, 1.0, 1.0, 1.0, 1.0, 1.0, 1.0, 0.0, 1.0, 1.0, 1.0, 1.0, 1.0, 1.0, 1.0, 1.0, 0.0, 0.0, 0.0, 1.0, 1.0, 1.0, 1.0, 1.0, 1.0, 1.0, 1.0, 1.0, 1.0, 1.0, 0.0, 0.0, 1.0, 0.0, 1.0, 1.0, 0.0, 1.0, 1.0, 1.0, 1.0, 1.0, 1.0, 0.0, 1.0, 1.0, 1.0, 1.0, 1.0, 1.0, 1.0, 1.0, 1.0, 1.0, 1.0, 1.0, 1.0, 0.0, 1.0, 1.0, 1.0, 1.0, 1.0, 1.0, 1.0, 1.0, 0.0, 0.0, 1.0, 1.0, 1.0, 0.0, 1.0, 0.0, 1.0, 1.0, 1.0, 1.0, 1.0, 1.0, 0.0, 1.0, 1.0, 1.0, 1.0, 1.0, 0.0, 0.0, 1.0, 1.0, 1.0, 1.0, 0.0, 1.0, 1.0, 1.0, 1.0, 1.0, 1.0, 0.0, 0.0, 1.0, 1.0, 1.0, 0.0, 0.0, 1.0, 1.0, 1.0, 1.0, 1.0, 1.0, 1.0, 1.0, 1.0, 1.0, 1.0, 1.0, 1.0, 1.0, 1.0, 0.0, 1.0, 0.0, 1.0, 0.0, 1.0, 1.0, 0.0, 1.0, 1.0, 1.0, 1.0, 1.0, 0.0, 1.0, 1.0, 1.0, 1.0, 1.0, 1.0, 1.0, 1.0, 1.0, 1.0, 1.0, 1.0, 1.0, 1.0, 1.0, 0.0, 1.0, 0.0, 1.0, 1.0, 1.0, 1.0, 0.0, 1.0, 1.0, 1.0, 1.0, 1.0, 1.0, 1.0, 0.0, 1.0, 0.0, 1.0, 1.0, 1.0, 1.0, 1.0, 1.0, 1.0, 0.0, 1.0, 1.0, 1.0, 1.0, 1.0, 0.0, 1.0, 1.0, 1.0, 1.0, 1.0, 1.0, 1.0, 1.0, 1.0, 1.0, 1.0, 1.0, 1.0, 1.0, 1.0, 1.0, 0.0, 0.0, 1.0, 1.0, 1.0, 1.0, 1.0, 1.0, 1.0, 1.0, 1.0, 1.0, 1.0, 1.0, 1.0, 1.0, 1.0, 1.0, 1.0, 1.0, 1.0, 0.0, 1.0, 1.0, 1.0, 1.0, 1.0, 1.0, 1.0, 1.0, 0.0, 1.0, 1.0, 1.0, 1.0, 1.0, 1.0, 1.0, 1.0, 0.0, 1.0, 1.0, 1.0, 1.0, 1.0, 1.0, 0.0, 1.0, 0.0, 1.0, 1.0, 1.0, 1.0, 1.0, 0.0, 0.0, 1.0, 1.0, 1.0, 0.0, 1.0, 1.0, 1.0, 0.0, 1.0, 1.0, 1.0, 0.0, 0.0, 1.0, 1.0, 1.0, 1.0, 1.0, 1.0, 1.0, 1.0, 1.0, 1.0, 1.0, 1.0, 1.0, 1.0, 0.0, 1.0, 1.0, 1.0, 0.0, 1.0, 0.0, 1.0, 1.0, 1.0, 1.0, 1.0, 1.0, 1.0, 1.0, 1.0, 1.0, 1.0, 1.0, 1.0, 1.0, 0.0, 1.0, 1.0, 1.0, 1.0, 1.0, 1.0, 0.0, 1.0, 1.0, 1.0, 1.0, 1.0, 1.0, 1.0, 1.0, 1.0, 1.0, 1.0, 1.0, 1.0, 1.0, 1.0, 1.0, 1.0, 1.0, 1.0, 0.0, 1.0, 1.0, 1.0, 0.0, 1.0, 1.0, 1.0, 0.0, 1.0, 1.0, 1.0, 1.0, 1.0, 1.0, 1.0, 1.0, 1.0, 1.0, 1.0, 1.0, 1.0, 0.0, 1.0, 1.0, 0.0, 1.0, 0.0, 1.0, 1.0, 1.0, 1.0, 1.0, 1.0, 0.0, 1.0, 1.0, 1.0, 1.0, 0.0, 0.0, 1.0, 1.0, 0.0, 1.0, 1.0, 1.0, 1.0, 1.0, 1.0, 0.0, 1.0, 1.0, 1.0, 1.0, 1.0, 0.0, 1.0, 1.0, 1.0, 1.0, 1.0, 1.0, 1.0, 1.0, 1.0, 1.0, 1.0, 1.0, 1.0, 0.0, 1.0, 1.0, 0.0, 1.0, 1.0, 1.0, 1.0, 0.0, 0.0, 1.0, 1.0, 0.0, 0.0, 1.0, 1.0, 1.0, 1.0, 1.0, 1.0, 1.0, 1.0, 1.0, 1.0, 1.0, 0.0, 1.0, 1.0, 1.0, 1.0, 1.0, 1.0, 1.0, 1.0, 1.0, 1.0, 1.0, 1.0, 1.0, 1.0, 0.0, 0.0, 1.0, 1.0, 1.0, 1.0, 1.0, 1.0, 1.0, 1.0, 1.0, 1.0, 1.0, 1.0, 1.0, 1.0, 1.0, 0.0, 1.0, 0.0, 1.0, 1.0, 1.0, 1.0, 1.0, 1.0, 1.0, 1.0, 1.0, 1.0, 0.0, 1.0, 1.0, 1.0, 1.0, 1.0, 1.0, 1.0, 0.0, 1.0, 1.0, 1.0, 1.0, 1.0, 1.0, 1.0, 0.0, 1.0, 1.0, 1.0, 1.0, 1.0, 1.0, 1.0, 1.0, 1.0, 1.0, 1.0, 1.0, 0.0, 1.0, 1.0, 1.0, 1.0, 1.0, 1.0, 1.0, 1.0, 1.0, 0.0, 1.0, 1.0, 0.0, 0.0, 0.0, 1.0, 1.0, 1.0, 1.0, 1.0, 1.0, 0.0, 1.0, 1.0, 1.0, 1.0, 0.0, 1.0, 1.0, 1.0, 0.0, 0.0, 1.0, 1.0, 1.0, 0.0, 1.0, 1.0, 1.0, 0.0, 1.0, 1.0, 1.0, 1.0, 1.0, 1.0, 1.0, 0.0, 1.0, 1.0, 1.0, 0.0, 1.0, 1.0, 0.0, 0.0, 1.0, 1.0, 1.0, 0.0, 1.0, 1.0, 1.0, 0.0, 0.0, 1.0, 1.0, 1.0, 1.0, 0.0, 1.0, 1.0, 1.0, 1.0, 1.0, 1.0, 1.0, 1.0, 1.0, 1.0, 1.0, 1.0, 1.0, 1.0, 1.0, 1.0, 1.0, 1.0, 1.0, 1.0, 1.0, 1.0, 1.0, 1.0, 1.0, 0.0, 1.0, 1.0, 1.0, 1.0, 0.0, 1.0, 1.0, 1.0, 1.0, 1.0, 1.0, 1.0, 1.0, 1.0, 1.0, 1.0, 1.0, 1.0, 1.0, 1.0, 1.0, 1.0, 1.0, 1.0, 0.0, 1.0, 0.0, 1.0, 1.0, 1.0, 1.0, 1.0, 0.0, 1.0, 1.0, 1.0, 0.0, 1.0, 1.0, 0.0, 1.0, 1.0, 1.0, 1.0, 1.0, 1.0, 1.0, 0.0, 1.0, 0.0, 0.0, 0.0, 1.0, 1.0, 1.0, 1.0, 1.0, 1.0, 1.0, 1.0, 1.0, 1.0, 1.0, 1.0, 1.0, 1.0, 1.0, 1.0, 1.0, 1.0, 1.0, 0.0, 1.0, 0.0, 1.0, 1.0, 1.0, 0.0, 1.0, 0.0, 1.0, 1.0, 1.0, 0.0, 1.0, 1.0, 1.0, 1.0, 1.0, 1.0, 1.0, 0.0, 1.0, 1.0, 1.0, 1.0, 1.0, 1.0, 1.0, 1.0, 1.0, 1.0, 1.0, 1.0, 1.0, 1.0, 1.0, 0.0, 1.0, 1.0, 1.0, 1.0, 1.0, 1.0, 1.0, 1.0, 1.0, 1.0, 1.0, 1.0, 1.0, 0.0, 1.0, 1.0, 1.0, 1.0, 1.0, 1.0, 1.0, 1.0, 1.0, 1.0, 1.0, 0.0, 1.0, 1.0, 1.0, 1.0, 1.0, 1.0, 1.0, 1.0, 1.0, 0.0, 0.0, 1.0, 0.0, 1.0, 1.0, 1.0, 1.0, 1.0, 1.0, 0.0, 1.0, 1.0, 1.0, 1.0, 1.0, 1.0, 1.0, 0.0, 1.0, 1.0, 1.0, 0.0, 1.0, 1.0, 1.0, 1.0, 1.0, 1.0, 0.0, 1.0, 1.0, 1.0, 1.0, 1.0, 0.0, 1.0, 1.0, 1.0, 1.0, 1.0, 1.0, 0.0, 1.0, 0.0, 1.0, 1.0, 1.0, 0.0, 1.0, 1.0, 1.0, 1.0, 1.0, 0.0, 1.0, 1.0, 1.0, 1.0, 1.0, 0.0, 1.0, 1.0, 1.0, 1.0, 1.0, 1.0, 1.0, 1.0, 1.0, 1.0, 1.0, 1.0, 1.0, 1.0, 1.0, 1.0, 1.0, 1.0, 1.0, 0.0, 1.0, 1.0, 1.0, 1.0, 1.0, 0.0, 1.0, 0.0, 1.0, 1.0, 1.0, 1.0, 1.0, 0.0, 1.0, 1.0, 1.0, 1.0, 1.0, 1.0, 1.0, 1.0, 1.0, 1.0, 1.0, 1.0, 1.0, 1.0, 1.0, 1.0, 1.0, 1.0, 1.0, 1.0, 1.0, 1.0, 1.0, 1.0, 1.0, 0.0, 1.0, 1.0, 1.0, 1.0, 1.0, 1.0, 0.0, 1.0, 1.0, 1.0, 0.0, 1.0, 1.0, 1.0, 1.0, 1.0, 0.0, 1.0, 1.0, 1.0, 1.0, 1.0, 1.0, 1.0, 1.0, 0.0, 1.0, 1.0, 1.0, 1.0, 1.0, 0.0, 1.0, 0.0, 0.0, 1.0, 1.0, 1.0, 0.0, 1.0, 1.0, 0.0, 1.0, 1.0, 0.0, 1.0, 1.0, 1.0, 1.0, 1.0, 1.0, 1.0, 1.0, 1.0, 1.0, 1.0, 1.0, 1.0, 1.0, 1.0, 1.0, 1.0, 1.0, 0.0, 0.0, 0.0, 1.0, 1.0, 1.0, 1.0, 1.0, 1.0, 1.0, 1.0, 1.0, 1.0, 0.0, 0.0, 1.0, 1.0, 1.0, 1.0, 1.0, 1.0, 1.0, 0.0, 1.0, 1.0, 1.0, 1.0, 0.0, 1.0, 1.0, 1.0, 1.0, 1.0, 1.0, 1.0, 1.0, 0.0, 0.0, 1.0, 1.0, 1.0, 1.0, 1.0, 1.0, 1.0, 1.0, 1.0, 1.0, 1.0, 0.0, 1.0, 1.0, 0.0, 1.0, 1.0, 0.0, 1.0, 1.0, 1.0, 1.0, 1.0, 1.0, 1.0, 1.0, 1.0, 1.0, 0.0, 1.0, 1.0, 1.0, 1.0, 1.0, 1.0, 1.0, 1.0, 1.0, 1.0, 1.0, 1.0, 1.0, 1.0, 1.0, 1.0, 1.0, 1.0, 1.0, 1.0, 1.0, 1.0, 1.0, 0.0, 1.0, 1.0, 1.0, 0.0, 1.0, 1.0, 1.0, 1.0, 1.0, 1.0, 1.0, 1.0, 1.0, 1.0, 0.0, 1.0, 1.0, 1.0, 1.0, 1.0, 1.0, 1.0, 1.0, 1.0, 1.0, 1.0, 0.0, 1.0, 1.0, 1.0, 1.0, 1.0, 1.0, 0.0, 1.0, 1.0, 0.0, 1.0, 1.0, 1.0, 1.0, 1.0, 0.0, 0.0, 1.0, 0.0, 1.0, 1.0, 1.0, 1.0, 1.0, 1.0, 1.0, 1.0, 1.0, 1.0, 1.0, 0.0, 1.0, 0.0, 1.0, 1.0, 0.0, 1.0, 0.0, 1.0, 1.0, 1.0, 1.0, 0.0, 1.0, 1.0, 1.0, 1.0, 1.0, 1.0, 1.0, 1.0, 1.0, 1.0, 1.0, 1.0, 1.0, 1.0, 1.0, 1.0, 1.0, 0.0, 1.0, 1.0, 1.0, 1.0, 1.0, 1.0, 1.0, 1.0, 1.0, 1.0, 1.0, 1.0, 1.0, 1.0, 1.0, 1.0, 1.0, 1.0, 0.0, 1.0, 0.0, 1.0, 1.0, 1.0, 1.0, 1.0, 1.0, 0.0, 1.0, 1.0, 0.0, 1.0, 0.0, 1.0, 1.0, 1.0, 1.0, 1.0, 0.0, 0.0, 1.0, 1.0, 1.0, 0.0, 1.0, 0.0, 1.0, 1.0, 1.0, 0.0, 1.0, 1.0, 1.0, 1.0, 1.0, 1.0, 1.0, 1.0, 1.0, 1.0, 1.0, 1.0, 1.0, 1.0, 1.0, 1.0, 0.0, 1.0, 1.0, 1.0, 1.0, 0.0, 1.0, 1.0, 1.0, 1.0, 1.0, 0.0, 1.0, 1.0, 1.0, 1.0, 1.0, 1.0, 1.0, 1.0, 1.0, 1.0, 1.0, 1.0, 1.0, 0.0, 1.0, 1.0, 1.0, 1.0, 1.0, 1.0, 1.0, 1.0, 0.0, 1.0, 1.0, 1.0, 1.0, 0.0, 1.0, 1.0, 0.0, 1.0, 1.0, 1.0, 1.0, 0.0, 1.0, 1.0, 1.0, 1.0, 0.0, 0.0, 1.0, 1.0, 1.0, 1.0, 1.0, 1.0, 0.0, 1.0, 1.0, 1.0, 1.0, 1.0, 1.0, 1.0, 1.0, 0.0, 1.0, 1.0, 1.0, 1.0, 1.0, 1.0, 1.0, 1.0, 1.0, 1.0, 1.0, 1.0, 1.0, 1.0, 1.0, 1.0, 1.0, 1.0, 1.0, 1.0, 1.0, 1.0, 1.0, 1.0, 1.0, 1.0, 1.0, 1.0, 0.0, 1.0, 1.0, 1.0, 1.0, 1.0, 1.0, 1.0, 1.0, 1.0, 0.0, 1.0, 1.0, 0.0, 1.0, 1.0, 1.0, 1.0, 1.0, 1.0, 1.0, 1.0, 1.0, 1.0, 1.0, 0.0, 1.0, 1.0, 1.0, 1.0, 0.0, 1.0, 1.0, 0.0, 1.0, 1.0, 1.0, 1.0, 1.0, 1.0, 1.0, 1.0, 1.0, 1.0, 1.0, 1.0, 1.0, 1.0, 1.0, 0.0, 1.0, 1.0, 0.0, 1.0, 1.0, 1.0, 1.0, 1.0, 1.0, 1.0, 0.0, 1.0, 1.0, 1.0, 1.0, 1.0, 1.0, 0.0, 1.0, 1.0, 0.0, 1.0, 1.0, 1.0, 0.0, 1.0, 1.0, 1.0, 1.0, 0.0, 1.0, 1.0, 1.0, 1.0, 1.0, 1.0, 1.0, 1.0, 1.0, 1.0, 1.0, 1.0, 1.0, 1.0, 0.0, 1.0, 1.0, 1.0, 1.0, 1.0, 1.0, 1.0, 1.0, 1.0, 1.0, 1.0, 1.0, 1.0, 0.0, 1.0, 1.0, 1.0, 1.0, 1.0, 0.0, 1.0, 0.0, 0.0, 1.0, 0.0, 1.0, 1.0, 1.0, 1.0, 1.0, 1.0, 0.0, 1.0, 1.0, 1.0, 1.0, 1.0, 0.0, 1.0, 1.0, 1.0, 0.0, 1.0, 1.0, 1.0, 1.0, 1.0, 1.0, 1.0, 1.0, 1.0, 1.0, 1.0, 1.0, 1.0, 1.0, 1.0, 1.0, 1.0, 1.0, 1.0, 1.0, 1.0, 1.0, 1.0, 0.0, 0.0, 1.0, 1.0, 0.0, 1.0, 1.0, 1.0, 1.0, 1.0, 1.0, 1.0, 0.0, 1.0, 1.0, 1.0, 1.0, 1.0, 1.0, 1.0, 0.0, 1.0, 1.0, 1.0, 1.0, 1.0, 1.0, 1.0, 1.0, 1.0, 1.0, 0.0, 1.0, 1.0, 1.0, 0.0, 1.0, 1.0, 1.0, 1.0, 1.0, 1.0, 1.0, 1.0, 1.0, 1.0, 1.0, 0.0, 1.0, 1.0, 0.0, 1.0, 0.0, 1.0, 1.0, 1.0, 1.0, 0.0, 1.0, 1.0, 1.0, 1.0, 1.0, 1.0, 1.0, 1.0, 0.0, 0.0, 1.0, 1.0, 1.0, 1.0, 1.0, 1.0, 1.0, 1.0, 0.0, 1.0, 0.0, 1.0, 1.0, 1.0, 0.0, 1.0, 1.0, 1.0, 1.0, 1.0, 1.0, 1.0, 1.0, 1.0, 1.0, 1.0, 1.0, 1.0, 1.0, 1.0, 1.0, 0.0, 1.0, 1.0, 1.0, 0.0, 1.0, 1.0, 1.0, 1.0, 1.0, 1.0, 0.0, 1.0, 1.0, 0.0, 1.0, 1.0, 1.0, 1.0, 1.0, 1.0, 1.0, 1.0, 1.0, 0.0, 1.0, 1.0, 1.0, 1.0, 1.0, 1.0, 1.0, 1.0, 1.0, 0.0, 1.0, 1.0, 1.0, 1.0, 0.0, 0.0, 0.0, 1.0, 1.0, 1.0, 1.0, 0.0, 1.0, 0.0, 1.0, 1.0, 1.0, 1.0, 1.0, 1.0, 1.0, 1.0, 0.0, 1.0, 1.0, 0.0, 1.0, 1.0, 1.0, 0.0, 1.0, 1.0, 1.0, 1.0, 0.0, 1.0, 0.0, 1.0, 1.0, 0.0, 1.0, 1.0, 1.0, 1.0, 0.0, 0.0, 1.0, 1.0, 0.0, 1.0, 1.0, 1.0, 1.0, 1.0, 1.0, 0.0, 1.0, 1.0, 1.0, 0.0, 1.0, 1.0, 1.0, 1.0, 0.0, 1.0, 1.0, 1.0, 1.0, 1.0, 1.0, 1.0, 1.0, 0.0, 1.0, 1.0, 1.0, 1.0, 1.0, 1.0, 1.0, 1.0, 1.0, 1.0, 1.0, 1.0, 1.0, 1.0, 1.0, 1.0, 1.0, 0.0, 1.0, 1.0, 1.0, 1.0, 0.0, 1.0, 1.0, 1.0, 1.0, 1.0, 1.0, 1.0, 1.0, 1.0, 0.0, 1.0, 1.0, 1.0, 1.0, 1.0, 1.0, 1.0, 1.0, 1.0, 1.0, 1.0, 1.0, 1.0, 0.0, 1.0, 1.0, 1.0, 1.0, 0.0, 0.0, 1.0, 1.0, 1.0, 0.0, 1.0, 1.0, 1.0, 1.0, 1.0, 1.0, 1.0, 1.0, 1.0, 1.0, 1.0, 1.0, 1.0, 1.0, 0.0, 1.0, 1.0, 1.0, 1.0, 1.0, 1.0, 1.0, 1.0, 1.0, 1.0, 1.0, 1.0, 1.0, 1.0, 1.0, 1.0, 1.0, 1.0, 1.0, 1.0, 1.0, 1.0, 1.0, 1.0, 1.0, 1.0, 1.0, 1.0, 1.0, 1.0, 1.0, 1.0, 1.0, 1.0, 1.0, 0.0, 1.0, 1.0, 1.0, 1.0, 1.0, 1.0, 0.0, 1.0, 1.0, 1.0, 1.0, 1.0, 1.0, 1.0, 1.0, 1.0, 1.0, 1.0, 1.0, 1.0, 1.0, 1.0, 1.0, 1.0, 1.0, 1.0, 1.0, 1.0, 1.0, 1.0, 1.0, 0.0, 1.0, 1.0, 1.0, 1.0, 0.0, 1.0, 1.0, 0.0, 1.0, 1.0, 1.0, 1.0, 1.0, 1.0, 1.0, 1.0, 0.0, 0.0, 1.0, 1.0, 1.0, 1.0, 1.0, 1.0, 1.0, 1.0, 1.0, 1.0, 1.0, 1.0, 1.0, 1.0, 0.0, 1.0, 1.0, 1.0, 1.0, 1.0, 1.0, 0.0, 1.0, 1.0, 1.0, 1.0, 1.0, 1.0, 0.0, 1.0, 0.0, 0.0, 1.0, 1.0, 1.0, 0.0, 1.0, 0.0, 1.0, 1.0, 0.0, 1.0, 1.0, 1.0, 0.0, 1.0, 0.0, 1.0, 1.0, 1.0, 0.0, 1.0, 1.0, 1.0, 1.0, 1.0, 1.0, 1.0, 0.0, 0.0, 1.0, 0.0, 1.0, 1.0, 1.0, 1.0, 1.0, 1.0, 1.0, 1.0, 1.0, 0.0, 1.0, 1.0, 1.0, 1.0, 1.0, 1.0, 1.0, 1.0, 1.0, 0.0, 1.0, 1.0, 1.0, 1.0, 1.0, 1.0, 1.0, 1.0, 0.0, 1.0, 1.0, 1.0, 1.0, 1.0, 1.0, 1.0, 1.0, 0.0, 1.0, 1.0, 0.0, 1.0, 1.0, 1.0, 1.0, 1.0, 0.0, 1.0, 1.0, 1.0, 0.0, 0.0, 1.0, 0.0, 1.0, 1.0, 1.0, 1.0, 1.0, 1.0, 1.0, 1.0, 1.0, 1.0, 0.0, 1.0, 0.0, 1.0, 1.0, 1.0, 0.0, 0.0, 1.0, 1.0, 1.0, 1.0, 1.0, 1.0, 1.0, 1.0, 0.0, 1.0, 1.0, 1.0, 1.0, 1.0, 0.0, 1.0, 1.0, 1.0, 1.0, 1.0, 1.0, 1.0, 1.0, 0.0, 1.0, 0.0, 1.0, 1.0, 1.0, 1.0, 1.0, 1.0, 0.0, 0.0, 0.0, 1.0, 0.0, 1.0, 1.0, 1.0, 1.0, 1.0, 0.0, 1.0, 1.0, 1.0, 1.0, 1.0, 1.0, 1.0, 1.0, 1.0, 1.0, 1.0, 1.0, 1.0, 1.0, 1.0, 1.0, 1.0, 1.0, 0.0, 1.0, 1.0, 1.0, 1.0, 1.0, 1.0, 1.0, 1.0, 1.0, 1.0, 1.0, 1.0, 1.0, 1.0, 1.0, 1.0, 1.0, 1.0, 1.0, 1.0, 1.0, 1.0, 1.0, 1.0, 1.0, 0.0, 1.0, 1.0, 1.0, 0.0, 1.0, 0.0, 1.0, 1.0, 1.0, 1.0, 1.0, 1.0, 1.0, 1.0, 1.0, 1.0, 1.0, 1.0, 1.0, 1.0, 0.0, 0.0, 0.0, 1.0, 0.0, 0.0, 1.0, 1.0, 1.0, 1.0, 1.0, 1.0, 1.0, 0.0, 1.0, 1.0, 1.0, 1.0, 1.0, 1.0, 1.0, 1.0, 1.0, 0.0, 0.0, 1.0, 1.0, 0.0, 1.0, 1.0, 1.0, 1.0, 0.0, 1.0, 1.0, 0.0, 1.0, 1.0, 0.0, 0.0, 1.0, 1.0, 1.0, 1.0, 1.0, 1.0, 1.0, 1.0, 1.0, 0.0, 1.0, 1.0, 0.0, 1.0, 0.0, 1.0, 1.0, 0.0, 0.0, 1.0, 1.0, 1.0, 0.0, 1.0, 0.0, 1.0, 1.0, 1.0, 0.0, 1.0, 1.0, 1.0, 1.0, 1.0, 1.0, 1.0, 1.0, 1.0, 0.0, 1.0, 1.0, 1.0, 1.0, 1.0, 0.0, 1.0, 1.0, 1.0, 1.0, 1.0, 1.0, 1.0, 1.0, 1.0, 1.0, 1.0, 1.0, 1.0, 1.0, 0.0, 0.0, 0.0, 1.0, 1.0, 1.0, 1.0, 1.0, 1.0, 1.0, 1.0, 0.0, 1.0, 1.0, 1.0, 1.0, 0.0, 0.0, 0.0, 1.0, 0.0, 0.0, 1.0, 1.0, 1.0, 1.0, 1.0, 1.0, 1.0, 1.0, 1.0, 1.0, 1.0, 1.0, 1.0, 1.0, 1.0, 1.0, 1.0, 1.0, 0.0, 1.0, 1.0, 1.0, 1.0, 1.0, 0.0, 1.0, 1.0, 1.0, 1.0, 1.0, 0.0, 1.0, 1.0, 0.0, 1.0, 1.0, 1.0, 1.0, 1.0, 1.0, 1.0, 1.0, 1.0, 1.0, 1.0, 1.0, 0.0, 1.0, 1.0, 1.0, 1.0, 1.0, 1.0, 0.0, 1.0, 1.0, 1.0, 1.0, 1.0, 1.0, 1.0, 1.0, 1.0, 1.0, 1.0, 0.0, 1.0, 1.0, 1.0, 1.0, 1.0, 1.0, 1.0, 1.0, 1.0, 0.0, 0.0, 0.0, 1.0, 1.0, 1.0, 1.0, 1.0, 1.0, 1.0, 1.0, 1.0, 1.0, 1.0, 1.0, 1.0, 1.0, 0.0, 1.0, 1.0, 1.0, 1.0, 1.0, 1.0, 1.0, 1.0, 1.0, 1.0, 1.0, 1.0, 1.0, 1.0, 1.0, 1.0, 1.0, 1.0, 0.0, 0.0, 1.0, 0.0, 1.0, 1.0, 1.0, 1.0, 0.0, 0.0, 1.0, 1.0, 0.0, 1.0, 1.0, 1.0, 1.0, 1.0, 1.0, 1.0, 1.0, 1.0, 1.0, 1.0, 0.0, 1.0, 1.0, 1.0, 1.0, 1.0, 1.0, 0.0, 1.0, 1.0, 1.0, 1.0, 1.0, 0.0, 1.0, 1.0, 1.0, 1.0, 1.0, 1.0, 1.0, 1.0, 1.0, 1.0, 1.0, 1.0, 1.0, 1.0, 1.0, 1.0, 0.0, 1.0, 1.0, 1.0, 1.0, 1.0, 1.0, 1.0, 0.0, 1.0, 1.0, 1.0, 1.0, 1.0, 1.0, 1.0, 1.0, 1.0, 1.0, 1.0, 0.0, 1.0, 1.0, 1.0, 1.0, 1.0, 1.0, 0.0, 1.0, 0.0, 1.0, 1.0, 1.0, 1.0, 0.0, 1.0, 1.0, 0.0, 1.0, 1.0, 0.0, 1.0, 1.0, 0.0, 1.0, 1.0, 1.0, 0.0, 1.0, 1.0, 0.0, 1.0, 1.0, 0.0, 1.0, 1.0, 1.0, 1.0, 1.0, 1.0, 1.0, 0.0, 1.0, 1.0, 1.0, 1.0, 1.0, 1.0, 1.0, 1.0, 1.0, 1.0, 1.0, 1.0, 1.0, 1.0, 1.0, 1.0, 1.0, 1.0, 1.0, 1.0, 1.0, 1.0, 1.0, 0.0, 1.0, 1.0, 0.0, 1.0, 1.0, 1.0, 1.0, 0.0, 1.0, 0.0, 1.0, 1.0, 1.0, 1.0, 1.0, 0.0, 1.0, 1.0, 1.0, 0.0, 1.0, 1.0, 1.0, 1.0, 1.0, 1.0, 1.0, 1.0, 1.0, 1.0, 0.0, 1.0, 1.0, 1.0, 1.0, 1.0, 1.0, 1.0, 1.0, 1.0, 1.0, 1.0, 1.0, 0.0, 1.0, 0.0, 1.0, 0.0, 1.0, 0.0, 1.0, 1.0, 1.0, 1.0, 1.0, 1.0, 1.0, 1.0, 1.0, 1.0, 1.0, 1.0, 0.0, 0.0, 1.0, 1.0, 1.0, 1.0, 1.0, 0.0, 1.0, 1.0, 0.0, 1.0, 1.0, 1.0, 0.0, 1.0, 1.0, 1.0, 0.0, 1.0, 1.0, 1.0, 1.0, 1.0, 1.0, 1.0, 0.0, 1.0, 1.0, 1.0, 1.0, 1.0, 1.0, 1.0, 1.0, 1.0, 1.0, 1.0, 1.0, 0.0, 1.0, 1.0, 1.0, 1.0, 1.0, 1.0, 1.0, 1.0, 1.0, 1.0, 1.0, 1.0, 0.0, 1.0, 0.0, 1.0, 1.0, 1.0, 1.0, 1.0, 1.0, 1.0, 1.0, 1.0, 1.0, 1.0, 0.0, 1.0, 1.0, 1.0, 1.0, 0.0, 1.0, 1.0, 0.0, 1.0, 1.0, 1.0, 1.0, 1.0, 0.0, 1.0, 0.0, 1.0, 1.0, 0.0, 1.0, 1.0, 1.0, 0.0, 1.0, 1.0, 1.0, 1.0, 0.0, 1.0, 1.0, 1.0, 1.0, 0.0, 1.0, 1.0, 1.0, 1.0, 1.0, 1.0, 1.0, 1.0, 0.0, 1.0, 1.0, 1.0, 1.0, 0.0, 1.0, 1.0, 1.0, 1.0, 1.0, 1.0, 1.0, 1.0, 1.0, 0.0, 0.0, 1.0, 1.0, 0.0, 1.0, 1.0, 0.0, 0.0, 1.0, 1.0, 1.0, 1.0, 0.0, 1.0, 0.0, 1.0, 1.0, 1.0, 1.0, 1.0, 1.0, 1.0, 1.0, 1.0, 1.0, 1.0, 1.0, 1.0, 1.0, 1.0, 1.0, 1.0, 1.0, 1.0, 1.0, 0.0, 0.0, 1.0, 1.0, 1.0, 1.0, 1.0, 1.0, 1.0, 1.0, 1.0, 1.0, 1.0, 0.0, 1.0, 1.0, 1.0, 1.0, 1.0, 1.0, 1.0, 0.0, 1.0, 1.0, 1.0, 1.0, 1.0, 0.0, 0.0, 1.0, 1.0, 0.0, 0.0, 1.0, 1.0, 0.0, 1.0, 1.0, 1.0, 1.0, 1.0, 1.0, 1.0, 0.0, 1.0, 1.0, 1.0, 1.0, 1.0, 1.0, 1.0, 1.0, 1.0, 1.0, 1.0, 1.0, 1.0, 0.0, 1.0, 1.0, 0.0, 1.0, 1.0, 1.0, 1.0, 1.0, 1.0, 0.0, 1.0, 1.0, 1.0, 1.0, 1.0, 1.0, 0.0, 0.0, 1.0, 1.0, 1.0, 1.0, 0.0, 1.0, 1.0, 1.0, 1.0, 1.0, 0.0, 1.0, 1.0, 1.0, 1.0, 0.0, 1.0, 1.0, 1.0, 1.0, 1.0, 1.0, 1.0, 0.0, 0.0, 1.0, 1.0, 1.0, 1.0, 1.0, 1.0, 1.0, 0.0, 1.0, 1.0, 1.0, 1.0, 1.0, 1.0, 1.0, 1.0, 1.0, 1.0, 0.0, 1.0, 1.0, 1.0, 1.0, 1.0, 1.0, 1.0, 1.0, 0.0, 1.0, 0.0, 1.0, 1.0, 1.0, 1.0, 1.0, 1.0, 1.0, 1.0, 1.0, 1.0, 1.0, 0.0, 1.0, 1.0, 1.0, 1.0, 1.0, 1.0, 1.0, 1.0, 1.0, 1.0, 1.0, 1.0, 1.0, 1.0, 0.0, 1.0, 1.0, 1.0, 1.0, 1.0, 1.0, 1.0, 1.0, 1.0, 1.0, 1.0, 1.0, 0.0, 1.0, 1.0, 1.0, 1.0, 1.0, 1.0, 1.0, 0.0, 1.0, 1.0, 1.0, 1.0, 1.0, 0.0, 1.0, 1.0, 1.0, 0.0, 1.0, 1.0, 1.0, 1.0, 1.0, 1.0, 1.0, 1.0, 0.0, 1.0, 1.0, 1.0, 1.0, 1.0, 1.0, 1.0, 1.0, 1.0, 0.0, 1.0, 1.0, 1.0, 1.0, 1.0, 0.0, 0.0, 1.0, 1.0, 0.0, 1.0, 1.0, 0.0, 1.0, 0.0, 1.0, 1.0, 1.0, 1.0, 1.0, 1.0, 1.0, 1.0, 1.0, 1.0, 0.0, 0.0, 1.0, 1.0, 1.0, 1.0, 1.0, 1.0, 1.0, 1.0, 1.0, 1.0, 0.0, 0.0, 0.0, 1.0, 1.0, 0.0, 1.0, 1.0, 1.0, 1.0, 1.0, 1.0, 1.0, 1.0, 1.0, 1.0, 1.0, 1.0, 1.0, 1.0, 1.0, 1.0, 1.0, 1.0, 1.0, 1.0, 1.0, 1.0, 0.0, 0.0, 1.0, 1.0, 1.0, 1.0, 0.0, 0.0, 0.0, 1.0, 1.0, 1.0, 0.0, 1.0, 1.0, 1.0, 0.0, 0.0, 1.0, 0.0, 1.0, 1.0, 1.0, 1.0, 1.0, 1.0, 1.0, 0.0, 1.0, 1.0, 1.0, 1.0, 1.0, 1.0, 1.0, 0.0, 1.0, 1.0, 1.0, 1.0, 1.0, 1.0, 1.0, 1.0, 1.0, 1.0, 1.0, 1.0, 1.0, 1.0, 1.0, 1.0, 1.0, 1.0, 1.0, 1.0, 0.0, 1.0, 0.0, 1.0, 1.0, 1.0, 1.0, 1.0, 1.0, 0.0, 1.0, 1.0, 1.0, 1.0, 1.0, 1.0, 1.0, 1.0, 0.0, 1.0, 1.0, 1.0, 1.0, 1.0, 1.0, 1.0, 1.0, 1.0, 1.0, 1.0, 1.0, 1.0, 1.0, 1.0, 1.0, 1.0, 1.0, 1.0, 0.0, 1.0, 1.0, 1.0, 0.0, 1.0, 1.0, 1.0, 1.0, 0.0, 1.0, 1.0, 1.0, 1.0, 1.0, 1.0, 1.0, 1.0, 1.0, 0.0, 1.0, 1.0, 1.0, 1.0, 1.0, 0.0, 0.0, 1.0, 1.0, 1.0, 1.0, 0.0, 0.0, 1.0, 1.0, 1.0, 1.0, 1.0, 1.0, 1.0, 1.0, 1.0, 1.0, 1.0, 0.0, 1.0, 0.0, 1.0, 1.0, 1.0, 1.0, 1.0, 1.0, 1.0, 1.0, 1.0, 0.0, 1.0, 1.0, 1.0, 1.0, 0.0, 1.0, 1.0, 0.0, 0.0, 1.0, 1.0, 1.0, 1.0, 1.0, 1.0, 1.0, 1.0, 1.0, 1.0, 1.0, 0.0, 1.0, 1.0, 1.0, 1.0, 1.0, 1.0, 1.0, 0.0, 1.0, 1.0, 1.0, 0.0, 1.0, 1.0, 1.0, 1.0, 1.0, 0.0, 1.0, 1.0, 1.0, 1.0, 1.0, 1.0, 0.0, 1.0, 1.0, 1.0, 1.0, 1.0, 0.0, 1.0, 1.0, 1.0, 1.0, 1.0, 1.0, 1.0, 1.0, 1.0, 1.0, 1.0, 1.0, 1.0, 1.0, 0.0, 1.0, 0.0, 0.0, 1.0, 1.0, 1.0, 1.0, 1.0, 1.0, 0.0, 1.0, 1.0, 1.0, 1.0, 1.0, 1.0, 1.0, 1.0, 1.0, 1.0, 1.0, 1.0, 1.0, 1.0, 1.0, 1.0, 1.0, 1.0, 1.0, 1.0, 1.0, 0.0, 1.0, 1.0, 1.0, 0.0, 1.0, 1.0, 1.0, 1.0, 1.0, 1.0, 1.0, 1.0, 1.0, 1.0, 1.0, 0.0, 1.0, 1.0, 1.0, 1.0, 1.0, 1.0, 1.0, 1.0, 1.0, 1.0, 1.0, 1.0, 1.0, 1.0, 1.0, 1.0, 1.0, 1.0, 1.0, 1.0, 1.0, 1.0, 1.0, 1.0, 1.0, 1.0, 0.0, 0.0, 1.0, 1.0, 1.0, 1.0, 1.0, 1.0, 1.0, 1.0, 1.0, 1.0, 1.0, 1.0, 1.0, 1.0, 1.0, 0.0, 1.0, 1.0, 1.0, 0.0, 1.0, 0.0, 1.0, 1.0, 1.0, 0.0, 1.0, 1.0, 1.0, 1.0, 1.0, 1.0, 0.0, 1.0, 1.0, 1.0, 1.0, 1.0, 1.0, 1.0, 1.0, 0.0, 1.0, 0.0, 1.0, 0.0, 1.0, 1.0, 1.0, 1.0, 0.0, 1.0, 0.0, 1.0, 1.0, 1.0, 1.0, 0.0, 1.0, 1.0, 1.0, 0.0, 1.0, 1.0, 1.0, 1.0, 1.0, 1.0, 1.0, 1.0, 1.0, 1.0, 1.0, 0.0, 1.0, 1.0, 1.0, 1.0, 1.0, 1.0, 1.0, 1.0, 1.0, 1.0, 1.0, 1.0, 1.0, 1.0, 1.0, 1.0, 1.0, 1.0, 0.0, 1.0, 1.0, 1.0, 1.0, 1.0, 0.0, 1.0, 1.0, 1.0, 0.0, 1.0, 1.0, 1.0, 1.0, 1.0, 1.0, 1.0, 1.0, 1.0, 1.0, 0.0, 1.0, 1.0, 1.0, 1.0, 1.0, 1.0, 0.0, 1.0, 1.0, 1.0, 0.0, 1.0, 1.0, 1.0, 1.0, 1.0, 0.0, 1.0, 1.0, 1.0, 1.0, 1.0, 1.0, 1.0, 1.0, 1.0, 1.0, 1.0, 0.0, 1.0, 1.0, 1.0, 0.0, 1.0, 1.0, 0.0, 1.0, 1.0, 1.0, 0.0, 1.0, 1.0, 1.0, 1.0, 1.0, 1.0, 1.0, 1.0, 1.0, 1.0, 1.0, 1.0, 0.0, 1.0, 1.0, 1.0, 1.0, 0.0, 1.0, 1.0, 0.0, 1.0, 1.0, 0.0, 1.0, 1.0, 1.0, 1.0, 1.0, 1.0, 1.0, 1.0, 1.0, 0.0, 1.0, 1.0, 0.0, 1.0, 1.0, 1.0, 1.0, 1.0, 1.0, 1.0, 0.0, 1.0, 0.0, 1.0, 1.0, 1.0, 1.0, 1.0, 1.0, 1.0, 1.0, 1.0, 1.0, 1.0, 1.0, 1.0, 1.0, 1.0, 1.0, 1.0, 1.0, 1.0, 1.0, 1.0, 1.0, 1.0, 1.0, 1.0, 1.0, 1.0, 1.0, 1.0, 1.0, 1.0, 1.0, 1.0, 1.0, 1.0, 1.0, 1.0, 1.0, 1.0, 1.0, 1.0, 1.0, 1.0, 1.0, 1.0, 1.0, 1.0, 1.0, 0.0, 1.0, 0.0, 1.0, 1.0, 0.0, 1.0, 1.0, 1.0, 1.0, 1.0, 0.0, 1.0, 0.0, 1.0, 1.0, 1.0, 1.0, 1.0, 1.0, 0.0, 1.0, 1.0, 0.0, 1.0, 1.0, 1.0, 1.0, 1.0, 1.0, 1.0, 1.0, 1.0, 1.0, 1.0, 1.0, 1.0, 1.0, 1.0, 1.0, 1.0, 1.0, 1.0, 1.0, 1.0, 1.0, 1.0, 1.0, 1.0, 1.0, 1.0, 0.0, 1.0, 1.0, 1.0, 1.0, 1.0, 1.0, 1.0, 1.0, 1.0, 1.0, 1.0, 1.0, 1.0, 1.0, 1.0, 0.0, 0.0, 1.0, 1.0, 0.0, 0.0, 0.0, 1.0, 1.0, 1.0, 1.0, 1.0, 1.0, 1.0, 1.0, 1.0, 1.0, 1.0, 1.0, 1.0, 0.0, 1.0, 1.0, 0.0, 1.0, 1.0, 1.0, 1.0, 1.0, 1.0, 1.0, 1.0, 0.0, 0.0, 0.0, 1.0, 0.0, 1.0, 1.0, 1.0, 0.0, 1.0, 0.0, 1.0, 1.0, 1.0, 1.0, 1.0, 1.0, 1.0, 0.0, 0.0, 0.0, 1.0, 1.0, 1.0, 1.0, 0.0, 0.0, 1.0, 0.0, 1.0, 1.0, 1.0, 0.0, 0.0, 1.0, 1.0, 1.0, 1.0, 1.0, 0.0, 1.0, 1.0, 1.0, 1.0, 1.0, 1.0, 0.0, 0.0, 1.0, 0.0, 1.0, 1.0, 1.0, 1.0, 1.0, 0.0, 1.0, 1.0, 1.0, 1.0, 1.0, 1.0, 0.0, 0.0, 0.0, 1.0, 1.0, 1.0, 1.0, 1.0, 0.0, 1.0, 1.0, 1.0, 1.0, 1.0, 1.0, 1.0, 1.0, 0.0, 1.0, 1.0, 1.0, 0.0, 1.0, 1.0, 1.0, 1.0, 1.0, 1.0, 1.0, 1.0, 1.0, 1.0, 0.0, 1.0, 1.0, 1.0, 1.0, 1.0, 1.0, 1.0, 1.0, 1.0, 1.0, 1.0, 1.0, 1.0, 1.0, 1.0, 0.0, 1.0, 1.0, 1.0, 1.0, 1.0, 1.0, 0.0, 0.0, 1.0, 0.0, 1.0, 1.0, 1.0, 1.0, 1.0, 1.0, 1.0, 1.0, 1.0, 1.0, 1.0, 1.0, 1.0, 1.0, 1.0, 1.0, 1.0, 1.0, 1.0, 1.0, 1.0, 1.0, 1.0, 1.0, 1.0, 1.0, 1.0, 1.0, 1.0, 1.0, 0.0, 1.0, 1.0, 0.0, 0.0, 1.0, 0.0, 1.0, 1.0, 1.0, 1.0, 1.0, 0.0, 0.0, 1.0, 1.0, 1.0, 1.0, 1.0, 1.0, 1.0, 1.0, 1.0, 1.0, 1.0, 1.0, 1.0, 1.0, 1.0, 1.0, 0.0, 0.0, 0.0, 1.0, 1.0, 1.0, 0.0, 1.0, 1.0, 1.0, 1.0, 1.0, 1.0, 1.0, 1.0, 1.0, 1.0, 0.0, 0.0, 1.0, 1.0, 0.0, 1.0, 1.0, 1.0, 1.0, 1.0, 1.0, 1.0, 1.0, 1.0, 1.0, 1.0, 1.0, 1.0, 1.0, 1.0, 1.0, 1.0, 0.0, 1.0, 1.0, 1.0, 0.0, 1.0, 0.0, 1.0, 1.0, 1.0, 0.0, 0.0, 1.0, 1.0, 1.0, 1.0, 1.0, 1.0, 0.0, 1.0, 1.0, 1.0, 1.0, 1.0, 1.0, 1.0, 1.0, 0.0, 1.0, 1.0, 1.0, 1.0, 1.0, 1.0, 0.0, 1.0, 1.0, 1.0, 0.0, 1.0, 1.0, 1.0, 1.0, 1.0, 1.0, 1.0, 1.0, 1.0, 1.0, 0.0, 1.0, 1.0, 1.0, 0.0, 0.0, 1.0, 1.0, 1.0, 0.0, 0.0, 1.0, 1.0, 0.0, 1.0, 1.0, 1.0, 1.0, 0.0, 1.0, 1.0, 1.0, 1.0, 1.0, 1.0, 0.0, 1.0, 0.0, 1.0, 1.0, 1.0, 1.0, 1.0, 1.0, 1.0, 0.0, 1.0, 0.0, 1.0, 1.0, 1.0, 1.0, 1.0, 1.0, 1.0, 1.0, 1.0, 1.0, 1.0, 1.0, 0.0, 1.0, 1.0, 1.0, 1.0, 1.0, 1.0, 1.0, 0.0, 1.0, 1.0, 1.0, 1.0, 0.0, 1.0, 1.0, 1.0, 1.0, 1.0, 1.0, 1.0, 1.0, 0.0, 1.0, 1.0, 1.0, 1.0, 1.0, 1.0, 1.0, 1.0, 0.0, 1.0, 1.0, 1.0, 0.0, 1.0, 0.0, 1.0, 1.0, 1.0, 1.0, 1.0, 0.0, 1.0, 1.0, 1.0, 0.0, 1.0, 1.0, 0.0, 1.0, 1.0, 1.0, 1.0, 1.0, 1.0, 1.0, 1.0, 1.0, 1.0, 1.0, 1.0, 1.0, 1.0, 1.0, 1.0, 1.0, 0.0, 1.0, 1.0, 0.0, 1.0, 1.0, 1.0, 1.0, 1.0, 1.0, 1.0, 1.0, 1.0, 1.0, 1.0, 1.0, 1.0, 1.0, 1.0, 1.0, 1.0, 1.0, 0.0, 0.0, 1.0, 1.0, 1.0, 1.0, 1.0, 1.0, 0.0, 0.0, 1.0, 0.0, 1.0, 1.0, 1.0, 1.0, 1.0, 1.0, 1.0, 1.0, 1.0, 1.0, 1.0, 0.0, 1.0, 1.0, 1.0, 1.0, 1.0, 0.0, 1.0, 0.0, 0.0, 1.0, 1.0, 1.0, 1.0, 1.0, 1.0, 1.0, 1.0, 0.0, 1.0, 0.0, 1.0, 0.0, 1.0, 1.0, 1.0, 1.0, 0.0, 1.0, 1.0, 1.0, 1.0, 0.0, 1.0, 1.0, 1.0, 0.0, 1.0, 1.0, 1.0, 1.0, 1.0, 1.0, 1.0, 0.0, 1.0, 1.0, 1.0, 1.0, 1.0, 1.0, 1.0, 1.0, 1.0, 1.0, 1.0, 1.0, 0.0, 0.0, 1.0, 1.0, 1.0, 1.0, 1.0, 0.0, 0.0, 1.0, 1.0, 1.0, 1.0, 1.0, 1.0, 1.0, 1.0, 1.0, 1.0, 1.0, 1.0, 1.0, 0.0, 1.0, 1.0, 0.0, 1.0, 1.0, 1.0, 1.0, 1.0, 1.0, 0.0, 1.0, 1.0, 1.0, 1.0, 1.0, 1.0, 1.0, 1.0, 1.0, 1.0, 1.0, 0.0, 1.0, 1.0, 1.0, 1.0, 0.0, 1.0, 1.0, 1.0, 1.0, 1.0, 1.0, 1.0, 1.0, 1.0, 1.0, 1.0, 0.0, 1.0, 1.0, 1.0, 1.0, 0.0, 1.0, 1.0, 1.0, 1.0, 1.0, 0.0, 1.0, 0.0, 1.0, 0.0, 1.0, 0.0, 1.0, 0.0, 1.0, 1.0, 1.0, 1.0, 1.0, 0.0, 1.0, 1.0, 1.0, 1.0, 1.0, 1.0, 1.0, 1.0, 0.0, 1.0, 1.0, 0.0, 1.0, 1.0, 1.0, 1.0, 1.0, 1.0, 1.0, 1.0, 0.0, 1.0, 1.0, 1.0, 1.0, 1.0, 0.0, 1.0, 1.0, 1.0, 1.0, 1.0, 0.0, 1.0, 1.0, 1.0, 1.0, 1.0, 0.0, 1.0, 1.0, 0.0, 1.0, 1.0, 1.0, 1.0, 1.0, 1.0, 1.0, 0.0, 1.0, 1.0, 1.0, 1.0, 1.0, 1.0, 0.0, 0.0, 1.0, 1.0, 0.0, 1.0, 1.0, 0.0, 1.0, 1.0, 1.0, 0.0, 1.0, 1.0, 1.0, 0.0, 1.0, 1.0, 1.0, 1.0, 1.0, 1.0, 1.0, 0.0, 1.0, 1.0, 0.0, 1.0, 1.0, 1.0, 0.0, 1.0, 1.0, 1.0, 1.0, 1.0, 1.0, 1.0, 1.0, 1.0, 1.0, 1.0, 1.0, 0.0, 1.0, 1.0, 1.0, 0.0, 1.0, 1.0, 1.0, 0.0, 1.0, 1.0, 0.0, 0.0, 1.0, 0.0, 1.0, 1.0, 1.0, 1.0, 1.0, 1.0, 1.0, 1.0, 1.0, 0.0, 0.0, 1.0, 0.0, 1.0, 1.0, 1.0, 1.0, 1.0, 1.0, 1.0, 1.0, 1.0, 1.0, 1.0, 0.0, 1.0, 1.0, 0.0, 1.0, 1.0, 0.0, 1.0, 1.0, 1.0, 1.0, 0.0, 0.0, 1.0, 0.0, 1.0, 1.0, 1.0, 1.0, 1.0, 1.0, 1.0, 1.0, 1.0, 1.0, 1.0, 1.0, 1.0, 1.0, 1.0, 1.0, 1.0, 1.0, 1.0, 1.0, 1.0, 1.0, 1.0, 1.0, 1.0, 1.0, 1.0, 1.0, 1.0, 0.0, 1.0, 1.0, 1.0, 1.0, 1.0, 1.0, 1.0, 0.0, 1.0, 1.0, 1.0, 1.0, 1.0, 1.0, 1.0, 1.0, 0.0, 1.0, 1.0, 0.0, 1.0, 1.0, 0.0, 1.0, 1.0, 0.0, 1.0, 1.0, 0.0, 1.0, 1.0, 1.0, 0.0, 1.0, 1.0, 1.0, 1.0, 1.0, 1.0, 1.0, 1.0, 1.0, 1.0, 1.0, 1.0, 1.0, 1.0, 1.0, 1.0, 1.0, 1.0, 1.0, 1.0, 1.0, 0.0, 1.0, 1.0, 1.0, 1.0, 1.0, 1.0, 0.0, 1.0, 1.0, 1.0, 1.0, 1.0, 0.0, 0.0, 1.0, 1.0, 1.0, 1.0, 0.0, 0.0, 1.0, 1.0, 1.0, 1.0, 1.0, 1.0, 1.0, 1.0, 0.0, 0.0, 0.0, 1.0, 1.0, 1.0, 1.0, 1.0, 1.0, 1.0, 1.0, 1.0, 1.0, 1.0, 0.0, 1.0, 1.0, 1.0, 1.0, 1.0, 1.0, 1.0, 1.0, 1.0, 1.0, 1.0, 0.0, 0.0, 1.0, 1.0, 1.0, 1.0, 1.0, 1.0, 0.0, 1.0, 1.0, 1.0, 1.0, 1.0, 1.0, 1.0, 1.0, 0.0, 1.0, 1.0, 1.0, 1.0, 1.0, 0.0, 1.0, 1.0, 1.0, 1.0, 1.0, 1.0, 1.0, 1.0, 1.0, 0.0, 1.0, 1.0, 1.0, 1.0, 1.0, 1.0, 1.0, 0.0, 1.0, 1.0, 1.0, 1.0, 0.0, 1.0, 0.0, 1.0, 0.0, 1.0, 1.0, 1.0, 1.0, 1.0, 1.0, 1.0, 1.0, 1.0, 1.0, 1.0, 1.0, 1.0, 0.0, 0.0, 0.0, 1.0, 1.0, 1.0, 1.0, 1.0, 1.0, 1.0, 1.0, 1.0, 1.0, 1.0, 1.0, 1.0, 1.0, 0.0, 1.0, 1.0, 1.0, 0.0, 1.0, 1.0, 1.0, 1.0, 1.0, 1.0, 1.0, 1.0, 1.0, 1.0, 1.0, 1.0, 0.0, 1.0, 1.0, 1.0, 0.0, 1.0, 1.0, 1.0, 1.0, 1.0, 1.0, 1.0, 1.0, 1.0, 1.0, 0.0, 1.0, 1.0, 1.0, 1.0, 1.0, 1.0, 1.0, 1.0, 1.0, 0.0, 1.0, 0.0, 1.0, 1.0, 1.0, 1.0, 0.0, 1.0, 0.0, 1.0, 0.0, 1.0, 0.0, 1.0, 1.0, 1.0, 1.0, 1.0, 1.0, 1.0, 1.0, 1.0, 0.0, 1.0, 1.0, 1.0, 1.0, 1.0, 1.0, 1.0, 1.0, 0.0, 1.0, 1.0, 0.0, 1.0, 1.0, 1.0, 1.0, 1.0, 1.0, 1.0, 1.0, 1.0, 1.0, 1.0, 0.0, 1.0, 0.0, 1.0, 1.0, 1.0, 1.0, 0.0, 1.0, 1.0, 1.0, 1.0, 1.0, 1.0, 1.0, 0.0, 0.0, 0.0, 1.0, 1.0, 1.0, 1.0, 0.0, 1.0, 1.0, 1.0, 1.0, 1.0, 1.0, 0.0, 1.0, 1.0, 1.0, 1.0, 1.0, 1.0, 1.0, 1.0, 1.0, 1.0, 0.0, 1.0, 1.0, 1.0, 1.0, 1.0, 0.0, 1.0, 1.0, 1.0, 1.0, 1.0, 1.0, 1.0, 1.0, 1.0, 0.0, 1.0, 0.0, 1.0, 1.0, 0.0, 1.0, 1.0, 1.0, 1.0, 1.0, 1.0, 1.0, 1.0, 1.0, 1.0, 1.0, 1.0, 1.0, 1.0, 1.0, 1.0, 1.0, 1.0, 1.0, 0.0, 1.0, 0.0, 1.0, 1.0, 1.0, 1.0, 1.0, 0.0, 1.0, 1.0, 1.0, 1.0, 1.0, 1.0, 1.0, 1.0, 1.0, 1.0, 0.0, 1.0, 0.0, 1.0, 1.0, 1.0, 1.0, 1.0, 1.0, 1.0, 1.0, 0.0, 1.0, 0.0, 1.0, 1.0, 1.0, 1.0, 1.0, 1.0, 1.0, 1.0, 1.0, 1.0, 0.0, 1.0, 1.0, 1.0, 1.0, 1.0, 1.0, 1.0, 1.0, 1.0, 1.0, 1.0, 1.0, 1.0, 1.0, 1.0, 1.0, 1.0, 1.0, 1.0, 1.0, 1.0, 1.0, 1.0, 1.0, 1.0, 0.0, 0.0, 1.0, 1.0, 1.0, 1.0, 0.0, 1.0, 0.0, 0.0, 1.0, 0.0, 1.0, 1.0, 1.0, 1.0, 1.0, 1.0, 1.0, 1.0, 1.0, 1.0, 1.0, 1.0, 1.0, 1.0, 1.0, 1.0, 1.0, 1.0, 1.0, 1.0, 1.0, 1.0, 1.0, 1.0, 1.0, 1.0, 0.0, 1.0, 1.0, 1.0, 1.0, 1.0, 1.0, 1.0, 1.0, 1.0, 1.0, 1.0, 1.0, 1.0, 1.0, 0.0, 1.0, 1.0, 1.0, 0.0, 1.0, 1.0, 1.0, 1.0, 1.0, 0.0, 1.0, 1.0, 0.0, 1.0, 1.0, 1.0, 1.0, 1.0, 1.0, 0.0, 1.0, 1.0, 1.0, 1.0, 0.0, 1.0, 1.0, 1.0, 0.0, 1.0, 1.0, 1.0, 1.0, 1.0, 1.0, 0.0, 1.0, 1.0, 1.0, 1.0, 1.0, 1.0, 1.0, 1.0, 1.0, 1.0, 0.0, 1.0, 1.0, 1.0, 1.0, 0.0, 0.0, 1.0, 0.0, 1.0, 1.0, 1.0, 1.0, 1.0, 1.0, 1.0, 1.0, 0.0, 1.0, 1.0, 1.0, 1.0, 1.0, 1.0, 1.0, 1.0, 0.0, 1.0, 1.0, 1.0, 1.0, 1.0, 1.0, 0.0, 1.0, 0.0, 1.0, 1.0, 1.0, 1.0, 1.0, 1.0, 1.0, 0.0, 1.0, 0.0, 1.0, 1.0, 0.0, 1.0, 0.0, 1.0, 1.0, 1.0, 1.0, 1.0, 1.0, 1.0, 1.0, 1.0, 1.0, 1.0, 1.0, 0.0, 1.0, 1.0, 1.0, 1.0, 1.0, 1.0, 1.0, 1.0, 1.0, 1.0, 1.0, 1.0, 1.0, 0.0, 1.0, 1.0, 1.0, 1.0, 0.0, 1.0, 1.0, 0.0, 1.0, 1.0, 1.0, 1.0, 1.0, 1.0, 1.0, 1.0, 1.0, 1.0, 1.0, 1.0, 1.0, 1.0, 1.0, 1.0, 1.0, 1.0, 1.0, 1.0, 1.0, 1.0, 1.0, 1.0, 1.0, 1.0, 1.0, 1.0, 1.0, 0.0, 0.0, 1.0, 0.0, 1.0, 1.0, 1.0, 1.0, 0.0, 1.0, 1.0, 1.0, 1.0, 1.0, 1.0, 1.0, 1.0, 0.0, 1.0, 1.0, 1.0, 1.0, 1.0, 1.0, 1.0, 1.0, 1.0, 0.0, 1.0, 1.0, 1.0, 1.0, 1.0, 1.0, 1.0, 1.0, 1.0, 1.0, 0.0, 1.0, 0.0, 0.0, 1.0, 0.0, 1.0, 1.0, 1.0, 1.0, 1.0, 1.0, 1.0, 1.0, 1.0, 1.0, 1.0, 1.0, 1.0, 0.0, 0.0, 1.0, 1.0, 1.0, 1.0, 1.0, 1.0, 1.0, 1.0, 1.0, 0.0, 1.0, 1.0, 1.0, 1.0, 1.0, 0.0, 1.0, 1.0, 1.0, 1.0, 0.0, 1.0, 1.0, 0.0, 1.0, 1.0, 1.0, 1.0, 1.0, 1.0, 1.0, 0.0, 1.0, 1.0, 1.0, 1.0, 1.0, 1.0, 0.0, 1.0, 1.0, 1.0, 1.0, 1.0, 1.0, 1.0, 1.0, 1.0, 1.0, 1.0, 1.0, 1.0, 1.0, 1.0, 0.0, 1.0, 1.0, 1.0, 1.0, 1.0, 1.0, 1.0, 0.0, 1.0, 1.0, 0.0, 1.0, 1.0, 1.0, 1.0, 1.0, 1.0, 1.0, 0.0, 1.0, 1.0, 1.0, 1.0, 0.0, 0.0, 1.0, 1.0, 1.0, 0.0, 1.0, 1.0, 1.0, 1.0, 1.0, 1.0, 1.0, 1.0, 1.0, 1.0, 1.0, 1.0, 1.0, 1.0, 1.0, 1.0, 1.0, 1.0, 1.0, 1.0, 1.0, 1.0, 1.0, 0.0, 1.0, 1.0, 1.0, 1.0, 1.0, 0.0, 1.0, 1.0, 0.0, 1.0, 1.0, 1.0, 1.0, 1.0, 1.0, 0.0, 1.0, 1.0, 1.0, 1.0, 1.0, 0.0, 1.0, 1.0, 1.0, 1.0, 1.0, 1.0, 1.0, 1.0, 1.0, 1.0, 1.0, 1.0, 1.0, 1.0, 1.0, 1.0, 1.0, 1.0, 0.0, 1.0, 1.0, 1.0, 0.0, 1.0, 1.0, 1.0, 1.0, 1.0, 1.0, 1.0, 1.0, 0.0, 1.0, 1.0, 1.0, 1.0, 1.0, 1.0, 1.0, 1.0, 0.0, 1.0, 0.0, 1.0, 1.0, 1.0, 0.0, 1.0, 0.0, 1.0, 1.0, 0.0, 0.0, 1.0, 1.0, 0.0, 1.0, 1.0, 1.0, 1.0, 1.0, 0.0, 1.0, 1.0, 0.0, 1.0, 1.0, 1.0, 1.0, 1.0, 1.0, 1.0, 1.0, 0.0, 0.0, 0.0, 1.0, 1.0, 0.0, 1.0, 1.0, 1.0, 1.0, 1.0, 1.0, 1.0, 0.0, 1.0, 1.0, 1.0, 1.0, 1.0, 1.0, 0.0, 1.0, 1.0, 1.0, 0.0, 0.0, 1.0, 1.0, 1.0, 1.0, 0.0, 1.0, 1.0, 1.0, 1.0, 1.0, 1.0, 0.0, 1.0, 1.0, 1.0, 1.0, 1.0, 1.0, 0.0, 1.0, 0.0, 1.0, 0.0, 1.0, 1.0, 1.0, 1.0, 1.0, 0.0, 1.0, 1.0, 1.0, 1.0, 1.0, 0.0, 1.0, 1.0, 1.0, 1.0, 1.0, 1.0, 1.0, 1.0, 1.0, 1.0, 1.0, 1.0, 1.0, 1.0, 1.0, 1.0, 1.0, 1.0, 1.0, 1.0, 0.0, 1.0, 1.0, 1.0, 1.0, 1.0, 1.0, 1.0, 1.0, 1.0, 1.0, 0.0, 0.0, 1.0, 1.0, 1.0, 1.0, 0.0, 1.0, 1.0, 1.0, 1.0, 1.0, 1.0, 1.0, 1.0, 1.0, 1.0, 0.0, 1.0, 0.0, 1.0, 1.0, 1.0, 1.0, 1.0, 1.0, 1.0, 1.0, 1.0, 0.0, 1.0, 1.0, 0.0, 0.0, 1.0, 1.0, 1.0, 1.0, 1.0, 0.0, 1.0, 1.0, 1.0, 1.0, 1.0, 1.0, 1.0, 1.0, 1.0, 1.0, 0.0, 1.0, 1.0, 1.0, 1.0, 1.0, 1.0, 1.0, 1.0, 1.0, 1.0, 1.0, 1.0, 0.0, 1.0, 1.0, 1.0, 1.0, 1.0, 1.0, 1.0, 1.0, 1.0, 1.0, 1.0, 1.0, 1.0, 1.0, 1.0, 1.0, 1.0, 1.0, 1.0, 1.0, 1.0, 1.0, 1.0, 1.0, 1.0, 1.0, 1.0, 1.0, 1.0, 1.0, 1.0, 1.0, 1.0, 1.0, 0.0, 1.0, 1.0, 1.0, 1.0, 0.0, 1.0, 1.0, 1.0, 1.0, 1.0, 1.0, 1.0, 0.0, 1.0, 1.0, 1.0, 0.0, 1.0, 1.0, 0.0, 1.0, 1.0, 1.0, 1.0, 0.0, 1.0, 1.0, 1.0, 1.0, 1.0, 1.0, 1.0, 0.0, 1.0, 1.0, 1.0, 0.0, 1.0, 1.0, 1.0, 1.0, 0.0, 1.0, 1.0, 1.0, 0.0, 1.0, 0.0, 1.0, 0.0, 1.0, 1.0, 1.0, 0.0, 1.0, 1.0, 1.0, 1.0, 1.0, 1.0, 1.0, 1.0, 1.0, 1.0, 0.0, 1.0, 1.0, 1.0, 1.0, 1.0, 0.0, 1.0, 0.0, 0.0, 1.0, 1.0, 1.0, 1.0, 1.0, 1.0, 1.0, 1.0, 1.0, 0.0, 0.0, 1.0, 1.0, 1.0, 0.0, 0.0, 1.0, 1.0, 0.0, 1.0, 1.0, 1.0, 1.0, 1.0, 1.0, 0.0, 1.0, 1.0, 0.0, 1.0, 0.0, 1.0, 1.0, 1.0, 1.0, 1.0, 1.0, 1.0, 1.0, 1.0, 1.0, 1.0, 1.0, 1.0, 1.0, 1.0, 0.0, 1.0, 1.0, 1.0, 1.0, 1.0, 1.0, 1.0, 1.0, 1.0, 1.0, 1.0, 1.0, 0.0, 0.0, 1.0, 0.0, 1.0, 1.0, 0.0, 1.0, 1.0, 1.0, 1.0, 1.0, 1.0, 1.0, 0.0, 1.0, 1.0, 1.0, 1.0, 1.0, 1.0, 1.0, 1.0, 1.0, 1.0, 1.0, 0.0, 1.0, 0.0, 1.0, 0.0, 1.0, 1.0, 1.0, 1.0, 1.0, 1.0, 0.0, 1.0, 1.0, 1.0, 1.0, 1.0, 1.0, 1.0, 1.0, 0.0, 1.0, 1.0, 1.0, 1.0, 0.0, 1.0, 1.0, 0.0, 1.0, 1.0, 1.0, 1.0, 1.0, 1.0, 1.0, 1.0, 1.0, 0.0, 0.0, 1.0, 0.0, 1.0, 1.0, 0.0, 1.0, 1.0, 1.0, 1.0, 1.0, 1.0, 1.0, 1.0, 1.0, 1.0, 1.0, 1.0, 1.0, 1.0, 0.0, 1.0, 1.0, 1.0, 1.0, 1.0, 1.0, 1.0, 1.0, 1.0, 1.0, 1.0, 1.0, 0.0, 0.0, 1.0, 1.0, 1.0, 0.0, 0.0, 1.0, 1.0, 0.0, 1.0, 1.0, 1.0, 1.0, 1.0, 1.0, 1.0, 1.0, 1.0, 1.0, 1.0, 1.0, 1.0, 1.0, 0.0, 1.0, 1.0, 1.0, 1.0, 1.0, 1.0, 1.0, 0.0, 1.0, 0.0, 1.0, 1.0, 1.0, 1.0, 1.0, 1.0, 1.0, 1.0, 0.0, 1.0, 1.0, 1.0, 1.0, 1.0, 1.0, 1.0, 1.0, 1.0, 1.0, 1.0, 1.0, 1.0, 1.0, 1.0, 1.0, 0.0, 1.0, 1.0, 1.0, 1.0, 1.0, 1.0, 1.0, 1.0, 1.0, 1.0, 1.0, 1.0, 1.0, 1.0, 1.0, 1.0, 1.0, 1.0, 1.0, 1.0, 1.0, 1.0, 0.0, 1.0, 1.0, 0.0, 1.0, 1.0, 1.0, 0.0, 1.0, 1.0, 1.0, 1.0, 0.0, 1.0, 1.0, 1.0, 1.0, 1.0, 1.0, 1.0, 1.0, 1.0, 1.0, 1.0, 0.0, 0.0, 1.0, 1.0, 1.0, 0.0, 1.0, 0.0, 1.0, 1.0, 1.0, 1.0, 1.0, 1.0, 1.0, 1.0, 1.0, 1.0, 1.0, 1.0, 1.0, 1.0, 1.0, 1.0, 1.0, 1.0, 0.0, 1.0, 1.0, 1.0, 1.0, 1.0, 0.0, 1.0, 1.0, 1.0, 1.0, 1.0, 1.0, 1.0, 1.0, 1.0, 1.0, 1.0, 1.0, 1.0, 1.0, 1.0, 0.0, 1.0, 0.0, 1.0, 1.0, 1.0, 1.0, 0.0, 1.0, 1.0, 1.0, 1.0, 1.0, 1.0, 0.0, 1.0, 1.0, 1.0, 0.0, 1.0, 1.0, 1.0, 1.0, 0.0, 1.0, 0.0, 1.0, 1.0, 1.0, 1.0, 1.0, 1.0, 0.0, 0.0, 1.0, 1.0, 0.0, 1.0, 1.0, 0.0, 1.0, 1.0, 1.0, 0.0, 1.0, 0.0, 1.0, 1.0, 1.0, 0.0, 1.0, 1.0, 0.0, 1.0, 1.0, 1.0, 1.0, 1.0, 1.0, 1.0, 1.0, 1.0, 1.0, 1.0, 1.0, 1.0, 1.0, 0.0, 1.0, 1.0, 1.0, 1.0, 1.0, 1.0, 1.0, 1.0, 1.0, 0.0, 1.0, 1.0, 1.0, 0.0, 1.0, 1.0, 1.0, 1.0, 1.0, 1.0, 1.0, 1.0, 1.0, 1.0, 0.0, 1.0, 1.0, 0.0, 1.0, 1.0, 0.0, 1.0, 0.0, 1.0, 1.0, 1.0, 1.0, 1.0, 0.0, 1.0, 0.0, 1.0, 1.0, 0.0, 1.0, 0.0, 1.0, 1.0, 1.0, 1.0, 1.0, 1.0, 1.0, 1.0, 0.0, 1.0, 1.0, 0.0, 0.0, 1.0, 1.0, 1.0, 1.0, 1.0, 1.0, 0.0, 1.0, 1.0, 1.0, 1.0, 1.0, 1.0, 1.0, 0.0, 1.0, 0.0, 1.0, 1.0, 1.0, 0.0, 1.0, 1.0, 1.0, 1.0, 1.0, 1.0, 1.0, 1.0, 1.0, 1.0, 1.0, 1.0, 1.0, 1.0, 0.0, 1.0, 1.0, 1.0, 1.0, 1.0, 1.0, 1.0, 1.0, 1.0, 1.0, 1.0, 1.0, 1.0, 1.0, 1.0, 1.0, 1.0, 1.0, 1.0, 1.0, 1.0, 1.0, 0.0, 0.0, 0.0, 1.0, 1.0, 1.0, 0.0, 1.0, 1.0, 0.0, 1.0, 1.0, 1.0, 1.0, 0.0, 1.0, 1.0, 1.0, 1.0, 1.0, 1.0, 1.0, 1.0, 1.0, 1.0, 1.0, 1.0, 1.0, 1.0, 1.0, 1.0, 1.0, 1.0, 1.0, 1.0, 1.0, 1.0, 1.0, 0.0, 1.0, 1.0, 0.0, 1.0, 0.0, 1.0, 1.0, 1.0, 1.0, 1.0, 1.0, 1.0, 1.0, 0.0, 1.0, 1.0, 1.0, 1.0, 1.0, 1.0, 1.0, 0.0, 1.0, 1.0, 1.0, 1.0, 1.0, 1.0, 1.0, 1.0, 1.0, 1.0, 1.0, 1.0, 1.0, 1.0, 1.0, 1.0, 1.0, 1.0, 1.0, 1.0, 1.0, 1.0, 1.0, 1.0, 1.0, 1.0, 1.0, 1.0, 1.0, 1.0, 1.0, 1.0, 1.0, 1.0, 0.0, 1.0, 0.0, 0.0, 1.0, 0.0, 0.0, 1.0, 0.0, 1.0, 0.0, 1.0, 1.0, 1.0, 1.0, 1.0, 1.0, 1.0, 1.0, 1.0, 1.0, 1.0, 0.0, 0.0, 1.0, 1.0, 1.0, 1.0, 1.0, 1.0, 1.0, 1.0, 1.0, 1.0, 1.0, 1.0, 1.0, 1.0, 1.0, 0.0, 0.0, 1.0, 0.0, 0.0, 1.0, 1.0, 1.0, 1.0, 1.0, 1.0, 1.0, 1.0, 1.0, 1.0, 1.0, 1.0, 1.0, 1.0, 1.0, 1.0, 1.0, 0.0, 1.0, 1.0, 1.0, 1.0, 0.0, 1.0, 1.0, 1.0, 1.0, 1.0, 1.0, 0.0, 1.0, 1.0, 1.0, 0.0, 0.0, 1.0, 0.0, 1.0, 1.0, 0.0, 1.0, 0.0, 1.0, 1.0, 1.0, 1.0, 0.0, 1.0, 1.0, 0.0, 1.0, 1.0, 1.0, 1.0, 1.0, 1.0, 1.0, 1.0, 1.0, 1.0, 0.0, 1.0, 0.0, 1.0, 1.0, 1.0, 1.0, 0.0, 1.0, 1.0, 0.0, 1.0, 1.0, 1.0, 1.0, 1.0, 1.0, 1.0, 1.0, 1.0, 1.0, 1.0, 1.0, 1.0, 1.0, 1.0, 1.0, 1.0, 1.0, 1.0, 1.0, 1.0, 1.0, 1.0, 1.0, 0.0, 1.0, 1.0, 1.0, 0.0, 1.0, 1.0, 1.0, 1.0, 1.0, 1.0, 0.0, 1.0, 1.0, 1.0, 1.0, 1.0, 1.0, 1.0, 0.0, 1.0, 1.0, 1.0, 0.0, 1.0, 1.0, 1.0, 0.0, 1.0, 1.0, 0.0, 1.0, 1.0, 1.0, 1.0, 1.0, 1.0, 1.0, 1.0, 1.0, 1.0, 1.0, 1.0, 0.0, 1.0, 0.0, 1.0, 1.0, 1.0, 1.0] as keyword args. From version 0.25 passing these as positional arguments will result in an error\n",
      "  FutureWarning)\n",
      "C:\\Users\\lynne\\anaconda3\\envs\\tf-gpu\\lib\\site-packages\\sklearn\\utils\\validation.py:70: FutureWarning: Pass classes=[0. 1.], y=[0.0, 1.0, 0.0, 0.0, 1.0, 1.0, 1.0, 1.0, 1.0, 0.0, 1.0, 1.0, 0.0, 1.0, 1.0, 1.0, 1.0, 1.0, 1.0, 1.0, 1.0, 1.0, 1.0, 1.0, 1.0, 1.0, 1.0, 1.0, 1.0, 1.0, 1.0, 0.0, 1.0, 1.0, 1.0, 1.0, 1.0, 1.0, 0.0, 0.0, 0.0, 1.0, 1.0, 1.0, 1.0, 1.0, 1.0, 1.0, 1.0, 1.0, 1.0, 0.0, 1.0, 0.0, 1.0, 0.0, 1.0, 0.0, 1.0, 1.0, 1.0, 1.0, 1.0, 1.0, 0.0, 1.0, 1.0, 0.0, 1.0, 0.0, 0.0, 0.0, 0.0, 1.0, 1.0, 0.0, 1.0, 1.0, 0.0, 1.0, 0.0, 1.0, 1.0, 1.0, 1.0, 1.0, 1.0, 1.0, 1.0, 0.0, 1.0, 1.0, 1.0, 1.0, 1.0, 0.0, 1.0, 1.0, 1.0, 1.0, 1.0, 1.0, 1.0, 1.0, 1.0, 1.0, 1.0, 1.0, 1.0, 1.0, 0.0, 1.0, 0.0, 1.0, 1.0, 1.0, 1.0, 0.0, 1.0, 1.0, 1.0, 1.0, 0.0, 0.0, 1.0, 1.0, 1.0, 1.0, 1.0, 1.0, 1.0, 0.0, 1.0, 1.0, 1.0, 1.0, 1.0, 1.0, 1.0, 1.0, 1.0, 0.0, 1.0, 1.0, 1.0, 1.0, 1.0, 1.0, 1.0, 1.0, 0.0, 1.0, 1.0, 1.0, 1.0, 1.0, 1.0, 1.0, 1.0, 1.0, 1.0, 1.0, 1.0, 1.0, 1.0, 1.0, 1.0, 1.0, 1.0, 1.0, 1.0, 0.0, 1.0, 1.0, 1.0, 0.0, 1.0, 1.0, 0.0, 1.0, 1.0, 1.0, 1.0, 1.0, 1.0, 0.0, 1.0, 1.0, 1.0, 1.0, 1.0, 1.0, 0.0, 1.0, 0.0, 1.0, 0.0, 1.0, 0.0, 0.0, 1.0, 1.0, 1.0, 1.0, 1.0, 0.0, 1.0, 1.0, 1.0, 1.0, 1.0, 0.0, 1.0, 1.0, 1.0, 1.0, 1.0, 1.0, 0.0, 1.0, 1.0, 0.0, 1.0, 0.0, 1.0, 0.0, 1.0, 1.0, 0.0, 1.0, 1.0, 1.0, 1.0, 1.0, 1.0, 1.0, 0.0, 1.0, 0.0, 1.0, 1.0, 1.0, 0.0, 1.0, 1.0, 1.0, 1.0, 1.0, 1.0, 1.0, 1.0, 1.0, 0.0, 1.0, 1.0, 1.0, 0.0, 1.0, 1.0, 1.0, 1.0, 0.0, 1.0, 0.0, 1.0, 1.0, 0.0, 0.0, 1.0, 1.0, 1.0, 1.0, 1.0, 1.0, 0.0, 1.0, 1.0, 0.0, 0.0, 1.0, 1.0, 0.0, 1.0, 1.0, 1.0, 0.0, 1.0, 1.0, 1.0, 1.0, 1.0, 1.0, 1.0, 1.0, 1.0, 0.0, 1.0, 0.0, 1.0, 1.0, 1.0, 1.0, 0.0, 1.0, 1.0, 1.0, 1.0, 1.0, 0.0, 1.0, 1.0, 0.0, 1.0, 1.0, 1.0, 1.0, 1.0, 1.0, 1.0, 1.0, 0.0, 0.0, 1.0, 1.0, 1.0, 1.0, 1.0, 1.0, 1.0, 1.0, 1.0, 1.0, 1.0, 1.0, 1.0, 1.0, 1.0, 1.0, 1.0, 1.0, 1.0, 1.0, 1.0, 1.0, 1.0, 0.0, 1.0, 1.0, 1.0, 1.0, 1.0, 1.0, 1.0, 1.0, 1.0, 1.0, 1.0, 1.0, 1.0, 1.0, 1.0, 1.0, 1.0, 1.0, 1.0, 0.0, 1.0, 1.0, 1.0, 1.0, 1.0, 1.0, 0.0, 1.0, 1.0, 1.0, 1.0, 1.0, 1.0, 1.0, 1.0, 1.0, 1.0, 0.0, 1.0, 1.0, 1.0, 0.0, 1.0, 1.0, 1.0, 1.0, 1.0, 1.0, 0.0, 1.0, 1.0, 1.0, 1.0, 1.0, 1.0, 1.0, 1.0, 0.0, 1.0, 1.0, 1.0, 1.0, 1.0, 1.0, 1.0, 1.0, 1.0, 1.0, 1.0, 1.0, 1.0, 1.0, 1.0, 1.0, 0.0, 1.0, 1.0, 1.0, 1.0, 1.0, 0.0, 0.0, 1.0, 0.0, 0.0, 1.0, 1.0, 1.0, 1.0, 1.0, 1.0, 1.0, 1.0, 1.0, 1.0, 1.0, 1.0, 1.0, 1.0, 1.0, 1.0, 1.0, 1.0, 1.0, 1.0, 1.0, 1.0, 1.0, 1.0, 1.0, 1.0, 1.0, 1.0, 0.0, 1.0, 1.0, 1.0, 1.0, 1.0, 0.0, 1.0, 1.0, 1.0, 1.0, 1.0, 1.0, 1.0, 0.0, 1.0, 1.0, 1.0, 0.0, 1.0, 0.0, 1.0, 1.0, 0.0, 1.0, 1.0, 1.0, 0.0, 1.0, 1.0, 1.0, 1.0, 1.0, 1.0, 0.0, 1.0, 1.0, 1.0, 1.0, 1.0, 1.0, 1.0, 1.0, 1.0, 1.0, 1.0, 1.0, 1.0, 1.0, 1.0, 1.0, 1.0, 1.0, 0.0, 1.0, 1.0, 1.0, 0.0, 1.0, 1.0, 0.0, 1.0, 1.0, 1.0, 1.0, 1.0, 1.0, 1.0, 0.0, 1.0, 1.0, 1.0, 1.0, 1.0, 1.0, 0.0, 0.0, 1.0, 1.0, 0.0, 0.0, 1.0, 1.0, 1.0, 1.0, 1.0, 1.0, 1.0, 0.0, 1.0, 1.0, 1.0, 0.0, 0.0, 1.0, 1.0, 1.0, 0.0, 1.0, 0.0, 1.0, 1.0, 1.0, 0.0, 1.0, 1.0, 1.0, 0.0, 1.0, 0.0, 1.0, 1.0, 1.0, 0.0, 1.0, 1.0, 1.0, 0.0, 1.0, 1.0, 1.0, 1.0, 0.0, 1.0, 1.0, 1.0, 1.0, 1.0, 0.0, 1.0, 1.0, 1.0, 1.0, 0.0, 1.0, 0.0, 1.0, 1.0, 1.0, 1.0, 1.0, 1.0, 1.0, 1.0, 1.0, 1.0, 0.0, 0.0, 1.0, 1.0, 1.0, 1.0, 1.0, 1.0, 1.0, 1.0, 1.0, 1.0, 1.0, 1.0, 1.0, 0.0, 1.0, 1.0, 1.0, 1.0, 1.0, 1.0, 1.0, 1.0, 1.0, 1.0, 1.0, 1.0, 1.0, 1.0, 1.0, 1.0, 1.0, 1.0, 0.0, 1.0, 1.0, 0.0, 1.0, 1.0, 1.0, 0.0, 1.0, 1.0, 1.0, 1.0, 1.0, 1.0, 1.0, 1.0, 1.0, 1.0, 1.0, 1.0, 1.0, 1.0, 0.0, 1.0, 1.0, 1.0, 0.0, 1.0, 0.0, 1.0, 1.0, 0.0, 1.0, 1.0, 1.0, 1.0, 1.0, 1.0, 1.0, 1.0, 1.0, 1.0, 1.0, 1.0, 1.0, 1.0, 1.0, 1.0, 1.0, 1.0, 0.0, 1.0, 1.0, 1.0, 1.0, 1.0, 1.0, 1.0, 1.0, 1.0, 1.0, 1.0, 0.0, 1.0, 1.0, 1.0, 1.0, 1.0, 1.0, 1.0, 1.0, 1.0, 1.0, 0.0, 1.0, 0.0, 1.0, 1.0, 1.0, 0.0, 1.0, 1.0, 1.0, 1.0, 1.0, 1.0, 1.0, 1.0, 1.0, 1.0, 1.0, 1.0, 1.0, 1.0, 1.0, 1.0, 1.0, 1.0, 1.0, 1.0, 1.0, 1.0, 1.0, 1.0, 1.0, 1.0, 1.0, 1.0, 1.0, 1.0, 1.0, 1.0, 1.0, 1.0, 0.0, 1.0, 1.0, 1.0, 1.0, 1.0, 1.0, 1.0, 1.0, 1.0, 1.0, 0.0, 1.0, 1.0, 1.0, 1.0, 1.0, 1.0, 1.0, 1.0, 0.0, 1.0, 1.0, 1.0, 1.0, 0.0, 0.0, 1.0, 1.0, 1.0, 1.0, 1.0, 1.0, 1.0, 1.0, 1.0, 1.0, 1.0, 1.0, 1.0, 1.0, 1.0, 1.0, 1.0, 1.0, 1.0, 1.0, 1.0, 1.0, 1.0, 1.0, 1.0, 1.0, 1.0, 0.0, 1.0, 1.0, 1.0, 1.0, 0.0, 1.0, 0.0, 1.0, 1.0, 1.0, 1.0, 1.0, 1.0, 1.0, 1.0, 1.0, 1.0, 1.0, 1.0, 1.0, 1.0, 1.0, 0.0, 1.0, 1.0, 1.0, 1.0, 1.0, 1.0, 1.0, 1.0, 1.0, 1.0, 1.0, 1.0, 1.0, 1.0, 1.0, 1.0, 1.0, 1.0, 0.0, 1.0, 1.0, 1.0, 0.0, 1.0, 1.0, 1.0, 1.0, 1.0, 1.0, 0.0, 0.0, 0.0, 1.0, 1.0, 1.0, 0.0, 1.0, 1.0, 1.0, 1.0, 1.0, 1.0, 1.0, 1.0, 1.0, 1.0, 1.0, 1.0, 1.0, 0.0, 0.0, 1.0, 1.0, 1.0, 1.0, 1.0, 1.0, 1.0, 1.0, 1.0, 1.0, 1.0, 1.0, 1.0, 1.0, 1.0, 1.0, 1.0, 1.0, 1.0, 1.0, 1.0, 1.0, 1.0, 1.0, 1.0, 1.0, 1.0, 1.0, 0.0, 1.0, 1.0, 0.0, 0.0, 1.0, 1.0, 1.0, 1.0, 1.0, 1.0, 0.0, 1.0, 1.0, 1.0, 0.0, 1.0, 1.0, 1.0, 1.0, 1.0, 1.0, 1.0, 1.0, 1.0, 1.0, 1.0, 0.0, 1.0, 1.0, 1.0, 1.0, 1.0, 1.0, 1.0, 1.0, 1.0, 0.0, 0.0, 1.0, 1.0, 0.0, 0.0, 1.0, 1.0, 1.0, 1.0, 1.0, 1.0, 1.0, 1.0, 1.0, 0.0, 1.0, 1.0, 1.0, 1.0, 1.0, 1.0, 1.0, 1.0, 1.0, 0.0, 1.0, 1.0, 1.0, 1.0, 0.0, 1.0, 1.0, 1.0, 1.0, 1.0, 1.0, 1.0, 0.0, 1.0, 1.0, 1.0, 1.0, 1.0, 1.0, 1.0, 1.0, 0.0, 1.0, 1.0, 1.0, 1.0, 1.0, 1.0, 1.0, 1.0, 1.0, 1.0, 1.0, 1.0, 1.0, 1.0, 0.0, 1.0, 1.0, 1.0, 1.0, 1.0, 1.0, 1.0, 1.0, 1.0, 1.0, 0.0, 1.0, 1.0, 1.0, 1.0, 1.0, 1.0, 1.0, 0.0, 1.0, 1.0, 1.0, 1.0, 1.0, 1.0, 1.0, 0.0, 0.0, 1.0, 1.0, 1.0, 1.0, 1.0, 1.0, 1.0, 1.0, 0.0, 1.0, 1.0, 1.0, 1.0, 1.0, 1.0, 1.0, 1.0, 1.0, 1.0, 1.0, 1.0, 1.0, 1.0, 1.0, 1.0, 1.0, 1.0, 0.0, 1.0, 1.0, 1.0, 1.0, 1.0, 1.0, 1.0, 1.0, 1.0, 1.0, 1.0, 1.0, 1.0, 0.0, 1.0, 1.0, 1.0, 1.0, 1.0, 1.0, 1.0, 0.0, 1.0, 0.0, 0.0, 0.0, 1.0, 0.0, 1.0, 1.0, 1.0, 1.0, 1.0, 1.0, 1.0, 1.0, 1.0, 0.0, 1.0, 1.0, 1.0, 1.0, 1.0, 1.0, 1.0, 1.0, 0.0, 1.0, 1.0, 1.0, 0.0, 1.0, 1.0, 1.0, 1.0, 1.0, 1.0, 1.0, 1.0, 1.0, 1.0, 1.0, 1.0, 0.0, 0.0, 1.0, 1.0, 1.0, 0.0, 1.0, 1.0, 1.0, 1.0, 1.0, 1.0, 1.0, 1.0, 1.0, 1.0, 1.0, 1.0, 1.0, 1.0, 1.0, 1.0, 1.0, 1.0, 1.0, 1.0, 1.0, 1.0, 0.0, 1.0, 1.0, 1.0, 1.0, 1.0, 1.0, 1.0, 0.0, 1.0, 1.0, 0.0, 1.0, 0.0, 1.0, 1.0, 1.0, 1.0, 1.0, 0.0, 1.0, 1.0, 1.0, 1.0, 1.0, 1.0, 1.0, 1.0, 1.0, 1.0, 1.0, 1.0, 1.0, 1.0, 1.0, 1.0, 1.0, 0.0, 0.0, 1.0, 1.0, 1.0, 1.0, 1.0, 1.0, 1.0, 1.0, 1.0, 1.0, 1.0, 1.0, 1.0, 1.0, 1.0, 1.0, 1.0, 1.0, 1.0, 0.0, 1.0, 1.0, 0.0, 1.0, 0.0, 1.0, 1.0, 0.0, 1.0, 1.0, 1.0, 1.0, 1.0, 0.0, 0.0, 1.0, 1.0, 0.0, 1.0, 1.0, 0.0, 0.0, 0.0, 1.0, 1.0, 1.0, 1.0, 1.0, 1.0, 1.0, 1.0, 1.0, 1.0, 0.0, 1.0, 1.0, 1.0, 1.0, 1.0, 1.0, 1.0, 1.0, 1.0, 1.0, 0.0, 1.0, 0.0, 1.0, 1.0, 1.0, 1.0, 1.0, 0.0, 1.0, 1.0, 0.0, 1.0, 1.0, 1.0, 0.0, 1.0, 1.0, 1.0, 1.0, 1.0, 1.0, 1.0, 1.0, 1.0, 1.0, 1.0, 0.0, 1.0, 1.0, 1.0, 1.0, 1.0, 0.0, 1.0, 1.0, 0.0, 1.0, 0.0, 1.0, 1.0, 1.0, 0.0, 0.0, 0.0, 1.0, 1.0, 1.0, 1.0, 1.0, 1.0, 0.0, 0.0, 0.0, 1.0, 0.0, 1.0, 0.0, 1.0, 1.0, 0.0, 0.0, 0.0, 0.0, 1.0, 1.0, 1.0, 1.0, 1.0, 1.0, 1.0, 1.0, 1.0, 0.0, 1.0, 1.0, 0.0, 1.0, 1.0, 1.0, 1.0, 1.0, 1.0, 0.0, 1.0, 1.0, 1.0, 1.0, 1.0, 1.0, 0.0, 1.0, 1.0, 1.0, 0.0, 1.0, 1.0, 1.0, 1.0, 1.0, 1.0, 1.0, 1.0, 1.0, 1.0, 1.0, 0.0, 1.0, 0.0, 1.0, 1.0, 1.0, 1.0, 1.0, 1.0, 1.0, 1.0, 1.0, 1.0, 1.0, 1.0, 1.0, 0.0, 1.0, 0.0, 1.0, 1.0, 1.0, 1.0, 1.0, 1.0, 0.0, 1.0, 1.0, 1.0, 1.0, 0.0, 0.0, 1.0, 1.0, 0.0, 1.0, 1.0, 1.0, 0.0, 1.0, 1.0, 1.0, 1.0, 1.0, 1.0, 0.0, 1.0, 1.0, 1.0, 1.0, 1.0, 1.0, 1.0, 1.0, 0.0, 1.0, 0.0, 0.0, 0.0, 1.0, 1.0, 1.0, 0.0, 1.0, 1.0, 1.0, 1.0, 1.0, 1.0, 1.0, 1.0, 1.0, 1.0, 1.0, 1.0, 0.0, 1.0, 1.0, 1.0, 1.0, 1.0, 0.0, 1.0, 1.0, 1.0, 1.0, 1.0, 1.0, 1.0, 1.0, 1.0, 1.0, 1.0, 1.0, 0.0, 1.0, 1.0, 1.0, 1.0, 1.0, 0.0, 0.0, 1.0, 1.0, 1.0, 1.0, 1.0, 1.0, 1.0, 1.0, 0.0, 1.0, 1.0, 1.0, 1.0, 1.0, 1.0, 1.0, 1.0, 0.0, 1.0, 1.0, 1.0, 1.0, 0.0, 1.0, 0.0, 1.0, 1.0, 0.0, 1.0, 1.0, 1.0, 1.0, 1.0, 1.0, 1.0, 1.0, 1.0, 0.0, 1.0, 1.0, 1.0, 1.0, 1.0, 0.0, 1.0, 1.0, 1.0, 1.0, 0.0, 1.0, 1.0, 1.0, 1.0, 1.0, 1.0, 1.0, 1.0, 1.0, 1.0, 1.0, 1.0, 1.0, 0.0, 0.0, 1.0, 1.0, 1.0, 1.0, 1.0, 1.0, 0.0, 1.0, 0.0, 1.0, 1.0, 1.0, 0.0, 1.0, 1.0, 0.0, 1.0, 0.0, 1.0, 1.0, 1.0, 1.0, 1.0, 1.0, 0.0, 1.0, 1.0, 1.0, 1.0, 0.0, 1.0, 1.0, 1.0, 0.0, 1.0, 1.0, 1.0, 0.0, 0.0, 1.0, 1.0, 1.0, 1.0, 0.0, 1.0, 1.0, 1.0, 1.0, 1.0, 0.0, 0.0, 1.0, 1.0, 1.0, 0.0, 1.0, 1.0, 1.0, 1.0, 1.0, 1.0, 1.0, 1.0, 0.0, 1.0, 0.0, 0.0, 1.0, 1.0, 1.0, 1.0, 0.0, 1.0, 1.0, 1.0, 1.0, 1.0, 1.0, 1.0, 1.0, 1.0, 1.0, 1.0, 1.0, 1.0, 1.0, 1.0, 1.0, 1.0, 0.0, 0.0, 1.0, 1.0, 1.0, 1.0, 1.0, 1.0, 1.0, 1.0, 1.0, 0.0, 1.0, 1.0, 1.0, 1.0, 1.0, 1.0, 1.0, 1.0, 1.0, 0.0, 1.0, 0.0, 1.0, 1.0, 1.0, 1.0, 1.0, 1.0, 1.0, 1.0, 0.0, 1.0, 1.0, 1.0, 0.0, 1.0, 1.0, 1.0, 1.0, 1.0, 0.0, 1.0, 1.0, 1.0, 1.0, 1.0, 1.0, 1.0, 1.0, 0.0, 1.0, 1.0, 1.0, 1.0, 1.0, 1.0, 1.0, 0.0, 0.0, 1.0, 0.0, 1.0, 1.0, 1.0, 1.0, 1.0, 1.0, 1.0, 1.0, 0.0, 0.0, 1.0, 1.0, 1.0, 1.0, 0.0, 1.0, 1.0, 1.0, 1.0, 1.0, 1.0, 1.0, 1.0, 1.0, 1.0, 1.0, 1.0, 1.0, 1.0, 1.0, 1.0, 1.0, 1.0, 1.0, 1.0, 1.0, 0.0, 1.0, 1.0, 1.0, 1.0, 1.0, 1.0, 1.0, 1.0, 1.0, 0.0, 1.0, 1.0, 1.0, 1.0, 1.0, 1.0, 1.0, 1.0, 0.0, 0.0, 1.0, 1.0, 1.0, 1.0, 1.0, 1.0, 1.0, 1.0, 1.0, 1.0, 1.0, 0.0, 1.0, 0.0, 1.0, 1.0, 1.0, 1.0, 1.0, 1.0, 1.0, 1.0, 1.0, 0.0, 1.0, 1.0, 1.0, 1.0, 1.0, 0.0, 1.0, 1.0, 1.0, 1.0, 1.0, 0.0, 1.0, 1.0, 1.0, 1.0, 1.0, 1.0, 1.0, 1.0, 1.0, 1.0, 1.0, 0.0, 1.0, 1.0, 1.0, 0.0, 1.0, 1.0, 1.0, 1.0, 0.0, 1.0, 0.0, 1.0, 0.0, 1.0, 1.0, 1.0, 1.0, 1.0, 1.0, 1.0, 1.0, 0.0, 1.0, 1.0, 1.0, 1.0, 1.0, 1.0, 0.0, 1.0, 1.0, 1.0, 1.0, 1.0, 1.0, 1.0, 1.0, 1.0, 0.0, 1.0, 1.0, 1.0, 1.0, 1.0, 0.0, 1.0, 1.0, 1.0, 0.0, 1.0, 1.0, 1.0, 1.0, 0.0, 1.0, 1.0, 1.0, 1.0, 1.0, 0.0, 1.0, 1.0, 1.0, 1.0, 1.0, 1.0, 0.0, 1.0, 0.0, 1.0, 1.0, 1.0, 1.0, 1.0, 0.0, 1.0, 1.0, 1.0, 0.0, 0.0, 1.0, 1.0, 1.0, 1.0, 1.0, 1.0, 0.0, 1.0, 1.0, 1.0, 1.0, 1.0, 1.0, 1.0, 1.0, 0.0, 1.0, 1.0, 0.0, 0.0, 0.0, 1.0, 1.0, 1.0, 1.0, 1.0, 1.0, 1.0, 1.0, 1.0, 1.0, 1.0, 1.0, 0.0, 1.0, 1.0, 1.0, 1.0, 0.0, 1.0, 1.0, 1.0, 0.0, 1.0, 1.0, 1.0, 1.0, 1.0, 1.0, 1.0, 1.0, 0.0, 1.0, 1.0, 0.0, 1.0, 1.0, 1.0, 1.0, 1.0, 1.0, 1.0, 1.0, 1.0, 1.0, 1.0, 1.0, 1.0, 1.0, 1.0, 0.0, 1.0, 1.0, 1.0, 1.0, 0.0, 1.0, 1.0, 1.0, 1.0, 1.0, 0.0, 1.0, 1.0, 1.0, 0.0, 1.0, 0.0, 1.0, 1.0, 1.0, 0.0, 1.0, 1.0, 1.0, 1.0, 0.0, 1.0, 1.0, 0.0, 1.0, 1.0, 1.0, 1.0, 1.0, 1.0, 1.0, 1.0, 1.0, 0.0, 1.0, 1.0, 1.0, 1.0, 1.0, 0.0, 1.0, 0.0, 1.0, 1.0, 1.0, 1.0, 1.0, 0.0, 0.0, 1.0, 1.0, 1.0, 1.0, 0.0, 1.0, 1.0, 1.0, 1.0, 1.0, 0.0, 0.0, 1.0, 1.0, 1.0, 1.0, 1.0, 1.0, 0.0, 0.0, 1.0, 0.0, 1.0, 1.0, 1.0, 1.0, 1.0, 1.0, 1.0, 0.0, 1.0, 1.0, 1.0, 0.0, 1.0, 1.0, 1.0, 1.0, 0.0, 1.0, 1.0, 1.0, 0.0, 1.0, 1.0, 0.0, 1.0, 1.0, 0.0, 1.0, 1.0, 1.0, 1.0, 1.0, 1.0, 1.0, 1.0, 1.0, 1.0, 1.0, 1.0, 1.0, 1.0, 1.0, 1.0, 1.0, 1.0, 1.0, 1.0, 1.0, 1.0, 0.0, 1.0, 0.0, 1.0, 1.0, 1.0, 1.0, 1.0, 1.0, 1.0, 1.0, 1.0, 1.0, 1.0, 1.0, 1.0, 1.0, 1.0, 0.0, 1.0, 0.0, 1.0, 1.0, 1.0, 1.0, 0.0, 1.0, 1.0, 1.0, 1.0, 1.0, 1.0, 0.0, 1.0, 1.0, 0.0, 1.0, 1.0, 1.0, 1.0, 0.0, 1.0, 1.0, 1.0, 1.0, 1.0, 1.0, 1.0, 1.0, 1.0, 1.0, 1.0, 1.0, 1.0, 0.0, 1.0, 0.0, 1.0, 1.0, 1.0, 1.0, 1.0, 1.0, 1.0, 0.0, 1.0, 0.0, 1.0, 1.0, 1.0, 1.0, 1.0, 0.0, 1.0, 1.0, 0.0, 1.0, 1.0, 1.0, 1.0, 0.0, 1.0, 1.0, 1.0, 1.0, 1.0, 1.0, 1.0, 1.0, 0.0, 0.0, 0.0, 1.0, 1.0, 1.0, 1.0, 1.0, 1.0, 1.0, 1.0, 0.0, 0.0, 1.0, 1.0, 1.0, 1.0, 1.0, 1.0, 1.0, 1.0, 1.0, 1.0, 0.0, 1.0, 1.0, 1.0, 1.0, 1.0, 1.0, 0.0, 1.0, 1.0, 1.0, 1.0, 0.0, 1.0, 1.0, 1.0, 1.0, 1.0, 1.0, 0.0, 1.0, 0.0, 1.0, 1.0, 1.0, 1.0, 1.0, 1.0, 1.0, 1.0, 1.0, 1.0, 1.0, 1.0, 1.0, 1.0, 0.0, 1.0, 1.0, 1.0, 1.0, 1.0, 1.0, 0.0, 1.0, 1.0, 1.0, 1.0, 1.0, 1.0, 1.0, 1.0, 0.0, 1.0, 1.0, 1.0, 1.0, 1.0, 1.0, 1.0, 1.0, 1.0, 1.0, 1.0, 0.0, 1.0, 1.0, 1.0, 0.0, 0.0, 1.0, 1.0, 1.0, 1.0, 1.0, 1.0, 1.0, 1.0, 1.0, 1.0, 1.0, 1.0, 1.0, 1.0, 1.0, 1.0, 1.0, 1.0, 0.0, 1.0, 1.0, 1.0, 0.0, 1.0, 1.0, 0.0, 1.0, 1.0, 1.0, 1.0, 1.0, 0.0, 1.0, 0.0, 1.0, 1.0, 1.0, 1.0, 0.0, 1.0, 1.0, 1.0, 1.0, 1.0, 1.0, 1.0, 0.0, 1.0, 1.0, 1.0, 0.0, 1.0, 1.0, 1.0, 1.0, 1.0, 1.0, 1.0, 0.0, 1.0, 1.0, 1.0, 1.0, 1.0, 1.0, 1.0, 1.0, 1.0, 1.0, 1.0, 1.0, 0.0, 1.0, 0.0, 1.0, 0.0, 1.0, 1.0, 1.0, 1.0, 1.0, 1.0, 1.0, 1.0, 1.0, 1.0, 1.0, 1.0, 0.0, 1.0, 1.0, 1.0, 1.0, 1.0, 0.0, 1.0, 1.0, 1.0, 1.0, 1.0, 1.0, 1.0, 1.0, 1.0, 1.0, 1.0, 1.0, 1.0, 1.0, 1.0, 1.0, 1.0, 1.0, 1.0, 1.0, 0.0, 1.0, 1.0, 1.0, 1.0, 0.0, 0.0, 1.0, 1.0, 1.0, 1.0, 1.0, 1.0, 1.0, 1.0, 1.0, 1.0, 1.0, 1.0, 1.0, 1.0, 1.0, 1.0, 0.0, 1.0, 1.0, 1.0, 1.0, 1.0, 1.0, 1.0, 1.0, 1.0, 1.0, 0.0, 1.0, 1.0, 1.0, 1.0, 1.0, 1.0, 1.0, 0.0, 1.0, 1.0, 1.0, 1.0, 1.0, 1.0, 1.0, 1.0, 0.0, 1.0, 0.0, 1.0, 1.0, 0.0, 0.0, 0.0, 0.0, 0.0, 1.0, 0.0, 1.0, 0.0, 1.0, 1.0, 1.0, 1.0, 0.0, 1.0, 1.0, 1.0, 1.0, 1.0, 0.0, 1.0, 1.0, 1.0, 1.0, 1.0, 0.0, 1.0, 1.0, 1.0, 1.0, 0.0, 1.0, 1.0, 1.0, 1.0, 1.0, 1.0, 1.0, 1.0, 0.0, 1.0, 1.0, 0.0, 1.0, 1.0, 1.0, 1.0, 0.0, 1.0, 1.0, 0.0, 1.0, 1.0, 1.0, 1.0, 1.0, 1.0, 1.0, 0.0, 1.0, 1.0, 1.0, 0.0, 0.0, 1.0, 0.0, 1.0, 1.0, 1.0, 1.0, 1.0, 0.0, 1.0, 1.0, 1.0, 1.0, 1.0, 1.0, 1.0, 1.0, 1.0, 1.0, 1.0, 1.0, 1.0, 1.0, 1.0, 1.0, 1.0, 1.0, 1.0, 1.0, 1.0, 0.0, 1.0, 0.0, 1.0, 1.0, 1.0, 1.0, 1.0, 0.0, 1.0, 1.0, 1.0, 1.0, 1.0, 1.0, 1.0, 1.0, 0.0, 1.0, 0.0, 1.0, 1.0, 1.0, 1.0, 1.0, 1.0, 1.0, 0.0, 1.0, 1.0, 1.0, 1.0, 1.0, 1.0, 1.0, 1.0, 1.0, 0.0, 1.0, 1.0, 0.0, 1.0, 1.0, 1.0, 1.0, 0.0, 1.0, 1.0, 1.0, 1.0, 1.0, 1.0, 1.0, 1.0, 1.0, 1.0, 0.0, 0.0, 1.0, 1.0, 0.0, 1.0, 1.0, 1.0, 1.0, 1.0, 1.0, 1.0, 1.0, 1.0, 1.0, 1.0, 0.0, 1.0, 1.0, 1.0, 1.0, 1.0, 1.0, 1.0, 1.0, 1.0, 1.0, 1.0, 1.0, 0.0, 1.0, 1.0, 1.0, 0.0, 1.0, 1.0, 1.0, 1.0, 1.0, 1.0, 1.0, 0.0, 1.0, 0.0, 1.0, 0.0, 1.0, 1.0, 0.0, 1.0, 1.0, 1.0, 1.0, 1.0, 1.0, 1.0, 1.0, 1.0, 1.0, 1.0, 0.0, 1.0, 0.0, 1.0, 1.0, 1.0, 1.0, 1.0, 1.0, 1.0, 1.0, 1.0, 1.0, 1.0, 1.0, 1.0, 1.0, 1.0, 0.0, 0.0, 1.0, 1.0, 1.0, 0.0, 1.0, 1.0, 1.0, 1.0, 1.0, 1.0, 1.0, 1.0, 1.0, 1.0, 1.0, 1.0, 1.0, 1.0, 1.0, 1.0, 1.0, 1.0, 0.0, 1.0, 1.0, 1.0, 1.0, 0.0, 1.0, 1.0, 1.0, 1.0, 1.0, 1.0, 1.0, 0.0, 1.0, 1.0, 1.0, 1.0, 1.0, 1.0, 1.0, 1.0, 0.0, 1.0, 1.0, 0.0, 1.0, 1.0, 1.0, 1.0, 1.0, 1.0, 0.0, 1.0, 1.0, 1.0, 1.0, 1.0, 1.0, 1.0, 1.0, 0.0, 1.0, 1.0, 0.0, 0.0, 1.0, 1.0, 1.0, 1.0, 0.0, 1.0, 1.0, 0.0, 1.0, 1.0, 1.0, 1.0, 1.0, 1.0, 1.0, 1.0, 1.0, 1.0, 1.0, 0.0, 1.0, 1.0, 1.0, 1.0, 0.0, 1.0, 1.0, 1.0, 0.0, 1.0, 1.0, 0.0, 1.0, 1.0, 1.0, 1.0, 1.0, 1.0, 1.0, 1.0, 1.0, 1.0, 1.0, 1.0, 1.0, 1.0, 1.0, 1.0, 0.0, 0.0, 1.0, 1.0, 1.0, 1.0, 1.0, 1.0, 1.0, 0.0, 1.0, 1.0, 1.0, 1.0, 1.0, 1.0, 1.0, 1.0, 0.0, 1.0, 1.0, 0.0, 0.0, 1.0, 0.0, 1.0, 1.0, 1.0, 1.0, 1.0, 1.0, 1.0, 1.0, 1.0, 0.0, 0.0, 1.0, 0.0, 1.0, 1.0, 1.0, 1.0, 1.0, 1.0, 1.0, 1.0, 0.0, 1.0, 1.0, 1.0, 1.0, 0.0, 1.0, 1.0, 1.0, 1.0, 0.0, 1.0, 0.0, 1.0, 1.0, 1.0, 1.0, 1.0, 1.0, 1.0, 1.0, 1.0, 1.0, 1.0, 1.0, 1.0, 1.0, 1.0, 1.0, 0.0, 1.0, 1.0, 1.0, 1.0, 1.0, 1.0, 1.0, 1.0, 0.0, 1.0, 1.0, 1.0, 1.0, 1.0, 1.0, 1.0, 1.0, 0.0, 0.0, 0.0, 1.0, 1.0, 1.0, 0.0, 1.0, 1.0, 1.0, 1.0, 1.0, 1.0, 1.0, 1.0, 1.0, 1.0, 0.0, 1.0, 1.0, 1.0, 1.0, 1.0, 1.0, 1.0, 1.0, 1.0, 1.0, 1.0, 1.0, 1.0, 0.0, 1.0, 1.0, 1.0, 1.0, 1.0, 1.0, 1.0, 1.0, 0.0, 1.0, 0.0, 1.0, 1.0, 1.0, 1.0, 1.0, 1.0, 1.0, 1.0, 1.0, 1.0, 1.0, 1.0, 0.0, 1.0, 0.0, 1.0, 1.0, 1.0, 1.0, 1.0, 1.0, 1.0, 1.0, 1.0, 1.0, 1.0, 1.0, 1.0, 0.0, 1.0, 1.0, 1.0, 1.0, 0.0, 1.0, 1.0, 1.0, 1.0, 1.0, 1.0, 0.0, 0.0, 1.0, 1.0, 1.0, 0.0, 0.0, 1.0, 1.0, 1.0, 1.0, 1.0, 1.0, 1.0, 1.0, 1.0, 1.0, 1.0, 1.0, 1.0, 1.0, 1.0, 0.0, 1.0, 0.0, 1.0, 1.0, 1.0, 1.0, 0.0, 1.0, 1.0, 1.0, 1.0, 1.0, 1.0, 1.0, 1.0, 1.0, 1.0, 1.0, 1.0, 1.0, 1.0, 1.0, 1.0, 1.0, 1.0, 1.0, 1.0, 1.0, 1.0, 1.0, 1.0, 1.0, 1.0, 1.0, 1.0, 1.0, 1.0, 1.0, 1.0, 1.0, 1.0, 1.0, 1.0, 0.0, 1.0, 1.0, 1.0, 1.0, 0.0, 1.0, 1.0, 1.0, 1.0, 0.0, 1.0, 1.0, 1.0, 0.0, 1.0, 1.0, 1.0, 0.0, 1.0, 1.0, 1.0, 0.0, 0.0, 1.0, 1.0, 1.0, 1.0, 1.0, 0.0, 1.0, 1.0, 1.0, 0.0, 1.0, 1.0, 1.0, 1.0, 1.0, 1.0, 0.0, 1.0, 1.0, 1.0, 0.0, 1.0, 1.0, 1.0, 1.0, 1.0, 1.0, 1.0, 0.0, 1.0, 0.0, 1.0, 1.0, 1.0, 1.0, 1.0, 0.0, 1.0, 1.0, 1.0, 1.0, 1.0, 1.0, 1.0, 1.0, 1.0, 1.0, 1.0, 0.0, 0.0, 1.0, 1.0, 1.0, 1.0, 1.0, 1.0, 0.0, 1.0, 1.0, 1.0, 1.0, 1.0, 1.0, 0.0, 0.0, 1.0, 1.0, 1.0, 1.0, 1.0, 1.0, 1.0, 1.0, 1.0, 1.0, 1.0, 0.0, 1.0, 1.0, 0.0, 1.0, 1.0, 1.0, 1.0, 1.0, 1.0, 1.0, 1.0, 0.0, 1.0, 1.0, 1.0, 0.0, 1.0, 1.0, 0.0, 0.0, 1.0, 0.0, 1.0, 1.0, 1.0, 1.0, 1.0, 1.0, 1.0, 1.0, 1.0, 1.0, 1.0, 1.0, 1.0, 1.0, 0.0, 1.0, 1.0, 1.0, 1.0, 1.0, 1.0, 1.0, 0.0, 1.0, 1.0, 1.0, 1.0, 1.0, 1.0, 1.0, 1.0, 1.0, 1.0, 1.0, 1.0, 1.0, 1.0, 1.0, 1.0, 1.0, 1.0, 0.0, 1.0, 1.0, 1.0, 1.0, 1.0, 1.0, 1.0, 0.0, 1.0, 1.0, 1.0, 1.0, 1.0, 1.0, 1.0, 1.0, 0.0, 0.0, 1.0, 0.0, 1.0, 0.0, 1.0, 1.0, 0.0, 1.0, 0.0, 1.0, 1.0, 1.0, 1.0, 1.0, 1.0, 0.0, 1.0, 0.0, 1.0, 0.0, 0.0, 0.0, 1.0, 1.0, 0.0, 1.0, 1.0, 1.0, 1.0, 1.0, 1.0, 0.0, 1.0, 1.0, 1.0, 1.0, 1.0, 1.0, 1.0, 1.0, 1.0, 1.0, 1.0, 1.0, 0.0, 1.0, 1.0, 1.0, 1.0, 1.0, 1.0, 0.0, 1.0, 1.0, 1.0, 1.0, 1.0, 1.0, 1.0, 1.0, 0.0, 1.0, 1.0, 1.0, 1.0, 1.0, 1.0, 1.0, 1.0, 1.0, 1.0, 1.0, 1.0, 0.0, 1.0, 0.0, 0.0, 1.0, 1.0, 1.0, 1.0, 1.0, 1.0, 1.0, 1.0, 1.0, 1.0, 1.0, 1.0, 1.0, 1.0, 1.0, 0.0, 1.0, 1.0, 1.0, 1.0, 0.0, 1.0, 1.0, 1.0, 0.0, 0.0, 1.0, 1.0, 1.0, 1.0, 1.0, 0.0, 1.0, 0.0, 1.0, 1.0, 1.0, 1.0, 1.0, 1.0, 1.0, 1.0, 1.0, 1.0, 1.0, 1.0, 1.0, 1.0, 1.0, 1.0, 1.0, 1.0, 1.0, 1.0, 1.0, 1.0, 1.0, 1.0, 1.0, 1.0, 1.0, 1.0, 1.0, 0.0, 1.0, 0.0, 1.0, 1.0, 1.0, 1.0, 1.0, 1.0, 1.0, 1.0, 1.0, 0.0, 0.0, 0.0, 1.0, 1.0, 1.0, 1.0, 1.0, 0.0, 1.0, 1.0, 1.0, 0.0, 0.0, 1.0, 1.0, 1.0, 1.0, 1.0, 0.0, 0.0, 1.0, 1.0, 1.0, 0.0, 0.0, 1.0, 1.0, 0.0, 1.0, 1.0, 1.0, 1.0, 1.0, 0.0, 1.0, 1.0, 1.0, 1.0, 1.0, 1.0, 1.0, 1.0, 1.0, 1.0, 1.0, 1.0, 1.0, 1.0, 1.0, 0.0, 1.0, 1.0, 1.0, 1.0, 1.0, 1.0, 1.0, 1.0, 1.0, 1.0, 1.0, 1.0, 0.0, 1.0, 1.0, 1.0, 1.0, 0.0, 1.0, 1.0, 1.0, 1.0, 1.0, 1.0, 1.0, 1.0, 1.0, 1.0, 1.0, 1.0, 1.0, 1.0, 1.0, 1.0, 1.0, 1.0, 1.0, 1.0, 1.0, 1.0, 1.0, 1.0, 1.0, 0.0, 1.0, 1.0, 1.0, 1.0, 0.0, 1.0, 1.0, 1.0, 1.0, 1.0, 1.0, 1.0, 1.0, 1.0, 1.0, 1.0, 1.0, 1.0, 1.0, 1.0, 1.0, 1.0, 1.0, 1.0, 0.0, 0.0, 0.0, 1.0, 1.0, 1.0, 1.0, 1.0, 0.0, 1.0, 1.0, 1.0, 1.0, 1.0, 1.0, 0.0, 1.0, 1.0, 1.0, 1.0, 1.0, 1.0, 1.0, 0.0, 1.0, 1.0, 0.0, 0.0, 1.0, 1.0, 1.0, 1.0, 1.0, 1.0, 1.0, 1.0, 1.0, 1.0, 1.0, 1.0, 1.0, 1.0, 1.0, 1.0, 1.0, 1.0, 0.0, 1.0, 1.0, 0.0, 1.0, 1.0, 1.0, 0.0, 0.0, 1.0, 1.0, 1.0, 1.0, 0.0, 1.0, 1.0, 1.0, 1.0, 1.0, 1.0, 1.0, 0.0, 1.0, 1.0, 1.0, 0.0, 1.0, 1.0, 1.0, 1.0, 0.0, 1.0, 1.0, 1.0, 1.0, 1.0, 0.0, 0.0, 1.0, 1.0, 1.0, 1.0, 1.0, 1.0, 1.0, 1.0, 1.0, 1.0, 1.0, 1.0, 1.0, 0.0, 1.0, 1.0, 1.0, 1.0, 1.0, 1.0, 1.0, 1.0, 1.0, 1.0, 1.0, 0.0, 1.0, 1.0, 1.0, 1.0, 1.0, 1.0, 1.0, 1.0, 1.0, 1.0, 0.0, 1.0, 1.0, 0.0, 1.0, 1.0, 1.0, 1.0, 1.0, 1.0, 1.0, 1.0, 0.0, 1.0, 1.0, 1.0, 1.0, 0.0, 1.0, 0.0, 1.0, 0.0, 1.0, 0.0, 1.0, 1.0, 1.0, 1.0, 1.0, 1.0, 1.0, 1.0, 1.0, 1.0, 1.0, 1.0, 1.0, 1.0, 0.0, 1.0, 1.0, 0.0, 0.0, 0.0, 1.0, 1.0, 1.0, 0.0, 1.0, 0.0, 1.0, 0.0, 1.0, 0.0, 1.0, 1.0, 1.0, 1.0, 0.0, 0.0, 0.0, 1.0, 1.0, 1.0, 1.0, 1.0, 1.0, 1.0, 1.0, 1.0, 1.0, 1.0, 1.0, 1.0, 1.0, 1.0, 1.0, 1.0, 1.0, 1.0, 1.0, 1.0, 1.0, 1.0, 1.0, 1.0, 1.0, 1.0, 1.0, 1.0, 1.0, 1.0, 1.0, 0.0, 1.0, 0.0, 1.0, 1.0, 1.0, 1.0, 1.0, 0.0, 1.0, 1.0, 1.0, 1.0, 1.0, 1.0, 1.0, 1.0, 1.0, 1.0, 1.0, 1.0, 1.0, 1.0, 1.0, 1.0, 1.0, 0.0, 1.0, 1.0, 1.0, 1.0, 1.0, 1.0, 0.0, 1.0, 0.0, 1.0, 1.0, 1.0, 1.0, 1.0, 1.0, 0.0, 1.0, 1.0, 0.0, 1.0, 1.0, 1.0, 1.0, 1.0, 1.0, 0.0, 1.0, 1.0, 1.0, 0.0, 1.0, 0.0, 1.0, 1.0, 1.0, 1.0, 1.0, 1.0, 0.0, 1.0, 1.0, 0.0, 0.0, 1.0, 1.0, 1.0, 1.0, 1.0, 1.0, 0.0, 1.0, 1.0, 1.0, 1.0, 1.0, 1.0, 1.0, 1.0, 1.0, 0.0, 1.0, 1.0, 1.0, 0.0, 0.0, 0.0, 1.0, 1.0, 1.0, 1.0, 1.0, 1.0, 1.0, 1.0, 1.0, 1.0, 0.0, 0.0, 1.0, 1.0, 1.0, 1.0, 1.0, 1.0, 1.0, 0.0, 1.0, 0.0, 1.0, 1.0, 1.0, 1.0, 1.0, 1.0, 1.0, 1.0, 1.0, 1.0, 1.0, 1.0, 1.0, 1.0, 1.0, 1.0, 1.0, 1.0, 1.0, 1.0, 1.0, 1.0, 1.0, 1.0, 0.0, 1.0, 0.0, 0.0, 1.0, 1.0, 1.0, 1.0, 1.0, 1.0, 0.0, 1.0, 1.0, 1.0, 0.0, 1.0, 1.0, 0.0, 1.0, 1.0, 1.0, 1.0, 1.0, 1.0, 1.0, 1.0, 1.0, 1.0, 1.0, 1.0, 1.0, 1.0, 1.0, 1.0, 1.0, 1.0, 1.0, 1.0, 1.0, 0.0, 1.0, 0.0, 1.0, 0.0, 1.0, 0.0, 1.0, 1.0, 1.0, 1.0, 1.0, 1.0, 1.0, 1.0, 1.0, 1.0, 1.0, 1.0, 1.0, 1.0, 1.0, 1.0, 1.0, 1.0, 1.0, 1.0, 1.0, 1.0, 0.0, 0.0, 1.0, 1.0, 1.0, 1.0, 0.0, 0.0, 1.0, 1.0, 1.0, 1.0, 1.0, 1.0, 1.0, 1.0, 1.0, 0.0, 0.0, 0.0, 1.0, 1.0, 1.0, 1.0, 1.0, 1.0, 1.0, 1.0, 1.0, 1.0, 1.0, 1.0, 1.0, 1.0, 1.0, 1.0, 1.0, 1.0, 0.0, 1.0, 1.0, 1.0, 1.0, 0.0, 1.0, 1.0, 1.0, 0.0, 1.0, 1.0, 1.0, 1.0, 1.0, 0.0, 1.0, 1.0, 1.0, 1.0, 1.0, 1.0, 1.0, 1.0, 1.0, 1.0, 1.0, 1.0, 1.0, 1.0, 1.0, 1.0, 1.0, 1.0, 0.0, 1.0, 1.0, 1.0, 1.0, 0.0, 1.0, 1.0, 1.0, 1.0, 0.0, 1.0, 1.0, 1.0, 1.0, 1.0, 1.0, 1.0, 1.0, 1.0, 1.0, 1.0, 0.0, 1.0, 1.0, 1.0, 1.0, 1.0, 1.0, 1.0, 1.0, 1.0, 1.0, 1.0, 1.0, 1.0, 1.0, 0.0, 1.0, 1.0, 1.0, 1.0, 1.0, 1.0, 1.0, 1.0, 1.0, 1.0, 1.0, 1.0, 1.0, 1.0, 1.0, 1.0, 1.0, 1.0, 0.0, 1.0, 1.0, 1.0, 1.0, 1.0, 1.0, 1.0, 1.0, 1.0, 1.0, 0.0, 1.0, 1.0, 1.0, 0.0, 1.0, 1.0, 1.0, 1.0, 1.0, 1.0, 1.0, 1.0, 1.0, 0.0, 1.0, 1.0, 1.0, 1.0, 0.0, 1.0, 1.0, 1.0, 0.0, 1.0, 1.0, 0.0, 1.0, 1.0, 1.0, 0.0, 0.0, 1.0, 1.0, 1.0, 1.0, 0.0, 1.0, 1.0, 0.0, 1.0, 1.0, 1.0, 1.0, 1.0, 1.0, 1.0, 1.0, 1.0, 1.0, 1.0, 1.0, 1.0, 1.0, 1.0, 1.0, 1.0, 1.0, 1.0, 1.0, 1.0, 1.0, 1.0, 1.0, 1.0, 1.0, 1.0, 1.0, 1.0, 1.0, 1.0, 1.0, 1.0, 1.0, 1.0, 1.0, 1.0, 1.0, 1.0, 1.0, 1.0, 1.0, 1.0, 1.0, 1.0, 1.0, 1.0, 1.0, 1.0, 1.0, 1.0, 1.0, 1.0, 1.0, 1.0, 1.0, 0.0, 1.0, 1.0, 1.0, 0.0, 1.0, 1.0, 1.0, 0.0, 1.0, 1.0, 1.0, 1.0, 0.0, 1.0, 1.0, 0.0, 1.0, 1.0, 1.0, 1.0, 1.0, 1.0, 1.0, 1.0, 1.0, 1.0, 1.0, 1.0, 1.0, 1.0, 0.0, 1.0, 1.0, 0.0, 1.0, 1.0, 1.0, 1.0, 1.0, 1.0, 1.0, 1.0, 1.0, 1.0, 0.0, 1.0, 0.0, 1.0, 0.0, 1.0, 0.0, 1.0, 1.0, 1.0, 1.0, 1.0, 1.0, 0.0, 1.0, 1.0, 0.0, 0.0, 1.0, 1.0, 1.0, 1.0, 1.0, 1.0, 1.0, 0.0, 1.0, 1.0, 1.0, 1.0, 1.0, 1.0, 1.0, 1.0, 1.0, 1.0, 1.0, 1.0, 1.0, 1.0, 1.0, 1.0, 0.0, 1.0, 1.0, 1.0, 1.0, 1.0, 1.0, 1.0, 1.0, 1.0, 1.0, 1.0, 1.0, 1.0, 1.0, 1.0, 1.0, 1.0, 1.0, 1.0, 0.0, 1.0, 1.0, 0.0, 1.0, 1.0, 1.0, 1.0, 1.0, 1.0, 1.0, 1.0, 1.0, 1.0, 1.0, 1.0, 1.0, 1.0, 1.0, 1.0, 0.0, 1.0, 1.0, 1.0, 1.0, 1.0, 1.0, 1.0, 1.0, 1.0, 1.0, 1.0, 1.0, 1.0, 1.0, 1.0, 1.0, 1.0, 1.0, 1.0, 1.0, 1.0, 1.0, 1.0, 0.0, 1.0, 1.0, 1.0, 0.0, 1.0, 1.0, 0.0, 1.0, 1.0, 0.0, 0.0, 1.0, 1.0, 1.0, 1.0, 1.0, 1.0, 1.0, 1.0, 1.0, 1.0, 1.0, 1.0, 1.0, 0.0, 1.0, 1.0, 0.0, 1.0, 1.0, 1.0, 1.0, 1.0, 1.0, 1.0, 1.0, 1.0, 1.0, 1.0, 1.0, 0.0, 1.0, 1.0, 0.0, 1.0, 0.0, 0.0, 1.0, 1.0, 1.0, 1.0, 0.0, 0.0, 0.0, 0.0, 1.0, 1.0, 1.0, 1.0, 1.0, 1.0, 1.0, 1.0, 1.0, 1.0, 0.0, 0.0, 1.0, 1.0, 1.0, 1.0, 0.0, 1.0, 1.0, 0.0, 0.0, 1.0, 0.0, 1.0, 0.0, 1.0, 1.0, 1.0, 0.0, 1.0, 1.0, 1.0, 1.0, 0.0, 1.0, 1.0, 1.0, 0.0, 1.0, 1.0, 1.0, 1.0, 1.0, 0.0, 1.0, 1.0, 1.0, 0.0, 1.0, 1.0, 1.0, 1.0, 0.0, 1.0, 0.0, 1.0, 1.0, 1.0, 1.0, 1.0, 1.0, 1.0, 1.0, 1.0, 1.0, 1.0, 0.0, 0.0, 1.0, 1.0, 1.0, 1.0, 1.0, 1.0, 1.0, 1.0, 1.0, 1.0, 1.0, 1.0, 1.0, 0.0, 1.0, 1.0, 0.0, 1.0, 1.0, 1.0, 1.0, 1.0, 1.0, 0.0, 1.0, 1.0, 1.0, 1.0, 1.0, 1.0, 1.0, 1.0, 1.0, 1.0, 0.0, 1.0, 1.0, 1.0, 1.0, 0.0, 1.0, 1.0, 1.0, 0.0, 0.0, 1.0, 1.0, 1.0, 1.0, 1.0, 1.0, 1.0, 1.0, 1.0, 1.0, 1.0, 1.0, 1.0, 0.0, 1.0, 1.0, 1.0, 1.0, 0.0, 1.0, 0.0, 1.0, 1.0, 1.0, 0.0, 1.0, 1.0, 1.0, 1.0, 1.0, 1.0, 1.0, 1.0, 0.0, 1.0, 1.0, 1.0, 1.0, 0.0, 1.0, 1.0, 0.0, 1.0, 1.0, 0.0, 1.0, 1.0, 1.0, 1.0, 1.0, 1.0, 1.0, 1.0, 1.0, 1.0, 0.0, 1.0, 1.0, 1.0, 1.0, 1.0, 1.0, 1.0, 1.0, 1.0, 1.0, 0.0, 1.0, 1.0, 1.0, 1.0, 0.0, 1.0, 1.0, 1.0, 1.0, 1.0, 1.0, 1.0, 1.0, 1.0, 1.0, 1.0, 1.0, 1.0, 0.0, 1.0, 1.0, 1.0, 1.0, 0.0, 1.0, 1.0, 1.0, 1.0, 0.0, 1.0, 1.0, 0.0, 1.0, 1.0, 1.0, 1.0, 1.0, 1.0, 1.0, 1.0, 0.0, 1.0, 1.0, 0.0, 1.0, 1.0, 1.0, 0.0, 1.0, 1.0, 0.0, 1.0, 1.0, 1.0, 0.0, 1.0, 1.0, 1.0, 1.0, 1.0, 1.0, 1.0, 1.0, 1.0, 1.0, 1.0, 0.0, 1.0, 1.0, 1.0, 1.0, 1.0, 1.0, 1.0, 1.0, 1.0, 0.0, 1.0, 1.0, 1.0, 1.0, 1.0, 1.0, 1.0, 1.0, 1.0, 0.0, 1.0, 1.0, 1.0, 1.0, 1.0, 1.0, 1.0, 1.0, 1.0, 1.0, 1.0, 1.0, 1.0, 1.0, 1.0, 1.0, 1.0, 1.0, 1.0, 1.0, 1.0, 1.0, 1.0, 1.0, 1.0, 1.0, 1.0, 1.0, 0.0, 1.0, 1.0, 0.0, 1.0, 1.0, 1.0, 0.0, 1.0, 1.0, 0.0, 1.0, 1.0, 0.0, 0.0, 1.0, 1.0, 1.0, 1.0, 1.0, 1.0, 1.0, 1.0, 1.0, 1.0, 1.0, 1.0, 1.0, 1.0, 1.0, 1.0, 1.0, 1.0, 1.0, 1.0, 1.0, 0.0, 1.0, 1.0, 1.0, 1.0, 1.0, 1.0, 1.0, 0.0, 1.0, 1.0, 0.0, 0.0, 1.0, 0.0, 1.0, 1.0, 1.0, 1.0, 1.0, 0.0, 1.0, 1.0, 0.0, 1.0, 0.0, 1.0, 1.0, 1.0, 1.0, 1.0, 0.0, 1.0, 1.0, 1.0, 1.0, 1.0, 0.0, 0.0, 1.0, 0.0, 1.0, 1.0, 1.0, 1.0, 1.0, 1.0, 1.0, 1.0, 1.0, 0.0, 1.0, 1.0, 1.0, 1.0, 0.0, 1.0, 1.0, 1.0, 1.0, 0.0, 1.0, 0.0, 1.0, 1.0, 1.0, 1.0, 1.0, 0.0, 1.0, 1.0, 1.0, 1.0, 1.0, 1.0, 1.0, 1.0, 1.0, 1.0, 1.0, 1.0, 1.0, 1.0, 1.0, 1.0, 1.0, 1.0, 1.0, 1.0, 1.0, 1.0, 1.0, 0.0, 0.0, 1.0, 1.0, 1.0, 1.0, 1.0, 1.0, 1.0, 1.0, 1.0, 1.0, 1.0, 0.0, 1.0, 1.0, 0.0, 1.0, 1.0, 1.0, 0.0, 1.0, 1.0, 1.0, 1.0, 1.0, 1.0, 1.0, 1.0, 0.0, 1.0, 1.0, 1.0, 0.0, 1.0, 0.0, 1.0, 1.0, 1.0, 0.0, 1.0, 1.0, 1.0, 1.0, 0.0, 1.0, 1.0, 1.0, 0.0, 1.0, 0.0, 1.0, 1.0, 1.0, 0.0, 1.0, 1.0, 1.0, 1.0, 1.0, 1.0, 0.0, 1.0, 1.0, 1.0, 1.0, 0.0, 0.0, 1.0, 1.0, 1.0, 0.0, 1.0, 1.0, 1.0, 1.0, 1.0, 1.0, 1.0, 1.0, 1.0, 1.0, 1.0, 1.0, 1.0, 1.0, 1.0, 1.0, 1.0, 1.0, 1.0, 0.0, 0.0, 1.0, 1.0, 1.0, 1.0, 1.0, 1.0, 1.0, 1.0, 1.0, 1.0, 1.0, 1.0, 1.0, 1.0, 1.0, 0.0, 1.0, 1.0, 1.0, 1.0, 1.0, 0.0, 1.0, 1.0, 0.0, 1.0, 1.0, 1.0, 1.0, 1.0, 1.0, 1.0, 1.0, 1.0, 1.0, 1.0, 0.0, 0.0, 0.0, 1.0, 0.0, 0.0, 1.0, 1.0, 1.0, 1.0, 1.0, 1.0, 1.0, 1.0, 1.0, 0.0, 1.0, 1.0, 1.0, 1.0, 1.0, 1.0, 1.0, 0.0, 0.0, 1.0, 1.0, 0.0, 1.0, 1.0, 1.0, 0.0, 0.0, 1.0, 1.0, 0.0, 1.0, 1.0, 0.0, 0.0, 1.0, 0.0, 0.0, 0.0, 1.0, 1.0, 0.0, 1.0, 1.0, 1.0, 1.0, 1.0, 0.0, 1.0, 0.0, 1.0, 0.0, 1.0, 1.0, 0.0, 1.0, 1.0, 1.0, 1.0, 0.0, 0.0, 1.0, 1.0, 1.0, 0.0, 1.0, 1.0, 1.0, 0.0, 1.0, 0.0, 1.0, 1.0, 0.0, 1.0, 1.0, 1.0, 1.0, 1.0, 0.0, 1.0, 1.0, 1.0, 0.0, 1.0, 1.0, 1.0, 1.0, 1.0, 1.0, 1.0, 1.0, 1.0, 1.0, 0.0, 0.0, 0.0, 1.0, 1.0, 0.0, 1.0, 1.0, 1.0, 0.0, 1.0, 0.0, 1.0, 1.0, 1.0, 1.0, 0.0, 0.0, 1.0, 1.0, 1.0, 0.0, 1.0, 1.0, 1.0, 1.0, 1.0, 1.0, 1.0, 1.0, 1.0, 1.0, 1.0, 1.0, 1.0, 1.0, 1.0, 1.0, 1.0, 1.0, 1.0, 1.0, 1.0, 1.0, 1.0, 1.0, 1.0, 1.0, 1.0, 1.0, 1.0, 1.0, 1.0, 1.0, 1.0, 1.0, 1.0, 0.0, 1.0, 0.0, 1.0, 1.0, 1.0, 0.0, 1.0, 1.0, 0.0, 1.0, 1.0, 1.0, 1.0, 1.0, 1.0, 1.0, 1.0, 0.0, 1.0, 1.0, 1.0, 1.0, 1.0, 1.0, 1.0, 1.0, 1.0, 0.0, 1.0, 0.0, 1.0, 1.0, 1.0, 1.0, 1.0, 1.0, 1.0, 0.0, 1.0, 1.0, 0.0, 0.0, 1.0, 1.0, 0.0, 1.0, 0.0, 1.0, 1.0, 1.0, 1.0, 1.0, 1.0, 1.0, 1.0, 1.0, 0.0, 1.0, 1.0, 1.0, 1.0, 0.0, 0.0, 0.0, 1.0, 1.0, 0.0, 1.0, 1.0, 1.0, 1.0, 1.0, 1.0, 1.0, 1.0, 1.0, 0.0, 1.0, 1.0, 1.0, 1.0, 1.0, 1.0, 1.0, 0.0, 0.0, 1.0, 0.0, 0.0, 1.0, 1.0, 1.0, 1.0, 1.0, 1.0, 1.0, 1.0, 0.0, 0.0, 0.0, 1.0, 0.0, 1.0, 1.0, 1.0, 1.0, 1.0, 1.0, 0.0, 0.0, 1.0, 1.0, 0.0, 1.0, 1.0, 1.0, 1.0, 1.0, 1.0, 1.0, 1.0, 0.0, 1.0, 1.0, 1.0, 1.0, 1.0, 1.0, 1.0, 0.0, 1.0, 0.0, 0.0, 1.0, 1.0, 1.0, 1.0, 1.0, 1.0, 1.0, 0.0, 1.0, 0.0, 1.0, 1.0, 1.0, 1.0, 1.0, 1.0, 1.0, 1.0, 1.0, 1.0, 1.0, 0.0, 1.0, 0.0, 1.0, 1.0, 1.0, 0.0, 1.0, 1.0, 0.0, 1.0, 1.0, 1.0, 1.0, 1.0, 1.0, 1.0, 1.0, 0.0, 1.0, 1.0, 1.0, 1.0, 1.0, 1.0, 0.0, 1.0, 1.0, 1.0, 1.0, 1.0, 1.0, 1.0, 1.0, 1.0, 1.0, 1.0, 0.0, 1.0, 1.0, 1.0, 1.0, 1.0, 1.0, 1.0, 1.0, 0.0, 1.0, 1.0, 1.0, 1.0, 1.0, 1.0, 1.0, 1.0, 1.0, 1.0, 0.0, 1.0, 1.0, 0.0, 1.0, 1.0, 0.0, 1.0, 0.0, 1.0, 1.0, 0.0, 0.0, 0.0, 1.0, 0.0, 1.0, 1.0, 1.0, 1.0, 1.0, 1.0, 0.0, 1.0, 1.0, 1.0, 0.0, 1.0, 1.0, 1.0, 1.0, 1.0, 1.0, 1.0, 0.0, 1.0, 1.0, 1.0, 1.0, 1.0, 1.0, 0.0, 1.0, 1.0, 1.0, 1.0, 1.0, 0.0, 1.0, 1.0, 1.0, 0.0, 0.0, 0.0, 0.0, 1.0, 1.0, 1.0, 1.0, 1.0, 1.0, 1.0, 1.0, 1.0, 1.0, 1.0, 1.0, 0.0, 1.0, 1.0, 1.0, 1.0, 1.0, 1.0, 0.0, 1.0, 0.0, 1.0, 1.0, 1.0, 0.0, 1.0, 0.0, 1.0, 0.0, 1.0, 1.0, 1.0, 1.0, 1.0, 1.0, 1.0, 1.0, 1.0, 1.0, 1.0, 1.0, 1.0, 1.0, 1.0, 1.0, 1.0, 1.0, 1.0, 0.0, 0.0, 1.0, 1.0, 1.0, 1.0, 1.0, 0.0, 1.0, 1.0, 1.0, 1.0, 1.0, 1.0, 1.0, 1.0, 0.0, 1.0, 1.0, 1.0, 1.0, 1.0, 1.0, 1.0, 1.0, 1.0, 1.0, 1.0, 1.0, 1.0, 0.0, 1.0, 0.0, 0.0, 1.0, 1.0, 0.0, 1.0, 1.0, 1.0, 1.0, 1.0, 0.0, 1.0, 1.0, 1.0, 1.0, 1.0, 1.0, 1.0, 1.0, 1.0, 1.0, 0.0, 1.0, 0.0, 0.0, 1.0, 1.0, 1.0, 1.0, 1.0, 1.0, 1.0, 0.0, 1.0, 0.0, 1.0, 0.0, 1.0, 1.0, 1.0, 1.0, 1.0, 1.0, 1.0, 1.0, 1.0, 1.0, 1.0, 1.0, 1.0, 1.0, 0.0, 1.0, 1.0, 1.0, 1.0, 1.0, 0.0, 1.0, 1.0, 0.0, 0.0, 1.0, 1.0, 0.0, 1.0, 0.0, 1.0, 0.0, 1.0, 1.0, 1.0, 1.0, 1.0, 1.0, 1.0, 1.0, 1.0, 1.0, 1.0, 1.0, 1.0, 1.0, 1.0, 1.0, 1.0, 1.0, 1.0, 1.0, 1.0, 1.0, 1.0, 1.0, 1.0, 1.0, 1.0, 1.0, 1.0, 1.0, 1.0, 1.0, 0.0, 0.0, 1.0, 1.0, 1.0, 1.0, 1.0, 1.0, 1.0, 0.0, 1.0, 0.0, 1.0, 1.0, 1.0, 0.0, 1.0, 1.0, 1.0, 0.0, 1.0, 0.0, 1.0, 1.0, 1.0, 1.0, 1.0, 1.0, 1.0, 0.0, 1.0, 1.0, 0.0, 1.0, 0.0, 0.0, 1.0, 1.0, 0.0, 1.0, 0.0, 1.0, 0.0, 1.0, 0.0, 1.0, 1.0, 0.0, 0.0, 1.0, 1.0, 1.0, 1.0, 1.0, 1.0, 0.0, 1.0, 1.0, 1.0, 1.0, 1.0, 0.0, 1.0, 0.0, 1.0, 1.0, 1.0, 1.0, 0.0, 1.0, 1.0, 1.0, 1.0, 1.0, 0.0, 0.0, 1.0, 0.0, 1.0, 0.0, 1.0, 1.0, 1.0, 1.0, 1.0, 0.0, 1.0, 1.0, 0.0, 1.0, 1.0, 1.0, 1.0, 1.0, 1.0, 1.0, 1.0, 1.0, 1.0, 1.0, 1.0, 1.0, 1.0, 1.0, 0.0, 1.0, 1.0, 0.0, 1.0, 1.0, 1.0, 1.0, 1.0, 1.0, 1.0, 1.0, 1.0, 1.0, 0.0, 1.0, 1.0, 1.0, 1.0, 1.0, 1.0, 1.0, 1.0, 1.0, 1.0, 1.0, 0.0, 0.0, 1.0, 1.0, 1.0, 1.0, 1.0, 1.0, 1.0, 1.0, 1.0, 1.0, 1.0, 1.0, 1.0, 0.0, 1.0, 0.0, 1.0, 0.0, 1.0, 1.0, 0.0, 1.0, 1.0, 1.0, 1.0, 1.0, 0.0, 1.0, 1.0, 1.0, 1.0, 1.0, 1.0, 1.0, 1.0, 1.0, 1.0, 1.0, 1.0, 1.0, 1.0, 1.0, 1.0, 1.0, 1.0, 1.0, 1.0, 1.0, 1.0, 1.0, 0.0, 1.0, 0.0, 0.0, 1.0, 1.0, 0.0, 1.0, 1.0, 1.0, 1.0, 1.0, 1.0, 1.0, 1.0, 1.0, 1.0, 1.0, 1.0, 0.0, 1.0, 1.0, 1.0, 1.0, 1.0, 1.0, 0.0, 0.0, 0.0, 1.0, 1.0, 1.0, 1.0, 1.0, 1.0, 1.0, 1.0, 1.0, 1.0, 1.0, 1.0, 1.0, 1.0, 1.0, 1.0, 1.0, 1.0, 0.0, 1.0, 1.0, 1.0, 0.0, 0.0, 0.0, 1.0, 1.0, 0.0, 1.0, 1.0, 1.0, 1.0, 1.0, 0.0, 1.0, 1.0, 1.0, 1.0, 0.0, 1.0, 1.0, 1.0, 1.0, 1.0, 0.0, 1.0, 1.0, 1.0, 1.0, 0.0, 1.0, 0.0, 1.0, 0.0, 1.0, 0.0, 0.0, 0.0, 0.0, 1.0, 1.0, 1.0, 0.0, 1.0, 1.0, 1.0, 1.0, 1.0, 1.0, 1.0, 1.0, 1.0, 0.0, 0.0, 1.0, 1.0, 1.0, 1.0, 1.0, 1.0, 1.0, 1.0, 1.0, 1.0, 1.0, 0.0, 1.0, 0.0, 1.0, 1.0, 1.0, 1.0, 1.0, 1.0, 1.0, 1.0, 1.0, 1.0, 1.0, 1.0, 1.0, 1.0, 0.0, 1.0, 1.0, 0.0, 0.0, 1.0, 0.0, 1.0, 1.0, 1.0, 1.0, 0.0, 1.0, 0.0, 1.0, 1.0, 1.0, 1.0, 0.0, 1.0, 1.0, 1.0, 1.0, 1.0, 1.0, 1.0, 1.0, 1.0, 1.0, 1.0, 1.0, 1.0, 1.0, 1.0, 1.0, 1.0, 1.0, 1.0, 1.0, 1.0, 1.0, 1.0, 0.0, 0.0, 1.0, 1.0, 0.0, 1.0, 1.0, 1.0, 1.0, 1.0, 1.0, 1.0, 0.0, 1.0, 1.0, 1.0, 1.0, 1.0, 1.0, 1.0, 0.0, 1.0, 1.0, 1.0, 1.0, 1.0, 0.0, 1.0, 1.0, 1.0, 1.0, 0.0, 1.0, 1.0, 0.0, 1.0, 1.0, 1.0, 0.0, 1.0, 1.0, 1.0, 1.0, 1.0, 0.0, 1.0, 0.0, 1.0, 1.0, 1.0, 1.0, 1.0, 1.0, 1.0, 1.0, 1.0, 0.0, 1.0, 1.0, 1.0, 1.0, 0.0, 1.0, 1.0, 1.0, 1.0, 1.0, 1.0, 1.0, 1.0, 1.0, 0.0, 1.0, 0.0, 1.0, 1.0, 1.0, 1.0, 1.0, 1.0, 1.0, 1.0, 1.0, 1.0, 1.0, 0.0, 1.0, 1.0, 1.0, 0.0, 1.0, 1.0, 1.0, 1.0, 1.0, 0.0, 1.0, 1.0, 1.0, 1.0, 1.0, 1.0, 1.0, 1.0, 1.0, 1.0, 1.0, 1.0, 1.0, 1.0, 1.0, 1.0, 0.0, 0.0, 1.0, 1.0, 1.0, 1.0, 1.0, 1.0, 0.0, 1.0, 1.0, 0.0, 1.0, 0.0, 0.0, 1.0, 1.0, 1.0, 1.0, 1.0, 1.0, 0.0, 1.0, 1.0, 1.0, 1.0, 0.0, 0.0, 1.0, 1.0, 0.0, 1.0, 1.0, 1.0, 1.0, 1.0, 1.0, 1.0, 1.0, 1.0, 1.0, 1.0, 1.0, 0.0, 1.0, 1.0, 1.0, 1.0, 0.0, 0.0, 1.0, 1.0, 1.0, 1.0, 0.0, 1.0, 0.0, 1.0, 0.0, 1.0, 1.0, 1.0, 1.0, 1.0, 1.0, 1.0, 1.0, 1.0, 1.0, 1.0, 1.0, 1.0, 1.0, 0.0, 0.0, 1.0, 1.0, 1.0, 1.0, 1.0, 0.0, 1.0, 1.0, 1.0, 1.0, 1.0, 0.0, 0.0, 1.0, 1.0, 1.0, 1.0, 1.0, 1.0, 1.0, 1.0, 1.0, 1.0, 1.0, 1.0, 1.0, 1.0, 1.0, 1.0, 0.0, 1.0, 1.0, 0.0, 1.0, 0.0, 1.0, 1.0, 1.0, 1.0, 1.0, 1.0, 1.0, 1.0, 1.0, 1.0, 1.0, 1.0, 1.0, 1.0, 1.0, 1.0, 1.0, 1.0, 1.0, 0.0, 1.0, 0.0, 1.0, 1.0, 0.0, 0.0, 1.0, 1.0, 1.0, 1.0, 0.0, 1.0, 1.0, 1.0, 1.0, 1.0, 1.0, 1.0, 1.0, 1.0, 1.0, 1.0, 1.0, 1.0, 1.0, 1.0, 1.0, 1.0, 1.0, 1.0, 1.0, 0.0, 0.0, 0.0, 1.0, 1.0, 1.0, 1.0, 1.0, 1.0, 1.0, 1.0, 0.0, 1.0, 1.0, 1.0, 1.0, 1.0, 1.0, 1.0, 1.0, 1.0, 1.0, 1.0, 1.0, 1.0, 0.0, 1.0, 1.0, 1.0, 1.0, 1.0, 1.0, 1.0, 1.0, 1.0, 1.0, 0.0, 1.0, 1.0, 1.0, 0.0, 1.0, 1.0, 0.0, 1.0, 1.0, 1.0, 1.0, 1.0, 1.0, 1.0, 1.0, 1.0, 1.0, 1.0, 1.0, 1.0, 0.0, 1.0, 1.0, 1.0, 1.0, 1.0, 1.0, 1.0, 1.0, 1.0, 1.0, 1.0, 1.0, 1.0, 1.0, 0.0, 0.0, 1.0, 1.0, 1.0, 1.0, 1.0, 1.0, 1.0, 1.0, 1.0, 1.0, 1.0, 1.0, 1.0, 0.0, 1.0, 0.0, 1.0, 1.0, 1.0, 1.0, 1.0, 1.0, 0.0, 1.0, 1.0, 1.0, 1.0, 1.0, 0.0, 1.0, 1.0, 1.0, 1.0, 1.0, 1.0, 1.0, 1.0, 1.0, 1.0, 1.0, 0.0, 1.0, 1.0, 0.0, 1.0, 1.0, 1.0, 0.0, 1.0, 1.0, 0.0, 1.0, 1.0, 0.0, 1.0, 1.0, 1.0, 1.0, 1.0, 1.0, 1.0, 1.0, 1.0, 1.0, 1.0, 1.0, 1.0, 1.0, 1.0, 1.0, 0.0, 1.0, 1.0, 1.0, 1.0, 1.0, 1.0, 1.0, 1.0, 1.0, 1.0, 1.0, 1.0, 1.0, 1.0, 1.0, 1.0, 1.0, 1.0, 1.0, 1.0, 1.0, 1.0, 1.0, 0.0, 1.0, 1.0, 1.0, 1.0, 1.0, 1.0, 1.0, 1.0, 1.0, 0.0, 1.0, 1.0, 1.0, 1.0, 1.0, 1.0, 0.0, 1.0, 1.0, 1.0, 0.0, 1.0, 1.0, 0.0, 1.0, 1.0, 1.0, 1.0, 1.0, 1.0, 0.0, 1.0, 1.0, 0.0, 1.0, 1.0, 1.0, 1.0, 1.0, 1.0, 1.0, 0.0, 1.0, 1.0, 1.0, 1.0, 1.0, 1.0, 1.0, 1.0, 1.0, 1.0, 1.0, 1.0, 1.0, 1.0, 1.0, 1.0, 1.0, 1.0, 1.0, 1.0, 1.0, 1.0, 1.0, 1.0, 1.0, 0.0, 1.0, 1.0, 1.0, 1.0, 1.0, 0.0, 0.0, 0.0, 1.0, 1.0, 1.0, 1.0, 1.0, 0.0, 1.0, 1.0, 1.0, 1.0, 1.0, 1.0, 1.0, 1.0, 0.0, 1.0, 1.0, 1.0, 0.0, 1.0, 1.0, 0.0, 1.0, 1.0, 1.0, 0.0, 1.0, 1.0, 1.0, 1.0, 1.0, 1.0, 1.0, 1.0, 1.0, 1.0, 1.0, 1.0, 0.0, 0.0, 1.0, 1.0, 1.0, 1.0, 1.0, 1.0, 1.0, 1.0, 0.0, 1.0, 0.0, 1.0, 1.0, 0.0, 1.0, 1.0, 1.0, 1.0, 1.0, 1.0, 0.0, 1.0, 1.0, 1.0, 1.0, 1.0, 1.0, 1.0, 1.0, 0.0, 1.0, 0.0, 1.0, 1.0, 1.0, 1.0, 1.0, 1.0, 0.0, 0.0, 1.0, 1.0, 0.0, 1.0, 1.0, 1.0, 1.0, 1.0, 1.0, 1.0, 1.0, 1.0, 0.0, 1.0, 0.0, 1.0, 1.0, 1.0, 1.0, 1.0, 0.0, 1.0, 1.0, 1.0, 1.0, 1.0, 1.0, 1.0, 1.0, 0.0, 1.0, 1.0, 1.0, 1.0, 1.0, 1.0, 1.0, 1.0, 0.0, 0.0, 1.0, 0.0, 1.0, 1.0, 0.0, 1.0, 0.0, 1.0, 1.0, 1.0, 1.0, 1.0, 1.0, 1.0, 1.0, 1.0, 1.0, 1.0, 1.0, 1.0, 1.0, 1.0, 1.0, 1.0, 1.0, 1.0, 1.0, 0.0, 0.0, 1.0, 0.0, 1.0, 1.0, 1.0, 0.0, 1.0, 1.0, 1.0, 0.0, 1.0, 1.0, 1.0, 1.0, 0.0, 1.0, 1.0, 1.0, 1.0, 1.0, 1.0, 1.0, 1.0, 1.0, 1.0, 1.0, 1.0, 1.0, 1.0, 1.0, 1.0, 1.0, 0.0, 0.0, 1.0, 0.0, 0.0, 1.0, 1.0, 1.0, 1.0, 1.0, 1.0, 0.0, 1.0, 0.0, 0.0, 1.0, 1.0, 1.0, 1.0, 0.0, 1.0, 1.0, 1.0, 0.0, 1.0, 1.0, 0.0, 1.0, 1.0, 1.0, 1.0, 1.0, 1.0, 1.0, 1.0, 1.0, 0.0, 1.0, 1.0, 1.0, 1.0, 1.0, 1.0, 1.0, 1.0, 1.0, 1.0, 1.0, 1.0, 1.0, 1.0, 0.0, 1.0, 1.0, 0.0, 1.0, 1.0, 1.0, 1.0, 1.0, 1.0, 1.0, 1.0, 1.0, 1.0, 1.0, 1.0, 1.0, 0.0, 1.0, 1.0, 0.0, 1.0, 0.0, 1.0, 1.0, 1.0, 1.0, 1.0, 1.0, 0.0, 1.0, 1.0, 1.0, 1.0, 1.0, 1.0, 0.0, 1.0, 1.0, 1.0, 1.0, 1.0, 1.0, 0.0, 1.0, 0.0, 1.0, 1.0, 1.0, 1.0, 1.0, 1.0, 1.0, 1.0, 1.0, 1.0, 0.0, 1.0, 1.0, 1.0, 0.0, 1.0, 1.0, 1.0, 1.0, 1.0, 1.0, 0.0, 0.0, 1.0, 1.0, 1.0, 1.0, 1.0, 1.0, 1.0, 0.0, 1.0, 0.0, 1.0, 0.0, 1.0, 1.0, 1.0, 1.0, 0.0, 1.0, 1.0, 1.0, 1.0, 1.0, 0.0, 0.0, 1.0, 1.0, 1.0, 1.0, 1.0, 1.0, 1.0, 1.0, 1.0, 1.0, 1.0, 0.0, 1.0, 1.0, 1.0, 1.0, 1.0, 1.0, 1.0, 1.0, 1.0, 0.0, 1.0, 1.0, 0.0, 1.0, 0.0, 1.0, 1.0, 1.0, 1.0, 0.0, 1.0, 0.0, 1.0, 1.0, 1.0, 0.0, 1.0, 0.0, 1.0, 1.0, 1.0, 1.0, 1.0, 1.0, 0.0, 1.0, 1.0, 1.0, 1.0, 1.0, 0.0, 1.0, 1.0, 1.0, 1.0, 1.0, 1.0, 0.0, 1.0, 1.0, 1.0, 1.0, 1.0, 1.0, 1.0, 1.0, 1.0, 1.0, 1.0, 1.0, 1.0, 1.0, 0.0, 1.0, 1.0, 0.0, 1.0, 1.0, 1.0, 1.0, 1.0, 1.0, 1.0, 1.0, 1.0, 1.0, 1.0, 1.0, 1.0, 1.0, 1.0, 1.0, 1.0, 0.0, 1.0, 0.0, 1.0, 1.0, 1.0, 1.0, 1.0, 1.0, 1.0, 1.0, 1.0, 1.0, 1.0, 1.0, 1.0, 1.0, 0.0, 1.0, 1.0, 1.0, 1.0, 1.0, 1.0, 1.0, 1.0, 1.0, 0.0, 0.0, 1.0, 0.0, 1.0, 1.0, 1.0, 1.0, 1.0, 1.0, 1.0, 1.0, 1.0, 1.0, 1.0, 0.0, 1.0, 1.0, 1.0, 1.0, 1.0, 0.0, 1.0, 0.0, 1.0, 1.0, 1.0, 1.0, 1.0, 1.0, 1.0, 1.0, 1.0, 0.0, 1.0, 0.0, 1.0, 1.0, 1.0, 1.0, 1.0, 1.0, 0.0, 1.0, 1.0, 1.0, 1.0, 1.0, 1.0, 1.0, 1.0, 1.0, 1.0, 0.0, 1.0, 1.0, 1.0, 1.0, 1.0, 0.0, 1.0, 1.0, 1.0, 1.0, 1.0, 1.0, 1.0, 1.0, 1.0, 1.0, 1.0, 1.0, 1.0, 0.0, 1.0, 1.0, 1.0, 1.0, 0.0, 0.0, 1.0, 1.0, 1.0, 0.0, 1.0, 1.0, 1.0, 1.0, 1.0, 1.0, 1.0, 1.0, 1.0, 1.0, 0.0, 1.0, 0.0, 0.0, 1.0, 1.0, 1.0, 1.0, 1.0, 1.0, 1.0, 1.0, 1.0, 1.0, 0.0, 1.0, 1.0, 1.0, 0.0, 1.0, 1.0, 1.0, 1.0, 1.0, 1.0, 1.0, 1.0, 0.0, 1.0, 1.0, 1.0, 1.0, 1.0, 0.0, 1.0, 1.0, 1.0, 1.0, 1.0, 0.0, 0.0, 1.0, 1.0, 1.0, 0.0, 1.0, 1.0, 1.0, 1.0, 0.0, 1.0, 1.0, 1.0, 1.0, 0.0, 1.0, 1.0, 1.0, 0.0, 1.0, 1.0, 1.0, 1.0, 0.0, 0.0, 1.0, 0.0, 1.0, 1.0, 1.0, 1.0, 0.0, 1.0, 0.0, 1.0, 1.0, 0.0, 1.0, 1.0, 1.0, 1.0, 1.0, 1.0, 1.0, 1.0, 0.0, 1.0, 0.0, 0.0, 1.0, 1.0, 0.0, 1.0, 1.0, 0.0, 1.0, 1.0, 0.0, 1.0, 1.0, 1.0, 1.0, 1.0, 1.0, 1.0, 1.0, 0.0, 1.0, 1.0, 1.0, 0.0, 1.0, 1.0, 1.0, 0.0, 1.0, 1.0, 1.0, 1.0, 1.0, 1.0, 0.0, 0.0, 1.0, 0.0, 0.0, 1.0, 1.0, 1.0, 1.0, 1.0, 1.0, 0.0, 1.0, 1.0, 0.0, 0.0, 0.0, 1.0, 1.0, 1.0, 1.0, 1.0, 1.0, 1.0, 1.0, 1.0, 0.0, 1.0, 1.0, 1.0, 1.0, 1.0, 1.0, 1.0, 1.0, 1.0, 1.0, 1.0, 1.0, 1.0, 0.0, 1.0, 1.0, 1.0, 1.0, 1.0, 1.0, 1.0, 1.0, 1.0, 0.0, 1.0, 1.0, 1.0, 0.0, 1.0, 0.0, 1.0, 0.0, 1.0, 1.0, 1.0, 1.0, 1.0, 1.0, 1.0, 1.0, 0.0, 1.0, 1.0, 0.0, 1.0, 1.0, 1.0, 1.0, 1.0, 1.0, 1.0, 1.0, 1.0, 1.0, 0.0, 0.0, 1.0, 0.0, 0.0, 1.0, 1.0, 1.0, 0.0, 1.0, 1.0, 0.0, 0.0, 0.0, 1.0, 0.0, 1.0, 1.0, 1.0, 1.0, 0.0, 1.0, 1.0, 1.0, 1.0, 1.0, 0.0, 1.0, 1.0, 1.0, 1.0, 1.0, 1.0, 1.0, 1.0, 1.0, 1.0, 1.0, 1.0, 1.0, 1.0, 1.0, 1.0, 1.0, 0.0, 0.0, 1.0, 1.0, 1.0, 1.0, 1.0, 1.0, 1.0, 1.0, 1.0, 1.0, 1.0, 1.0, 1.0, 1.0, 1.0, 1.0, 1.0, 1.0, 1.0, 0.0, 1.0, 1.0, 0.0, 1.0, 1.0, 1.0, 1.0, 0.0, 0.0, 1.0, 1.0, 1.0, 0.0, 1.0, 0.0, 1.0, 1.0, 1.0, 1.0, 0.0, 1.0, 1.0, 1.0, 1.0, 1.0, 1.0, 1.0, 1.0, 1.0, 1.0, 1.0, 1.0, 1.0, 1.0, 0.0, 1.0, 1.0, 1.0, 1.0, 0.0, 1.0, 1.0, 1.0, 1.0, 1.0, 1.0, 1.0, 0.0, 0.0, 1.0, 1.0, 1.0, 1.0, 1.0, 1.0, 1.0, 1.0, 1.0, 1.0, 1.0, 1.0, 1.0, 1.0, 1.0, 1.0, 1.0, 1.0, 1.0, 1.0, 1.0, 1.0, 0.0, 1.0, 1.0, 1.0, 1.0, 0.0, 0.0, 1.0, 1.0, 1.0, 1.0, 1.0, 1.0, 1.0, 1.0, 1.0, 1.0, 0.0, 0.0, 0.0, 1.0, 1.0, 1.0, 1.0, 1.0, 1.0, 1.0, 1.0, 1.0, 1.0, 1.0, 1.0, 1.0, 1.0, 1.0, 1.0, 1.0, 1.0, 0.0, 0.0, 1.0, 0.0, 1.0, 1.0, 1.0, 0.0, 1.0, 1.0, 1.0, 1.0, 1.0, 1.0, 1.0, 1.0, 1.0, 1.0, 1.0, 0.0, 1.0, 1.0, 1.0, 1.0, 1.0, 1.0, 1.0, 1.0, 0.0, 1.0, 1.0, 1.0, 1.0, 0.0, 1.0, 1.0, 1.0, 1.0, 1.0, 1.0, 1.0, 1.0, 1.0, 1.0, 0.0, 0.0, 0.0, 0.0, 1.0, 1.0, 1.0, 1.0, 1.0, 1.0, 1.0, 1.0, 1.0, 1.0, 1.0, 1.0, 1.0, 0.0, 1.0, 1.0, 1.0, 1.0, 1.0, 1.0, 1.0, 1.0, 1.0, 1.0, 1.0, 1.0, 1.0, 1.0, 1.0, 1.0, 0.0, 1.0, 1.0, 1.0, 1.0, 1.0, 1.0, 1.0, 1.0, 1.0, 1.0, 0.0, 1.0, 1.0, 1.0, 0.0, 1.0, 1.0, 1.0, 1.0, 1.0, 1.0, 1.0, 1.0, 1.0, 0.0, 1.0, 1.0, 1.0, 1.0, 1.0, 1.0, 0.0, 1.0, 0.0, 1.0, 0.0, 1.0, 0.0, 1.0, 1.0, 1.0, 1.0, 1.0, 1.0, 1.0, 0.0, 1.0, 1.0, 1.0, 1.0, 1.0, 1.0, 1.0, 1.0, 1.0, 1.0, 1.0, 1.0, 1.0, 1.0, 1.0, 1.0, 1.0, 0.0, 1.0, 1.0, 1.0, 1.0, 1.0, 1.0, 1.0, 1.0, 1.0, 0.0, 1.0, 0.0, 1.0, 1.0, 1.0, 1.0, 0.0, 1.0, 1.0, 1.0, 1.0, 1.0, 0.0, 0.0, 0.0, 1.0, 1.0, 1.0, 1.0, 1.0, 1.0, 1.0, 1.0, 0.0, 1.0, 0.0, 1.0, 0.0, 1.0, 0.0, 1.0, 1.0, 1.0, 1.0, 1.0, 1.0, 0.0, 1.0, 1.0, 1.0, 1.0, 1.0, 1.0, 1.0, 1.0, 1.0, 1.0, 1.0, 1.0, 1.0, 1.0, 1.0, 1.0, 0.0, 1.0, 0.0, 1.0, 1.0, 0.0, 1.0, 1.0, 1.0, 1.0, 1.0, 1.0, 1.0, 0.0, 1.0, 1.0, 1.0, 1.0, 1.0, 1.0, 1.0, 1.0, 1.0, 1.0, 0.0, 0.0, 1.0, 0.0, 1.0, 0.0, 1.0, 1.0, 1.0, 1.0, 1.0, 1.0, 1.0, 1.0, 1.0, 1.0, 1.0, 1.0, 1.0, 1.0, 1.0, 1.0, 0.0, 1.0, 1.0, 1.0, 1.0, 1.0, 1.0, 1.0, 1.0, 1.0, 1.0, 0.0, 1.0, 0.0, 1.0, 1.0, 1.0, 1.0, 1.0, 1.0, 1.0, 1.0, 1.0, 1.0, 1.0, 1.0, 1.0, 1.0, 1.0, 1.0, 1.0, 1.0, 1.0, 1.0, 0.0, 1.0, 1.0, 1.0, 1.0, 1.0, 1.0, 1.0, 1.0, 1.0, 1.0, 1.0, 1.0, 1.0, 1.0, 1.0, 1.0, 1.0, 1.0, 1.0, 0.0, 1.0, 0.0, 0.0, 1.0, 1.0, 1.0, 1.0, 1.0, 1.0, 1.0, 1.0, 1.0, 1.0, 1.0, 1.0, 1.0, 1.0, 1.0, 1.0, 0.0, 1.0, 1.0, 1.0, 1.0, 1.0, 1.0, 1.0, 0.0, 1.0, 1.0, 1.0, 0.0, 1.0, 1.0, 1.0, 1.0, 0.0, 1.0, 1.0, 1.0, 1.0, 0.0, 1.0, 1.0, 1.0, 1.0, 1.0, 1.0, 1.0, 1.0, 0.0, 0.0, 0.0, 1.0, 0.0, 1.0, 0.0, 1.0, 1.0, 0.0, 1.0, 1.0, 1.0, 1.0, 1.0, 1.0, 0.0, 1.0, 1.0, 0.0, 1.0, 0.0, 1.0, 1.0, 1.0, 0.0, 1.0, 1.0, 1.0, 0.0, 1.0, 1.0, 0.0, 1.0, 1.0, 1.0, 1.0, 1.0, 1.0, 1.0, 1.0, 1.0, 1.0, 1.0, 1.0, 1.0, 1.0, 1.0, 0.0, 0.0, 1.0, 1.0, 0.0, 1.0, 1.0, 0.0, 1.0, 1.0, 1.0, 1.0, 0.0, 1.0, 1.0, 1.0, 1.0, 1.0, 1.0, 1.0, 1.0, 1.0, 0.0, 1.0, 1.0, 1.0, 1.0, 1.0, 1.0, 1.0, 0.0, 1.0, 1.0, 1.0, 0.0, 1.0, 1.0, 1.0, 0.0, 1.0, 0.0, 1.0, 1.0, 1.0, 1.0, 1.0, 1.0, 1.0, 1.0, 1.0, 1.0, 1.0, 1.0, 1.0, 1.0, 1.0, 1.0, 1.0, 1.0, 1.0, 1.0, 1.0, 1.0, 1.0, 1.0, 1.0, 1.0, 1.0, 1.0, 0.0, 1.0, 1.0, 0.0, 1.0, 1.0, 1.0, 1.0, 1.0, 1.0, 0.0, 0.0, 1.0, 1.0, 1.0, 0.0, 1.0, 1.0, 1.0, 1.0, 1.0, 1.0, 1.0, 1.0, 1.0, 1.0, 1.0, 1.0, 1.0, 1.0, 1.0, 1.0, 1.0, 0.0, 1.0, 1.0, 1.0, 1.0, 1.0, 1.0, 1.0, 0.0, 0.0, 1.0, 1.0, 1.0, 1.0, 1.0, 1.0, 1.0, 1.0, 1.0, 1.0, 1.0, 1.0, 1.0, 1.0, 1.0, 1.0, 1.0, 1.0, 1.0, 0.0, 1.0, 0.0, 1.0, 1.0, 1.0, 0.0, 1.0, 1.0, 1.0, 1.0, 1.0, 1.0, 1.0, 1.0, 1.0, 1.0, 0.0, 1.0, 0.0, 1.0, 1.0, 1.0, 0.0, 1.0, 1.0, 1.0, 1.0, 1.0, 1.0, 1.0, 1.0, 1.0, 1.0, 1.0, 1.0, 0.0, 1.0, 0.0, 0.0, 1.0, 1.0, 1.0, 1.0, 1.0, 1.0, 1.0, 1.0, 1.0, 1.0, 1.0, 1.0, 1.0, 0.0, 1.0, 1.0, 1.0, 1.0, 1.0, 1.0, 1.0, 0.0, 1.0, 1.0, 1.0, 1.0, 1.0, 0.0, 0.0, 1.0, 1.0, 1.0, 0.0, 1.0, 1.0, 1.0, 0.0, 1.0, 1.0, 1.0, 1.0, 1.0, 1.0, 1.0, 1.0, 1.0, 1.0, 1.0, 1.0, 1.0, 1.0, 1.0, 1.0, 1.0, 1.0, 1.0, 1.0, 1.0, 1.0, 1.0, 1.0, 1.0, 1.0, 0.0, 1.0, 0.0, 1.0, 1.0, 1.0, 1.0, 0.0, 1.0, 1.0, 1.0, 1.0, 1.0, 1.0, 1.0, 1.0, 1.0, 1.0, 0.0, 1.0, 1.0, 0.0, 0.0, 1.0, 1.0, 1.0, 1.0, 1.0, 1.0, 1.0, 1.0, 1.0, 1.0, 1.0, 1.0, 1.0, 1.0, 1.0, 1.0, 1.0, 0.0, 1.0, 0.0, 1.0, 1.0, 1.0, 0.0, 1.0, 0.0, 1.0, 1.0, 1.0, 0.0, 1.0, 1.0, 1.0, 1.0, 1.0, 1.0, 1.0, 0.0, 1.0, 1.0, 1.0, 0.0, 1.0, 1.0, 1.0, 1.0, 1.0, 1.0, 0.0, 1.0, 1.0, 1.0, 1.0, 1.0, 1.0, 1.0, 1.0, 1.0, 1.0, 1.0, 1.0, 1.0, 1.0, 1.0, 0.0, 1.0, 1.0, 1.0, 1.0, 1.0, 0.0, 1.0, 1.0, 0.0, 1.0, 1.0, 1.0, 1.0, 1.0, 1.0, 1.0, 1.0, 0.0, 1.0, 1.0, 1.0, 1.0, 1.0, 1.0, 1.0, 1.0, 1.0, 1.0, 0.0, 1.0, 0.0, 0.0, 1.0, 1.0, 1.0, 0.0, 1.0, 1.0, 0.0, 1.0, 1.0, 0.0, 1.0, 1.0, 1.0, 1.0, 1.0, 1.0, 1.0, 1.0, 1.0, 0.0, 1.0, 1.0, 1.0, 1.0, 1.0, 1.0, 1.0, 1.0, 1.0, 1.0, 1.0, 0.0, 1.0, 1.0, 1.0, 1.0, 1.0, 1.0, 0.0, 1.0, 1.0, 1.0, 1.0, 1.0, 1.0, 1.0, 1.0, 0.0, 0.0, 1.0, 0.0, 1.0, 1.0, 1.0, 1.0, 1.0, 1.0, 1.0, 1.0, 0.0, 1.0, 0.0, 0.0, 0.0, 1.0, 1.0, 1.0, 1.0, 0.0, 1.0, 1.0, 1.0, 0.0, 1.0, 1.0, 1.0, 1.0, 1.0, 1.0, 1.0, 1.0, 1.0, 0.0, 1.0, 1.0, 1.0, 1.0, 1.0, 1.0, 1.0, 1.0, 0.0, 1.0, 1.0, 1.0, 1.0, 1.0, 1.0, 1.0, 1.0, 1.0, 1.0, 1.0, 1.0, 1.0, 0.0, 1.0, 1.0, 1.0, 1.0, 0.0, 0.0, 1.0, 1.0, 1.0, 1.0, 1.0, 1.0, 1.0, 0.0, 1.0, 1.0, 1.0, 1.0, 1.0, 1.0, 1.0, 1.0, 1.0, 0.0, 1.0, 1.0, 1.0, 1.0, 1.0, 1.0, 1.0, 0.0, 0.0, 0.0, 1.0, 1.0, 1.0, 1.0, 1.0, 1.0, 1.0, 1.0, 0.0, 1.0, 1.0, 0.0, 1.0, 1.0, 1.0, 1.0, 1.0, 1.0, 0.0, 1.0, 0.0, 1.0, 1.0, 1.0, 0.0, 1.0, 1.0, 1.0, 1.0, 0.0, 1.0, 1.0, 1.0, 1.0, 1.0, 1.0, 1.0, 0.0, 1.0, 0.0, 1.0, 1.0, 1.0, 1.0, 1.0, 1.0, 1.0, 1.0, 1.0, 1.0, 1.0, 1.0, 1.0, 1.0, 1.0, 1.0, 1.0, 1.0, 1.0, 1.0, 1.0, 1.0, 1.0, 1.0, 0.0, 1.0, 1.0, 1.0, 0.0, 1.0, 1.0, 1.0, 1.0, 0.0, 1.0, 1.0, 1.0, 1.0, 1.0, 1.0, 1.0, 0.0, 1.0, 1.0, 1.0, 0.0, 1.0, 0.0, 1.0, 0.0, 1.0, 1.0, 1.0, 0.0, 0.0, 1.0, 0.0, 1.0, 1.0, 1.0, 1.0, 1.0, 1.0, 1.0, 1.0, 1.0, 0.0, 1.0, 1.0, 1.0, 0.0, 1.0, 1.0, 1.0, 0.0, 1.0, 0.0, 1.0, 0.0, 1.0, 1.0, 0.0, 1.0, 1.0, 1.0, 1.0, 1.0, 1.0, 1.0, 1.0, 1.0, 1.0, 1.0, 0.0, 1.0, 1.0, 1.0, 1.0, 1.0, 1.0, 1.0, 0.0, 0.0, 1.0, 1.0, 1.0, 1.0, 0.0, 1.0, 1.0, 1.0, 1.0, 0.0, 1.0, 1.0, 1.0, 0.0, 1.0, 0.0, 1.0, 1.0, 1.0, 1.0, 1.0, 1.0, 0.0, 1.0, 1.0, 0.0, 1.0, 1.0, 0.0, 1.0, 1.0, 1.0, 1.0, 0.0, 1.0, 1.0, 1.0, 1.0, 1.0, 1.0, 1.0, 1.0, 1.0, 1.0, 1.0, 1.0, 1.0, 1.0, 1.0, 0.0, 0.0, 1.0, 1.0, 0.0, 1.0, 1.0, 1.0, 1.0, 1.0, 1.0, 0.0, 0.0, 0.0, 1.0, 1.0, 0.0, 1.0, 1.0, 1.0, 1.0, 1.0, 0.0, 1.0, 1.0, 1.0, 1.0, 1.0, 1.0, 1.0, 1.0, 1.0, 1.0, 1.0, 1.0, 1.0, 0.0, 1.0, 1.0, 0.0, 0.0, 1.0, 1.0, 1.0, 1.0, 1.0, 1.0, 1.0, 1.0, 1.0, 1.0, 1.0, 1.0, 1.0, 0.0, 1.0, 0.0, 1.0, 1.0, 1.0, 1.0, 1.0, 1.0, 1.0, 1.0, 1.0, 1.0, 1.0, 0.0, 1.0, 1.0, 1.0, 1.0, 1.0, 1.0, 0.0, 1.0, 0.0, 1.0, 1.0, 0.0, 1.0, 1.0, 1.0, 1.0, 1.0, 1.0, 0.0, 1.0, 1.0, 1.0, 1.0, 1.0, 1.0, 1.0, 1.0, 1.0, 1.0, 1.0, 0.0, 1.0, 1.0, 1.0, 1.0, 1.0, 1.0, 1.0, 1.0, 1.0, 0.0, 1.0, 1.0, 1.0, 1.0, 1.0, 1.0, 1.0, 0.0, 1.0, 1.0, 1.0, 1.0, 1.0, 1.0, 0.0, 1.0, 1.0, 1.0, 1.0, 1.0, 1.0, 1.0, 0.0, 1.0, 1.0, 1.0, 1.0, 0.0, 1.0, 0.0, 1.0, 1.0, 0.0, 1.0, 0.0, 1.0, 1.0, 0.0, 1.0, 1.0, 1.0, 0.0, 1.0, 1.0, 1.0, 1.0, 1.0, 1.0, 1.0, 1.0, 1.0, 1.0, 1.0, 1.0, 1.0, 0.0, 1.0, 0.0, 0.0, 1.0, 1.0, 1.0, 1.0, 1.0, 1.0, 1.0, 1.0, 0.0, 1.0, 1.0, 1.0, 1.0, 1.0, 1.0, 1.0, 1.0, 1.0, 1.0, 1.0, 0.0, 1.0, 0.0, 1.0, 1.0, 1.0, 1.0, 1.0, 1.0, 0.0, 0.0, 1.0, 1.0, 1.0, 1.0, 1.0, 1.0, 0.0, 1.0, 1.0, 1.0, 1.0, 1.0, 1.0, 1.0, 1.0, 0.0, 0.0, 1.0, 1.0, 1.0, 0.0, 1.0, 0.0, 1.0, 1.0, 1.0, 1.0, 1.0, 1.0, 1.0, 1.0, 1.0, 1.0, 1.0, 1.0, 1.0, 1.0, 1.0, 1.0, 1.0, 1.0, 0.0, 0.0, 1.0, 1.0, 1.0, 1.0, 1.0, 1.0, 1.0, 1.0, 1.0, 1.0, 1.0, 1.0, 1.0, 1.0, 1.0, 0.0, 1.0, 1.0, 1.0, 1.0, 0.0, 1.0, 1.0, 0.0, 1.0, 1.0, 1.0, 0.0, 1.0, 1.0, 1.0, 1.0, 1.0, 1.0, 1.0, 1.0, 1.0, 1.0, 1.0, 1.0, 1.0, 1.0, 1.0, 1.0, 1.0, 0.0, 1.0, 1.0, 1.0, 1.0, 1.0, 1.0, 1.0, 1.0, 1.0, 1.0, 1.0, 1.0, 1.0, 0.0, 0.0, 1.0, 1.0, 0.0, 1.0, 0.0, 1.0, 1.0, 1.0, 1.0, 1.0, 1.0, 0.0, 1.0, 1.0, 1.0, 1.0, 0.0, 1.0, 1.0, 1.0, 1.0, 1.0, 0.0, 1.0, 1.0, 1.0, 1.0, 1.0, 0.0, 1.0, 1.0, 1.0, 1.0, 1.0, 1.0, 1.0, 1.0, 1.0, 1.0, 1.0, 0.0, 1.0, 1.0, 1.0, 1.0, 1.0, 1.0, 1.0, 0.0, 1.0, 1.0, 1.0, 1.0, 1.0, 0.0, 1.0, 1.0, 0.0, 1.0, 1.0, 1.0, 1.0, 1.0, 1.0, 1.0, 1.0, 1.0, 1.0, 1.0, 1.0, 0.0, 1.0, 0.0, 1.0, 1.0, 0.0, 1.0, 1.0, 1.0, 1.0, 1.0, 0.0, 1.0, 1.0, 0.0, 0.0, 1.0, 1.0, 0.0, 1.0, 1.0, 1.0, 0.0, 1.0, 1.0, 1.0, 1.0, 1.0, 1.0, 1.0, 0.0, 1.0, 1.0, 1.0, 1.0, 1.0, 0.0, 1.0, 1.0, 1.0, 1.0, 1.0, 1.0, 1.0, 0.0, 1.0, 1.0, 1.0, 1.0, 1.0, 0.0, 1.0, 1.0, 1.0, 1.0, 1.0, 1.0, 1.0, 1.0, 0.0, 1.0, 1.0, 1.0, 1.0, 1.0, 0.0, 1.0, 0.0, 1.0, 1.0, 1.0, 1.0, 1.0, 1.0, 1.0, 1.0, 0.0, 1.0, 1.0, 1.0, 0.0, 1.0, 1.0, 1.0, 1.0, 1.0, 1.0, 1.0, 0.0, 1.0, 1.0, 1.0, 1.0, 1.0, 1.0, 1.0, 1.0, 1.0, 1.0, 1.0, 1.0, 1.0, 1.0, 1.0, 1.0, 0.0, 1.0, 1.0, 1.0, 1.0, 1.0, 1.0, 0.0, 1.0, 1.0, 0.0, 1.0, 1.0, 1.0, 1.0, 1.0, 1.0, 1.0, 1.0, 1.0, 0.0, 0.0, 1.0, 1.0, 1.0, 1.0, 1.0, 1.0, 1.0, 0.0, 1.0, 0.0, 1.0, 0.0, 1.0, 1.0, 1.0, 1.0, 0.0, 1.0, 1.0, 1.0, 1.0, 1.0, 1.0, 1.0, 1.0, 1.0, 1.0, 1.0, 1.0, 0.0, 1.0, 1.0, 1.0, 0.0, 1.0, 1.0, 1.0, 1.0, 1.0, 1.0, 0.0, 1.0, 1.0, 1.0, 1.0, 1.0, 1.0, 1.0, 1.0, 1.0, 0.0, 1.0, 1.0, 1.0, 1.0, 1.0, 0.0, 1.0, 1.0, 1.0, 1.0, 0.0, 0.0, 1.0, 0.0, 0.0, 1.0, 1.0, 0.0, 1.0, 1.0, 1.0, 1.0, 1.0, 1.0, 1.0, 1.0, 1.0, 0.0, 1.0, 1.0, 0.0, 1.0, 1.0, 1.0, 1.0, 1.0, 1.0, 1.0, 0.0, 1.0, 1.0, 1.0, 1.0, 1.0, 0.0, 1.0, 0.0, 1.0, 0.0, 1.0, 1.0, 1.0, 0.0, 0.0, 1.0, 1.0, 1.0, 1.0, 1.0, 1.0, 1.0, 1.0, 1.0, 1.0, 0.0, 1.0, 1.0, 1.0, 0.0, 0.0, 1.0, 0.0, 1.0, 1.0, 1.0, 1.0, 0.0, 1.0, 1.0, 1.0, 1.0, 1.0, 1.0, 1.0, 0.0, 1.0, 1.0, 1.0, 1.0, 1.0, 1.0, 1.0, 1.0, 1.0, 1.0, 0.0, 1.0, 0.0, 0.0, 1.0, 1.0, 1.0, 1.0, 1.0, 1.0, 1.0, 0.0, 1.0, 1.0, 1.0, 1.0, 1.0, 1.0, 1.0, 1.0, 1.0, 1.0, 1.0, 1.0, 1.0, 1.0, 1.0, 0.0, 1.0, 1.0, 1.0, 1.0, 1.0, 1.0, 1.0, 1.0, 1.0, 1.0, 1.0, 1.0, 1.0, 1.0, 1.0, 0.0, 1.0, 1.0, 1.0, 1.0, 0.0, 1.0, 1.0, 1.0, 1.0, 1.0, 0.0, 1.0, 0.0, 1.0, 1.0, 1.0, 1.0, 1.0, 1.0, 1.0, 1.0, 1.0, 1.0, 1.0, 1.0, 1.0, 1.0, 1.0, 1.0, 1.0, 1.0, 1.0, 1.0, 1.0, 0.0, 1.0, 0.0, 1.0, 1.0, 1.0, 1.0] as keyword args. From version 0.25 passing these as positional arguments will result in an error\n",
      "  FutureWarning)\n",
      "C:\\Users\\lynne\\anaconda3\\envs\\tf-gpu\\lib\\site-packages\\sklearn\\utils\\validation.py:70: FutureWarning: Pass classes=[0. 1.], y=[1.0, 1.0, 1.0, 1.0, 1.0, 1.0, 1.0, 1.0, 1.0, 1.0, 1.0, 1.0, 0.0, 1.0, 1.0, 1.0, 1.0, 1.0, 1.0, 1.0, 1.0, 1.0, 1.0, 1.0, 1.0, 1.0, 1.0, 1.0, 1.0, 1.0, 1.0, 1.0, 1.0, 1.0, 1.0, 1.0, 1.0, 1.0, 1.0, 0.0, 1.0, 1.0, 1.0, 1.0, 1.0, 1.0, 1.0, 1.0, 1.0, 1.0, 1.0, 1.0, 1.0, 1.0, 1.0, 1.0, 1.0, 1.0, 1.0, 1.0, 1.0, 1.0, 1.0, 1.0, 1.0, 1.0, 1.0, 0.0, 1.0, 1.0, 1.0, 1.0, 1.0, 1.0, 1.0, 1.0, 1.0, 1.0, 0.0, 1.0, 1.0, 1.0, 1.0, 1.0, 1.0, 1.0, 0.0, 1.0, 1.0, 0.0, 1.0, 1.0, 1.0, 1.0, 1.0, 1.0, 1.0, 1.0, 1.0, 1.0, 1.0, 1.0, 1.0, 1.0, 1.0, 1.0, 1.0, 1.0, 1.0, 1.0, 0.0, 1.0, 1.0, 1.0, 1.0, 1.0, 1.0, 1.0, 0.0, 1.0, 1.0, 0.0, 1.0, 1.0, 1.0, 1.0, 1.0, 1.0, 1.0, 1.0, 1.0, 0.0, 1.0, 1.0, 1.0, 1.0, 1.0, 1.0, 1.0, 1.0, 1.0, 1.0, 1.0, 1.0, 1.0, 1.0, 1.0, 0.0, 1.0, 1.0, 0.0, 1.0, 1.0, 1.0, 0.0, 1.0, 1.0, 1.0, 1.0, 1.0, 1.0, 1.0, 1.0, 1.0, 1.0, 1.0, 1.0, 1.0, 1.0, 1.0, 1.0, 1.0, 1.0, 1.0, 1.0, 0.0, 1.0, 1.0, 1.0, 1.0, 1.0, 1.0, 1.0, 1.0, 1.0, 1.0, 1.0, 1.0, 1.0, 1.0, 1.0, 0.0, 0.0, 1.0, 1.0, 1.0, 0.0, 1.0, 1.0, 1.0, 1.0, 1.0, 1.0, 1.0, 1.0, 0.0, 1.0, 1.0, 1.0, 1.0, 1.0, 1.0, 1.0, 1.0, 1.0, 1.0, 1.0, 1.0, 1.0, 1.0, 1.0, 1.0, 1.0, 0.0, 1.0, 1.0, 1.0, 1.0, 0.0, 1.0, 1.0, 1.0, 1.0, 1.0, 1.0, 1.0, 1.0, 1.0, 1.0, 1.0, 1.0, 1.0, 1.0, 1.0, 1.0, 1.0, 1.0, 1.0, 1.0, 1.0, 1.0, 1.0, 1.0, 1.0, 1.0, 0.0, 1.0, 1.0, 0.0, 1.0, 1.0, 1.0, 0.0, 1.0, 1.0, 1.0, 1.0, 1.0, 1.0, 1.0, 1.0, 1.0, 1.0, 1.0, 1.0, 1.0, 1.0, 0.0, 1.0, 1.0, 1.0, 1.0, 1.0, 1.0, 1.0, 1.0, 1.0, 1.0, 1.0, 1.0, 1.0, 1.0, 1.0, 1.0, 1.0, 1.0, 1.0, 0.0, 1.0, 1.0, 1.0, 1.0, 1.0, 1.0, 1.0, 1.0, 1.0, 1.0, 1.0, 1.0, 1.0, 1.0, 1.0, 1.0, 1.0, 1.0, 1.0, 1.0, 1.0, 1.0, 1.0, 1.0, 1.0, 0.0, 1.0, 1.0, 1.0, 1.0, 1.0, 1.0, 1.0, 1.0, 1.0, 0.0, 1.0, 1.0, 1.0, 1.0, 1.0, 1.0, 1.0, 1.0, 1.0, 1.0, 1.0, 1.0, 1.0, 1.0, 1.0, 1.0, 1.0, 1.0, 1.0, 1.0, 1.0, 0.0, 1.0, 1.0, 1.0, 1.0, 1.0, 1.0, 1.0, 1.0, 1.0, 0.0, 1.0, 1.0, 1.0, 1.0, 1.0, 1.0, 1.0, 1.0, 1.0, 0.0, 1.0, 1.0, 1.0, 1.0, 1.0, 1.0, 1.0, 1.0, 1.0, 1.0, 1.0, 0.0, 1.0, 1.0, 1.0, 1.0, 1.0, 1.0, 0.0, 1.0, 1.0, 1.0, 1.0, 1.0, 1.0, 1.0, 1.0, 1.0, 1.0, 1.0, 1.0, 1.0, 0.0, 1.0, 1.0, 1.0, 1.0, 1.0, 1.0, 1.0, 1.0, 1.0, 1.0, 1.0, 1.0, 1.0, 1.0, 1.0, 1.0, 1.0, 1.0, 1.0, 1.0, 1.0, 1.0, 1.0, 1.0, 1.0, 1.0, 1.0, 1.0, 1.0, 1.0, 1.0, 0.0, 1.0, 1.0, 1.0, 1.0, 1.0, 1.0, 1.0, 1.0, 1.0, 1.0, 1.0, 1.0, 1.0, 1.0, 1.0, 1.0, 1.0, 1.0, 1.0, 1.0, 1.0, 1.0, 1.0, 1.0, 1.0, 1.0, 1.0, 1.0, 1.0, 1.0, 1.0, 1.0, 1.0, 1.0, 1.0, 1.0, 1.0, 1.0, 1.0, 1.0, 1.0, 1.0, 1.0, 1.0, 1.0, 0.0, 1.0, 1.0, 1.0, 1.0, 1.0, 1.0, 1.0, 1.0, 1.0, 0.0, 1.0, 1.0, 1.0, 1.0, 1.0, 1.0, 1.0, 1.0, 1.0, 1.0, 1.0, 1.0, 1.0, 1.0, 1.0, 1.0, 1.0, 1.0, 1.0, 0.0, 1.0, 1.0, 0.0, 1.0, 1.0, 1.0, 1.0, 1.0, 1.0, 1.0, 0.0, 1.0, 1.0, 1.0, 1.0, 1.0, 1.0, 1.0, 0.0, 1.0, 1.0, 1.0, 1.0, 1.0, 1.0, 1.0, 1.0, 1.0, 1.0, 1.0, 1.0, 1.0, 1.0, 1.0, 1.0, 1.0, 1.0, 1.0, 1.0, 0.0, 1.0, 0.0, 1.0, 1.0, 1.0, 0.0, 1.0, 1.0, 1.0, 1.0, 1.0, 1.0, 1.0, 1.0, 1.0, 1.0, 1.0, 1.0, 1.0, 1.0, 1.0, 1.0, 1.0, 1.0, 1.0, 1.0, 1.0, 1.0, 1.0, 1.0, 1.0, 1.0, 1.0, 1.0, 1.0, 1.0, 1.0, 1.0, 1.0, 1.0, 1.0, 1.0, 1.0, 1.0, 1.0, 1.0, 1.0, 1.0, 1.0, 1.0, 1.0, 0.0, 1.0, 1.0, 1.0, 1.0, 1.0, 1.0, 1.0, 1.0, 1.0, 0.0, 1.0, 1.0, 1.0, 1.0, 1.0, 1.0, 1.0, 1.0, 1.0, 1.0, 1.0, 1.0, 1.0, 1.0, 1.0, 1.0, 1.0, 1.0, 1.0, 1.0, 1.0, 1.0, 1.0, 0.0, 1.0, 1.0, 1.0, 1.0, 1.0, 1.0, 1.0, 1.0, 1.0, 1.0, 1.0, 1.0, 1.0, 1.0, 1.0, 1.0, 1.0, 1.0, 0.0, 1.0, 1.0, 1.0, 1.0, 1.0, 1.0, 1.0, 1.0, 1.0, 1.0, 1.0, 1.0, 1.0, 1.0, 1.0, 1.0, 1.0, 1.0, 1.0, 1.0, 1.0, 1.0, 1.0, 1.0, 1.0, 0.0, 1.0, 1.0, 1.0, 1.0, 1.0, 1.0, 1.0, 1.0, 1.0, 1.0, 1.0, 1.0, 1.0, 1.0, 1.0, 1.0, 1.0, 1.0, 1.0, 1.0, 1.0, 1.0, 1.0, 1.0, 1.0, 1.0, 1.0, 1.0, 1.0, 1.0, 1.0, 1.0, 1.0, 1.0, 1.0, 1.0, 1.0, 1.0, 1.0, 1.0, 1.0, 1.0, 1.0, 1.0, 1.0, 1.0, 1.0, 1.0, 1.0, 1.0, 1.0, 1.0, 1.0, 1.0, 1.0, 1.0, 1.0, 1.0, 1.0, 1.0, 1.0, 1.0, 1.0, 1.0, 1.0, 1.0, 0.0, 1.0, 1.0, 1.0, 1.0, 1.0, 1.0, 1.0, 1.0, 1.0, 1.0, 1.0, 0.0, 1.0, 1.0, 1.0, 1.0, 0.0, 1.0, 1.0, 1.0, 1.0, 1.0, 1.0, 1.0, 0.0, 1.0, 1.0, 1.0, 1.0, 1.0, 1.0, 1.0, 1.0, 1.0, 1.0, 1.0, 1.0, 1.0, 1.0, 1.0, 1.0, 1.0, 1.0, 1.0, 1.0, 1.0, 1.0, 1.0, 1.0, 1.0, 1.0, 1.0, 1.0, 1.0, 1.0, 1.0, 1.0, 1.0, 1.0, 1.0, 1.0, 1.0, 1.0, 1.0, 1.0, 1.0, 1.0, 1.0, 1.0, 1.0, 1.0, 1.0, 1.0, 1.0, 1.0, 1.0, 1.0, 1.0, 1.0, 1.0, 1.0, 1.0, 1.0, 1.0, 1.0, 1.0, 1.0, 1.0, 1.0, 1.0, 1.0, 1.0, 1.0, 1.0, 0.0, 1.0, 1.0, 1.0, 1.0, 1.0, 1.0, 1.0, 1.0, 1.0, 1.0, 1.0, 0.0, 1.0, 1.0, 1.0, 1.0, 0.0, 1.0, 1.0, 1.0, 1.0, 1.0, 1.0, 1.0, 1.0, 1.0, 1.0, 1.0, 1.0, 1.0, 1.0, 0.0, 1.0, 1.0, 1.0, 1.0, 0.0, 1.0, 1.0, 1.0, 1.0, 1.0, 1.0, 1.0, 1.0, 1.0, 1.0, 0.0, 1.0, 1.0, 1.0, 1.0, 1.0, 1.0, 1.0, 1.0, 1.0, 1.0, 1.0, 1.0, 1.0, 1.0, 1.0, 1.0, 1.0, 1.0, 1.0, 1.0, 1.0, 1.0, 1.0, 1.0, 1.0, 1.0, 1.0, 0.0, 1.0, 1.0, 1.0, 1.0, 1.0, 1.0, 1.0, 1.0, 1.0, 1.0, 1.0, 1.0, 1.0, 1.0, 1.0, 1.0, 1.0, 1.0, 1.0, 1.0, 1.0, 1.0, 0.0, 1.0, 1.0, 1.0, 1.0, 1.0, 1.0, 1.0, 1.0, 1.0, 1.0, 1.0, 1.0, 1.0, 1.0, 1.0, 1.0, 1.0, 1.0, 1.0, 1.0, 1.0, 1.0, 1.0, 1.0, 1.0, 1.0, 1.0, 1.0, 0.0, 1.0, 1.0, 1.0, 1.0, 1.0, 1.0, 1.0, 0.0, 1.0, 1.0, 1.0, 1.0, 1.0, 1.0, 1.0, 1.0, 1.0, 1.0, 1.0, 1.0, 1.0, 1.0, 1.0, 1.0, 1.0, 1.0, 1.0, 1.0, 1.0, 1.0, 1.0, 0.0, 1.0, 1.0, 1.0, 1.0, 1.0, 1.0, 1.0, 1.0, 1.0, 1.0, 1.0, 1.0, 1.0, 1.0, 1.0, 1.0, 1.0, 1.0, 0.0, 1.0, 1.0, 1.0, 1.0, 1.0, 1.0, 1.0, 1.0, 1.0, 1.0, 0.0, 0.0, 1.0, 1.0, 1.0, 1.0, 1.0, 0.0, 1.0, 1.0, 1.0, 1.0, 1.0, 1.0, 1.0, 1.0, 1.0, 1.0, 1.0, 1.0, 1.0, 1.0, 1.0, 1.0, 0.0, 1.0, 0.0, 1.0, 1.0, 1.0, 1.0, 1.0, 1.0, 1.0, 1.0, 1.0, 1.0, 1.0, 1.0, 1.0, 1.0, 1.0, 1.0, 1.0, 1.0, 1.0, 1.0, 1.0, 1.0, 1.0, 1.0, 1.0, 1.0, 1.0, 1.0, 1.0, 1.0, 1.0, 1.0, 1.0, 1.0, 1.0, 1.0, 1.0, 1.0, 1.0, 1.0, 1.0, 0.0, 1.0, 1.0, 1.0, 1.0, 1.0, 1.0, 1.0, 1.0, 1.0, 1.0, 1.0, 1.0, 1.0, 1.0, 1.0, 1.0, 1.0, 1.0, 1.0, 1.0, 1.0, 0.0, 1.0, 1.0, 1.0, 1.0, 0.0, 1.0, 1.0, 1.0, 1.0, 1.0, 1.0, 1.0, 1.0, 1.0, 1.0, 1.0, 1.0, 1.0, 1.0, 1.0, 1.0, 1.0, 1.0, 1.0, 1.0, 1.0, 1.0, 0.0, 1.0, 1.0, 1.0, 1.0, 1.0, 1.0, 1.0, 0.0, 1.0, 1.0, 0.0, 1.0, 1.0, 1.0, 0.0, 1.0, 1.0, 1.0, 1.0, 1.0, 1.0, 0.0, 1.0, 1.0, 1.0, 1.0, 1.0, 1.0, 1.0, 1.0, 1.0, 1.0, 1.0, 1.0, 1.0, 1.0, 1.0, 1.0, 1.0, 1.0, 1.0, 1.0, 1.0, 1.0, 1.0, 1.0, 1.0, 1.0, 1.0, 1.0, 1.0, 1.0, 1.0, 1.0, 1.0, 1.0, 1.0, 0.0, 1.0, 1.0, 1.0, 1.0, 1.0, 1.0, 1.0, 0.0, 1.0, 1.0, 1.0, 1.0, 1.0, 1.0, 1.0, 1.0, 0.0, 1.0, 1.0, 1.0, 1.0, 0.0, 1.0, 1.0, 1.0, 1.0, 1.0, 1.0, 1.0, 1.0, 1.0, 1.0, 0.0, 0.0, 1.0, 1.0, 1.0, 1.0, 1.0, 1.0, 1.0, 1.0, 1.0, 1.0, 1.0, 1.0, 1.0, 1.0, 1.0, 1.0, 1.0, 1.0, 1.0, 1.0, 1.0, 0.0, 1.0, 1.0, 1.0, 1.0, 1.0, 1.0, 1.0, 1.0, 1.0, 1.0, 1.0, 1.0, 1.0, 1.0, 1.0, 1.0, 1.0, 1.0, 1.0, 1.0, 1.0, 1.0, 1.0, 1.0, 1.0, 1.0, 1.0, 1.0, 1.0, 1.0, 0.0, 1.0, 1.0, 1.0, 1.0, 1.0, 1.0, 1.0, 1.0, 1.0, 1.0, 1.0, 1.0, 0.0, 1.0, 0.0, 1.0, 1.0, 1.0, 0.0, 0.0, 1.0, 1.0, 1.0, 1.0, 1.0, 1.0, 1.0, 1.0, 1.0, 1.0, 1.0, 1.0, 1.0, 0.0, 1.0, 1.0, 1.0, 1.0, 1.0, 1.0, 1.0, 1.0, 1.0, 1.0, 1.0, 1.0, 1.0, 0.0, 1.0, 1.0, 1.0, 0.0, 1.0, 1.0, 1.0, 1.0, 1.0, 1.0, 1.0, 1.0, 1.0, 1.0, 1.0, 0.0, 1.0, 1.0, 1.0, 1.0, 1.0, 1.0, 1.0, 1.0, 1.0, 1.0, 1.0, 1.0, 1.0, 1.0, 1.0, 1.0, 1.0, 0.0, 1.0, 1.0, 1.0, 1.0, 1.0, 1.0, 1.0, 1.0, 1.0, 1.0, 1.0, 1.0, 1.0, 1.0, 1.0, 0.0, 1.0, 1.0, 1.0, 0.0, 1.0, 1.0, 1.0, 1.0, 1.0, 1.0, 0.0, 1.0, 1.0, 1.0, 1.0, 1.0, 1.0, 1.0, 1.0, 1.0, 1.0, 1.0, 0.0, 1.0, 1.0, 1.0, 1.0, 1.0, 1.0, 1.0, 1.0, 1.0, 1.0, 1.0, 1.0, 1.0, 1.0, 1.0, 1.0, 1.0, 1.0, 1.0, 1.0, 1.0, 1.0, 1.0, 1.0, 1.0, 1.0, 0.0, 1.0, 1.0, 1.0, 1.0, 1.0, 1.0, 1.0, 1.0, 1.0, 1.0, 1.0, 1.0, 1.0, 1.0, 1.0, 1.0, 1.0, 1.0, 1.0, 1.0, 1.0, 1.0, 1.0, 1.0, 1.0, 0.0, 1.0, 1.0, 1.0, 1.0, 1.0, 1.0, 1.0, 1.0, 1.0, 1.0, 1.0, 1.0, 1.0, 1.0, 1.0, 1.0, 1.0, 1.0, 1.0, 1.0, 1.0, 1.0, 1.0, 1.0, 1.0, 1.0, 1.0, 1.0, 1.0, 1.0, 1.0, 1.0, 0.0, 1.0, 1.0, 1.0, 1.0, 1.0, 1.0, 1.0, 1.0, 1.0, 1.0, 1.0, 1.0, 1.0, 1.0, 1.0, 1.0, 0.0, 1.0, 1.0, 1.0, 0.0, 0.0, 1.0, 1.0, 1.0, 1.0, 1.0, 1.0, 1.0, 1.0, 1.0, 0.0, 1.0, 1.0, 0.0, 1.0, 1.0, 0.0, 1.0, 1.0, 1.0, 1.0, 1.0, 1.0, 1.0, 1.0, 0.0, 1.0, 1.0, 1.0, 1.0, 0.0, 1.0, 1.0, 1.0, 1.0, 1.0, 1.0, 1.0, 1.0, 1.0, 1.0, 1.0, 1.0, 1.0, 1.0, 1.0, 1.0, 1.0, 1.0, 1.0, 1.0, 1.0, 1.0, 1.0, 1.0, 1.0, 1.0, 1.0, 1.0, 1.0, 1.0, 1.0, 1.0, 1.0, 1.0, 1.0, 1.0, 1.0, 1.0, 1.0, 1.0, 1.0, 0.0, 1.0, 1.0, 1.0, 1.0, 1.0, 1.0, 1.0, 1.0, 1.0, 1.0, 1.0, 1.0, 1.0, 1.0, 1.0, 1.0, 1.0, 0.0, 0.0, 1.0, 1.0, 1.0, 1.0, 1.0, 1.0, 1.0, 1.0, 1.0, 0.0, 1.0, 1.0, 1.0, 1.0, 1.0, 1.0, 1.0, 0.0, 1.0, 1.0, 1.0, 1.0, 0.0, 1.0, 1.0, 1.0, 1.0, 1.0, 1.0, 1.0, 1.0, 1.0, 1.0, 1.0, 1.0, 1.0, 1.0, 1.0, 1.0, 1.0, 1.0, 1.0, 1.0, 1.0, 1.0, 1.0, 1.0, 1.0, 1.0, 1.0, 1.0, 1.0, 1.0, 1.0, 1.0, 1.0, 1.0, 1.0, 1.0, 1.0, 1.0, 1.0, 1.0, 0.0, 1.0, 1.0, 1.0, 1.0, 1.0, 1.0, 1.0, 1.0, 1.0, 1.0, 1.0, 0.0, 1.0, 0.0, 1.0, 1.0, 1.0, 1.0, 1.0, 1.0, 1.0, 1.0, 1.0, 1.0, 1.0, 1.0, 1.0, 1.0, 1.0, 1.0, 0.0, 1.0, 1.0, 0.0, 1.0, 1.0, 1.0, 1.0, 1.0, 1.0, 1.0, 1.0, 1.0, 0.0, 1.0, 1.0, 1.0, 1.0, 1.0, 1.0, 1.0, 1.0, 1.0, 1.0, 1.0, 1.0, 1.0, 1.0, 0.0, 1.0, 1.0, 1.0, 1.0, 1.0, 1.0, 0.0, 1.0, 1.0, 1.0, 1.0, 1.0, 1.0, 1.0, 1.0, 1.0, 1.0, 1.0, 1.0, 1.0, 1.0, 1.0, 1.0, 1.0, 0.0, 1.0, 1.0, 1.0, 1.0, 1.0, 1.0, 1.0, 1.0, 1.0, 0.0, 1.0, 1.0, 1.0, 1.0, 1.0, 1.0, 1.0, 1.0, 1.0, 1.0, 1.0, 1.0, 1.0, 1.0, 1.0, 1.0, 1.0, 1.0, 1.0, 1.0, 0.0, 1.0, 1.0, 1.0, 1.0, 1.0, 1.0, 1.0, 1.0, 0.0, 1.0, 1.0, 1.0, 1.0, 1.0, 1.0, 1.0, 1.0, 1.0, 1.0, 1.0, 1.0, 1.0, 0.0, 1.0, 1.0, 1.0, 1.0, 1.0, 1.0, 1.0, 1.0, 0.0, 1.0, 1.0, 1.0, 1.0, 1.0, 1.0, 1.0, 1.0, 1.0, 1.0, 1.0, 1.0, 1.0, 1.0, 0.0, 1.0, 1.0, 1.0, 1.0, 1.0, 1.0, 1.0, 1.0, 0.0, 1.0, 1.0, 1.0, 1.0, 0.0, 1.0, 1.0, 1.0, 1.0, 1.0, 1.0, 1.0, 1.0, 1.0, 1.0, 1.0, 1.0, 0.0, 1.0, 1.0, 1.0, 1.0, 1.0, 1.0, 1.0, 1.0, 0.0, 1.0, 1.0, 1.0, 1.0, 0.0, 1.0, 1.0, 1.0, 1.0, 1.0, 1.0, 1.0, 1.0, 1.0, 1.0, 1.0, 1.0, 1.0, 0.0, 1.0, 1.0, 1.0, 1.0, 1.0, 1.0, 1.0, 1.0, 1.0, 0.0, 1.0, 1.0, 1.0, 0.0, 1.0, 1.0, 0.0, 1.0, 1.0, 1.0, 1.0, 1.0, 1.0, 1.0, 1.0, 1.0, 1.0, 1.0, 1.0, 1.0, 1.0, 0.0, 1.0, 1.0, 1.0, 1.0, 1.0, 1.0, 1.0, 1.0, 1.0, 1.0, 1.0, 1.0, 1.0, 1.0, 0.0, 1.0, 1.0, 1.0, 1.0, 1.0, 1.0, 1.0, 1.0, 1.0, 0.0, 1.0, 1.0, 1.0, 1.0, 1.0, 1.0, 1.0, 1.0, 1.0, 1.0, 1.0, 1.0, 1.0, 1.0, 1.0, 1.0, 1.0, 1.0, 1.0, 1.0, 1.0, 1.0, 1.0, 1.0, 1.0, 1.0, 1.0, 1.0, 1.0, 1.0, 0.0, 1.0, 1.0, 1.0, 1.0, 1.0, 1.0, 1.0, 1.0, 1.0, 1.0, 1.0, 1.0, 1.0, 0.0, 1.0, 1.0, 1.0, 1.0, 1.0, 1.0, 1.0, 0.0, 1.0, 1.0, 1.0, 1.0, 1.0, 1.0, 1.0, 1.0, 1.0, 1.0, 1.0, 1.0, 1.0, 1.0, 1.0, 1.0, 1.0, 0.0, 0.0, 1.0, 1.0, 1.0, 1.0, 1.0, 1.0, 0.0, 1.0, 1.0, 1.0, 1.0, 1.0, 1.0, 1.0, 1.0, 1.0, 1.0, 0.0, 1.0, 1.0, 1.0, 1.0, 1.0, 1.0, 1.0, 1.0, 1.0, 1.0, 1.0, 1.0, 1.0, 1.0, 0.0, 1.0, 1.0, 1.0, 1.0, 1.0, 1.0, 1.0, 1.0, 1.0, 1.0, 1.0, 1.0, 1.0, 1.0, 1.0, 1.0, 1.0, 1.0, 1.0, 1.0, 1.0, 1.0, 1.0, 1.0, 1.0, 1.0, 1.0, 1.0, 1.0, 1.0, 1.0, 1.0, 1.0, 1.0, 1.0, 1.0, 1.0, 1.0, 1.0, 1.0, 1.0, 1.0, 1.0, 1.0, 1.0, 1.0, 1.0, 1.0, 1.0, 1.0, 1.0, 1.0, 1.0, 1.0, 1.0, 1.0, 1.0, 1.0, 1.0, 1.0, 1.0, 1.0, 1.0, 1.0, 1.0, 0.0, 1.0, 1.0, 1.0, 1.0, 1.0, 1.0, 1.0, 1.0, 1.0, 1.0, 1.0, 1.0, 1.0, 1.0, 1.0, 1.0, 1.0, 1.0, 1.0, 1.0, 1.0, 1.0, 1.0, 1.0, 1.0, 1.0, 1.0, 1.0, 1.0, 1.0, 1.0, 1.0, 0.0, 0.0, 1.0, 1.0, 1.0, 1.0, 1.0, 1.0, 1.0, 1.0, 1.0, 0.0, 1.0, 1.0, 1.0, 0.0, 1.0, 1.0, 1.0, 1.0, 1.0, 1.0, 1.0, 1.0, 1.0, 1.0, 1.0, 1.0, 1.0, 1.0, 1.0, 1.0, 1.0, 1.0, 0.0, 1.0, 1.0, 1.0, 1.0, 1.0, 1.0, 1.0, 1.0, 1.0, 1.0, 1.0, 1.0, 1.0, 1.0, 0.0, 1.0, 1.0, 1.0, 1.0, 1.0, 1.0, 1.0, 0.0, 1.0, 1.0, 1.0, 1.0, 1.0, 1.0, 1.0, 1.0, 1.0, 0.0, 1.0, 1.0, 1.0, 1.0, 1.0, 1.0, 1.0, 1.0, 0.0, 1.0, 1.0, 1.0, 1.0, 1.0, 1.0, 1.0, 1.0, 1.0, 1.0, 1.0, 1.0, 1.0, 1.0, 1.0, 1.0, 1.0, 1.0, 1.0, 1.0, 1.0, 1.0, 1.0, 1.0, 0.0, 1.0, 1.0, 1.0, 1.0, 1.0, 1.0, 0.0, 1.0, 1.0, 1.0, 1.0, 1.0, 1.0, 1.0, 0.0, 1.0, 1.0, 1.0, 1.0, 1.0, 1.0, 1.0, 1.0, 1.0, 1.0, 1.0, 1.0, 0.0, 1.0, 1.0, 1.0, 1.0, 1.0, 1.0, 1.0, 1.0, 1.0, 1.0, 1.0, 0.0, 1.0, 1.0, 1.0, 1.0, 1.0, 0.0, 1.0, 1.0, 1.0, 1.0, 1.0, 1.0, 0.0, 1.0, 0.0, 1.0, 0.0, 1.0, 1.0, 1.0, 1.0, 1.0, 1.0, 1.0, 1.0, 1.0, 1.0, 1.0, 1.0, 0.0, 1.0, 1.0, 1.0, 1.0, 1.0, 0.0, 1.0, 1.0, 1.0, 1.0, 1.0, 1.0, 1.0, 1.0, 1.0, 1.0, 1.0, 1.0, 1.0, 1.0, 1.0, 1.0, 1.0, 1.0, 1.0, 1.0, 1.0, 1.0, 1.0, 1.0, 1.0, 1.0, 0.0, 1.0, 1.0, 1.0, 1.0, 1.0, 1.0, 1.0, 1.0, 1.0, 1.0, 1.0, 1.0, 1.0, 1.0, 1.0, 1.0, 1.0, 1.0, 1.0, 1.0, 0.0, 1.0, 1.0, 1.0, 1.0, 1.0, 1.0, 0.0, 1.0, 1.0, 1.0, 1.0, 1.0, 1.0, 1.0, 1.0, 1.0, 1.0, 1.0, 1.0, 1.0, 1.0, 1.0, 1.0, 1.0, 1.0, 1.0, 1.0, 0.0, 1.0, 1.0, 1.0, 1.0, 0.0, 1.0, 1.0, 1.0, 1.0, 1.0, 0.0, 1.0, 1.0, 1.0, 1.0, 1.0, 1.0, 1.0, 1.0, 1.0, 1.0, 1.0, 0.0, 1.0, 1.0, 1.0, 1.0, 1.0, 1.0, 1.0, 0.0, 1.0, 1.0, 1.0, 1.0, 1.0, 1.0, 1.0, 1.0, 1.0, 1.0, 1.0, 1.0, 1.0, 0.0, 1.0, 1.0, 0.0, 1.0, 1.0, 0.0, 1.0, 1.0, 0.0, 1.0, 1.0, 1.0, 1.0, 0.0, 1.0, 1.0, 1.0, 0.0, 1.0, 1.0, 0.0, 1.0, 1.0, 1.0, 1.0, 1.0, 1.0, 1.0, 1.0, 1.0, 1.0, 1.0, 1.0, 1.0, 1.0, 1.0, 1.0, 1.0, 1.0, 1.0, 1.0, 1.0, 1.0, 1.0, 1.0, 1.0, 1.0, 1.0, 1.0, 1.0, 1.0, 1.0, 1.0, 1.0, 1.0, 1.0, 1.0, 1.0, 1.0, 1.0, 1.0, 1.0, 1.0, 1.0, 1.0, 1.0, 1.0, 1.0, 1.0, 1.0, 1.0, 1.0, 1.0, 1.0, 1.0, 1.0, 1.0, 1.0, 1.0, 1.0, 1.0, 1.0, 1.0, 1.0, 1.0, 1.0, 1.0, 1.0, 0.0, 1.0, 0.0, 1.0, 1.0, 1.0, 1.0, 1.0, 1.0, 1.0, 1.0, 1.0, 1.0, 1.0, 1.0, 1.0, 1.0, 1.0, 1.0, 1.0, 1.0, 1.0, 1.0, 1.0, 1.0, 1.0, 1.0, 1.0, 1.0, 1.0, 1.0, 1.0, 1.0, 0.0, 1.0, 1.0, 1.0, 1.0, 1.0, 1.0, 1.0, 1.0, 1.0, 1.0, 1.0, 1.0, 0.0, 1.0, 1.0, 1.0, 1.0, 1.0, 1.0, 1.0, 1.0, 1.0, 1.0, 1.0, 1.0, 1.0, 1.0, 1.0, 1.0, 1.0, 1.0, 1.0, 1.0, 1.0, 1.0, 1.0, 1.0, 0.0, 1.0, 1.0, 1.0, 1.0, 0.0, 1.0, 1.0, 1.0, 1.0, 1.0, 1.0, 1.0, 1.0, 1.0, 1.0, 1.0, 1.0, 1.0, 1.0, 1.0, 0.0, 1.0, 1.0, 1.0, 1.0, 1.0, 1.0, 1.0, 1.0, 1.0, 1.0, 1.0, 1.0, 1.0, 1.0, 1.0, 1.0, 1.0, 1.0, 1.0, 1.0, 1.0, 1.0, 1.0, 1.0, 1.0, 1.0, 1.0, 1.0, 1.0, 1.0, 1.0, 1.0, 1.0, 0.0, 1.0, 1.0, 1.0, 1.0, 1.0, 1.0, 1.0, 1.0, 1.0, 1.0, 1.0, 1.0, 1.0, 1.0, 1.0, 1.0, 1.0, 1.0, 1.0, 1.0, 1.0, 1.0, 1.0, 1.0, 1.0, 1.0, 1.0, 1.0, 1.0, 1.0, 1.0, 1.0, 1.0, 1.0, 1.0, 1.0, 1.0, 1.0, 1.0, 1.0, 1.0, 0.0, 1.0, 0.0, 1.0, 1.0, 1.0, 1.0, 1.0, 1.0, 1.0, 1.0, 1.0, 1.0, 1.0, 1.0, 0.0, 1.0, 1.0, 1.0, 1.0, 1.0, 1.0, 1.0, 1.0, 1.0, 1.0, 1.0, 1.0, 1.0, 1.0, 1.0, 0.0, 1.0, 1.0, 1.0, 1.0, 1.0, 1.0, 1.0, 1.0, 1.0, 1.0, 1.0, 1.0, 1.0, 1.0, 1.0, 1.0, 1.0, 1.0, 1.0, 1.0, 1.0, 0.0, 1.0, 1.0, 1.0, 1.0, 1.0, 1.0, 1.0, 1.0, 0.0, 1.0, 1.0, 1.0, 0.0, 1.0, 1.0, 1.0, 1.0, 1.0, 1.0, 1.0, 1.0, 1.0, 1.0, 1.0, 0.0, 0.0, 1.0, 1.0, 1.0, 1.0, 1.0, 1.0, 1.0, 1.0, 1.0, 1.0, 0.0, 1.0, 1.0, 1.0, 1.0, 1.0, 1.0, 1.0, 0.0, 1.0, 0.0, 1.0, 0.0, 1.0, 1.0, 0.0, 1.0, 1.0, 1.0, 1.0, 1.0, 1.0, 1.0, 1.0, 1.0, 1.0, 1.0, 1.0, 1.0, 1.0, 1.0, 0.0, 1.0, 1.0, 1.0, 1.0, 1.0, 1.0, 1.0, 1.0, 1.0, 1.0, 1.0, 1.0, 1.0, 1.0, 1.0, 1.0, 0.0, 1.0, 1.0, 1.0, 1.0, 1.0, 1.0, 1.0, 1.0, 1.0, 1.0, 1.0, 1.0, 1.0, 1.0, 1.0, 0.0, 1.0, 1.0, 1.0, 1.0, 1.0, 1.0, 1.0, 1.0, 1.0, 1.0, 1.0, 1.0, 1.0, 1.0, 1.0, 1.0, 1.0, 1.0, 1.0, 0.0, 1.0, 1.0, 1.0, 1.0, 1.0, 1.0, 1.0, 1.0, 1.0, 1.0, 1.0, 1.0, 1.0, 1.0, 1.0, 1.0, 1.0, 1.0, 1.0, 0.0, 1.0, 1.0, 1.0, 1.0, 1.0, 1.0, 1.0, 1.0, 1.0, 1.0, 1.0, 1.0, 1.0, 0.0, 1.0, 1.0, 1.0, 1.0, 0.0, 1.0, 1.0, 1.0, 1.0, 1.0, 1.0, 1.0, 0.0, 1.0, 1.0, 1.0, 1.0, 0.0, 1.0, 1.0, 1.0, 1.0, 1.0, 1.0, 1.0, 1.0, 1.0, 1.0, 1.0, 1.0, 1.0, 0.0, 1.0, 1.0, 1.0, 1.0, 1.0, 1.0, 1.0, 1.0, 1.0, 1.0, 1.0, 1.0, 1.0, 1.0, 1.0, 1.0, 1.0, 1.0, 1.0, 1.0, 1.0, 1.0, 1.0, 1.0, 1.0, 1.0, 1.0, 1.0, 1.0, 1.0, 1.0, 1.0, 1.0, 1.0, 1.0, 1.0, 1.0, 1.0, 1.0, 1.0, 1.0, 1.0, 1.0, 1.0, 1.0, 1.0, 1.0, 1.0, 1.0, 1.0, 0.0, 1.0, 1.0, 1.0, 1.0, 0.0, 1.0, 1.0, 1.0, 0.0, 1.0, 1.0, 1.0, 0.0, 1.0, 1.0, 1.0, 1.0, 1.0, 1.0, 1.0, 1.0, 1.0, 1.0, 1.0, 1.0, 1.0, 1.0, 1.0, 1.0, 1.0, 1.0, 1.0, 1.0, 1.0, 1.0, 1.0, 1.0, 1.0, 1.0, 1.0, 1.0, 1.0, 1.0, 1.0, 1.0, 1.0, 1.0, 1.0, 1.0, 1.0, 1.0, 1.0, 1.0, 1.0, 1.0, 1.0, 0.0, 1.0, 1.0, 1.0, 1.0, 1.0, 1.0, 1.0, 1.0, 1.0, 1.0, 1.0, 1.0, 1.0, 1.0, 1.0, 1.0, 1.0, 1.0, 1.0, 1.0, 1.0, 1.0, 1.0, 0.0, 0.0, 1.0, 1.0, 1.0, 1.0, 1.0, 1.0, 1.0, 1.0, 1.0, 1.0, 1.0, 1.0, 1.0, 0.0, 1.0, 0.0, 1.0, 1.0, 1.0, 1.0, 1.0, 1.0, 1.0, 1.0, 1.0, 1.0, 1.0, 1.0, 1.0, 1.0, 1.0, 1.0, 1.0, 1.0, 1.0, 1.0, 1.0, 1.0, 1.0, 1.0, 1.0, 1.0, 1.0, 1.0, 1.0, 1.0, 1.0, 1.0, 1.0, 1.0, 1.0, 1.0, 1.0, 1.0, 1.0, 1.0, 1.0, 0.0, 1.0, 1.0, 0.0, 1.0, 1.0, 1.0, 1.0, 1.0, 1.0, 1.0, 1.0, 1.0, 1.0, 1.0, 1.0, 1.0, 1.0, 1.0, 0.0, 1.0, 1.0, 1.0, 1.0, 1.0, 1.0, 1.0, 1.0, 1.0, 1.0, 1.0, 1.0, 1.0, 1.0, 1.0, 1.0, 1.0, 1.0, 1.0, 1.0, 1.0, 1.0, 1.0, 1.0, 1.0, 1.0, 0.0, 1.0, 1.0, 1.0, 1.0, 1.0, 1.0, 0.0, 1.0, 1.0, 0.0, 1.0, 1.0, 1.0, 1.0, 1.0, 0.0, 1.0, 0.0, 1.0, 1.0, 1.0, 1.0, 0.0, 1.0, 1.0, 1.0, 1.0, 0.0, 1.0, 1.0, 1.0, 1.0, 1.0, 1.0, 1.0, 1.0, 1.0, 1.0, 1.0, 1.0, 1.0, 1.0, 0.0, 1.0, 0.0, 1.0, 1.0, 1.0, 1.0, 1.0, 1.0, 1.0, 1.0, 1.0, 1.0, 1.0, 1.0, 1.0, 1.0, 1.0, 1.0, 1.0, 1.0, 1.0, 1.0, 1.0, 1.0, 1.0, 1.0, 0.0, 1.0, 1.0, 1.0, 1.0, 1.0, 1.0, 1.0, 1.0, 1.0, 1.0, 1.0, 1.0, 1.0, 1.0, 1.0, 1.0, 1.0, 1.0, 1.0, 1.0, 1.0, 1.0, 1.0, 1.0, 1.0, 1.0, 1.0, 1.0, 1.0, 1.0, 1.0, 1.0, 1.0, 1.0, 1.0, 1.0, 1.0, 1.0, 1.0, 1.0, 1.0, 1.0, 1.0, 1.0, 1.0, 1.0, 1.0, 1.0, 1.0, 1.0, 1.0, 1.0, 1.0, 1.0, 1.0, 1.0, 1.0, 1.0, 0.0, 1.0, 1.0, 0.0, 1.0, 1.0, 1.0, 1.0, 1.0, 1.0, 1.0, 1.0, 1.0, 1.0, 1.0, 1.0, 1.0, 1.0, 1.0, 1.0, 1.0, 1.0, 1.0, 0.0, 1.0, 1.0, 1.0, 0.0, 0.0, 1.0, 1.0, 1.0, 1.0, 1.0, 1.0, 0.0, 1.0, 1.0, 1.0, 1.0, 1.0, 1.0, 1.0, 1.0, 1.0, 1.0, 1.0, 1.0, 1.0, 0.0, 1.0, 1.0, 1.0, 1.0, 1.0, 1.0, 1.0, 1.0, 1.0, 1.0, 1.0, 1.0, 1.0, 1.0, 1.0, 1.0, 1.0, 1.0, 1.0, 1.0, 1.0, 1.0, 1.0, 1.0, 0.0, 1.0, 1.0, 1.0, 1.0, 1.0, 1.0, 1.0, 1.0, 0.0, 1.0, 1.0, 1.0, 1.0, 1.0, 1.0, 1.0, 1.0, 1.0, 1.0, 1.0, 1.0, 1.0, 1.0, 1.0, 1.0, 1.0, 1.0, 1.0, 1.0, 1.0, 1.0, 1.0, 1.0, 1.0, 0.0, 1.0, 1.0, 1.0, 1.0, 1.0, 1.0, 1.0, 1.0, 1.0, 1.0, 1.0, 1.0, 1.0, 1.0, 1.0, 1.0, 1.0, 1.0, 1.0, 1.0, 0.0, 1.0, 1.0, 1.0, 0.0, 1.0, 1.0, 1.0, 1.0, 1.0, 1.0, 1.0, 0.0, 1.0, 1.0, 1.0, 1.0, 1.0, 1.0, 0.0, 1.0, 1.0, 1.0, 1.0, 1.0, 1.0, 1.0, 0.0, 1.0, 1.0, 0.0, 1.0, 1.0, 1.0, 1.0, 1.0, 1.0, 1.0, 1.0, 1.0, 1.0, 1.0, 1.0, 1.0, 1.0, 1.0, 1.0, 1.0, 1.0, 1.0, 1.0, 1.0, 1.0, 1.0, 1.0, 1.0, 1.0, 0.0, 1.0, 1.0, 1.0, 1.0, 1.0, 1.0, 1.0, 1.0, 1.0, 1.0, 1.0, 1.0, 1.0, 1.0, 1.0, 1.0, 1.0, 1.0, 1.0, 1.0, 1.0, 1.0, 0.0, 1.0, 1.0, 1.0, 1.0, 1.0, 1.0, 1.0, 1.0, 1.0, 1.0, 1.0, 1.0, 1.0, 1.0, 1.0, 1.0, 1.0, 1.0, 1.0, 1.0, 1.0, 1.0, 1.0, 1.0, 1.0, 1.0, 1.0, 1.0, 1.0, 1.0, 1.0, 1.0, 0.0, 1.0, 1.0, 1.0, 1.0, 1.0, 1.0, 1.0, 1.0, 1.0, 1.0, 1.0, 1.0, 1.0, 1.0, 1.0, 1.0, 1.0, 1.0, 1.0, 1.0, 0.0, 1.0, 1.0, 1.0, 1.0, 1.0, 1.0, 0.0, 1.0, 1.0, 1.0, 1.0, 1.0, 0.0, 1.0, 1.0, 1.0, 1.0, 1.0, 1.0, 1.0, 1.0, 1.0, 1.0, 1.0, 1.0, 1.0, 1.0, 1.0, 1.0, 1.0, 1.0, 1.0, 0.0, 1.0, 1.0, 1.0, 0.0, 1.0, 1.0, 1.0, 1.0, 1.0, 1.0, 1.0, 1.0, 1.0, 1.0, 1.0, 1.0, 0.0, 1.0, 1.0, 1.0, 1.0, 1.0, 1.0, 1.0, 1.0, 1.0, 1.0, 1.0, 1.0, 1.0, 1.0, 1.0, 1.0, 1.0, 1.0, 1.0, 1.0, 1.0, 1.0, 1.0, 1.0, 0.0, 1.0, 0.0, 1.0, 1.0, 1.0, 1.0, 1.0, 1.0, 1.0, 1.0, 1.0, 1.0, 1.0, 1.0, 1.0, 1.0, 1.0, 1.0, 1.0, 1.0, 1.0, 1.0, 1.0, 1.0, 1.0, 1.0, 0.0, 1.0, 1.0, 1.0, 1.0, 1.0, 1.0, 1.0, 1.0, 1.0, 1.0, 1.0, 1.0, 1.0, 0.0, 1.0, 1.0, 1.0, 1.0, 1.0, 1.0, 1.0, 1.0, 1.0, 0.0, 1.0, 1.0, 1.0, 1.0, 1.0, 1.0, 1.0, 1.0, 1.0, 1.0, 1.0, 1.0, 1.0, 1.0, 1.0, 1.0, 1.0, 1.0, 1.0, 1.0, 1.0, 0.0, 1.0, 1.0, 1.0, 0.0, 1.0, 1.0, 1.0, 1.0, 1.0, 1.0, 1.0, 1.0, 1.0, 1.0, 1.0, 1.0, 1.0, 1.0, 1.0, 1.0, 1.0, 1.0, 1.0, 1.0, 1.0, 1.0, 1.0, 1.0, 1.0, 1.0, 1.0, 1.0, 1.0, 1.0, 1.0, 1.0, 1.0, 1.0, 1.0, 1.0, 1.0, 1.0, 1.0, 1.0, 1.0, 1.0, 1.0, 1.0, 1.0, 1.0, 1.0, 1.0, 1.0, 1.0, 1.0, 1.0, 1.0, 1.0, 1.0, 1.0, 1.0, 1.0, 1.0, 1.0, 1.0, 1.0, 1.0, 1.0, 1.0, 1.0, 1.0, 1.0, 1.0, 1.0, 1.0, 1.0, 1.0, 0.0, 1.0, 1.0, 1.0, 1.0, 1.0, 1.0, 1.0, 1.0, 1.0, 1.0, 1.0, 1.0, 1.0, 1.0, 1.0, 1.0, 1.0, 1.0, 1.0, 1.0, 1.0, 1.0, 1.0, 0.0, 1.0, 1.0, 1.0, 1.0, 1.0, 1.0, 1.0, 1.0, 1.0, 1.0, 1.0, 1.0, 0.0, 1.0, 0.0, 1.0, 1.0, 1.0, 1.0, 1.0, 1.0, 1.0, 1.0, 1.0, 1.0, 1.0, 1.0, 1.0, 1.0, 1.0, 1.0, 1.0, 1.0, 1.0, 1.0, 1.0, 1.0, 1.0, 1.0, 1.0, 1.0, 1.0, 1.0, 1.0, 1.0, 1.0, 1.0, 1.0, 1.0, 1.0, 1.0, 1.0, 1.0, 1.0, 1.0, 1.0, 0.0, 1.0, 0.0, 1.0, 1.0, 1.0, 1.0, 1.0, 1.0, 1.0, 1.0, 1.0, 1.0, 1.0, 1.0, 1.0, 1.0, 1.0, 1.0, 1.0, 1.0, 1.0, 1.0, 1.0, 1.0, 1.0, 1.0, 1.0, 1.0, 1.0, 0.0, 1.0, 1.0, 1.0, 1.0, 1.0, 1.0, 1.0, 1.0, 0.0, 1.0, 0.0, 1.0, 1.0, 0.0, 1.0, 1.0, 1.0, 1.0, 1.0, 1.0, 1.0, 1.0, 1.0, 1.0, 1.0, 1.0, 1.0, 1.0, 1.0, 1.0, 1.0, 1.0, 1.0, 1.0, 1.0, 1.0, 1.0, 1.0, 1.0, 1.0, 1.0, 1.0, 1.0, 1.0, 1.0, 1.0, 0.0, 1.0, 1.0, 1.0, 1.0, 1.0, 1.0, 1.0, 1.0, 1.0, 1.0, 0.0, 0.0, 0.0, 1.0, 1.0, 1.0, 1.0, 1.0, 1.0, 1.0, 1.0, 1.0, 1.0, 1.0, 1.0, 1.0, 1.0, 1.0, 1.0, 1.0, 1.0, 1.0, 1.0, 1.0, 1.0, 1.0, 1.0, 0.0, 1.0, 1.0, 1.0, 1.0, 1.0, 1.0, 1.0, 1.0, 1.0, 1.0, 0.0, 1.0, 1.0, 1.0, 1.0, 1.0, 1.0, 1.0, 1.0, 1.0, 1.0, 1.0, 1.0, 1.0, 1.0, 1.0, 1.0, 1.0, 1.0, 1.0, 1.0, 1.0, 1.0, 1.0, 1.0, 1.0, 1.0, 1.0, 1.0, 1.0, 1.0, 1.0, 0.0, 1.0, 1.0, 1.0, 1.0, 1.0, 0.0, 1.0, 1.0, 1.0, 1.0, 1.0, 1.0, 1.0, 1.0, 1.0, 1.0, 1.0, 1.0, 1.0, 1.0, 1.0, 1.0, 1.0, 1.0, 1.0, 1.0, 1.0, 1.0, 1.0, 1.0, 1.0, 1.0, 1.0, 1.0, 1.0, 1.0, 1.0, 1.0, 1.0, 1.0, 1.0, 1.0, 1.0, 1.0, 1.0, 1.0, 0.0, 1.0, 1.0, 1.0, 1.0, 1.0, 1.0, 1.0, 1.0, 1.0, 1.0, 1.0, 1.0, 1.0, 1.0, 1.0, 1.0, 1.0, 1.0, 1.0, 1.0, 1.0, 1.0, 1.0, 1.0, 1.0, 1.0, 1.0, 1.0, 1.0, 1.0, 1.0, 1.0, 1.0, 1.0, 1.0, 1.0, 0.0, 1.0, 1.0, 1.0, 1.0, 1.0, 1.0, 1.0, 1.0, 1.0, 1.0, 1.0, 1.0, 1.0, 1.0, 1.0, 1.0, 1.0, 1.0, 0.0, 1.0, 1.0, 1.0, 1.0, 1.0, 1.0, 1.0, 1.0, 1.0, 1.0, 1.0, 1.0, 1.0, 1.0, 0.0, 1.0, 1.0, 0.0, 1.0, 1.0, 1.0, 0.0, 1.0, 1.0, 1.0, 1.0, 1.0, 1.0, 1.0, 1.0, 1.0, 1.0, 1.0, 1.0, 1.0, 1.0, 1.0, 1.0, 1.0, 1.0, 1.0, 1.0, 1.0, 1.0, 1.0, 1.0, 1.0, 1.0, 1.0, 1.0, 1.0, 1.0, 1.0, 1.0, 1.0, 1.0, 1.0, 1.0, 1.0, 1.0, 1.0, 0.0, 0.0, 1.0, 1.0, 1.0, 0.0, 1.0, 1.0, 1.0, 1.0, 1.0, 1.0, 1.0, 1.0, 1.0, 1.0, 1.0, 1.0, 1.0, 1.0, 1.0, 1.0, 0.0, 1.0, 1.0, 1.0, 1.0, 1.0, 1.0, 1.0, 1.0, 1.0, 1.0, 1.0, 1.0, 1.0, 1.0, 1.0, 1.0, 1.0, 1.0, 1.0, 1.0, 1.0, 1.0, 1.0, 1.0, 1.0, 1.0, 1.0, 1.0, 1.0, 1.0, 1.0, 1.0, 1.0, 1.0, 1.0, 1.0, 1.0, 1.0, 1.0, 1.0, 1.0, 1.0, 1.0, 1.0, 1.0, 1.0, 1.0, 1.0, 0.0, 1.0, 1.0, 1.0, 1.0, 1.0, 1.0, 1.0, 1.0, 1.0, 1.0, 1.0, 1.0, 1.0, 1.0, 1.0, 0.0, 1.0, 1.0, 1.0, 1.0, 1.0, 1.0, 1.0, 1.0, 1.0, 1.0, 1.0, 1.0, 1.0, 1.0, 1.0, 1.0, 1.0, 1.0, 1.0, 1.0, 1.0, 1.0, 1.0, 1.0, 0.0, 0.0, 0.0, 1.0, 1.0, 1.0, 0.0, 1.0, 1.0, 1.0, 1.0, 1.0, 0.0, 1.0, 1.0, 1.0, 1.0, 1.0, 1.0, 1.0, 1.0, 1.0, 1.0, 1.0, 1.0, 1.0, 1.0, 1.0, 1.0, 1.0, 1.0, 1.0, 1.0, 1.0, 1.0, 1.0, 1.0, 0.0, 1.0, 1.0, 1.0, 1.0, 0.0, 1.0, 1.0, 1.0, 1.0, 1.0, 1.0, 1.0, 1.0, 1.0, 1.0, 1.0, 1.0, 1.0, 0.0, 1.0, 1.0, 1.0, 1.0, 1.0, 1.0, 1.0, 1.0, 0.0, 1.0, 1.0, 1.0, 1.0, 1.0, 1.0, 1.0, 1.0, 1.0, 1.0, 1.0, 1.0, 1.0, 1.0, 1.0, 1.0, 1.0, 1.0, 1.0, 1.0, 0.0, 1.0, 1.0, 1.0, 1.0, 1.0, 1.0, 1.0, 1.0, 1.0, 1.0, 1.0, 1.0, 1.0, 1.0, 0.0, 1.0, 1.0, 1.0, 1.0, 1.0, 1.0, 1.0, 1.0, 1.0, 0.0, 1.0, 1.0, 1.0, 1.0, 0.0, 1.0, 1.0, 1.0, 1.0, 1.0, 1.0, 0.0, 1.0, 1.0, 1.0, 1.0, 1.0, 1.0, 1.0, 1.0, 1.0, 1.0, 1.0, 1.0, 1.0, 1.0, 1.0, 1.0, 1.0, 1.0, 1.0, 1.0, 1.0, 1.0, 1.0, 1.0, 1.0, 1.0, 1.0, 0.0, 1.0, 1.0, 1.0, 1.0, 1.0, 1.0, 0.0, 1.0, 1.0, 1.0, 1.0, 1.0, 1.0, 1.0, 1.0, 1.0, 1.0, 0.0, 1.0, 1.0, 1.0, 1.0, 1.0, 1.0, 0.0, 1.0, 1.0, 1.0, 1.0, 1.0, 0.0, 1.0, 1.0, 1.0, 1.0, 1.0, 0.0, 1.0, 1.0, 1.0, 1.0, 1.0, 1.0, 1.0, 1.0, 1.0, 1.0, 1.0, 1.0, 1.0, 1.0, 1.0, 1.0, 1.0, 1.0, 1.0, 1.0, 1.0, 0.0, 1.0, 1.0, 0.0, 1.0, 1.0, 1.0, 1.0, 1.0, 1.0, 1.0, 1.0, 1.0, 1.0, 1.0, 1.0, 1.0, 1.0, 1.0, 1.0, 1.0, 1.0, 1.0, 1.0, 1.0, 1.0, 1.0, 1.0, 1.0, 1.0, 1.0, 1.0, 1.0, 1.0, 0.0, 1.0, 0.0, 1.0, 1.0, 1.0, 1.0, 1.0, 1.0, 1.0, 1.0, 1.0, 1.0, 1.0, 1.0, 1.0, 1.0, 0.0, 1.0, 1.0, 1.0, 1.0, 1.0, 1.0, 1.0, 1.0, 1.0, 1.0, 1.0, 1.0, 1.0, 1.0, 1.0, 1.0, 1.0, 1.0, 1.0, 1.0, 1.0, 1.0, 1.0, 1.0, 1.0, 1.0, 1.0, 1.0, 1.0, 1.0, 1.0, 1.0, 1.0, 1.0, 1.0, 1.0, 1.0, 1.0, 1.0, 1.0, 1.0, 1.0, 1.0, 1.0, 1.0, 1.0, 1.0, 0.0, 1.0, 1.0, 1.0, 1.0, 0.0, 1.0, 1.0, 1.0, 1.0, 1.0, 1.0, 1.0, 1.0, 1.0, 1.0, 1.0, 1.0, 1.0, 1.0, 1.0, 1.0, 1.0, 1.0, 1.0, 1.0, 0.0, 1.0, 1.0, 1.0, 1.0, 1.0, 1.0, 1.0, 1.0, 1.0, 1.0, 0.0, 1.0, 1.0, 1.0, 1.0, 1.0, 0.0, 1.0, 1.0, 1.0, 1.0, 1.0, 0.0, 1.0, 1.0, 1.0, 1.0, 1.0, 1.0, 1.0, 1.0, 1.0, 1.0, 1.0, 1.0, 0.0, 1.0, 1.0, 1.0, 1.0, 1.0, 1.0, 1.0, 1.0, 1.0, 1.0, 1.0, 1.0, 1.0, 1.0, 1.0, 1.0, 1.0, 0.0, 1.0, 1.0, 1.0, 1.0, 1.0, 1.0, 1.0, 1.0, 1.0, 1.0, 1.0, 1.0, 1.0, 1.0, 1.0, 1.0, 1.0, 1.0, 1.0, 1.0, 1.0, 1.0, 0.0, 1.0, 1.0, 1.0, 1.0, 1.0, 1.0, 1.0, 1.0, 1.0, 1.0, 1.0, 1.0, 1.0, 0.0, 1.0, 1.0, 1.0, 0.0, 1.0, 1.0, 1.0, 1.0, 1.0, 1.0, 1.0, 1.0, 1.0, 1.0, 1.0, 1.0, 1.0, 1.0, 1.0, 1.0, 1.0, 0.0, 1.0, 1.0, 1.0, 1.0, 1.0, 1.0, 1.0, 1.0, 1.0, 1.0, 1.0, 1.0, 1.0, 1.0, 1.0, 1.0, 1.0, 1.0, 1.0, 1.0, 1.0, 1.0, 1.0, 1.0, 1.0, 1.0, 1.0, 0.0, 1.0, 1.0, 1.0, 1.0, 1.0, 1.0, 1.0, 1.0, 1.0, 1.0, 1.0, 1.0, 1.0, 1.0, 1.0, 1.0, 1.0, 1.0, 1.0, 1.0, 1.0, 1.0, 1.0, 1.0, 1.0, 1.0, 1.0, 0.0, 1.0, 1.0, 1.0, 1.0, 1.0, 1.0, 1.0, 1.0, 1.0, 1.0, 1.0, 1.0, 1.0, 1.0, 1.0, 1.0, 1.0, 1.0, 1.0, 1.0, 1.0, 1.0, 1.0, 1.0, 1.0, 0.0, 1.0, 1.0, 1.0, 1.0, 1.0, 1.0, 1.0, 1.0, 1.0, 1.0, 1.0, 1.0, 0.0, 1.0, 1.0, 1.0, 1.0, 1.0, 1.0, 1.0, 1.0, 1.0, 0.0, 1.0, 1.0, 1.0, 1.0, 1.0, 1.0, 1.0, 1.0, 1.0, 1.0, 1.0, 1.0, 1.0, 1.0, 1.0, 0.0, 1.0, 1.0, 1.0, 1.0, 0.0, 0.0, 1.0, 1.0, 1.0, 1.0, 1.0, 1.0, 1.0, 1.0, 1.0, 1.0, 1.0, 1.0, 1.0, 1.0, 1.0, 1.0, 1.0, 1.0, 1.0, 1.0, 1.0, 1.0, 1.0, 1.0, 1.0, 1.0, 1.0, 1.0, 1.0, 1.0, 0.0, 1.0, 1.0, 1.0, 1.0, 1.0, 1.0, 1.0, 1.0, 1.0, 1.0, 1.0, 1.0, 1.0, 1.0, 1.0, 1.0, 1.0, 1.0, 1.0, 1.0, 1.0, 1.0, 1.0, 1.0, 1.0, 1.0, 1.0, 1.0, 1.0, 1.0, 1.0, 1.0, 1.0, 1.0, 1.0, 0.0, 1.0, 1.0, 1.0, 1.0, 1.0, 1.0, 1.0, 1.0, 1.0, 1.0, 1.0, 1.0, 1.0, 1.0, 0.0, 0.0, 1.0, 1.0, 1.0, 0.0, 1.0, 1.0, 1.0, 1.0, 1.0, 1.0, 1.0, 1.0, 1.0, 1.0, 1.0, 1.0, 1.0, 1.0, 1.0, 1.0, 1.0, 1.0, 1.0, 1.0, 1.0, 1.0, 1.0, 1.0, 1.0, 1.0, 1.0, 1.0, 1.0, 1.0, 1.0, 0.0, 1.0, 1.0, 1.0, 1.0, 1.0, 0.0, 1.0, 1.0, 1.0, 1.0, 1.0, 1.0, 1.0, 1.0, 1.0, 1.0, 1.0, 1.0, 1.0, 1.0, 1.0, 1.0, 1.0, 1.0, 1.0, 1.0, 1.0, 1.0, 1.0, 1.0, 1.0, 1.0, 1.0, 0.0, 1.0, 1.0, 1.0, 1.0, 1.0, 1.0, 1.0, 0.0, 1.0, 1.0, 1.0, 0.0, 1.0, 1.0, 1.0, 1.0, 1.0, 1.0, 1.0, 1.0, 1.0, 1.0, 1.0, 1.0, 1.0, 1.0, 1.0, 1.0, 1.0, 0.0, 1.0, 0.0, 1.0, 1.0, 1.0, 1.0, 1.0, 1.0, 1.0, 1.0, 1.0, 1.0, 1.0, 1.0, 1.0, 0.0, 1.0, 1.0, 1.0, 1.0, 1.0, 1.0, 1.0, 1.0, 0.0, 1.0, 1.0, 1.0, 1.0, 1.0, 1.0, 1.0, 1.0, 1.0, 1.0, 1.0, 1.0, 1.0, 1.0, 1.0, 1.0, 1.0, 1.0, 1.0, 1.0, 1.0, 1.0, 0.0, 0.0, 1.0, 1.0, 1.0, 1.0, 1.0, 1.0, 1.0, 1.0, 1.0, 1.0, 1.0, 1.0, 1.0, 1.0, 1.0, 1.0, 1.0, 1.0, 1.0, 1.0, 1.0, 1.0, 1.0, 0.0, 1.0, 1.0, 1.0, 1.0, 1.0, 1.0, 1.0, 1.0, 1.0, 1.0, 1.0, 1.0, 1.0, 0.0, 1.0, 1.0, 1.0, 1.0, 1.0, 1.0, 1.0, 1.0, 1.0, 1.0, 1.0, 1.0, 1.0, 1.0, 1.0, 1.0, 0.0, 1.0, 1.0, 1.0, 1.0, 1.0, 0.0, 1.0, 1.0, 1.0, 1.0, 1.0, 1.0, 1.0, 1.0, 1.0, 1.0, 0.0, 1.0, 1.0, 1.0, 1.0, 1.0, 1.0, 1.0, 1.0, 1.0, 0.0, 1.0, 1.0, 1.0, 1.0, 1.0, 1.0, 1.0, 1.0, 1.0, 1.0, 1.0, 1.0, 1.0, 1.0, 1.0, 1.0, 1.0, 1.0, 1.0, 1.0, 1.0, 1.0, 1.0, 1.0, 1.0, 1.0, 1.0, 1.0, 1.0, 1.0, 1.0, 1.0, 0.0, 1.0, 1.0, 0.0, 1.0, 1.0, 1.0, 1.0, 1.0, 0.0, 1.0, 0.0, 1.0, 1.0, 1.0, 1.0, 1.0, 0.0, 1.0, 1.0, 1.0, 1.0, 1.0, 1.0, 1.0, 1.0, 1.0, 1.0, 1.0, 1.0, 1.0, 1.0, 1.0, 1.0, 1.0, 1.0, 1.0, 1.0, 1.0, 0.0, 1.0, 1.0, 0.0, 1.0, 1.0, 1.0, 1.0, 1.0, 1.0, 1.0, 1.0, 1.0, 1.0, 1.0, 1.0, 0.0, 1.0, 1.0, 1.0, 1.0, 1.0, 0.0, 1.0, 1.0, 1.0, 1.0, 1.0, 0.0, 1.0, 1.0, 1.0, 1.0, 1.0, 1.0, 1.0, 1.0, 1.0, 1.0, 1.0, 1.0, 1.0, 1.0, 1.0, 1.0, 1.0, 1.0, 1.0, 1.0, 1.0, 1.0, 1.0, 1.0, 1.0, 1.0, 1.0, 1.0, 1.0, 1.0, 1.0, 1.0, 1.0, 1.0, 1.0, 1.0, 1.0, 1.0, 1.0, 1.0, 0.0, 1.0, 1.0, 1.0, 1.0, 1.0, 1.0, 1.0, 1.0, 1.0, 1.0, 1.0, 1.0, 1.0, 0.0, 1.0, 1.0, 0.0, 1.0, 1.0, 1.0, 1.0, 1.0, 1.0, 1.0, 1.0, 1.0, 1.0, 1.0, 1.0, 1.0, 1.0, 1.0, 1.0, 1.0, 1.0, 1.0, 1.0, 1.0, 1.0, 0.0, 1.0, 1.0, 1.0, 1.0, 1.0, 1.0, 1.0, 1.0, 1.0, 1.0, 1.0, 1.0, 1.0, 1.0, 1.0, 1.0, 1.0, 1.0, 1.0, 1.0, 1.0, 1.0, 1.0, 1.0, 1.0, 1.0, 1.0, 1.0, 1.0, 0.0, 1.0, 1.0, 0.0, 1.0, 1.0, 1.0, 0.0, 1.0, 1.0, 1.0, 1.0, 0.0, 1.0, 1.0, 1.0, 1.0, 1.0, 1.0, 1.0, 1.0, 1.0, 1.0, 1.0, 1.0, 1.0, 1.0, 1.0, 1.0, 1.0, 1.0, 1.0, 1.0, 1.0, 1.0, 1.0, 1.0, 1.0, 1.0, 1.0, 1.0, 1.0, 1.0, 1.0, 1.0, 1.0, 1.0, 1.0, 0.0, 1.0, 1.0, 1.0, 1.0, 1.0, 1.0, 1.0, 1.0, 1.0, 1.0, 1.0, 1.0, 1.0, 1.0, 1.0, 1.0, 1.0, 0.0, 1.0, 0.0, 0.0, 1.0, 1.0, 1.0, 1.0, 1.0, 1.0, 0.0, 1.0, 1.0, 1.0, 1.0, 1.0, 1.0, 1.0, 1.0, 1.0, 1.0, 1.0, 1.0, 0.0, 1.0, 1.0, 1.0, 1.0, 1.0, 1.0, 1.0, 1.0, 1.0, 1.0, 1.0, 1.0, 1.0, 1.0, 1.0, 1.0, 1.0, 0.0, 1.0, 1.0, 0.0, 1.0, 1.0, 1.0, 1.0, 1.0, 1.0, 1.0, 1.0, 1.0, 0.0, 1.0, 0.0, 1.0, 0.0, 1.0, 1.0, 1.0, 0.0, 1.0, 1.0, 1.0, 1.0, 1.0, 1.0, 0.0, 1.0, 1.0, 1.0, 1.0, 1.0, 1.0, 1.0, 1.0, 1.0, 1.0, 1.0, 1.0, 1.0, 1.0, 1.0, 1.0, 1.0, 1.0, 0.0, 1.0, 1.0, 1.0, 1.0, 1.0, 1.0, 1.0, 1.0, 1.0, 1.0, 0.0, 1.0, 1.0, 1.0, 1.0, 1.0, 0.0, 1.0, 1.0, 1.0, 1.0, 1.0, 1.0, 0.0, 0.0, 1.0, 1.0, 1.0, 1.0, 1.0, 0.0, 1.0, 1.0, 1.0, 1.0, 1.0, 1.0, 1.0, 1.0, 1.0, 1.0, 1.0, 1.0, 1.0, 1.0, 1.0, 1.0, 1.0, 1.0, 1.0, 1.0, 1.0, 1.0, 1.0, 1.0, 1.0, 1.0, 1.0, 1.0, 1.0, 1.0, 1.0, 1.0, 1.0, 1.0, 1.0, 1.0, 1.0, 1.0, 1.0, 0.0, 1.0, 1.0, 1.0, 0.0, 1.0, 0.0, 1.0, 1.0, 1.0, 1.0, 1.0, 1.0, 1.0, 1.0, 1.0, 1.0, 1.0, 1.0, 1.0, 1.0, 1.0, 1.0, 1.0, 1.0, 1.0, 1.0, 1.0, 1.0, 1.0, 1.0, 1.0, 1.0, 1.0, 1.0, 1.0, 1.0, 1.0, 1.0, 1.0, 1.0, 1.0, 1.0, 1.0, 1.0, 0.0, 1.0, 1.0, 1.0, 1.0, 1.0, 0.0, 1.0, 1.0, 1.0, 1.0, 1.0, 0.0, 1.0, 1.0, 1.0, 1.0, 1.0, 1.0, 1.0, 1.0, 1.0, 1.0, 1.0, 1.0, 1.0, 1.0, 1.0, 1.0, 1.0, 1.0, 1.0, 1.0, 1.0, 1.0, 1.0, 1.0, 1.0, 1.0, 0.0, 1.0, 1.0, 1.0, 1.0, 1.0, 0.0, 1.0, 0.0, 1.0, 1.0, 1.0, 1.0, 1.0, 1.0, 1.0, 1.0, 1.0, 1.0, 1.0, 1.0, 1.0, 0.0, 1.0, 1.0, 1.0, 0.0, 1.0, 1.0, 1.0, 1.0, 1.0, 1.0, 1.0, 1.0, 1.0, 1.0, 1.0, 1.0, 1.0, 1.0, 1.0, 1.0, 1.0, 1.0, 1.0, 1.0, 1.0, 1.0, 1.0, 1.0, 1.0, 1.0, 1.0, 1.0, 1.0, 1.0, 0.0, 1.0, 1.0, 1.0, 1.0, 0.0, 1.0, 1.0, 1.0, 1.0, 1.0, 1.0, 1.0, 1.0, 1.0, 1.0, 0.0, 1.0, 1.0, 1.0, 1.0, 1.0, 1.0, 1.0, 0.0, 1.0, 1.0, 1.0, 1.0, 1.0, 1.0, 1.0, 1.0, 1.0, 1.0, 1.0, 1.0, 0.0, 1.0, 1.0, 1.0, 1.0, 1.0, 1.0, 1.0, 1.0, 1.0, 1.0, 1.0, 1.0, 1.0, 1.0, 1.0, 1.0, 1.0, 1.0, 1.0, 1.0, 1.0, 1.0, 0.0, 1.0, 1.0, 1.0, 1.0, 1.0, 1.0, 1.0, 1.0, 1.0, 1.0, 1.0, 1.0, 1.0, 1.0, 1.0, 1.0, 1.0, 1.0, 1.0, 1.0, 1.0, 0.0, 1.0, 1.0, 1.0, 1.0, 1.0, 1.0, 1.0, 1.0, 1.0, 0.0, 1.0, 1.0, 1.0, 1.0, 0.0, 1.0, 1.0, 1.0, 1.0, 1.0, 1.0, 1.0, 1.0, 1.0, 1.0, 1.0, 1.0, 1.0, 1.0, 1.0, 1.0, 1.0, 1.0, 1.0, 1.0, 1.0, 1.0, 1.0, 1.0, 1.0, 1.0, 1.0, 0.0, 1.0, 1.0, 1.0, 1.0, 1.0, 0.0, 1.0, 1.0, 1.0, 1.0, 1.0, 1.0, 1.0, 1.0, 1.0, 1.0, 1.0, 1.0, 1.0, 1.0, 1.0, 1.0, 1.0, 1.0, 1.0, 1.0, 1.0, 1.0, 1.0, 1.0, 1.0, 1.0, 1.0, 1.0, 1.0, 1.0, 1.0, 1.0, 1.0, 1.0, 1.0, 1.0, 1.0, 0.0, 1.0, 1.0, 1.0, 1.0, 1.0, 1.0, 1.0, 1.0, 1.0, 1.0, 1.0, 1.0, 1.0, 1.0, 1.0, 1.0, 1.0, 1.0, 1.0, 1.0, 1.0, 1.0, 0.0, 1.0, 1.0, 0.0, 1.0, 1.0, 1.0, 1.0, 1.0, 1.0, 1.0, 1.0, 1.0, 1.0, 1.0, 1.0, 1.0, 1.0, 1.0, 1.0, 1.0, 1.0, 1.0, 1.0, 1.0, 1.0, 1.0, 1.0, 0.0, 1.0, 0.0, 1.0, 1.0, 1.0, 1.0, 1.0, 1.0, 1.0, 1.0, 1.0, 1.0, 1.0, 1.0, 1.0, 1.0, 1.0, 1.0, 1.0, 1.0, 1.0, 1.0, 1.0, 1.0, 0.0, 1.0, 1.0, 1.0, 1.0, 1.0, 0.0, 1.0, 1.0, 1.0, 1.0, 1.0, 1.0, 1.0, 1.0, 1.0, 1.0, 1.0, 1.0, 1.0, 1.0, 1.0, 1.0, 1.0, 1.0, 1.0, 1.0, 1.0, 1.0, 1.0, 1.0, 1.0, 1.0, 1.0, 1.0, 1.0, 1.0, 1.0, 1.0, 1.0, 1.0, 1.0, 1.0, 1.0, 1.0, 1.0, 1.0, 1.0, 1.0, 1.0, 1.0, 1.0, 1.0, 1.0, 1.0, 1.0, 1.0, 1.0, 1.0, 1.0, 1.0, 1.0, 1.0, 1.0, 1.0, 1.0, 0.0, 1.0, 1.0, 1.0, 1.0, 1.0, 1.0, 1.0, 1.0, 1.0, 1.0, 1.0, 1.0, 1.0, 1.0, 1.0, 1.0, 1.0, 1.0, 1.0, 1.0, 1.0, 1.0, 1.0, 1.0, 1.0, 1.0, 1.0, 1.0, 1.0, 1.0, 1.0, 1.0, 1.0, 1.0, 1.0, 1.0, 1.0, 1.0, 1.0, 1.0, 1.0, 1.0, 1.0, 1.0, 1.0, 1.0, 1.0, 1.0, 1.0, 1.0, 1.0, 1.0, 1.0, 1.0, 1.0, 1.0, 1.0, 1.0, 1.0, 1.0, 1.0, 1.0, 1.0, 1.0, 1.0, 1.0, 1.0, 1.0, 1.0, 1.0, 0.0, 1.0, 1.0, 1.0, 1.0, 1.0, 1.0, 1.0, 1.0, 1.0, 1.0, 1.0, 1.0, 1.0, 1.0, 1.0, 1.0, 1.0, 1.0, 1.0, 1.0, 1.0, 1.0, 1.0, 1.0, 1.0, 1.0, 1.0, 0.0, 1.0, 1.0, 0.0, 1.0, 1.0, 1.0, 1.0, 1.0, 1.0, 1.0, 1.0, 1.0, 0.0, 1.0, 1.0, 1.0, 1.0, 1.0, 1.0, 1.0, 1.0, 1.0, 1.0, 1.0, 1.0, 1.0, 1.0, 1.0, 1.0, 1.0, 1.0, 1.0, 1.0, 1.0, 1.0, 1.0, 1.0, 1.0, 1.0, 1.0, 1.0, 1.0, 1.0, 1.0, 1.0, 1.0, 1.0, 1.0, 1.0, 1.0, 1.0, 1.0, 1.0, 1.0, 1.0, 1.0, 1.0, 1.0, 1.0, 1.0, 1.0, 1.0, 1.0, 1.0, 1.0, 1.0, 1.0, 1.0, 0.0, 1.0, 1.0, 1.0, 1.0, 1.0, 1.0, 1.0, 0.0, 1.0, 1.0, 1.0, 1.0, 1.0, 1.0, 1.0, 1.0, 1.0, 1.0, 0.0, 1.0, 1.0, 1.0, 1.0, 1.0, 1.0, 1.0, 1.0, 1.0, 1.0, 1.0, 1.0, 0.0, 1.0, 1.0, 1.0, 1.0, 1.0, 1.0, 0.0, 1.0, 1.0, 1.0, 1.0, 1.0, 1.0, 1.0, 1.0, 1.0, 1.0, 1.0, 1.0, 1.0, 1.0, 0.0, 1.0, 1.0, 1.0, 1.0, 0.0, 1.0, 1.0, 1.0, 1.0, 1.0, 1.0, 1.0, 1.0, 1.0, 1.0, 1.0, 1.0, 0.0, 1.0, 0.0, 1.0, 1.0, 1.0, 1.0, 0.0, 1.0, 1.0, 1.0, 1.0, 1.0, 1.0, 1.0, 1.0, 1.0, 1.0, 1.0, 1.0, 1.0, 1.0, 1.0, 1.0, 1.0, 1.0, 1.0, 1.0, 1.0, 1.0, 1.0, 1.0, 1.0, 1.0, 0.0, 0.0, 1.0, 1.0, 1.0, 0.0, 1.0, 1.0, 1.0, 0.0, 1.0, 1.0, 1.0, 1.0, 1.0, 1.0, 1.0, 1.0, 0.0, 1.0, 1.0, 1.0, 1.0, 1.0, 1.0, 1.0, 1.0, 1.0, 1.0, 1.0, 1.0, 1.0, 1.0, 1.0, 1.0, 1.0, 1.0, 1.0, 1.0, 1.0, 1.0, 1.0, 1.0, 1.0, 1.0, 1.0, 1.0, 1.0, 1.0, 1.0, 1.0, 1.0, 1.0, 1.0, 1.0, 1.0, 1.0, 1.0, 1.0, 1.0, 1.0, 1.0, 1.0, 1.0, 1.0, 1.0, 1.0, 1.0, 1.0, 1.0, 1.0, 1.0, 1.0, 1.0, 1.0, 1.0, 1.0, 1.0, 1.0, 1.0, 1.0, 1.0, 1.0, 1.0, 1.0, 1.0, 1.0, 1.0, 1.0, 1.0, 1.0, 1.0, 1.0, 1.0, 1.0, 1.0, 1.0, 0.0, 1.0, 1.0, 1.0, 1.0, 1.0, 1.0, 1.0, 1.0, 1.0, 1.0, 1.0, 1.0, 1.0, 1.0, 1.0, 1.0, 1.0, 1.0, 1.0, 1.0, 1.0, 0.0, 1.0, 1.0, 1.0, 1.0, 1.0, 1.0, 1.0, 1.0, 1.0, 1.0, 1.0, 0.0, 0.0, 1.0, 1.0, 1.0, 1.0, 1.0, 1.0, 1.0, 1.0, 1.0, 1.0, 1.0, 1.0, 1.0, 1.0, 1.0, 1.0, 1.0, 1.0, 1.0, 1.0, 1.0, 1.0, 1.0, 0.0, 1.0, 1.0, 1.0, 1.0, 1.0, 1.0, 0.0, 0.0, 1.0, 1.0, 1.0, 1.0, 1.0, 1.0, 1.0, 1.0, 1.0, 1.0, 1.0, 1.0, 1.0, 1.0, 1.0, 1.0, 1.0, 1.0, 1.0, 1.0, 1.0, 0.0, 1.0, 1.0, 1.0, 1.0, 1.0, 1.0, 1.0, 1.0, 1.0, 1.0, 1.0, 1.0, 1.0, 1.0, 0.0, 1.0, 1.0, 1.0, 1.0, 1.0, 1.0, 1.0, 1.0, 1.0, 1.0, 1.0, 1.0, 1.0, 1.0, 1.0, 1.0, 0.0, 1.0, 0.0, 1.0, 1.0, 0.0, 1.0, 0.0, 1.0, 1.0, 1.0, 0.0, 0.0, 1.0, 1.0, 1.0, 1.0, 1.0, 1.0, 1.0, 1.0, 1.0, 1.0, 1.0, 1.0, 1.0, 1.0, 1.0, 1.0, 1.0, 1.0, 1.0, 1.0, 1.0, 1.0, 1.0, 1.0, 1.0, 1.0, 0.0, 1.0, 1.0, 1.0, 0.0, 1.0, 1.0, 1.0, 1.0, 1.0, 1.0, 1.0, 1.0, 0.0, 1.0, 0.0, 1.0, 1.0, 1.0, 1.0, 1.0, 1.0, 1.0, 1.0, 1.0, 1.0, 1.0, 1.0, 1.0, 1.0, 1.0, 1.0, 1.0, 1.0, 1.0, 0.0, 1.0, 1.0, 0.0, 1.0, 1.0, 1.0, 1.0, 1.0, 1.0, 1.0, 1.0, 1.0, 1.0, 1.0, 1.0, 1.0, 0.0, 0.0, 1.0, 1.0, 1.0, 1.0, 1.0, 1.0, 1.0, 1.0, 1.0, 1.0, 1.0, 1.0, 1.0, 1.0, 0.0, 1.0, 1.0, 1.0, 1.0, 1.0, 1.0, 0.0, 1.0, 1.0, 1.0, 1.0, 1.0, 1.0, 1.0, 0.0, 1.0, 1.0, 1.0, 1.0, 1.0, 1.0, 1.0, 1.0, 1.0, 1.0, 1.0, 1.0, 0.0, 1.0, 1.0, 1.0, 1.0, 1.0, 1.0, 1.0, 1.0, 1.0, 1.0, 1.0, 1.0, 1.0, 1.0, 0.0, 1.0, 1.0, 1.0, 1.0, 1.0, 1.0, 1.0, 1.0, 1.0, 1.0, 1.0, 1.0, 1.0, 1.0, 1.0, 1.0, 1.0, 1.0, 1.0, 1.0, 1.0, 1.0, 1.0, 1.0, 1.0, 1.0, 1.0, 1.0, 1.0, 1.0, 1.0, 1.0, 1.0, 1.0, 1.0, 1.0, 1.0, 1.0, 1.0, 1.0, 1.0, 1.0, 0.0, 1.0, 1.0, 1.0, 1.0, 0.0, 1.0, 1.0, 1.0, 1.0, 1.0, 1.0, 1.0, 1.0, 1.0, 1.0, 1.0, 1.0, 1.0, 1.0, 1.0, 1.0, 1.0, 1.0, 1.0, 1.0, 1.0, 1.0, 0.0, 1.0, 1.0, 1.0, 1.0, 1.0, 1.0, 1.0, 1.0, 1.0, 1.0, 1.0, 1.0, 1.0, 1.0, 1.0, 1.0, 1.0, 1.0, 1.0, 1.0, 1.0, 1.0, 1.0, 0.0, 1.0, 1.0, 1.0, 1.0, 1.0, 1.0, 1.0, 1.0, 1.0, 1.0, 1.0, 1.0, 0.0, 1.0, 1.0, 1.0, 1.0, 1.0, 1.0, 1.0, 1.0, 1.0, 1.0, 1.0, 1.0, 1.0, 1.0, 1.0, 1.0, 1.0, 1.0, 1.0, 1.0, 1.0, 1.0, 1.0, 1.0, 1.0, 1.0, 0.0, 1.0, 1.0, 1.0, 1.0, 1.0, 1.0, 1.0, 1.0, 1.0, 1.0, 1.0, 1.0, 1.0, 1.0, 1.0, 1.0, 1.0, 1.0, 1.0, 1.0, 1.0, 1.0, 1.0, 1.0, 1.0, 1.0, 1.0, 1.0, 1.0, 1.0, 1.0, 1.0, 1.0, 1.0, 1.0, 1.0, 1.0, 1.0, 1.0, 1.0, 1.0, 1.0, 1.0, 1.0, 1.0, 1.0, 1.0, 1.0, 1.0, 1.0, 1.0, 1.0, 1.0, 1.0, 1.0, 1.0, 1.0, 1.0, 1.0, 1.0, 1.0, 1.0, 1.0, 1.0, 0.0, 1.0, 1.0, 1.0, 1.0, 1.0, 1.0, 1.0, 1.0, 1.0, 1.0, 1.0, 1.0, 1.0, 1.0, 1.0, 1.0, 1.0, 0.0, 1.0, 1.0, 1.0, 1.0, 1.0, 1.0, 1.0, 1.0, 0.0, 1.0, 1.0, 1.0, 1.0, 0.0, 1.0, 1.0, 1.0, 0.0, 1.0, 1.0, 1.0, 0.0, 1.0, 1.0, 0.0, 1.0, 0.0, 1.0, 1.0, 0.0, 1.0, 1.0, 1.0, 1.0, 1.0, 1.0, 1.0, 0.0, 1.0, 1.0, 1.0, 1.0, 1.0, 1.0, 1.0, 1.0, 1.0, 1.0, 1.0, 1.0, 1.0, 1.0, 1.0, 1.0, 1.0, 0.0, 1.0, 1.0, 1.0, 0.0, 0.0, 1.0, 1.0, 1.0, 1.0, 1.0, 1.0, 1.0, 1.0, 1.0, 1.0, 1.0, 1.0, 1.0, 1.0, 1.0, 1.0, 1.0, 1.0, 1.0, 1.0, 1.0, 1.0, 1.0, 0.0, 1.0, 1.0, 1.0, 1.0, 1.0, 1.0, 1.0, 0.0, 1.0, 1.0, 1.0, 1.0, 1.0, 1.0, 1.0, 1.0, 1.0, 1.0, 1.0, 1.0, 1.0, 1.0, 1.0, 1.0, 1.0, 1.0, 1.0, 0.0, 1.0, 0.0, 1.0, 1.0, 1.0, 1.0, 1.0, 0.0, 1.0, 1.0, 1.0, 1.0, 1.0, 0.0, 1.0, 1.0, 1.0, 1.0, 1.0, 1.0, 1.0, 1.0, 1.0, 0.0, 1.0, 1.0, 1.0, 0.0, 1.0, 1.0, 1.0, 1.0, 1.0, 1.0, 1.0, 1.0, 1.0, 1.0, 0.0, 1.0, 1.0, 1.0, 1.0, 1.0, 1.0, 1.0, 1.0, 1.0, 1.0, 1.0, 1.0, 1.0, 1.0, 1.0, 1.0, 1.0, 1.0, 0.0, 1.0, 1.0, 1.0, 1.0, 1.0, 1.0, 1.0, 1.0, 1.0, 1.0, 1.0, 1.0, 1.0, 1.0, 1.0, 1.0, 1.0, 1.0, 1.0, 0.0, 1.0, 1.0, 1.0, 1.0, 1.0, 1.0, 1.0, 0.0, 0.0, 1.0, 1.0, 1.0, 1.0, 1.0, 1.0, 1.0, 1.0, 1.0, 1.0, 1.0, 1.0, 1.0, 1.0, 1.0, 1.0, 1.0, 1.0, 1.0, 1.0, 1.0, 1.0, 1.0, 1.0, 1.0, 0.0, 1.0, 1.0, 1.0, 1.0, 1.0, 1.0, 1.0, 1.0, 1.0, 1.0, 1.0, 1.0, 1.0, 0.0, 1.0, 1.0, 1.0, 1.0, 1.0, 1.0, 1.0, 1.0, 1.0, 1.0, 1.0, 1.0, 1.0, 1.0, 1.0, 1.0, 0.0, 1.0, 1.0, 1.0, 1.0, 1.0, 1.0, 1.0, 1.0, 1.0, 0.0, 1.0, 0.0, 1.0, 1.0, 1.0, 1.0, 1.0, 1.0, 1.0, 1.0, 0.0, 1.0, 1.0, 1.0, 1.0, 1.0, 1.0, 1.0, 1.0, 1.0, 1.0, 1.0, 1.0, 1.0, 1.0, 1.0, 1.0, 1.0, 1.0, 1.0, 1.0, 1.0, 1.0, 1.0, 1.0, 1.0, 1.0, 1.0, 1.0, 1.0, 1.0, 1.0, 1.0, 1.0, 1.0, 1.0, 1.0, 1.0, 1.0, 1.0, 1.0, 1.0, 0.0, 1.0, 1.0, 1.0, 1.0, 0.0, 1.0, 1.0, 1.0, 0.0, 1.0, 1.0, 1.0, 1.0, 1.0, 1.0, 1.0, 1.0, 1.0, 0.0, 1.0, 1.0, 1.0, 1.0, 1.0, 1.0, 0.0, 0.0, 0.0, 1.0, 1.0, 1.0, 1.0, 1.0, 1.0, 1.0, 1.0, 1.0, 1.0, 1.0, 1.0, 1.0, 1.0, 1.0, 1.0, 1.0, 1.0, 1.0, 1.0, 1.0, 1.0, 1.0, 1.0, 1.0, 1.0, 1.0, 1.0, 1.0, 1.0, 1.0, 1.0, 1.0, 1.0, 1.0, 1.0, 1.0, 1.0, 1.0, 1.0, 1.0, 1.0, 1.0, 1.0, 1.0, 1.0, 1.0, 1.0, 1.0, 1.0, 1.0, 1.0, 1.0, 1.0, 1.0, 1.0, 1.0, 1.0, 1.0, 1.0, 1.0, 1.0, 0.0, 1.0, 0.0, 1.0, 1.0, 1.0, 1.0, 1.0, 1.0, 1.0, 1.0, 1.0, 1.0, 1.0, 1.0, 1.0, 1.0, 0.0, 0.0, 1.0, 1.0, 1.0, 1.0, 1.0, 1.0, 1.0, 1.0, 1.0, 1.0, 1.0, 1.0, 1.0, 1.0, 0.0, 1.0, 1.0, 1.0, 1.0, 1.0, 1.0, 1.0, 1.0, 1.0, 1.0, 1.0, 1.0, 1.0, 1.0, 1.0, 1.0, 1.0, 1.0, 1.0, 1.0, 1.0, 1.0, 0.0, 1.0, 1.0, 1.0, 1.0, 1.0, 1.0, 1.0, 1.0, 1.0, 1.0, 1.0, 0.0, 1.0, 1.0, 1.0, 1.0, 1.0, 1.0, 1.0, 1.0, 1.0, 1.0, 1.0, 0.0, 1.0, 1.0, 1.0, 1.0, 1.0, 1.0, 1.0, 1.0, 1.0, 1.0, 1.0, 1.0, 1.0, 1.0, 1.0, 0.0, 1.0, 0.0, 1.0, 1.0, 1.0, 1.0, 1.0, 1.0, 1.0, 1.0, 1.0, 1.0, 1.0, 1.0, 1.0, 1.0, 1.0, 1.0, 1.0, 1.0, 1.0, 1.0, 1.0, 1.0, 1.0, 1.0, 1.0, 1.0, 1.0, 1.0, 1.0, 1.0, 1.0, 1.0, 1.0, 1.0, 1.0, 1.0, 1.0, 1.0, 1.0, 1.0, 1.0, 1.0, 1.0, 1.0, 1.0, 1.0, 1.0, 1.0, 1.0, 1.0, 1.0, 1.0, 1.0, 1.0, 0.0, 1.0, 0.0, 1.0, 1.0, 1.0, 1.0, 1.0, 1.0, 1.0, 1.0, 1.0, 1.0, 1.0, 1.0, 1.0, 1.0, 1.0, 1.0, 1.0, 1.0, 1.0, 1.0, 0.0, 1.0, 1.0, 1.0, 1.0, 1.0, 1.0, 1.0, 1.0, 1.0, 1.0, 1.0, 1.0, 1.0, 1.0, 1.0, 1.0, 1.0, 1.0, 1.0, 1.0, 1.0, 1.0, 1.0, 1.0, 1.0, 1.0, 1.0, 1.0, 1.0, 1.0, 1.0, 1.0, 1.0, 1.0, 1.0, 1.0, 1.0, 1.0, 1.0, 1.0, 1.0, 1.0, 1.0, 1.0, 1.0, 1.0, 1.0, 1.0, 1.0, 1.0, 1.0, 1.0, 1.0, 1.0, 1.0, 1.0, 1.0, 1.0, 1.0, 1.0, 1.0, 1.0, 1.0, 1.0, 1.0, 1.0, 1.0, 1.0, 1.0, 1.0, 1.0, 1.0, 1.0, 1.0, 1.0, 0.0, 1.0, 1.0, 1.0, 0.0, 0.0, 1.0, 1.0, 1.0, 1.0, 1.0, 0.0, 1.0, 1.0, 0.0, 1.0, 1.0, 1.0, 1.0, 1.0, 1.0, 1.0, 1.0, 1.0, 0.0, 1.0, 1.0, 1.0, 1.0, 1.0, 1.0, 1.0, 1.0, 1.0, 0.0, 1.0, 1.0, 1.0, 1.0, 1.0, 1.0, 1.0, 1.0, 0.0, 1.0, 1.0, 1.0, 0.0, 1.0, 1.0, 1.0, 1.0, 1.0, 1.0, 1.0, 1.0, 1.0, 1.0, 1.0, 1.0, 1.0, 1.0, 1.0, 0.0, 1.0, 1.0, 1.0, 1.0, 1.0, 1.0, 0.0, 1.0, 1.0, 1.0, 1.0, 1.0, 1.0, 1.0, 1.0, 1.0, 1.0, 0.0, 1.0, 1.0, 1.0, 1.0, 1.0, 1.0, 1.0, 1.0, 1.0, 1.0, 0.0, 1.0, 1.0, 1.0, 1.0, 0.0, 1.0, 1.0, 1.0, 1.0, 1.0, 1.0, 1.0, 1.0, 1.0, 1.0, 1.0, 1.0, 1.0, 1.0, 1.0, 1.0, 1.0, 0.0, 1.0, 1.0, 1.0, 1.0, 1.0, 1.0, 0.0, 0.0, 1.0, 1.0, 1.0, 1.0, 1.0, 1.0, 1.0, 1.0, 1.0, 1.0, 1.0, 1.0, 1.0, 1.0, 1.0, 1.0, 1.0, 1.0, 1.0, 1.0, 1.0, 1.0, 1.0, 0.0, 1.0, 1.0, 1.0, 1.0, 1.0, 1.0, 0.0, 1.0, 1.0, 1.0, 0.0, 1.0, 1.0, 1.0, 1.0, 1.0, 1.0, 1.0, 1.0, 1.0, 1.0, 1.0, 1.0, 1.0, 1.0, 1.0, 1.0, 1.0, 0.0, 1.0, 1.0, 1.0, 1.0, 1.0, 1.0, 1.0, 1.0, 1.0, 1.0, 1.0, 1.0, 1.0, 1.0, 1.0, 1.0, 0.0, 1.0, 1.0, 1.0, 1.0, 1.0, 1.0, 1.0, 1.0, 1.0, 1.0, 1.0, 1.0, 1.0, 1.0, 1.0, 1.0, 0.0, 1.0, 1.0, 1.0, 1.0, 1.0, 1.0, 1.0, 1.0, 1.0, 1.0, 1.0, 1.0, 1.0, 1.0, 1.0, 1.0, 0.0, 1.0, 1.0, 1.0, 1.0, 1.0, 1.0, 1.0, 0.0, 1.0, 1.0, 1.0, 1.0, 1.0, 1.0, 1.0, 1.0, 1.0, 1.0, 1.0, 1.0, 1.0, 1.0, 1.0, 1.0, 1.0, 1.0, 1.0, 1.0, 1.0, 1.0, 1.0, 0.0, 1.0, 1.0, 1.0, 1.0, 1.0, 1.0, 1.0, 1.0, 1.0, 1.0, 1.0, 1.0, 1.0, 1.0, 1.0, 1.0, 1.0, 0.0, 1.0, 1.0, 1.0, 1.0, 1.0, 1.0, 1.0, 1.0, 1.0, 1.0, 1.0, 1.0, 1.0, 0.0, 1.0, 1.0, 1.0, 0.0, 1.0, 1.0, 1.0, 1.0, 1.0, 1.0, 1.0, 1.0, 1.0, 1.0, 1.0, 1.0, 1.0, 1.0, 1.0, 1.0, 1.0, 1.0, 1.0, 1.0, 1.0, 1.0, 0.0, 1.0, 1.0, 1.0, 1.0, 1.0, 1.0, 0.0, 1.0, 1.0, 1.0, 1.0, 1.0, 1.0, 1.0, 1.0, 1.0, 1.0, 1.0, 1.0, 1.0, 1.0, 1.0, 1.0, 1.0, 1.0, 1.0, 1.0, 1.0, 1.0, 1.0, 1.0, 1.0, 1.0, 1.0, 1.0, 1.0, 1.0, 1.0, 1.0, 1.0, 1.0, 1.0, 0.0, 1.0, 1.0, 1.0, 1.0, 1.0, 1.0, 1.0, 1.0, 1.0, 1.0, 1.0, 1.0, 0.0, 1.0, 1.0, 1.0, 1.0, 1.0, 1.0, 1.0, 1.0, 1.0, 1.0, 1.0, 1.0, 1.0, 1.0, 1.0, 0.0, 1.0, 1.0, 1.0, 1.0, 1.0, 1.0, 1.0, 1.0, 1.0, 1.0, 1.0, 1.0, 1.0, 1.0, 1.0, 1.0, 1.0, 1.0, 1.0, 1.0, 1.0, 1.0, 1.0, 1.0, 1.0, 1.0, 1.0, 1.0, 1.0, 1.0, 1.0, 1.0, 1.0, 1.0, 1.0, 1.0, 1.0, 1.0, 1.0, 1.0, 1.0, 1.0, 1.0, 1.0, 1.0, 1.0, 0.0, 1.0, 1.0, 1.0, 1.0, 1.0, 1.0, 1.0, 1.0, 1.0, 1.0, 1.0, 1.0, 1.0, 1.0, 0.0, 1.0, 1.0, 1.0, 1.0, 1.0, 1.0, 0.0, 1.0, 1.0, 1.0, 1.0, 1.0, 1.0, 1.0, 1.0, 1.0, 0.0, 1.0, 1.0, 1.0, 1.0, 1.0, 1.0, 1.0, 1.0, 1.0, 0.0, 1.0, 1.0, 1.0, 1.0, 1.0, 1.0, 1.0, 1.0, 0.0, 1.0, 1.0, 1.0, 1.0, 1.0, 1.0, 1.0, 1.0, 1.0, 1.0, 1.0, 1.0, 1.0, 1.0, 1.0, 1.0, 1.0, 1.0, 1.0, 1.0, 1.0, 1.0, 0.0, 1.0, 1.0, 1.0, 1.0, 1.0, 1.0, 1.0, 1.0, 1.0, 1.0, 1.0, 1.0, 1.0, 1.0, 1.0, 1.0, 1.0, 1.0, 1.0, 1.0, 1.0, 1.0, 0.0, 1.0, 0.0, 1.0, 1.0, 0.0, 1.0, 1.0, 1.0, 1.0, 1.0, 1.0, 1.0, 1.0, 1.0, 1.0, 1.0, 1.0, 1.0, 1.0, 1.0, 0.0, 1.0, 1.0, 1.0, 1.0, 1.0, 0.0, 1.0, 1.0, 1.0, 1.0, 1.0, 1.0, 1.0, 1.0, 1.0, 1.0, 1.0, 1.0, 1.0, 1.0, 1.0, 1.0, 1.0, 1.0, 1.0, 1.0, 1.0, 1.0, 1.0, 1.0, 1.0, 1.0, 1.0, 1.0, 1.0, 1.0, 1.0, 1.0, 1.0, 1.0, 1.0, 1.0, 1.0, 1.0, 1.0, 1.0, 1.0, 1.0, 1.0, 1.0, 1.0, 1.0, 1.0, 1.0, 1.0, 1.0, 1.0, 1.0, 1.0, 1.0, 1.0, 1.0, 1.0, 1.0, 1.0, 1.0, 1.0, 1.0, 1.0, 1.0, 1.0, 1.0, 1.0, 1.0, 1.0, 1.0, 1.0, 1.0, 1.0, 1.0, 1.0, 1.0, 1.0, 1.0, 1.0, 1.0, 1.0, 1.0, 1.0, 1.0, 1.0, 1.0, 1.0, 1.0, 1.0, 1.0, 1.0, 0.0, 1.0, 1.0, 1.0, 1.0, 1.0, 1.0, 1.0, 1.0, 1.0, 1.0, 1.0, 1.0, 1.0, 1.0, 1.0, 1.0, 1.0, 1.0, 1.0, 1.0, 1.0, 1.0, 1.0, 1.0, 1.0, 0.0, 1.0, 1.0, 1.0, 1.0, 1.0, 1.0, 1.0, 1.0, 1.0, 1.0, 1.0, 1.0, 1.0, 0.0, 1.0, 1.0, 1.0, 0.0, 1.0, 1.0, 1.0, 1.0, 1.0, 1.0, 1.0, 1.0, 1.0, 1.0, 0.0, 1.0, 0.0, 1.0, 1.0, 1.0, 1.0, 1.0, 1.0, 1.0, 1.0, 1.0, 1.0, 1.0, 1.0, 1.0, 1.0, 1.0, 1.0, 1.0, 1.0, 1.0, 1.0, 1.0, 1.0, 0.0, 1.0, 1.0, 1.0, 1.0, 1.0, 1.0, 1.0, 1.0, 1.0, 1.0, 1.0, 1.0, 1.0, 1.0, 1.0, 1.0, 1.0, 1.0, 1.0, 1.0, 1.0, 1.0, 1.0, 1.0, 1.0, 1.0, 1.0, 1.0, 1.0, 1.0, 1.0, 0.0, 1.0, 0.0, 0.0, 1.0, 1.0, 1.0, 0.0, 1.0, 1.0, 1.0, 1.0, 1.0, 1.0, 1.0, 1.0, 1.0, 1.0, 1.0, 1.0, 1.0, 1.0, 1.0, 1.0, 1.0, 1.0, 1.0, 1.0, 1.0, 1.0, 1.0, 1.0, 1.0, 1.0, 1.0, 1.0, 1.0, 1.0, 0.0, 0.0, 1.0, 0.0, 1.0, 1.0, 1.0, 1.0, 1.0, 1.0, 1.0, 1.0, 1.0, 1.0, 1.0, 1.0, 1.0, 1.0, 1.0, 1.0, 1.0, 0.0, 1.0, 1.0, 1.0, 1.0, 1.0, 1.0, 1.0, 1.0, 1.0, 1.0, 1.0, 1.0, 1.0, 0.0, 1.0, 1.0, 1.0, 0.0, 1.0, 1.0, 1.0, 1.0, 1.0, 1.0, 1.0, 1.0, 1.0, 1.0, 1.0, 1.0, 1.0, 1.0, 1.0, 1.0, 1.0, 1.0, 1.0, 1.0, 1.0, 1.0, 1.0, 1.0, 1.0, 1.0, 1.0, 1.0, 1.0, 1.0, 0.0, 1.0, 1.0, 0.0, 1.0, 1.0, 1.0, 1.0, 1.0, 1.0, 1.0, 1.0, 1.0, 1.0, 1.0, 1.0, 1.0, 1.0, 1.0, 1.0, 1.0, 1.0, 1.0, 1.0, 1.0, 1.0, 1.0, 1.0, 1.0, 1.0, 1.0, 1.0, 1.0, 1.0, 1.0, 1.0, 1.0, 1.0, 1.0, 1.0, 1.0, 1.0, 1.0, 1.0, 1.0, 1.0, 1.0, 1.0, 1.0, 1.0, 1.0, 1.0, 1.0, 1.0, 0.0, 1.0, 1.0, 1.0, 1.0, 1.0, 1.0, 1.0, 0.0, 1.0, 1.0, 1.0, 1.0, 1.0, 1.0, 1.0, 1.0, 1.0, 1.0, 1.0, 1.0, 1.0, 1.0, 1.0, 1.0, 1.0, 1.0, 1.0, 1.0, 1.0, 1.0, 1.0, 1.0, 1.0, 1.0, 1.0, 1.0, 1.0, 1.0, 1.0, 1.0, 0.0, 1.0, 0.0, 1.0, 1.0, 1.0, 1.0, 1.0, 1.0, 1.0, 1.0, 1.0, 1.0, 1.0, 1.0, 1.0, 1.0, 1.0, 1.0, 1.0, 1.0, 1.0, 1.0, 1.0, 1.0, 1.0, 1.0, 1.0, 1.0, 1.0, 1.0, 1.0, 1.0, 1.0, 1.0, 1.0, 1.0, 1.0, 1.0, 1.0, 1.0, 1.0, 1.0, 1.0, 1.0, 1.0, 1.0, 0.0, 1.0, 1.0, 1.0, 1.0, 1.0, 1.0, 1.0, 1.0, 1.0, 1.0, 1.0, 1.0, 1.0, 1.0, 1.0, 1.0, 1.0, 1.0, 1.0, 1.0, 1.0, 0.0, 1.0, 1.0, 1.0, 1.0, 1.0, 1.0, 1.0, 1.0, 1.0, 1.0, 1.0, 1.0, 1.0, 1.0, 1.0, 1.0, 1.0, 1.0, 1.0, 1.0, 1.0, 1.0, 1.0, 1.0, 1.0, 1.0, 1.0, 1.0, 1.0, 1.0, 1.0, 1.0, 1.0, 1.0, 1.0, 0.0, 1.0, 1.0, 1.0, 1.0, 1.0, 1.0, 1.0, 0.0, 1.0, 1.0, 1.0, 1.0, 1.0, 1.0, 1.0, 1.0, 0.0, 1.0, 1.0, 0.0, 1.0, 1.0, 1.0, 1.0, 1.0, 1.0, 1.0, 1.0, 1.0, 1.0, 1.0, 1.0, 1.0, 1.0, 0.0, 1.0, 1.0, 1.0, 1.0, 1.0, 0.0, 1.0, 1.0, 1.0, 1.0, 1.0, 1.0, 1.0, 1.0, 1.0, 1.0, 1.0, 1.0, 1.0, 1.0, 1.0, 1.0, 1.0, 1.0, 0.0, 1.0, 1.0, 1.0, 1.0, 1.0, 1.0, 1.0, 1.0, 1.0, 1.0, 1.0, 1.0, 1.0, 1.0, 1.0, 1.0, 1.0, 1.0, 1.0, 0.0, 1.0, 1.0, 1.0, 1.0, 1.0, 1.0, 1.0, 1.0, 1.0, 1.0, 1.0, 1.0, 1.0, 0.0, 1.0, 1.0, 1.0, 1.0, 1.0, 1.0, 1.0, 1.0, 1.0, 1.0, 1.0, 1.0, 1.0, 1.0, 1.0, 1.0, 1.0, 0.0, 1.0, 1.0, 1.0, 1.0, 1.0, 1.0, 1.0, 1.0, 1.0, 1.0, 1.0, 1.0, 1.0, 1.0, 1.0, 1.0, 0.0, 1.0, 1.0, 1.0, 1.0, 1.0, 0.0, 1.0, 1.0, 1.0, 1.0, 1.0, 1.0, 1.0, 1.0, 1.0, 1.0, 1.0, 1.0, 1.0, 1.0, 1.0, 1.0, 1.0, 1.0, 1.0, 0.0, 1.0, 1.0, 1.0, 1.0, 0.0, 1.0, 1.0, 1.0, 1.0, 1.0, 1.0, 1.0, 1.0, 1.0, 1.0, 1.0, 1.0, 1.0, 1.0, 1.0, 1.0, 1.0, 1.0, 1.0, 1.0, 1.0, 1.0, 0.0, 1.0, 1.0, 0.0, 1.0, 1.0, 1.0, 0.0, 1.0, 1.0, 1.0, 1.0, 1.0, 1.0, 1.0, 1.0, 1.0, 1.0, 1.0, 1.0, 1.0, 1.0, 1.0, 1.0, 0.0, 1.0, 1.0, 1.0, 1.0, 1.0, 1.0, 1.0, 1.0, 1.0, 1.0, 1.0, 1.0, 1.0, 1.0, 0.0, 1.0, 1.0, 1.0, 1.0, 1.0, 1.0, 1.0, 1.0, 1.0, 1.0, 1.0, 0.0, 1.0, 1.0, 1.0, 0.0, 0.0, 1.0, 1.0, 1.0, 1.0, 1.0, 1.0, 1.0, 1.0, 1.0, 1.0, 1.0, 1.0, 1.0, 1.0, 1.0, 1.0, 0.0, 1.0, 1.0, 1.0, 0.0, 1.0, 1.0, 1.0, 1.0, 1.0, 1.0, 1.0, 1.0, 1.0, 1.0, 1.0, 1.0, 1.0, 1.0, 1.0, 0.0, 1.0, 1.0, 0.0, 1.0, 1.0, 1.0, 1.0, 0.0, 1.0, 1.0, 1.0, 1.0, 1.0, 1.0, 1.0, 1.0, 1.0, 1.0, 1.0, 1.0, 1.0, 1.0, 1.0, 1.0, 1.0, 1.0, 0.0, 1.0, 1.0, 0.0, 1.0, 1.0, 1.0, 1.0, 1.0, 1.0, 1.0, 0.0, 1.0, 1.0, 1.0, 1.0, 1.0, 1.0, 1.0, 1.0, 1.0, 1.0, 1.0, 1.0, 1.0, 1.0, 1.0, 0.0, 1.0, 1.0, 1.0, 1.0, 1.0, 1.0, 1.0, 1.0, 1.0, 1.0, 1.0, 1.0, 1.0, 1.0, 1.0, 1.0, 1.0, 1.0, 1.0, 1.0, 1.0, 1.0, 1.0, 1.0, 1.0, 1.0, 1.0, 1.0, 0.0, 1.0, 1.0, 1.0, 1.0, 1.0, 1.0, 1.0, 1.0, 0.0, 1.0, 1.0, 1.0, 1.0, 1.0, 1.0, 1.0, 1.0, 1.0, 1.0, 1.0, 1.0, 1.0, 1.0, 1.0, 1.0, 1.0, 1.0, 1.0] as keyword args. From version 0.25 passing these as positional arguments will result in an error\n",
      "  FutureWarning)\n"
     ]
    }
   ],
   "source": [
    "new_deception_train = train[\"Input.deception_quadrant\"].copy()\n",
    "new_deception_train['Input.deception_quadrant'] = train[\"Input.deception_quadrant\"].apply(lambda x : 1 if x == \"Straightforward\" else 0)\n",
    "y_train_deception = new_deception_train['Input.deception_quadrant'].to_numpy()\n",
    "deception_class_weights = class_weight.compute_class_weight('balanced',\n",
    "                                                 np.unique(y_train_deception),\n",
    "                                                 y_train_deception)\n",
    "deception_class_weight_dict = dict(enumerate(deception_class_weights))\n",
    "\n",
    "y_train_rapport = train['Answer.3rapport.yes_label'].tolist()\n",
    "rapport_class_weights = class_weight.compute_class_weight('balanced',\n",
    "                                                 np.unique(y_train_rapport),\n",
    "                                                 y_train_rapport)\n",
    "rapport_class_weight_dict = dict(enumerate(rapport_class_weights))\n",
    "\n",
    "y_train_share_information = train['Answer.4shareinformation.yes_label'].tolist()\n",
    "share_info_class_weights = class_weight.compute_class_weight('balanced',\n",
    "                                                 np.unique(y_train_share_information),\n",
    "                                                 y_train_share_information)\n",
    "share_info_class_weight_dict = dict(enumerate(share_info_class_weights))\n",
    "\n",
    "y_train_reasoning = train['Answer.2reasoning.yes_label'].tolist()\n",
    "reasoning_class_weights = class_weight.compute_class_weight('balanced',\n",
    "                                                 np.unique(y_train_reasoning),\n",
    "                                                 y_train_reasoning)\n",
    "reasoning_class_weight_dict = dict(enumerate(reasoning_class_weights))\n",
    "\n",
    "y_train_gamemove = train['Answer.1gamemove.yes_label'].tolist()\n",
    "gamemove_class_weights = class_weight.compute_class_weight('balanced',\n",
    "                                                 np.unique(y_train_gamemove),\n",
    "                                                 y_train_gamemove)\n",
    "gamemove_class_weight_dict = dict(enumerate(gamemove_class_weights))"
   ]
  },
  {
   "cell_type": "code",
   "execution_count": 10,
   "metadata": {},
   "outputs": [
    {
     "name": "stdout",
     "output_type": "stream",
     "text": [
      "Class weights\n",
      "Deception: {0: 10.192825112107624, 1: 0.525792273883877} \n",
      "Rapport: {0: 3.582348305752561, 1: 0.5811069922024799} \n",
      "Share Information: {0: 3.117969821673525, 1: 0.59549384333246} \n",
      "Reasoning: {0: 2.9596354166666665, 1: 0.6016410799364743} \n",
      "Gamemove: {0: 7.048062015503876, 1: 0.5381792352314431}\n"
     ]
    }
   ],
   "source": [
    "print(\"Class weights\")\n",
    "print(\"Deception: {} \\nRapport: {} \\nShare Information: {} \\nReasoning: {} \\nGamemove: {}\".format(deception_class_weight_dict,\n",
    "                                                                                                  rapport_class_weight_dict,\n",
    "                                                                                                  share_info_class_weight_dict,\n",
    "                                                                                                  reasoning_class_weight_dict,\n",
    "                                                                                                  gamemove_class_weight_dict))"
   ]
  },
  {
   "cell_type": "code",
   "execution_count": 11,
   "metadata": {},
   "outputs": [],
   "source": [
    "X_train_col = train['Input.full_text']\n",
    "\n",
    "new_deception_test = test[\"Input.deception_quadrant\"].copy()\n",
    "new_deception_test['Input.deception_quadrant'] = test[\"Input.deception_quadrant\"].apply(lambda x : 1 if x == \"Straightforward\" else 0)\n",
    "y_test_deception = new_deception_test['Input.deception_quadrant'].tolist()\n",
    "y_test_rapport = test['Answer.3rapport.yes_label'].tolist()\n",
    "y_test_share_information = test['Answer.4shareinformation.yes_label'].tolist()\n",
    "y_test_reasoning = test['Answer.2reasoning.yes_label'].tolist()\n",
    "y_test_gamemove = test['Answer.1gamemove.yes_label'].tolist()\n",
    "\n",
    "X_test_col = test['Input.full_text']"
   ]
  },
  {
   "cell_type": "code",
   "execution_count": 12,
   "metadata": {},
   "outputs": [
    {
     "name": "stderr",
     "output_type": "stream",
     "text": [
      "C:\\Users\\lynne\\anaconda3\\envs\\tf-gpu\\lib\\site-packages\\sklearn\\utils\\validation.py:72: DataConversionWarning: A column-vector y was passed when a 1d array was expected. Please change the shape of y to (n_samples, ), for example using ravel().\n",
      "  return f(**kwargs)\n"
     ]
    }
   ],
   "source": [
    "le = LabelEncoder()\n",
    "\n",
    "# def label_preprocessing(y_data, label_encoder):\n",
    "#     out = label_encoder.fit_transform(y_data).reshape(-1,1)\n",
    "#     return out\n",
    "\n",
    "y_train_deception = le.fit_transform(y_train_deception)\n",
    "y_train_deception = y_train_deception.reshape(-1,1)\n",
    "\n",
    "y_train_rapport = le.fit_transform(y_train_rapport)\n",
    "y_train_rapport = y_train_rapport.reshape(-1,1)\n",
    "\n",
    "y_train_share_information = le.fit_transform(y_train_share_information)\n",
    "y_train_share_information = y_train_share_information.reshape(-1,1)\n",
    "\n",
    "y_train_reasoning = le.fit_transform(y_train_reasoning)\n",
    "y_train_reasoning = y_train_reasoning.reshape(-1,1)\n",
    "\n",
    "y_train_gamemove = le.fit_transform(y_train_gamemove)\n",
    "y_train_gamemove = y_train_gamemove.reshape(-1,1)\n",
    "\n",
    "y_train_deception = le.fit_transform(y_train_deception)\n",
    "y_train_deception = y_train_deception.reshape(-1,1)\n",
    "\n",
    "y_test_rapport = le.fit_transform(y_test_rapport)\n",
    "y_test_rapport = y_test_rapport.reshape(-1,1)\n",
    "\n",
    "y_test_share_information = le.fit_transform(y_test_share_information)\n",
    "y_test_share_information = y_test_share_information.reshape(-1,1)\n",
    "\n",
    "y_test_reasoning = le.fit_transform(y_test_reasoning)\n",
    "y_test_reasoning = y_test_reasoning.reshape(-1,1)\n",
    "\n",
    "y_test_gamemove = le.fit_transform(y_test_gamemove)\n",
    "y_test_gamemove = y_test_gamemove.reshape(-1,1)\n",
    "\n",
    "y_test_deception = le.fit_transform(y_test_deception)\n",
    "y_test_deception = y_test_deception.reshape(-1,1)\n",
    "\n",
    "y_test_rapport = np.asarray(y_test_rapport)\n",
    "y_train_rapport = np.asarray(y_train_rapport)"
   ]
  },
  {
   "cell_type": "code",
   "execution_count": 13,
   "metadata": {},
   "outputs": [],
   "source": [
    "max_words = 1000\n",
    "max_len = 220\n",
    "\n",
    "tok = Tokenizer(num_words=max_words)\n",
    "\n",
    "tok.fit_on_texts(X_train_col)\n",
    "X_train_sequences = tok.texts_to_sequences(X_train_col)\n",
    "X_train = pad_sequences(X_train_sequences, maxlen=max_len)\n",
    "\n",
    "X_test_sequences = tok.texts_to_sequences(X_test_col)\n",
    "X_test = pad_sequences(X_test_sequences, maxlen=max_len)"
   ]
  },
  {
   "cell_type": "markdown",
   "metadata": {},
   "source": [
    "### Construct individual  models"
   ]
  },
  {
   "cell_type": "code",
   "execution_count": 14,
   "metadata": {},
   "outputs": [
    {
     "name": "stdout",
     "output_type": "stream",
     "text": [
      "Epoch 1/50\n",
      "72/72 [==============================] - 3s 47ms/step - loss: 0.6932 - accuracy: 0.2551 - f1_m: 0.1647 - recall_m: 0.1756 - precision_m: 0.1558 - val_loss: 0.6891 - val_accuracy: 0.8712 - val_f1_m: 0.9305 - val_recall_m: 1.0000 - val_precision_m: 0.8704\n",
      "Epoch 2/50\n",
      "72/72 [==============================] - 3s 39ms/step - loss: 0.6933 - accuracy: 0.6903 - f1_m: 0.7150 - recall_m: 0.7658 - precision_m: 0.7638 - val_loss: 0.6942 - val_accuracy: 0.2995 - val_f1_m: 0.3599 - val_recall_m: 0.2275 - val_precision_m: 0.8797\n",
      "Epoch 3/50\n",
      "72/72 [==============================] - 3s 39ms/step - loss: 0.6928 - accuracy: 0.4352 - f1_m: 0.4360 - recall_m: 0.4094 - precision_m: 0.8136 - val_loss: 0.6776 - val_accuracy: 0.8382 - val_f1_m: 0.9108 - val_recall_m: 0.9572 - val_precision_m: 0.8693\n",
      "Epoch 4/50\n",
      "72/72 [==============================] - 3s 39ms/step - loss: 0.6869 - accuracy: 0.5189 - f1_m: 0.6240 - recall_m: 0.5098 - precision_m: 0.8903 - val_loss: 0.6295 - val_accuracy: 0.5712 - val_f1_m: 0.7050 - val_recall_m: 0.5915 - val_precision_m: 0.8753\n",
      "Epoch 5/50\n",
      "72/72 [==============================] - 3s 40ms/step - loss: 0.6756 - accuracy: 0.4606 - f1_m: 0.5597 - recall_m: 0.4206 - precision_m: 0.9138 - val_loss: 0.6186 - val_accuracy: 0.5880 - val_f1_m: 0.7186 - val_recall_m: 0.6094 - val_precision_m: 0.8783\n",
      "Epoch 6/50\n",
      "72/72 [==============================] - 3s 39ms/step - loss: 0.6621 - accuracy: 0.5104 - f1_m: 0.6104 - recall_m: 0.4718 - precision_m: 0.9198 - val_loss: 0.6520 - val_accuracy: 0.4974 - val_f1_m: 0.6285 - val_recall_m: 0.4913 - val_precision_m: 0.8758\n",
      "Epoch 7/50\n",
      "72/72 [==============================] - 3s 40ms/step - loss: 0.6531 - accuracy: 0.5060 - f1_m: 0.6098 - recall_m: 0.4636 - precision_m: 0.9289 - val_loss: 0.6160 - val_accuracy: 0.5664 - val_f1_m: 0.6996 - val_recall_m: 0.5828 - val_precision_m: 0.8766\n",
      "Epoch 8/50\n",
      "72/72 [==============================] - 3s 40ms/step - loss: 0.6493 - accuracy: 0.5060 - f1_m: 0.6067 - recall_m: 0.4666 - precision_m: 0.9343 - val_loss: 0.5612 - val_accuracy: 0.6763 - val_f1_m: 0.7973 - val_recall_m: 0.7360 - val_precision_m: 0.8710\n",
      "Epoch 9/50\n",
      "72/72 [==============================] - 3s 40ms/step - loss: 0.6438 - accuracy: 0.5373 - f1_m: 0.6420 - recall_m: 0.5022 - precision_m: 0.9339 - val_loss: 0.6636 - val_accuracy: 0.5158 - val_f1_m: 0.6494 - val_recall_m: 0.5170 - val_precision_m: 0.8755\n",
      "Epoch 10/50\n",
      "72/72 [==============================] - 3s 40ms/step - loss: 0.6367 - accuracy: 0.5343 - f1_m: 0.6393 - recall_m: 0.4948 - precision_m: 0.9389 - val_loss: 0.5440 - val_accuracy: 0.7128 - val_f1_m: 0.8260 - val_recall_m: 0.7866 - val_precision_m: 0.8707\n",
      "Epoch 11/50\n",
      "72/72 [==============================] - 3s 40ms/step - loss: 0.6342 - accuracy: 0.5593 - f1_m: 0.6606 - recall_m: 0.5228 - precision_m: 0.9313 - val_loss: 0.5984 - val_accuracy: 0.6790 - val_f1_m: 0.7997 - val_recall_m: 0.7412 - val_precision_m: 0.8697\n",
      "Epoch 12/50\n",
      "72/72 [==============================] - 3s 42ms/step - loss: 0.6327 - accuracy: 0.5569 - f1_m: 0.6595 - recall_m: 0.5222 - precision_m: 0.9383 - val_loss: 0.6107 - val_accuracy: 0.5875 - val_f1_m: 0.7199 - val_recall_m: 0.6140 - val_precision_m: 0.8725\n",
      "Epoch 13/50\n",
      "72/72 [==============================] - 3s 41ms/step - loss: 0.6230 - accuracy: 0.5814 - f1_m: 0.6867 - recall_m: 0.5530 - precision_m: 0.9361 - val_loss: 0.5681 - val_accuracy: 0.6834 - val_f1_m: 0.8031 - val_recall_m: 0.7468 - val_precision_m: 0.8698\n",
      "Epoch 14/50\n",
      "72/72 [==============================] - 3s 39ms/step - loss: 0.6218 - accuracy: 0.5993 - f1_m: 0.7059 - recall_m: 0.5757 - precision_m: 0.9364 - val_loss: 0.6266 - val_accuracy: 0.5853 - val_f1_m: 0.7188 - val_recall_m: 0.6136 - val_precision_m: 0.8696\n",
      "Epoch 15/50\n",
      "72/72 [==============================] - 3s 41ms/step - loss: 0.6129 - accuracy: 0.6011 - f1_m: 0.7085 - recall_m: 0.5746 - precision_m: 0.9420 - val_loss: 0.5589 - val_accuracy: 0.7093 - val_f1_m: 0.8228 - val_recall_m: 0.7801 - val_precision_m: 0.8711\n",
      "Epoch 16/50\n",
      "72/72 [==============================] - 3s 40ms/step - loss: 0.6136 - accuracy: 0.6169 - f1_m: 0.7228 - recall_m: 0.5983 - precision_m: 0.9374 - val_loss: 0.6016 - val_accuracy: 0.6508 - val_f1_m: 0.7768 - val_recall_m: 0.7032 - val_precision_m: 0.8689\n",
      "Epoch 17/50\n",
      "72/72 [==============================] - 3s 40ms/step - loss: 0.6112 - accuracy: 0.5927 - f1_m: 0.6910 - recall_m: 0.5611 - precision_m: 0.9430 - val_loss: 0.8351 - val_accuracy: 0.3026 - val_f1_m: 0.3616 - val_recall_m: 0.2282 - val_precision_m: 0.8946\n",
      "Epoch 18/50\n",
      "72/72 [==============================] - 3s 40ms/step - loss: 0.6115 - accuracy: 0.6158 - f1_m: 0.7222 - recall_m: 0.5962 - precision_m: 0.9396 - val_loss: 0.6714 - val_accuracy: 0.5734 - val_f1_m: 0.7080 - val_recall_m: 0.5988 - val_precision_m: 0.8680\n",
      "Epoch 19/50\n",
      "72/72 [==============================] - 3s 40ms/step - loss: 0.6034 - accuracy: 0.6185 - f1_m: 0.7162 - recall_m: 0.5893 - precision_m: 0.9432 - val_loss: 0.6378 - val_accuracy: 0.5778 - val_f1_m: 0.7122 - val_recall_m: 0.6059 - val_precision_m: 0.8658\n",
      "Epoch 20/50\n",
      "72/72 [==============================] - 3s 39ms/step - loss: 0.6047 - accuracy: 0.6510 - f1_m: 0.7540 - recall_m: 0.6403 - precision_m: 0.9346 - val_loss: 0.5978 - val_accuracy: 0.6623 - val_f1_m: 0.7868 - val_recall_m: 0.7217 - val_precision_m: 0.8663\n",
      "Epoch 21/50\n",
      "72/72 [==============================] - 3s 39ms/step - loss: 0.6238 - accuracy: 0.5705 - f1_m: 0.6588 - recall_m: 0.5355 - precision_m: 0.9327 - val_loss: 0.8798 - val_accuracy: 0.3465 - val_f1_m: 0.4376 - val_recall_m: 0.2939 - val_precision_m: 0.8679\n",
      "Epoch 22/50\n",
      "72/72 [==============================] - 3s 39ms/step - loss: 0.5941 - accuracy: 0.6323 - f1_m: 0.7385 - recall_m: 0.6174 - precision_m: 0.9428 - val_loss: 0.6212 - val_accuracy: 0.6231 - val_f1_m: 0.7544 - val_recall_m: 0.6701 - val_precision_m: 0.8648\n",
      "Epoch 23/50\n",
      "72/72 [==============================] - 3s 39ms/step - loss: 0.6075 - accuracy: 0.5829 - f1_m: 0.6767 - recall_m: 0.5557 - precision_m: 0.9466 - val_loss: 0.7065 - val_accuracy: 0.5510 - val_f1_m: 0.6864 - val_recall_m: 0.5690 - val_precision_m: 0.8673\n",
      "Epoch 24/50\n",
      "72/72 [==============================] - 3s 38ms/step - loss: 0.5858 - accuracy: 0.6452 - f1_m: 0.7452 - recall_m: 0.6291 - precision_m: 0.9322 - val_loss: 0.9182 - val_accuracy: 0.3109 - val_f1_m: 0.3771 - val_recall_m: 0.2407 - val_precision_m: 0.8820\n",
      "Epoch 25/50\n",
      "72/72 [==============================] - 3s 39ms/step - loss: 0.5867 - accuracy: 0.6124 - f1_m: 0.7176 - recall_m: 0.5897 - precision_m: 0.9481 - val_loss: 0.8134 - val_accuracy: 0.4701 - val_f1_m: 0.6001 - val_recall_m: 0.4599 - val_precision_m: 0.8665\n",
      "Epoch 26/50\n",
      "72/72 [==============================] - 3s 39ms/step - loss: 0.5697 - accuracy: 0.6617 - f1_m: 0.7601 - recall_m: 0.6432 - precision_m: 0.9446 - val_loss: 0.6238 - val_accuracy: 0.6209 - val_f1_m: 0.7542 - val_recall_m: 0.6724 - val_precision_m: 0.8601\n",
      "Epoch 27/50\n",
      "72/72 [==============================] - 3s 38ms/step - loss: 0.5648 - accuracy: 0.6727 - f1_m: 0.7725 - recall_m: 0.6597 - precision_m: 0.9470 - val_loss: 0.6915 - val_accuracy: 0.5844 - val_f1_m: 0.7203 - val_recall_m: 0.6221 - val_precision_m: 0.8589\n",
      "Epoch 28/50\n",
      "72/72 [==============================] - 3s 39ms/step - loss: 0.5509 - accuracy: 0.6861 - f1_m: 0.7815 - recall_m: 0.6743 - precision_m: 0.9418 - val_loss: 0.9102 - val_accuracy: 0.4208 - val_f1_m: 0.5394 - val_recall_m: 0.3934 - val_precision_m: 0.8647\n",
      "Epoch 29/50\n",
      "72/72 [==============================] - 3s 39ms/step - loss: 0.5447 - accuracy: 0.6760 - f1_m: 0.7733 - recall_m: 0.6578 - precision_m: 0.9536 - val_loss: 0.6467 - val_accuracy: 0.6121 - val_f1_m: 0.7445 - val_recall_m: 0.6551 - val_precision_m: 0.8644\n",
      "Epoch 30/50\n",
      "72/72 [==============================] - 3s 39ms/step - loss: 0.5359 - accuracy: 0.6873 - f1_m: 0.7831 - recall_m: 0.6701 - precision_m: 0.9554 - val_loss: 0.6228 - val_accuracy: 0.6539 - val_f1_m: 0.7813 - val_recall_m: 0.7146 - val_precision_m: 0.8637\n",
      "Epoch 31/50\n",
      "72/72 [==============================] - 3s 40ms/step - loss: 0.5315 - accuracy: 0.7028 - f1_m: 0.7978 - recall_m: 0.6912 - precision_m: 0.9537 - val_loss: 0.5848 - val_accuracy: 0.6935 - val_f1_m: 0.8122 - val_recall_m: 0.7663 - val_precision_m: 0.8654\n"
     ]
    },
    {
     "name": "stdout",
     "output_type": "stream",
     "text": [
      "Epoch 32/50\n",
      "72/72 [==============================] - 3s 45ms/step - loss: 0.5227 - accuracy: 0.7052 - f1_m: 0.7965 - recall_m: 0.6874 - precision_m: 0.9581 - val_loss: 0.5315 - val_accuracy: 0.7564 - val_f1_m: 0.8574 - val_recall_m: 0.8462 - val_precision_m: 0.8697\n",
      "Epoch 33/50\n",
      "72/72 [==============================] - 3s 37ms/step - loss: 0.5118 - accuracy: 0.7174 - f1_m: 0.8073 - recall_m: 0.7064 - precision_m: 0.9551 - val_loss: 0.9569 - val_accuracy: 0.4151 - val_f1_m: 0.5314 - val_recall_m: 0.3840 - val_precision_m: 0.8686\n",
      "Epoch 34/50\n",
      "72/72 [==============================] - 3s 40ms/step - loss: 0.5062 - accuracy: 0.7190 - f1_m: 0.8106 - recall_m: 0.7069 - precision_m: 0.9612 - val_loss: 0.6060 - val_accuracy: 0.6961 - val_f1_m: 0.8138 - val_recall_m: 0.7674 - val_precision_m: 0.8670\n",
      "Epoch 35/50\n",
      "72/72 [==============================] - 3s 40ms/step - loss: 0.4999 - accuracy: 0.7320 - f1_m: 0.8163 - recall_m: 0.7140 - precision_m: 0.9632 - val_loss: 0.6222 - val_accuracy: 0.6715 - val_f1_m: 0.7950 - val_recall_m: 0.7354 - val_precision_m: 0.8664\n",
      "Epoch 36/50\n",
      "72/72 [==============================] - 3s 39ms/step - loss: 0.4844 - accuracy: 0.7360 - f1_m: 0.8203 - recall_m: 0.7183 - precision_m: 0.9644 - val_loss: 0.6933 - val_accuracy: 0.6310 - val_f1_m: 0.7620 - val_recall_m: 0.6829 - val_precision_m: 0.8636\n",
      "Epoch 37/50\n",
      "72/72 [==============================] - 3s 39ms/step - loss: 0.4845 - accuracy: 0.7323 - f1_m: 0.8130 - recall_m: 0.7087 - precision_m: 0.9665 - val_loss: 0.5529 - val_accuracy: 0.7467 - val_f1_m: 0.8508 - val_recall_m: 0.8333 - val_precision_m: 0.8699\n",
      "Epoch 38/50\n",
      "72/72 [==============================] - 3s 38ms/step - loss: 0.4720 - accuracy: 0.7473 - f1_m: 0.8263 - recall_m: 0.7273 - precision_m: 0.9665 - val_loss: 0.6589 - val_accuracy: 0.6843 - val_f1_m: 0.8045 - val_recall_m: 0.7510 - val_precision_m: 0.8676\n",
      "Epoch 39/50\n",
      "72/72 [==============================] - 3s 40ms/step - loss: 0.4642 - accuracy: 0.7578 - f1_m: 0.8390 - recall_m: 0.7436 - precision_m: 0.9676 - val_loss: 0.7209 - val_accuracy: 0.6394 - val_f1_m: 0.7668 - val_recall_m: 0.6871 - val_precision_m: 0.8695\n",
      "Epoch 40/50\n",
      "72/72 [==============================] - 3s 48ms/step - loss: 0.4543 - accuracy: 0.7524 - f1_m: 0.8348 - recall_m: 0.7356 - precision_m: 0.9698 - val_loss: 0.6140 - val_accuracy: 0.7221 - val_f1_m: 0.8332 - val_recall_m: 0.8006 - val_precision_m: 0.8699\n",
      "Epoch 41/50\n",
      "72/72 [==============================] - 3s 38ms/step - loss: 0.4517 - accuracy: 0.7608 - f1_m: 0.8430 - recall_m: 0.7505 - precision_m: 0.9688 - val_loss: 0.7696 - val_accuracy: 0.5923 - val_f1_m: 0.7255 - val_recall_m: 0.6244 - val_precision_m: 0.8680\n",
      "Epoch 42/50\n",
      "72/72 [==============================] - 3s 41ms/step - loss: 0.4418 - accuracy: 0.7749 - f1_m: 0.8520 - recall_m: 0.7630 - precision_m: 0.9692 - val_loss: 0.7522 - val_accuracy: 0.6231 - val_f1_m: 0.7544 - val_recall_m: 0.6701 - val_precision_m: 0.8647\n",
      "Epoch 43/50\n",
      "72/72 [==============================] - 3s 44ms/step - loss: 0.4291 - accuracy: 0.7782 - f1_m: 0.8533 - recall_m: 0.7639 - precision_m: 0.9713 - val_loss: 0.6688 - val_accuracy: 0.7080 - val_f1_m: 0.8232 - val_recall_m: 0.7840 - val_precision_m: 0.8686\n",
      "Epoch 44/50\n",
      "72/72 [==============================] - 3s 41ms/step - loss: 0.4256 - accuracy: 0.7794 - f1_m: 0.8571 - recall_m: 0.7712 - precision_m: 0.9702 - val_loss: 0.7623 - val_accuracy: 0.6218 - val_f1_m: 0.7524 - val_recall_m: 0.6661 - val_precision_m: 0.8666\n",
      "Epoch 45/50\n",
      "72/72 [==============================] - 3s 41ms/step - loss: 0.4167 - accuracy: 0.7775 - f1_m: 0.8555 - recall_m: 0.7675 - precision_m: 0.9723 - val_loss: 0.8729 - val_accuracy: 0.5853 - val_f1_m: 0.7189 - val_recall_m: 0.6149 - val_precision_m: 0.8675\n",
      "Epoch 46/50\n",
      "72/72 [==============================] - 3s 40ms/step - loss: 0.4150 - accuracy: 0.7857 - f1_m: 0.8599 - recall_m: 0.7731 - precision_m: 0.9721 - val_loss: 0.7766 - val_accuracy: 0.6284 - val_f1_m: 0.7589 - val_recall_m: 0.6777 - val_precision_m: 0.8648\n",
      "Epoch 47/50\n",
      "72/72 [==============================] - 3s 39ms/step - loss: 0.4042 - accuracy: 0.7943 - f1_m: 0.8597 - recall_m: 0.7758 - precision_m: 0.9738 - val_loss: 0.7723 - val_accuracy: 0.6297 - val_f1_m: 0.7602 - val_recall_m: 0.6809 - val_precision_m: 0.8638\n",
      "Epoch 48/50\n",
      "72/72 [==============================] - 3s 38ms/step - loss: 0.3882 - accuracy: 0.8043 - f1_m: 0.8752 - recall_m: 0.7961 - precision_m: 0.9752 - val_loss: 0.8240 - val_accuracy: 0.6328 - val_f1_m: 0.7621 - val_recall_m: 0.6813 - val_precision_m: 0.8662\n",
      "Epoch 49/50\n",
      "72/72 [==============================] - 3s 38ms/step - loss: 0.3903 - accuracy: 0.8086 - f1_m: 0.8784 - recall_m: 0.8021 - precision_m: 0.9745 - val_loss: 0.8457 - val_accuracy: 0.6135 - val_f1_m: 0.7448 - val_recall_m: 0.6551 - val_precision_m: 0.8651\n",
      "Epoch 50/50\n",
      "72/72 [==============================] - 3s 38ms/step - loss: 0.3801 - accuracy: 0.8019 - f1_m: 0.8713 - recall_m: 0.7880 - precision_m: 0.9775 - val_loss: 0.7338 - val_accuracy: 0.6724 - val_f1_m: 0.7940 - val_recall_m: 0.7333 - val_precision_m: 0.8677\n"
     ]
    },
    {
     "data": {
      "text/plain": [
       "<tensorflow.python.keras.callbacks.History at 0x201ff50a288>"
      ]
     },
     "execution_count": 14,
     "metadata": {},
     "output_type": "execute_result"
    }
   ],
   "source": [
    "# Rapport model\n",
    "rapport_model = models_nn.create_nn_model()\n",
    "rapport_model.compile(loss='binary_crossentropy',optimizer=RMSprop(),metrics=['accuracy', models_nn.f1_m, \n",
    "                                                                              models_nn.recall_m, models_nn.precision_m])\n",
    "rapport_model.fit(X_train,y_train_rapport,\n",
    "                  batch_size=128,\n",
    "                  epochs=50,\n",
    "                  validation_data=(X_test, y_test_rapport), \n",
    "#                   callbacks=[models_nn.early_stop],\n",
    "                  class_weight=rapport_class_weight_dict)"
   ]
  },
  {
   "cell_type": "code",
   "execution_count": 15,
   "metadata": {},
   "outputs": [
    {
     "data": {
      "text/plain": [
       "(0.49625448028673835, 0.4935186317800676, 0.48095155664286604, None)"
      ]
     },
     "execution_count": 15,
     "metadata": {},
     "output_type": "execute_result"
    }
   ],
   "source": [
    "rapport_pred = rapport_model.predict(X_train)\n",
    "rapport_pred_test = rapport_model.predict(X_test)\n",
    "\n",
    "rapport_pred_test_round = rapport_pred_test.round()\n",
    "precision_recall_fscore_support(y_test_rapport, rapport_pred_test_round, average='macro')"
   ]
  },
  {
   "cell_type": "code",
   "execution_count": 16,
   "metadata": {},
   "outputs": [
    {
     "name": "stdout",
     "output_type": "stream",
     "text": [
      "Epoch 1/50\n",
      "72/72 [==============================] - 3s 45ms/step - loss: 0.6936 - accuracy: 0.8059 - f1_m: 0.8273 - recall_m: 0.8611 - precision_m: 0.7964 - val_loss: 0.6944 - val_accuracy: 0.0624 - val_f1_m: 0.0000e+00 - val_recall_m: 0.0000e+00 - val_precision_m: 0.0000e+00\n",
      "Epoch 2/50\n",
      "72/72 [==============================] - 3s 38ms/step - loss: 0.6932 - accuracy: 0.1189 - f1_m: 0.0782 - recall_m: 0.0619 - precision_m: 0.1714 - val_loss: 0.6894 - val_accuracy: 0.9376 - val_f1_m: 0.9675 - val_recall_m: 1.0000 - val_precision_m: 0.9372\n",
      "Epoch 3/50\n",
      "72/72 [==============================] - 3s 39ms/step - loss: 0.6933 - accuracy: 0.6712 - f1_m: 0.6680 - recall_m: 0.6887 - precision_m: 0.6599 - val_loss: 0.6685 - val_accuracy: 0.9376 - val_f1_m: 0.9675 - val_recall_m: 1.0000 - val_precision_m: 0.9372\n",
      "Epoch 4/50\n",
      "72/72 [==============================] - 3s 38ms/step - loss: 0.6919 - accuracy: 0.5779 - f1_m: 0.5890 - recall_m: 0.5929 - precision_m: 0.6397 - val_loss: 0.6217 - val_accuracy: 0.9380 - val_f1_m: 0.9677 - val_recall_m: 1.0000 - val_precision_m: 0.9376\n",
      "Epoch 5/50\n",
      "72/72 [==============================] - 3s 37ms/step - loss: 0.6820 - accuracy: 0.5052 - f1_m: 0.6246 - recall_m: 0.4972 - precision_m: 0.9501 - val_loss: 0.5545 - val_accuracy: 0.6570 - val_f1_m: 0.7853 - val_recall_m: 0.6712 - val_precision_m: 0.9486\n",
      "Epoch 6/50\n",
      "72/72 [==============================] - 3s 37ms/step - loss: 0.6671 - accuracy: 0.4735 - f1_m: 0.5999 - recall_m: 0.4524 - precision_m: 0.9650 - val_loss: 0.5530 - val_accuracy: 0.6592 - val_f1_m: 0.7874 - val_recall_m: 0.6757 - val_precision_m: 0.9458\n",
      "Epoch 7/50\n",
      "72/72 [==============================] - 3s 38ms/step - loss: 0.6438 - accuracy: 0.5200 - f1_m: 0.6508 - recall_m: 0.5036 - precision_m: 0.9685 - val_loss: 0.8650 - val_accuracy: 0.2792 - val_f1_m: 0.3885 - val_recall_m: 0.2451 - val_precision_m: 0.9466\n",
      "Epoch 8/50\n",
      "72/72 [==============================] - 3s 38ms/step - loss: 0.6267 - accuracy: 0.5370 - f1_m: 0.6637 - recall_m: 0.5173 - precision_m: 0.9735 - val_loss: 0.5058 - val_accuracy: 0.7010 - val_f1_m: 0.8193 - val_recall_m: 0.7248 - val_precision_m: 0.9445\n",
      "Epoch 9/50\n",
      "72/72 [==============================] - 3s 37ms/step - loss: 0.6132 - accuracy: 0.5536 - f1_m: 0.6770 - recall_m: 0.5347 - precision_m: 0.9749 - val_loss: 0.5472 - val_accuracy: 0.6447 - val_f1_m: 0.7765 - val_recall_m: 0.6601 - val_precision_m: 0.9455\n",
      "Epoch 10/50\n",
      "72/72 [==============================] - 3s 37ms/step - loss: 0.6003 - accuracy: 0.6056 - f1_m: 0.7248 - recall_m: 0.5878 - precision_m: 0.9694 - val_loss: 0.4973 - val_accuracy: 0.7564 - val_f1_m: 0.8587 - val_recall_m: 0.7914 - val_precision_m: 0.9396\n",
      "Epoch 11/50\n",
      "72/72 [==============================] - 3s 37ms/step - loss: 0.5906 - accuracy: 0.6152 - f1_m: 0.7325 - recall_m: 0.5970 - precision_m: 0.9768 - val_loss: 0.5110 - val_accuracy: 0.6992 - val_f1_m: 0.8185 - val_recall_m: 0.7251 - val_precision_m: 0.9413\n",
      "Epoch 12/50\n",
      "72/72 [==============================] - 3s 37ms/step - loss: 0.5816 - accuracy: 0.6233 - f1_m: 0.7458 - recall_m: 0.6118 - precision_m: 0.9787 - val_loss: 0.6226 - val_accuracy: 0.5919 - val_f1_m: 0.7342 - val_recall_m: 0.6024 - val_precision_m: 0.9421\n",
      "Epoch 13/50\n",
      "72/72 [==============================] - 3s 38ms/step - loss: 0.5751 - accuracy: 0.6088 - f1_m: 0.7153 - recall_m: 0.5834 - precision_m: 0.9667 - val_loss: 1.3010 - val_accuracy: 0.0844 - val_f1_m: 0.0482 - val_recall_m: 0.0248 - val_precision_m: 0.9565\n",
      "Epoch 14/50\n",
      "72/72 [==============================] - 3s 37ms/step - loss: 0.6081 - accuracy: 0.5239 - f1_m: 0.6189 - recall_m: 0.5043 - precision_m: 0.9813 - val_loss: 0.4663 - val_accuracy: 0.7449 - val_f1_m: 0.8507 - val_recall_m: 0.7775 - val_precision_m: 0.9402\n",
      "Epoch 15/50\n",
      "72/72 [==============================] - 3s 37ms/step - loss: 0.5724 - accuracy: 0.6566 - f1_m: 0.7736 - recall_m: 0.6523 - precision_m: 0.9772 - val_loss: 0.5481 - val_accuracy: 0.6799 - val_f1_m: 0.8046 - val_recall_m: 0.7042 - val_precision_m: 0.9398\n",
      "Epoch 16/50\n",
      "72/72 [==============================] - 3s 37ms/step - loss: 0.5608 - accuracy: 0.6633 - f1_m: 0.7779 - recall_m: 0.6549 - precision_m: 0.9780 - val_loss: 0.5188 - val_accuracy: 0.7172 - val_f1_m: 0.8317 - val_recall_m: 0.7475 - val_precision_m: 0.9385\n",
      "Epoch 17/50\n",
      "72/72 [==============================] - 3s 37ms/step - loss: 0.5524 - accuracy: 0.6792 - f1_m: 0.7862 - recall_m: 0.6665 - precision_m: 0.9798 - val_loss: 0.5028 - val_accuracy: 0.7274 - val_f1_m: 0.8385 - val_recall_m: 0.7581 - val_precision_m: 0.9392\n",
      "Epoch 18/50\n",
      "72/72 [==============================] - 3s 38ms/step - loss: 0.5540 - accuracy: 0.6609 - f1_m: 0.7698 - recall_m: 0.6496 - precision_m: 0.9809 - val_loss: 0.4572 - val_accuracy: 0.7709 - val_f1_m: 0.8682 - val_recall_m: 0.8078 - val_precision_m: 0.9398\n",
      "Epoch 19/50\n",
      "72/72 [==============================] - 3s 37ms/step - loss: 0.5310 - accuracy: 0.6982 - f1_m: 0.8069 - recall_m: 0.6922 - precision_m: 0.9817 - val_loss: 0.3853 - val_accuracy: 0.8382 - val_f1_m: 0.9109 - val_recall_m: 0.8844 - val_precision_m: 0.9399\n",
      "Epoch 20/50\n",
      "72/72 [==============================] - 3s 38ms/step - loss: 0.5249 - accuracy: 0.6958 - f1_m: 0.8035 - recall_m: 0.6909 - precision_m: 0.9774 - val_loss: 1.1517 - val_accuracy: 0.3232 - val_f1_m: 0.4463 - val_recall_m: 0.2921 - val_precision_m: 0.9552\n",
      "Epoch 21/50\n",
      "72/72 [==============================] - 3s 38ms/step - loss: 0.5262 - accuracy: 0.6842 - f1_m: 0.7942 - recall_m: 0.6747 - precision_m: 0.9820 - val_loss: 0.6816 - val_accuracy: 0.5638 - val_f1_m: 0.7099 - val_recall_m: 0.5709 - val_precision_m: 0.9411\n",
      "Epoch 22/50\n",
      "72/72 [==============================] - 3s 38ms/step - loss: 0.5234 - accuracy: 0.6926 - f1_m: 0.7984 - recall_m: 0.6818 - precision_m: 0.9828 - val_loss: 0.6642 - val_accuracy: 0.6095 - val_f1_m: 0.7497 - val_recall_m: 0.6256 - val_precision_m: 0.9379\n",
      "Epoch 23/50\n",
      "72/72 [==============================] - 3s 38ms/step - loss: 0.4994 - accuracy: 0.7156 - f1_m: 0.8201 - recall_m: 0.7099 - precision_m: 0.9836 - val_loss: 0.5327 - val_accuracy: 0.7194 - val_f1_m: 0.8334 - val_recall_m: 0.7500 - val_precision_m: 0.9392\n",
      "Epoch 24/50\n",
      "72/72 [==============================] - 3s 37ms/step - loss: 0.5116 - accuracy: 0.6973 - f1_m: 0.8017 - recall_m: 0.6875 - precision_m: 0.9835 - val_loss: 0.4899 - val_accuracy: 0.7278 - val_f1_m: 0.8395 - val_recall_m: 0.7608 - val_precision_m: 0.9379\n",
      "Epoch 25/50\n",
      "72/72 [==============================] - 3s 38ms/step - loss: 0.5052 - accuracy: 0.7135 - f1_m: 0.8141 - recall_m: 0.7036 - precision_m: 0.9815 - val_loss: 0.4792 - val_accuracy: 0.7511 - val_f1_m: 0.8553 - val_recall_m: 0.7876 - val_precision_m: 0.9372\n",
      "Epoch 26/50\n",
      "72/72 [==============================] - 3s 37ms/step - loss: 0.4956 - accuracy: 0.7071 - f1_m: 0.8098 - recall_m: 0.6980 - precision_m: 0.9830 - val_loss: 0.5393 - val_accuracy: 0.7089 - val_f1_m: 0.8258 - val_recall_m: 0.7389 - val_precision_m: 0.9378\n",
      "Epoch 27/50\n",
      "72/72 [==============================] - 3s 38ms/step - loss: 0.4949 - accuracy: 0.7081 - f1_m: 0.8114 - recall_m: 0.7018 - precision_m: 0.9850 - val_loss: 0.4865 - val_accuracy: 0.7471 - val_f1_m: 0.8526 - val_recall_m: 0.7825 - val_precision_m: 0.9378\n",
      "Epoch 28/50\n",
      "72/72 [==============================] - 3s 38ms/step - loss: 0.4898 - accuracy: 0.7308 - f1_m: 0.8258 - recall_m: 0.7210 - precision_m: 0.9829 - val_loss: 0.4887 - val_accuracy: 0.7348 - val_f1_m: 0.8443 - val_recall_m: 0.7691 - val_precision_m: 0.9374\n",
      "Epoch 29/50\n",
      "72/72 [==============================] - 3s 38ms/step - loss: 0.4859 - accuracy: 0.7268 - f1_m: 0.8263 - recall_m: 0.7189 - precision_m: 0.9840 - val_loss: 0.6454 - val_accuracy: 0.6310 - val_f1_m: 0.7666 - val_recall_m: 0.6486 - val_precision_m: 0.9396\n",
      "Epoch 30/50\n",
      "72/72 [==============================] - 3s 38ms/step - loss: 0.4744 - accuracy: 0.7246 - f1_m: 0.8155 - recall_m: 0.7100 - precision_m: 0.9848 - val_loss: 0.7372 - val_accuracy: 0.5018 - val_f1_m: 0.6514 - val_recall_m: 0.4993 - val_precision_m: 0.9410\n",
      "Epoch 31/50\n",
      "72/72 [==============================] - 3s 39ms/step - loss: 0.4610 - accuracy: 0.7376 - f1_m: 0.8276 - recall_m: 0.7214 - precision_m: 0.9870 - val_loss: 0.5250 - val_accuracy: 0.7137 - val_f1_m: 0.8297 - val_recall_m: 0.7454 - val_precision_m: 0.9375\n"
     ]
    },
    {
     "name": "stdout",
     "output_type": "stream",
     "text": [
      "Epoch 32/50\n",
      "72/72 [==============================] - 3s 38ms/step - loss: 0.4653 - accuracy: 0.7412 - f1_m: 0.8369 - recall_m: 0.7371 - precision_m: 0.9852 - val_loss: 0.9225 - val_accuracy: 0.5255 - val_f1_m: 0.6731 - val_recall_m: 0.5254 - val_precision_m: 0.9413\n",
      "Epoch 33/50\n",
      "72/72 [==============================] - 3s 37ms/step - loss: 0.4591 - accuracy: 0.7400 - f1_m: 0.8334 - recall_m: 0.7314 - precision_m: 0.9858 - val_loss: 0.4748 - val_accuracy: 0.7691 - val_f1_m: 0.8672 - val_recall_m: 0.8072 - val_precision_m: 0.9380\n",
      "Epoch 34/50\n",
      "72/72 [==============================] - 3s 38ms/step - loss: 0.4456 - accuracy: 0.7549 - f1_m: 0.8429 - recall_m: 0.7434 - precision_m: 0.9867 - val_loss: 0.7696 - val_accuracy: 0.5528 - val_f1_m: 0.6981 - val_recall_m: 0.5548 - val_precision_m: 0.9448\n",
      "Epoch 35/50\n",
      "72/72 [==============================] - 3s 38ms/step - loss: 0.4480 - accuracy: 0.7462 - f1_m: 0.8394 - recall_m: 0.7411 - precision_m: 0.9868 - val_loss: 0.9919 - val_accuracy: 0.4894 - val_f1_m: 0.6372 - val_recall_m: 0.4818 - val_precision_m: 0.9458\n",
      "Epoch 36/50\n",
      "72/72 [==============================] - 3s 38ms/step - loss: 0.4389 - accuracy: 0.7533 - f1_m: 0.8422 - recall_m: 0.7412 - precision_m: 0.9875 - val_loss: 0.4471 - val_accuracy: 0.7867 - val_f1_m: 0.8788 - val_recall_m: 0.8290 - val_precision_m: 0.9362\n",
      "Epoch 37/50\n",
      "72/72 [==============================] - 3s 37ms/step - loss: 0.4321 - accuracy: 0.7698 - f1_m: 0.8594 - recall_m: 0.7665 - precision_m: 0.9861 - val_loss: 0.4836 - val_accuracy: 0.7806 - val_f1_m: 0.8747 - val_recall_m: 0.8211 - val_precision_m: 0.9371\n",
      "Epoch 38/50\n",
      "72/72 [==============================] - 3s 37ms/step - loss: 0.4267 - accuracy: 0.7690 - f1_m: 0.8557 - recall_m: 0.7610 - precision_m: 0.9876 - val_loss: 0.5262 - val_accuracy: 0.7361 - val_f1_m: 0.8448 - val_recall_m: 0.7696 - val_precision_m: 0.9373\n",
      "Epoch 39/50\n",
      "72/72 [==============================] - 3s 38ms/step - loss: 0.4297 - accuracy: 0.7708 - f1_m: 0.8578 - recall_m: 0.7668 - precision_m: 0.9836 - val_loss: 0.5288 - val_accuracy: 0.7133 - val_f1_m: 0.8287 - val_recall_m: 0.7441 - val_precision_m: 0.9361\n",
      "Epoch 40/50\n",
      "72/72 [==============================] - 3s 37ms/step - loss: 0.4092 - accuracy: 0.7826 - f1_m: 0.8649 - recall_m: 0.7744 - precision_m: 0.9880 - val_loss: 0.7753 - val_accuracy: 0.5985 - val_f1_m: 0.7392 - val_recall_m: 0.6099 - val_precision_m: 0.9398\n",
      "Epoch 41/50\n",
      "72/72 [==============================] - 3s 38ms/step - loss: 0.4012 - accuracy: 0.7821 - f1_m: 0.8674 - recall_m: 0.7780 - precision_m: 0.9884 - val_loss: 0.7297 - val_accuracy: 0.6214 - val_f1_m: 0.7578 - val_recall_m: 0.6352 - val_precision_m: 0.9402\n",
      "Epoch 42/50\n",
      "72/72 [==============================] - 3s 38ms/step - loss: 0.3911 - accuracy: 0.7856 - f1_m: 0.8696 - recall_m: 0.7815 - precision_m: 0.9888 - val_loss: 0.4943 - val_accuracy: 0.7784 - val_f1_m: 0.8735 - val_recall_m: 0.8190 - val_precision_m: 0.9369\n",
      "Epoch 43/50\n",
      "72/72 [==============================] - 3s 38ms/step - loss: 0.3839 - accuracy: 0.7923 - f1_m: 0.8724 - recall_m: 0.7853 - precision_m: 0.9887 - val_loss: 0.4972 - val_accuracy: 0.7907 - val_f1_m: 0.8813 - val_recall_m: 0.8328 - val_precision_m: 0.9366\n",
      "Epoch 44/50\n",
      "72/72 [==============================] - 3s 38ms/step - loss: 0.3888 - accuracy: 0.7881 - f1_m: 0.8691 - recall_m: 0.7808 - precision_m: 0.9889 - val_loss: 0.5487 - val_accuracy: 0.7445 - val_f1_m: 0.8504 - val_recall_m: 0.7781 - val_precision_m: 0.9386\n",
      "Epoch 45/50\n",
      "72/72 [==============================] - 3s 37ms/step - loss: 0.3765 - accuracy: 0.7931 - f1_m: 0.8736 - recall_m: 0.7887 - precision_m: 0.9898 - val_loss: 0.5247 - val_accuracy: 0.7559 - val_f1_m: 0.8584 - val_recall_m: 0.7927 - val_precision_m: 0.9369\n",
      "Epoch 46/50\n",
      "72/72 [==============================] - 3s 38ms/step - loss: 0.3745 - accuracy: 0.7929 - f1_m: 0.8697 - recall_m: 0.7818 - precision_m: 0.9899 - val_loss: 0.4512 - val_accuracy: 0.8047 - val_f1_m: 0.8904 - val_recall_m: 0.8490 - val_precision_m: 0.9369\n",
      "Epoch 47/50\n",
      "72/72 [==============================] - 3s 37ms/step - loss: 0.3687 - accuracy: 0.8000 - f1_m: 0.8790 - recall_m: 0.7958 - precision_m: 0.9907 - val_loss: 0.5789 - val_accuracy: 0.7304 - val_f1_m: 0.8410 - val_recall_m: 0.7619 - val_precision_m: 0.9395\n",
      "Epoch 48/50\n",
      "72/72 [==============================] - 3s 38ms/step - loss: 0.3508 - accuracy: 0.8108 - f1_m: 0.8848 - recall_m: 0.8032 - precision_m: 0.9912 - val_loss: 0.5696 - val_accuracy: 0.7449 - val_f1_m: 0.8509 - val_recall_m: 0.7801 - val_precision_m: 0.9369\n",
      "Epoch 49/50\n",
      "72/72 [==============================] - 3s 39ms/step - loss: 0.3471 - accuracy: 0.8141 - f1_m: 0.8895 - recall_m: 0.8100 - precision_m: 0.9912 - val_loss: 0.5987 - val_accuracy: 0.7304 - val_f1_m: 0.8408 - val_recall_m: 0.7625 - val_precision_m: 0.9384\n",
      "Epoch 50/50\n",
      "72/72 [==============================] - 3s 39ms/step - loss: 0.3312 - accuracy: 0.8226 - f1_m: 0.8922 - recall_m: 0.8145 - precision_m: 0.9923 - val_loss: 0.7084 - val_accuracy: 0.6614 - val_f1_m: 0.7894 - val_recall_m: 0.6799 - val_precision_m: 0.9422\n"
     ]
    },
    {
     "data": {
      "text/plain": [
       "<tensorflow.python.keras.callbacks.History at 0x201fdb42148>"
      ]
     },
     "execution_count": 16,
     "metadata": {},
     "output_type": "execute_result"
    }
   ],
   "source": [
    "# Game move model\n",
    "gamemove_model = models_nn.create_nn_model()\n",
    "gamemove_model.compile(loss='binary_crossentropy',optimizer=RMSprop(),metrics=['accuracy', models_nn.f1_m, \n",
    "                                                                               models_nn.recall_m, models_nn.precision_m])\n",
    "gamemove_model.fit(X_train,\n",
    "                   y_train_gamemove,\n",
    "                   batch_size=128,\n",
    "                   epochs=50,\n",
    "                   validation_data=(X_test, y_test_gamemove), \n",
    "#                    callbacks=[models_nn.early_stop],\n",
    "                   class_weight=gamemove_class_weight_dict)"
   ]
  },
  {
   "cell_type": "code",
   "execution_count": 17,
   "metadata": {},
   "outputs": [
    {
     "data": {
      "text/plain": [
       "(0.5080762000339232, 0.5301971302486589, 0.45659878470390347, None)"
      ]
     },
     "execution_count": 17,
     "metadata": {},
     "output_type": "execute_result"
    }
   ],
   "source": [
    "gamemove_pred = gamemove_model.predict(X_train)\n",
    "gamemove_pred_test = gamemove_model.predict(X_test)\n",
    "\n",
    "gamemove_pred_test_round = gamemove_pred_test.round()\n",
    "precision_recall_fscore_support(y_test_gamemove, gamemove_pred_test_round, average='macro')"
   ]
  },
  {
   "cell_type": "code",
   "execution_count": 18,
   "metadata": {},
   "outputs": [
    {
     "name": "stdout",
     "output_type": "stream",
     "text": [
      "Epoch 1/50\n",
      "72/72 [==============================] - 4s 54ms/step - loss: 0.6932 - accuracy: 0.2694 - f1_m: 0.1517 - recall_m: 0.1665 - precision_m: 0.1396 - val_loss: 0.6871 - val_accuracy: 0.8219 - val_f1_m: 0.9011 - val_recall_m: 1.0000 - val_precision_m: 0.8212\n",
      "Epoch 2/50\n",
      "72/72 [==============================] - 3s 46ms/step - loss: 0.6933 - accuracy: 0.7013 - f1_m: 0.7480 - recall_m: 0.8102 - precision_m: 0.7409 - val_loss: 0.6889 - val_accuracy: 0.8219 - val_f1_m: 0.9011 - val_recall_m: 1.0000 - val_precision_m: 0.8212\n",
      "Epoch 3/50\n",
      "72/72 [==============================] - 3s 42ms/step - loss: 0.6934 - accuracy: 0.5486 - f1_m: 0.5406 - recall_m: 0.5785 - precision_m: 0.6066 - val_loss: 0.6836 - val_accuracy: 0.8219 - val_f1_m: 0.9011 - val_recall_m: 1.0000 - val_precision_m: 0.8212\n",
      "Epoch 4/50\n",
      "72/72 [==============================] - 3s 40ms/step - loss: 0.6919 - accuracy: 0.7782 - f1_m: 0.8537 - recall_m: 0.9009 - precision_m: 0.8258 - val_loss: 0.6833 - val_accuracy: 0.6922 - val_f1_m: 0.8053 - val_recall_m: 0.7814 - val_precision_m: 0.8325\n",
      "Epoch 5/50\n",
      "72/72 [==============================] - 3s 38ms/step - loss: 0.6940 - accuracy: 0.6416 - f1_m: 0.7138 - recall_m: 0.7027 - precision_m: 0.7528 - val_loss: 0.7501 - val_accuracy: 0.1781 - val_f1_m: 0.0000e+00 - val_recall_m: 0.0000e+00 - val_precision_m: 0.0000e+00\n",
      "Epoch 6/50\n",
      "72/72 [==============================] - 3s 37ms/step - loss: 0.6946 - accuracy: 0.5002 - f1_m: 0.4738 - recall_m: 0.5069 - precision_m: 0.4732 - val_loss: 0.7433 - val_accuracy: 0.1781 - val_f1_m: 0.0000e+00 - val_recall_m: 0.0000e+00 - val_precision_m: 0.0000e+00\n",
      "Epoch 7/50\n",
      "72/72 [==============================] - 3s 39ms/step - loss: 0.6932 - accuracy: 0.5266 - f1_m: 0.5105 - recall_m: 0.5264 - precision_m: 0.5774 - val_loss: 0.8531 - val_accuracy: 0.1781 - val_f1_m: 0.0000e+00 - val_recall_m: 0.0000e+00 - val_precision_m: 0.0000e+00\n",
      "Epoch 8/50\n",
      "72/72 [==============================] - 3s 42ms/step - loss: 0.6900 - accuracy: 0.4403 - f1_m: 0.4330 - recall_m: 0.3943 - precision_m: 0.6958 - val_loss: 0.7847 - val_accuracy: 0.1812 - val_f1_m: 0.0082 - val_recall_m: 0.0042 - val_precision_m: 0.3889\n",
      "Epoch 9/50\n",
      "72/72 [==============================] - 3s 44ms/step - loss: 0.6700 - accuracy: 0.5706 - f1_m: 0.6455 - recall_m: 0.5542 - precision_m: 0.8966 - val_loss: 0.6166 - val_accuracy: 0.7221 - val_f1_m: 0.8320 - val_recall_m: 0.8432 - val_precision_m: 0.8240\n",
      "Epoch 10/50\n",
      "72/72 [==============================] - 3s 40ms/step - loss: 0.6604 - accuracy: 0.6229 - f1_m: 0.7194 - recall_m: 0.6371 - precision_m: 0.8871 - val_loss: 0.7722 - val_accuracy: 0.3624 - val_f1_m: 0.4156 - val_recall_m: 0.2779 - val_precision_m: 0.8362\n",
      "Epoch 11/50\n",
      "72/72 [==============================] - 3s 39ms/step - loss: 0.6450 - accuracy: 0.6193 - f1_m: 0.7146 - recall_m: 0.6119 - precision_m: 0.8972 - val_loss: 0.5721 - val_accuracy: 0.7199 - val_f1_m: 0.8306 - val_recall_m: 0.8420 - val_precision_m: 0.8225\n",
      "Epoch 12/50\n",
      "72/72 [==============================] - 3s 39ms/step - loss: 0.6357 - accuracy: 0.6391 - f1_m: 0.7354 - recall_m: 0.6422 - precision_m: 0.8988 - val_loss: 0.7618 - val_accuracy: 0.4208 - val_f1_m: 0.5088 - val_recall_m: 0.3676 - val_precision_m: 0.8339\n",
      "Epoch 13/50\n",
      "72/72 [==============================] - 3s 38ms/step - loss: 0.6449 - accuracy: 0.6196 - f1_m: 0.6987 - recall_m: 0.6178 - precision_m: 0.9058 - val_loss: 0.7000 - val_accuracy: 0.4877 - val_f1_m: 0.6014 - val_recall_m: 0.4726 - val_precision_m: 0.8313\n",
      "Epoch 14/50\n",
      "72/72 [==============================] - 3s 39ms/step - loss: 0.6370 - accuracy: 0.5844 - f1_m: 0.6696 - recall_m: 0.5522 - precision_m: 0.9201 - val_loss: 0.5580 - val_accuracy: 0.7300 - val_f1_m: 0.8376 - val_recall_m: 0.8523 - val_precision_m: 0.8258\n",
      "Epoch 15/50\n",
      "72/72 [==============================] - 3s 38ms/step - loss: 0.6220 - accuracy: 0.6743 - f1_m: 0.7690 - recall_m: 0.6823 - precision_m: 0.9058 - val_loss: 0.5750 - val_accuracy: 0.7366 - val_f1_m: 0.8429 - val_recall_m: 0.8641 - val_precision_m: 0.8247\n",
      "Epoch 16/50\n",
      "72/72 [==============================] - 3s 37ms/step - loss: 0.6227 - accuracy: 0.6777 - f1_m: 0.7740 - recall_m: 0.6928 - precision_m: 0.9073 - val_loss: 0.5401 - val_accuracy: 0.8122 - val_f1_m: 0.8948 - val_recall_m: 0.9841 - val_precision_m: 0.8217\n",
      "Epoch 17/50\n",
      "72/72 [==============================] - 3s 37ms/step - loss: 0.6418 - accuracy: 0.6562 - f1_m: 0.7494 - recall_m: 0.6710 - precision_m: 0.8971 - val_loss: 0.8210 - val_accuracy: 0.3949 - val_f1_m: 0.4742 - val_recall_m: 0.3353 - val_precision_m: 0.8201\n",
      "Epoch 18/50\n",
      "72/72 [==============================] - 3s 38ms/step - loss: 0.5991 - accuracy: 0.6522 - f1_m: 0.7422 - recall_m: 0.6342 - precision_m: 0.9210 - val_loss: 0.6484 - val_accuracy: 0.6236 - val_f1_m: 0.7476 - val_recall_m: 0.6822 - val_precision_m: 0.8310\n",
      "Epoch 19/50\n",
      "72/72 [==============================] - 3s 38ms/step - loss: 0.5817 - accuracy: 0.6736 - f1_m: 0.7687 - recall_m: 0.6652 - precision_m: 0.9238 - val_loss: 0.5683 - val_accuracy: 0.7225 - val_f1_m: 0.8320 - val_recall_m: 0.8404 - val_precision_m: 0.8265\n",
      "Epoch 20/50\n",
      "72/72 [==============================] - 3s 38ms/step - loss: 0.5803 - accuracy: 0.6803 - f1_m: 0.7717 - recall_m: 0.6721 - precision_m: 0.9260 - val_loss: 0.6473 - val_accuracy: 0.6403 - val_f1_m: 0.7618 - val_recall_m: 0.7042 - val_precision_m: 0.8326\n",
      "Epoch 21/50\n",
      "72/72 [==============================] - 3s 38ms/step - loss: 0.5665 - accuracy: 0.6885 - f1_m: 0.7761 - recall_m: 0.6768 - precision_m: 0.9202 - val_loss: 0.7688 - val_accuracy: 0.4859 - val_f1_m: 0.6008 - val_recall_m: 0.4740 - val_precision_m: 0.8270\n",
      "Epoch 22/50\n",
      "72/72 [==============================] - 3s 37ms/step - loss: 0.5796 - accuracy: 0.6914 - f1_m: 0.7835 - recall_m: 0.6867 - precision_m: 0.9266 - val_loss: 0.8425 - val_accuracy: 0.3509 - val_f1_m: 0.4081 - val_recall_m: 0.2752 - val_precision_m: 0.8028\n",
      "Epoch 23/50\n",
      "72/72 [==============================] - 3s 37ms/step - loss: 0.5754 - accuracy: 0.6883 - f1_m: 0.7817 - recall_m: 0.6888 - precision_m: 0.9237 - val_loss: 0.9381 - val_accuracy: 0.3962 - val_f1_m: 0.4735 - val_recall_m: 0.3337 - val_precision_m: 0.8270\n",
      "Epoch 24/50\n",
      "72/72 [==============================] - 3s 37ms/step - loss: 0.5427 - accuracy: 0.7024 - f1_m: 0.7932 - recall_m: 0.6922 - precision_m: 0.9407 - val_loss: 0.7656 - val_accuracy: 0.5616 - val_f1_m: 0.6857 - val_recall_m: 0.5863 - val_precision_m: 0.8281\n",
      "Epoch 25/50\n",
      "72/72 [==============================] - 3s 37ms/step - loss: 0.5291 - accuracy: 0.7156 - f1_m: 0.8009 - recall_m: 0.7019 - precision_m: 0.9396 - val_loss: 0.9922 - val_accuracy: 0.3839 - val_f1_m: 0.4507 - val_recall_m: 0.3107 - val_precision_m: 0.8344\n",
      "Epoch 26/50\n",
      "72/72 [==============================] - 3s 37ms/step - loss: 0.5221 - accuracy: 0.7154 - f1_m: 0.7986 - recall_m: 0.6977 - precision_m: 0.9454 - val_loss: 0.6016 - val_accuracy: 0.7045 - val_f1_m: 0.8164 - val_recall_m: 0.8051 - val_precision_m: 0.8301\n",
      "Epoch 27/50\n",
      "72/72 [==============================] - 3s 38ms/step - loss: 0.5144 - accuracy: 0.7326 - f1_m: 0.8117 - recall_m: 0.7209 - precision_m: 0.9403 - val_loss: 0.6917 - val_accuracy: 0.6249 - val_f1_m: 0.7491 - val_recall_m: 0.6850 - val_precision_m: 0.8297\n",
      "Epoch 28/50\n",
      "72/72 [==============================] - 3s 38ms/step - loss: 0.5042 - accuracy: 0.7405 - f1_m: 0.8233 - recall_m: 0.7318 - precision_m: 0.9453 - val_loss: 0.7196 - val_accuracy: 0.5945 - val_f1_m: 0.7184 - val_recall_m: 0.6338 - val_precision_m: 0.8328\n",
      "Epoch 29/50\n",
      "72/72 [==============================] - 3s 38ms/step - loss: 0.4969 - accuracy: 0.7451 - f1_m: 0.8253 - recall_m: 0.7342 - precision_m: 0.9481 - val_loss: 0.8108 - val_accuracy: 0.5734 - val_f1_m: 0.7012 - val_recall_m: 0.6138 - val_precision_m: 0.8221\n",
      "Epoch 30/50\n",
      "72/72 [==============================] - 3s 37ms/step - loss: 0.5818 - accuracy: 0.7085 - f1_m: 0.7986 - recall_m: 0.7141 - precision_m: 0.9202 - val_loss: 0.6511 - val_accuracy: 0.6733 - val_f1_m: 0.7911 - val_recall_m: 0.7583 - val_precision_m: 0.8293\n",
      "Epoch 31/50\n",
      "72/72 [==============================] - 3s 38ms/step - loss: 0.4902 - accuracy: 0.7377 - f1_m: 0.8222 - recall_m: 0.7297 - precision_m: 0.9477 - val_loss: 0.7252 - val_accuracy: 0.6662 - val_f1_m: 0.7850 - val_recall_m: 0.7471 - val_precision_m: 0.8289\n"
     ]
    },
    {
     "name": "stdout",
     "output_type": "stream",
     "text": [
      "Epoch 32/50\n",
      "72/72 [==============================] - 3s 37ms/step - loss: 0.4796 - accuracy: 0.7480 - f1_m: 0.8262 - recall_m: 0.7317 - precision_m: 0.9548 - val_loss: 0.7092 - val_accuracy: 0.6328 - val_f1_m: 0.7559 - val_recall_m: 0.6976 - val_precision_m: 0.8274\n",
      "Epoch 33/50\n",
      "72/72 [==============================] - 3s 38ms/step - loss: 0.4722 - accuracy: 0.7565 - f1_m: 0.8340 - recall_m: 0.7470 - precision_m: 0.9516 - val_loss: 0.8884 - val_accuracy: 0.4815 - val_f1_m: 0.5948 - val_recall_m: 0.4665 - val_precision_m: 0.8285\n",
      "Epoch 34/50\n",
      "72/72 [==============================] - 3s 38ms/step - loss: 0.4961 - accuracy: 0.7411 - f1_m: 0.8185 - recall_m: 0.7268 - precision_m: 0.9491 - val_loss: 0.6928 - val_accuracy: 0.6495 - val_f1_m: 0.7693 - val_recall_m: 0.7172 - val_precision_m: 0.8320\n",
      "Epoch 35/50\n",
      "72/72 [==============================] - 3s 38ms/step - loss: 0.4606 - accuracy: 0.7613 - f1_m: 0.8399 - recall_m: 0.7526 - precision_m: 0.9549 - val_loss: 0.7943 - val_accuracy: 0.6073 - val_f1_m: 0.7317 - val_recall_m: 0.6573 - val_precision_m: 0.8282\n",
      "Epoch 36/50\n",
      "72/72 [==============================] - 3s 38ms/step - loss: 0.4536 - accuracy: 0.7651 - f1_m: 0.8424 - recall_m: 0.7525 - precision_m: 0.9608 - val_loss: 0.8817 - val_accuracy: 0.5783 - val_f1_m: 0.7019 - val_recall_m: 0.6101 - val_precision_m: 0.8308\n",
      "Epoch 37/50\n",
      "72/72 [==============================] - 3s 37ms/step - loss: 0.4549 - accuracy: 0.7656 - f1_m: 0.8386 - recall_m: 0.7484 - precision_m: 0.9592 - val_loss: 0.7366 - val_accuracy: 0.6464 - val_f1_m: 0.7683 - val_recall_m: 0.7187 - val_precision_m: 0.8279\n",
      "Epoch 38/50\n",
      "72/72 [==============================] - 3s 38ms/step - loss: 0.4396 - accuracy: 0.7763 - f1_m: 0.8512 - recall_m: 0.7658 - precision_m: 0.9613 - val_loss: 0.7555 - val_accuracy: 0.6588 - val_f1_m: 0.7781 - val_recall_m: 0.7349 - val_precision_m: 0.8289\n",
      "Epoch 39/50\n",
      "72/72 [==============================] - 3s 37ms/step - loss: 0.4323 - accuracy: 0.7788 - f1_m: 0.8524 - recall_m: 0.7669 - precision_m: 0.9624 - val_loss: 1.0450 - val_accuracy: 0.5268 - val_f1_m: 0.6478 - val_recall_m: 0.5343 - val_precision_m: 0.8267\n",
      "Epoch 40/50\n",
      "72/72 [==============================] - 3s 38ms/step - loss: 0.4248 - accuracy: 0.7753 - f1_m: 0.8449 - recall_m: 0.7548 - precision_m: 0.9645 - val_loss: 0.7302 - val_accuracy: 0.6266 - val_f1_m: 0.7495 - val_recall_m: 0.6845 - val_precision_m: 0.8307\n",
      "Epoch 41/50\n",
      "72/72 [==============================] - 3s 38ms/step - loss: 0.4153 - accuracy: 0.7875 - f1_m: 0.8569 - recall_m: 0.7728 - precision_m: 0.9653 - val_loss: 0.7604 - val_accuracy: 0.6702 - val_f1_m: 0.7881 - val_recall_m: 0.7531 - val_precision_m: 0.8284\n",
      "Epoch 42/50\n",
      "72/72 [==============================] - 3s 38ms/step - loss: 0.4063 - accuracy: 0.7894 - f1_m: 0.8597 - recall_m: 0.7758 - precision_m: 0.9672 - val_loss: 0.7577 - val_accuracy: 0.6649 - val_f1_m: 0.7845 - val_recall_m: 0.7476 - val_precision_m: 0.8272\n",
      "Epoch 43/50\n",
      "72/72 [==============================] - 3s 38ms/step - loss: 0.4001 - accuracy: 0.7984 - f1_m: 0.8604 - recall_m: 0.7783 - precision_m: 0.9680 - val_loss: 0.8446 - val_accuracy: 0.6262 - val_f1_m: 0.7489 - val_recall_m: 0.6827 - val_precision_m: 0.8324\n",
      "Epoch 44/50\n",
      "72/72 [==============================] - 3s 37ms/step - loss: 0.3892 - accuracy: 0.8007 - f1_m: 0.8665 - recall_m: 0.7853 - precision_m: 0.9697 - val_loss: 0.8612 - val_accuracy: 0.6297 - val_f1_m: 0.7530 - val_recall_m: 0.6912 - val_precision_m: 0.8298\n",
      "Epoch 45/50\n",
      "72/72 [==============================] - 3s 37ms/step - loss: 0.3816 - accuracy: 0.8027 - f1_m: 0.8696 - recall_m: 0.7896 - precision_m: 0.9709 - val_loss: 0.8387 - val_accuracy: 0.6557 - val_f1_m: 0.7758 - val_recall_m: 0.7307 - val_precision_m: 0.8284\n",
      "Epoch 46/50\n",
      "72/72 [==============================] - 3s 37ms/step - loss: 0.3723 - accuracy: 0.8096 - f1_m: 0.8699 - recall_m: 0.7889 - precision_m: 0.9734 - val_loss: 0.7672 - val_accuracy: 0.7005 - val_f1_m: 0.8131 - val_recall_m: 0.8002 - val_precision_m: 0.8282\n",
      "Epoch 47/50\n",
      "72/72 [==============================] - 3s 38ms/step - loss: 0.3614 - accuracy: 0.8160 - f1_m: 0.8794 - recall_m: 0.8037 - precision_m: 0.9738 - val_loss: 0.9271 - val_accuracy: 0.5435 - val_f1_m: 0.6692 - val_recall_m: 0.5658 - val_precision_m: 0.8252\n",
      "Epoch 48/50\n",
      "72/72 [==============================] - 3s 38ms/step - loss: 0.3561 - accuracy: 0.8156 - f1_m: 0.8740 - recall_m: 0.7950 - precision_m: 0.9748 - val_loss: 1.0679 - val_accuracy: 0.5391 - val_f1_m: 0.6598 - val_recall_m: 0.5473 - val_precision_m: 0.8345\n",
      "Epoch 49/50\n",
      "72/72 [==============================] - 3s 38ms/step - loss: 0.3459 - accuracy: 0.8186 - f1_m: 0.8787 - recall_m: 0.7998 - precision_m: 0.9774 - val_loss: 0.8203 - val_accuracy: 0.7010 - val_f1_m: 0.8134 - val_recall_m: 0.8015 - val_precision_m: 0.8273\n",
      "Epoch 50/50\n",
      "72/72 [==============================] - 3s 38ms/step - loss: 0.3379 - accuracy: 0.8302 - f1_m: 0.8871 - recall_m: 0.8136 - precision_m: 0.9774 - val_loss: 0.8855 - val_accuracy: 0.6359 - val_f1_m: 0.7585 - val_recall_m: 0.7001 - val_precision_m: 0.8308\n"
     ]
    },
    {
     "data": {
      "text/plain": [
       "<tensorflow.python.keras.callbacks.History at 0x203a99c0608>"
      ]
     },
     "execution_count": 18,
     "metadata": {},
     "output_type": "execute_result"
    }
   ],
   "source": [
    "# Reasoning model\n",
    "reasoning_model = models_nn.create_nn_model()\n",
    "reasoning_model.compile(loss='binary_crossentropy',optimizer=RMSprop(),metrics=['accuracy', models_nn.f1_m, models_nn.recall_m, models_nn.precision_m])\n",
    "reasoning_model.fit(X_train,\n",
    "                    y_train_reasoning,\n",
    "                    batch_size=128,\n",
    "                    epochs=50,\n",
    "                    validation_data=(X_test, y_test_reasoning), \n",
    "#                     callbacks=[models_nn.early_stop],\n",
    "                    class_weight=reasoning_class_weight_dict)"
   ]
  },
  {
   "cell_type": "code",
   "execution_count": 19,
   "metadata": {},
   "outputs": [
    {
     "data": {
      "text/plain": [
       "(0.5152320735087327, 0.5222242038721439, 0.5060049534044161, None)"
      ]
     },
     "execution_count": 19,
     "metadata": {},
     "output_type": "execute_result"
    }
   ],
   "source": [
    "reasoning_pred = reasoning_model.predict(X_train)\n",
    "reasoning_pred_test = reasoning_model.predict(X_test)\n",
    "\n",
    "reasoning_pred_test_round = reasoning_pred_test.round()\n",
    "precision_recall_fscore_support(y_test_reasoning, reasoning_pred_test_round, average='macro')"
   ]
  },
  {
   "cell_type": "code",
   "execution_count": 20,
   "metadata": {},
   "outputs": [
    {
     "name": "stdout",
     "output_type": "stream",
     "text": [
      "Epoch 1/50\n",
      "72/72 [==============================] - 3s 45ms/step - loss: 0.6932 - accuracy: 0.6827 - f1_m: 0.7062 - recall_m: 0.7765 - precision_m: 0.6594 - val_loss: 0.6917 - val_accuracy: 0.8443 - val_f1_m: 0.9147 - val_recall_m: 1.0000 - val_precision_m: 0.8436\n",
      "Epoch 2/50\n",
      "72/72 [==============================] - 3s 39ms/step - loss: 0.6933 - accuracy: 0.6965 - f1_m: 0.7396 - recall_m: 0.7985 - precision_m: 0.7420 - val_loss: 0.6886 - val_accuracy: 0.8443 - val_f1_m: 0.9147 - val_recall_m: 1.0000 - val_precision_m: 0.8436\n",
      "Epoch 3/50\n",
      "72/72 [==============================] - 3s 39ms/step - loss: 0.6930 - accuracy: 0.7662 - f1_m: 0.8517 - recall_m: 0.8906 - precision_m: 0.8460 - val_loss: 0.6893 - val_accuracy: 0.7502 - val_f1_m: 0.8518 - val_recall_m: 0.8582 - val_precision_m: 0.8477\n",
      "Epoch 4/50\n",
      "72/72 [==============================] - 3s 39ms/step - loss: 0.6914 - accuracy: 0.6793 - f1_m: 0.7900 - recall_m: 0.7432 - precision_m: 0.8620 - val_loss: 0.6706 - val_accuracy: 0.5616 - val_f1_m: 0.6883 - val_recall_m: 0.5764 - val_precision_m: 0.8589\n",
      "Epoch 5/50\n",
      "72/72 [==============================] - 3s 38ms/step - loss: 0.6807 - accuracy: 0.5150 - f1_m: 0.6123 - recall_m: 0.4804 - precision_m: 0.8973 - val_loss: 0.7907 - val_accuracy: 0.2933 - val_f1_m: 0.3153 - val_recall_m: 0.1939 - val_precision_m: 0.8624\n",
      "Epoch 6/50\n",
      "72/72 [==============================] - 3s 37ms/step - loss: 0.6662 - accuracy: 0.4968 - f1_m: 0.5893 - recall_m: 0.4539 - precision_m: 0.9082 - val_loss: 0.7959 - val_accuracy: 0.3443 - val_f1_m: 0.4025 - val_recall_m: 0.2635 - val_precision_m: 0.8665\n",
      "Epoch 7/50\n",
      "72/72 [==============================] - 3s 37ms/step - loss: 0.6562 - accuracy: 0.5234 - f1_m: 0.6216 - recall_m: 0.4827 - precision_m: 0.9034 - val_loss: 0.8101 - val_accuracy: 0.2656 - val_f1_m: 0.2579 - val_recall_m: 0.1525 - val_precision_m: 0.8763\n",
      "Epoch 8/50\n",
      "72/72 [==============================] - 3s 37ms/step - loss: 0.6516 - accuracy: 0.5211 - f1_m: 0.6160 - recall_m: 0.4719 - precision_m: 0.9218 - val_loss: 0.7145 - val_accuracy: 0.4617 - val_f1_m: 0.5759 - val_recall_m: 0.4349 - val_precision_m: 0.8570\n",
      "Epoch 9/50\n",
      "72/72 [==============================] - 3s 37ms/step - loss: 0.6403 - accuracy: 0.5422 - f1_m: 0.6430 - recall_m: 0.5016 - precision_m: 0.9239 - val_loss: 0.6619 - val_accuracy: 0.5383 - val_f1_m: 0.6627 - val_recall_m: 0.5399 - val_precision_m: 0.8623\n",
      "Epoch 10/50\n",
      "72/72 [==============================] - 3s 37ms/step - loss: 0.6339 - accuracy: 0.5558 - f1_m: 0.6420 - recall_m: 0.5047 - precision_m: 0.9153 - val_loss: 0.6583 - val_accuracy: 0.5391 - val_f1_m: 0.6651 - val_recall_m: 0.5448 - val_precision_m: 0.8587\n",
      "Epoch 11/50\n",
      "72/72 [==============================] - 3s 38ms/step - loss: 0.6280 - accuracy: 0.5469 - f1_m: 0.6333 - recall_m: 0.4920 - precision_m: 0.9186 - val_loss: 0.7266 - val_accuracy: 0.4450 - val_f1_m: 0.5557 - val_recall_m: 0.4128 - val_precision_m: 0.8557\n",
      "Epoch 12/50\n",
      "72/72 [==============================] - 3s 38ms/step - loss: 0.6235 - accuracy: 0.5663 - f1_m: 0.6545 - recall_m: 0.5171 - precision_m: 0.9191 - val_loss: 0.5680 - val_accuracy: 0.6939 - val_f1_m: 0.8080 - val_recall_m: 0.7684 - val_precision_m: 0.8540\n",
      "Epoch 13/50\n",
      "72/72 [==============================] - 3s 37ms/step - loss: 0.6183 - accuracy: 0.5637 - f1_m: 0.6518 - recall_m: 0.5124 - precision_m: 0.9216 - val_loss: 0.5691 - val_accuracy: 0.6715 - val_f1_m: 0.7902 - val_recall_m: 0.7370 - val_precision_m: 0.8541\n",
      "Epoch 14/50\n",
      "72/72 [==============================] - 3s 38ms/step - loss: 0.6063 - accuracy: 0.5762 - f1_m: 0.6699 - recall_m: 0.5304 - precision_m: 0.9360 - val_loss: 0.9093 - val_accuracy: 0.2704 - val_f1_m: 0.2689 - val_recall_m: 0.1605 - val_precision_m: 0.8562\n",
      "Epoch 15/50\n",
      "72/72 [==============================] - 3s 37ms/step - loss: 0.6054 - accuracy: 0.5690 - f1_m: 0.6664 - recall_m: 0.5247 - precision_m: 0.9414 - val_loss: 0.7422 - val_accuracy: 0.4323 - val_f1_m: 0.5385 - val_recall_m: 0.3951 - val_precision_m: 0.8525\n",
      "Epoch 16/50\n",
      "72/72 [==============================] - 3s 37ms/step - loss: 0.5964 - accuracy: 0.5816 - f1_m: 0.6783 - recall_m: 0.5373 - precision_m: 0.9437 - val_loss: 0.8565 - val_accuracy: 0.3294 - val_f1_m: 0.3844 - val_recall_m: 0.2498 - val_precision_m: 0.8440\n",
      "Epoch 17/50\n",
      "72/72 [==============================] - 3s 37ms/step - loss: 0.5984 - accuracy: 0.5682 - f1_m: 0.6610 - recall_m: 0.5195 - precision_m: 0.9445 - val_loss: 0.8776 - val_accuracy: 0.2678 - val_f1_m: 0.2609 - val_recall_m: 0.1546 - val_precision_m: 0.8614\n",
      "Epoch 18/50\n",
      "72/72 [==============================] - 3s 38ms/step - loss: 0.5900 - accuracy: 0.5683 - f1_m: 0.6625 - recall_m: 0.5220 - precision_m: 0.9517 - val_loss: 0.6157 - val_accuracy: 0.6368 - val_f1_m: 0.7590 - val_recall_m: 0.6809 - val_precision_m: 0.8606\n",
      "Epoch 19/50\n",
      "72/72 [==============================] - 3s 37ms/step - loss: 0.5771 - accuracy: 0.5755 - f1_m: 0.6688 - recall_m: 0.5221 - precision_m: 0.9534 - val_loss: 0.6674 - val_accuracy: 0.5558 - val_f1_m: 0.6828 - val_recall_m: 0.5694 - val_precision_m: 0.8571\n",
      "Epoch 20/50\n",
      "72/72 [==============================] - 3s 38ms/step - loss: 0.5737 - accuracy: 0.5752 - f1_m: 0.6630 - recall_m: 0.5204 - precision_m: 0.9581 - val_loss: 0.5543 - val_accuracy: 0.7225 - val_f1_m: 0.8296 - val_recall_m: 0.8079 - val_precision_m: 0.8547\n",
      "Epoch 21/50\n",
      "72/72 [==============================] - 3s 37ms/step - loss: 0.5704 - accuracy: 0.6011 - f1_m: 0.6973 - recall_m: 0.5571 - precision_m: 0.9544 - val_loss: 0.5429 - val_accuracy: 0.7256 - val_f1_m: 0.8326 - val_recall_m: 0.8160 - val_precision_m: 0.8524\n",
      "Epoch 22/50\n",
      "72/72 [==============================] - 3s 37ms/step - loss: 0.5609 - accuracy: 0.6097 - f1_m: 0.7039 - recall_m: 0.5668 - precision_m: 0.9553 - val_loss: 0.6192 - val_accuracy: 0.6381 - val_f1_m: 0.7618 - val_recall_m: 0.6899 - val_precision_m: 0.8536\n",
      "Epoch 23/50\n",
      "72/72 [==============================] - 3s 37ms/step - loss: 0.5424 - accuracy: 0.6176 - f1_m: 0.7095 - recall_m: 0.5705 - precision_m: 0.9649 - val_loss: 0.6850 - val_accuracy: 0.5484 - val_f1_m: 0.6761 - val_recall_m: 0.5617 - val_precision_m: 0.8538\n",
      "Epoch 24/50\n",
      "72/72 [==============================] - 3s 37ms/step - loss: 0.5380 - accuracy: 0.6147 - f1_m: 0.7042 - recall_m: 0.5627 - precision_m: 0.9650 - val_loss: 0.6653 - val_accuracy: 0.5998 - val_f1_m: 0.7264 - val_recall_m: 0.6332 - val_precision_m: 0.8551\n",
      "Epoch 25/50\n",
      "72/72 [==============================] - 3s 38ms/step - loss: 0.5297 - accuracy: 0.6253 - f1_m: 0.7102 - recall_m: 0.5754 - precision_m: 0.9566 - val_loss: 0.7970 - val_accuracy: 0.3672 - val_f1_m: 0.4413 - val_recall_m: 0.2995 - val_precision_m: 0.8523\n",
      "Epoch 26/50\n",
      "72/72 [==============================] - 3s 38ms/step - loss: 0.5185 - accuracy: 0.6383 - f1_m: 0.7297 - recall_m: 0.5907 - precision_m: 0.9686 - val_loss: 0.8855 - val_accuracy: 0.4314 - val_f1_m: 0.5407 - val_recall_m: 0.3996 - val_precision_m: 0.8437\n",
      "Epoch 27/50\n",
      "72/72 [==============================] - 3s 38ms/step - loss: 0.5117 - accuracy: 0.6394 - f1_m: 0.7287 - recall_m: 0.5900 - precision_m: 0.9674 - val_loss: 0.6464 - val_accuracy: 0.6539 - val_f1_m: 0.7762 - val_recall_m: 0.7151 - val_precision_m: 0.8508\n",
      "Epoch 28/50\n",
      "72/72 [==============================] - 3s 38ms/step - loss: 0.4984 - accuracy: 0.6692 - f1_m: 0.7582 - recall_m: 0.6306 - precision_m: 0.9649 - val_loss: 0.9625 - val_accuracy: 0.4182 - val_f1_m: 0.5204 - val_recall_m: 0.3771 - val_precision_m: 0.8477\n",
      "Epoch 29/50\n",
      "72/72 [==============================] - 3s 37ms/step - loss: 0.4957 - accuracy: 0.6608 - f1_m: 0.7448 - recall_m: 0.6135 - precision_m: 0.9684 - val_loss: 0.6224 - val_accuracy: 0.6856 - val_f1_m: 0.8019 - val_recall_m: 0.7620 - val_precision_m: 0.8497\n",
      "Epoch 30/50\n",
      "72/72 [==============================] - 3s 38ms/step - loss: 0.4890 - accuracy: 0.6712 - f1_m: 0.7567 - recall_m: 0.6283 - precision_m: 0.9695 - val_loss: 0.7169 - val_accuracy: 0.5664 - val_f1_m: 0.6969 - val_recall_m: 0.5938 - val_precision_m: 0.8474\n",
      "Epoch 31/50\n",
      "72/72 [==============================] - 3s 37ms/step - loss: 0.4802 - accuracy: 0.6854 - f1_m: 0.7687 - recall_m: 0.6446 - precision_m: 0.9675 - val_loss: 0.8282 - val_accuracy: 0.4974 - val_f1_m: 0.6241 - val_recall_m: 0.4973 - val_precision_m: 0.8435\n"
     ]
    },
    {
     "name": "stdout",
     "output_type": "stream",
     "text": [
      "Epoch 32/50\n",
      "72/72 [==============================] - 3s 38ms/step - loss: 0.4747 - accuracy: 0.6906 - f1_m: 0.7747 - recall_m: 0.6515 - precision_m: 0.9695 - val_loss: 0.6783 - val_accuracy: 0.6522 - val_f1_m: 0.7751 - val_recall_m: 0.7144 - val_precision_m: 0.8500\n",
      "Epoch 33/50\n",
      "72/72 [==============================] - 3s 38ms/step - loss: 0.4619 - accuracy: 0.7033 - f1_m: 0.7833 - recall_m: 0.6628 - precision_m: 0.9705 - val_loss: 0.6990 - val_accuracy: 0.6284 - val_f1_m: 0.7552 - val_recall_m: 0.6828 - val_precision_m: 0.8479\n",
      "Epoch 34/50\n",
      "72/72 [==============================] - 3s 38ms/step - loss: 0.4593 - accuracy: 0.7058 - f1_m: 0.7932 - recall_m: 0.6769 - precision_m: 0.9687 - val_loss: 0.7485 - val_accuracy: 0.6236 - val_f1_m: 0.7510 - val_recall_m: 0.6766 - val_precision_m: 0.8473\n",
      "Epoch 35/50\n",
      "72/72 [==============================] - 3s 38ms/step - loss: 0.4487 - accuracy: 0.7146 - f1_m: 0.8008 - recall_m: 0.6855 - precision_m: 0.9713 - val_loss: 0.6859 - val_accuracy: 0.6750 - val_f1_m: 0.7943 - val_recall_m: 0.7483 - val_precision_m: 0.8493\n",
      "Epoch 36/50\n",
      "72/72 [==============================] - 3s 37ms/step - loss: 0.4444 - accuracy: 0.7247 - f1_m: 0.8048 - recall_m: 0.6929 - precision_m: 0.9703 - val_loss: 0.8297 - val_accuracy: 0.5211 - val_f1_m: 0.6512 - val_recall_m: 0.5325 - val_precision_m: 0.8416\n",
      "Epoch 37/50\n",
      "72/72 [==============================] - 3s 38ms/step - loss: 0.4325 - accuracy: 0.7341 - f1_m: 0.8147 - recall_m: 0.7048 - precision_m: 0.9729 - val_loss: 0.8449 - val_accuracy: 0.6069 - val_f1_m: 0.7340 - val_recall_m: 0.6461 - val_precision_m: 0.8536\n",
      "Epoch 38/50\n",
      "72/72 [==============================] - 3s 37ms/step - loss: 0.4235 - accuracy: 0.7441 - f1_m: 0.8231 - recall_m: 0.7197 - precision_m: 0.9717 - val_loss: 0.9258 - val_accuracy: 0.5440 - val_f1_m: 0.6736 - val_recall_m: 0.5600 - val_precision_m: 0.8485\n",
      "Epoch 39/50\n",
      "72/72 [==============================] - 3s 38ms/step - loss: 0.4209 - accuracy: 0.7451 - f1_m: 0.8214 - recall_m: 0.7150 - precision_m: 0.9715 - val_loss: 0.7081 - val_accuracy: 0.7040 - val_f1_m: 0.8175 - val_recall_m: 0.7912 - val_precision_m: 0.8478\n",
      "Epoch 40/50\n",
      "72/72 [==============================] - 3s 39ms/step - loss: 0.4130 - accuracy: 0.7602 - f1_m: 0.8351 - recall_m: 0.7361 - precision_m: 0.9712 - val_loss: 0.8870 - val_accuracy: 0.5462 - val_f1_m: 0.6761 - val_recall_m: 0.5638 - val_precision_m: 0.8478\n",
      "Epoch 41/50\n",
      "72/72 [==============================] - 3s 41ms/step - loss: 0.3961 - accuracy: 0.7578 - f1_m: 0.8303 - recall_m: 0.7274 - precision_m: 0.9756 - val_loss: 0.7503 - val_accuracy: 0.6878 - val_f1_m: 0.8059 - val_recall_m: 0.7739 - val_precision_m: 0.8426\n",
      "Epoch 42/50\n",
      "72/72 [==============================] - 3s 39ms/step - loss: 0.4027 - accuracy: 0.7661 - f1_m: 0.8417 - recall_m: 0.7459 - precision_m: 0.9733 - val_loss: 1.0210 - val_accuracy: 0.5352 - val_f1_m: 0.6646 - val_recall_m: 0.5478 - val_precision_m: 0.8483\n",
      "Epoch 43/50\n",
      "72/72 [==============================] - 3s 39ms/step - loss: 0.3901 - accuracy: 0.7740 - f1_m: 0.8439 - recall_m: 0.7497 - precision_m: 0.9706 - val_loss: 1.1647 - val_accuracy: 0.4019 - val_f1_m: 0.4987 - val_recall_m: 0.3553 - val_precision_m: 0.8508\n",
      "Epoch 44/50\n",
      "72/72 [==============================] - 3s 37ms/step - loss: 0.4058 - accuracy: 0.7606 - f1_m: 0.8332 - recall_m: 0.7331 - precision_m: 0.9751 - val_loss: 1.1779 - val_accuracy: 0.4916 - val_f1_m: 0.6140 - val_recall_m: 0.4826 - val_precision_m: 0.8490\n",
      "Epoch 45/50\n",
      "72/72 [==============================] - 3s 38ms/step - loss: 0.3887 - accuracy: 0.7778 - f1_m: 0.8489 - recall_m: 0.7550 - precision_m: 0.9757 - val_loss: 0.7892 - val_accuracy: 0.6113 - val_f1_m: 0.7418 - val_recall_m: 0.6659 - val_precision_m: 0.8403\n",
      "Epoch 46/50\n",
      "72/72 [==============================] - 3s 38ms/step - loss: 0.3839 - accuracy: 0.7839 - f1_m: 0.8528 - recall_m: 0.7624 - precision_m: 0.9739 - val_loss: 0.9395 - val_accuracy: 0.5972 - val_f1_m: 0.7261 - val_recall_m: 0.6364 - val_precision_m: 0.8492\n",
      "Epoch 47/50\n",
      "72/72 [==============================] - 3s 38ms/step - loss: 0.3740 - accuracy: 0.7894 - f1_m: 0.8595 - recall_m: 0.7710 - precision_m: 0.9769 - val_loss: 0.9473 - val_accuracy: 0.6139 - val_f1_m: 0.7433 - val_recall_m: 0.6656 - val_precision_m: 0.8446\n",
      "Epoch 48/50\n",
      "72/72 [==============================] - 3s 39ms/step - loss: 0.3625 - accuracy: 0.7922 - f1_m: 0.8592 - recall_m: 0.7710 - precision_m: 0.9758 - val_loss: 0.9828 - val_accuracy: 0.5334 - val_f1_m: 0.6647 - val_recall_m: 0.5511 - val_precision_m: 0.8424\n",
      "Epoch 49/50\n",
      "72/72 [==============================] - 3s 38ms/step - loss: 0.3645 - accuracy: 0.7944 - f1_m: 0.8608 - recall_m: 0.7728 - precision_m: 0.9767 - val_loss: 0.8849 - val_accuracy: 0.6135 - val_f1_m: 0.7425 - val_recall_m: 0.6648 - val_precision_m: 0.8441\n",
      "Epoch 50/50\n",
      "72/72 [==============================] - 3s 37ms/step - loss: 0.3619 - accuracy: 0.7981 - f1_m: 0.8651 - recall_m: 0.7802 - precision_m: 0.9782 - val_loss: 0.9410 - val_accuracy: 0.6434 - val_f1_m: 0.7681 - val_recall_m: 0.7049 - val_precision_m: 0.8474\n"
     ]
    },
    {
     "data": {
      "text/plain": [
       "<tensorflow.python.keras.callbacks.History at 0x203afd56348>"
      ]
     },
     "execution_count": 20,
     "metadata": {},
     "output_type": "execute_result"
    }
   ],
   "source": [
    "# Share Information model\n",
    "shareinfo_model = models_nn.create_nn_model()\n",
    "shareinfo_model.compile(loss='binary_crossentropy',optimizer=RMSprop(),metrics=['accuracy', models_nn.f1_m, models_nn.recall_m, models_nn.precision_m])\n",
    "shareinfo_model.fit(X_train,\n",
    "                    y_train_share_information,\n",
    "                    batch_size=128,\n",
    "                    epochs=50,\n",
    "                    validation_data=(X_test, y_test_share_information), \n",
    "#                     callbacks=[models_nn.early_stop],\n",
    "                    class_weight=share_info_class_weight_dict)"
   ]
  },
  {
   "cell_type": "code",
   "execution_count": 21,
   "metadata": {},
   "outputs": [
    {
     "data": {
      "text/plain": [
       "(0.5048475307745598, 0.5077109816384181, 0.4913954032885029, None)"
      ]
     },
     "execution_count": 21,
     "metadata": {},
     "output_type": "execute_result"
    }
   ],
   "source": [
    "shareinfo_pred = shareinfo_model.predict(X_train)\n",
    "shareinfo_pred_test = shareinfo_model.predict(X_test)\n",
    "\n",
    "shareinfo_pred_test_round = shareinfo_pred_test.round()\n",
    "precision_recall_fscore_support(y_test_share_information, shareinfo_pred_test_round, average='macro')"
   ]
  },
  {
   "cell_type": "code",
   "execution_count": 22,
   "metadata": {},
   "outputs": [
    {
     "name": "stdout",
     "output_type": "stream",
     "text": [
      "Epoch 1/50\n",
      "285/285 [==============================] - 8s 28ms/step - loss: 0.6933 - accuracy: 0.7661 - f1_m: 0.7787 - recall_m: 0.7997 - precision_m: 0.7688 - val_loss: 0.6926 - val_accuracy: 0.9507 - val_f1_m: 0.9747 - val_recall_m: 1.0000 - val_precision_m: 0.9514\n",
      "Epoch 2/50\n",
      "285/285 [==============================] - 7s 26ms/step - loss: 0.6935 - accuracy: 0.9476 - f1_m: 0.9725 - recall_m: 0.9966 - precision_m: 0.9512 - val_loss: 0.6848 - val_accuracy: 0.9507 - val_f1_m: 0.9747 - val_recall_m: 1.0000 - val_precision_m: 0.9514\n",
      "Epoch 3/50\n",
      "285/285 [==============================] - 7s 26ms/step - loss: 0.6925 - accuracy: 0.9259 - f1_m: 0.9594 - recall_m: 0.9702 - precision_m: 0.9534 - val_loss: 0.6316 - val_accuracy: 0.9485 - val_f1_m: 0.9736 - val_recall_m: 0.9977 - val_precision_m: 0.9513\n",
      "Epoch 4/50\n",
      "285/285 [==============================] - 7s 25ms/step - loss: 0.6870 - accuracy: 0.7590 - f1_m: 0.8383 - recall_m: 0.7789 - precision_m: 0.9638 - val_loss: 0.5686 - val_accuracy: 0.7801 - val_f1_m: 0.8748 - val_recall_m: 0.8124 - val_precision_m: 0.9523\n",
      "Epoch 5/50\n",
      "285/285 [==============================] - 7s 25ms/step - loss: 0.6644 - accuracy: 0.6461 - f1_m: 0.7429 - recall_m: 0.6502 - precision_m: 0.9579 - val_loss: 0.9422 - val_accuracy: 0.1099 - val_f1_m: 0.1187 - val_recall_m: 0.0650 - val_precision_m: 0.8634\n",
      "Epoch 6/50\n",
      "285/285 [==============================] - 7s 25ms/step - loss: 0.6348 - accuracy: 0.6103 - f1_m: 0.7241 - recall_m: 0.6083 - precision_m: 0.9720 - val_loss: 0.9116 - val_accuracy: 0.2858 - val_f1_m: 0.4065 - val_recall_m: 0.2657 - val_precision_m: 0.9738\n",
      "Epoch 7/50\n",
      "285/285 [==============================] - 7s 26ms/step - loss: 0.6187 - accuracy: 0.6449 - f1_m: 0.7552 - recall_m: 0.6427 - precision_m: 0.9755 - val_loss: 0.7339 - val_accuracy: 0.4587 - val_f1_m: 0.6075 - val_recall_m: 0.4500 - val_precision_m: 0.9597\n",
      "Epoch 8/50\n",
      "285/285 [==============================] - 7s 26ms/step - loss: 0.6082 - accuracy: 0.6683 - f1_m: 0.7808 - recall_m: 0.6684 - precision_m: 0.9787 - val_loss: 0.6194 - val_accuracy: 0.6266 - val_f1_m: 0.7640 - val_recall_m: 0.6415 - val_precision_m: 0.9568\n",
      "Epoch 9/50\n",
      "285/285 [==============================] - 7s 26ms/step - loss: 0.5844 - accuracy: 0.6918 - f1_m: 0.8009 - recall_m: 0.6927 - precision_m: 0.9797 - val_loss: 0.6463 - val_accuracy: 0.6038 - val_f1_m: 0.7450 - val_recall_m: 0.6162 - val_precision_m: 0.9584\n",
      "Epoch 10/50\n",
      "285/285 [==============================] - 7s 26ms/step - loss: 0.5772 - accuracy: 0.6906 - f1_m: 0.8006 - recall_m: 0.6904 - precision_m: 0.9779 - val_loss: 0.4567 - val_accuracy: 0.7946 - val_f1_m: 0.8839 - val_recall_m: 0.8265 - val_precision_m: 0.9550\n",
      "Epoch 11/50\n",
      "285/285 [==============================] - 8s 26ms/step - loss: 0.5666 - accuracy: 0.7129 - f1_m: 0.8175 - recall_m: 0.7131 - precision_m: 0.9822 - val_loss: 0.3920 - val_accuracy: 0.8443 - val_f1_m: 0.9144 - val_recall_m: 0.8802 - val_precision_m: 0.9553\n",
      "Epoch 12/50\n",
      "285/285 [==============================] - 7s 26ms/step - loss: 0.5547 - accuracy: 0.7174 - f1_m: 0.8180 - recall_m: 0.7169 - precision_m: 0.9795 - val_loss: 0.5024 - val_accuracy: 0.7524 - val_f1_m: 0.8559 - val_recall_m: 0.7790 - val_precision_m: 0.9565\n",
      "Epoch 13/50\n",
      "285/285 [==============================] - 8s 27ms/step - loss: 0.5375 - accuracy: 0.7304 - f1_m: 0.8323 - recall_m: 0.7311 - precision_m: 0.9821 - val_loss: 0.9496 - val_accuracy: 0.4019 - val_f1_m: 0.5488 - val_recall_m: 0.3918 - val_precision_m: 0.9569\n",
      "Epoch 14/50\n",
      "285/285 [==============================] - 7s 26ms/step - loss: 0.5230 - accuracy: 0.7394 - f1_m: 0.8353 - recall_m: 0.7370 - precision_m: 0.9835 - val_loss: 0.5463 - val_accuracy: 0.7208 - val_f1_m: 0.8344 - val_recall_m: 0.7468 - val_precision_m: 0.9535\n",
      "Epoch 15/50\n",
      "285/285 [==============================] - 7s 26ms/step - loss: 0.5114 - accuracy: 0.7367 - f1_m: 0.8352 - recall_m: 0.7352 - precision_m: 0.9855 - val_loss: 0.3462 - val_accuracy: 0.8681 - val_f1_m: 0.9288 - val_recall_m: 0.9070 - val_precision_m: 0.9540\n",
      "Epoch 16/50\n",
      "285/285 [==============================] - 7s 26ms/step - loss: 0.4938 - accuracy: 0.7620 - f1_m: 0.8510 - recall_m: 0.7600 - precision_m: 0.9850 - val_loss: 0.6292 - val_accuracy: 0.6609 - val_f1_m: 0.7910 - val_recall_m: 0.6828 - val_precision_m: 0.9526\n",
      "Epoch 17/50\n",
      "285/285 [==============================] - 7s 26ms/step - loss: 0.4788 - accuracy: 0.7564 - f1_m: 0.8488 - recall_m: 0.7549 - precision_m: 0.9869 - val_loss: 0.3228 - val_accuracy: 0.8830 - val_f1_m: 0.9374 - val_recall_m: 0.9238 - val_precision_m: 0.9534\n",
      "Epoch 18/50\n",
      "285/285 [==============================] - 7s 26ms/step - loss: 0.4772 - accuracy: 0.7670 - f1_m: 0.8569 - recall_m: 0.7672 - precision_m: 0.9847 - val_loss: 0.9066 - val_accuracy: 0.4947 - val_f1_m: 0.6447 - val_recall_m: 0.4950 - val_precision_m: 0.9524\n",
      "Epoch 19/50\n",
      "285/285 [==============================] - 7s 25ms/step - loss: 0.4537 - accuracy: 0.7817 - f1_m: 0.8670 - recall_m: 0.7802 - precision_m: 0.9868 - val_loss: 0.4766 - val_accuracy: 0.7511 - val_f1_m: 0.8521 - val_recall_m: 0.7779 - val_precision_m: 0.9497\n",
      "Epoch 20/50\n",
      "285/285 [==============================] - 7s 25ms/step - loss: 0.4433 - accuracy: 0.7852 - f1_m: 0.8691 - recall_m: 0.7848 - precision_m: 0.9866 - val_loss: 0.5152 - val_accuracy: 0.7634 - val_f1_m: 0.8594 - val_recall_m: 0.7881 - val_precision_m: 0.9524\n",
      "Epoch 21/50\n",
      "285/285 [==============================] - 7s 25ms/step - loss: 0.4421 - accuracy: 0.7890 - f1_m: 0.8731 - recall_m: 0.7890 - precision_m: 0.9873 - val_loss: 0.6206 - val_accuracy: 0.6662 - val_f1_m: 0.7921 - val_recall_m: 0.6865 - val_precision_m: 0.9467\n",
      "Epoch 22/50\n",
      "285/285 [==============================] - 7s 26ms/step - loss: 0.4179 - accuracy: 0.8014 - f1_m: 0.8812 - recall_m: 0.8008 - precision_m: 0.9891 - val_loss: 0.5522 - val_accuracy: 0.7252 - val_f1_m: 0.8342 - val_recall_m: 0.7484 - val_precision_m: 0.9500\n",
      "Epoch 23/50\n",
      "285/285 [==============================] - 7s 26ms/step - loss: 0.4068 - accuracy: 0.8107 - f1_m: 0.8878 - recall_m: 0.8108 - precision_m: 0.9893 - val_loss: 0.4580 - val_accuracy: 0.7955 - val_f1_m: 0.8805 - val_recall_m: 0.8229 - val_precision_m: 0.9533\n",
      "Epoch 24/50\n",
      "285/285 [==============================] - 7s 26ms/step - loss: 0.3882 - accuracy: 0.8264 - f1_m: 0.8976 - recall_m: 0.8250 - precision_m: 0.9909 - val_loss: 0.4856 - val_accuracy: 0.7929 - val_f1_m: 0.8789 - val_recall_m: 0.8206 - val_precision_m: 0.9512\n",
      "Epoch 25/50\n",
      "285/285 [==============================] - 7s 26ms/step - loss: 0.3790 - accuracy: 0.8256 - f1_m: 0.8974 - recall_m: 0.8249 - precision_m: 0.9909 - val_loss: 0.7184 - val_accuracy: 0.6495 - val_f1_m: 0.7795 - val_recall_m: 0.6664 - val_precision_m: 0.9492\n",
      "Epoch 26/50\n",
      "285/285 [==============================] - 7s 25ms/step - loss: 0.3566 - accuracy: 0.8353 - f1_m: 0.9030 - recall_m: 0.8340 - precision_m: 0.9901 - val_loss: 0.6132 - val_accuracy: 0.7199 - val_f1_m: 0.8346 - val_recall_m: 0.7482 - val_precision_m: 0.9507\n",
      "Epoch 27/50\n",
      "285/285 [==============================] - 7s 25ms/step - loss: 0.3481 - accuracy: 0.8441 - f1_m: 0.9078 - recall_m: 0.8418 - precision_m: 0.9914 - val_loss: 0.9931 - val_accuracy: 0.5558 - val_f1_m: 0.7009 - val_recall_m: 0.5620 - val_precision_m: 0.9516\n",
      "Epoch 28/50\n",
      "285/285 [==============================] - 7s 25ms/step - loss: 0.3149 - accuracy: 0.8536 - f1_m: 0.9147 - recall_m: 0.8525 - precision_m: 0.9930 - val_loss: 0.6695 - val_accuracy: 0.7111 - val_f1_m: 0.8242 - val_recall_m: 0.7329 - val_precision_m: 0.9495\n",
      "Epoch 29/50\n",
      "285/285 [==============================] - 7s 25ms/step - loss: 0.3067 - accuracy: 0.8567 - f1_m: 0.9168 - recall_m: 0.8550 - precision_m: 0.9936 - val_loss: 0.4215 - val_accuracy: 0.8478 - val_f1_m: 0.9169 - val_recall_m: 0.8870 - val_precision_m: 0.9520\n",
      "Epoch 30/50\n",
      "285/285 [==============================] - 7s 25ms/step - loss: 0.2949 - accuracy: 0.8676 - f1_m: 0.9236 - recall_m: 0.8664 - precision_m: 0.9938 - val_loss: 0.5977 - val_accuracy: 0.7515 - val_f1_m: 0.8514 - val_recall_m: 0.7742 - val_precision_m: 0.9528\n",
      "Epoch 31/50\n",
      "285/285 [==============================] - 7s 26ms/step - loss: 0.2905 - accuracy: 0.8776 - f1_m: 0.9293 - recall_m: 0.8760 - precision_m: 0.9935 - val_loss: 0.5833 - val_accuracy: 0.7788 - val_f1_m: 0.8700 - val_recall_m: 0.8062 - val_precision_m: 0.9500\n"
     ]
    },
    {
     "name": "stdout",
     "output_type": "stream",
     "text": [
      "Epoch 32/50\n",
      "285/285 [==============================] - 7s 26ms/step - loss: 0.2663 - accuracy: 0.8821 - f1_m: 0.9324 - recall_m: 0.8814 - precision_m: 0.9941 - val_loss: 0.6896 - val_accuracy: 0.7172 - val_f1_m: 0.8283 - val_recall_m: 0.7385 - val_precision_m: 0.9507\n",
      "Epoch 33/50\n",
      "285/285 [==============================] - 7s 26ms/step - loss: 0.2534 - accuracy: 0.8866 - f1_m: 0.9354 - recall_m: 0.8856 - precision_m: 0.9950 - val_loss: 0.7930 - val_accuracy: 0.6935 - val_f1_m: 0.8119 - val_recall_m: 0.7125 - val_precision_m: 0.9519\n",
      "Epoch 34/50\n",
      "285/285 [==============================] - 7s 26ms/step - loss: 0.2441 - accuracy: 0.8906 - f1_m: 0.9380 - recall_m: 0.8899 - precision_m: 0.9953 - val_loss: 0.7597 - val_accuracy: 0.7089 - val_f1_m: 0.8222 - val_recall_m: 0.7285 - val_precision_m: 0.9528\n",
      "Epoch 35/50\n",
      "285/285 [==============================] - 7s 26ms/step - loss: 0.2270 - accuracy: 0.8989 - f1_m: 0.9423 - recall_m: 0.8970 - precision_m: 0.9959 - val_loss: 0.9060 - val_accuracy: 0.6601 - val_f1_m: 0.7870 - val_recall_m: 0.6744 - val_precision_m: 0.9522\n",
      "Epoch 36/50\n",
      "285/285 [==============================] - 8s 27ms/step - loss: 0.2180 - accuracy: 0.9007 - f1_m: 0.9439 - recall_m: 0.8998 - precision_m: 0.9957 - val_loss: 0.6809 - val_accuracy: 0.7537 - val_f1_m: 0.8539 - val_recall_m: 0.7785 - val_precision_m: 0.9505\n",
      "Epoch 37/50\n",
      "285/285 [==============================] - 8s 27ms/step - loss: 0.2938 - accuracy: 0.8743 - f1_m: 0.9273 - recall_m: 0.8728 - precision_m: 0.9950 - val_loss: 0.6074 - val_accuracy: 0.7449 - val_f1_m: 0.8472 - val_recall_m: 0.7689 - val_precision_m: 0.9509\n",
      "Epoch 38/50\n",
      "285/285 [==============================] - 7s 26ms/step - loss: 0.2219 - accuracy: 0.9049 - f1_m: 0.9457 - recall_m: 0.9032 - precision_m: 0.9955 - val_loss: 0.9282 - val_accuracy: 0.6539 - val_f1_m: 0.7817 - val_recall_m: 0.6682 - val_precision_m: 0.9530\n",
      "Epoch 39/50\n",
      "285/285 [==============================] - 7s 26ms/step - loss: 0.1980 - accuracy: 0.9147 - f1_m: 0.9511 - recall_m: 0.9127 - precision_m: 0.9958 - val_loss: 0.7222 - val_accuracy: 0.7379 - val_f1_m: 0.8420 - val_recall_m: 0.7589 - val_precision_m: 0.9530\n",
      "Epoch 40/50\n",
      "285/285 [==============================] - 7s 25ms/step - loss: 0.1782 - accuracy: 0.9195 - f1_m: 0.9545 - recall_m: 0.9178 - precision_m: 0.9966 - val_loss: 0.6695 - val_accuracy: 0.7608 - val_f1_m: 0.8578 - val_recall_m: 0.7844 - val_precision_m: 0.9537\n",
      "Epoch 41/50\n",
      "285/285 [==============================] - 7s 25ms/step - loss: 0.1749 - accuracy: 0.9267 - f1_m: 0.9593 - recall_m: 0.9267 - precision_m: 0.9966 - val_loss: 0.6856 - val_accuracy: 0.7889 - val_f1_m: 0.8759 - val_recall_m: 0.8136 - val_precision_m: 0.9541\n",
      "Epoch 42/50\n",
      "285/285 [==============================] - 7s 25ms/step - loss: 0.1571 - accuracy: 0.9313 - f1_m: 0.9618 - recall_m: 0.9302 - precision_m: 0.9976 - val_loss: 0.7781 - val_accuracy: 0.7502 - val_f1_m: 0.8509 - val_recall_m: 0.7738 - val_precision_m: 0.9521\n",
      "Epoch 43/50\n",
      "285/285 [==============================] - 7s 25ms/step - loss: 0.1846 - accuracy: 0.9243 - f1_m: 0.9572 - recall_m: 0.9239 - precision_m: 0.9961 - val_loss: 0.6651 - val_accuracy: 0.7357 - val_f1_m: 0.8412 - val_recall_m: 0.7578 - val_precision_m: 0.9532\n",
      "Epoch 44/50\n",
      "285/285 [==============================] - 7s 26ms/step - loss: 0.1976 - accuracy: 0.9163 - f1_m: 0.9531 - recall_m: 0.9157 - precision_m: 0.9964 - val_loss: 0.6993 - val_accuracy: 0.7731 - val_f1_m: 0.8663 - val_recall_m: 0.7994 - val_precision_m: 0.9516\n",
      "Epoch 45/50\n",
      "285/285 [==============================] - 7s 26ms/step - loss: 0.1951 - accuracy: 0.9233 - f1_m: 0.9571 - recall_m: 0.9231 - precision_m: 0.9963 - val_loss: 0.8687 - val_accuracy: 0.7190 - val_f1_m: 0.8294 - val_recall_m: 0.7394 - val_precision_m: 0.9528\n",
      "Epoch 46/50\n",
      "285/285 [==============================] - 7s 26ms/step - loss: 0.1513 - accuracy: 0.9331 - f1_m: 0.9630 - recall_m: 0.9325 - precision_m: 0.9975 - val_loss: 0.7670 - val_accuracy: 0.7898 - val_f1_m: 0.8766 - val_recall_m: 0.8160 - val_precision_m: 0.9528\n",
      "Epoch 47/50\n",
      "285/285 [==============================] - 7s 25ms/step - loss: 0.2138 - accuracy: 0.9152 - f1_m: 0.9515 - recall_m: 0.9148 - precision_m: 0.9954 - val_loss: 0.7720 - val_accuracy: 0.7520 - val_f1_m: 0.8521 - val_recall_m: 0.7760 - val_precision_m: 0.9517\n",
      "Epoch 48/50\n",
      "285/285 [==============================] - 7s 26ms/step - loss: 0.1357 - accuracy: 0.9449 - f1_m: 0.9695 - recall_m: 0.9445 - precision_m: 0.9976 - val_loss: 0.6752 - val_accuracy: 0.8263 - val_f1_m: 0.8996 - val_recall_m: 0.8567 - val_precision_m: 0.9522\n",
      "Epoch 49/50\n",
      "285/285 [==============================] - 9s 30ms/step - loss: 0.1172 - accuracy: 0.9528 - f1_m: 0.9739 - recall_m: 0.9520 - precision_m: 0.9984 - val_loss: 0.7485 - val_accuracy: 0.8078 - val_f1_m: 0.8878 - val_recall_m: 0.8361 - val_precision_m: 0.9525\n",
      "Epoch 50/50\n",
      "285/285 [==============================] - 8s 28ms/step - loss: 0.1049 - accuracy: 0.9563 - f1_m: 0.9760 - recall_m: 0.9557 - precision_m: 0.9983 - val_loss: 0.6554 - val_accuracy: 0.8514 - val_f1_m: 0.9145 - val_recall_m: 0.8844 - val_precision_m: 0.9516\n"
     ]
    },
    {
     "data": {
      "text/plain": [
       "<tensorflow.python.keras.callbacks.History at 0x203b6029048>"
      ]
     },
     "execution_count": 22,
     "metadata": {},
     "output_type": "execute_result"
    }
   ],
   "source": [
    "# Deception model\n",
    "deception_model = models_nn.create_nn_model()\n",
    "deception_model.compile(loss='binary_crossentropy',optimizer=RMSprop(),metrics=['accuracy', models_nn.f1_m, models_nn.recall_m, models_nn.precision_m])\n",
    "deception_model.fit(X_train,\n",
    "                    y_train_deception,\n",
    "                    epochs=50,\n",
    "                    validation_data=(X_test, y_test_deception), \n",
    "#                     callbacks=[models_nn.early_stop],\n",
    "                    class_weight=deception_class_weight_dict)"
   ]
  },
  {
   "cell_type": "code",
   "execution_count": 23,
   "metadata": {},
   "outputs": [
    {
     "data": {
      "text/plain": [
       "(0.5013129386274787, 0.5027628188185542, 0.4953223163070199, None)"
      ]
     },
     "execution_count": 23,
     "metadata": {},
     "output_type": "execute_result"
    }
   ],
   "source": [
    "deception_pred = deception_model.predict(X_train)\n",
    "deception_pred_test = deception_model.predict(X_test)\n",
    "deception_pred_test_round = deception_pred_test.round()\n",
    "precision_recall_fscore_support(y_test_deception, deception_pred_test_round, average='macro')"
   ]
  },
  {
   "cell_type": "code",
   "execution_count": 24,
   "metadata": {},
   "outputs": [],
   "source": [
    "# deception_pred_test"
   ]
  },
  {
   "cell_type": "code",
   "execution_count": 25,
   "metadata": {},
   "outputs": [],
   "source": [
    "# unique, counts = np.unique(deception_pred_test_round, return_counts=True)"
   ]
  },
  {
   "cell_type": "code",
   "execution_count": 26,
   "metadata": {},
   "outputs": [],
   "source": [
    "# print(unique, counts)"
   ]
  },
  {
   "cell_type": "code",
   "execution_count": 27,
   "metadata": {},
   "outputs": [],
   "source": [
    "# deception_model.history.history['val_f1_m']"
   ]
  },
  {
   "cell_type": "markdown",
   "metadata": {},
   "source": [
    "### One hot encodings"
   ]
  },
  {
   "cell_type": "code",
   "execution_count": 28,
   "metadata": {},
   "outputs": [],
   "source": [
    "# Train encodings\n",
    "pred_df_arr_full = []\n",
    "pred_df_arr = []\n",
    "for i in range(0, len(gamemove_pred)):\n",
    "    pred_obj_1 = {}\n",
    "    pred_obj_1['gamemove'] = gamemove_pred[i][0]\n",
    "    pred_obj_1['reasoning'] = reasoning_pred[i][0]\n",
    "    pred_obj_1['shareinfo'] = shareinfo_pred[i][0]\n",
    "    pred_df_arr.append(pred_obj_1)\n",
    "    \n",
    "    pred_obj_2 = pred_obj_1.copy()\n",
    "    pred_obj_2['rapport'] = rapport_pred[i][0]\n",
    "    pred_df_arr_full.append(pred_obj_2)\n",
    "    \n",
    "pred_df_full = pd.DataFrame(pred_df_arr_full)\n",
    "pred_df = pd.DataFrame(pred_df_arr)"
   ]
  },
  {
   "cell_type": "code",
   "execution_count": 29,
   "metadata": {},
   "outputs": [],
   "source": [
    "# Test encodings\n",
    "pred_test_df_arr_full = []\n",
    "pred_test_df_arr = []\n",
    "\n",
    "for i in range(0, len(gamemove_pred_test)):\n",
    "    pred_obj_1 = {}\n",
    "    pred_obj_1['gamemove'] = gamemove_pred_test[i][0]\n",
    "    pred_obj_1['reasoning'] = reasoning_pred_test[i][0]\n",
    "    pred_obj_1['shareinfo'] = shareinfo_pred_test[i][0]\n",
    "    pred_test_df_arr.append(pred_obj_1)\n",
    "    \n",
    "    pred_obj_2 = pred_obj_1.copy()\n",
    "    pred_obj_2['rapport'] = rapport_pred_test[i][0]\n",
    "    pred_test_df_arr_full.append(pred_obj_2)\n",
    "    \n",
    "pred_test_df_full = pd.DataFrame(pred_test_df_arr_full)\n",
    "pred_test_df = pd.DataFrame(pred_test_df_arr)"
   ]
  },
  {
   "cell_type": "markdown",
   "metadata": {},
   "source": [
    "### Joint Model with one hot encoding "
   ]
  },
  {
   "cell_type": "code",
   "execution_count": 30,
   "metadata": {},
   "outputs": [
    {
     "name": "stdout",
     "output_type": "stream",
     "text": [
      "Joint full model with one hot encoding, predicting deception\n",
      "Model: \"functional_13\"\n",
      "_________________________________________________________________\n",
      "Layer (type)                 Output Shape              Param #   \n",
      "=================================================================\n",
      "input_1 (InputLayer)         [(None, 4)]               0         \n",
      "_________________________________________________________________\n",
      "dense_12 (Dense)             (None, 2)                 10        \n",
      "_________________________________________________________________\n",
      "dense_13 (Dense)             (None, 4)                 12        \n",
      "_________________________________________________________________\n",
      "dense_14 (Dense)             (None, 1)                 5         \n",
      "=================================================================\n",
      "Total params: 27\n",
      "Trainable params: 27\n",
      "Non-trainable params: 0\n",
      "_________________________________________________________________\n",
      "Epoch 1/32\n",
      "143/143 [==============================] - 1s 5ms/step - loss: 0.6986 - acc: 0.7646 - f1_m: 0.8638 - precision_m: 0.9505 - recall_m: 0.7940 - val_loss: 0.6623 - val_acc: 0.7036 - val_f1_m: 0.8220 - val_precision_m: 0.9498 - val_recall_m: 0.7270\n",
      "Epoch 2/32\n",
      "143/143 [==============================] - 0s 3ms/step - loss: 0.6959 - acc: 0.7074 - f1_m: 0.8221 - precision_m: 0.9500 - recall_m: 0.7280 - val_loss: 0.6764 - val_acc: 0.6829 - val_f1_m: 0.8070 - val_precision_m: 0.9495 - val_recall_m: 0.7042\n",
      "Epoch 3/32\n",
      "143/143 [==============================] - 0s 3ms/step - loss: 0.6950 - acc: 0.7232 - f1_m: 0.8333 - precision_m: 0.9515 - recall_m: 0.7447 - val_loss: 0.6909 - val_acc: 0.6275 - val_f1_m: 0.7640 - val_precision_m: 0.9516 - val_recall_m: 0.6406\n",
      "Epoch 4/32\n",
      "143/143 [==============================] - 0s 3ms/step - loss: 0.6947 - acc: 0.5817 - f1_m: 0.7267 - precision_m: 0.9510 - recall_m: 0.5923 - val_loss: 0.6946 - val_acc: 0.6108 - val_f1_m: 0.7511 - val_precision_m: 0.9504 - val_recall_m: 0.6233\n",
      "Epoch 5/32\n",
      "143/143 [==============================] - 0s 3ms/step - loss: 0.6942 - acc: 0.6341 - f1_m: 0.7690 - precision_m: 0.9491 - recall_m: 0.6490 - val_loss: 0.6966 - val_acc: 0.5862 - val_f1_m: 0.7308 - val_precision_m: 0.9504 - val_recall_m: 0.5959\n",
      "Epoch 6/32\n",
      "143/143 [==============================] - 0s 3ms/step - loss: 0.6941 - acc: 0.5685 - f1_m: 0.7129 - precision_m: 0.9509 - recall_m: 0.5740 - val_loss: 0.7017 - val_acc: 0.5145 - val_f1_m: 0.6683 - val_precision_m: 0.9458 - val_recall_m: 0.5193\n",
      "Epoch 7/32\n",
      "143/143 [==============================] - 0s 3ms/step - loss: 0.6938 - acc: 0.5679 - f1_m: 0.7097 - precision_m: 0.9449 - recall_m: 0.5713 - val_loss: 0.7031 - val_acc: 0.4705 - val_f1_m: 0.6255 - val_precision_m: 0.9476 - val_recall_m: 0.4698\n",
      "Epoch 8/32\n",
      "143/143 [==============================] - 0s 3ms/step - loss: 0.6939 - acc: 0.4006 - f1_m: 0.5401 - precision_m: 0.9485 - recall_m: 0.3922 - val_loss: 0.7056 - val_acc: 0.4780 - val_f1_m: 0.6321 - val_precision_m: 0.9481 - val_recall_m: 0.4771\n",
      "Epoch 9/32\n",
      "143/143 [==============================] - 0s 3ms/step - loss: 0.6938 - acc: 0.4574 - f1_m: 0.6087 - precision_m: 0.9513 - recall_m: 0.4538 - val_loss: 0.7023 - val_acc: 0.4807 - val_f1_m: 0.6353 - val_precision_m: 0.9478 - val_recall_m: 0.4807\n",
      "Epoch 10/32\n",
      "143/143 [==============================] - 0s 3ms/step - loss: 0.6936 - acc: 0.5308 - f1_m: 0.6821 - precision_m: 0.9507 - recall_m: 0.5358 - val_loss: 0.6972 - val_acc: 0.5286 - val_f1_m: 0.6814 - val_precision_m: 0.9457 - val_recall_m: 0.5348\n",
      "Epoch 11/32\n",
      "143/143 [==============================] - 0s 3ms/step - loss: 0.6934 - acc: 0.5621 - f1_m: 0.7074 - precision_m: 0.9516 - recall_m: 0.5669 - val_loss: 0.7026 - val_acc: 0.4116 - val_f1_m: 0.5633 - val_precision_m: 0.9489 - val_recall_m: 0.4028\n",
      "Epoch 12/32\n",
      "143/143 [==============================] - 0s 3ms/step - loss: 0.6934 - acc: 0.4053 - f1_m: 0.5509 - precision_m: 0.9484 - recall_m: 0.3977 - val_loss: 0.7020 - val_acc: 0.4142 - val_f1_m: 0.5655 - val_precision_m: 0.9507 - val_recall_m: 0.4046\n",
      "Epoch 13/32\n",
      "143/143 [==============================] - 0s 3ms/step - loss: 0.6932 - acc: 0.5411 - f1_m: 0.6882 - precision_m: 0.9502 - recall_m: 0.5437 - val_loss: 0.7010 - val_acc: 0.4393 - val_f1_m: 0.5938 - val_precision_m: 0.9485 - val_recall_m: 0.4345\n",
      "Epoch 14/32\n",
      "143/143 [==============================] - 0s 3ms/step - loss: 0.6932 - acc: 0.4787 - f1_m: 0.6270 - precision_m: 0.9472 - recall_m: 0.4762 - val_loss: 0.7011 - val_acc: 0.3962 - val_f1_m: 0.5460 - val_precision_m: 0.9477 - val_recall_m: 0.3855\n",
      "Epoch 15/32\n",
      "143/143 [==============================] - 0s 3ms/step - loss: 0.6931 - acc: 0.2931 - f1_m: 0.4175 - precision_m: 0.9468 - recall_m: 0.2747 - val_loss: 0.7042 - val_acc: 0.2801 - val_f1_m: 0.4000 - val_precision_m: 0.9521 - val_recall_m: 0.2550\n",
      "Epoch 16/32\n",
      "143/143 [==============================] - 0s 3ms/step - loss: 0.6931 - acc: 0.3371 - f1_m: 0.4722 - precision_m: 0.9483 - recall_m: 0.3234 - val_loss: 0.6986 - val_acc: 0.4279 - val_f1_m: 0.5810 - val_precision_m: 0.9486 - val_recall_m: 0.4210\n",
      "Epoch 17/32\n",
      "143/143 [==============================] - 0s 3ms/step - loss: 0.6931 - acc: 0.5630 - f1_m: 0.7104 - precision_m: 0.9517 - recall_m: 0.5697 - val_loss: 0.6977 - val_acc: 0.4622 - val_f1_m: 0.6176 - val_precision_m: 0.9486 - val_recall_m: 0.4601\n",
      "Epoch 18/32\n",
      "143/143 [==============================] - 0s 3ms/step - loss: 0.6931 - acc: 0.6289 - f1_m: 0.7634 - precision_m: 0.9526 - recall_m: 0.6412 - val_loss: 0.6976 - val_acc: 0.4956 - val_f1_m: 0.6497 - val_precision_m: 0.9486 - val_recall_m: 0.4966\n",
      "Epoch 19/32\n",
      "143/143 [==============================] - 1s 4ms/step - loss: 0.6931 - acc: 0.5175 - f1_m: 0.6700 - precision_m: 0.9509 - recall_m: 0.5233 - val_loss: 0.7001 - val_acc: 0.4244 - val_f1_m: 0.5767 - val_precision_m: 0.9499 - val_recall_m: 0.4159\n",
      "Epoch 20/32\n",
      "143/143 [==============================] - 1s 4ms/step - loss: 0.6931 - acc: 0.5117 - f1_m: 0.6613 - precision_m: 0.9506 - recall_m: 0.5120 - val_loss: 0.6970 - val_acc: 0.5259 - val_f1_m: 0.6791 - val_precision_m: 0.9471 - val_recall_m: 0.5316\n",
      "Epoch 21/32\n",
      "143/143 [==============================] - 0s 3ms/step - loss: 0.6930 - acc: 0.6018 - f1_m: 0.7371 - precision_m: 0.9456 - recall_m: 0.6086 - val_loss: 0.6976 - val_acc: 0.4943 - val_f1_m: 0.6481 - val_precision_m: 0.9492 - val_recall_m: 0.4948\n",
      "Epoch 22/32\n",
      "143/143 [==============================] - 1s 4ms/step - loss: 0.6930 - acc: 0.5900 - f1_m: 0.7295 - precision_m: 0.9485 - recall_m: 0.5984 - val_loss: 0.6977 - val_acc: 0.4507 - val_f1_m: 0.6052 - val_precision_m: 0.9505 - val_recall_m: 0.4459\n",
      "Epoch 23/32\n",
      "143/143 [==============================] - 0s 3ms/step - loss: 0.6928 - acc: 0.3311 - f1_m: 0.4537 - precision_m: 0.9428 - recall_m: 0.3133 - val_loss: 0.7022 - val_acc: 0.1095 - val_f1_m: 0.1281 - val_precision_m: 0.9154 - val_recall_m: 0.0696\n",
      "Epoch 24/32\n",
      "143/143 [==============================] - 1s 4ms/step - loss: 0.6929 - acc: 0.0883 - f1_m: 0.0775 - precision_m: 0.5120 - recall_m: 0.0466 - val_loss: 0.6990 - val_acc: 0.2559 - val_f1_m: 0.3655 - val_precision_m: 0.9465 - val_recall_m: 0.2281\n",
      "Epoch 25/32\n",
      "143/143 [==============================] - 1s 4ms/step - loss: 0.6928 - acc: 0.1869 - f1_m: 0.2477 - precision_m: 0.8964 - recall_m: 0.1551 - val_loss: 0.6990 - val_acc: 0.2511 - val_f1_m: 0.3591 - val_precision_m: 0.9476 - val_recall_m: 0.2231\n",
      "Epoch 26/32\n",
      "143/143 [==============================] - 0s 3ms/step - loss: 0.6928 - acc: 0.3245 - f1_m: 0.3661 - precision_m: 0.8400 - recall_m: 0.3137 - val_loss: 0.6981 - val_acc: 0.0717 - val_f1_m: 0.0501 - val_precision_m: 0.7213 - val_recall_m: 0.0262\n",
      "Epoch 27/32\n",
      "143/143 [==============================] - 0s 3ms/step - loss: 0.6927 - acc: 0.0497 - f1_m: 0.0014 - precision_m: 0.0280 - recall_m: 7.0161e-04 - val_loss: 0.7027 - val_acc: 0.0493 - val_f1_m: 0.0000e+00 - val_precision_m: 0.0000e+00 - val_recall_m: 0.0000e+00\n",
      "Epoch 28/32\n",
      "143/143 [==============================] - 0s 3ms/step - loss: 0.6927 - acc: 0.8048 - f1_m: 0.8795 - precision_m: 0.9245 - recall_m: 0.8401 - val_loss: 0.6956 - val_acc: 0.8338 - val_f1_m: 0.9078 - val_precision_m: 0.9499 - val_recall_m: 0.8702\n",
      "Epoch 29/32\n"
     ]
    },
    {
     "name": "stdout",
     "output_type": "stream",
     "text": [
      "143/143 [==============================] - 0s 3ms/step - loss: 0.6926 - acc: 0.8480 - f1_m: 0.9170 - precision_m: 0.9519 - recall_m: 0.8859 - val_loss: 0.6964 - val_acc: 0.8298 - val_f1_m: 0.9055 - val_precision_m: 0.9497 - val_recall_m: 0.8662\n",
      "Epoch 30/32\n",
      "143/143 [==============================] - 0s 3ms/step - loss: 0.6926 - acc: 0.8671 - f1_m: 0.9284 - precision_m: 0.9524 - recall_m: 0.9067 - val_loss: 0.6941 - val_acc: 0.8355 - val_f1_m: 0.9090 - val_precision_m: 0.9500 - val_recall_m: 0.8721\n",
      "Epoch 31/32\n",
      "143/143 [==============================] - 0s 3ms/step - loss: 0.6926 - acc: 0.8500 - f1_m: 0.9183 - precision_m: 0.9522 - recall_m: 0.8882 - val_loss: 0.6961 - val_acc: 0.8237 - val_f1_m: 0.9017 - val_precision_m: 0.9499 - val_recall_m: 0.8589\n",
      "Epoch 32/32\n",
      "143/143 [==============================] - 0s 3ms/step - loss: 0.6925 - acc: 0.8512 - f1_m: 0.9189 - precision_m: 0.9522 - recall_m: 0.8890 - val_loss: 0.6939 - val_acc: 0.8399 - val_f1_m: 0.9116 - val_precision_m: 0.9503 - val_recall_m: 0.8767\n"
     ]
    }
   ],
   "source": [
    "print('Joint full model with one hot encoding, predicting deception')\n",
    "joint_full_model = models_nn.create_joint_model(pred_df_full)\n",
    "joint_full_model.summary()\n",
    "history = joint_full_model.fit(x=pred_df_full, \n",
    "                               y=y_train_deception, \n",
    "                               epochs=32, \n",
    "                               batch_size=64, \n",
    "                               validation_data=(pred_test_df_full,y_test_deception), \n",
    "#                                callbacks=[models_nn.callback], \n",
    "                               class_weight=deception_class_weight_dict)"
   ]
  },
  {
   "cell_type": "code",
   "execution_count": 31,
   "metadata": {},
   "outputs": [
    {
     "data": {
      "text/plain": [
       "(0.5004262788365095, 0.5009828862164662, 0.49192217791832804, None)"
      ]
     },
     "execution_count": 31,
     "metadata": {},
     "output_type": "execute_result"
    }
   ],
   "source": [
    "joint_predict = joint_full_model.predict(pred_test_df_full)\n",
    "# joint_predict_round = []\n",
    "# for a in joint_predict:\n",
    "#     joint_predict_round.append(np.argmax(a))\n",
    "joint_predict_round = joint_predict.round()\n",
    "precision_recall_fscore_support(y_test_deception, np.array(joint_predict_round), average='macro')"
   ]
  },
  {
   "cell_type": "code",
   "execution_count": 32,
   "metadata": {},
   "outputs": [
    {
     "name": "stdout",
     "output_type": "stream",
     "text": [
      "[0. 1.] [ 280 1994]\n"
     ]
    }
   ],
   "source": [
    "uni, cnt = np.unique(joint_predict_round, return_counts=True)\n",
    "print(uni, cnt)"
   ]
  },
  {
   "cell_type": "code",
   "execution_count": 33,
   "metadata": {},
   "outputs": [
    {
     "name": "stdout",
     "output_type": "stream",
     "text": [
      "Joint full model with one hot encoding, predicting rapport\n",
      "Model: \"functional_15\"\n",
      "_________________________________________________________________\n",
      "Layer (type)                 Output Shape              Param #   \n",
      "=================================================================\n",
      "input_2 (InputLayer)         [(None, 3)]               0         \n",
      "_________________________________________________________________\n",
      "dense_15 (Dense)             (None, 2)                 8         \n",
      "_________________________________________________________________\n",
      "dense_16 (Dense)             (None, 4)                 12        \n",
      "_________________________________________________________________\n",
      "dense_17 (Dense)             (None, 1)                 5         \n",
      "=================================================================\n",
      "Total params: 25\n",
      "Trainable params: 25\n",
      "Non-trainable params: 0\n",
      "_________________________________________________________________\n",
      "Epoch 1/32\n",
      "143/143 [==============================] - 1s 5ms/step - loss: 0.6968 - acc: 0.2819 - f1_m: 0.2966 - precision_m: 0.5110 - recall_m: 0.2206 - val_loss: 0.6939 - val_acc: 0.6412 - val_f1_m: 0.7690 - val_precision_m: 0.8701 - val_recall_m: 0.6902\n",
      "Epoch 2/32\n",
      "143/143 [==============================] - 1s 4ms/step - loss: 0.6936 - acc: 0.6852 - f1_m: 0.8040 - precision_m: 0.8561 - recall_m: 0.7625 - val_loss: 0.6913 - val_acc: 0.7366 - val_f1_m: 0.8413 - val_precision_m: 0.8749 - val_recall_m: 0.8115\n",
      "Epoch 3/32\n",
      "143/143 [==============================] - 1s 4ms/step - loss: 0.6934 - acc: 0.7503 - f1_m: 0.8531 - precision_m: 0.8591 - recall_m: 0.8501 - val_loss: 0.6908 - val_acc: 0.7559 - val_f1_m: 0.8551 - val_precision_m: 0.8727 - val_recall_m: 0.8393\n",
      "Epoch 4/32\n",
      "143/143 [==============================] - 1s 4ms/step - loss: 0.6933 - acc: 0.7609 - f1_m: 0.8592 - precision_m: 0.8582 - recall_m: 0.8625 - val_loss: 0.6907 - val_acc: 0.7630 - val_f1_m: 0.8601 - val_precision_m: 0.8718 - val_recall_m: 0.8498\n",
      "Epoch 5/32\n",
      "143/143 [==============================] - 1s 4ms/step - loss: 0.6932 - acc: 0.7661 - f1_m: 0.8636 - precision_m: 0.8604 - recall_m: 0.8693 - val_loss: 0.6914 - val_acc: 0.7634 - val_f1_m: 0.8606 - val_precision_m: 0.8729 - val_recall_m: 0.8499\n",
      "Epoch 6/32\n",
      "143/143 [==============================] - 0s 3ms/step - loss: 0.6932 - acc: 0.7732 - f1_m: 0.8685 - precision_m: 0.8625 - recall_m: 0.8772 - val_loss: 0.6923 - val_acc: 0.7581 - val_f1_m: 0.8567 - val_precision_m: 0.8728 - val_recall_m: 0.8424\n",
      "Epoch 7/32\n",
      "143/143 [==============================] - 1s 4ms/step - loss: 0.6932 - acc: 0.2738 - f1_m: 0.1941 - precision_m: 0.1959 - recall_m: 0.1929 - val_loss: 0.6929 - val_acc: 0.7559 - val_f1_m: 0.8552 - val_precision_m: 0.8729 - val_recall_m: 0.8395\n",
      "Epoch 8/32\n",
      "143/143 [==============================] - 1s 4ms/step - loss: 0.6931 - acc: 0.6372 - f1_m: 0.6946 - precision_m: 0.6969 - recall_m: 0.6942 - val_loss: 0.6927 - val_acc: 0.7595 - val_f1_m: 0.8579 - val_precision_m: 0.8728 - val_recall_m: 0.8450\n",
      "Epoch 9/32\n",
      "143/143 [==============================] - 1s 4ms/step - loss: 0.6931 - acc: 0.3432 - f1_m: 0.2906 - precision_m: 0.2936 - recall_m: 0.2888 - val_loss: 0.6941 - val_acc: 0.7489 - val_f1_m: 0.8497 - val_precision_m: 0.8758 - val_recall_m: 0.8265\n",
      "Epoch 10/32\n",
      "143/143 [==============================] - 1s 4ms/step - loss: 0.6931 - acc: 0.6484 - f1_m: 0.7178 - precision_m: 0.7272 - recall_m: 0.7108 - val_loss: 0.6935 - val_acc: 0.7542 - val_f1_m: 0.8542 - val_precision_m: 0.8731 - val_recall_m: 0.8376\n",
      "Epoch 11/32\n",
      "143/143 [==============================] - 0s 3ms/step - loss: 0.6931 - acc: 0.7724 - f1_m: 0.8664 - precision_m: 0.8601 - recall_m: 0.8765 - val_loss: 0.6920 - val_acc: 0.7722 - val_f1_m: 0.8666 - val_precision_m: 0.8740 - val_recall_m: 0.8605\n",
      "Epoch 12/32\n",
      "143/143 [==============================] - 0s 3ms/step - loss: 0.6930 - acc: 0.3311 - f1_m: 0.2678 - precision_m: 0.2697 - recall_m: 0.2664 - val_loss: 0.6952 - val_acc: 0.1288 - val_f1_m: 0.0000e+00 - val_precision_m: 0.0000e+00 - val_recall_m: 0.0000e+00\n",
      "Epoch 13/32\n",
      "143/143 [==============================] - 0s 3ms/step - loss: 0.6930 - acc: 0.7354 - f1_m: 0.8166 - precision_m: 0.8132 - recall_m: 0.8227 - val_loss: 0.6953 - val_acc: 0.1288 - val_f1_m: 0.0000e+00 - val_precision_m: 0.0000e+00 - val_recall_m: 0.0000e+00\n",
      "Epoch 14/32\n",
      "143/143 [==============================] - 1s 4ms/step - loss: 0.6928 - acc: 0.3766 - f1_m: 0.3388 - precision_m: 0.3414 - recall_m: 0.3377 - val_loss: 0.6940 - val_acc: 0.7551 - val_f1_m: 0.8548 - val_precision_m: 0.8749 - val_recall_m: 0.8365\n",
      "Epoch 15/32\n",
      "143/143 [==============================] - 1s 4ms/step - loss: 0.6927 - acc: 0.7464 - f1_m: 0.8491 - precision_m: 0.8630 - recall_m: 0.8382 - val_loss: 0.6952 - val_acc: 0.7467 - val_f1_m: 0.8486 - val_precision_m: 0.8773 - val_recall_m: 0.8227\n",
      "Epoch 16/32\n",
      "143/143 [==============================] - 1s 4ms/step - loss: 0.6924 - acc: 0.5154 - f1_m: 0.5350 - precision_m: 0.5484 - recall_m: 0.5244 - val_loss: 0.6965 - val_acc: 0.7309 - val_f1_m: 0.8371 - val_precision_m: 0.8779 - val_recall_m: 0.8012\n",
      "Epoch 17/32\n",
      "143/143 [==============================] - 1s 4ms/step - loss: 0.6921 - acc: 0.5437 - f1_m: 0.5691 - precision_m: 0.5822 - recall_m: 0.5587 - val_loss: 0.6944 - val_acc: 0.7375 - val_f1_m: 0.8423 - val_precision_m: 0.8765 - val_recall_m: 0.8119\n",
      "Epoch 18/32\n",
      "143/143 [==============================] - 0s 3ms/step - loss: 0.6912 - acc: 0.7257 - f1_m: 0.8320 - precision_m: 0.8732 - recall_m: 0.7977 - val_loss: 0.7001 - val_acc: 0.6900 - val_f1_m: 0.8068 - val_precision_m: 0.8747 - val_recall_m: 0.7501\n",
      "Epoch 19/32\n",
      "143/143 [==============================] - 0s 3ms/step - loss: 0.6898 - acc: 0.7041 - f1_m: 0.8154 - precision_m: 0.8796 - recall_m: 0.7634 - val_loss: 0.7079 - val_acc: 0.6517 - val_f1_m: 0.7765 - val_precision_m: 0.8737 - val_recall_m: 0.7002\n",
      "Epoch 20/32\n",
      "143/143 [==============================] - 1s 4ms/step - loss: 0.6878 - acc: 0.6891 - f1_m: 0.8018 - precision_m: 0.8816 - recall_m: 0.7387 - val_loss: 0.7086 - val_acc: 0.6482 - val_f1_m: 0.7735 - val_precision_m: 0.8746 - val_recall_m: 0.6948\n",
      "Epoch 21/32\n",
      "143/143 [==============================] - 1s 4ms/step - loss: 0.6855 - acc: 0.7000 - f1_m: 0.8104 - precision_m: 0.8844 - recall_m: 0.7504 - val_loss: 0.7138 - val_acc: 0.6407 - val_f1_m: 0.7678 - val_precision_m: 0.8720 - val_recall_m: 0.6874\n",
      "Epoch 22/32\n",
      "143/143 [==============================] - 0s 3ms/step - loss: 0.6825 - acc: 0.6919 - f1_m: 0.8036 - precision_m: 0.8864 - recall_m: 0.7378 - val_loss: 0.7087 - val_acc: 0.6552 - val_f1_m: 0.7798 - val_precision_m: 0.8747 - val_recall_m: 0.7050\n",
      "Epoch 23/32\n",
      "143/143 [==============================] - 1s 4ms/step - loss: 0.6793 - acc: 0.7009 - f1_m: 0.8092 - precision_m: 0.8879 - recall_m: 0.7463 - val_loss: 0.7064 - val_acc: 0.6609 - val_f1_m: 0.7846 - val_precision_m: 0.8738 - val_recall_m: 0.7135\n",
      "Epoch 24/32\n",
      "143/143 [==============================] - 0s 3ms/step - loss: 0.6757 - acc: 0.7161 - f1_m: 0.8216 - precision_m: 0.8859 - recall_m: 0.7686 - val_loss: 0.7078 - val_acc: 0.6623 - val_f1_m: 0.7859 - val_precision_m: 0.8738 - val_recall_m: 0.7155\n",
      "Epoch 25/32\n",
      "143/143 [==============================] - 1s 4ms/step - loss: 0.6723 - acc: 0.7165 - f1_m: 0.8228 - precision_m: 0.8894 - recall_m: 0.7677 - val_loss: 0.7056 - val_acc: 0.6697 - val_f1_m: 0.7922 - val_precision_m: 0.8730 - val_recall_m: 0.7265\n",
      "Epoch 26/32\n",
      "143/143 [==============================] - 0s 3ms/step - loss: 0.6689 - acc: 0.7218 - f1_m: 0.8256 - precision_m: 0.8887 - recall_m: 0.7736 - val_loss: 0.7078 - val_acc: 0.6671 - val_f1_m: 0.7908 - val_precision_m: 0.8703 - val_recall_m: 0.7259\n",
      "Epoch 27/32\n",
      "143/143 [==============================] - 0s 3ms/step - loss: 0.6661 - acc: 0.7356 - f1_m: 0.8358 - precision_m: 0.8896 - recall_m: 0.7905 - val_loss: 0.7116 - val_acc: 0.6667 - val_f1_m: 0.7904 - val_precision_m: 0.8700 - val_recall_m: 0.7253\n",
      "Epoch 28/32\n",
      "143/143 [==============================] - 1s 4ms/step - loss: 0.6637 - acc: 0.7328 - f1_m: 0.8337 - precision_m: 0.8917 - recall_m: 0.7850 - val_loss: 0.7129 - val_acc: 0.6724 - val_f1_m: 0.7946 - val_precision_m: 0.8705 - val_recall_m: 0.7323\n",
      "Epoch 29/32\n"
     ]
    },
    {
     "name": "stdout",
     "output_type": "stream",
     "text": [
      "143/143 [==============================] - 0s 3ms/step - loss: 0.6616 - acc: 0.7445 - f1_m: 0.8433 - precision_m: 0.8924 - recall_m: 0.8017 - val_loss: 0.7080 - val_acc: 0.6777 - val_f1_m: 0.7998 - val_precision_m: 0.8686 - val_recall_m: 0.7428\n",
      "Epoch 30/32\n",
      "143/143 [==============================] - 1s 4ms/step - loss: 0.6601 - acc: 0.7377 - f1_m: 0.8380 - precision_m: 0.8930 - recall_m: 0.7917 - val_loss: 0.7079 - val_acc: 0.6829 - val_f1_m: 0.8035 - val_precision_m: 0.8694 - val_recall_m: 0.7488\n",
      "Epoch 31/32\n",
      "143/143 [==============================] - 0s 3ms/step - loss: 0.6587 - acc: 0.7491 - f1_m: 0.8453 - precision_m: 0.8930 - recall_m: 0.8052 - val_loss: 0.7072 - val_acc: 0.6843 - val_f1_m: 0.8048 - val_precision_m: 0.8682 - val_recall_m: 0.7519\n",
      "Epoch 32/32\n",
      "143/143 [==============================] - 0s 3ms/step - loss: 0.6575 - acc: 0.7571 - f1_m: 0.8511 - precision_m: 0.8911 - recall_m: 0.8173 - val_loss: 0.7108 - val_acc: 0.6799 - val_f1_m: 0.8010 - val_precision_m: 0.8677 - val_recall_m: 0.7458\n"
     ]
    }
   ],
   "source": [
    "print('Joint full model with one hot encoding, predicting rapport')\n",
    "joint_full_model = models_nn.create_joint_model(pred_df)\n",
    "joint_full_model.summary()\n",
    "history = joint_full_model.fit(x=pred_df, \n",
    "                               y=y_train_rapport, \n",
    "                               epochs=32, \n",
    "                               batch_size=64, \n",
    "                               validation_data=(pred_test_df,y_test_rapport), \n",
    "#                                callbacks=[models_nn.callback], \n",
    "                               class_weight=rapport_class_weight_dict)"
   ]
  },
  {
   "cell_type": "code",
   "execution_count": 34,
   "metadata": {},
   "outputs": [
    {
     "data": {
      "text/plain": [
       "(0.49524272590014584, 0.4919930465704052, 0.4817321178120617, None)"
      ]
     },
     "execution_count": 34,
     "metadata": {},
     "output_type": "execute_result"
    }
   ],
   "source": [
    "joint_predict = joint_full_model.predict(pred_test_df)\n",
    "# joint_predict_round = []\n",
    "# for a in joint_predict:\n",
    "#     joint_predict_round.append(np.argmax(a))\n",
    "joint_predict_round = joint_predict.round()\n",
    "precision_recall_fscore_support(y_test_rapport, np.array(joint_predict_round), average='macro')"
   ]
  },
  {
   "cell_type": "code",
   "execution_count": 35,
   "metadata": {},
   "outputs": [
    {
     "name": "stdout",
     "output_type": "stream",
     "text": [
      "[0. 1.] [ 575 1699]\n"
     ]
    }
   ],
   "source": [
    "uni, cnt = np.unique(joint_predict_round, return_counts=True)\n",
    "print(uni, cnt)"
   ]
  },
  {
   "cell_type": "markdown",
   "metadata": {},
   "source": [
    "## Weighted against Throughput, WorkTime, PC Agreement & Text Length"
   ]
  },
  {
   "cell_type": "code",
   "execution_count": 36,
   "metadata": {},
   "outputs": [],
   "source": [
    "# Train weighted encodings\n",
    "pred_df_full_throughput, pred_df_throughput, pred_df_full_worktime, pred_df_worktime, pred_df_full_agreement, pred_df_agreement, pred_df_full_textlength, pred_df_textlength, pred_df_full_special, pred_df_special = metadata_options.construct_weighted_dataframe(indices_train, df_throughput, df_worktime, df_agreement, df_textlength, df_special, pred_df, pred_df_full)"
   ]
  },
  {
   "cell_type": "code",
   "execution_count": 37,
   "metadata": {},
   "outputs": [],
   "source": [
    "# Test weighted encodings\n",
    "pred_df_full_throughput_test, pred_df_throughput_test, pred_df_full_worktime_test, pred_df_worktime_test, pred_df_full_agreement_test, pred_df_agreement_test, pred_df_full_textlength_test, pred_df_textlength_test, pred_df_full_special_test, pred_df_special_test = metadata_options.construct_weighted_dataframe(indices_test, df_throughput, df_worktime, df_agreement, df_textlength, df_special, pred_test_df, pred_test_df_full)"
   ]
  },
  {
   "cell_type": "markdown",
   "metadata": {},
   "source": [
    "## Throughput only"
   ]
  },
  {
   "cell_type": "markdown",
   "metadata": {},
   "source": [
    "### Joint Model with one hot encoding "
   ]
  },
  {
   "cell_type": "code",
   "execution_count": 38,
   "metadata": {
    "scrolled": true
   },
   "outputs": [
    {
     "name": "stdout",
     "output_type": "stream",
     "text": [
      "Joint full model with one hot encoding, predicting deception, weighted by throughput\n",
      "Model: \"functional_17\"\n",
      "_________________________________________________________________\n",
      "Layer (type)                 Output Shape              Param #   \n",
      "=================================================================\n",
      "input_3 (InputLayer)         [(None, 4)]               0         \n",
      "_________________________________________________________________\n",
      "dense_18 (Dense)             (None, 2)                 10        \n",
      "_________________________________________________________________\n",
      "dense_19 (Dense)             (None, 4)                 12        \n",
      "_________________________________________________________________\n",
      "dense_20 (Dense)             (None, 1)                 5         \n",
      "=================================================================\n",
      "Total params: 27\n",
      "Trainable params: 27\n",
      "Non-trainable params: 0\n",
      "_________________________________________________________________\n",
      "Epoch 1/32\n",
      "143/143 [==============================] - 1s 5ms/step - loss: 0.6933 - acc: 0.3654 - f1_m: 0.3628 - precision_m: 0.8122 - recall_m: 0.3584 - val_loss: 0.6925 - val_acc: 0.9507 - val_f1_m: 0.9745 - val_precision_m: 0.9506 - val_recall_m: 1.0000\n",
      "Epoch 2/32\n",
      "143/143 [==============================] - 1s 4ms/step - loss: 0.6932 - acc: 0.0781 - f1_m: 0.0416 - precision_m: 0.4841 - recall_m: 0.0318 - val_loss: 0.6948 - val_acc: 0.0602 - val_f1_m: 0.0249 - val_precision_m: 0.5000 - val_recall_m: 0.0129\n",
      "Epoch 3/32\n",
      "143/143 [==============================] - 0s 3ms/step - loss: 0.6932 - acc: 0.2355 - f1_m: 0.2070 - precision_m: 0.4435 - recall_m: 0.2079 - val_loss: 0.6933 - val_acc: 0.0585 - val_f1_m: 0.0214 - val_precision_m: 0.4722 - val_recall_m: 0.0110\n",
      "Epoch 4/32\n",
      "143/143 [==============================] - 1s 4ms/step - loss: 0.6932 - acc: 0.8724 - f1_m: 0.8918 - precision_m: 0.8825 - recall_m: 0.9163 - val_loss: 0.6927 - val_acc: 0.9507 - val_f1_m: 0.9745 - val_precision_m: 0.9506 - val_recall_m: 1.0000\n",
      "Epoch 5/32\n",
      "143/143 [==============================] - 0s 3ms/step - loss: 0.6932 - acc: 0.0634 - f1_m: 0.0161 - precision_m: 0.0836 - recall_m: 0.0151 - val_loss: 0.6963 - val_acc: 0.0515 - val_f1_m: 0.0045 - val_precision_m: 0.1389 - val_recall_m: 0.0023\n",
      "Epoch 6/32\n",
      "143/143 [==============================] - 1s 4ms/step - loss: 0.6932 - acc: 0.0508 - f1_m: 0.0039 - precision_m: 0.1189 - recall_m: 0.0020 - val_loss: 0.6945 - val_acc: 0.0528 - val_f1_m: 0.0072 - val_precision_m: 0.1944 - val_recall_m: 0.0037\n",
      "Epoch 7/32\n",
      "143/143 [==============================] - 0s 3ms/step - loss: 0.6932 - acc: 0.0503 - f1_m: 0.0027 - precision_m: 0.0839 - recall_m: 0.0014 - val_loss: 0.6963 - val_acc: 0.0515 - val_f1_m: 0.0045 - val_precision_m: 0.1389 - val_recall_m: 0.0023\n",
      "Epoch 8/32\n",
      "143/143 [==============================] - 1s 4ms/step - loss: 0.6932 - acc: 0.0508 - f1_m: 0.0039 - precision_m: 0.1119 - recall_m: 0.0020 - val_loss: 0.6952 - val_acc: 0.0519 - val_f1_m: 0.0054 - val_precision_m: 0.1389 - val_recall_m: 0.0028\n",
      "Epoch 9/32\n",
      "143/143 [==============================] - 1s 4ms/step - loss: 0.6932 - acc: 0.4805 - f1_m: 0.4662 - precision_m: 0.5493 - recall_m: 0.4771 - val_loss: 0.6939 - val_acc: 0.0523 - val_f1_m: 0.0072 - val_precision_m: 0.1944 - val_recall_m: 0.0037\n",
      "Epoch 10/32\n",
      "143/143 [==============================] - 0s 3ms/step - loss: 0.6932 - acc: 0.1004 - f1_m: 0.0590 - precision_m: 0.1957 - recall_m: 0.0585 - val_loss: 0.6932 - val_acc: 0.0528 - val_f1_m: 0.0081 - val_precision_m: 0.2222 - val_recall_m: 0.0041\n",
      "Epoch 11/32\n",
      "143/143 [==============================] - 1s 4ms/step - loss: 0.6932 - acc: 0.9319 - f1_m: 0.9546 - precision_m: 0.9383 - recall_m: 0.9791 - val_loss: 0.6924 - val_acc: 0.9507 - val_f1_m: 0.9745 - val_precision_m: 0.9506 - val_recall_m: 1.0000\n",
      "Epoch 12/32\n",
      "143/143 [==============================] - 0s 3ms/step - loss: 0.6932 - acc: 0.2458 - f1_m: 0.2210 - precision_m: 0.3066 - recall_m: 0.2254 - val_loss: 0.6919 - val_acc: 0.9507 - val_f1_m: 0.9745 - val_precision_m: 0.9506 - val_recall_m: 1.0000\n",
      "Epoch 13/32\n",
      "143/143 [==============================] - 1s 4ms/step - loss: 0.6932 - acc: 0.9509 - f1_m: 0.9748 - precision_m: 0.9513 - recall_m: 1.0000 - val_loss: 0.6915 - val_acc: 0.9507 - val_f1_m: 0.9745 - val_precision_m: 0.9506 - val_recall_m: 1.0000\n",
      "Epoch 14/32\n",
      "143/143 [==============================] - 0s 3ms/step - loss: 0.6932 - acc: 0.9509 - f1_m: 0.9749 - precision_m: 0.9513 - recall_m: 1.0000 - val_loss: 0.6917 - val_acc: 0.9507 - val_f1_m: 0.9745 - val_precision_m: 0.9506 - val_recall_m: 1.0000\n",
      "Epoch 15/32\n",
      "143/143 [==============================] - 0s 3ms/step - loss: 0.6932 - acc: 0.4731 - f1_m: 0.4644 - precision_m: 0.4933 - recall_m: 0.4762 - val_loss: 0.6924 - val_acc: 0.9507 - val_f1_m: 0.9745 - val_precision_m: 0.9506 - val_recall_m: 1.0000\n",
      "Epoch 16/32\n",
      "143/143 [==============================] - 0s 3ms/step - loss: 0.6932 - acc: 0.9509 - f1_m: 0.9749 - precision_m: 0.9513 - recall_m: 1.0000 - val_loss: 0.6894 - val_acc: 0.9507 - val_f1_m: 0.9745 - val_precision_m: 0.9506 - val_recall_m: 1.0000\n",
      "Epoch 17/32\n",
      "143/143 [==============================] - 1s 4ms/step - loss: 0.6932 - acc: 0.9509 - f1_m: 0.9748 - precision_m: 0.9513 - recall_m: 1.0000 - val_loss: 0.6916 - val_acc: 0.9507 - val_f1_m: 0.9745 - val_precision_m: 0.9506 - val_recall_m: 1.0000\n",
      "Epoch 18/32\n",
      "143/143 [==============================] - 1s 4ms/step - loss: 0.6932 - acc: 0.9509 - f1_m: 0.9748 - precision_m: 0.9513 - recall_m: 1.0000 - val_loss: 0.6915 - val_acc: 0.9507 - val_f1_m: 0.9745 - val_precision_m: 0.9506 - val_recall_m: 1.0000\n",
      "Epoch 19/32\n",
      "143/143 [==============================] - 0s 3ms/step - loss: 0.6932 - acc: 0.9509 - f1_m: 0.9748 - precision_m: 0.9513 - recall_m: 1.0000 - val_loss: 0.6915 - val_acc: 0.9507 - val_f1_m: 0.9745 - val_precision_m: 0.9506 - val_recall_m: 1.0000\n",
      "Epoch 20/32\n",
      "143/143 [==============================] - 0s 3ms/step - loss: 0.6932 - acc: 0.7532 - f1_m: 0.7639 - precision_m: 0.7915 - recall_m: 0.7841 - val_loss: 0.6917 - val_acc: 0.9507 - val_f1_m: 0.9745 - val_precision_m: 0.9506 - val_recall_m: 1.0000\n",
      "Epoch 21/32\n",
      "143/143 [==============================] - 0s 3ms/step - loss: 0.6932 - acc: 0.2695 - f1_m: 0.2420 - precision_m: 0.3637 - recall_m: 0.2470 - val_loss: 0.6938 - val_acc: 0.0528 - val_f1_m: 0.0081 - val_precision_m: 0.2222 - val_recall_m: 0.0041\n",
      "Epoch 22/32\n",
      "143/143 [==============================] - 0s 3ms/step - loss: 0.6932 - acc: 0.5484 - f1_m: 0.5471 - precision_m: 0.6003 - recall_m: 0.5608 - val_loss: 0.6928 - val_acc: 0.9507 - val_f1_m: 0.9745 - val_precision_m: 0.9506 - val_recall_m: 1.0000\n",
      "Epoch 23/32\n",
      "143/143 [==============================] - 0s 3ms/step - loss: 0.6932 - acc: 0.7404 - f1_m: 0.7448 - precision_m: 0.7731 - recall_m: 0.7634 - val_loss: 0.6930 - val_acc: 0.9507 - val_f1_m: 0.9745 - val_precision_m: 0.9506 - val_recall_m: 1.0000\n",
      "Epoch 24/32\n",
      "143/143 [==============================] - 1s 4ms/step - loss: 0.6932 - acc: 0.4739 - f1_m: 0.4664 - precision_m: 0.5492 - recall_m: 0.4772 - val_loss: 0.6910 - val_acc: 0.9507 - val_f1_m: 0.9745 - val_precision_m: 0.9506 - val_recall_m: 1.0000\n",
      "Epoch 25/32\n",
      "143/143 [==============================] - 1s 4ms/step - loss: 0.6932 - acc: 0.9509 - f1_m: 0.9748 - precision_m: 0.9513 - recall_m: 1.0000 - val_loss: 0.6906 - val_acc: 0.9507 - val_f1_m: 0.9745 - val_precision_m: 0.9506 - val_recall_m: 1.0000\n",
      "Epoch 26/32\n",
      "143/143 [==============================] - 1s 4ms/step - loss: 0.6932 - acc: 0.9185 - f1_m: 0.9398 - precision_m: 0.9230 - recall_m: 0.9651 - val_loss: 0.6916 - val_acc: 0.9507 - val_f1_m: 0.9745 - val_precision_m: 0.9506 - val_recall_m: 1.0000\n",
      "Epoch 27/32\n",
      "143/143 [==============================] - 0s 3ms/step - loss: 0.6932 - acc: 0.3963 - f1_m: 0.3769 - precision_m: 0.4550 - recall_m: 0.3861 - val_loss: 0.6932 - val_acc: 0.0541 - val_f1_m: 0.0107 - val_precision_m: 0.2500 - val_recall_m: 0.0055\n",
      "Epoch 28/32\n",
      "143/143 [==============================] - 0s 3ms/step - loss: 0.6932 - acc: 0.2717 - f1_m: 0.2442 - precision_m: 0.4180 - recall_m: 0.2480 - val_loss: 0.6931 - val_acc: 0.0528 - val_f1_m: 0.0081 - val_precision_m: 0.2222 - val_recall_m: 0.0041\n",
      "Epoch 29/32\n"
     ]
    },
    {
     "name": "stdout",
     "output_type": "stream",
     "text": [
      "143/143 [==============================] - 1s 4ms/step - loss: 0.6932 - acc: 0.8994 - f1_m: 0.9203 - precision_m: 0.9046 - recall_m: 0.9442 - val_loss: 0.6930 - val_acc: 0.9507 - val_f1_m: 0.9745 - val_precision_m: 0.9506 - val_recall_m: 1.0000\n",
      "Epoch 30/32\n",
      "143/143 [==============================] - 1s 4ms/step - loss: 0.6932 - acc: 0.1833 - f1_m: 0.1529 - precision_m: 0.2539 - recall_m: 0.1559 - val_loss: 0.6924 - val_acc: 0.9507 - val_f1_m: 0.9745 - val_precision_m: 0.9506 - val_recall_m: 1.0000\n",
      "Epoch 31/32\n",
      "143/143 [==============================] - 1s 4ms/step - loss: 0.6932 - acc: 0.2082 - f1_m: 0.1745 - precision_m: 0.2983 - recall_m: 0.1771 - val_loss: 0.6933 - val_acc: 0.0528 - val_f1_m: 0.0081 - val_precision_m: 0.2222 - val_recall_m: 0.0041\n",
      "Epoch 32/32\n",
      "143/143 [==============================] - 0s 3ms/step - loss: 0.6932 - acc: 0.7240 - f1_m: 0.7364 - precision_m: 0.7578 - recall_m: 0.7560 - val_loss: 0.6922 - val_acc: 0.9507 - val_f1_m: 0.9745 - val_precision_m: 0.9506 - val_recall_m: 1.0000\n"
     ]
    }
   ],
   "source": [
    "print('Joint full model with one hot encoding, predicting deception, weighted by throughput')\n",
    "joint_full_model = models_nn.create_joint_model(pred_df_full_throughput)\n",
    "joint_full_model.summary()\n",
    "history = joint_full_model.fit(x=pred_df_full_throughput, \n",
    "                               y=y_train_deception, \n",
    "                               epochs=32, \n",
    "                               batch_size=64, \n",
    "                               validation_data=(pred_df_full_throughput_test,y_test_deception), \n",
    "#                                callbacks=[models_nn.callback], \n",
    "                               class_weight=deception_class_weight_dict)"
   ]
  },
  {
   "cell_type": "code",
   "execution_count": 39,
   "metadata": {},
   "outputs": [
    {
     "name": "stderr",
     "output_type": "stream",
     "text": [
      "C:\\Users\\lynne\\anaconda3\\envs\\tf-gpu\\lib\\site-packages\\sklearn\\metrics\\_classification.py:1221: UndefinedMetricWarning: Precision and F-score are ill-defined and being set to 0.0 in labels with no predicted samples. Use `zero_division` parameter to control this behavior.\n",
      "  _warn_prf(average, modifier, msg_start, len(result))\n"
     ]
    },
    {
     "data": {
      "text/plain": [
       "(0.47537379067722074, 0.5, 0.4873760144274121, None)"
      ]
     },
     "execution_count": 39,
     "metadata": {},
     "output_type": "execute_result"
    }
   ],
   "source": [
    "joint_predict = joint_full_model.predict(pred_df_full_throughput_test)\n",
    "# joint_predict_round = []\n",
    "# for a in joint_predict:\n",
    "#     joint_predict_round.append(np.argmax(a))\n",
    "joint_predict_round = joint_predict.round()\n",
    "precision_recall_fscore_support(y_test_deception, np.array(joint_predict_round), average='macro')"
   ]
  },
  {
   "cell_type": "code",
   "execution_count": 40,
   "metadata": {},
   "outputs": [
    {
     "name": "stdout",
     "output_type": "stream",
     "text": [
      "[1.] [2274]\n"
     ]
    }
   ],
   "source": [
    "uni, cnt = np.unique(joint_predict_round, return_counts=True)\n",
    "print(uni, cnt)"
   ]
  },
  {
   "cell_type": "code",
   "execution_count": 41,
   "metadata": {},
   "outputs": [],
   "source": [
    "y_test_rapport = np.asarray(y_test_rapport)\n",
    "y_train_rapport = np.asarray(y_train_rapport)"
   ]
  },
  {
   "cell_type": "code",
   "execution_count": 42,
   "metadata": {
    "scrolled": true
   },
   "outputs": [
    {
     "name": "stdout",
     "output_type": "stream",
     "text": [
      "Joint full model with one hot encoding, predicting rapport, weighted by throughput\n",
      "Model: \"functional_19\"\n",
      "_________________________________________________________________\n",
      "Layer (type)                 Output Shape              Param #   \n",
      "=================================================================\n",
      "input_4 (InputLayer)         [(None, 3)]               0         \n",
      "_________________________________________________________________\n",
      "dense_21 (Dense)             (None, 2)                 8         \n",
      "_________________________________________________________________\n",
      "dense_22 (Dense)             (None, 4)                 12        \n",
      "_________________________________________________________________\n",
      "dense_23 (Dense)             (None, 1)                 5         \n",
      "=================================================================\n",
      "Total params: 25\n",
      "Trainable params: 25\n",
      "Non-trainable params: 0\n",
      "_________________________________________________________________\n",
      "Epoch 1/32\n",
      "143/143 [==============================] - 1s 5ms/step - loss: 0.6932 - acc: 0.2905 - f1_m: 0.2004 - precision_m: 0.1866 - recall_m: 0.2168 - val_loss: 0.6925 - val_acc: 0.8712 - val_f1_m: 0.9299 - val_precision_m: 0.8698 - val_recall_m: 1.0000\n",
      "Epoch 2/32\n",
      "143/143 [==============================] - 0s 3ms/step - loss: 0.6932 - acc: 0.3738 - f1_m: 0.3085 - precision_m: 0.2858 - recall_m: 0.3357 - val_loss: 0.6926 - val_acc: 0.8712 - val_f1_m: 0.9299 - val_precision_m: 0.8698 - val_recall_m: 1.0000\n",
      "Epoch 3/32\n",
      "143/143 [==============================] - 0s 3ms/step - loss: 0.6932 - acc: 0.6123 - f1_m: 0.6132 - precision_m: 0.5703 - recall_m: 0.6643 - val_loss: 0.6929 - val_acc: 0.8712 - val_f1_m: 0.9299 - val_precision_m: 0.8698 - val_recall_m: 1.0000\n",
      "Epoch 4/32\n",
      "143/143 [==============================] - 0s 3ms/step - loss: 0.6932 - acc: 0.6704 - f1_m: 0.6851 - precision_m: 0.6376 - recall_m: 0.7413 - val_loss: 0.6929 - val_acc: 0.8712 - val_f1_m: 0.9299 - val_precision_m: 0.8698 - val_recall_m: 1.0000\n",
      "Epoch 5/32\n",
      "143/143 [==============================] - 1s 4ms/step - loss: 0.6932 - acc: 0.7562 - f1_m: 0.7938 - precision_m: 0.7380 - recall_m: 0.8601 - val_loss: 0.6914 - val_acc: 0.8712 - val_f1_m: 0.9299 - val_precision_m: 0.8698 - val_recall_m: 1.0000\n",
      "Epoch 6/32\n",
      "143/143 [==============================] - 0s 3ms/step - loss: 0.6932 - acc: 0.6785 - f1_m: 0.6975 - precision_m: 0.6486 - recall_m: 0.7552 - val_loss: 0.6930 - val_acc: 0.8712 - val_f1_m: 0.9299 - val_precision_m: 0.8698 - val_recall_m: 1.0000\n",
      "Epoch 7/32\n",
      "143/143 [==============================] - 0s 3ms/step - loss: 0.6932 - acc: 0.8186 - f1_m: 0.8727 - precision_m: 0.8126 - recall_m: 0.9441 - val_loss: 0.6917 - val_acc: 0.8712 - val_f1_m: 0.9299 - val_precision_m: 0.8698 - val_recall_m: 1.0000\n",
      "Epoch 8/32\n",
      "143/143 [==============================] - 0s 3ms/step - loss: 0.6932 - acc: 0.8604 - f1_m: 0.9239 - precision_m: 0.8597 - recall_m: 1.0000 - val_loss: 0.6917 - val_acc: 0.8712 - val_f1_m: 0.9299 - val_precision_m: 0.8698 - val_recall_m: 1.0000\n",
      "Epoch 9/32\n",
      "143/143 [==============================] - 0s 3ms/step - loss: 0.6932 - acc: 0.3745 - f1_m: 0.3097 - precision_m: 0.2878 - recall_m: 0.3357 - val_loss: 0.6922 - val_acc: 0.8712 - val_f1_m: 0.9299 - val_precision_m: 0.8698 - val_recall_m: 1.0000\n",
      "Epoch 10/32\n",
      "143/143 [==============================] - 0s 3ms/step - loss: 0.6932 - acc: 0.8070 - f1_m: 0.8594 - precision_m: 0.7998 - recall_m: 0.9301 - val_loss: 0.6920 - val_acc: 0.8712 - val_f1_m: 0.9299 - val_precision_m: 0.8698 - val_recall_m: 1.0000\n",
      "Epoch 11/32\n",
      "143/143 [==============================] - 0s 3ms/step - loss: 0.6932 - acc: 0.7652 - f1_m: 0.8074 - precision_m: 0.7511 - recall_m: 0.8741 - val_loss: 0.6920 - val_acc: 0.8712 - val_f1_m: 0.9299 - val_precision_m: 0.8698 - val_recall_m: 1.0000\n",
      "Epoch 12/32\n",
      "143/143 [==============================] - 0s 3ms/step - loss: 0.6932 - acc: 0.8604 - f1_m: 0.9249 - precision_m: 0.8613 - recall_m: 1.0000 - val_loss: 0.6909 - val_acc: 0.8712 - val_f1_m: 0.9299 - val_precision_m: 0.8698 - val_recall_m: 1.0000\n",
      "Epoch 13/32\n",
      "143/143 [==============================] - 0s 3ms/step - loss: 0.6932 - acc: 0.8604 - f1_m: 0.9249 - precision_m: 0.8613 - recall_m: 1.0000 - val_loss: 0.6910 - val_acc: 0.8712 - val_f1_m: 0.9299 - val_precision_m: 0.8698 - val_recall_m: 1.0000\n",
      "Epoch 14/32\n",
      "143/143 [==============================] - 0s 3ms/step - loss: 0.6932 - acc: 0.8604 - f1_m: 0.9240 - precision_m: 0.8597 - recall_m: 1.0000 - val_loss: 0.6913 - val_acc: 0.8712 - val_f1_m: 0.9299 - val_precision_m: 0.8698 - val_recall_m: 1.0000\n",
      "Epoch 15/32\n",
      "143/143 [==============================] - 0s 3ms/step - loss: 0.6932 - acc: 0.5544 - f1_m: 0.5357 - precision_m: 0.4979 - recall_m: 0.5804 - val_loss: 0.6916 - val_acc: 0.8712 - val_f1_m: 0.9299 - val_precision_m: 0.8698 - val_recall_m: 1.0000\n",
      "Epoch 16/32\n",
      "143/143 [==============================] - 0s 3ms/step - loss: 0.6932 - acc: 0.4319 - f1_m: 0.3794 - precision_m: 0.3515 - recall_m: 0.4126 - val_loss: 0.6930 - val_acc: 0.8712 - val_f1_m: 0.9299 - val_precision_m: 0.8698 - val_recall_m: 1.0000\n",
      "Epoch 17/32\n",
      "143/143 [==============================] - 1s 4ms/step - loss: 0.6932 - acc: 0.7896 - f1_m: 0.8393 - precision_m: 0.7807 - recall_m: 0.9091 - val_loss: 0.6927 - val_acc: 0.8712 - val_f1_m: 0.9299 - val_precision_m: 0.8698 - val_recall_m: 1.0000\n",
      "Epoch 18/32\n",
      "143/143 [==============================] - 1s 4ms/step - loss: 0.6932 - acc: 0.6649 - f1_m: 0.6826 - precision_m: 0.6332 - recall_m: 0.7413 - val_loss: 0.6908 - val_acc: 0.8712 - val_f1_m: 0.9299 - val_precision_m: 0.8698 - val_recall_m: 1.0000\n",
      "Epoch 19/32\n",
      "143/143 [==============================] - 1s 4ms/step - loss: 0.6932 - acc: 0.7768 - f1_m: 0.8198 - precision_m: 0.7622 - recall_m: 0.8881 - val_loss: 0.6923 - val_acc: 0.8712 - val_f1_m: 0.9299 - val_precision_m: 0.8698 - val_recall_m: 1.0000\n",
      "Epoch 20/32\n",
      "143/143 [==============================] - 1s 4ms/step - loss: 0.6932 - acc: 0.5881 - f1_m: 0.5744 - precision_m: 0.5340 - recall_m: 0.6224 - val_loss: 0.6937 - val_acc: 0.1288 - val_f1_m: 0.0000e+00 - val_precision_m: 0.0000e+00 - val_recall_m: 0.0000e+00\n",
      "Epoch 21/32\n",
      "143/143 [==============================] - 0s 3ms/step - loss: 0.6932 - acc: 0.6191 - f1_m: 0.6202 - precision_m: 0.5771 - recall_m: 0.6713 - val_loss: 0.6923 - val_acc: 0.8712 - val_f1_m: 0.9299 - val_precision_m: 0.8698 - val_recall_m: 1.0000\n",
      "Epoch 22/32\n",
      "143/143 [==============================] - 1s 4ms/step - loss: 0.6932 - acc: 0.7542 - f1_m: 0.7943 - precision_m: 0.7386 - recall_m: 0.8601 - val_loss: 0.6910 - val_acc: 0.8712 - val_f1_m: 0.9299 - val_precision_m: 0.8698 - val_recall_m: 1.0000\n",
      "Epoch 23/32\n",
      "143/143 [==============================] - 1s 4ms/step - loss: 0.6932 - acc: 0.8604 - f1_m: 0.9240 - precision_m: 0.8597 - recall_m: 1.0000 - val_loss: 0.6911 - val_acc: 0.8712 - val_f1_m: 0.9299 - val_precision_m: 0.8698 - val_recall_m: 1.0000\n",
      "Epoch 24/32\n",
      "143/143 [==============================] - 0s 3ms/step - loss: 0.6932 - acc: 0.5668 - f1_m: 0.5532 - precision_m: 0.5129 - recall_m: 0.6014 - val_loss: 0.6933 - val_acc: 0.1288 - val_f1_m: 0.0000e+00 - val_precision_m: 0.0000e+00 - val_recall_m: 0.0000e+00\n",
      "Epoch 25/32\n",
      "143/143 [==============================] - 1s 4ms/step - loss: 0.6932 - acc: 0.5674 - f1_m: 0.5532 - precision_m: 0.5132 - recall_m: 0.6014 - val_loss: 0.6925 - val_acc: 0.8712 - val_f1_m: 0.9299 - val_precision_m: 0.8698 - val_recall_m: 1.0000\n",
      "Epoch 26/32\n",
      "143/143 [==============================] - 1s 4ms/step - loss: 0.6932 - acc: 0.3479 - f1_m: 0.2701 - precision_m: 0.2503 - recall_m: 0.2937 - val_loss: 0.6945 - val_acc: 0.1288 - val_f1_m: 0.0000e+00 - val_precision_m: 0.0000e+00 - val_recall_m: 0.0000e+00\n",
      "Epoch 27/32\n",
      "143/143 [==============================] - 0s 3ms/step - loss: 0.6932 - acc: 0.1446 - f1_m: 0.0124 - precision_m: 0.0111 - recall_m: 0.0140 - val_loss: 0.6931 - val_acc: 0.8712 - val_f1_m: 0.9299 - val_precision_m: 0.8698 - val_recall_m: 1.0000\n",
      "Epoch 28/32\n",
      "143/143 [==============================] - 0s 3ms/step - loss: 0.6932 - acc: 0.5296 - f1_m: 0.5025 - precision_m: 0.4665 - recall_m: 0.5455 - val_loss: 0.6936 - val_acc: 0.1288 - val_f1_m: 0.0000e+00 - val_precision_m: 0.0000e+00 - val_recall_m: 0.0000e+00\n"
     ]
    },
    {
     "name": "stdout",
     "output_type": "stream",
     "text": [
      "Epoch 29/32\n",
      "143/143 [==============================] - 1s 4ms/step - loss: 0.6932 - acc: 0.1396 - f1_m: 0.0000e+00 - precision_m: 0.0000e+00 - recall_m: 0.0000e+00 - val_loss: 0.6934 - val_acc: 0.1288 - val_f1_m: 0.0000e+00 - val_precision_m: 0.0000e+00 - val_recall_m: 0.0000e+00\n",
      "Epoch 30/32\n",
      "143/143 [==============================] - 0s 3ms/step - loss: 0.6932 - acc: 0.7997 - f1_m: 0.8465 - precision_m: 0.7876 - recall_m: 0.9161 - val_loss: 0.6928 - val_acc: 0.8712 - val_f1_m: 0.9299 - val_precision_m: 0.8698 - val_recall_m: 1.0000\n",
      "Epoch 31/32\n",
      "143/143 [==============================] - 1s 4ms/step - loss: 0.6932 - acc: 0.5164 - f1_m: 0.4837 - precision_m: 0.4494 - recall_m: 0.5245 - val_loss: 0.6937 - val_acc: 0.1288 - val_f1_m: 0.0000e+00 - val_precision_m: 0.0000e+00 - val_recall_m: 0.0000e+00\n",
      "Epoch 32/32\n",
      "143/143 [==============================] - 1s 4ms/step - loss: 0.6932 - acc: 0.5144 - f1_m: 0.4832 - precision_m: 0.4484 - recall_m: 0.5245 - val_loss: 0.6938 - val_acc: 0.1288 - val_f1_m: 0.0000e+00 - val_precision_m: 0.0000e+00 - val_recall_m: 0.0000e+00\n"
     ]
    }
   ],
   "source": [
    "print('Joint full model with one hot encoding, predicting rapport, weighted by throughput')\n",
    "joint_full_model = models_nn.create_joint_model(pred_df_throughput)\n",
    "joint_full_model.summary()\n",
    "history = joint_full_model.fit(x=pred_df_throughput, \n",
    "                               y=y_train_rapport, \n",
    "                               epochs=32, \n",
    "                               batch_size=64,\n",
    "                               validation_data=(pred_df_throughput_test,y_test_rapport), \n",
    "#                                callbacks=[models_nn.callback], \n",
    "                               class_weight=rapport_class_weight_dict)"
   ]
  },
  {
   "cell_type": "code",
   "execution_count": 43,
   "metadata": {
    "scrolled": true
   },
   "outputs": [
    {
     "name": "stderr",
     "output_type": "stream",
     "text": [
      "C:\\Users\\lynne\\anaconda3\\envs\\tf-gpu\\lib\\site-packages\\sklearn\\metrics\\_classification.py:1221: UndefinedMetricWarning: Precision and F-score are ill-defined and being set to 0.0 in labels with no predicted samples. Use `zero_division` parameter to control this behavior.\n",
      "  _warn_prf(average, modifier, msg_start, len(result))\n"
     ]
    },
    {
     "data": {
      "text/plain": [
       "(0.06442392260334213, 0.5, 0.11414102064666927, None)"
      ]
     },
     "execution_count": 43,
     "metadata": {},
     "output_type": "execute_result"
    }
   ],
   "source": [
    "joint_predict = joint_full_model.predict(pred_df_throughput_test)\n",
    "# joint_predict_round = []\n",
    "# for a in joint_predict:\n",
    "#     joint_predict_round.append(np.argmax(a))\n",
    "joint_predict_round = joint_predict.round()\n",
    "precision_recall_fscore_support(y_test_rapport, np.array(joint_predict_round), average='macro')"
   ]
  },
  {
   "cell_type": "code",
   "execution_count": 44,
   "metadata": {},
   "outputs": [
    {
     "name": "stdout",
     "output_type": "stream",
     "text": [
      "[0.] [2274]\n"
     ]
    }
   ],
   "source": [
    "uni, cnt = np.unique(joint_predict_round, return_counts=True)\n",
    "print(uni, cnt)"
   ]
  },
  {
   "cell_type": "markdown",
   "metadata": {},
   "source": [
    "## WorkTime only"
   ]
  },
  {
   "cell_type": "markdown",
   "metadata": {},
   "source": [
    "### Joint Model with one hot encoding "
   ]
  },
  {
   "cell_type": "code",
   "execution_count": 45,
   "metadata": {
    "scrolled": true
   },
   "outputs": [
    {
     "name": "stdout",
     "output_type": "stream",
     "text": [
      "Joint full model with one hot encoding, predicting deception, weighted by worktime\n",
      "Model: \"functional_21\"\n",
      "_________________________________________________________________\n",
      "Layer (type)                 Output Shape              Param #   \n",
      "=================================================================\n",
      "input_5 (InputLayer)         [(None, 4)]               0         \n",
      "_________________________________________________________________\n",
      "dense_24 (Dense)             (None, 2)                 10        \n",
      "_________________________________________________________________\n",
      "dense_25 (Dense)             (None, 4)                 12        \n",
      "_________________________________________________________________\n",
      "dense_26 (Dense)             (None, 1)                 5         \n",
      "=================================================================\n",
      "Total params: 27\n",
      "Trainable params: 27\n",
      "Non-trainable params: 0\n",
      "_________________________________________________________________\n",
      "Epoch 1/32\n",
      "143/143 [==============================] - 1s 5ms/step - loss: 0.6934 - acc: 0.0535 - f1_m: 0.0085 - precision_m: 0.0826 - recall_m: 0.0051 - val_loss: 0.6947 - val_acc: 0.5721 - val_f1_m: 0.7187 - val_precision_m: 0.9527 - val_recall_m: 0.5800\n",
      "Epoch 2/32\n",
      "143/143 [==============================] - 0s 3ms/step - loss: 0.6932 - acc: 0.5431 - f1_m: 0.5752 - precision_m: 0.6508 - recall_m: 0.5550 - val_loss: 0.6927 - val_acc: 0.8940 - val_f1_m: 0.9431 - val_precision_m: 0.9505 - val_recall_m: 0.9368\n",
      "Epoch 3/32\n",
      "143/143 [==============================] - 1s 4ms/step - loss: 0.6932 - acc: 0.3865 - f1_m: 0.3827 - precision_m: 0.4325 - recall_m: 0.3801 - val_loss: 0.6910 - val_acc: 0.9164 - val_f1_m: 0.9557 - val_precision_m: 0.9509 - val_recall_m: 0.9614\n",
      "Epoch 4/32\n",
      "143/143 [==============================] - 0s 3ms/step - loss: 0.6931 - acc: 0.6655 - f1_m: 0.6956 - precision_m: 0.7186 - recall_m: 0.6869 - val_loss: 0.6939 - val_acc: 0.8755 - val_f1_m: 0.9327 - val_precision_m: 0.9503 - val_recall_m: 0.9166\n",
      "Epoch 5/32\n",
      "143/143 [==============================] - 0s 3ms/step - loss: 0.6931 - acc: 0.9098 - f1_m: 0.9524 - precision_m: 0.9514 - recall_m: 0.9546 - val_loss: 0.6935 - val_acc: 0.8606 - val_f1_m: 0.9240 - val_precision_m: 0.9487 - val_recall_m: 0.9016\n",
      "Epoch 6/32\n",
      "143/143 [==============================] - 1s 4ms/step - loss: 0.6931 - acc: 0.9007 - f1_m: 0.9465 - precision_m: 0.9495 - recall_m: 0.9447 - val_loss: 0.6930 - val_acc: 0.9094 - val_f1_m: 0.9519 - val_precision_m: 0.9506 - val_recall_m: 0.9541\n",
      "Epoch 7/32\n",
      "143/143 [==============================] - 1s 4ms/step - loss: 0.6931 - acc: 0.3487 - f1_m: 0.3376 - precision_m: 0.5096 - recall_m: 0.3325 - val_loss: 0.6953 - val_acc: 0.0519 - val_f1_m: 0.0053 - val_precision_m: 0.1667 - val_recall_m: 0.0027\n",
      "Epoch 8/32\n",
      "143/143 [==============================] - 1s 4ms/step - loss: 0.6931 - acc: 0.5646 - f1_m: 0.5872 - precision_m: 0.6802 - recall_m: 0.5767 - val_loss: 0.6936 - val_acc: 0.9099 - val_f1_m: 0.9519 - val_precision_m: 0.9506 - val_recall_m: 0.9541\n",
      "Epoch 9/32\n",
      "143/143 [==============================] - 1s 4ms/step - loss: 0.6931 - acc: 0.5893 - f1_m: 0.6037 - precision_m: 0.6736 - recall_m: 0.6060 - val_loss: 0.6937 - val_acc: 0.8817 - val_f1_m: 0.9360 - val_precision_m: 0.9490 - val_recall_m: 0.9245\n",
      "Epoch 10/32\n",
      "143/143 [==============================] - 1s 4ms/step - loss: 0.6931 - acc: 0.6905 - f1_m: 0.7122 - precision_m: 0.8088 - recall_m: 0.7083 - val_loss: 0.6939 - val_acc: 0.8989 - val_f1_m: 0.9456 - val_precision_m: 0.9499 - val_recall_m: 0.9423\n",
      "Epoch 11/32\n",
      "143/143 [==============================] - 1s 4ms/step - loss: 0.6931 - acc: 0.8610 - f1_m: 0.8932 - precision_m: 0.9422 - recall_m: 0.9031 - val_loss: 0.6929 - val_acc: 0.9208 - val_f1_m: 0.9581 - val_precision_m: 0.9506 - val_recall_m: 0.9663\n",
      "Epoch 12/32\n",
      "143/143 [==============================] - 0s 3ms/step - loss: 0.6930 - acc: 0.2336 - f1_m: 0.2133 - precision_m: 0.5924 - recall_m: 0.2038 - val_loss: 0.6949 - val_acc: 0.0607 - val_f1_m: 0.0246 - val_precision_m: 0.5046 - val_recall_m: 0.0127\n",
      "Epoch 13/32\n",
      "143/143 [==============================] - 1s 4ms/step - loss: 0.6930 - acc: 0.1538 - f1_m: 0.1364 - precision_m: 0.7043 - recall_m: 0.1169 - val_loss: 0.6939 - val_acc: 0.0998 - val_f1_m: 0.1027 - val_precision_m: 0.9066 - val_recall_m: 0.0551\n",
      "Epoch 14/32\n",
      "143/143 [==============================] - 1s 4ms/step - loss: 0.6930 - acc: 0.5660 - f1_m: 0.5850 - precision_m: 0.9198 - recall_m: 0.5781 - val_loss: 0.6909 - val_acc: 0.9340 - val_f1_m: 0.9655 - val_precision_m: 0.9509 - val_recall_m: 0.9809\n",
      "Epoch 15/32\n",
      "143/143 [==============================] - 0s 3ms/step - loss: 0.6931 - acc: 0.1016 - f1_m: 0.0815 - precision_m: 0.6992 - recall_m: 0.0598 - val_loss: 0.6949 - val_acc: 0.0748 - val_f1_m: 0.0533 - val_precision_m: 0.8611 - val_recall_m: 0.0278\n",
      "Epoch 16/32\n",
      "143/143 [==============================] - 1s 4ms/step - loss: 0.6930 - acc: 0.4269 - f1_m: 0.4430 - precision_m: 0.9470 - recall_m: 0.4183 - val_loss: 0.6930 - val_acc: 0.9354 - val_f1_m: 0.9662 - val_precision_m: 0.9510 - val_recall_m: 0.9823\n",
      "Epoch 17/32\n",
      "143/143 [==============================] - 1s 4ms/step - loss: 0.6930 - acc: 0.7547 - f1_m: 0.7892 - precision_m: 0.9471 - recall_m: 0.7859 - val_loss: 0.6918 - val_acc: 0.9336 - val_f1_m: 0.9652 - val_precision_m: 0.9509 - val_recall_m: 0.9804\n",
      "Epoch 18/32\n",
      "143/143 [==============================] - 0s 3ms/step - loss: 0.6929 - acc: 0.0976 - f1_m: 0.0826 - precision_m: 0.8733 - recall_m: 0.0536 - val_loss: 0.6958 - val_acc: 0.0726 - val_f1_m: 0.0487 - val_precision_m: 0.7500 - val_recall_m: 0.0254\n",
      "Epoch 19/32\n",
      "143/143 [==============================] - 0s 3ms/step - loss: 0.6929 - acc: 0.6368 - f1_m: 0.6607 - precision_m: 0.9365 - recall_m: 0.6519 - val_loss: 0.6940 - val_acc: 0.1047 - val_f1_m: 0.1124 - val_precision_m: 0.9576 - val_recall_m: 0.0606\n",
      "Epoch 20/32\n",
      "143/143 [==============================] - 0s 3ms/step - loss: 0.6928 - acc: 0.0912 - f1_m: 0.0870 - precision_m: 0.8949 - recall_m: 0.0464 - val_loss: 0.6947 - val_acc: 0.0888 - val_f1_m: 0.0808 - val_precision_m: 0.9074 - val_recall_m: 0.0428\n",
      "Epoch 21/32\n",
      "143/143 [==============================] - 0s 3ms/step - loss: 0.6928 - acc: 0.3581 - f1_m: 0.3724 - precision_m: 0.9499 - recall_m: 0.3434 - val_loss: 0.6930 - val_acc: 0.1077 - val_f1_m: 0.1192 - val_precision_m: 0.9603 - val_recall_m: 0.0643\n",
      "Epoch 22/32\n",
      "143/143 [==============================] - 0s 3ms/step - loss: 0.6926 - acc: 0.3105 - f1_m: 0.3414 - precision_m: 0.9302 - recall_m: 0.2967 - val_loss: 0.6870 - val_acc: 0.9380 - val_f1_m: 0.9676 - val_precision_m: 0.9512 - val_recall_m: 0.9850\n",
      "Epoch 23/32\n",
      "143/143 [==============================] - 1s 4ms/step - loss: 0.6926 - acc: 0.7110 - f1_m: 0.7576 - precision_m: 0.9529 - recall_m: 0.7396 - val_loss: 0.6874 - val_acc: 0.9384 - val_f1_m: 0.9678 - val_precision_m: 0.9512 - val_recall_m: 0.9855\n",
      "Epoch 24/32\n",
      "143/143 [==============================] - 1s 4ms/step - loss: 0.6923 - acc: 0.4824 - f1_m: 0.5122 - precision_m: 0.9470 - recall_m: 0.4777 - val_loss: 0.6929 - val_acc: 0.1161 - val_f1_m: 0.1355 - val_precision_m: 0.9585 - val_recall_m: 0.0739\n",
      "Epoch 25/32\n",
      "143/143 [==============================] - 0s 3ms/step - loss: 0.6923 - acc: 0.0971 - f1_m: 0.0983 - precision_m: 0.9303 - recall_m: 0.0526 - val_loss: 0.6939 - val_acc: 0.0941 - val_f1_m: 0.0913 - val_precision_m: 0.9395 - val_recall_m: 0.0487\n",
      "Epoch 26/32\n",
      "143/143 [==============================] - 1s 4ms/step - loss: 0.6922 - acc: 0.0911 - f1_m: 0.0867 - precision_m: 0.9131 - recall_m: 0.0460 - val_loss: 0.6929 - val_acc: 0.1038 - val_f1_m: 0.1118 - val_precision_m: 0.9488 - val_recall_m: 0.0601\n",
      "Epoch 27/32\n",
      "143/143 [==============================] - 1s 4ms/step - loss: 0.6922 - acc: 0.1803 - f1_m: 0.2290 - precision_m: 0.9470 - recall_m: 0.1512 - val_loss: 0.6876 - val_acc: 0.9336 - val_f1_m: 0.9650 - val_precision_m: 0.9505 - val_recall_m: 0.9805\n",
      "Epoch 28/32\n",
      "143/143 [==============================] - 1s 4ms/step - loss: 0.6921 - acc: 0.8885 - f1_m: 0.9316 - precision_m: 0.9512 - recall_m: 0.9323 - val_loss: 0.6886 - val_acc: 0.9191 - val_f1_m: 0.9572 - val_precision_m: 0.9502 - val_recall_m: 0.9650\n",
      "Epoch 29/32\n"
     ]
    },
    {
     "name": "stdout",
     "output_type": "stream",
     "text": [
      "143/143 [==============================] - 0s 3ms/step - loss: 0.6920 - acc: 0.7256 - f1_m: 0.7851 - precision_m: 0.9455 - recall_m: 0.7461 - val_loss: 0.6899 - val_acc: 0.2397 - val_f1_m: 0.3404 - val_precision_m: 0.9571 - val_recall_m: 0.2093\n",
      "Epoch 30/32\n",
      "143/143 [==============================] - 1s 4ms/step - loss: 0.6919 - acc: 0.1269 - f1_m: 0.1513 - precision_m: 0.9394 - recall_m: 0.0861 - val_loss: 0.6921 - val_acc: 0.1174 - val_f1_m: 0.1373 - val_precision_m: 0.9571 - val_recall_m: 0.0748\n",
      "Epoch 31/32\n",
      "143/143 [==============================] - 0s 3ms/step - loss: 0.6919 - acc: 0.2271 - f1_m: 0.2980 - precision_m: 0.9542 - recall_m: 0.2028 - val_loss: 0.6884 - val_acc: 0.8619 - val_f1_m: 0.9244 - val_precision_m: 0.9525 - val_recall_m: 0.8992\n",
      "Epoch 32/32\n",
      "143/143 [==============================] - 1s 4ms/step - loss: 0.6918 - acc: 0.1182 - f1_m: 0.1308 - precision_m: 0.9250 - recall_m: 0.0761 - val_loss: 0.6928 - val_acc: 0.1240 - val_f1_m: 0.1490 - val_precision_m: 0.9595 - val_recall_m: 0.0816\n"
     ]
    }
   ],
   "source": [
    "print('Joint full model with one hot encoding, predicting deception, weighted by worktime')\n",
    "joint_full_model = models_nn.create_joint_model(pred_df_full_worktime)\n",
    "joint_full_model.summary()\n",
    "history = joint_full_model.fit(x=pred_df_full_worktime, \n",
    "                               y=y_train_deception, \n",
    "                               epochs=32, \n",
    "                               batch_size=64, \n",
    "                               validation_data=(pred_df_full_worktime_test,y_test_deception), \n",
    "#                                callbacks=[models_nn.callback],\n",
    "                               class_weight=deception_class_weight_dict)"
   ]
  },
  {
   "cell_type": "code",
   "execution_count": 46,
   "metadata": {},
   "outputs": [
    {
     "data": {
      "text/plain": [
       "(0.503398838215301, 0.5054513017047707, 0.12308192659129628, None)"
      ]
     },
     "execution_count": 46,
     "metadata": {},
     "output_type": "execute_result"
    }
   ],
   "source": [
    "joint_predict = joint_full_model.predict(pred_df_full_worktime_test)\n",
    "# joint_predict_round = []\n",
    "# for a in joint_predict:\n",
    "#     joint_predict_round.append(np.argmax(a))\n",
    "joint_predict_round = joint_predict.round()\n",
    "precision_recall_fscore_support(y_test_deception, np.array(joint_predict_round), average='macro')"
   ]
  },
  {
   "cell_type": "code",
   "execution_count": 47,
   "metadata": {},
   "outputs": [
    {
     "name": "stdout",
     "output_type": "stream",
     "text": [
      "[0. 1.] [2088  186]\n"
     ]
    }
   ],
   "source": [
    "uni, cnt = np.unique(joint_predict_round, return_counts=True)\n",
    "print(uni, cnt)"
   ]
  },
  {
   "cell_type": "code",
   "execution_count": 48,
   "metadata": {
    "scrolled": false
   },
   "outputs": [
    {
     "name": "stdout",
     "output_type": "stream",
     "text": [
      "Joint full model with one hot encoding, predicting rapport, weighted by worktime\n",
      "Model: \"functional_23\"\n",
      "_________________________________________________________________\n",
      "Layer (type)                 Output Shape              Param #   \n",
      "=================================================================\n",
      "input_6 (InputLayer)         [(None, 3)]               0         \n",
      "_________________________________________________________________\n",
      "dense_27 (Dense)             (None, 2)                 8         \n",
      "_________________________________________________________________\n",
      "dense_28 (Dense)             (None, 4)                 12        \n",
      "_________________________________________________________________\n",
      "dense_29 (Dense)             (None, 1)                 5         \n",
      "=================================================================\n",
      "Total params: 25\n",
      "Trainable params: 25\n",
      "Non-trainable params: 0\n",
      "_________________________________________________________________\n",
      "Epoch 1/32\n",
      "143/143 [==============================] - 1s 5ms/step - loss: 0.6933 - acc: 0.7370 - f1_m: 0.8093 - precision_m: 0.8653 - recall_m: 0.8320 - val_loss: 0.6897 - val_acc: 0.8421 - val_f1_m: 0.9128 - val_precision_m: 0.8693 - val_recall_m: 0.9623\n",
      "Epoch 2/32\n",
      "143/143 [==============================] - 1s 4ms/step - loss: 0.6932 - acc: 0.4305 - f1_m: 0.4411 - precision_m: 0.8754 - recall_m: 0.4035 - val_loss: 0.6878 - val_acc: 0.8487 - val_f1_m: 0.9167 - val_precision_m: 0.8695 - val_recall_m: 0.9707\n",
      "Epoch 3/32\n",
      "143/143 [==============================] - 0s 3ms/step - loss: 0.6932 - acc: 0.8419 - f1_m: 0.9138 - precision_m: 0.8614 - recall_m: 0.9746 - val_loss: 0.6899 - val_acc: 0.8492 - val_f1_m: 0.9170 - val_precision_m: 0.8696 - val_recall_m: 0.9713\n",
      "Epoch 4/32\n",
      "143/143 [==============================] - 0s 3ms/step - loss: 0.6931 - acc: 0.7424 - f1_m: 0.8015 - precision_m: 0.8640 - recall_m: 0.8299 - val_loss: 0.6955 - val_acc: 0.2383 - val_f1_m: 0.2480 - val_precision_m: 0.8905 - val_recall_m: 0.1462\n",
      "Epoch 5/32\n",
      "143/143 [==============================] - 0s 3ms/step - loss: 0.6931 - acc: 0.6417 - f1_m: 0.7267 - precision_m: 0.8763 - recall_m: 0.6949 - val_loss: 0.6916 - val_acc: 0.8487 - val_f1_m: 0.9167 - val_precision_m: 0.8695 - val_recall_m: 0.9707\n",
      "Epoch 6/32\n",
      "143/143 [==============================] - 0s 3ms/step - loss: 0.6931 - acc: 0.8423 - f1_m: 0.9131 - precision_m: 0.8599 - recall_m: 0.9750 - val_loss: 0.6912 - val_acc: 0.8478 - val_f1_m: 0.9162 - val_precision_m: 0.8694 - val_recall_m: 0.9698\n",
      "Epoch 7/32\n",
      "143/143 [==============================] - 1s 4ms/step - loss: 0.6930 - acc: 0.2504 - f1_m: 0.2108 - precision_m: 0.7407 - recall_m: 0.1510 - val_loss: 0.6918 - val_acc: 0.8505 - val_f1_m: 0.9177 - val_precision_m: 0.8698 - val_recall_m: 0.9728\n",
      "Epoch 8/32\n",
      "143/143 [==============================] - 1s 4ms/step - loss: 0.6930 - acc: 0.8124 - f1_m: 0.8859 - precision_m: 0.8654 - recall_m: 0.9260 - val_loss: 0.6921 - val_acc: 0.5383 - val_f1_m: 0.6611 - val_precision_m: 0.8990 - val_recall_m: 0.5255\n",
      "Epoch 9/32\n",
      "143/143 [==============================] - 1s 4ms/step - loss: 0.6930 - acc: 0.5254 - f1_m: 0.5720 - precision_m: 0.8787 - recall_m: 0.5326 - val_loss: 0.6882 - val_acc: 0.8558 - val_f1_m: 0.9209 - val_precision_m: 0.8705 - val_recall_m: 0.9788\n",
      "Epoch 10/32\n",
      "143/143 [==============================] - 1s 4ms/step - loss: 0.6931 - acc: 0.8290 - f1_m: 0.9033 - precision_m: 0.8637 - recall_m: 0.9559 - val_loss: 0.6894 - val_acc: 0.8527 - val_f1_m: 0.9191 - val_precision_m: 0.8701 - val_recall_m: 0.9753\n",
      "Epoch 11/32\n",
      "143/143 [==============================] - 1s 4ms/step - loss: 0.6930 - acc: 0.8358 - f1_m: 0.9092 - precision_m: 0.8631 - recall_m: 0.9644 - val_loss: 0.6884 - val_acc: 0.8575 - val_f1_m: 0.9219 - val_precision_m: 0.8707 - val_recall_m: 0.9808\n",
      "Epoch 12/32\n",
      "143/143 [==============================] - 0s 3ms/step - loss: 0.6930 - acc: 0.7204 - f1_m: 0.8105 - precision_m: 0.8758 - recall_m: 0.7984 - val_loss: 0.6920 - val_acc: 0.5919 - val_f1_m: 0.7200 - val_precision_m: 0.8870 - val_recall_m: 0.6083\n",
      "Epoch 13/32\n",
      "143/143 [==============================] - 0s 3ms/step - loss: 0.6930 - acc: 0.8411 - f1_m: 0.9113 - precision_m: 0.8610 - recall_m: 0.9723 - val_loss: 0.6899 - val_acc: 0.8558 - val_f1_m: 0.9209 - val_precision_m: 0.8705 - val_recall_m: 0.9788\n",
      "Epoch 14/32\n",
      "143/143 [==============================] - 1s 4ms/step - loss: 0.6929 - acc: 0.2974 - f1_m: 0.2952 - precision_m: 0.8588 - recall_m: 0.2119 - val_loss: 0.6921 - val_acc: 0.6139 - val_f1_m: 0.7405 - val_precision_m: 0.8832 - val_recall_m: 0.6402\n",
      "Epoch 15/32\n",
      "143/143 [==============================] - 0s 3ms/step - loss: 0.6929 - acc: 0.7082 - f1_m: 0.7707 - precision_m: 0.8608 - recall_m: 0.7888 - val_loss: 0.6924 - val_acc: 0.5277 - val_f1_m: 0.6502 - val_precision_m: 0.8993 - val_recall_m: 0.5122\n",
      "Epoch 16/32\n",
      "143/143 [==============================] - 1s 4ms/step - loss: 0.6929 - acc: 0.2996 - f1_m: 0.3343 - precision_m: 0.8974 - recall_m: 0.2147 - val_loss: 0.6932 - val_acc: 0.4125 - val_f1_m: 0.5167 - val_precision_m: 0.8944 - val_recall_m: 0.3666\n",
      "Epoch 17/32\n",
      "143/143 [==============================] - 1s 4ms/step - loss: 0.6929 - acc: 0.6971 - f1_m: 0.7829 - precision_m: 0.8736 - recall_m: 0.7686 - val_loss: 0.6922 - val_acc: 0.5347 - val_f1_m: 0.6572 - val_precision_m: 0.9000 - val_recall_m: 0.5207\n",
      "Epoch 18/32\n",
      "143/143 [==============================] - 1s 4ms/step - loss: 0.6928 - acc: 0.2258 - f1_m: 0.1940 - precision_m: 0.8544 - recall_m: 0.1163 - val_loss: 0.6928 - val_acc: 0.4107 - val_f1_m: 0.5136 - val_precision_m: 0.8963 - val_recall_m: 0.3637\n",
      "Epoch 19/32\n",
      "143/143 [==============================] - 1s 4ms/step - loss: 0.6928 - acc: 0.8341 - f1_m: 0.9017 - precision_m: 0.8641 - recall_m: 0.9560 - val_loss: 0.6918 - val_acc: 0.5932 - val_f1_m: 0.7215 - val_precision_m: 0.8874 - val_recall_m: 0.6104\n",
      "Epoch 20/32\n",
      "143/143 [==============================] - 1s 4ms/step - loss: 0.6928 - acc: 0.3531 - f1_m: 0.3956 - precision_m: 0.8853 - recall_m: 0.2888 - val_loss: 0.6905 - val_acc: 0.8562 - val_f1_m: 0.9211 - val_precision_m: 0.8706 - val_recall_m: 0.9793\n",
      "Epoch 21/32\n",
      "143/143 [==============================] - 1s 4ms/step - loss: 0.6929 - acc: 0.8216 - f1_m: 0.8856 - precision_m: 0.8563 - recall_m: 0.9385 - val_loss: 0.6939 - val_acc: 0.3267 - val_f1_m: 0.3952 - val_precision_m: 0.8950 - val_recall_m: 0.2565\n",
      "Epoch 22/32\n",
      "143/143 [==============================] - 1s 4ms/step - loss: 0.6928 - acc: 0.5948 - f1_m: 0.6653 - precision_m: 0.8736 - recall_m: 0.6199 - val_loss: 0.6966 - val_acc: 0.2476 - val_f1_m: 0.2635 - val_precision_m: 0.8975 - val_recall_m: 0.1562\n",
      "Epoch 23/32\n",
      "143/143 [==============================] - 1s 4ms/step - loss: 0.6928 - acc: 0.3604 - f1_m: 0.3927 - precision_m: 0.8953 - recall_m: 0.3036 - val_loss: 0.6918 - val_acc: 0.5449 - val_f1_m: 0.6681 - val_precision_m: 0.8975 - val_recall_m: 0.5352\n",
      "Epoch 24/32\n",
      "143/143 [==============================] - 1s 4ms/step - loss: 0.6928 - acc: 0.5335 - f1_m: 0.6026 - precision_m: 0.8880 - recall_m: 0.5337 - val_loss: 0.6947 - val_acc: 0.3074 - val_f1_m: 0.3642 - val_precision_m: 0.8977 - val_recall_m: 0.2310\n",
      "Epoch 25/32\n",
      "143/143 [==============================] - 0s 3ms/step - loss: 0.6927 - acc: 0.1974 - f1_m: 0.1265 - precision_m: 0.5762 - recall_m: 0.0799 - val_loss: 0.6921 - val_acc: 0.5409 - val_f1_m: 0.6638 - val_precision_m: 0.8980 - val_recall_m: 0.5297\n",
      "Epoch 26/32\n",
      "143/143 [==============================] - 1s 4ms/step - loss: 0.6927 - acc: 0.4625 - f1_m: 0.5431 - precision_m: 0.8891 - recall_m: 0.4375 - val_loss: 0.6912 - val_acc: 0.6636 - val_f1_m: 0.7829 - val_precision_m: 0.8841 - val_recall_m: 0.7046\n",
      "Epoch 27/32\n",
      "143/143 [==============================] - 1s 4ms/step - loss: 0.6927 - acc: 0.3360 - f1_m: 0.3875 - precision_m: 0.9008 - recall_m: 0.2608 - val_loss: 0.6953 - val_acc: 0.2854 - val_f1_m: 0.3299 - val_precision_m: 0.8950 - val_recall_m: 0.2043\n",
      "Epoch 28/32\n",
      "143/143 [==============================] - 1s 4ms/step - loss: 0.6926 - acc: 0.2839 - f1_m: 0.3037 - precision_m: 0.8972 - recall_m: 0.1872 - val_loss: 0.6946 - val_acc: 0.3206 - val_f1_m: 0.3850 - val_precision_m: 0.8993 - val_recall_m: 0.2476\n",
      "Epoch 29/32\n"
     ]
    },
    {
     "name": "stdout",
     "output_type": "stream",
     "text": [
      "143/143 [==============================] - 0s 3ms/step - loss: 0.6927 - acc: 0.4063 - f1_m: 0.4269 - precision_m: 0.8834 - recall_m: 0.3682 - val_loss: 0.6910 - val_acc: 0.6363 - val_f1_m: 0.7594 - val_precision_m: 0.8846 - val_recall_m: 0.6677\n",
      "Epoch 30/32\n",
      "143/143 [==============================] - 0s 3ms/step - loss: 0.6926 - acc: 0.2996 - f1_m: 0.3286 - precision_m: 0.8945 - recall_m: 0.2136 - val_loss: 0.6913 - val_acc: 0.5352 - val_f1_m: 0.6567 - val_precision_m: 0.9014 - val_recall_m: 0.5195\n",
      "Epoch 31/32\n",
      "143/143 [==============================] - 0s 3ms/step - loss: 0.6926 - acc: 0.6986 - f1_m: 0.7932 - precision_m: 0.8773 - recall_m: 0.7667 - val_loss: 0.6904 - val_acc: 0.6438 - val_f1_m: 0.7658 - val_precision_m: 0.8843 - val_recall_m: 0.6776\n",
      "Epoch 32/32\n",
      "143/143 [==============================] - 0s 3ms/step - loss: 0.6926 - acc: 0.4830 - f1_m: 0.5741 - precision_m: 0.8874 - recall_m: 0.4533 - val_loss: 0.6968 - val_acc: 0.2669 - val_f1_m: 0.2982 - val_precision_m: 0.8943 - val_recall_m: 0.1809\n"
     ]
    }
   ],
   "source": [
    "print('Joint full model with one hot encoding, predicting rapport, weighted by worktime')\n",
    "joint_full_model = models_nn.create_joint_model(pred_df_worktime)\n",
    "joint_full_model.summary()\n",
    "history = joint_full_model.fit(x=pred_df_worktime, \n",
    "                               y=y_train_rapport, \n",
    "                               epochs=32, \n",
    "                               batch_size=64,\n",
    "                               validation_data=(pred_df_worktime_test,y_test_rapport), \n",
    "#                                callbacks=[models_nn.callback], \n",
    "                               class_weight=rapport_class_weight_dict)"
   ]
  },
  {
   "cell_type": "code",
   "execution_count": 49,
   "metadata": {},
   "outputs": [
    {
     "data": {
      "text/plain": [
       "(0.5129522411953041, 0.5167271674766941, 0.26530386789587695, None)"
      ]
     },
     "execution_count": 49,
     "metadata": {},
     "output_type": "execute_result"
    }
   ],
   "source": [
    "joint_predict = joint_full_model.predict(pred_df_worktime_test)\n",
    "# joint_predict_round = []\n",
    "# for a in joint_predict:\n",
    "#     joint_predict_round.append(np.argmax(a))\n",
    "joint_predict_round = joint_predict.round()\n",
    "precision_recall_fscore_support(y_test_rapport, np.array(joint_predict_round), average='macro')"
   ]
  },
  {
   "cell_type": "code",
   "execution_count": 50,
   "metadata": {},
   "outputs": [
    {
     "name": "stdout",
     "output_type": "stream",
     "text": [
      "[0. 1.] [1874  400]\n"
     ]
    }
   ],
   "source": [
    "uni, cnt = np.unique(joint_predict_round, return_counts=True)\n",
    "print(uni, cnt)"
   ]
  },
  {
   "cell_type": "markdown",
   "metadata": {},
   "source": [
    "## PC Agreement only"
   ]
  },
  {
   "cell_type": "markdown",
   "metadata": {},
   "source": [
    "### Joint Model with one hot encoding "
   ]
  },
  {
   "cell_type": "code",
   "execution_count": 51,
   "metadata": {
    "scrolled": true
   },
   "outputs": [
    {
     "name": "stdout",
     "output_type": "stream",
     "text": [
      "Joint full model with one hot encoding, predicting deception, weighted by PC Agreement\n",
      "Model: \"functional_25\"\n",
      "_________________________________________________________________\n",
      "Layer (type)                 Output Shape              Param #   \n",
      "=================================================================\n",
      "input_7 (InputLayer)         [(None, 4)]               0         \n",
      "_________________________________________________________________\n",
      "dense_30 (Dense)             (None, 2)                 10        \n",
      "_________________________________________________________________\n",
      "dense_31 (Dense)             (None, 4)                 12        \n",
      "_________________________________________________________________\n",
      "dense_32 (Dense)             (None, 1)                 5         \n",
      "=================================================================\n",
      "Total params: 27\n",
      "Trainable params: 27\n",
      "Non-trainable params: 0\n",
      "_________________________________________________________________\n",
      "Epoch 1/32\n",
      "143/143 [==============================] - 1s 5ms/step - loss: 0.6933 - acc: 0.1671 - f1_m: 0.1462 - precision_m: 0.1659 - recall_m: 0.1311 - val_loss: 0.6951 - val_acc: 0.0493 - val_f1_m: 0.0000e+00 - val_precision_m: 0.0000e+00 - val_recall_m: 0.0000e+00\n",
      "Epoch 2/32\n",
      "143/143 [==============================] - 1s 4ms/step - loss: 0.6933 - acc: 0.7995 - f1_m: 0.8447 - precision_m: 0.8547 - recall_m: 0.8372 - val_loss: 0.6934 - val_acc: 0.8804 - val_f1_m: 0.9357 - val_precision_m: 0.9503 - val_recall_m: 0.9222\n",
      "Epoch 3/32\n",
      "143/143 [==============================] - 1s 4ms/step - loss: 0.6932 - acc: 0.4109 - f1_m: 0.4029 - precision_m: 0.4040 - recall_m: 0.4021 - val_loss: 0.6948 - val_acc: 0.0493 - val_f1_m: 0.0000e+00 - val_precision_m: 0.0000e+00 - val_recall_m: 0.0000e+00\n",
      "Epoch 4/32\n",
      "143/143 [==============================] - 0s 3ms/step - loss: 0.6932 - acc: 0.4926 - f1_m: 0.4938 - precision_m: 0.4979 - recall_m: 0.4906 - val_loss: 0.6950 - val_acc: 0.0493 - val_f1_m: 0.0000e+00 - val_precision_m: 0.0000e+00 - val_recall_m: 0.0000e+00\n",
      "Epoch 5/32\n",
      "143/143 [==============================] - 0s 3ms/step - loss: 0.6932 - acc: 0.0491 - f1_m: 0.0000e+00 - precision_m: 0.0000e+00 - recall_m: 0.0000e+00 - val_loss: 0.6969 - val_acc: 0.0493 - val_f1_m: 0.0000e+00 - val_precision_m: 0.0000e+00 - val_recall_m: 0.0000e+00\n",
      "Epoch 6/32\n",
      "143/143 [==============================] - 1s 4ms/step - loss: 0.6932 - acc: 0.0491 - f1_m: 0.0000e+00 - precision_m: 0.0000e+00 - recall_m: 0.0000e+00 - val_loss: 0.6958 - val_acc: 0.0493 - val_f1_m: 0.0000e+00 - val_precision_m: 0.0000e+00 - val_recall_m: 0.0000e+00\n",
      "Epoch 7/32\n",
      "143/143 [==============================] - 0s 3ms/step - loss: 0.6932 - acc: 0.1753 - f1_m: 0.1457 - precision_m: 0.1438 - recall_m: 0.1480 - val_loss: 0.6926 - val_acc: 0.9147 - val_f1_m: 0.9545 - val_precision_m: 0.9514 - val_recall_m: 0.9580\n",
      "Epoch 8/32\n",
      "143/143 [==============================] - 0s 3ms/step - loss: 0.6932 - acc: 0.0745 - f1_m: 0.0272 - precision_m: 0.0268 - recall_m: 0.0276 - val_loss: 0.6967 - val_acc: 0.0493 - val_f1_m: 0.0000e+00 - val_precision_m: 0.0000e+00 - val_recall_m: 0.0000e+00\n",
      "Epoch 9/32\n",
      "143/143 [==============================] - 1s 4ms/step - loss: 0.6932 - acc: 0.0959 - f1_m: 0.0529 - precision_m: 0.0522 - recall_m: 0.0536 - val_loss: 0.6955 - val_acc: 0.0493 - val_f1_m: 0.0000e+00 - val_precision_m: 0.0000e+00 - val_recall_m: 0.0000e+00\n",
      "Epoch 10/32\n",
      "143/143 [==============================] - 1s 4ms/step - loss: 0.6932 - acc: 0.0491 - f1_m: 0.0000e+00 - precision_m: 0.0000e+00 - recall_m: 0.0000e+00 - val_loss: 0.6967 - val_acc: 0.0493 - val_f1_m: 0.0000e+00 - val_precision_m: 0.0000e+00 - val_recall_m: 0.0000e+00\n",
      "Epoch 11/32\n",
      "143/143 [==============================] - 1s 4ms/step - loss: 0.6932 - acc: 0.0491 - f1_m: 0.0000e+00 - precision_m: 0.0000e+00 - recall_m: 0.0000e+00 - val_loss: 0.6992 - val_acc: 0.0493 - val_f1_m: 0.0000e+00 - val_precision_m: 0.0000e+00 - val_recall_m: 0.0000e+00\n",
      "Epoch 12/32\n",
      "143/143 [==============================] - 0s 3ms/step - loss: 0.6932 - acc: 0.0491 - f1_m: 0.0000e+00 - precision_m: 0.0000e+00 - recall_m: 0.0000e+00 - val_loss: 0.7010 - val_acc: 0.0493 - val_f1_m: 0.0000e+00 - val_precision_m: 0.0000e+00 - val_recall_m: 0.0000e+00\n",
      "Epoch 13/32\n",
      "143/143 [==============================] - 1s 4ms/step - loss: 0.6932 - acc: 0.0491 - f1_m: 0.0000e+00 - precision_m: 0.0000e+00 - recall_m: 0.0000e+00 - val_loss: 0.6984 - val_acc: 0.0493 - val_f1_m: 0.0000e+00 - val_precision_m: 0.0000e+00 - val_recall_m: 0.0000e+00\n",
      "Epoch 14/32\n",
      "143/143 [==============================] - 0s 3ms/step - loss: 0.6932 - acc: 0.0491 - f1_m: 0.0000e+00 - precision_m: 0.0000e+00 - recall_m: 0.0000e+00 - val_loss: 0.6967 - val_acc: 0.0493 - val_f1_m: 0.0000e+00 - val_precision_m: 0.0000e+00 - val_recall_m: 0.0000e+00\n",
      "Epoch 15/32\n",
      "143/143 [==============================] - 0s 3ms/step - loss: 0.6932 - acc: 0.0491 - f1_m: 0.0000e+00 - precision_m: 0.0000e+00 - recall_m: 0.0000e+00 - val_loss: 0.6955 - val_acc: 0.0493 - val_f1_m: 0.0000e+00 - val_precision_m: 0.0000e+00 - val_recall_m: 0.0000e+00\n",
      "Epoch 16/32\n",
      "143/143 [==============================] - 1s 4ms/step - loss: 0.6931 - acc: 0.1504 - f1_m: 0.1176 - precision_m: 0.1164 - recall_m: 0.1190 - val_loss: 0.6942 - val_acc: 0.0493 - val_f1_m: 0.0000e+00 - val_precision_m: 0.0000e+00 - val_recall_m: 0.0000e+00\n",
      "Epoch 17/32\n",
      "143/143 [==============================] - 0s 3ms/step - loss: 0.6931 - acc: 0.0548 - f1_m: 0.0066 - precision_m: 0.0064 - recall_m: 0.0068 - val_loss: 0.6961 - val_acc: 0.0493 - val_f1_m: 0.0000e+00 - val_precision_m: 0.0000e+00 - val_recall_m: 0.0000e+00\n",
      "Epoch 18/32\n",
      "143/143 [==============================] - 0s 3ms/step - loss: 0.6932 - acc: 0.5614 - f1_m: 0.5661 - precision_m: 0.5625 - recall_m: 0.5702 - val_loss: 0.6956 - val_acc: 0.0493 - val_f1_m: 0.0000e+00 - val_precision_m: 0.0000e+00 - val_recall_m: 0.0000e+00\n",
      "Epoch 19/32\n",
      "143/143 [==============================] - 1s 4ms/step - loss: 0.6932 - acc: 0.2451 - f1_m: 0.2181 - precision_m: 0.2181 - recall_m: 0.2183 - val_loss: 0.6953 - val_acc: 0.0493 - val_f1_m: 0.0000e+00 - val_precision_m: 0.0000e+00 - val_recall_m: 0.0000e+00\n",
      "Epoch 20/32\n",
      "143/143 [==============================] - 1s 4ms/step - loss: 0.6932 - acc: 0.2785 - f1_m: 0.2532 - precision_m: 0.2516 - recall_m: 0.2550 - val_loss: 0.6942 - val_acc: 0.0493 - val_f1_m: 0.0000e+00 - val_precision_m: 0.0000e+00 - val_recall_m: 0.0000e+00\n",
      "Epoch 21/32\n",
      "143/143 [==============================] - 1s 4ms/step - loss: 0.6932 - acc: 0.3170 - f1_m: 0.3047 - precision_m: 0.3046 - recall_m: 0.3050 - val_loss: 0.6927 - val_acc: 0.9107 - val_f1_m: 0.9523 - val_precision_m: 0.9517 - val_recall_m: 0.9536\n",
      "Epoch 22/32\n",
      "143/143 [==============================] - 0s 3ms/step - loss: 0.6932 - acc: 0.9159 - f1_m: 0.9559 - precision_m: 0.9514 - recall_m: 0.9611 - val_loss: 0.6922 - val_acc: 0.9107 - val_f1_m: 0.9523 - val_precision_m: 0.9517 - val_recall_m: 0.9536\n",
      "Epoch 23/32\n",
      "143/143 [==============================] - 1s 4ms/step - loss: 0.6931 - acc: 0.8983 - f1_m: 0.9461 - precision_m: 0.9514 - recall_m: 0.9418 - val_loss: 0.6933 - val_acc: 0.8773 - val_f1_m: 0.9338 - val_precision_m: 0.9513 - val_recall_m: 0.9176\n",
      "Epoch 24/32\n",
      "143/143 [==============================] - 0s 3ms/step - loss: 0.6931 - acc: 0.8430 - f1_m: 0.8890 - precision_m: 0.8971 - recall_m: 0.8821 - val_loss: 0.6928 - val_acc: 0.9006 - val_f1_m: 0.9468 - val_precision_m: 0.9517 - val_recall_m: 0.9426\n",
      "Epoch 25/32\n",
      "143/143 [==============================] - 1s 4ms/step - loss: 0.6931 - acc: 0.9144 - f1_m: 0.9541 - precision_m: 0.9515 - recall_m: 0.9578 - val_loss: 0.6895 - val_acc: 0.9019 - val_f1_m: 0.9476 - val_precision_m: 0.9517 - val_recall_m: 0.9440\n",
      "Epoch 26/32\n",
      "143/143 [==============================] - 1s 4ms/step - loss: 0.6931 - acc: 0.5660 - f1_m: 0.5779 - precision_m: 0.5779 - recall_m: 0.5785 - val_loss: 0.6920 - val_acc: 0.8887 - val_f1_m: 0.9402 - val_precision_m: 0.9519 - val_recall_m: 0.9294\n",
      "Epoch 27/32\n",
      "143/143 [==============================] - 0s 3ms/step - loss: 0.6931 - acc: 0.9037 - f1_m: 0.9491 - precision_m: 0.9515 - recall_m: 0.9476 - val_loss: 0.6903 - val_acc: 0.8808 - val_f1_m: 0.9357 - val_precision_m: 0.9514 - val_recall_m: 0.9211\n"
     ]
    },
    {
     "name": "stdout",
     "output_type": "stream",
     "text": [
      "Epoch 28/32\n",
      "143/143 [==============================] - 0s 3ms/step - loss: 0.6931 - acc: 0.9017 - f1_m: 0.9481 - precision_m: 0.9516 - recall_m: 0.9457 - val_loss: 0.6921 - val_acc: 0.8685 - val_f1_m: 0.9287 - val_precision_m: 0.9508 - val_recall_m: 0.9084\n",
      "Epoch 29/32\n",
      "143/143 [==============================] - 0s 3ms/step - loss: 0.6931 - acc: 0.8658 - f1_m: 0.9276 - precision_m: 0.9512 - recall_m: 0.9065 - val_loss: 0.6915 - val_acc: 0.8755 - val_f1_m: 0.9327 - val_precision_m: 0.9512 - val_recall_m: 0.9157\n",
      "Epoch 30/32\n",
      "143/143 [==============================] - 1s 4ms/step - loss: 0.6931 - acc: 0.9032 - f1_m: 0.9490 - precision_m: 0.9515 - recall_m: 0.9473 - val_loss: 0.6907 - val_acc: 0.8883 - val_f1_m: 0.9399 - val_precision_m: 0.9518 - val_recall_m: 0.9289\n",
      "Epoch 31/32\n",
      "143/143 [==============================] - 0s 3ms/step - loss: 0.6930 - acc: 0.9009 - f1_m: 0.9477 - precision_m: 0.9514 - recall_m: 0.9447 - val_loss: 0.6912 - val_acc: 0.8892 - val_f1_m: 0.9404 - val_precision_m: 0.9518 - val_recall_m: 0.9298\n",
      "Epoch 32/32\n",
      "143/143 [==============================] - 0s 3ms/step - loss: 0.6931 - acc: 0.8923 - f1_m: 0.9428 - precision_m: 0.9512 - recall_m: 0.9354 - val_loss: 0.6906 - val_acc: 0.8945 - val_f1_m: 0.9434 - val_precision_m: 0.9517 - val_recall_m: 0.9357\n"
     ]
    }
   ],
   "source": [
    "print('Joint full model with one hot encoding, predicting deception, weighted by PC Agreement')\n",
    "joint_full_model = models_nn.create_joint_model(pred_df_full_agreement)\n",
    "joint_full_model.summary()\n",
    "history = joint_full_model.fit(x=pred_df_full_agreement, \n",
    "                               y=y_train_deception, \n",
    "                               epochs=32, \n",
    "                               batch_size=64, \n",
    "                               validation_data=(pred_df_full_agreement_test,y_test_deception), \n",
    "#                                callbacks=[models_nn.callback],\n",
    "                               class_weight=deception_class_weight_dict)"
   ]
  },
  {
   "cell_type": "code",
   "execution_count": 52,
   "metadata": {},
   "outputs": [
    {
     "data": {
      "text/plain": [
       "(0.5086271567891973, 0.5039625589861362, 0.49705072543272577, None)"
      ]
     },
     "execution_count": 52,
     "metadata": {},
     "output_type": "execute_result"
    }
   ],
   "source": [
    "joint_predict = joint_full_model.predict(pred_df_full_throughput_test)\n",
    "# joint_predict_round = []\n",
    "# for a in joint_predict:\n",
    "#     joint_predict_round.append(np.argmax(a))\n",
    "joint_predict_round = joint_predict.round()\n",
    "precision_recall_fscore_support(y_test_rapport, np.array(joint_predict_round), average='macro')"
   ]
  },
  {
   "cell_type": "code",
   "execution_count": 53,
   "metadata": {},
   "outputs": [
    {
     "name": "stdout",
     "output_type": "stream",
     "text": [
      "[0. 1.] [ 124 2150]\n"
     ]
    }
   ],
   "source": [
    "uni, cnt = np.unique(joint_predict_round, return_counts=True)\n",
    "print(uni, cnt)"
   ]
  },
  {
   "cell_type": "code",
   "execution_count": 54,
   "metadata": {},
   "outputs": [],
   "source": [
    "y_test_rapport = np.asarray(y_test_rapport)\n",
    "y_train_rapport = np.asarray(y_train_rapport)"
   ]
  },
  {
   "cell_type": "code",
   "execution_count": 55,
   "metadata": {
    "scrolled": true
   },
   "outputs": [
    {
     "name": "stdout",
     "output_type": "stream",
     "text": [
      "Joint full model with one hot encoding, predicting rapport, weighted by PC Agreement\n",
      "Model: \"functional_27\"\n",
      "_________________________________________________________________\n",
      "Layer (type)                 Output Shape              Param #   \n",
      "=================================================================\n",
      "input_8 (InputLayer)         [(None, 3)]               0         \n",
      "_________________________________________________________________\n",
      "dense_33 (Dense)             (None, 2)                 8         \n",
      "_________________________________________________________________\n",
      "dense_34 (Dense)             (None, 4)                 12        \n",
      "_________________________________________________________________\n",
      "dense_35 (Dense)             (None, 1)                 5         \n",
      "=================================================================\n",
      "Total params: 25\n",
      "Trainable params: 25\n",
      "Non-trainable params: 0\n",
      "_________________________________________________________________\n",
      "Epoch 1/32\n",
      "143/143 [==============================] - 1s 5ms/step - loss: 0.6920 - acc: 0.5725 - f1_m: 0.6309 - precision_m: 0.8629 - recall_m: 0.5754 - val_loss: 0.6840 - val_acc: 0.7735 - val_f1_m: 0.8672 - val_precision_m: 0.8742 - val_recall_m: 0.8620\n",
      "Epoch 2/32\n",
      "143/143 [==============================] - 1s 4ms/step - loss: 0.6852 - acc: 0.8099 - f1_m: 0.8908 - precision_m: 0.8795 - recall_m: 0.9052 - val_loss: 0.6621 - val_acc: 0.8065 - val_f1_m: 0.8883 - val_precision_m: 0.8832 - val_recall_m: 0.8951\n",
      "Epoch 3/32\n",
      "143/143 [==============================] - 0s 3ms/step - loss: 0.6692 - acc: 0.8225 - f1_m: 0.8970 - precision_m: 0.8961 - recall_m: 0.9000 - val_loss: 0.6236 - val_acc: 0.7898 - val_f1_m: 0.8750 - val_precision_m: 0.8972 - val_recall_m: 0.8558\n",
      "Epoch 4/32\n",
      "143/143 [==============================] - 0s 3ms/step - loss: 0.6473 - acc: 0.7966 - f1_m: 0.8772 - precision_m: 0.9133 - recall_m: 0.8457 - val_loss: 0.5893 - val_acc: 0.7621 - val_f1_m: 0.8535 - val_precision_m: 0.9139 - val_recall_m: 0.8020\n",
      "Epoch 5/32\n",
      "143/143 [==============================] - 0s 3ms/step - loss: 0.6288 - acc: 0.7687 - f1_m: 0.8549 - precision_m: 0.9216 - recall_m: 0.7995 - val_loss: 0.5771 - val_acc: 0.6961 - val_f1_m: 0.8010 - val_precision_m: 0.9244 - val_recall_m: 0.7089\n",
      "Epoch 6/32\n",
      "143/143 [==============================] - 0s 3ms/step - loss: 0.6162 - acc: 0.7371 - f1_m: 0.8309 - precision_m: 0.9288 - recall_m: 0.7546 - val_loss: 0.5679 - val_acc: 0.6728 - val_f1_m: 0.7817 - val_precision_m: 0.9284 - val_recall_m: 0.6772\n",
      "Epoch 7/32\n",
      "143/143 [==============================] - 0s 3ms/step - loss: 0.6076 - acc: 0.7276 - f1_m: 0.8230 - precision_m: 0.9318 - recall_m: 0.7398 - val_loss: 0.5836 - val_acc: 0.6253 - val_f1_m: 0.7382 - val_precision_m: 0.9353 - val_recall_m: 0.6120\n",
      "Epoch 8/32\n",
      "143/143 [==============================] - 0s 3ms/step - loss: 0.6016 - acc: 0.6906 - f1_m: 0.7898 - precision_m: 0.9381 - recall_m: 0.6852 - val_loss: 0.5751 - val_acc: 0.6315 - val_f1_m: 0.7435 - val_precision_m: 0.9345 - val_recall_m: 0.6199\n",
      "Epoch 9/32\n",
      "143/143 [==============================] - 1s 4ms/step - loss: 0.5971 - acc: 0.6853 - f1_m: 0.7856 - precision_m: 0.9383 - recall_m: 0.6786 - val_loss: 0.5791 - val_acc: 0.6205 - val_f1_m: 0.7331 - val_precision_m: 0.9364 - val_recall_m: 0.6043\n",
      "Epoch 10/32\n",
      "143/143 [==============================] - 0s 3ms/step - loss: 0.5938 - acc: 0.6707 - f1_m: 0.7714 - precision_m: 0.9405 - recall_m: 0.6574 - val_loss: 0.5704 - val_acc: 0.6315 - val_f1_m: 0.7438 - val_precision_m: 0.9361 - val_recall_m: 0.6195\n",
      "Epoch 11/32\n",
      "143/143 [==============================] - 1s 4ms/step - loss: 0.5913 - acc: 0.6788 - f1_m: 0.7805 - precision_m: 0.9403 - recall_m: 0.6698 - val_loss: 0.5834 - val_acc: 0.6121 - val_f1_m: 0.7235 - val_precision_m: 0.9393 - val_recall_m: 0.5903\n",
      "Epoch 12/32\n",
      "143/143 [==============================] - 1s 4ms/step - loss: 0.5892 - acc: 0.6642 - f1_m: 0.7671 - precision_m: 0.9430 - recall_m: 0.6492 - val_loss: 0.5836 - val_acc: 0.6117 - val_f1_m: 0.7224 - val_precision_m: 0.9395 - val_recall_m: 0.5888\n",
      "Epoch 13/32\n",
      "143/143 [==============================] - 0s 3ms/step - loss: 0.5875 - acc: 0.6644 - f1_m: 0.7650 - precision_m: 0.9446 - recall_m: 0.6464 - val_loss: 0.5929 - val_acc: 0.5985 - val_f1_m: 0.7103 - val_precision_m: 0.9400 - val_recall_m: 0.5729\n",
      "Epoch 14/32\n",
      "143/143 [==============================] - 1s 4ms/step - loss: 0.5861 - acc: 0.6521 - f1_m: 0.7545 - precision_m: 0.9452 - recall_m: 0.6309 - val_loss: 0.5955 - val_acc: 0.5928 - val_f1_m: 0.7051 - val_precision_m: 0.9393 - val_recall_m: 0.5664\n",
      "Epoch 15/32\n",
      "143/143 [==============================] - 0s 3ms/step - loss: 0.5850 - acc: 0.6523 - f1_m: 0.7558 - precision_m: 0.9455 - recall_m: 0.6329 - val_loss: 0.5967 - val_acc: 0.5906 - val_f1_m: 0.7032 - val_precision_m: 0.9392 - val_recall_m: 0.5639\n",
      "Epoch 16/32\n",
      "143/143 [==============================] - 1s 4ms/step - loss: 0.5840 - acc: 0.6490 - f1_m: 0.7536 - precision_m: 0.9459 - recall_m: 0.6296 - val_loss: 0.5930 - val_acc: 0.5976 - val_f1_m: 0.7096 - val_precision_m: 0.9399 - val_recall_m: 0.5718\n",
      "Epoch 17/32\n",
      "143/143 [==============================] - 1s 4ms/step - loss: 0.5832 - acc: 0.6518 - f1_m: 0.7563 - precision_m: 0.9456 - recall_m: 0.6329 - val_loss: 0.5984 - val_acc: 0.5884 - val_f1_m: 0.7012 - val_precision_m: 0.9390 - val_recall_m: 0.5615\n",
      "Epoch 18/32\n",
      "143/143 [==============================] - 1s 4ms/step - loss: 0.5826 - acc: 0.6477 - f1_m: 0.7521 - precision_m: 0.9460 - recall_m: 0.6272 - val_loss: 0.6002 - val_acc: 0.5858 - val_f1_m: 0.6989 - val_precision_m: 0.9386 - val_recall_m: 0.5584\n",
      "Epoch 19/32\n",
      "143/143 [==============================] - 1s 4ms/step - loss: 0.5820 - acc: 0.6443 - f1_m: 0.7506 - precision_m: 0.9464 - recall_m: 0.6246 - val_loss: 0.5929 - val_acc: 0.5989 - val_f1_m: 0.7109 - val_precision_m: 0.9400 - val_recall_m: 0.5733\n",
      "Epoch 20/32\n",
      "143/143 [==============================] - 1s 4ms/step - loss: 0.5814 - acc: 0.6414 - f1_m: 0.7478 - precision_m: 0.9472 - recall_m: 0.6215 - val_loss: 0.5972 - val_acc: 0.5915 - val_f1_m: 0.7041 - val_precision_m: 0.9393 - val_recall_m: 0.5649\n",
      "Epoch 21/32\n",
      "143/143 [==============================] - 1s 4ms/step - loss: 0.5810 - acc: 0.6477 - f1_m: 0.7506 - precision_m: 0.9455 - recall_m: 0.6257 - val_loss: 0.6150 - val_acc: 0.5651 - val_f1_m: 0.6784 - val_precision_m: 0.9381 - val_recall_m: 0.5331\n",
      "Epoch 22/32\n",
      "143/143 [==============================] - 1s 4ms/step - loss: 0.5806 - acc: 0.6369 - f1_m: 0.7439 - precision_m: 0.9476 - recall_m: 0.6152 - val_loss: 0.6166 - val_acc: 0.5633 - val_f1_m: 0.6765 - val_precision_m: 0.9386 - val_recall_m: 0.5306\n",
      "Epoch 23/32\n",
      "143/143 [==============================] - 0s 3ms/step - loss: 0.5803 - acc: 0.6361 - f1_m: 0.7401 - precision_m: 0.9477 - recall_m: 0.6102 - val_loss: 0.6107 - val_acc: 0.5712 - val_f1_m: 0.6852 - val_precision_m: 0.9387 - val_recall_m: 0.5412\n",
      "Epoch 24/32\n",
      "143/143 [==============================] - 1s 4ms/step - loss: 0.5801 - acc: 0.6384 - f1_m: 0.7413 - precision_m: 0.9447 - recall_m: 0.6134 - val_loss: 0.6076 - val_acc: 0.5783 - val_f1_m: 0.6917 - val_precision_m: 0.9394 - val_recall_m: 0.5491\n",
      "Epoch 25/32\n",
      "143/143 [==============================] - 0s 3ms/step - loss: 0.5797 - acc: 0.6285 - f1_m: 0.7321 - precision_m: 0.9490 - recall_m: 0.5996 - val_loss: 0.6034 - val_acc: 0.5822 - val_f1_m: 0.6956 - val_precision_m: 0.9390 - val_recall_m: 0.5540\n",
      "Epoch 26/32\n",
      "143/143 [==============================] - 1s 4ms/step - loss: 0.5796 - acc: 0.6333 - f1_m: 0.7377 - precision_m: 0.9479 - recall_m: 0.6073 - val_loss: 0.5972 - val_acc: 0.5937 - val_f1_m: 0.7062 - val_precision_m: 0.9395 - val_recall_m: 0.5674\n",
      "Epoch 27/32\n",
      "143/143 [==============================] - 1s 4ms/step - loss: 0.5798 - acc: 0.6458 - f1_m: 0.7489 - precision_m: 0.9473 - recall_m: 0.6228 - val_loss: 0.6068 - val_acc: 0.5792 - val_f1_m: 0.6925 - val_precision_m: 0.9395 - val_recall_m: 0.5500\n",
      "Epoch 28/32\n",
      "143/143 [==============================] - 1s 4ms/step - loss: 0.5793 - acc: 0.6339 - f1_m: 0.7371 - precision_m: 0.9486 - recall_m: 0.6060 - val_loss: 0.6104 - val_acc: 0.5743 - val_f1_m: 0.6880 - val_precision_m: 0.9389 - val_recall_m: 0.5445\n",
      "Epoch 29/32\n"
     ]
    },
    {
     "name": "stdout",
     "output_type": "stream",
     "text": [
      "143/143 [==============================] - 1s 4ms/step - loss: 0.5792 - acc: 0.6378 - f1_m: 0.7436 - precision_m: 0.9474 - recall_m: 0.6147 - val_loss: 0.6139 - val_acc: 0.5695 - val_f1_m: 0.6829 - val_precision_m: 0.9378 - val_recall_m: 0.5384\n",
      "Epoch 30/32\n",
      "143/143 [==============================] - 1s 4ms/step - loss: 0.5791 - acc: 0.6408 - f1_m: 0.7444 - precision_m: 0.9454 - recall_m: 0.6169 - val_loss: 0.6266 - val_acc: 0.5554 - val_f1_m: 0.6684 - val_precision_m: 0.9407 - val_recall_m: 0.5200\n",
      "Epoch 31/32\n",
      "143/143 [==============================] - 1s 4ms/step - loss: 0.5792 - acc: 0.6225 - f1_m: 0.7266 - precision_m: 0.9492 - recall_m: 0.5916 - val_loss: 0.6195 - val_acc: 0.5629 - val_f1_m: 0.6759 - val_precision_m: 0.9393 - val_recall_m: 0.5296\n",
      "Epoch 32/32\n",
      "143/143 [==============================] - 0s 3ms/step - loss: 0.5790 - acc: 0.6280 - f1_m: 0.7350 - precision_m: 0.9493 - recall_m: 0.6032 - val_loss: 0.6141 - val_acc: 0.5708 - val_f1_m: 0.6841 - val_precision_m: 0.9380 - val_recall_m: 0.5399\n"
     ]
    }
   ],
   "source": [
    "print('Joint full model with one hot encoding, predicting rapport, weighted by PC Agreement')\n",
    "joint_full_model = models_nn.create_joint_model(pred_df_agreement)\n",
    "joint_full_model.summary()\n",
    "history = joint_full_model.fit(x=pred_df_agreement, \n",
    "                               y=y_train_rapport, \n",
    "                               epochs=32, \n",
    "                               batch_size=64, \n",
    "                               validation_data=(pred_df_agreement_test,y_test_rapport), \n",
    "#                                callbacks=[models_nn.callback], \n",
    "                               class_weight=rapport_class_weight_dict)"
   ]
  },
  {
   "cell_type": "code",
   "execution_count": 56,
   "metadata": {},
   "outputs": [
    {
     "data": {
      "text/plain": [
       "(0.5436406252221259, 0.5846213085748053, 0.528284811140698, None)"
      ]
     },
     "execution_count": 56,
     "metadata": {},
     "output_type": "execute_result"
    }
   ],
   "source": [
    "joint_predict = joint_full_model.predict(pred_df_throughput_test)\n",
    "# joint_predict_round = []\n",
    "# for a in joint_predict:\n",
    "#     joint_predict_round.append(np.argmax(a))\n",
    "joint_predict_round = joint_predict.round()\n",
    "precision_recall_fscore_support(y_test_rapport, np.array(joint_predict_round), average='macro')"
   ]
  },
  {
   "cell_type": "code",
   "execution_count": 57,
   "metadata": {
    "scrolled": true
   },
   "outputs": [
    {
     "name": "stdout",
     "output_type": "stream",
     "text": [
      "[0. 1.] [ 728 1546]\n"
     ]
    }
   ],
   "source": [
    "uni, cnt = np.unique(joint_predict_round, return_counts=True)\n",
    "print(uni, cnt)"
   ]
  },
  {
   "cell_type": "markdown",
   "metadata": {},
   "source": [
    "## Text Length only"
   ]
  },
  {
   "cell_type": "markdown",
   "metadata": {},
   "source": [
    "### Joint Model with one hot encoding "
   ]
  },
  {
   "cell_type": "code",
   "execution_count": 58,
   "metadata": {
    "scrolled": true
   },
   "outputs": [
    {
     "name": "stdout",
     "output_type": "stream",
     "text": [
      "Joint full model with one hot encoding, predicting deception, weighted by text length\n",
      "Model: \"functional_29\"\n",
      "_________________________________________________________________\n",
      "Layer (type)                 Output Shape              Param #   \n",
      "=================================================================\n",
      "input_9 (InputLayer)         [(None, 4)]               0         \n",
      "_________________________________________________________________\n",
      "dense_36 (Dense)             (None, 2)                 10        \n",
      "_________________________________________________________________\n",
      "dense_37 (Dense)             (None, 4)                 12        \n",
      "_________________________________________________________________\n",
      "dense_38 (Dense)             (None, 1)                 5         \n",
      "=================================================================\n",
      "Total params: 27\n",
      "Trainable params: 27\n",
      "Non-trainable params: 0\n",
      "_________________________________________________________________\n",
      "Epoch 1/32\n",
      "143/143 [==============================] - 1s 5ms/step - loss: 0.6932 - acc: 0.1275 - f1_m: 0.1394 - precision_m: 0.8989 - recall_m: 0.0880 - val_loss: 0.6929 - val_acc: 0.1398 - val_f1_m: 0.1799 - val_precision_m: 0.9364 - val_recall_m: 0.1012\n",
      "Epoch 2/32\n",
      "143/143 [==============================] - 1s 4ms/step - loss: 0.6933 - acc: 0.9454 - f1_m: 0.9690 - precision_m: 0.9518 - recall_m: 0.9935 - val_loss: 0.6906 - val_acc: 0.9507 - val_f1_m: 0.9745 - val_precision_m: 0.9506 - val_recall_m: 1.0000\n",
      "Epoch 3/32\n",
      "143/143 [==============================] - 0s 3ms/step - loss: 0.6932 - acc: 0.3905 - f1_m: 0.4050 - precision_m: 0.8908 - recall_m: 0.3850 - val_loss: 0.6917 - val_acc: 0.9507 - val_f1_m: 0.9745 - val_precision_m: 0.9506 - val_recall_m: 1.0000\n",
      "Epoch 4/32\n",
      "143/143 [==============================] - 0s 3ms/step - loss: 0.6932 - acc: 0.8184 - f1_m: 0.8399 - precision_m: 0.9276 - recall_m: 0.8579 - val_loss: 0.6907 - val_acc: 0.9507 - val_f1_m: 0.9745 - val_precision_m: 0.9506 - val_recall_m: 1.0000\n",
      "Epoch 5/32\n",
      "143/143 [==============================] - 0s 3ms/step - loss: 0.6932 - acc: 0.8606 - f1_m: 0.8811 - precision_m: 0.9128 - recall_m: 0.9034 - val_loss: 0.6902 - val_acc: 0.9507 - val_f1_m: 0.9745 - val_precision_m: 0.9506 - val_recall_m: 1.0000\n",
      "Epoch 6/32\n",
      "143/143 [==============================] - 0s 3ms/step - loss: 0.6932 - acc: 0.9172 - f1_m: 0.9404 - precision_m: 0.9240 - recall_m: 0.9651 - val_loss: 0.6901 - val_acc: 0.9507 - val_f1_m: 0.9745 - val_precision_m: 0.9506 - val_recall_m: 1.0000\n",
      "Epoch 7/32\n",
      "143/143 [==============================] - 0s 3ms/step - loss: 0.6932 - acc: 0.9509 - f1_m: 0.9749 - precision_m: 0.9513 - recall_m: 1.0000 - val_loss: 0.6901 - val_acc: 0.9507 - val_f1_m: 0.9745 - val_precision_m: 0.9506 - val_recall_m: 1.0000\n",
      "Epoch 8/32\n",
      "143/143 [==============================] - 0s 3ms/step - loss: 0.6932 - acc: 0.9509 - f1_m: 0.9748 - precision_m: 0.9513 - recall_m: 1.0000 - val_loss: 0.6904 - val_acc: 0.9507 - val_f1_m: 0.9745 - val_precision_m: 0.9506 - val_recall_m: 1.0000\n",
      "Epoch 9/32\n",
      "143/143 [==============================] - 0s 3ms/step - loss: 0.6932 - acc: 0.9509 - f1_m: 0.9748 - precision_m: 0.9513 - recall_m: 1.0000 - val_loss: 0.6917 - val_acc: 0.9507 - val_f1_m: 0.9745 - val_precision_m: 0.9506 - val_recall_m: 1.0000\n",
      "Epoch 10/32\n",
      "143/143 [==============================] - 0s 3ms/step - loss: 0.6932 - acc: 0.9509 - f1_m: 0.9739 - precision_m: 0.9496 - recall_m: 1.0000 - val_loss: 0.6910 - val_acc: 0.9507 - val_f1_m: 0.9745 - val_precision_m: 0.9506 - val_recall_m: 1.0000\n",
      "Epoch 11/32\n",
      "143/143 [==============================] - 0s 3ms/step - loss: 0.6932 - acc: 0.1516 - f1_m: 0.1143 - precision_m: 0.2453 - recall_m: 0.1149 - val_loss: 0.6953 - val_acc: 0.0576 - val_f1_m: 0.0178 - val_precision_m: 0.4444 - val_recall_m: 0.0091\n",
      "Epoch 12/32\n",
      "143/143 [==============================] - 0s 3ms/step - loss: 0.6932 - acc: 0.0522 - f1_m: 0.0066 - precision_m: 0.1818 - recall_m: 0.0033 - val_loss: 0.6943 - val_acc: 0.0558 - val_f1_m: 0.0134 - val_precision_m: 0.3611 - val_recall_m: 0.0069\n",
      "Epoch 13/32\n",
      "143/143 [==============================] - 0s 3ms/step - loss: 0.6932 - acc: 0.0527 - f1_m: 0.0076 - precision_m: 0.2168 - recall_m: 0.0039 - val_loss: 0.6960 - val_acc: 0.0558 - val_f1_m: 0.0143 - val_precision_m: 0.3889 - val_recall_m: 0.0073\n",
      "Epoch 14/32\n",
      "143/143 [==============================] - 0s 3ms/step - loss: 0.6932 - acc: 0.2870 - f1_m: 0.2663 - precision_m: 0.4519 - recall_m: 0.2695 - val_loss: 0.6924 - val_acc: 0.9507 - val_f1_m: 0.9745 - val_precision_m: 0.9506 - val_recall_m: 1.0000\n",
      "Epoch 15/32\n",
      "143/143 [==============================] - 0s 3ms/step - loss: 0.6932 - acc: 0.9509 - f1_m: 0.9748 - precision_m: 0.9513 - recall_m: 1.0000 - val_loss: 0.6929 - val_acc: 0.9507 - val_f1_m: 0.9745 - val_precision_m: 0.9506 - val_recall_m: 1.0000\n",
      "Epoch 16/32\n",
      "143/143 [==============================] - 0s 3ms/step - loss: 0.6932 - acc: 0.6446 - f1_m: 0.6494 - precision_m: 0.6936 - recall_m: 0.6656 - val_loss: 0.6910 - val_acc: 0.9507 - val_f1_m: 0.9745 - val_precision_m: 0.9506 - val_recall_m: 1.0000\n",
      "Epoch 17/32\n",
      "143/143 [==============================] - 0s 3ms/step - loss: 0.6932 - acc: 0.7249 - f1_m: 0.7301 - precision_m: 0.7723 - recall_m: 0.7493 - val_loss: 0.6929 - val_acc: 0.9507 - val_f1_m: 0.9745 - val_precision_m: 0.9506 - val_recall_m: 1.0000\n",
      "Epoch 18/32\n",
      "143/143 [==============================] - 0s 3ms/step - loss: 0.6932 - acc: 0.9509 - f1_m: 0.9749 - precision_m: 0.9513 - recall_m: 1.0000 - val_loss: 0.6917 - val_acc: 0.9507 - val_f1_m: 0.9745 - val_precision_m: 0.9506 - val_recall_m: 1.0000\n",
      "Epoch 19/32\n",
      "143/143 [==============================] - 0s 3ms/step - loss: 0.6932 - acc: 0.4682 - f1_m: 0.4601 - precision_m: 0.5567 - recall_m: 0.4705 - val_loss: 0.6909 - val_acc: 0.9507 - val_f1_m: 0.9745 - val_precision_m: 0.9506 - val_recall_m: 1.0000\n",
      "Epoch 20/32\n",
      "143/143 [==============================] - 0s 3ms/step - loss: 0.6932 - acc: 0.9509 - f1_m: 0.9748 - precision_m: 0.9513 - recall_m: 1.0000 - val_loss: 0.6902 - val_acc: 0.9507 - val_f1_m: 0.9745 - val_precision_m: 0.9506 - val_recall_m: 1.0000\n",
      "Epoch 21/32\n",
      "143/143 [==============================] - 1s 4ms/step - loss: 0.6932 - acc: 0.9509 - f1_m: 0.9748 - precision_m: 0.9513 - recall_m: 1.0000 - val_loss: 0.6902 - val_acc: 0.9507 - val_f1_m: 0.9745 - val_precision_m: 0.9506 - val_recall_m: 1.0000\n",
      "Epoch 22/32\n",
      "143/143 [==============================] - 0s 3ms/step - loss: 0.6932 - acc: 0.9509 - f1_m: 0.9748 - precision_m: 0.9513 - recall_m: 1.0000 - val_loss: 0.6910 - val_acc: 0.9507 - val_f1_m: 0.9745 - val_precision_m: 0.9506 - val_recall_m: 1.0000\n",
      "Epoch 23/32\n",
      "143/143 [==============================] - 1s 4ms/step - loss: 0.6932 - acc: 0.9509 - f1_m: 0.9739 - precision_m: 0.9496 - recall_m: 1.0000 - val_loss: 0.6918 - val_acc: 0.9507 - val_f1_m: 0.9745 - val_precision_m: 0.9506 - val_recall_m: 1.0000\n",
      "Epoch 24/32\n",
      "143/143 [==============================] - 0s 3ms/step - loss: 0.6932 - acc: 0.1784 - f1_m: 0.1417 - precision_m: 0.2797 - recall_m: 0.1426 - val_loss: 0.6939 - val_acc: 0.0554 - val_f1_m: 0.0134 - val_precision_m: 0.3611 - val_recall_m: 0.0069\n",
      "Epoch 25/32\n",
      "143/143 [==============================] - 0s 3ms/step - loss: 0.6932 - acc: 0.1134 - f1_m: 0.0757 - precision_m: 0.2958 - recall_m: 0.0742 - val_loss: 0.6931 - val_acc: 0.0572 - val_f1_m: 0.0170 - val_precision_m: 0.4444 - val_recall_m: 0.0087\n",
      "Epoch 26/32\n",
      "143/143 [==============================] - 1s 4ms/step - loss: 0.6932 - acc: 0.9446 - f1_m: 0.9680 - precision_m: 0.9446 - recall_m: 0.9930 - val_loss: 0.6914 - val_acc: 0.9507 - val_f1_m: 0.9745 - val_precision_m: 0.9506 - val_recall_m: 1.0000\n",
      "Epoch 27/32\n",
      "143/143 [==============================] - 0s 3ms/step - loss: 0.6932 - acc: 0.9249 - f1_m: 0.9479 - precision_m: 0.9382 - recall_m: 0.9724 - val_loss: 0.6911 - val_acc: 0.9507 - val_f1_m: 0.9745 - val_precision_m: 0.9506 - val_recall_m: 1.0000\n",
      "Epoch 28/32\n",
      "143/143 [==============================] - 0s 3ms/step - loss: 0.6932 - acc: 0.6130 - f1_m: 0.6100 - precision_m: 0.6882 - recall_m: 0.6245 - val_loss: 0.6929 - val_acc: 0.9507 - val_f1_m: 0.9745 - val_precision_m: 0.9506 - val_recall_m: 1.0000\n",
      "Epoch 29/32\n"
     ]
    },
    {
     "name": "stdout",
     "output_type": "stream",
     "text": [
      "143/143 [==============================] - 1s 4ms/step - loss: 0.6932 - acc: 0.4767 - f1_m: 0.4780 - precision_m: 0.8058 - recall_m: 0.4798 - val_loss: 0.6920 - val_acc: 0.9507 - val_f1_m: 0.9745 - val_precision_m: 0.9506 - val_recall_m: 1.0000\n",
      "Epoch 30/32\n",
      "143/143 [==============================] - 1s 4ms/step - loss: 0.6932 - acc: 0.9509 - f1_m: 0.9748 - precision_m: 0.9513 - recall_m: 1.0000 - val_loss: 0.6913 - val_acc: 0.9507 - val_f1_m: 0.9745 - val_precision_m: 0.9506 - val_recall_m: 1.0000\n",
      "Epoch 31/32\n",
      "143/143 [==============================] - 1s 4ms/step - loss: 0.6932 - acc: 0.9509 - f1_m: 0.9748 - precision_m: 0.9513 - recall_m: 1.0000 - val_loss: 0.6901 - val_acc: 0.9507 - val_f1_m: 0.9745 - val_precision_m: 0.9506 - val_recall_m: 1.0000\n",
      "Epoch 32/32\n",
      "143/143 [==============================] - 0s 3ms/step - loss: 0.6931 - acc: 0.9509 - f1_m: 0.9748 - precision_m: 0.9513 - recall_m: 1.0000 - val_loss: 0.6916 - val_acc: 0.9507 - val_f1_m: 0.9745 - val_precision_m: 0.9506 - val_recall_m: 1.0000\n"
     ]
    }
   ],
   "source": [
    "print('Joint full model with one hot encoding, predicting deception, weighted by text length')\n",
    "joint_full_model = models_nn.create_joint_model(pred_df_full_textlength)\n",
    "joint_full_model.summary()\n",
    "history = joint_full_model.fit(x=pred_df_full_textlength, \n",
    "                               y=y_train_deception, \n",
    "                               epochs=32, \n",
    "                               batch_size=64, \n",
    "                               validation_data=(pred_df_full_textlength_test,y_test_deception), \n",
    "#                                callbacks=[models_nn.callback],\n",
    "                               class_weight=deception_class_weight_dict)"
   ]
  },
  {
   "cell_type": "code",
   "execution_count": 59,
   "metadata": {},
   "outputs": [
    {
     "name": "stderr",
     "output_type": "stream",
     "text": [
      "C:\\Users\\lynne\\anaconda3\\envs\\tf-gpu\\lib\\site-packages\\sklearn\\metrics\\_classification.py:1221: UndefinedMetricWarning: Precision and F-score are ill-defined and being set to 0.0 in labels with no predicted samples. Use `zero_division` parameter to control this behavior.\n",
      "  _warn_prf(average, modifier, msg_start, len(result))\n"
     ]
    },
    {
     "data": {
      "text/plain": [
       "(0.47537379067722074, 0.5, 0.4873760144274121, None)"
      ]
     },
     "execution_count": 59,
     "metadata": {},
     "output_type": "execute_result"
    }
   ],
   "source": [
    "joint_predict = joint_full_model.predict(pred_df_full_textlength_test)\n",
    "# joint_predict_round = []\n",
    "# for a in joint_predict:\n",
    "#     joint_predict_round.append(np.argmax(a))\n",
    "joint_predict_round = joint_predict.round()\n",
    "precision_recall_fscore_support(y_test_deception, np.array(joint_predict_round), average='macro')"
   ]
  },
  {
   "cell_type": "code",
   "execution_count": 60,
   "metadata": {},
   "outputs": [
    {
     "name": "stdout",
     "output_type": "stream",
     "text": [
      "[1.] [2274]\n"
     ]
    }
   ],
   "source": [
    "uni, cnt = np.unique(joint_predict_round, return_counts=True)\n",
    "print(uni, cnt)"
   ]
  },
  {
   "cell_type": "code",
   "execution_count": 61,
   "metadata": {
    "scrolled": true
   },
   "outputs": [
    {
     "name": "stdout",
     "output_type": "stream",
     "text": [
      "Joint full model with one hot encoding, predicting rapport, weighted by text length\n",
      "Model: \"functional_31\"\n",
      "_________________________________________________________________\n",
      "Layer (type)                 Output Shape              Param #   \n",
      "=================================================================\n",
      "input_10 (InputLayer)        [(None, 3)]               0         \n",
      "_________________________________________________________________\n",
      "dense_39 (Dense)             (None, 2)                 8         \n",
      "_________________________________________________________________\n",
      "dense_40 (Dense)             (None, 4)                 12        \n",
      "_________________________________________________________________\n",
      "dense_41 (Dense)             (None, 1)                 5         \n",
      "=================================================================\n",
      "Total params: 25\n",
      "Trainable params: 25\n",
      "Non-trainable params: 0\n",
      "_________________________________________________________________\n",
      "Epoch 1/32\n",
      "143/143 [==============================] - 1s 5ms/step - loss: 0.6920 - acc: 0.6013 - f1_m: 0.7035 - precision_m: 0.8953 - recall_m: 0.6182 - val_loss: 0.6853 - val_acc: 0.8712 - val_f1_m: 0.9299 - val_precision_m: 0.8698 - val_recall_m: 1.0000\n",
      "Epoch 2/32\n",
      "143/143 [==============================] - 0s 3ms/step - loss: 0.6907 - acc: 0.8558 - f1_m: 0.9214 - precision_m: 0.8686 - recall_m: 0.9840 - val_loss: 0.6816 - val_acc: 0.8215 - val_f1_m: 0.8991 - val_precision_m: 0.8740 - val_recall_m: 0.9268\n",
      "Epoch 3/32\n",
      "143/143 [==============================] - 0s 3ms/step - loss: 0.6882 - acc: 0.7631 - f1_m: 0.8536 - precision_m: 0.8904 - recall_m: 0.8298 - val_loss: 0.6745 - val_acc: 0.7621 - val_f1_m: 0.8589 - val_precision_m: 0.8828 - val_recall_m: 0.8373\n",
      "Epoch 4/32\n",
      "143/143 [==============================] - 1s 4ms/step - loss: 0.6843 - acc: 0.7533 - f1_m: 0.8438 - precision_m: 0.8906 - recall_m: 0.8119 - val_loss: 0.6667 - val_acc: 0.6983 - val_f1_m: 0.8103 - val_precision_m: 0.8927 - val_recall_m: 0.7436\n",
      "Epoch 5/32\n",
      "143/143 [==============================] - 0s 3ms/step - loss: 0.6800 - acc: 0.6640 - f1_m: 0.7692 - precision_m: 0.9003 - recall_m: 0.6770 - val_loss: 0.6638 - val_acc: 0.6121 - val_f1_m: 0.7343 - val_precision_m: 0.9039 - val_recall_m: 0.6204\n",
      "Epoch 6/32\n",
      "143/143 [==============================] - 1s 4ms/step - loss: 0.6751 - acc: 0.6732 - f1_m: 0.7807 - precision_m: 0.9076 - recall_m: 0.6890 - val_loss: 0.6527 - val_acc: 0.6302 - val_f1_m: 0.7518 - val_precision_m: 0.9024 - val_recall_m: 0.6465\n",
      "Epoch 7/32\n",
      "143/143 [==============================] - 0s 3ms/step - loss: 0.6707 - acc: 0.6627 - f1_m: 0.7736 - precision_m: 0.9093 - recall_m: 0.6775 - val_loss: 0.6446 - val_acc: 0.6231 - val_f1_m: 0.7456 - val_precision_m: 0.9019 - val_recall_m: 0.6380\n",
      "Epoch 8/32\n",
      "143/143 [==============================] - 1s 4ms/step - loss: 0.6669 - acc: 0.6235 - f1_m: 0.7374 - precision_m: 0.9137 - recall_m: 0.6219 - val_loss: 0.6416 - val_acc: 0.5985 - val_f1_m: 0.7226 - val_precision_m: 0.9014 - val_recall_m: 0.6049\n",
      "Epoch 9/32\n",
      "143/143 [==============================] - 0s 3ms/step - loss: 0.6639 - acc: 0.6235 - f1_m: 0.7353 - precision_m: 0.9151 - recall_m: 0.6190 - val_loss: 0.6381 - val_acc: 0.5888 - val_f1_m: 0.7128 - val_precision_m: 0.9027 - val_recall_m: 0.5909\n",
      "Epoch 10/32\n",
      "143/143 [==============================] - 1s 4ms/step - loss: 0.6612 - acc: 0.6047 - f1_m: 0.7189 - precision_m: 0.9177 - recall_m: 0.5941 - val_loss: 0.6403 - val_acc: 0.5633 - val_f1_m: 0.6883 - val_precision_m: 0.9040 - val_recall_m: 0.5576\n",
      "Epoch 11/32\n",
      "143/143 [==============================] - 0s 3ms/step - loss: 0.6591 - acc: 0.5952 - f1_m: 0.7074 - precision_m: 0.9199 - recall_m: 0.5788 - val_loss: 0.6425 - val_acc: 0.5475 - val_f1_m: 0.6720 - val_precision_m: 0.9048 - val_recall_m: 0.5366\n",
      "Epoch 12/32\n",
      "143/143 [==============================] - 0s 3ms/step - loss: 0.6573 - acc: 0.5852 - f1_m: 0.6986 - precision_m: 0.9219 - recall_m: 0.5660 - val_loss: 0.6472 - val_acc: 0.5303 - val_f1_m: 0.6546 - val_precision_m: 0.9056 - val_recall_m: 0.5148\n",
      "Epoch 13/32\n",
      "143/143 [==============================] - 0s 3ms/step - loss: 0.6558 - acc: 0.5741 - f1_m: 0.6885 - precision_m: 0.9241 - recall_m: 0.5517 - val_loss: 0.6339 - val_acc: 0.5624 - val_f1_m: 0.6878 - val_precision_m: 0.9034 - val_recall_m: 0.5571\n",
      "Epoch 14/32\n",
      "143/143 [==============================] - 1s 4ms/step - loss: 0.6550 - acc: 0.5752 - f1_m: 0.6897 - precision_m: 0.9230 - recall_m: 0.5549 - val_loss: 0.6465 - val_acc: 0.5299 - val_f1_m: 0.6537 - val_precision_m: 0.9072 - val_recall_m: 0.5133\n",
      "Epoch 15/32\n",
      "143/143 [==============================] - 1s 4ms/step - loss: 0.6538 - acc: 0.5729 - f1_m: 0.6859 - precision_m: 0.9247 - recall_m: 0.5482 - val_loss: 0.6476 - val_acc: 0.5255 - val_f1_m: 0.6488 - val_precision_m: 0.9088 - val_recall_m: 0.5068\n",
      "Epoch 16/32\n",
      "143/143 [==============================] - 1s 4ms/step - loss: 0.6528 - acc: 0.5580 - f1_m: 0.6686 - precision_m: 0.9286 - recall_m: 0.5266 - val_loss: 0.6510 - val_acc: 0.5180 - val_f1_m: 0.6393 - val_precision_m: 0.9100 - val_recall_m: 0.4949\n",
      "Epoch 17/32\n",
      "143/143 [==============================] - 1s 4ms/step - loss: 0.6521 - acc: 0.5536 - f1_m: 0.6652 - precision_m: 0.9295 - recall_m: 0.5214 - val_loss: 0.6398 - val_acc: 0.5396 - val_f1_m: 0.6639 - val_precision_m: 0.9057 - val_recall_m: 0.5261\n",
      "Epoch 18/32\n",
      "143/143 [==============================] - 1s 4ms/step - loss: 0.6516 - acc: 0.5632 - f1_m: 0.6730 - precision_m: 0.9253 - recall_m: 0.5322 - val_loss: 0.6544 - val_acc: 0.5101 - val_f1_m: 0.6305 - val_precision_m: 0.9111 - val_recall_m: 0.4845\n",
      "Epoch 19/32\n",
      "143/143 [==============================] - 1s 4ms/step - loss: 0.6510 - acc: 0.5507 - f1_m: 0.6599 - precision_m: 0.9325 - recall_m: 0.5144 - val_loss: 0.6500 - val_acc: 0.5176 - val_f1_m: 0.6392 - val_precision_m: 0.9097 - val_recall_m: 0.4949\n",
      "Epoch 20/32\n",
      "143/143 [==============================] - 1s 4ms/step - loss: 0.6504 - acc: 0.5599 - f1_m: 0.6721 - precision_m: 0.9317 - recall_m: 0.5291 - val_loss: 0.6594 - val_acc: 0.5040 - val_f1_m: 0.6233 - val_precision_m: 0.9121 - val_recall_m: 0.4761\n",
      "Epoch 21/32\n",
      "143/143 [==============================] - 1s 4ms/step - loss: 0.6502 - acc: 0.5451 - f1_m: 0.6566 - precision_m: 0.9307 - recall_m: 0.5104 - val_loss: 0.6526 - val_acc: 0.5110 - val_f1_m: 0.6322 - val_precision_m: 0.9093 - val_recall_m: 0.4870\n",
      "Epoch 22/32\n",
      "143/143 [==============================] - 1s 4ms/step - loss: 0.6498 - acc: 0.5525 - f1_m: 0.6652 - precision_m: 0.9303 - recall_m: 0.5203 - val_loss: 0.6524 - val_acc: 0.5106 - val_f1_m: 0.6323 - val_precision_m: 0.9075 - val_recall_m: 0.4875\n",
      "Epoch 23/32\n",
      "143/143 [==============================] - 1s 4ms/step - loss: 0.6494 - acc: 0.5478 - f1_m: 0.6564 - precision_m: 0.9332 - recall_m: 0.5103 - val_loss: 0.6557 - val_acc: 0.5070 - val_f1_m: 0.6275 - val_precision_m: 0.9100 - val_recall_m: 0.4815\n",
      "Epoch 24/32\n",
      "143/143 [==============================] - 1s 4ms/step - loss: 0.6491 - acc: 0.5481 - f1_m: 0.6607 - precision_m: 0.9319 - recall_m: 0.5158 - val_loss: 0.6592 - val_acc: 0.5048 - val_f1_m: 0.6242 - val_precision_m: 0.9108 - val_recall_m: 0.4774\n",
      "Epoch 25/32\n",
      "143/143 [==============================] - 1s 4ms/step - loss: 0.6487 - acc: 0.5385 - f1_m: 0.6499 - precision_m: 0.9336 - recall_m: 0.5019 - val_loss: 0.6551 - val_acc: 0.5062 - val_f1_m: 0.6264 - val_precision_m: 0.9080 - val_recall_m: 0.4809\n",
      "Epoch 26/32\n",
      "143/143 [==============================] - 1s 4ms/step - loss: 0.6485 - acc: 0.5410 - f1_m: 0.6519 - precision_m: 0.9337 - recall_m: 0.5040 - val_loss: 0.6510 - val_acc: 0.5158 - val_f1_m: 0.6373 - val_precision_m: 0.9094 - val_recall_m: 0.4930\n",
      "Epoch 27/32\n",
      "143/143 [==============================] - 0s 3ms/step - loss: 0.6483 - acc: 0.5438 - f1_m: 0.6555 - precision_m: 0.9324 - recall_m: 0.5088 - val_loss: 0.6501 - val_acc: 0.5185 - val_f1_m: 0.6400 - val_precision_m: 0.9098 - val_recall_m: 0.4960\n",
      "Epoch 28/32\n",
      "143/143 [==============================] - 1s 4ms/step - loss: 0.6480 - acc: 0.5527 - f1_m: 0.6624 - precision_m: 0.9289 - recall_m: 0.5180 - val_loss: 0.6679 - val_acc: 0.4912 - val_f1_m: 0.6079 - val_precision_m: 0.9144 - val_recall_m: 0.4582\n",
      "Epoch 29/32\n"
     ]
    },
    {
     "name": "stdout",
     "output_type": "stream",
     "text": [
      "143/143 [==============================] - 0s 3ms/step - loss: 0.6480 - acc: 0.5262 - f1_m: 0.6323 - precision_m: 0.9343 - recall_m: 0.4818 - val_loss: 0.6615 - val_acc: 0.5018 - val_f1_m: 0.6202 - val_precision_m: 0.9123 - val_recall_m: 0.4725\n",
      "Epoch 30/32\n",
      "143/143 [==============================] - 0s 3ms/step - loss: 0.6477 - acc: 0.5411 - f1_m: 0.6520 - precision_m: 0.9327 - recall_m: 0.5047 - val_loss: 0.6660 - val_acc: 0.4930 - val_f1_m: 0.6096 - val_precision_m: 0.9128 - val_recall_m: 0.4605\n",
      "Epoch 31/32\n",
      "143/143 [==============================] - 1s 4ms/step - loss: 0.6474 - acc: 0.5364 - f1_m: 0.6464 - precision_m: 0.9356 - recall_m: 0.4984 - val_loss: 0.6493 - val_acc: 0.5193 - val_f1_m: 0.6399 - val_precision_m: 0.9113 - val_recall_m: 0.4955\n",
      "Epoch 32/32\n",
      "143/143 [==============================] - 1s 4ms/step - loss: 0.6472 - acc: 0.5509 - f1_m: 0.6595 - precision_m: 0.9332 - recall_m: 0.5138 - val_loss: 0.6682 - val_acc: 0.4899 - val_f1_m: 0.6062 - val_precision_m: 0.9130 - val_recall_m: 0.4565\n"
     ]
    }
   ],
   "source": [
    "print('Joint full model with one hot encoding, predicting rapport, weighted by text length')\n",
    "joint_full_model = models_nn.create_joint_model(pred_df_textlength)\n",
    "joint_full_model.summary()\n",
    "history = joint_full_model.fit(x=pred_df_textlength, \n",
    "                               y=y_train_rapport, \n",
    "                               epochs=32, \n",
    "                               batch_size=64, \n",
    "                               validation_data=(pred_df_textlength_test,y_test_rapport), \n",
    "#                                callbacks=[models_nn.callback], \n",
    "                               class_weight=rapport_class_weight_dict)"
   ]
  },
  {
   "cell_type": "code",
   "execution_count": 62,
   "metadata": {
    "scrolled": true
   },
   "outputs": [
    {
     "data": {
      "text/plain": [
       "(0.5381740418245897, 0.5836211931437393, 0.4368249175041504, None)"
      ]
     },
     "execution_count": 62,
     "metadata": {},
     "output_type": "execute_result"
    }
   ],
   "source": [
    "joint_predict = joint_full_model.predict(pred_df_textlength_test)\n",
    "# joint_predict_round = []\n",
    "# for a in joint_predict:\n",
    "#     joint_predict_round.append(np.argmax(a))\n",
    "joint_predict_round = joint_predict.round()\n",
    "precision_recall_fscore_support(y_test_rapport, np.array(joint_predict_round), average='macro')"
   ]
  },
  {
   "cell_type": "code",
   "execution_count": 63,
   "metadata": {},
   "outputs": [
    {
     "name": "stdout",
     "output_type": "stream",
     "text": [
      "[0. 1.] [1283  991]\n"
     ]
    }
   ],
   "source": [
    "uni, cnt = np.unique(joint_predict_round, return_counts=True)\n",
    "print(uni, cnt)"
   ]
  },
  {
   "cell_type": "markdown",
   "metadata": {},
   "source": [
    "## Other special options (either SP1, SP2, SP3, RAND_UNI, or RAND_NORM)"
   ]
  },
  {
   "cell_type": "markdown",
   "metadata": {},
   "source": [
    "### Joint Model with one hot encoding "
   ]
  },
  {
   "cell_type": "code",
   "execution_count": 64,
   "metadata": {
    "scrolled": true
   },
   "outputs": [
    {
     "name": "stdout",
     "output_type": "stream",
     "text": [
      "Joint full model with one hot encoding, predicting deception, weighted by special option\n",
      "Model: \"functional_33\"\n",
      "_________________________________________________________________\n",
      "Layer (type)                 Output Shape              Param #   \n",
      "=================================================================\n",
      "input_11 (InputLayer)        [(None, 4)]               0         \n",
      "_________________________________________________________________\n",
      "dense_42 (Dense)             (None, 2)                 10        \n",
      "_________________________________________________________________\n",
      "dense_43 (Dense)             (None, 4)                 12        \n",
      "_________________________________________________________________\n",
      "dense_44 (Dense)             (None, 1)                 5         \n",
      "=================================================================\n",
      "Total params: 27\n",
      "Trainable params: 27\n",
      "Non-trainable params: 0\n",
      "_________________________________________________________________\n",
      "Epoch 1/32\n",
      "143/143 [==============================] - 1s 6ms/step - loss: 0.6940 - acc: 0.5653 - f1_m: 0.6893 - precision_m: 0.9560 - recall_m: 0.5731 - val_loss: 0.6935 - val_acc: 0.6636 - val_f1_m: 0.7925 - val_precision_m: 0.9490 - val_recall_m: 0.6829\n",
      "Epoch 2/32\n",
      "143/143 [==============================] - 1s 4ms/step - loss: 0.6933 - acc: 0.7489 - f1_m: 0.8521 - precision_m: 0.9486 - recall_m: 0.7765 - val_loss: 0.6883 - val_acc: 0.7511 - val_f1_m: 0.8557 - val_precision_m: 0.9474 - val_recall_m: 0.7819\n",
      "Epoch 3/32\n",
      "143/143 [==============================] - 0s 3ms/step - loss: 0.6931 - acc: 0.4683 - f1_m: 0.6043 - precision_m: 0.9522 - recall_m: 0.4681 - val_loss: 0.6914 - val_acc: 0.3311 - val_f1_m: 0.4711 - val_precision_m: 0.9466 - val_recall_m: 0.3154\n",
      "Epoch 4/32\n",
      "143/143 [==============================] - 1s 4ms/step - loss: 0.6927 - acc: 0.2635 - f1_m: 0.3757 - precision_m: 0.9554 - recall_m: 0.2387 - val_loss: 0.6876 - val_acc: 0.4116 - val_f1_m: 0.5634 - val_precision_m: 0.9452 - val_recall_m: 0.4045\n",
      "Epoch 5/32\n",
      "143/143 [==============================] - 1s 4ms/step - loss: 0.6925 - acc: 0.4220 - f1_m: 0.5702 - precision_m: 0.9532 - recall_m: 0.4144 - val_loss: 0.6876 - val_acc: 0.4094 - val_f1_m: 0.5605 - val_precision_m: 0.9518 - val_recall_m: 0.3988\n",
      "Epoch 6/32\n",
      "143/143 [==============================] - 1s 4ms/step - loss: 0.6923 - acc: 0.4120 - f1_m: 0.5560 - precision_m: 0.9538 - recall_m: 0.4042 - val_loss: 0.6828 - val_acc: 0.5673 - val_f1_m: 0.7156 - val_precision_m: 0.9498 - val_recall_m: 0.5767\n",
      "Epoch 7/32\n",
      "143/143 [==============================] - 0s 3ms/step - loss: 0.6922 - acc: 0.3576 - f1_m: 0.4909 - precision_m: 0.9534 - recall_m: 0.3431 - val_loss: 0.6860 - val_acc: 0.4398 - val_f1_m: 0.5937 - val_precision_m: 0.9506 - val_recall_m: 0.4337\n",
      "Epoch 8/32\n",
      "143/143 [==============================] - 1s 4ms/step - loss: 0.6921 - acc: 0.4892 - f1_m: 0.6427 - precision_m: 0.9533 - recall_m: 0.4887 - val_loss: 0.6833 - val_acc: 0.5224 - val_f1_m: 0.6746 - val_precision_m: 0.9513 - val_recall_m: 0.5251\n",
      "Epoch 9/32\n",
      "143/143 [==============================] - 1s 4ms/step - loss: 0.6921 - acc: 0.5880 - f1_m: 0.7278 - precision_m: 0.9541 - recall_m: 0.5948 - val_loss: 0.6841 - val_acc: 0.4974 - val_f1_m: 0.6502 - val_precision_m: 0.9531 - val_recall_m: 0.4955\n",
      "Epoch 10/32\n",
      "143/143 [==============================] - 1s 4ms/step - loss: 0.6919 - acc: 0.4340 - f1_m: 0.5854 - precision_m: 0.9542 - recall_m: 0.4277 - val_loss: 0.6856 - val_acc: 0.4727 - val_f1_m: 0.6275 - val_precision_m: 0.9512 - val_recall_m: 0.4701\n",
      "Epoch 11/32\n",
      "143/143 [==============================] - 1s 4ms/step - loss: 0.6918 - acc: 0.4405 - f1_m: 0.5911 - precision_m: 0.9553 - recall_m: 0.4334 - val_loss: 0.6862 - val_acc: 0.4534 - val_f1_m: 0.6080 - val_precision_m: 0.9501 - val_recall_m: 0.4488\n",
      "Epoch 12/32\n",
      "143/143 [==============================] - 1s 4ms/step - loss: 0.6918 - acc: 0.4857 - f1_m: 0.6322 - precision_m: 0.9550 - recall_m: 0.4841 - val_loss: 0.6894 - val_acc: 0.3901 - val_f1_m: 0.5416 - val_precision_m: 0.9441 - val_recall_m: 0.3822\n",
      "Epoch 13/32\n",
      "143/143 [==============================] - 1s 4ms/step - loss: 0.6916 - acc: 0.4929 - f1_m: 0.6385 - precision_m: 0.9548 - recall_m: 0.4888 - val_loss: 0.6918 - val_acc: 0.3615 - val_f1_m: 0.5064 - val_precision_m: 0.9496 - val_recall_m: 0.3480\n",
      "Epoch 14/32\n",
      "143/143 [==============================] - 1s 4ms/step - loss: 0.6916 - acc: 0.3960 - f1_m: 0.5412 - precision_m: 0.9552 - recall_m: 0.3857 - val_loss: 0.6898 - val_acc: 0.3896 - val_f1_m: 0.5391 - val_precision_m: 0.9485 - val_recall_m: 0.3791\n",
      "Epoch 15/32\n",
      "143/143 [==============================] - 1s 4ms/step - loss: 0.6914 - acc: 0.4487 - f1_m: 0.6007 - precision_m: 0.9548 - recall_m: 0.4423 - val_loss: 0.6874 - val_acc: 0.4252 - val_f1_m: 0.5785 - val_precision_m: 0.9498 - val_recall_m: 0.4183\n",
      "Epoch 16/32\n",
      "143/143 [==============================] - 1s 4ms/step - loss: 0.6913 - acc: 0.3722 - f1_m: 0.5164 - precision_m: 0.9554 - recall_m: 0.3578 - val_loss: 0.6898 - val_acc: 0.3852 - val_f1_m: 0.5344 - val_precision_m: 0.9500 - val_recall_m: 0.3740\n",
      "Epoch 17/32\n",
      "143/143 [==============================] - 1s 4ms/step - loss: 0.6913 - acc: 0.4044 - f1_m: 0.5489 - precision_m: 0.9541 - recall_m: 0.3934 - val_loss: 0.6909 - val_acc: 0.3584 - val_f1_m: 0.5028 - val_precision_m: 0.9491 - val_recall_m: 0.3448\n",
      "Epoch 18/32\n",
      "143/143 [==============================] - 1s 4ms/step - loss: 0.6915 - acc: 0.4459 - f1_m: 0.5945 - precision_m: 0.9570 - recall_m: 0.4368 - val_loss: 0.6837 - val_acc: 0.4609 - val_f1_m: 0.6156 - val_precision_m: 0.9496 - val_recall_m: 0.4578\n",
      "Epoch 19/32\n",
      "143/143 [==============================] - 1s 4ms/step - loss: 0.6911 - acc: 0.3483 - f1_m: 0.4812 - precision_m: 0.9500 - recall_m: 0.3276 - val_loss: 0.6880 - val_acc: 0.4015 - val_f1_m: 0.5511 - val_precision_m: 0.9544 - val_recall_m: 0.3897\n",
      "Epoch 20/32\n",
      "143/143 [==============================] - 1s 4ms/step - loss: 0.6909 - acc: 0.4265 - f1_m: 0.5750 - precision_m: 0.9553 - recall_m: 0.4154 - val_loss: 0.6918 - val_acc: 0.3316 - val_f1_m: 0.4705 - val_precision_m: 0.9494 - val_recall_m: 0.3152\n",
      "Epoch 21/32\n",
      "143/143 [==============================] - 1s 4ms/step - loss: 0.6909 - acc: 0.3440 - f1_m: 0.4817 - precision_m: 0.9561 - recall_m: 0.3253 - val_loss: 0.6931 - val_acc: 0.3153 - val_f1_m: 0.4504 - val_precision_m: 0.9463 - val_recall_m: 0.2983\n",
      "Epoch 22/32\n",
      "143/143 [==============================] - 1s 4ms/step - loss: 0.6910 - acc: 0.4153 - f1_m: 0.5606 - precision_m: 0.9554 - recall_m: 0.4058 - val_loss: 0.6956 - val_acc: 0.2823 - val_f1_m: 0.4071 - val_precision_m: 0.9447 - val_recall_m: 0.2627\n",
      "Epoch 23/32\n",
      "143/143 [==============================] - 1s 4ms/step - loss: 0.6907 - acc: 0.3613 - f1_m: 0.5037 - precision_m: 0.9532 - recall_m: 0.3467 - val_loss: 0.6908 - val_acc: 0.3377 - val_f1_m: 0.4774 - val_precision_m: 0.9499 - val_recall_m: 0.3215\n",
      "Epoch 24/32\n",
      "143/143 [==============================] - 1s 4ms/step - loss: 0.6908 - acc: 0.2541 - f1_m: 0.3592 - precision_m: 0.9511 - recall_m: 0.2241 - val_loss: 0.6982 - val_acc: 0.2564 - val_f1_m: 0.3694 - val_precision_m: 0.9439 - val_recall_m: 0.2327\n",
      "Epoch 25/32\n",
      "143/143 [==============================] - 1s 4ms/step - loss: 0.6907 - acc: 0.3304 - f1_m: 0.4634 - precision_m: 0.9586 - recall_m: 0.3096 - val_loss: 0.6935 - val_acc: 0.2977 - val_f1_m: 0.4266 - val_precision_m: 0.9481 - val_recall_m: 0.2781\n",
      "Epoch 26/32\n",
      "143/143 [==============================] - 0s 3ms/step - loss: 0.6904 - acc: 0.3458 - f1_m: 0.4830 - precision_m: 0.9554 - recall_m: 0.3267 - val_loss: 0.6881 - val_acc: 0.3760 - val_f1_m: 0.5225 - val_precision_m: 0.9524 - val_recall_m: 0.3623\n",
      "Epoch 27/32\n",
      "143/143 [==============================] - 1s 3ms/step - loss: 0.6903 - acc: 0.3202 - f1_m: 0.4518 - precision_m: 0.9564 - recall_m: 0.3013 - val_loss: 0.6812 - val_acc: 0.4481 - val_f1_m: 0.6021 - val_precision_m: 0.9483 - val_recall_m: 0.4436\n",
      "Epoch 28/32\n",
      "143/143 [==============================] - 0s 3ms/step - loss: 0.6905 - acc: 0.3390 - f1_m: 0.4716 - precision_m: 0.9495 - recall_m: 0.3179 - val_loss: 0.6922 - val_acc: 0.3008 - val_f1_m: 0.4323 - val_precision_m: 0.9452 - val_recall_m: 0.2823\n",
      "Epoch 29/32\n"
     ]
    },
    {
     "name": "stdout",
     "output_type": "stream",
     "text": [
      "143/143 [==============================] - 1s 4ms/step - loss: 0.6904 - acc: 0.3171 - f1_m: 0.4471 - precision_m: 0.9541 - recall_m: 0.2956 - val_loss: 0.6881 - val_acc: 0.3329 - val_f1_m: 0.4722 - val_precision_m: 0.9496 - val_recall_m: 0.3167\n",
      "Epoch 30/32\n",
      "143/143 [==============================] - 0s 3ms/step - loss: 0.6902 - acc: 0.3178 - f1_m: 0.4487 - precision_m: 0.9555 - recall_m: 0.2964 - val_loss: 0.6871 - val_acc: 0.3676 - val_f1_m: 0.5125 - val_precision_m: 0.9544 - val_recall_m: 0.3528\n",
      "Epoch 31/32\n",
      "143/143 [==============================] - 0s 3ms/step - loss: 0.6902 - acc: 0.3291 - f1_m: 0.4610 - precision_m: 0.9575 - recall_m: 0.3083 - val_loss: 0.6843 - val_acc: 0.3874 - val_f1_m: 0.5372 - val_precision_m: 0.9490 - val_recall_m: 0.3771\n",
      "Epoch 32/32\n",
      "143/143 [==============================] - 0s 3ms/step - loss: 0.6901 - acc: 0.3518 - f1_m: 0.4906 - precision_m: 0.9560 - recall_m: 0.3335 - val_loss: 0.6893 - val_acc: 0.3289 - val_f1_m: 0.4671 - val_precision_m: 0.9508 - val_recall_m: 0.3118\n"
     ]
    }
   ],
   "source": [
    "print('Joint full model with one hot encoding, predicting deception, weighted by special option')\n",
    "joint_full_model = models_nn.create_joint_model(pred_df_full_special)\n",
    "joint_full_model.summary()\n",
    "history = joint_full_model.fit(x=pred_df_full_special, \n",
    "                               y=y_train_deception, \n",
    "                               epochs=32, \n",
    "                               batch_size=64, \n",
    "                               validation_data=(pred_df_full_special_test,y_test_deception), \n",
    "#                                callbacks=[models_nn.callback],\n",
    "                               class_weight=deception_class_weight_dict)"
   ]
  },
  {
   "cell_type": "code",
   "execution_count": 65,
   "metadata": {},
   "outputs": [
    {
     "data": {
      "text/plain": [
       "(0.49884191614174084, 0.4946973701599049, 0.279438355766156, None)"
      ]
     },
     "execution_count": 65,
     "metadata": {},
     "output_type": "execute_result"
    }
   ],
   "source": [
    "joint_predict = joint_full_model.predict(pred_df_full_special_test)\n",
    "# joint_predict_round = []\n",
    "# for a in joint_predict:\n",
    "#     joint_predict_round.append(np.argmax(a))\n",
    "joint_predict_round = joint_predict.round()\n",
    "precision_recall_fscore_support(y_test_deception, np.array(joint_predict_round), average='macro')"
   ]
  },
  {
   "cell_type": "code",
   "execution_count": 66,
   "metadata": {},
   "outputs": [
    {
     "name": "stdout",
     "output_type": "stream",
     "text": [
      "[0. 1.] [1566  708]\n"
     ]
    }
   ],
   "source": [
    "uni, cnt = np.unique(joint_predict_round, return_counts=True)\n",
    "print(uni, cnt)"
   ]
  },
  {
   "cell_type": "code",
   "execution_count": 67,
   "metadata": {},
   "outputs": [],
   "source": [
    "y_test_rapport = np.asarray(y_test_rapport)\n",
    "y_train_rapport = np.asarray(y_train_rapport)"
   ]
  },
  {
   "cell_type": "code",
   "execution_count": 68,
   "metadata": {
    "scrolled": true
   },
   "outputs": [
    {
     "name": "stdout",
     "output_type": "stream",
     "text": [
      "Joint full model with one hot encoding, predicting rapport, weighted by special option\n",
      "Model: \"functional_35\"\n",
      "_________________________________________________________________\n",
      "Layer (type)                 Output Shape              Param #   \n",
      "=================================================================\n",
      "input_12 (InputLayer)        [(None, 3)]               0         \n",
      "_________________________________________________________________\n",
      "dense_45 (Dense)             (None, 2)                 8         \n",
      "_________________________________________________________________\n",
      "dense_46 (Dense)             (None, 4)                 12        \n",
      "_________________________________________________________________\n",
      "dense_47 (Dense)             (None, 1)                 5         \n",
      "=================================================================\n",
      "Total params: 25\n",
      "Trainable params: 25\n",
      "Non-trainable params: 0\n",
      "_________________________________________________________________\n",
      "Epoch 1/32\n",
      "143/143 [==============================] - 1s 5ms/step - loss: 0.6904 - acc: 0.7904 - f1_m: 0.8757 - precision_m: 0.8659 - recall_m: 0.8930 - val_loss: 0.6782 - val_acc: 0.6183 - val_f1_m: 0.7452 - val_precision_m: 0.8819 - val_recall_m: 0.6475\n",
      "Epoch 2/32\n",
      "143/143 [==============================] - 0s 3ms/step - loss: 0.6867 - acc: 0.6280 - f1_m: 0.7467 - precision_m: 0.8934 - recall_m: 0.6478 - val_loss: 0.6642 - val_acc: 0.6535 - val_f1_m: 0.7763 - val_precision_m: 0.8802 - val_recall_m: 0.6959\n",
      "Epoch 3/32\n",
      "143/143 [==============================] - 1s 4ms/step - loss: 0.6825 - acc: 0.6328 - f1_m: 0.7525 - precision_m: 0.8926 - recall_m: 0.6551 - val_loss: 0.6563 - val_acc: 0.6135 - val_f1_m: 0.7404 - val_precision_m: 0.8828 - val_recall_m: 0.6405\n",
      "Epoch 4/32\n",
      "143/143 [==============================] - 0s 3ms/step - loss: 0.6790 - acc: 0.6231 - f1_m: 0.7402 - precision_m: 0.8958 - recall_m: 0.6353 - val_loss: 0.6577 - val_acc: 0.5528 - val_f1_m: 0.6805 - val_precision_m: 0.8946 - val_recall_m: 0.5528\n",
      "Epoch 5/32\n",
      "143/143 [==============================] - 0s 3ms/step - loss: 0.6763 - acc: 0.5653 - f1_m: 0.6843 - precision_m: 0.8970 - recall_m: 0.5558 - val_loss: 0.6569 - val_acc: 0.5299 - val_f1_m: 0.6578 - val_precision_m: 0.8956 - val_recall_m: 0.5233\n",
      "Epoch 6/32\n",
      "143/143 [==============================] - 0s 3ms/step - loss: 0.6743 - acc: 0.5628 - f1_m: 0.6827 - precision_m: 0.9000 - recall_m: 0.5530 - val_loss: 0.6637 - val_acc: 0.4855 - val_f1_m: 0.6091 - val_precision_m: 0.8917 - val_recall_m: 0.4663\n",
      "Epoch 7/32\n",
      "143/143 [==============================] - 1s 4ms/step - loss: 0.6730 - acc: 0.5258 - f1_m: 0.6410 - precision_m: 0.9038 - recall_m: 0.5007 - val_loss: 0.6612 - val_acc: 0.4991 - val_f1_m: 0.6238 - val_precision_m: 0.8952 - val_recall_m: 0.4818\n",
      "Epoch 8/32\n",
      "143/143 [==============================] - 0s 3ms/step - loss: 0.6717 - acc: 0.5258 - f1_m: 0.6410 - precision_m: 0.9053 - recall_m: 0.4994 - val_loss: 0.6628 - val_acc: 0.4859 - val_f1_m: 0.6098 - val_precision_m: 0.8920 - val_recall_m: 0.4668\n",
      "Epoch 9/32\n",
      "143/143 [==============================] - 1s 4ms/step - loss: 0.6710 - acc: 0.5228 - f1_m: 0.6372 - precision_m: 0.9067 - recall_m: 0.4952 - val_loss: 0.6642 - val_acc: 0.4767 - val_f1_m: 0.5984 - val_precision_m: 0.8921 - val_recall_m: 0.4542\n",
      "Epoch 10/32\n",
      "143/143 [==============================] - 0s 3ms/step - loss: 0.6702 - acc: 0.5239 - f1_m: 0.6399 - precision_m: 0.9073 - recall_m: 0.4973 - val_loss: 0.6691 - val_acc: 0.4670 - val_f1_m: 0.5864 - val_precision_m: 0.8975 - val_recall_m: 0.4394\n",
      "Epoch 11/32\n",
      "143/143 [==============================] - 0s 3ms/step - loss: 0.6696 - acc: 0.5107 - f1_m: 0.6236 - precision_m: 0.9080 - recall_m: 0.4781 - val_loss: 0.6677 - val_acc: 0.4683 - val_f1_m: 0.5881 - val_precision_m: 0.8970 - val_recall_m: 0.4414\n",
      "Epoch 12/32\n",
      "143/143 [==============================] - 0s 3ms/step - loss: 0.6692 - acc: 0.5142 - f1_m: 0.6300 - precision_m: 0.9098 - recall_m: 0.4851 - val_loss: 0.6722 - val_acc: 0.4604 - val_f1_m: 0.5793 - val_precision_m: 0.8961 - val_recall_m: 0.4320\n",
      "Epoch 13/32\n",
      "143/143 [==============================] - 0s 3ms/step - loss: 0.6688 - acc: 0.4912 - f1_m: 0.6034 - precision_m: 0.9121 - recall_m: 0.4561 - val_loss: 0.6739 - val_acc: 0.4578 - val_f1_m: 0.5760 - val_precision_m: 0.8974 - val_recall_m: 0.4280\n",
      "Epoch 14/32\n",
      "143/143 [==============================] - 0s 3ms/step - loss: 0.6683 - acc: 0.4909 - f1_m: 0.6025 - precision_m: 0.9127 - recall_m: 0.4525 - val_loss: 0.6721 - val_acc: 0.4600 - val_f1_m: 0.5788 - val_precision_m: 0.8962 - val_recall_m: 0.4315\n",
      "Epoch 15/32\n",
      "143/143 [==============================] - 0s 3ms/step - loss: 0.6681 - acc: 0.4997 - f1_m: 0.6138 - precision_m: 0.9141 - recall_m: 0.4655 - val_loss: 0.6713 - val_acc: 0.4622 - val_f1_m: 0.5812 - val_precision_m: 0.8965 - val_recall_m: 0.4340\n",
      "Epoch 16/32\n",
      "143/143 [==============================] - 0s 3ms/step - loss: 0.6678 - acc: 0.4998 - f1_m: 0.6104 - precision_m: 0.9133 - recall_m: 0.4617 - val_loss: 0.6756 - val_acc: 0.4547 - val_f1_m: 0.5726 - val_precision_m: 0.8965 - val_recall_m: 0.4245\n",
      "Epoch 17/32\n",
      "143/143 [==============================] - 0s 3ms/step - loss: 0.6676 - acc: 0.4859 - f1_m: 0.5935 - precision_m: 0.9143 - recall_m: 0.4430 - val_loss: 0.6715 - val_acc: 0.4622 - val_f1_m: 0.5818 - val_precision_m: 0.8950 - val_recall_m: 0.4350\n",
      "Epoch 18/32\n",
      "143/143 [==============================] - 0s 3ms/step - loss: 0.6674 - acc: 0.5042 - f1_m: 0.6158 - precision_m: 0.9127 - recall_m: 0.4682 - val_loss: 0.6783 - val_acc: 0.4516 - val_f1_m: 0.5682 - val_precision_m: 0.8984 - val_recall_m: 0.4196\n",
      "Epoch 19/32\n",
      "143/143 [==============================] - 1s 4ms/step - loss: 0.6672 - acc: 0.4924 - f1_m: 0.6035 - precision_m: 0.9143 - recall_m: 0.4533 - val_loss: 0.6815 - val_acc: 0.4459 - val_f1_m: 0.5604 - val_precision_m: 0.9009 - val_recall_m: 0.4105\n",
      "Epoch 20/32\n",
      "143/143 [==============================] - 0s 3ms/step - loss: 0.6670 - acc: 0.4903 - f1_m: 0.5991 - precision_m: 0.9152 - recall_m: 0.4492 - val_loss: 0.6809 - val_acc: 0.4450 - val_f1_m: 0.5604 - val_precision_m: 0.8976 - val_recall_m: 0.4110\n",
      "Epoch 21/32\n",
      "143/143 [==============================] - 0s 3ms/step - loss: 0.6670 - acc: 0.4814 - f1_m: 0.5908 - precision_m: 0.9159 - recall_m: 0.4398 - val_loss: 0.6721 - val_acc: 0.4622 - val_f1_m: 0.5811 - val_precision_m: 0.8967 - val_recall_m: 0.4340\n",
      "Epoch 22/32\n",
      "143/143 [==============================] - 1s 3ms/step - loss: 0.6667 - acc: 0.4966 - f1_m: 0.6062 - precision_m: 0.9138 - recall_m: 0.4576 - val_loss: 0.6780 - val_acc: 0.4503 - val_f1_m: 0.5673 - val_precision_m: 0.8970 - val_recall_m: 0.4186\n",
      "Epoch 23/32\n",
      "143/143 [==============================] - 0s 3ms/step - loss: 0.6665 - acc: 0.4864 - f1_m: 0.5961 - precision_m: 0.9148 - recall_m: 0.4453 - val_loss: 0.6757 - val_acc: 0.4560 - val_f1_m: 0.5737 - val_precision_m: 0.8974 - val_recall_m: 0.4256\n",
      "Epoch 24/32\n",
      "143/143 [==============================] - 0s 3ms/step - loss: 0.6665 - acc: 0.4976 - f1_m: 0.6077 - precision_m: 0.9152 - recall_m: 0.4587 - val_loss: 0.6796 - val_acc: 0.4477 - val_f1_m: 0.5641 - val_precision_m: 0.8972 - val_recall_m: 0.4151\n",
      "Epoch 25/32\n",
      "143/143 [==============================] - 0s 3ms/step - loss: 0.6662 - acc: 0.4935 - f1_m: 0.6060 - precision_m: 0.9131 - recall_m: 0.4581 - val_loss: 0.6821 - val_acc: 0.4446 - val_f1_m: 0.5601 - val_precision_m: 0.8978 - val_recall_m: 0.4106\n",
      "Epoch 26/32\n",
      "143/143 [==============================] - 0s 3ms/step - loss: 0.6662 - acc: 0.4833 - f1_m: 0.5920 - precision_m: 0.9177 - recall_m: 0.4404 - val_loss: 0.6785 - val_acc: 0.4494 - val_f1_m: 0.5657 - val_precision_m: 0.8985 - val_recall_m: 0.4165\n",
      "Epoch 27/32\n",
      "143/143 [==============================] - 1s 4ms/step - loss: 0.6662 - acc: 0.4893 - f1_m: 0.5985 - precision_m: 0.9155 - recall_m: 0.4478 - val_loss: 0.6854 - val_acc: 0.4424 - val_f1_m: 0.5564 - val_precision_m: 0.9010 - val_recall_m: 0.4062\n",
      "Epoch 28/32\n",
      "143/143 [==============================] - 0s 3ms/step - loss: 0.6659 - acc: 0.4913 - f1_m: 0.5972 - precision_m: 0.9088 - recall_m: 0.4481 - val_loss: 0.6841 - val_acc: 0.4428 - val_f1_m: 0.5572 - val_precision_m: 0.9004 - val_recall_m: 0.4072\n",
      "Epoch 29/32\n"
     ]
    },
    {
     "name": "stdout",
     "output_type": "stream",
     "text": [
      "143/143 [==============================] - 0s 3ms/step - loss: 0.6658 - acc: 0.4778 - f1_m: 0.5847 - precision_m: 0.9197 - recall_m: 0.4324 - val_loss: 0.6793 - val_acc: 0.4494 - val_f1_m: 0.5652 - val_precision_m: 0.8991 - val_recall_m: 0.4161\n",
      "Epoch 30/32\n",
      "143/143 [==============================] - 0s 3ms/step - loss: 0.6657 - acc: 0.4848 - f1_m: 0.5918 - precision_m: 0.9159 - recall_m: 0.4398 - val_loss: 0.6854 - val_acc: 0.4433 - val_f1_m: 0.5574 - val_precision_m: 0.9013 - val_recall_m: 0.4072\n",
      "Epoch 31/32\n",
      "143/143 [==============================] - 0s 3ms/step - loss: 0.6656 - acc: 0.4814 - f1_m: 0.5877 - precision_m: 0.9164 - recall_m: 0.4357 - val_loss: 0.6833 - val_acc: 0.4433 - val_f1_m: 0.5582 - val_precision_m: 0.8986 - val_recall_m: 0.4087\n",
      "Epoch 32/32\n",
      "143/143 [==============================] - 0s 3ms/step - loss: 0.6656 - acc: 0.4934 - f1_m: 0.6050 - precision_m: 0.9174 - recall_m: 0.4561 - val_loss: 0.6821 - val_acc: 0.4459 - val_f1_m: 0.5613 - val_precision_m: 0.8992 - val_recall_m: 0.4117\n"
     ]
    }
   ],
   "source": [
    "print('Joint full model with one hot encoding, predicting rapport, weighted by special option')\n",
    "joint_full_model = models_nn.create_joint_model(pred_df_special)\n",
    "joint_full_model.summary()\n",
    "history = joint_full_model.fit(x=pred_df_special, \n",
    "                               y=y_train_rapport, \n",
    "                               epochs=32, \n",
    "                               batch_size=64,\n",
    "                               validation_data=(pred_df_special_test,y_test_rapport), \n",
    "#                                callbacks=[models_nn.callback], \n",
    "                               class_weight=rapport_class_weight_dict)"
   ]
  },
  {
   "cell_type": "code",
   "execution_count": 69,
   "metadata": {
    "scrolled": true
   },
   "outputs": [
    {
     "data": {
      "text/plain": [
       "(0.5239812040194879, 0.5511109809400913, 0.40325054379836595, None)"
      ]
     },
     "execution_count": 69,
     "metadata": {},
     "output_type": "execute_result"
    }
   ],
   "source": [
    "joint_predict = joint_full_model.predict(pred_df_special_test)\n",
    "# joint_predict_round = []\n",
    "# for a in joint_predict:\n",
    "#     joint_predict_round.append(np.argmax(a))\n",
    "joint_predict_round = joint_predict.round()\n",
    "precision_recall_fscore_support(y_test_rapport, np.array(joint_predict_round), average='macro')"
   ]
  },
  {
   "cell_type": "code",
   "execution_count": 70,
   "metadata": {},
   "outputs": [
    {
     "name": "stdout",
     "output_type": "stream",
     "text": [
      "[0. 1.] [1373  901]\n"
     ]
    }
   ],
   "source": [
    "uni, cnt = np.unique(joint_predict_round, return_counts=True)\n",
    "print(uni, cnt)"
   ]
  },
  {
   "cell_type": "code",
   "execution_count": null,
   "metadata": {},
   "outputs": [],
   "source": []
  }
 ],
 "metadata": {
  "kernelspec": {
   "display_name": "tfgpu",
   "language": "python",
   "name": "tfgpu"
  },
  "language_info": {
   "codemirror_mode": {
    "name": "ipython",
    "version": 3
   },
   "file_extension": ".py",
   "mimetype": "text/x-python",
   "name": "python",
   "nbconvert_exporter": "python",
   "pygments_lexer": "ipython3",
   "version": "3.7.9"
  }
 },
 "nbformat": 4,
 "nbformat_minor": 4
}
