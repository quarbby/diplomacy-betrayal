{
 "cells": [
  {
   "cell_type": "code",
   "execution_count": 42,
   "metadata": {},
   "outputs": [],
   "source": [
    "import pandas as pd\n",
    "import numpy as np\n",
    "\n",
    "from tensorflow.keras.utils import to_categorical\n",
    "from tensorflow.keras.layers import LSTM, Input, InputLayer, Dropout, Dense, Flatten, Embedding, Add, Concatenate\n",
    "from tensorflow.keras import Sequential\n",
    "from tensorflow.keras.models import Model\n",
    "from tensorflow.keras.callbacks import EarlyStopping\n",
    "from sklearn.neighbors import KNeighborsClassifier\n",
    "import tensorflow as tf\n",
    "\n",
    "from sklearn.linear_model import LogisticRegression\n",
    "from sklearn.model_selection import train_test_split\n",
    "from sklearn.metrics import classification_report\n",
    "from tensorflow.keras.preprocessing.text import Tokenizer\n",
    "from sklearn.preprocessing import LabelEncoder\n",
    "from keras.preprocessing.sequence import pad_sequences\n",
    "from tensorflow.keras.optimizers import RMSprop\n",
    "\n",
    "from sklearn.metrics import precision_recall_fscore_support"
   ]
  },
  {
   "cell_type": "code",
   "execution_count": 2,
   "metadata": {},
   "outputs": [],
   "source": [
    "df = pd.read_csv('data/kokil dec 6 reprepare/conf_pc_worker_sem.csv')"
   ]
  },
  {
   "cell_type": "code",
   "execution_count": 3,
   "metadata": {},
   "outputs": [],
   "source": [
    "df = df.dropna()\n",
    "\n",
    "# Throughput\n",
    "df_throughput = df[['Throughput.1', 'Throughput.2', 'Throughput.3', 'Throughput.4', 'Throughput.5']].copy()\n",
    "df_throughput['avg_throughput'] = df_throughput.mean(axis=1)\n",
    "df_throughput['avg_throughput'] = df_throughput['avg_throughput'] / df_throughput['avg_throughput'].max()\n",
    "\n",
    "# WorkTime\n",
    "df_worktime = df[['WorkTime.1', 'WorkTime.2', 'WorkTime.3', 'WorkTime.4', 'WorkTime.5']].copy()\n",
    "df_worktime['avg_worktime'] = df_worktime.mean(axis=1)\n",
    "df_worktime['avg_worktime'] = df_worktime['avg_worktime'] / df_worktime['avg_worktime'].max()"
   ]
  },
  {
   "cell_type": "code",
   "execution_count": 4,
   "metadata": {},
   "outputs": [],
   "source": [
    "df = df.drop(columns=['Input.msg_id', 'HITId', 'Input.sentence_id', 'Input.convo_id', 'Input.train_test_val',\n",
    "                     'Input.similar_text_id', 'Input.msg_id', 'Input.timestamp', 'Input.full_text',\n",
    "                      'Input.speaker', 'Input.reply_to', \n",
    "                      'Input.game_score_delta', 'Input.game_score_receiver',\n",
    "                      'Input.speaker_intention', 'Input.reciever_perception', 'Input.reciever',\n",
    "                      'Input.absolute_message_index', 'Input.relative_message_index', 'Input.year',\n",
    "                      'Input.game_score_speaker', 'Input.num_words', 'Input.num_characters', \n",
    "                      'Input.sno', 'Input.sno1',\n",
    "                      'WorkTime.1', 'WorkTime.2', 'WorkTime.3', 'WorkTime.4', 'WorkTime.5',\n",
    "                      'Throughput.1', 'Throughput.2', 'Throughput.3', 'Throughput.4', 'Throughput.5',\n",
    "                      'Answer.1gamemove.yes', 'Answer.2reasoning.yes',\n",
    "                      'Answer.3a_apologies.yes', 'Answer.3a_compliment.yes', 'Answer.3a_personalthoughts.yes',\n",
    "                      'Answer.3a_reassurance.yes', 'Answer.3rapport.yes', 'Answer.4shareinformation.yes', 'count',\n",
    "                      'Answer.1gamemove.yes_pc_agree', 'Answer.2reasoning.yes_pc_agree', \n",
    "                      'Answer.3a_apologies.yes_pc_agree', 'Answer.3a_compliment.yes_pc_agree',\n",
    "                      'Answer.3a_personalthoughts.yes_pc_agree', 'Answer.3a_reassurance.yes_pc_agree',\n",
    "                      'Answer.3rapport.yes_pc_agree', 'Answer.4shareinformation.yes_pc_agree', \n",
    "                      'message_id.x', 'message_id.y',\n",
    "                      'Answer.3a_apologies.yes_label', 'Answer.3a_compliment.yes_label',\n",
    "                      'Answer.3a_personalthoughts.yes_label', 'Answer.3a_reassurance.yes_label'\n",
    "                     ])"
   ]
  },
  {
   "cell_type": "code",
   "execution_count": 5,
   "metadata": {},
   "outputs": [],
   "source": [
    "indices = range(df.shape[0])"
   ]
  },
  {
   "cell_type": "code",
   "execution_count": 6,
   "metadata": {},
   "outputs": [],
   "source": [
    "train, test, indices_train, indices_test = train_test_split(df, indices, test_size=0.2)\n",
    "\n",
    "new_deception_train = train[\"Input.deception_quadrant\"].copy()\n",
    "new_deception_train['Input.deception_quadrant'] = train[\"Input.deception_quadrant\"].apply(lambda x : 1 if x == \"Straightforward\" else 0)\n",
    "y_train_deception = new_deception_train['Input.deception_quadrant'].tolist()\n",
    "y_train_rapport = train['Answer.3rapport.yes_label'].tolist()\n",
    "y_train_share_information = train['Answer.4shareinformation.yes_label'].tolist()\n",
    "y_train_reasoning = train['Answer.2reasoning.yes_label'].tolist()\n",
    "y_train_gamemove = train['Answer.1gamemove.yes_label'].tolist()\n",
    "\n",
    "new_deception_test = test[\"Input.deception_quadrant\"].copy()\n",
    "new_deception_test['Input.deception_quadrant'] = test[\"Input.deception_quadrant\"].apply(lambda x : 1 if x == \"Straightforward\" else 0)\n",
    "y_test_deception = new_deception_test['Input.deception_quadrant'].tolist()\n",
    "y_test_rapport = test['Answer.3rapport.yes_label'].tolist()\n",
    "y_test_share_information = test['Answer.4shareinformation.yes_label'].tolist()\n",
    "y_test_reasoning = test['Answer.2reasoning.yes_label'].tolist()\n",
    "y_test_gamemove = test['Answer.1gamemove.yes_label'].tolist()\n",
    "\n",
    "X_train = train.drop(columns=['Answer.1gamemove.yes_label', 'Answer.2reasoning.yes_label',\n",
    "                              'Answer.3rapport.yes_label', 'Answer.4shareinformation.yes_label', 'Input.deception_quadrant'])\n",
    "\n",
    "X_test = test.drop(columns=['Answer.1gamemove.yes_label', 'Answer.2reasoning.yes_label',\n",
    "                              'Answer.3rapport.yes_label', 'Answer.4shareinformation.yes_label', 'Input.deception_quadrant'])"
   ]
  },
  {
   "cell_type": "markdown",
   "metadata": {},
   "source": [
    "### Individual classifiers are KNearest Neighbours\n",
    "(prev log reg)"
   ]
  },
  {
   "cell_type": "code",
   "execution_count": 43,
   "metadata": {},
   "outputs": [
    {
     "name": "stdout",
     "output_type": "stream",
     "text": [
      "              precision    recall  f1-score   support\n",
      "\n",
      "         0.0       1.00      1.00      1.00       651\n",
      "         1.0       1.00      1.00      1.00      8441\n",
      "\n",
      "    accuracy                           1.00      9092\n",
      "   macro avg       1.00      1.00      1.00      9092\n",
      "weighted avg       1.00      1.00      1.00      9092\n",
      "\n"
     ]
    }
   ],
   "source": [
    "# Game move classifier\n",
    "clf_gamemove = KNeighborsClassifier(n_neighbors=1)\n",
    "clf_gamemove.fit(X_train, y_train_gamemove)\n",
    "y_pred_gamemove = clf_gamemove.predict(X_train)\n",
    "y_pred_test_gamemove = clf_gamemove.predict(X_test)\n",
    "print(classification_report(y_pred_gamemove, y_train_gamemove))"
   ]
  },
  {
   "cell_type": "code",
   "execution_count": 44,
   "metadata": {},
   "outputs": [
    {
     "name": "stdout",
     "output_type": "stream",
     "text": [
      "              precision    recall  f1-score   support\n",
      "\n",
      "         0.0       1.00      1.00      1.00      1262\n",
      "         1.0       1.00      1.00      1.00      7830\n",
      "\n",
      "    accuracy                           1.00      9092\n",
      "   macro avg       1.00      1.00      1.00      9092\n",
      "weighted avg       1.00      1.00      1.00      9092\n",
      "\n"
     ]
    }
   ],
   "source": [
    "# Rapport classifier\n",
    "clf_rapport = KNeighborsClassifier(n_neighbors=1)\n",
    "clf_rapport.fit(X_train, y_train_rapport)\n",
    "y_pred_rapport = clf_rapport.predict(X_train)\n",
    "y_pred_test_rapport = clf_rapport.predict(X_test)\n",
    "print(classification_report(y_pred_rapport, y_train_rapport))"
   ]
  },
  {
   "cell_type": "code",
   "execution_count": 45,
   "metadata": {},
   "outputs": [
    {
     "name": "stdout",
     "output_type": "stream",
     "text": [
      "              precision    recall  f1-score   support\n",
      "\n",
      "         0.0       1.00      1.00      1.00      1443\n",
      "         1.0       1.00      1.00      1.00      7649\n",
      "\n",
      "    accuracy                           1.00      9092\n",
      "   macro avg       1.00      1.00      1.00      9092\n",
      "weighted avg       1.00      1.00      1.00      9092\n",
      "\n"
     ]
    }
   ],
   "source": [
    "# Share Information classifier\n",
    "clf_shareinfo = KNeighborsClassifier(n_neighbors=1)\n",
    "clf_shareinfo.fit(X_train, y_train_share_information)\n",
    "y_pred_shareinfo = clf_shareinfo.predict(X_train)\n",
    "y_pred_test_shareinfo = clf_shareinfo.predict(X_test)\n",
    "print(classification_report(y_pred_shareinfo, y_train_share_information))"
   ]
  },
  {
   "cell_type": "code",
   "execution_count": 46,
   "metadata": {},
   "outputs": [
    {
     "name": "stdout",
     "output_type": "stream",
     "text": [
      "              precision    recall  f1-score   support\n",
      "\n",
      "         0.0       1.00      1.00      1.00      1555\n",
      "         1.0       1.00      1.00      1.00      7537\n",
      "\n",
      "    accuracy                           1.00      9092\n",
      "   macro avg       1.00      1.00      1.00      9092\n",
      "weighted avg       1.00      1.00      1.00      9092\n",
      "\n"
     ]
    }
   ],
   "source": [
    "# Reasoning classifier\n",
    "clf_reasoning = KNeighborsClassifier(n_neighbors=1)\n",
    "clf_reasoning.fit(X_train, y_train_reasoning)\n",
    "y_pred_reasoning = clf_reasoning.predict(X_train)\n",
    "y_pred_test_reasoning = clf_reasoning.predict(X_test)\n",
    "print(classification_report(y_pred_reasoning, y_train_reasoning))"
   ]
  },
  {
   "cell_type": "code",
   "execution_count": null,
   "metadata": {},
   "outputs": [],
   "source": [
    "### One hot encodings "
   ]
  },
  {
   "cell_type": "code",
   "execution_count": 47,
   "metadata": {},
   "outputs": [],
   "source": [
    "# Train encodings\n",
    "pred_df_arr_full = []\n",
    "pred_df_arr = []\n",
    "for i in range(0, len(y_pred_gamemove)):  \n",
    "    pred_obj_1 = {}\n",
    "    pred_obj_1['gamemove'] = y_pred_gamemove[i]\n",
    "    pred_obj_1['reasoning'] = y_pred_reasoning[i]\n",
    "    pred_obj_1['shareinfo'] = y_pred_shareinfo[i]\n",
    "    pred_df_arr.append(pred_obj_1)\n",
    "    \n",
    "    pred_obj_2 = pred_obj_1.copy()\n",
    "    pred_obj_2['rapport'] = y_pred_rapport[i]\n",
    "    pred_df_arr_full.append(pred_obj_2)\n",
    "    \n",
    "pred_df_full = pd.DataFrame(pred_df_arr_full)\n",
    "pred_df = pd.DataFrame(pred_df_arr)"
   ]
  },
  {
   "cell_type": "code",
   "execution_count": 48,
   "metadata": {},
   "outputs": [],
   "source": [
    "# Test encodings\n",
    "pred_test_df_arr_full = []\n",
    "pred_test_df_arr = []\n",
    "\n",
    "for i in range(0, len(y_pred_test_gamemove)):\n",
    "    pred_obj_1 = {}\n",
    "    pred_obj_1['gamemove'] = y_pred_test_gamemove[i]\n",
    "    pred_obj_1['reasoning'] = y_pred_test_reasoning[i]\n",
    "    pred_obj_1['shareinfo'] = y_pred_test_shareinfo[i]\n",
    "    pred_test_df_arr.append(pred_obj_1)\n",
    "    \n",
    "    pred_obj_2 = pred_obj_1.copy()\n",
    "    pred_obj_2['rapport'] = y_pred_test_rapport[i]\n",
    "    pred_test_df_arr_full.append(pred_obj_2)\n",
    "    \n",
    "pred_test_df_full = pd.DataFrame(pred_test_df_arr_full)\n",
    "pred_test_df = pd.DataFrame(pred_test_df_arr)"
   ]
  },
  {
   "cell_type": "code",
   "execution_count": 49,
   "metadata": {},
   "outputs": [],
   "source": [
    "# Train weighted encodings\n",
    "pred_df_full_throughput = pred_df_full.copy()\n",
    "pred_df_full_worktime = pred_df_full.copy()\n",
    "pred_df_throughput = pred_df.copy()\n",
    "pred_df_worktime = pred_df.copy()\n",
    "\n",
    "throughput_values = df_throughput['avg_throughput'].take(indices_train).values\n",
    "pred_df_full_throughput = pred_df_full_throughput.mul(throughput_values, axis=0)\n",
    "pred_df_throughput = pred_df_throughput.mul(throughput_values, axis=0)\n",
    "\n",
    "worktime_values = df_worktime['avg_worktime'].take(indices_train).values\n",
    "pred_df_full_worktime = pred_df_full_worktime.mul(worktime_values, axis=0)\n",
    "pred_df_worktime = pred_df_worktime.mul(worktime_values, axis=0)"
   ]
  },
  {
   "cell_type": "code",
   "execution_count": 50,
   "metadata": {},
   "outputs": [],
   "source": [
    "# Test weighted encodings\n",
    "pred_df_full_throughput_test = pred_test_df_full.copy()\n",
    "pred_df_full_worktime_test = pred_test_df_full.copy()\n",
    "pred_df_throughput_test = pred_test_df.copy()\n",
    "pred_df_worktime_test = pred_test_df.copy()\n",
    "\n",
    "throughput_values_test = df_throughput['avg_throughput'].take(indices_test).values\n",
    "pred_df_full_throughput_test = pred_df_full_throughput_test.mul(throughput_values_test, axis=0)\n",
    "pred_df_throughput_test = pred_df_throughput_test.mul(throughput_values_test, axis=0)\n",
    "\n",
    "worktime_values_test = df_worktime['avg_worktime'].take(indices_test).values\n",
    "pred_df_full_worktime_test = pred_df_full_worktime_test.mul(worktime_values_test, axis=0)\n",
    "pred_df_worktime_test = pred_df_worktime_test.mul(worktime_values_test, axis=0)"
   ]
  },
  {
   "cell_type": "code",
   "execution_count": 51,
   "metadata": {},
   "outputs": [],
   "source": [
    "from keras import backend as K\n",
    "\n",
    "def recall_m(y_true, y_pred):\n",
    "    true_positives = K.sum(K.round(K.clip(y_true * y_pred, 0, 1)))\n",
    "    possible_positives = K.sum(K.round(K.clip(y_true, 0, 1)))\n",
    "    recall = true_positives / (possible_positives + K.epsilon())\n",
    "    return recall\n",
    "\n",
    "def precision_m(y_true, y_pred):\n",
    "    true_positives = K.sum(K.round(K.clip(y_true * y_pred, 0, 1)))\n",
    "    predicted_positives = K.sum(K.round(K.clip(y_pred, 0, 1)))\n",
    "    precision = true_positives / (predicted_positives + K.epsilon())\n",
    "    return precision\n",
    "\n",
    "def f1_m(y_true, y_pred):\n",
    "    precision = precision_m(y_true, y_pred)\n",
    "    recall = recall_m(y_true, y_pred)\n",
    "    return 2*((precision*recall)/(precision+recall+K.epsilon()))\n",
    "\n",
    "callback = tf.keras.callbacks.EarlyStopping(\n",
    "    monitor='val_loss', min_delta=0, patience=0, verbose=0, mode='auto',\n",
    "    baseline=None, restore_best_weights=False\n",
    ")\n",
    "\n",
    "def f1(y_true, y_pred):\n",
    "    classes_number=2\n",
    "    result = 0.0\n",
    "    for class_id in range(1, classes_number + 1):\n",
    "        y_true_single_class = y_true[:,:,class_id]\n",
    "        y_pred_single_class = y_pred[:,:,class_id]\n",
    "        f1_single = f1_binary(y_true_single_class, y_pred_single_class)\n",
    "        result += f1_single / float(classes_number)\n",
    "    return result"
   ]
  },
  {
   "cell_type": "code",
   "execution_count": 52,
   "metadata": {},
   "outputs": [],
   "source": [
    "def create_joint_model(df):\n",
    "    inputB = Input(shape=(df.shape[1],))\n",
    "    c = Dense(2, activation='relu')(inputB)\n",
    "    c = Dense(4, activation='relu')(c)\n",
    "    c = Dense(2, activation='softmax')(c)\n",
    "    full_model = Model(inputs=inputB, outputs=c)\n",
    "\n",
    "    full_model.compile(loss='binary_crossentropy', optimizer='adam', \n",
    "                          metrics=['acc',f1_m,precision_m, recall_m])\n",
    "    \n",
    "    return full_model"
   ]
  },
  {
   "cell_type": "code",
   "execution_count": 53,
   "metadata": {},
   "outputs": [],
   "source": [
    "y_train_deception = np.array(y_train_deception)\n",
    "y_test_deception = np.array(y_test_deception)"
   ]
  },
  {
   "cell_type": "code",
   "execution_count": 54,
   "metadata": {},
   "outputs": [
    {
     "name": "stdout",
     "output_type": "stream",
     "text": [
      "Joint full model with one hot encoding, predicting deception\n",
      "Model: \"functional_21\"\n",
      "_________________________________________________________________\n",
      "Layer (type)                 Output Shape              Param #   \n",
      "=================================================================\n",
      "input_11 (InputLayer)        [(None, 4)]               0         \n",
      "_________________________________________________________________\n",
      "dense_30 (Dense)             (None, 2)                 10        \n",
      "_________________________________________________________________\n",
      "dense_31 (Dense)             (None, 4)                 12        \n",
      "_________________________________________________________________\n",
      "dense_32 (Dense)             (None, 2)                 10        \n",
      "=================================================================\n",
      "Total params: 32\n",
      "Trainable params: 32\n",
      "Non-trainable params: 0\n",
      "_________________________________________________________________\n",
      "Epoch 1/32\n",
      "143/143 [==============================] - 1s 6ms/step - loss: 0.6939 - acc: 0.7949 - f1_m: 0.9750 - precision_m: 0.9524 - recall_m: 0.9992 - val_loss: 0.6933 - val_acc: 0.7973 - val_f1_m: 0.9718 - val_precision_m: 0.9455 - val_recall_m: 1.0000\n",
      "Epoch 2/32\n",
      "143/143 [==============================] - 1s 5ms/step - loss: 0.6932 - acc: 0.8698 - f1_m: 0.9755 - precision_m: 0.9525 - recall_m: 1.0000 - val_loss: 0.6932 - val_acc: 0.9033 - val_f1_m: 0.9718 - val_precision_m: 0.9455 - val_recall_m: 1.0000\n",
      "Epoch 3/32\n",
      "143/143 [==============================] - 1s 4ms/step - loss: 0.6932 - acc: 0.9118 - f1_m: 0.9755 - precision_m: 0.9525 - recall_m: 1.0000 - val_loss: 0.6932 - val_acc: 0.9033 - val_f1_m: 0.9718 - val_precision_m: 0.9455 - val_recall_m: 1.0000\n",
      "Epoch 4/32\n",
      "143/143 [==============================] - 1s 4ms/step - loss: 0.6932 - acc: 0.9118 - f1_m: 0.9755 - precision_m: 0.9525 - recall_m: 1.0000 - val_loss: 0.6932 - val_acc: 0.9033 - val_f1_m: 0.9718 - val_precision_m: 0.9455 - val_recall_m: 1.0000\n",
      "Epoch 5/32\n",
      "143/143 [==============================] - 1s 5ms/step - loss: 0.6932 - acc: 0.9118 - f1_m: 0.9754 - precision_m: 0.9525 - recall_m: 1.0000 - val_loss: 0.6932 - val_acc: 0.9033 - val_f1_m: 0.9718 - val_precision_m: 0.9455 - val_recall_m: 1.0000\n",
      "Epoch 6/32\n",
      "143/143 [==============================] - 1s 4ms/step - loss: 0.6932 - acc: 0.9118 - f1_m: 0.9745 - precision_m: 0.9508 - recall_m: 1.0000 - val_loss: 0.6932 - val_acc: 0.9033 - val_f1_m: 0.9718 - val_precision_m: 0.9455 - val_recall_m: 1.0000\n",
      "Epoch 7/32\n",
      "143/143 [==============================] - 1s 4ms/step - loss: 0.6931 - acc: 0.9118 - f1_m: 0.9755 - precision_m: 0.9525 - recall_m: 1.0000 - val_loss: 0.6931 - val_acc: 0.9033 - val_f1_m: 0.9718 - val_precision_m: 0.9455 - val_recall_m: 1.0000\n",
      "Epoch 8/32\n",
      "143/143 [==============================] - 1s 4ms/step - loss: 0.6931 - acc: 0.9118 - f1_m: 0.9755 - precision_m: 0.9525 - recall_m: 1.0000 - val_loss: 0.6931 - val_acc: 0.9033 - val_f1_m: 0.9718 - val_precision_m: 0.9455 - val_recall_m: 1.0000\n",
      "Epoch 9/32\n",
      "143/143 [==============================] - 1s 4ms/step - loss: 0.6931 - acc: 0.9118 - f1_m: 0.9755 - precision_m: 0.9525 - recall_m: 1.0000 - val_loss: 0.6931 - val_acc: 0.9033 - val_f1_m: 0.9718 - val_precision_m: 0.9455 - val_recall_m: 1.0000\n",
      "Epoch 10/32\n",
      "143/143 [==============================] - 1s 4ms/step - loss: 0.6931 - acc: 0.9118 - f1_m: 0.9745 - precision_m: 0.9508 - recall_m: 1.0000 - val_loss: 0.6931 - val_acc: 0.9033 - val_f1_m: 0.9718 - val_precision_m: 0.9455 - val_recall_m: 1.0000\n",
      "Epoch 11/32\n",
      "143/143 [==============================] - 1s 5ms/step - loss: 0.6931 - acc: 0.9118 - f1_m: 0.9755 - precision_m: 0.9525 - recall_m: 1.0000 - val_loss: 0.6931 - val_acc: 0.9033 - val_f1_m: 0.9718 - val_precision_m: 0.9455 - val_recall_m: 1.0000\n",
      "Epoch 12/32\n",
      "143/143 [==============================] - 1s 4ms/step - loss: 0.6931 - acc: 0.9056 - f1_m: 0.9755 - precision_m: 0.9525 - recall_m: 1.0000 - val_loss: 0.6931 - val_acc: 0.9033 - val_f1_m: 0.9718 - val_precision_m: 0.9455 - val_recall_m: 1.0000\n",
      "Epoch 13/32\n",
      "143/143 [==============================] - 1s 5ms/step - loss: 0.6931 - acc: 0.9118 - f1_m: 0.9745 - precision_m: 0.9508 - recall_m: 1.0000 - val_loss: 0.6931 - val_acc: 0.9033 - val_f1_m: 0.9718 - val_precision_m: 0.9455 - val_recall_m: 1.0000\n"
     ]
    }
   ],
   "source": [
    "print('Joint full model with one hot encoding, predicting deception')\n",
    "joint_full_model = create_joint_model(pred_df_full)\n",
    "joint_full_model.summary()\n",
    "history = joint_full_model.fit(x=pred_df_full, y=y_train_deception, epochs=32, \n",
    "                    batch_size=64, \n",
    "                    validation_data=(pred_test_df_full,y_test_deception), callbacks=[callback])"
   ]
  },
  {
   "cell_type": "code",
   "execution_count": 20,
   "metadata": {},
   "outputs": [],
   "source": [
    "full_pred = joint_full_model.predict(pred_df_full)\n",
    "full_pred = np.argmax(full_pred, axis=1)\n",
    "\n",
    "full_pred_test = joint_full_model.predict(pred_test_df_full)\n",
    "full_pred_test = np.argmax(full_pred_test, axis=1)"
   ]
  },
  {
   "cell_type": "code",
   "execution_count": 21,
   "metadata": {},
   "outputs": [
    {
     "data": {
      "text/plain": [
       "(0.47294324681038274, 0.499767549976755, 0.48598553345388784, None)"
      ]
     },
     "execution_count": 21,
     "metadata": {},
     "output_type": "execute_result"
    }
   ],
   "source": [
    "precision_recall_fscore_support(y_test_deception, full_pred_test, average='macro')"
   ]
  },
  {
   "cell_type": "code",
   "execution_count": 55,
   "metadata": {},
   "outputs": [
    {
     "name": "stdout",
     "output_type": "stream",
     "text": [
      "Joint full model with one hot encoding, predicting rapport\n",
      "Model: \"functional_23\"\n",
      "_________________________________________________________________\n",
      "Layer (type)                 Output Shape              Param #   \n",
      "=================================================================\n",
      "input_12 (InputLayer)        [(None, 3)]               0         \n",
      "_________________________________________________________________\n",
      "dense_33 (Dense)             (None, 2)                 8         \n",
      "_________________________________________________________________\n",
      "dense_34 (Dense)             (None, 4)                 12        \n",
      "_________________________________________________________________\n",
      "dense_35 (Dense)             (None, 2)                 10        \n",
      "=================================================================\n",
      "Total params: 30\n",
      "Trainable params: 30\n",
      "Non-trainable params: 0\n",
      "_________________________________________________________________\n",
      "Epoch 1/32\n",
      "143/143 [==============================] - 1s 9ms/step - loss: 1.0889 - acc: 0.8704 - f1_m: 0.9245 - precision_m: 0.8608 - recall_m: 1.0000 - val_loss: 0.7982 - val_acc: 0.8404 - val_f1_m: 0.9285 - val_precision_m: 0.8670 - val_recall_m: 1.0000\n",
      "Epoch 2/32\n",
      "143/143 [==============================] - 1s 4ms/step - loss: 0.7310 - acc: 0.8462 - f1_m: 0.9232 - precision_m: 0.8590 - recall_m: 1.0000 - val_loss: 0.7024 - val_acc: 0.7252 - val_f1_m: 0.9285 - val_precision_m: 0.8670 - val_recall_m: 1.0000\n",
      "Epoch 3/32\n",
      "143/143 [==============================] - 1s 4ms/step - loss: 0.6994 - acc: 0.8185 - f1_m: 0.9255 - precision_m: 0.8623 - recall_m: 1.0000 - val_loss: 0.6985 - val_acc: 0.6790 - val_f1_m: 0.9285 - val_precision_m: 0.8670 - val_recall_m: 1.0000\n",
      "Epoch 4/32\n",
      "143/143 [==============================] - 1s 4ms/step - loss: 0.6982 - acc: 0.7948 - f1_m: 0.9232 - precision_m: 0.8590 - recall_m: 1.0000 - val_loss: 0.6980 - val_acc: 0.6790 - val_f1_m: 0.9285 - val_precision_m: 0.8670 - val_recall_m: 1.0000\n",
      "Epoch 5/32\n",
      "143/143 [==============================] - 1s 4ms/step - loss: 0.6978 - acc: 0.7948 - f1_m: 0.9254 - precision_m: 0.8623 - recall_m: 1.0000 - val_loss: 0.6976 - val_acc: 0.6790 - val_f1_m: 0.9285 - val_precision_m: 0.8670 - val_recall_m: 1.0000\n",
      "Epoch 6/32\n",
      "143/143 [==============================] - 1s 4ms/step - loss: 0.6973 - acc: 0.7948 - f1_m: 0.9254 - precision_m: 0.8623 - recall_m: 1.0000 - val_loss: 0.6972 - val_acc: 0.6790 - val_f1_m: 0.9285 - val_precision_m: 0.8670 - val_recall_m: 1.0000\n",
      "Epoch 7/32\n",
      "143/143 [==============================] - 1s 4ms/step - loss: 0.6969 - acc: 0.7948 - f1_m: 0.9254 - precision_m: 0.8623 - recall_m: 1.0000 - val_loss: 0.6967 - val_acc: 0.6790 - val_f1_m: 0.9285 - val_precision_m: 0.8670 - val_recall_m: 1.0000\n",
      "Epoch 8/32\n",
      "143/143 [==============================] - 1s 4ms/step - loss: 0.6965 - acc: 0.7948 - f1_m: 0.9254 - precision_m: 0.8623 - recall_m: 1.0000 - val_loss: 0.6963 - val_acc: 0.6790 - val_f1_m: 0.9285 - val_precision_m: 0.8670 - val_recall_m: 1.0000\n",
      "Epoch 9/32\n",
      "143/143 [==============================] - 1s 4ms/step - loss: 0.6960 - acc: 0.7948 - f1_m: 0.9246 - precision_m: 0.8607 - recall_m: 1.0000 - val_loss: 0.6959 - val_acc: 0.6790 - val_f1_m: 0.9285 - val_precision_m: 0.8670 - val_recall_m: 1.0000\n",
      "Epoch 10/32\n",
      "143/143 [==============================] - 1s 4ms/step - loss: 0.6956 - acc: 0.7948 - f1_m: 0.9245 - precision_m: 0.8607 - recall_m: 1.0000 - val_loss: 0.6955 - val_acc: 0.6790 - val_f1_m: 0.9285 - val_precision_m: 0.8670 - val_recall_m: 1.0000\n",
      "Epoch 11/32\n",
      "143/143 [==============================] - 1s 5ms/step - loss: 0.6953 - acc: 0.7948 - f1_m: 0.9254 - precision_m: 0.8623 - recall_m: 1.0000 - val_loss: 0.6951 - val_acc: 0.6790 - val_f1_m: 0.9285 - val_precision_m: 0.8670 - val_recall_m: 1.0000\n",
      "Epoch 12/32\n",
      "143/143 [==============================] - 1s 4ms/step - loss: 0.6949 - acc: 0.7948 - f1_m: 0.9246 - precision_m: 0.8607 - recall_m: 1.0000 - val_loss: 0.6947 - val_acc: 0.6790 - val_f1_m: 0.9285 - val_precision_m: 0.8670 - val_recall_m: 1.0000\n",
      "Epoch 13/32\n",
      "143/143 [==============================] - 1s 4ms/step - loss: 0.6946 - acc: 0.7948 - f1_m: 0.9233 - precision_m: 0.8590 - recall_m: 1.0000 - val_loss: 0.6944 - val_acc: 0.6790 - val_f1_m: 0.9285 - val_precision_m: 0.8670 - val_recall_m: 1.0000\n",
      "Epoch 14/32\n",
      "143/143 [==============================] - 1s 4ms/step - loss: 0.6943 - acc: 0.7948 - f1_m: 0.9246 - precision_m: 0.8607 - recall_m: 1.0000 - val_loss: 0.6942 - val_acc: 0.6790 - val_f1_m: 0.9285 - val_precision_m: 0.8670 - val_recall_m: 1.0000\n",
      "Epoch 15/32\n",
      "143/143 [==============================] - 1s 4ms/step - loss: 0.6941 - acc: 0.7948 - f1_m: 0.9256 - precision_m: 0.8623 - recall_m: 1.0000 - val_loss: 0.6939 - val_acc: 0.6790 - val_f1_m: 0.9285 - val_precision_m: 0.8670 - val_recall_m: 1.0000\n",
      "Epoch 16/32\n",
      "143/143 [==============================] - 1s 4ms/step - loss: 0.6938 - acc: 0.7948 - f1_m: 0.9245 - precision_m: 0.8607 - recall_m: 1.0000 - val_loss: 0.6938 - val_acc: 0.6790 - val_f1_m: 0.9285 - val_precision_m: 0.8670 - val_recall_m: 1.0000\n",
      "Epoch 17/32\n",
      "143/143 [==============================] - 1s 4ms/step - loss: 0.6937 - acc: 0.7948 - f1_m: 0.9255 - precision_m: 0.8623 - recall_m: 1.0000 - val_loss: 0.6936 - val_acc: 0.6790 - val_f1_m: 0.9285 - val_precision_m: 0.8670 - val_recall_m: 1.0000\n",
      "Epoch 18/32\n",
      "143/143 [==============================] - 1s 4ms/step - loss: 0.6936 - acc: 0.7948 - f1_m: 0.9245 - precision_m: 0.8607 - recall_m: 1.0000 - val_loss: 0.6935 - val_acc: 0.6790 - val_f1_m: 0.9285 - val_precision_m: 0.8670 - val_recall_m: 1.0000\n",
      "Epoch 19/32\n",
      "143/143 [==============================] - 1s 4ms/step - loss: 0.6935 - acc: 0.7948 - f1_m: 0.9254 - precision_m: 0.8623 - recall_m: 1.0000 - val_loss: 0.6934 - val_acc: 0.6790 - val_f1_m: 0.9285 - val_precision_m: 0.8670 - val_recall_m: 1.0000\n",
      "Epoch 20/32\n",
      "143/143 [==============================] - 1s 4ms/step - loss: 0.6934 - acc: 0.7948 - f1_m: 0.9253 - precision_m: 0.8623 - recall_m: 1.0000 - val_loss: 0.6934 - val_acc: 0.6790 - val_f1_m: 0.9285 - val_precision_m: 0.8670 - val_recall_m: 1.0000\n",
      "Epoch 21/32\n",
      "143/143 [==============================] - 1s 4ms/step - loss: 0.6933 - acc: 0.7948 - f1_m: 0.9253 - precision_m: 0.8623 - recall_m: 1.0000 - val_loss: 0.6933 - val_acc: 0.6790 - val_f1_m: 0.9285 - val_precision_m: 0.8670 - val_recall_m: 1.0000\n",
      "Epoch 22/32\n",
      "143/143 [==============================] - 1s 4ms/step - loss: 0.6933 - acc: 0.7948 - f1_m: 0.9255 - precision_m: 0.8623 - recall_m: 1.0000 - val_loss: 0.6933 - val_acc: 0.6790 - val_f1_m: 0.9285 - val_precision_m: 0.8670 - val_recall_m: 1.0000\n",
      "Epoch 23/32\n",
      "143/143 [==============================] - 1s 4ms/step - loss: 0.6932 - acc: 0.7948 - f1_m: 0.9254 - precision_m: 0.8623 - recall_m: 1.0000 - val_loss: 0.6932 - val_acc: 0.6790 - val_f1_m: 0.9285 - val_precision_m: 0.8670 - val_recall_m: 1.0000\n",
      "Epoch 24/32\n",
      "143/143 [==============================] - 1s 4ms/step - loss: 0.6932 - acc: 0.7948 - f1_m: 0.9246 - precision_m: 0.8607 - recall_m: 1.0000 - val_loss: 0.6932 - val_acc: 0.6790 - val_f1_m: 0.9285 - val_precision_m: 0.8670 - val_recall_m: 1.0000\n",
      "Epoch 25/32\n",
      "143/143 [==============================] - 1s 4ms/step - loss: 0.6932 - acc: 0.7948 - f1_m: 0.9232 - precision_m: 0.8590 - recall_m: 1.0000 - val_loss: 0.6932 - val_acc: 0.6790 - val_f1_m: 0.9285 - val_precision_m: 0.8670 - val_recall_m: 1.0000\n",
      "Epoch 26/32\n",
      "143/143 [==============================] - 1s 4ms/step - loss: 0.6932 - acc: 0.7948 - f1_m: 0.9255 - precision_m: 0.8623 - recall_m: 1.0000 - val_loss: 0.6932 - val_acc: 0.6790 - val_f1_m: 0.9285 - val_precision_m: 0.8670 - val_recall_m: 1.0000\n",
      "Epoch 27/32\n",
      "143/143 [==============================] - 1s 4ms/step - loss: 0.6932 - acc: 0.7948 - f1_m: 0.9244 - precision_m: 0.8607 - recall_m: 1.0000 - val_loss: 0.6932 - val_acc: 0.6790 - val_f1_m: 0.9285 - val_precision_m: 0.8670 - val_recall_m: 1.0000\n",
      "Epoch 28/32\n",
      "143/143 [==============================] - 1s 4ms/step - loss: 0.6932 - acc: 0.7948 - f1_m: 0.9254 - precision_m: 0.8623 - recall_m: 1.0000 - val_loss: 0.6932 - val_acc: 0.6790 - val_f1_m: 0.9285 - val_precision_m: 0.8670 - val_recall_m: 1.0000\n",
      "Epoch 29/32\n"
     ]
    },
    {
     "name": "stdout",
     "output_type": "stream",
     "text": [
      "143/143 [==============================] - 1s 4ms/step - loss: 0.6932 - acc: 0.7948 - f1_m: 0.9246 - precision_m: 0.8607 - recall_m: 1.0000 - val_loss: 0.6932 - val_acc: 0.6790 - val_f1_m: 0.9285 - val_precision_m: 0.8670 - val_recall_m: 1.0000\n",
      "Epoch 30/32\n",
      "143/143 [==============================] - 1s 4ms/step - loss: 0.6932 - acc: 0.7859 - f1_m: 0.9254 - precision_m: 0.8623 - recall_m: 1.0000 - val_loss: 0.6931 - val_acc: 0.7058 - val_f1_m: 0.9285 - val_precision_m: 0.8670 - val_recall_m: 1.0000\n",
      "Epoch 31/32\n",
      "143/143 [==============================] - 1s 4ms/step - loss: 0.6931 - acc: 0.7856 - f1_m: 0.9255 - precision_m: 0.8623 - recall_m: 1.0000 - val_loss: 0.6931 - val_acc: 0.7058 - val_f1_m: 0.9285 - val_precision_m: 0.8670 - val_recall_m: 1.0000\n",
      "Epoch 32/32\n",
      "143/143 [==============================] - 1s 4ms/step - loss: 0.6931 - acc: 0.7856 - f1_m: 0.9254 - precision_m: 0.8623 - recall_m: 1.0000 - val_loss: 0.6931 - val_acc: 0.7058 - val_f1_m: 0.9285 - val_precision_m: 0.8670 - val_recall_m: 1.0000\n"
     ]
    }
   ],
   "source": [
    "y_train_rapport = np.array(y_train_rapport)\n",
    "y_test_rapport = np.array(y_test_rapport)\n",
    "\n",
    "print('Joint full model with one hot encoding, predicting rapport')\n",
    "joint_full_model_rapport = create_joint_model(pred_df)\n",
    "joint_full_model_rapport.summary()\n",
    "history = joint_full_model_rapport.fit(x=pred_df, y=y_train_rapport, epochs=32, \n",
    "                    batch_size=64, \n",
    "                    validation_data=(pred_test_df,y_test_rapport), callbacks=[callback])"
   ]
  },
  {
   "cell_type": "code",
   "execution_count": 56,
   "metadata": {},
   "outputs": [
    {
     "data": {
      "text/plain": [
       "(0.4996533912896215, 0.4994845049232299, 0.4931255866116114, None)"
      ]
     },
     "execution_count": 56,
     "metadata": {},
     "output_type": "execute_result"
    }
   ],
   "source": [
    "full_pred = joint_full_model_rapport.predict(pred_df)\n",
    "full_pred = np.argmax(full_pred, axis=1)\n",
    "\n",
    "full_pred_test = joint_full_model_rapport.predict(pred_test_df)\n",
    "full_pred_test = np.argmax(full_pred_test, axis=1)\n",
    "\n",
    "precision_recall_fscore_support(y_test_rapport, full_pred_test, average='macro')"
   ]
  },
  {
   "cell_type": "code",
   "execution_count": null,
   "metadata": {},
   "outputs": [],
   "source": []
  },
  {
   "cell_type": "code",
   "execution_count": null,
   "metadata": {},
   "outputs": [],
   "source": []
  },
  {
   "cell_type": "code",
   "execution_count": 57,
   "metadata": {},
   "outputs": [
    {
     "name": "stdout",
     "output_type": "stream",
     "text": [
      "Joint full model with one hot encoding, predicting deception, weighted by throughput\n",
      "Model: \"functional_25\"\n",
      "_________________________________________________________________\n",
      "Layer (type)                 Output Shape              Param #   \n",
      "=================================================================\n",
      "input_13 (InputLayer)        [(None, 4)]               0         \n",
      "_________________________________________________________________\n",
      "dense_36 (Dense)             (None, 2)                 10        \n",
      "_________________________________________________________________\n",
      "dense_37 (Dense)             (None, 4)                 12        \n",
      "_________________________________________________________________\n",
      "dense_38 (Dense)             (None, 2)                 10        \n",
      "=================================================================\n",
      "Total params: 32\n",
      "Trainable params: 32\n",
      "Non-trainable params: 0\n",
      "_________________________________________________________________\n",
      "Epoch 1/32\n",
      "143/143 [==============================] - 1s 6ms/step - loss: 0.6931 - acc: 0.5352 - f1_m: 0.9565 - precision_m: 0.9535 - recall_m: 0.9798 - val_loss: 0.6931 - val_acc: 0.9437 - val_f1_m: 0.9718 - val_precision_m: 0.9455 - val_recall_m: 1.0000\n",
      "Epoch 2/32\n",
      "143/143 [==============================] - 1s 4ms/step - loss: 0.6931 - acc: 0.5103 - f1_m: 0.9617 - precision_m: 0.9389 - recall_m: 0.9860 - val_loss: 0.6931 - val_acc: 0.9446 - val_f1_m: 0.9718 - val_precision_m: 0.9455 - val_recall_m: 1.0000\n"
     ]
    }
   ],
   "source": [
    "print('Joint full model with one hot encoding, predicting deception, weighted by throughput')\n",
    "joint_full_model = create_joint_model(pred_df_full_throughput)\n",
    "joint_full_model.summary()\n",
    "history = joint_full_model.fit(x=pred_df_full_throughput, y=y_train_deception, epochs=32, \n",
    "                    batch_size=64, \n",
    "                    validation_data=(pred_df_full_throughput_test,y_test_deception), callbacks=[callback])"
   ]
  },
  {
   "cell_type": "code",
   "execution_count": 58,
   "metadata": {},
   "outputs": [
    {
     "data": {
      "text/plain": [
       "(0.4908659448693773, 0.49185291016090077, 0.49129142564954775, None)"
      ]
     },
     "execution_count": 58,
     "metadata": {},
     "output_type": "execute_result"
    }
   ],
   "source": [
    "full_pred = joint_full_model.predict(pred_df_full)\n",
    "full_pred = np.argmax(full_pred, axis=1)\n",
    "\n",
    "full_pred_test = joint_full_model.predict(pred_test_df_full)\n",
    "full_pred_test = np.argmax(full_pred_test, axis=1)\n",
    "\n",
    "precision_recall_fscore_support(y_test_deception, full_pred_test, average='macro')"
   ]
  },
  {
   "cell_type": "code",
   "execution_count": 59,
   "metadata": {},
   "outputs": [
    {
     "name": "stdout",
     "output_type": "stream",
     "text": [
      "Joint full model with one hot encoding, predicting rapport, weighted by throughput\n",
      "Model: \"functional_27\"\n",
      "_________________________________________________________________\n",
      "Layer (type)                 Output Shape              Param #   \n",
      "=================================================================\n",
      "input_14 (InputLayer)        [(None, 3)]               0         \n",
      "_________________________________________________________________\n",
      "dense_39 (Dense)             (None, 2)                 8         \n",
      "_________________________________________________________________\n",
      "dense_40 (Dense)             (None, 4)                 12        \n",
      "_________________________________________________________________\n",
      "dense_41 (Dense)             (None, 2)                 10        \n",
      "=================================================================\n",
      "Total params: 30\n",
      "Trainable params: 30\n",
      "Non-trainable params: 0\n",
      "_________________________________________________________________\n",
      "Epoch 1/32\n",
      "143/143 [==============================] - 1s 6ms/step - loss: 0.6936 - acc: 0.1491 - f1_m: 0.9200 - precision_m: 0.8610 - recall_m: 0.9935 - val_loss: 0.6932 - val_acc: 0.1429 - val_f1_m: 0.9285 - val_precision_m: 0.8670 - val_recall_m: 1.0000\n",
      "Epoch 2/32\n",
      "143/143 [==============================] - 1s 4ms/step - loss: 0.6932 - acc: 0.1430 - f1_m: 0.9245 - precision_m: 0.8607 - recall_m: 1.0000 - val_loss: 0.6932 - val_acc: 0.1385 - val_f1_m: 0.9285 - val_precision_m: 0.8670 - val_recall_m: 1.0000\n",
      "Epoch 3/32\n",
      "143/143 [==============================] - 1s 4ms/step - loss: 0.6932 - acc: 0.1633 - f1_m: 0.9255 - precision_m: 0.8623 - recall_m: 1.0000 - val_loss: 0.6932 - val_acc: 0.1350 - val_f1_m: 0.9285 - val_precision_m: 0.8670 - val_recall_m: 1.0000\n",
      "Epoch 4/32\n",
      "143/143 [==============================] - 1s 4ms/step - loss: 0.6932 - acc: 0.1628 - f1_m: 0.9255 - precision_m: 0.8623 - recall_m: 1.0000 - val_loss: 0.6931 - val_acc: 0.1350 - val_f1_m: 0.9285 - val_precision_m: 0.8670 - val_recall_m: 1.0000\n",
      "Epoch 5/32\n",
      "143/143 [==============================] - 1s 4ms/step - loss: 0.6932 - acc: 0.1897 - f1_m: 0.9246 - precision_m: 0.8607 - recall_m: 1.0000 - val_loss: 0.6931 - val_acc: 0.1350 - val_f1_m: 0.9285 - val_precision_m: 0.8670 - val_recall_m: 1.0000\n",
      "Epoch 6/32\n",
      "143/143 [==============================] - 1s 4ms/step - loss: 0.6932 - acc: 0.1928 - f1_m: 0.9254 - precision_m: 0.8623 - recall_m: 1.0000 - val_loss: 0.6931 - val_acc: 0.1346 - val_f1_m: 0.9285 - val_precision_m: 0.8670 - val_recall_m: 1.0000\n",
      "Epoch 7/32\n",
      "143/143 [==============================] - 1s 4ms/step - loss: 0.6931 - acc: 0.1723 - f1_m: 0.9255 - precision_m: 0.8623 - recall_m: 1.0000 - val_loss: 0.6931 - val_acc: 0.1346 - val_f1_m: 0.9285 - val_precision_m: 0.8670 - val_recall_m: 1.0000\n",
      "Epoch 8/32\n",
      "143/143 [==============================] - 1s 4ms/step - loss: 0.6931 - acc: 0.2657 - f1_m: 0.9254 - precision_m: 0.8623 - recall_m: 1.0000 - val_loss: 0.6931 - val_acc: 0.1341 - val_f1_m: 0.9285 - val_precision_m: 0.8670 - val_recall_m: 1.0000\n",
      "Epoch 9/32\n",
      "143/143 [==============================] - 1s 4ms/step - loss: 0.6931 - acc: 0.1881 - f1_m: 0.9254 - precision_m: 0.8623 - recall_m: 1.0000 - val_loss: 0.6931 - val_acc: 0.8672 - val_f1_m: 0.9285 - val_precision_m: 0.8670 - val_recall_m: 1.0000\n",
      "Epoch 10/32\n",
      "143/143 [==============================] - 1s 5ms/step - loss: 0.6931 - acc: 0.3395 - f1_m: 0.9245 - precision_m: 0.8607 - recall_m: 1.0000 - val_loss: 0.6931 - val_acc: 0.1332 - val_f1_m: 0.9285 - val_precision_m: 0.8670 - val_recall_m: 1.0000\n",
      "Epoch 11/32\n",
      "143/143 [==============================] - 1s 4ms/step - loss: 0.6931 - acc: 0.2852 - f1_m: 0.9244 - precision_m: 0.8607 - recall_m: 1.0000 - val_loss: 0.6931 - val_acc: 0.8672 - val_f1_m: 0.9285 - val_precision_m: 0.8670 - val_recall_m: 1.0000\n"
     ]
    }
   ],
   "source": [
    "print('Joint full model with one hot encoding, predicting rapport, weighted by throughput')\n",
    "joint_full_model_rapport = create_joint_model(pred_df_throughput)\n",
    "joint_full_model_rapport.summary()\n",
    "history = joint_full_model_rapport.fit(x=pred_df_throughput, y=y_train_rapport, epochs=32, \n",
    "                    batch_size=64, \n",
    "                    validation_data=(pred_df_throughput_test,y_test_rapport), callbacks=[callback])"
   ]
  },
  {
   "cell_type": "code",
   "execution_count": 60,
   "metadata": {},
   "outputs": [
    {
     "name": "stderr",
     "output_type": "stream",
     "text": [
      "C:\\Users\\lynne\\anaconda3\\envs\\tf-gpu\\lib\\site-packages\\sklearn\\metrics\\_classification.py:1221: UndefinedMetricWarning: Precision and F-score are ill-defined and being set to 0.0 in labels with no predicted samples. Use `zero_division` parameter to control this behavior.\n",
      "  _warn_prf(average, modifier, msg_start, len(result))\n"
     ]
    },
    {
     "data": {
      "text/plain": [
       "(0.4335971855760774, 0.5, 0.4644371172868582, None)"
      ]
     },
     "execution_count": 60,
     "metadata": {},
     "output_type": "execute_result"
    }
   ],
   "source": [
    "full_pred_test = joint_full_model_rapport.predict(pred_df_throughput_test)\n",
    "full_pred_test = np.argmax(full_pred_test, axis=1)\n",
    "\n",
    "precision_recall_fscore_support(y_test_rapport, full_pred_test, average='macro')"
   ]
  },
  {
   "cell_type": "code",
   "execution_count": 61,
   "metadata": {},
   "outputs": [
    {
     "name": "stdout",
     "output_type": "stream",
     "text": [
      "Joint full model with one hot encoding, predicting deception, weighted by worktime\n",
      "Model: \"functional_29\"\n",
      "_________________________________________________________________\n",
      "Layer (type)                 Output Shape              Param #   \n",
      "=================================================================\n",
      "input_15 (InputLayer)        [(None, 4)]               0         \n",
      "_________________________________________________________________\n",
      "dense_42 (Dense)             (None, 2)                 10        \n",
      "_________________________________________________________________\n",
      "dense_43 (Dense)             (None, 4)                 12        \n",
      "_________________________________________________________________\n",
      "dense_44 (Dense)             (None, 2)                 10        \n",
      "=================================================================\n",
      "Total params: 32\n",
      "Trainable params: 32\n",
      "Non-trainable params: 0\n",
      "_________________________________________________________________\n",
      "Epoch 1/32\n",
      "143/143 [==============================] - 1s 6ms/step - loss: 0.6942 - acc: 0.8248 - f1_m: 0.9752 - precision_m: 0.9525 - recall_m: 0.9993 - val_loss: 0.6933 - val_acc: 0.9182 - val_f1_m: 0.9718 - val_precision_m: 0.9455 - val_recall_m: 1.0000\n",
      "Epoch 2/32\n",
      "143/143 [==============================] - 1s 4ms/step - loss: 0.6933 - acc: 0.9337 - f1_m: 0.9755 - precision_m: 0.9525 - recall_m: 1.0000 - val_loss: 0.6932 - val_acc: 0.9376 - val_f1_m: 0.9718 - val_precision_m: 0.9455 - val_recall_m: 1.0000\n",
      "Epoch 3/32\n",
      "143/143 [==============================] - 1s 4ms/step - loss: 0.6933 - acc: 0.9449 - f1_m: 0.9755 - precision_m: 0.9525 - recall_m: 1.0000 - val_loss: 0.6932 - val_acc: 0.9428 - val_f1_m: 0.9718 - val_precision_m: 0.9455 - val_recall_m: 1.0000\n",
      "Epoch 4/32\n",
      "143/143 [==============================] - 1s 4ms/step - loss: 0.6932 - acc: 0.9030 - f1_m: 0.9755 - precision_m: 0.9525 - recall_m: 1.0000 - val_loss: 0.6932 - val_acc: 0.9437 - val_f1_m: 0.9718 - val_precision_m: 0.9455 - val_recall_m: 1.0000\n",
      "Epoch 5/32\n",
      "143/143 [==============================] - 1s 4ms/step - loss: 0.6932 - acc: 0.8809 - f1_m: 0.9745 - precision_m: 0.9508 - recall_m: 1.0000 - val_loss: 0.6932 - val_acc: 0.0541 - val_f1_m: 0.9718 - val_precision_m: 0.9455 - val_recall_m: 1.0000\n",
      "Epoch 6/32\n",
      "143/143 [==============================] - 1s 4ms/step - loss: 0.6932 - acc: 0.8843 - f1_m: 0.9754 - precision_m: 0.9525 - recall_m: 1.0000 - val_loss: 0.6932 - val_acc: 0.9446 - val_f1_m: 0.9718 - val_precision_m: 0.9455 - val_recall_m: 1.0000\n",
      "Epoch 7/32\n",
      "143/143 [==============================] - 1s 4ms/step - loss: 0.6932 - acc: 0.7917 - f1_m: 0.9755 - precision_m: 0.9525 - recall_m: 1.0000 - val_loss: 0.6932 - val_acc: 0.9455 - val_f1_m: 0.9718 - val_precision_m: 0.9455 - val_recall_m: 1.0000\n",
      "Epoch 8/32\n",
      "143/143 [==============================] - 1s 4ms/step - loss: 0.6932 - acc: 0.7904 - f1_m: 0.9755 - precision_m: 0.9525 - recall_m: 1.0000 - val_loss: 0.6932 - val_acc: 0.9455 - val_f1_m: 0.9718 - val_precision_m: 0.9455 - val_recall_m: 1.0000\n",
      "Epoch 9/32\n",
      "143/143 [==============================] - 1s 4ms/step - loss: 0.6932 - acc: 0.7777 - f1_m: 0.9755 - precision_m: 0.9525 - recall_m: 1.0000 - val_loss: 0.6931 - val_acc: 0.9455 - val_f1_m: 0.9718 - val_precision_m: 0.9455 - val_recall_m: 1.0000\n",
      "Epoch 10/32\n",
      "143/143 [==============================] - 1s 4ms/step - loss: 0.6932 - acc: 0.7293 - f1_m: 0.9755 - precision_m: 0.9525 - recall_m: 1.0000 - val_loss: 0.6931 - val_acc: 0.0541 - val_f1_m: 0.9718 - val_precision_m: 0.9455 - val_recall_m: 1.0000\n",
      "Epoch 11/32\n",
      "143/143 [==============================] - 1s 5ms/step - loss: 0.6932 - acc: 0.6937 - f1_m: 0.9755 - precision_m: 0.9525 - recall_m: 1.0000 - val_loss: 0.6931 - val_acc: 0.9455 - val_f1_m: 0.9718 - val_precision_m: 0.9455 - val_recall_m: 1.0000\n",
      "Epoch 12/32\n",
      "143/143 [==============================] - 1s 4ms/step - loss: 0.6932 - acc: 0.6203 - f1_m: 0.9755 - precision_m: 0.9525 - recall_m: 1.0000 - val_loss: 0.6931 - val_acc: 0.9455 - val_f1_m: 0.9718 - val_precision_m: 0.9455 - val_recall_m: 1.0000\n",
      "Epoch 13/32\n",
      "143/143 [==============================] - 1s 4ms/step - loss: 0.6932 - acc: 0.6058 - f1_m: 0.9755 - precision_m: 0.9525 - recall_m: 1.0000 - val_loss: 0.6931 - val_acc: 0.0541 - val_f1_m: 0.9718 - val_precision_m: 0.9455 - val_recall_m: 1.0000\n",
      "Epoch 14/32\n",
      "143/143 [==============================] - 1s 5ms/step - loss: 0.6932 - acc: 0.5346 - f1_m: 0.9755 - precision_m: 0.9525 - recall_m: 1.0000 - val_loss: 0.6931 - val_acc: 0.9455 - val_f1_m: 0.9718 - val_precision_m: 0.9455 - val_recall_m: 1.0000\n",
      "Epoch 15/32\n",
      "143/143 [==============================] - 1s 5ms/step - loss: 0.6932 - acc: 0.6328 - f1_m: 0.9754 - precision_m: 0.9525 - recall_m: 1.0000 - val_loss: 0.6931 - val_acc: 0.9459 - val_f1_m: 0.9718 - val_precision_m: 0.9455 - val_recall_m: 1.0000\n",
      "Epoch 16/32\n",
      "143/143 [==============================] - 1s 4ms/step - loss: 0.6932 - acc: 0.6115 - f1_m: 0.9755 - precision_m: 0.9525 - recall_m: 1.0000 - val_loss: 0.6931 - val_acc: 0.9459 - val_f1_m: 0.9718 - val_precision_m: 0.9455 - val_recall_m: 1.0000\n"
     ]
    },
    {
     "name": "stderr",
     "output_type": "stream",
     "text": [
      "C:\\Users\\lynne\\anaconda3\\envs\\tf-gpu\\lib\\site-packages\\sklearn\\metrics\\_classification.py:1221: UndefinedMetricWarning: Precision and F-score are ill-defined and being set to 0.0 in labels with no predicted samples. Use `zero_division` parameter to control this behavior.\n",
      "  _warn_prf(average, modifier, msg_start, len(result))\n"
     ]
    },
    {
     "data": {
      "text/plain": [
       "(0.4729551451187335, 0.5, 0.48610169491525423, None)"
      ]
     },
     "execution_count": 61,
     "metadata": {},
     "output_type": "execute_result"
    }
   ],
   "source": [
    "print('Joint full model with one hot encoding, predicting deception, weighted by worktime')\n",
    "joint_full_model = create_joint_model(pred_df_full_worktime)\n",
    "joint_full_model.summary()\n",
    "history = joint_full_model.fit(x=pred_df_full_worktime, y=y_train_deception, epochs=32, \n",
    "                    batch_size=64, \n",
    "                    validation_data=(pred_df_full_worktime_test,y_test_deception), callbacks=[callback])\n",
    "\n",
    "full_pred_test = joint_full_model.predict(pred_df_full_worktime_test)\n",
    "full_pred_test = np.argmax(full_pred_test, axis=1)\n",
    "\n",
    "precision_recall_fscore_support(y_test_deception, full_pred_test, average='macro')"
   ]
  },
  {
   "cell_type": "code",
   "execution_count": 62,
   "metadata": {},
   "outputs": [
    {
     "name": "stdout",
     "output_type": "stream",
     "text": [
      "Joint full model with one hot encoding, predicting rapport, weighted by worktime\n",
      "Model: \"functional_31\"\n",
      "_________________________________________________________________\n",
      "Layer (type)                 Output Shape              Param #   \n",
      "=================================================================\n",
      "input_16 (InputLayer)        [(None, 3)]               0         \n",
      "_________________________________________________________________\n",
      "dense_45 (Dense)             (None, 2)                 8         \n",
      "_________________________________________________________________\n",
      "dense_46 (Dense)             (None, 4)                 12        \n",
      "_________________________________________________________________\n",
      "dense_47 (Dense)             (None, 2)                 10        \n",
      "=================================================================\n",
      "Total params: 30\n",
      "Trainable params: 30\n",
      "Non-trainable params: 0\n",
      "_________________________________________________________________\n",
      "Epoch 1/32\n",
      "143/143 [==============================] - 1s 6ms/step - loss: 0.6932 - acc: 0.1936 - f1_m: 0.9214 - precision_m: 0.8607 - recall_m: 0.9945 - val_loss: 0.6932 - val_acc: 0.8672 - val_f1_m: 0.9285 - val_precision_m: 0.8670 - val_recall_m: 1.0000\n",
      "Epoch 2/32\n",
      "143/143 [==============================] - 1s 4ms/step - loss: 0.6932 - acc: 0.2859 - f1_m: 0.9254 - precision_m: 0.8623 - recall_m: 1.0000 - val_loss: 0.6931 - val_acc: 0.1350 - val_f1_m: 0.9285 - val_precision_m: 0.8670 - val_recall_m: 1.0000\n",
      "Epoch 3/32\n",
      "143/143 [==============================] - 1s 4ms/step - loss: 0.6932 - acc: 0.3195 - f1_m: 0.9255 - precision_m: 0.8623 - recall_m: 1.0000 - val_loss: 0.6931 - val_acc: 0.8672 - val_f1_m: 0.9285 - val_precision_m: 0.8670 - val_recall_m: 1.0000\n",
      "Epoch 4/32\n",
      "143/143 [==============================] - 1s 4ms/step - loss: 0.6931 - acc: 0.3837 - f1_m: 0.9254 - precision_m: 0.8623 - recall_m: 1.0000 - val_loss: 0.6931 - val_acc: 0.1332 - val_f1_m: 0.9285 - val_precision_m: 0.8670 - val_recall_m: 1.0000\n"
     ]
    },
    {
     "data": {
      "text/plain": [
       "(0.5664320281566212, 0.5002535496957403, 0.11778839577008055, None)"
      ]
     },
     "execution_count": 62,
     "metadata": {},
     "output_type": "execute_result"
    }
   ],
   "source": [
    "print('Joint full model with one hot encoding, predicting rapport, weighted by worktime')\n",
    "joint_full_model = create_joint_model(pred_df_worktime)\n",
    "joint_full_model.summary()\n",
    "history = joint_full_model.fit(x=pred_df_worktime, y=y_train_rapport, epochs=32, \n",
    "                    batch_size=64, \n",
    "                    validation_data=(pred_df_worktime_test,y_test_rapport), callbacks=[callback])\n",
    "\n",
    "full_pred_test = joint_full_model.predict(pred_df_worktime_test)\n",
    "full_pred_test = np.argmax(full_pred_test, axis=1)\n",
    "\n",
    "precision_recall_fscore_support(y_test_rapport, full_pred_test, average='macro')"
   ]
  },
  {
   "cell_type": "code",
   "execution_count": null,
   "metadata": {},
   "outputs": [],
   "source": []
  },
  {
   "cell_type": "code",
   "execution_count": 63,
   "metadata": {},
   "outputs": [
    {
     "name": "stdout",
     "output_type": "stream",
     "text": [
      "              precision    recall  f1-score   support\n",
      "\n",
      "           0       0.00      0.00      0.00         0\n",
      "           1       1.00      0.95      0.97      2274\n",
      "\n",
      "    accuracy                           0.95      2274\n",
      "   macro avg       0.50      0.47      0.49      2274\n",
      "weighted avg       1.00      0.95      0.97      2274\n",
      "\n"
     ]
    },
    {
     "name": "stderr",
     "output_type": "stream",
     "text": [
      "C:\\Users\\lynne\\anaconda3\\envs\\tf-gpu\\lib\\site-packages\\sklearn\\metrics\\_classification.py:1221: UndefinedMetricWarning: Recall and F-score are ill-defined and being set to 0.0 in labels with no true samples. Use `zero_division` parameter to control this behavior.\n",
      "  _warn_prf(average, modifier, msg_start, len(result))\n",
      "C:\\Users\\lynne\\anaconda3\\envs\\tf-gpu\\lib\\site-packages\\sklearn\\metrics\\_classification.py:1221: UndefinedMetricWarning: Precision and F-score are ill-defined and being set to 0.0 in labels with no predicted samples. Use `zero_division` parameter to control this behavior.\n",
      "  _warn_prf(average, modifier, msg_start, len(result))\n"
     ]
    },
    {
     "data": {
      "text/plain": [
       "(0.4729551451187335, 0.5, 0.48610169491525423, None)"
      ]
     },
     "execution_count": 63,
     "metadata": {},
     "output_type": "execute_result"
    }
   ],
   "source": [
    "## Joint full model with Logistic Regression, predicting deception\n",
    "clf_joint = KNeighborsClassifier(n_neighbors=1)\n",
    "clf_joint.fit(pred_df_full, y_train_deception)\n",
    "y_pred_deception = clf_joint.predict(pred_df_full)\n",
    "y_pred_test_deception = clf_joint.predict(pred_test_df_full)\n",
    "print(classification_report(y_pred_test_deception, y_test_deception))\n",
    "\n",
    "precision_recall_fscore_support(y_test_deception, y_pred_test_deception, average='macro')"
   ]
  },
  {
   "cell_type": "code",
   "execution_count": 64,
   "metadata": {},
   "outputs": [
    {
     "name": "stdout",
     "output_type": "stream",
     "text": [
      "              precision    recall  f1-score   support\n",
      "\n",
      "         0.0       0.01      0.15      0.02        26\n",
      "         1.0       0.99      0.87      0.92      2248\n",
      "\n",
      "    accuracy                           0.86      2274\n",
      "   macro avg       0.50      0.51      0.47      2274\n",
      "weighted avg       0.98      0.86      0.91      2274\n",
      "\n"
     ]
    },
    {
     "data": {
      "text/plain": [
       "(0.5106419381330414, 0.5010444232500033, 0.4742804300080915, None)"
      ]
     },
     "execution_count": 64,
     "metadata": {},
     "output_type": "execute_result"
    }
   ],
   "source": [
    "## Joint full model with Logistic Regression, predicting rapport\n",
    "clf_joint = KNeighborsClassifier(n_neighbors=1)\n",
    "clf_joint.fit(pred_df, y_train_rapport)\n",
    "y_pred_repport = clf_joint.predict(pred_df)\n",
    "y_pred_test_rapport = clf_joint.predict(pred_test_df)\n",
    "print(classification_report(y_pred_test_rapport, y_test_rapport))\n",
    "\n",
    "precision_recall_fscore_support(y_test_rapport, y_pred_test_rapport, average='macro')"
   ]
  },
  {
   "cell_type": "code",
   "execution_count": 65,
   "metadata": {},
   "outputs": [
    {
     "name": "stdout",
     "output_type": "stream",
     "text": [
      "              precision    recall  f1-score   support\n",
      "\n",
      "           0       0.07      0.08      0.07       105\n",
      "           1       0.95      0.95      0.95      2169\n",
      "\n",
      "    accuracy                           0.91      2274\n",
      "   macro avg       0.51      0.51      0.51      2274\n",
      "weighted avg       0.91      0.91      0.91      2274\n",
      "\n"
     ]
    },
    {
     "data": {
      "text/plain": [
       "(0.5115853256932095, 0.5099726729484868, 0.5105506822612086, None)"
      ]
     },
     "execution_count": 65,
     "metadata": {},
     "output_type": "execute_result"
    }
   ],
   "source": [
    "## Joint full model with Logistic Regression, predicting deception, weighted by throughput\n",
    "clf_joint = KNeighborsClassifier(n_neighbors=1)\n",
    "clf_joint.fit(pred_df_full_throughput, y_train_deception)\n",
    "y_pred_deception = clf_joint.predict(pred_df_full_throughput)\n",
    "y_pred_test_deception = clf_joint.predict(pred_df_full_throughput_test)\n",
    "print(classification_report(y_pred_test_deception, y_test_deception))\n",
    "\n",
    "precision_recall_fscore_support(y_test_deception, y_pred_test_deception, average='macro')"
   ]
  },
  {
   "cell_type": "code",
   "execution_count": 66,
   "metadata": {},
   "outputs": [
    {
     "name": "stdout",
     "output_type": "stream",
     "text": [
      "              precision    recall  f1-score   support\n",
      "\n",
      "         0.0       0.15      0.18      0.16       248\n",
      "         1.0       0.90      0.87      0.88      2026\n",
      "\n",
      "    accuracy                           0.80      2274\n",
      "   macro avg       0.52      0.53      0.52      2274\n",
      "weighted avg       0.82      0.80      0.81      2274\n",
      "\n"
     ]
    },
    {
     "data": {
      "text/plain": [
       "(0.527300337547368, 0.5230327230229841, 0.5242894174359908, None)"
      ]
     },
     "execution_count": 66,
     "metadata": {},
     "output_type": "execute_result"
    }
   ],
   "source": [
    "## Joint full model with Logistic Regression, predicting rapport, weighted by throughput\n",
    "clf_joint = KNeighborsClassifier(n_neighbors=1)\n",
    "clf_joint.fit(pred_df_throughput, y_train_rapport)\n",
    "y_pred_rapport = clf_joint.predict(pred_df_throughput)\n",
    "y_pred_test_rapport = clf_joint.predict(pred_df_throughput_test)\n",
    "print(classification_report(y_pred_test_rapport, y_test_rapport))\n",
    "\n",
    "precision_recall_fscore_support(y_test_rapport, y_pred_test_rapport, average='macro')"
   ]
  },
  {
   "cell_type": "code",
   "execution_count": 67,
   "metadata": {},
   "outputs": [
    {
     "name": "stdout",
     "output_type": "stream",
     "text": [
      "              precision    recall  f1-score   support\n",
      "\n",
      "         0.0       0.18      0.16      0.17       348\n",
      "         1.0       0.85      0.87      0.86      1926\n",
      "\n",
      "    accuracy                           0.76      2274\n",
      "   macro avg       0.52      0.51      0.52      2274\n",
      "weighted avg       0.75      0.76      0.76      2274\n",
      "\n"
     ]
    },
    {
     "data": {
      "text/plain": [
       "(0.5167695417970797, 0.5149004547570452, 0.5153490942100485, None)"
      ]
     },
     "execution_count": 67,
     "metadata": {},
     "output_type": "execute_result"
    }
   ],
   "source": [
    "## Joint full model with Logistic Regression, predicting rapport, weighted by worktime\n",
    "clf_joint = KNeighborsClassifier(n_neighbors=1)\n",
    "clf_joint.fit(pred_df_worktime, y_train_rapport)\n",
    "y_pred_test_rapport = clf_joint.predict(pred_df_worktime_test)\n",
    "print(classification_report(y_pred_test_rapport, y_test_rapport))\n",
    "\n",
    "precision_recall_fscore_support(y_pred_test_rapport, y_test_rapport, average='macro')"
   ]
  },
  {
   "cell_type": "code",
   "execution_count": 68,
   "metadata": {},
   "outputs": [
    {
     "name": "stdout",
     "output_type": "stream",
     "text": [
      "              precision    recall  f1-score   support\n",
      "\n",
      "           0       0.05      0.05      0.05       124\n",
      "           1       0.95      0.95      0.95      2150\n",
      "\n",
      "    accuracy                           0.90      2274\n",
      "   macro avg       0.50      0.50      0.50      2274\n",
      "weighted avg       0.90      0.90      0.90      2274\n",
      "\n"
     ]
    },
    {
     "data": {
      "text/plain": [
       "(0.4969611411595288, 0.49698424606151537, 0.496972269889217, None)"
      ]
     },
     "execution_count": 68,
     "metadata": {},
     "output_type": "execute_result"
    }
   ],
   "source": [
    "## Joint full model with Logistic Regression, predicting deception, weighted by worktime\n",
    "clf_joint = KNeighborsClassifier(n_neighbors=1)\n",
    "clf_joint.fit(pred_df_full_worktime, y_train_deception)\n",
    "y_pred_test = clf_joint.predict(pred_df_full_worktime_test)\n",
    "print(classification_report(y_pred_test, y_test_deception))\n",
    "\n",
    "precision_recall_fscore_support(y_pred_test, y_test_deception, average='macro')"
   ]
  }
 ],
 "metadata": {
  "kernelspec": {
   "display_name": "tfgpu",
   "language": "python",
   "name": "tfgpu"
  },
  "language_info": {
   "codemirror_mode": {
    "name": "ipython",
    "version": 3
   },
   "file_extension": ".py",
   "mimetype": "text/x-python",
   "name": "python",
   "nbconvert_exporter": "python",
   "pygments_lexer": "ipython3",
   "version": "3.7.9"
  }
 },
 "nbformat": 4,
 "nbformat_minor": 4
}
