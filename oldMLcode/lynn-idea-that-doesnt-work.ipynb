{
 "cells": [
  {
   "cell_type": "code",
   "execution_count": 65,
   "metadata": {},
   "outputs": [],
   "source": [
    "import pandas as pd\n",
    "import numpy as np\n",
    "\n",
    "from tensorflow.keras.utils import to_categorical\n",
    "from tensorflow.keras.layers import LSTM, Input, InputLayer, Dropout, Dense, Flatten, Embedding, Add, Concatenate\n",
    "from tensorflow.keras import Sequential\n",
    "from tensorflow.keras.models import Model\n",
    "from tensorflow.keras.callbacks import EarlyStopping\n",
    "import tensorflow as tf\n",
    "\n",
    "from sklearn.model_selection import train_test_split\n",
    "from sklearn.metrics import classification_report\n",
    "from tensorflow.keras.preprocessing.text import Tokenizer\n",
    "from sklearn.preprocessing import LabelEncoder\n",
    "from keras.preprocessing.sequence import pad_sequences\n",
    "from tensorflow.keras.optimizers import RMSprop\n",
    "\n",
    "from sklearn.metrics import precision_recall_fscore_support\n",
    "from sklearn.metrics import classification_report\n",
    "\n",
    "import import_ipynb\n",
    "import metadata_options\n",
    "import models_nn"
   ]
  },
  {
   "cell_type": "code",
   "execution_count": 41,
   "metadata": {},
   "outputs": [],
   "source": [
    "df = pd.read_csv('./data/kokil dec 6 reprepare/conf_pc_worker_sem.csv')\n",
    "df = df.dropna()"
   ]
  },
  {
   "cell_type": "code",
   "execution_count": 42,
   "metadata": {},
   "outputs": [],
   "source": [
    "df['Input.deception_quadrant'] = df[\"Input.deception_quadrant\"].apply(lambda x : 1 if x == \"Straightforward\" else 0)\n",
    "df_deception = df[df['Input.deception_quadrant'] == 1]\n",
    "df_no_deception = df[df['Input.deception_quadrant'] == 0]"
   ]
  },
  {
   "cell_type": "code",
   "execution_count": 43,
   "metadata": {},
   "outputs": [],
   "source": [
    "indices_d = range(df_deception.shape[0])\n",
    "indices_no_d = range(df_no_deception.shape[0])\n",
    "df_deception_train, df_deception_test, df_deception_indices_train, df_deception_indices_test = train_test_split(df_deception, indices_d, test_size=0.2)\n",
    "df_no_deception_train, df_no_deception_test, df_no_deception_indices_train, df_no_deception_indices_test = train_test_split(df_no_deception, indices_no_d, test_size=0.2)"
   ]
  },
  {
   "cell_type": "code",
   "execution_count": 44,
   "metadata": {},
   "outputs": [],
   "source": [
    "y_deception_train_rapport = df_deception_train['Answer.3rapport.yes_label'].tolist()\n",
    "y_deception_test_rapport = df_deception_test['Answer.3rapport.yes_label'].tolist()\n",
    "\n",
    "y_deception_train_deception = df_deception_train['Input.deception_quadrant'].tolist()\n",
    "y_deception_test_deception = df_deception_test['Input.deception_quadrant'].tolist()\n",
    "\n",
    "\n",
    "y_no_deception_train_rapport = df_deception_train['Answer.3rapport.yes_label'].tolist()\n",
    "y_deception_test_rapport = df_deception_test['Answer.3rapport.yes_label'].tolist()\n",
    "\n",
    "y_no_deception_train_deception = df_no_deception_train['Input.deception_quadrant'].tolist()\n",
    "y_no_deception_test_deception = df_no_deception_test['Input.deception_quadrant'].tolist()"
   ]
  },
  {
   "cell_type": "code",
   "execution_count": 61,
   "metadata": {},
   "outputs": [],
   "source": [
    "X_deception_train_col = df_deception_train['Input.full_text']\n",
    "X_deception_test_col = df_deception_test['Input.full_text']\n",
    "\n",
    "X_no_deception_train_col = df_no_deception_train['Input.full_text']\n",
    "X_no_deception_test_col = df_no_deception_test['Input.full_text']"
   ]
  },
  {
   "cell_type": "code",
   "execution_count": 46,
   "metadata": {},
   "outputs": [
    {
     "name": "stderr",
     "output_type": "stream",
     "text": [
      "C:\\Users\\adria\\.conda\\envs\\tfgpu\\lib\\site-packages\\sklearn\\utils\\validation.py:72: DataConversionWarning: A column-vector y was passed when a 1d array was expected. Please change the shape of y to (n_samples, ), for example using ravel().\n",
      "  return f(**kwargs)\n"
     ]
    }
   ],
   "source": [
    "le = LabelEncoder()\n",
    "\n",
    "y_deception_train_rapport = le.fit_transform(y_deception_train_rapport)\n",
    "y_deception_train_rapport = y_deception_train_rapport.reshape(-1,1)\n",
    "\n",
    "y_deception_test_rapport = le.fit_transform(y_deception_test_rapport)\n",
    "y_deception_test_rapport = y_deception_test_rapport.reshape(-1,1)\n",
    "\n",
    "y_deception_train_deception = le.fit_transform(y_deception_train_deception)\n",
    "y_deception_train_deception = y_deception_train_deception.reshape(-1,1)\n",
    "\n",
    "y_deception_test_deception = le.fit_transform(y_deception_test_deception)\n",
    "y_deception_test_deception = y_deception_test_deception.reshape(-1,1)\n",
    "\n",
    "y_no_deception_train_rapport = le.fit_transform(y_no_deception_train_rapport)\n",
    "y_no_deception_train_rapport = y_no_deception_train_rapport.reshape(-1,1)\n",
    "\n",
    "y_deception_test_rapport = le.fit_transform(y_deception_test_rapport)\n",
    "y_deception_test_rapport = y_deception_test_rapport.reshape(-1,1)\n",
    "\n",
    "y_no_deception_train_deception = le.fit_transform(y_no_deception_train_deception)\n",
    "y_no_deception_train_deception = y_no_deception_train_deception.reshape(-1,1)\n",
    "\n",
    "y_no_deception_test_deception = le.fit_transform(y_no_deception_test_deception)\n",
    "y_no_deception_test_deception = y_no_deception_test_deception.reshape(-1,1)"
   ]
  },
  {
   "cell_type": "code",
   "execution_count": 62,
   "metadata": {},
   "outputs": [],
   "source": [
    "max_words = 1000\n",
    "max_len = 220\n",
    "\n",
    "tok = Tokenizer(num_words=max_words)\n",
    "\n",
    "tok.fit_on_texts(X_deception_train_col)\n",
    "X_deception_train_sequences = tok.texts_to_sequences(X_deception_train_col)\n",
    "X_deception_train = pad_sequences(X_deception_train_sequences, maxlen=max_len)\n",
    "\n",
    "X_deception_test_sequences = tok.texts_to_sequences(X_deception_test_col)\n",
    "X_deception_test = pad_sequences(X_deception_test_sequences, maxlen=max_len)\n",
    "\n",
    "tok2 = Tokenizer(num_words=max_words)\n",
    "tok2.fit_on_texts(X_no_deception_train_col)\n",
    "X_no_deception_train_sequences = tok2.texts_to_sequences(X_no_deception_train_col)\n",
    "X_no_deception_train = pad_sequences(X_no_deception_train_sequences, maxlen=max_len)\n",
    "\n",
    "X_no_deception_test_sequences = tok2.texts_to_sequences(X_no_deception_test_col)\n",
    "X_no_deception_test = pad_sequences(X_no_deception_test_sequences, maxlen=max_len)"
   ]
  },
  {
   "cell_type": "code",
   "execution_count": 58,
   "metadata": {},
   "outputs": [],
   "source": [
    "model_name = 'cnn'\n",
    "models_nn.MODEL_NAME = model_name"
   ]
  },
  {
   "cell_type": "code",
   "execution_count": 55,
   "metadata": {},
   "outputs": [
    {
     "data": {
      "text/plain": [
       "((8646, 220), (8646, 1), (2162, 220), (2162, 1))"
      ]
     },
     "execution_count": 55,
     "metadata": {},
     "output_type": "execute_result"
    }
   ],
   "source": [
    "X_deception_train.shape, y_deception_train_deception.shape, X_deception_test.shape, y_deception_test_deception.shape"
   ]
  },
  {
   "cell_type": "code",
   "execution_count": 63,
   "metadata": {},
   "outputs": [
    {
     "name": "stdout",
     "output_type": "stream",
     "text": [
      "Epoch 1/15\n",
      "68/68 [==============================] - 1s 11ms/step - loss: 0.0811 - accuracy: 0.9607 - f1_m: 0.0000e+00 - recall_m: 0.0000e+00 - precision_m: 0.0000e+00 - val_loss: 3.4301e-06 - val_accuracy: 1.0000 - val_f1_m: 0.0000e+00 - val_recall_m: 0.0000e+00 - val_precision_m: 0.0000e+00\n",
      "Epoch 2/15\n",
      "68/68 [==============================] - 1s 8ms/step - loss: 1.7687e-06 - accuracy: 1.0000 - f1_m: 0.0000e+00 - recall_m: 0.0000e+00 - precision_m: 0.0000e+00 - val_loss: 6.3690e-08 - val_accuracy: 1.0000 - val_f1_m: 0.0000e+00 - val_recall_m: 0.0000e+00 - val_precision_m: 0.0000e+00\n"
     ]
    },
    {
     "data": {
      "text/plain": [
       "<tensorflow.python.keras.callbacks.History at 0x27bb0b587c0>"
      ]
     },
     "execution_count": 63,
     "metadata": {},
     "output_type": "execute_result"
    }
   ],
   "source": [
    "deception_model = models_nn.create_nn_model()\n",
    "deception_model.compile(loss='binary_crossentropy',optimizer=RMSprop(),metrics=['accuracy', models_nn.f1_m, \n",
    "                                                                              models_nn.recall_m, models_nn.precision_m])\n",
    "deception_model.fit(X_deception_train, y_deception_train_deception,\n",
    "                  batch_size=128,\n",
    "                  epochs=15,\n",
    "                  validation_data=(X_deception_test, y_deception_test_deception), \n",
    "                  callbacks=[models_nn.early_stop])"
   ]
  },
  {
   "cell_type": "code",
   "execution_count": 64,
   "metadata": {},
   "outputs": [
    {
     "name": "stdout",
     "output_type": "stream",
     "text": [
      "Epoch 1/15\n",
      "4/4 [==============================] - 1s 270ms/step - loss: 8.0279e-08 - accuracy: 1.0000 - f1_m: 0.0000e+00 - recall_m: 0.0000e+00 - precision_m: 0.0000e+00 - val_loss: 5.0784e-08 - val_accuracy: 1.0000 - val_f1_m: 0.0000e+00 - val_recall_m: 0.0000e+00 - val_precision_m: 0.0000e+00\n",
      "Epoch 2/15\n",
      "4/4 [==============================] - 0s 15ms/step - loss: 6.4402e-08 - accuracy: 1.0000 - f1_m: 0.0000e+00 - recall_m: 0.0000e+00 - precision_m: 0.0000e+00 - val_loss: 4.1809e-08 - val_accuracy: 1.0000 - val_f1_m: 0.0000e+00 - val_recall_m: 0.0000e+00 - val_precision_m: 0.0000e+00\n"
     ]
    },
    {
     "data": {
      "text/plain": [
       "<tensorflow.python.keras.callbacks.History at 0x281b0794f10>"
      ]
     },
     "execution_count": 64,
     "metadata": {},
     "output_type": "execute_result"
    }
   ],
   "source": [
    "deception_model.fit(X_no_deception_train, y_no_deception_train_deception,\n",
    "                  batch_size=128,\n",
    "                  epochs=15,\n",
    "                  validation_data=(X_no_deception_test, y_no_deception_test_deception), \n",
    "                  callbacks=[models_nn.early_stop])"
   ]
  },
  {
   "cell_type": "code",
   "execution_count": 68,
   "metadata": {},
   "outputs": [
    {
     "name": "stdout",
     "output_type": "stream",
     "text": [
      "              precision  recall  f1-score  support\n",
      "0                   1.0     1.0       1.0    112.0\n",
      "accuracy            1.0     1.0       1.0      1.0\n",
      "macro avg           1.0     1.0       1.0    112.0\n",
      "weighted avg        1.0     1.0       1.0    112.0\n"
     ]
    }
   ],
   "source": [
    "deception_pred = deception_model.predict(X_no_deception_train)\n",
    "deception_pred_test = deception_model.predict(X_no_deception_test)\n",
    "\n",
    "deception_pred_test_round = deception_pred_test.round()\n",
    "precision_recall_fscore_support(y_no_deception_test_deception, deception_pred_test_round, average='macro')\n",
    "\n",
    "#y_test = y_no_deception_test_deception.numpy()\n",
    "#y_pred = deception_pred_test_round.numpy()\n",
    "\n",
    "report = classification_report(y_no_deception_test_deception, deception_pred_test_round, output_dict=True)\n",
    "print(pd.DataFrame(report).transpose())"
   ]
  },
  {
   "cell_type": "code",
   "execution_count": 67,
   "metadata": {},
   "outputs": [
    {
     "data": {
      "text/plain": [
       "array([[0],\n",
       "       [0],\n",
       "       [0],\n",
       "       [0],\n",
       "       [0],\n",
       "       [0],\n",
       "       [0],\n",
       "       [0],\n",
       "       [0],\n",
       "       [0],\n",
       "       [0],\n",
       "       [0],\n",
       "       [0],\n",
       "       [0],\n",
       "       [0],\n",
       "       [0],\n",
       "       [0],\n",
       "       [0],\n",
       "       [0],\n",
       "       [0],\n",
       "       [0],\n",
       "       [0],\n",
       "       [0],\n",
       "       [0],\n",
       "       [0],\n",
       "       [0],\n",
       "       [0],\n",
       "       [0],\n",
       "       [0],\n",
       "       [0],\n",
       "       [0],\n",
       "       [0],\n",
       "       [0],\n",
       "       [0],\n",
       "       [0],\n",
       "       [0],\n",
       "       [0],\n",
       "       [0],\n",
       "       [0],\n",
       "       [0],\n",
       "       [0],\n",
       "       [0],\n",
       "       [0],\n",
       "       [0],\n",
       "       [0],\n",
       "       [0],\n",
       "       [0],\n",
       "       [0],\n",
       "       [0],\n",
       "       [0],\n",
       "       [0],\n",
       "       [0],\n",
       "       [0],\n",
       "       [0],\n",
       "       [0],\n",
       "       [0],\n",
       "       [0],\n",
       "       [0],\n",
       "       [0],\n",
       "       [0],\n",
       "       [0],\n",
       "       [0],\n",
       "       [0],\n",
       "       [0],\n",
       "       [0],\n",
       "       [0],\n",
       "       [0],\n",
       "       [0],\n",
       "       [0],\n",
       "       [0],\n",
       "       [0],\n",
       "       [0],\n",
       "       [0],\n",
       "       [0],\n",
       "       [0],\n",
       "       [0],\n",
       "       [0],\n",
       "       [0],\n",
       "       [0],\n",
       "       [0],\n",
       "       [0],\n",
       "       [0],\n",
       "       [0],\n",
       "       [0],\n",
       "       [0],\n",
       "       [0],\n",
       "       [0],\n",
       "       [0],\n",
       "       [0],\n",
       "       [0],\n",
       "       [0],\n",
       "       [0],\n",
       "       [0],\n",
       "       [0],\n",
       "       [0],\n",
       "       [0],\n",
       "       [0],\n",
       "       [0],\n",
       "       [0],\n",
       "       [0],\n",
       "       [0],\n",
       "       [0],\n",
       "       [0],\n",
       "       [0],\n",
       "       [0],\n",
       "       [0],\n",
       "       [0],\n",
       "       [0],\n",
       "       [0],\n",
       "       [0],\n",
       "       [0],\n",
       "       [0]], dtype=int64)"
      ]
     },
     "execution_count": 67,
     "metadata": {},
     "output_type": "execute_result"
    }
   ],
   "source": [
    "y_no_deception_test_deception"
   ]
  }
 ],
 "metadata": {
  "kernelspec": {
   "display_name": "tfgpu",
   "language": "python",
   "name": "tfgpu"
  },
  "language_info": {
   "codemirror_mode": {
    "name": "ipython",
    "version": 3
   },
   "file_extension": ".py",
   "mimetype": "text/x-python",
   "name": "python",
   "nbconvert_exporter": "python",
   "pygments_lexer": "ipython3",
   "version": "3.8.5"
  }
 },
 "nbformat": 4,
 "nbformat_minor": 4
}
