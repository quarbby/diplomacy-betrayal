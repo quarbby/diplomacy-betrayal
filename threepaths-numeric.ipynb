{
 "cells": [
  {
   "cell_type": "code",
   "execution_count": 1,
   "metadata": {},
   "outputs": [],
   "source": [
    "import pandas as pd\n",
    "import numpy as np\n",
    "from tensorflow.keras.utils import to_categorical\n",
    "from tensorflow.keras.layers import Input, InputLayer, Dropout, Dense, Flatten, Embedding\n",
    "from tensorflow.keras import Sequential\n",
    "from tensorflow.keras.models import Model\n",
    "from tensorflow.keras.optimizers import Adam\n",
    "from tensorflow.keras.callbacks import EarlyStopping\n",
    "from tensorflow.keras.initializers import TruncatedNormal\n",
    "from tensorflow.keras.losses import CategoricalCrossentropy\n",
    "from tensorflow.keras.metrics import CategoricalAccuracy\n",
    "import tensorflow as tf\n",
    "\n",
    "from tensorflow.keras.layers import concatenate\n",
    "from sklearn.model_selection import train_test_split"
   ]
  },
  {
   "cell_type": "code",
   "execution_count": 2,
   "metadata": {},
   "outputs": [],
   "source": [
    "df = pd.read_csv('data/affcon_final_linguistics.csv')"
   ]
  },
  {
   "cell_type": "code",
   "execution_count": 5,
   "metadata": {},
   "outputs": [],
   "source": [
    "# Categorical codes for deception quadrant\n",
    "\n",
    "train, test = train_test_split(df, test_size=0.2)\n",
    "\n",
    "y_train_deception = to_categorical(train['Input.deception_quadrant_cat'].tolist())\n",
    "y_train_rapport = to_categorical(train['affcon_rapport'].tolist())\n",
    "y_train_share_information = to_categorical(train['affcon_shareinformation'].tolist())\n",
    "y_train_reasoning = to_categorical(train['affcon_reasoning'].tolist())\n",
    "y_train_gamemove = to_categorical(train['affcon_gamemove'].tolist())\n",
    "\n",
    "y_test_deception = to_categorical(test['Input.deception_quadrant_cat'].tolist())\n",
    "y_test_rapport = to_categorical(test['affcon_rapport'].tolist())\n",
    "y_test_share_information = to_categorical(test['affcon_shareinformation'].tolist())\n",
    "y_test_reasoning = to_categorical(test['affcon_reasoning'].tolist())\n",
    "y_test_gamemove = to_categorical(test['affcon_gamemove'].tolist())\n",
    "\n",
    "X_train = train.drop(columns=['affcon_gamemove', 'affcon_reasoning',\n",
    "                              'affcon_rapport', 'affcon_shareinformation', 'Input.deception_quadrant',\n",
    "                              'Input.deception_quadrant_cat'])\n",
    "\n",
    "X_test = test.drop(columns=['affcon_gamemove', 'affcon_reasoning',\n",
    "                              'affcon_rapport', 'affcon_shareinformation', 'Input.deception_quadrant',\n",
    "                              'Input.deception_quadrant_cat'])\n",
    "\n",
    "# X_train = train.drop(columns=['affcon_rapport', 'Input.full_text',\n",
    "#                                     'msg_id', 'Input.convo_id', 'Input.train_test_val',\n",
    "#                                      'Input.msg_id', 'Input.timestamp', 'Input.full_text',\n",
    "#                                      'affcon_gamemove', 'affcon_reasoning', 'affcon_rapport',\n",
    "#                                      'affcon_shareinformation', 'Input.speaker', 'Input.reply_to',\n",
    "#                                      'Input.speaker_intention', 'Input.reciever_perception',\n",
    "#                                      'Input.reciever', 'Input.absolute_message_index', \n",
    "#                                      'Input.relative_message_index', 'Input.year', 'Input.game_score_speaker',\n",
    "#                                      'Input.game_score_receiver', 'Input.game_score_delta',\n",
    "#                                      'Input.deception_quadrant', 'Input.num_words', \n",
    "#                                      'Input.num_characters', 'Input.sno', 'Input.sno1', 'Input.deception_quadrant_codes'\n",
    "#                                     ])\n",
    "\n",
    "# X_test = test.drop(columns=['affcon_rapport', 'Input.full_text',\n",
    "#                                     'msg_id', 'Input.convo_id', 'Input.train_test_val',\n",
    "#                                      'Input.msg_id', 'Input.timestamp', 'Input.full_text',\n",
    "#                                      'affcon_gamemove', 'affcon_reasoning', 'affcon_rapport',\n",
    "#                                      'affcon_shareinformation', 'Input.speaker', 'Input.reply_to',\n",
    "#                                      'Input.speaker_intention', 'Input.reciever_perception',\n",
    "#                                      'Input.reciever', 'Input.absolute_message_index', \n",
    "#                                      'Input.relative_message_index', 'Input.year', 'Input.game_score_speaker',\n",
    "#                                      'Input.game_score_receiver', 'Input.game_score_delta',\n",
    "#                                      'Input.deception_quadrant', 'Input.num_words', \n",
    "#                                      'Input.num_characters', 'Input.sno', 'Input.sno1', 'Input.deception_quadrant_codes'\n",
    "#                                     ])"
   ]
  },
  {
   "cell_type": "code",
   "execution_count": 6,
   "metadata": {},
   "outputs": [
    {
     "name": "stderr",
     "output_type": "stream",
     "text": [
      "Using TensorFlow backend.\n"
     ]
    }
   ],
   "source": [
    "from keras import backend as K\n",
    "\n",
    "def recall_m(y_true, y_pred):\n",
    "    true_positives = K.sum(K.round(K.clip(y_true * y_pred, 0, 1)))\n",
    "    possible_positives = K.sum(K.round(K.clip(y_true, 0, 1)))\n",
    "    recall = true_positives / (possible_positives + K.epsilon())\n",
    "    return recall\n",
    "\n",
    "def precision_m(y_true, y_pred):\n",
    "    true_positives = K.sum(K.round(K.clip(y_true * y_pred, 0, 1)))\n",
    "    predicted_positives = K.sum(K.round(K.clip(y_pred, 0, 1)))\n",
    "    precision = true_positives / (predicted_positives + K.epsilon())\n",
    "    return precision\n",
    "\n",
    "def f1_m(y_true, y_pred):\n",
    "    precision = precision_m(y_true, y_pred)\n",
    "    recall = recall_m(y_true, y_pred)\n",
    "    return 2*((precision*recall)/(precision+recall+K.epsilon()))\n",
    "\n",
    "callback = tf.keras.callbacks.EarlyStopping(\n",
    "    monitor='val_loss', min_delta=0, patience=0, verbose=0, mode='auto',\n",
    "    baseline=None, restore_best_weights=False\n",
    ")"
   ]
  },
  {
   "cell_type": "code",
   "execution_count": 22,
   "metadata": {},
   "outputs": [
    {
     "name": "stdout",
     "output_type": "stream",
     "text": [
      "Epoch 1/32\n",
      "40/40 [==============================] - 0s 10ms/step - loss: 7.7125 - acc: 0.7105 - f1_m: 0.0000e+00 - precision_m: 0.0000e+00 - recall_m: 0.0000e+00 - val_loss: 7.7125 - val_acc: 0.7460 - val_f1_m: 0.0000e+00 - val_precision_m: 0.0000e+00 - val_recall_m: 0.0000e+00\n",
      "Epoch 2/32\n",
      "40/40 [==============================] - 0s 4ms/step - loss: 7.7125 - acc: 0.7220 - f1_m: 0.0000e+00 - precision_m: 0.0000e+00 - recall_m: 0.0000e+00 - val_loss: 7.7125 - val_acc: 0.7460 - val_f1_m: 0.0000e+00 - val_precision_m: 0.0000e+00 - val_recall_m: 0.0000e+00\n",
      "0.0 0.0 0.0\n"
     ]
    }
   ],
   "source": [
    "# Game move model\n",
    "inputB = Input(shape=(X_train.shape[1],))\n",
    "c = Dense(2, activation='relu')(inputB)\n",
    "c = Dense(4, activation='relu')(c)\n",
    "c = Dense(2, activation='linear')(c)\n",
    "gamemove_model = Model(inputs=inputB, outputs=c)\n",
    "\n",
    "gamemove_model.compile(loss='binary_crossentropy', optimizer='adam', \n",
    "                      metrics=['acc',f1_m,precision_m, recall_m])\n",
    "history = gamemove_model.fit(x=X_train, y=y_train_gamemove, epochs=32, \n",
    "                    batch_size=64, \n",
    "                    validation_split=0.2, callbacks=[callback])\n",
    "loss, accuracy, f1_score, precision, recall = gamemove_model.evaluate(X_test, y_test_gamemove, verbose=0)\n",
    "print(precision, recall, f1_score)"
   ]
  },
  {
   "cell_type": "code",
   "execution_count": 23,
   "metadata": {},
   "outputs": [
    {
     "name": "stdout",
     "output_type": "stream",
     "text": [
      "Epoch 1/32\n",
      "40/40 [==============================] - 0s 9ms/step - loss: 7.7627 - acc: 0.4539 - f1_m: 0.0292 - precision_m: 0.2606 - recall_m: 0.0156 - val_loss: 7.7910 - val_acc: 0.4889 - val_f1_m: 0.0064 - val_precision_m: 0.0700 - val_recall_m: 0.0034\n",
      "Epoch 2/32\n",
      "40/40 [==============================] - 0s 4ms/step - loss: 7.7232 - acc: 0.4925 - f1_m: 0.0187 - precision_m: 0.2979 - recall_m: 0.0098 - val_loss: 7.7758 - val_acc: 0.5143 - val_f1_m: 0.0036 - val_precision_m: 0.1000 - val_recall_m: 0.0019\n",
      "Epoch 3/32\n",
      "40/40 [==============================] - 0s 4ms/step - loss: 7.7054 - acc: 0.5481 - f1_m: 0.0143 - precision_m: 0.2667 - recall_m: 0.0074 - val_loss: 7.7750 - val_acc: 0.5460 - val_f1_m: 0.0036 - val_precision_m: 0.1000 - val_recall_m: 0.0019\n",
      "Epoch 4/32\n",
      "40/40 [==============================] - 0s 4ms/step - loss: 7.7020 - acc: 0.5659 - f1_m: 0.0129 - precision_m: 0.2808 - recall_m: 0.0066 - val_loss: 7.7631 - val_acc: 0.5460 - val_f1_m: 0.0036 - val_precision_m: 0.1000 - val_recall_m: 0.0019\n",
      "Epoch 5/32\n",
      "40/40 [==============================] - 0s 4ms/step - loss: 7.6965 - acc: 0.5639 - f1_m: 0.0120 - precision_m: 0.2212 - recall_m: 0.0063 - val_loss: 7.7630 - val_acc: 0.5492 - val_f1_m: 0.0036 - val_precision_m: 0.1000 - val_recall_m: 0.0019\n",
      "Epoch 6/32\n",
      "40/40 [==============================] - 0s 4ms/step - loss: 7.6980 - acc: 0.5588 - f1_m: 0.0053 - precision_m: 0.1375 - recall_m: 0.0027 - val_loss: 7.7515 - val_acc: 0.5619 - val_f1_m: 0.0000e+00 - val_precision_m: 0.0000e+00 - val_recall_m: 0.0000e+00\n",
      "Epoch 7/32\n",
      "40/40 [==============================] - 0s 4ms/step - loss: 7.6890 - acc: 0.5945 - f1_m: 0.0069 - precision_m: 0.2000 - recall_m: 0.0035 - val_loss: 7.7627 - val_acc: 0.5778 - val_f1_m: 0.0000e+00 - val_precision_m: 0.0000e+00 - val_recall_m: 0.0000e+00\n",
      "0.045454539358615875 0.0015782827977091074 0.003042906289920211\n"
     ]
    }
   ],
   "source": [
    "# Reasoning model\n",
    "inputB = Input(shape=(X_train.shape[1],))\n",
    "c = Dense(2, activation='relu')(inputB)\n",
    "c = Dense(4, activation='relu')(c)\n",
    "c = Dense(2, activation='linear')(c)\n",
    "reasoning_model = Model(inputs=inputB, outputs=c)\n",
    "\n",
    "reasoning_model.compile(loss='binary_crossentropy', optimizer='adam', \n",
    "                      metrics=['acc',f1_m,precision_m, recall_m])\n",
    "history = reasoning_model.fit(x=X_train, y=y_train_reasoning, epochs=32, \n",
    "                    batch_size=64, \n",
    "                    validation_split=0.2, callbacks=[callback])\n",
    "loss, accuracy, f1_score, precision, recall = reasoning_model.evaluate(X_test, y_test_reasoning, verbose=0)\n",
    "print(precision, recall, f1_score)"
   ]
  },
  {
   "cell_type": "code",
   "execution_count": 24,
   "metadata": {},
   "outputs": [
    {
     "name": "stdout",
     "output_type": "stream",
     "text": [
      "Epoch 1/32\n",
      "38/40 [===========================>..] - ETA: 0s - loss: 7.8534 - acc: 0.4926 - f1_m: 0.2381 - precision_m: 0.4433 - recall_m: 0.1653WARNING:tensorflow:Callbacks method `on_test_batch_end` is slow compared to the batch time (batch time: 0.0010s vs `on_test_batch_end` time: 0.0020s). Check your callbacks.\n",
      "40/40 [==============================] - 0s 10ms/step - loss: 7.8514 - acc: 0.4932 - f1_m: 0.2336 - precision_m: 0.4394 - recall_m: 0.1617 - val_loss: 7.7747 - val_acc: 0.4921 - val_f1_m: 0.2121 - val_precision_m: 0.4563 - val_recall_m: 0.1388\n",
      "Epoch 2/32\n",
      "40/40 [==============================] - 0s 4ms/step - loss: 7.7271 - acc: 0.4913 - f1_m: 0.1689 - precision_m: 0.4506 - recall_m: 0.1051 - val_loss: 7.7356 - val_acc: 0.4968 - val_f1_m: 0.1930 - val_precision_m: 0.4538 - val_recall_m: 0.1229\n",
      "Epoch 3/32\n",
      "40/40 [==============================] - 0s 4ms/step - loss: 7.6353 - acc: 0.5064 - f1_m: 0.2402 - precision_m: 0.4619 - recall_m: 0.1667 - val_loss: 6.5315 - val_acc: 0.4889 - val_f1_m: 0.3329 - val_precision_m: 0.4974 - val_recall_m: 0.2512\n",
      "Epoch 4/32\n",
      "40/40 [==============================] - 0s 4ms/step - loss: 6.3627 - acc: 0.4754 - f1_m: 0.2505 - precision_m: 0.4595 - recall_m: 0.1750 - val_loss: 6.1609 - val_acc: 0.4889 - val_f1_m: 0.2730 - val_precision_m: 0.4900 - val_recall_m: 0.1900\n",
      "Epoch 5/32\n",
      "40/40 [==============================] - 0s 4ms/step - loss: 6.1350 - acc: 0.4754 - f1_m: 0.2295 - precision_m: 0.4629 - recall_m: 0.1542 - val_loss: 5.9946 - val_acc: 0.4889 - val_f1_m: 0.2424 - val_precision_m: 0.4714 - val_recall_m: 0.1641\n",
      "Epoch 6/32\n",
      "40/40 [==============================] - 0s 4ms/step - loss: 5.5996 - acc: 0.4754 - f1_m: 0.1471 - precision_m: 0.4566 - recall_m: 0.0898 - val_loss: 5.2160 - val_acc: 0.4889 - val_f1_m: 0.0906 - val_precision_m: 0.4950 - val_recall_m: 0.0506\n",
      "Epoch 7/32\n",
      "40/40 [==============================] - 0s 4ms/step - loss: 5.2440 - acc: 0.4754 - f1_m: 0.0713 - precision_m: 0.4467 - recall_m: 0.0395 - val_loss: 5.1450 - val_acc: 0.4889 - val_f1_m: 0.0828 - val_precision_m: 0.5036 - val_recall_m: 0.0459\n",
      "Epoch 8/32\n",
      "40/40 [==============================] - 0s 4ms/step - loss: 5.2131 - acc: 0.4754 - f1_m: 0.0766 - precision_m: 0.4396 - recall_m: 0.0425 - val_loss: 5.1382 - val_acc: 0.4889 - val_f1_m: 0.0802 - val_precision_m: 0.5086 - val_recall_m: 0.0443\n",
      "Epoch 9/32\n",
      "40/40 [==============================] - 0s 4ms/step - loss: 5.1965 - acc: 0.4754 - f1_m: 0.0815 - precision_m: 0.4416 - recall_m: 0.0452 - val_loss: 5.1372 - val_acc: 0.4889 - val_f1_m: 0.0955 - val_precision_m: 0.5049 - val_recall_m: 0.0537\n",
      "Epoch 10/32\n",
      "40/40 [==============================] - 0s 4ms/step - loss: 5.1625 - acc: 0.4754 - f1_m: 0.0668 - precision_m: 0.4648 - recall_m: 0.0367 - val_loss: 5.0031 - val_acc: 0.4889 - val_f1_m: 0.0504 - val_precision_m: 0.4793 - val_recall_m: 0.0271\n",
      "Epoch 11/32\n",
      "40/40 [==============================] - 0s 4ms/step - loss: 4.9766 - acc: 0.4754 - f1_m: 0.0248 - precision_m: 0.4392 - recall_m: 0.0129 - val_loss: 4.9220 - val_acc: 0.4889 - val_f1_m: 0.0126 - val_precision_m: 0.2167 - val_recall_m: 0.0065\n",
      "Epoch 12/32\n",
      "40/40 [==============================] - 0s 4ms/step - loss: 4.9235 - acc: 0.4754 - f1_m: 0.0157 - precision_m: 0.2396 - recall_m: 0.0082 - val_loss: 4.8633 - val_acc: 0.4889 - val_f1_m: 0.0155 - val_precision_m: 0.2750 - val_recall_m: 0.0081\n",
      "Epoch 13/32\n",
      "40/40 [==============================] - 0s 4ms/step - loss: 4.8832 - acc: 0.4754 - f1_m: 0.0186 - precision_m: 0.2542 - recall_m: 0.0098 - val_loss: 4.8319 - val_acc: 0.4889 - val_f1_m: 0.0186 - val_precision_m: 0.3250 - val_recall_m: 0.0097\n",
      "Epoch 14/32\n",
      "40/40 [==============================] - 0s 4ms/step - loss: 4.8277 - acc: 0.4754 - f1_m: 0.0238 - precision_m: 0.3319 - recall_m: 0.0125 - val_loss: 4.7497 - val_acc: 0.4889 - val_f1_m: 0.0246 - val_precision_m: 0.4500 - val_recall_m: 0.0128\n",
      "Epoch 15/32\n",
      "40/40 [==============================] - 0s 4ms/step - loss: 4.7853 - acc: 0.4754 - f1_m: 0.0291 - precision_m: 0.3875 - recall_m: 0.0152 - val_loss: 4.7347 - val_acc: 0.4889 - val_f1_m: 0.0216 - val_precision_m: 0.4083 - val_recall_m: 0.0112\n",
      "Epoch 16/32\n",
      "40/40 [==============================] - 0s 4ms/step - loss: 4.7137 - acc: 0.4754 - f1_m: 0.0255 - precision_m: 0.3654 - recall_m: 0.0133 - val_loss: 4.6683 - val_acc: 0.4889 - val_f1_m: 0.0185 - val_precision_m: 0.3083 - val_recall_m: 0.0097\n",
      "Epoch 17/32\n",
      "40/40 [==============================] - 0s 4ms/step - loss: 4.6546 - acc: 0.4754 - f1_m: 0.0233 - precision_m: 0.3688 - recall_m: 0.0121 - val_loss: 4.5981 - val_acc: 0.4889 - val_f1_m: 0.0244 - val_precision_m: 0.3583 - val_recall_m: 0.0128\n",
      "Epoch 18/32\n",
      "40/40 [==============================] - 0s 4ms/step - loss: 4.6231 - acc: 0.4754 - f1_m: 0.0233 - precision_m: 0.3687 - recall_m: 0.0121 - val_loss: 4.5668 - val_acc: 0.4889 - val_f1_m: 0.0244 - val_precision_m: 0.3583 - val_recall_m: 0.0128\n",
      "Epoch 19/32\n",
      "40/40 [==============================] - 0s 4ms/step - loss: 4.5902 - acc: 0.4754 - f1_m: 0.0174 - precision_m: 0.3667 - recall_m: 0.0090 - val_loss: 4.4860 - val_acc: 0.4889 - val_f1_m: 0.0186 - val_precision_m: 0.3167 - val_recall_m: 0.0097\n",
      "Epoch 20/32\n",
      "40/40 [==============================] - 0s 4ms/step - loss: 4.5304 - acc: 0.4754 - f1_m: 0.0137 - precision_m: 0.3187 - recall_m: 0.0070 - val_loss: 4.4240 - val_acc: 0.4889 - val_f1_m: 0.0097 - val_precision_m: 0.2000 - val_recall_m: 0.0050\n",
      "Epoch 21/32\n",
      "40/40 [==============================] - 0s 4ms/step - loss: 4.4940 - acc: 0.4754 - f1_m: 0.0054 - precision_m: 0.1500 - recall_m: 0.0027 - val_loss: 4.3640 - val_acc: 0.4889 - val_f1_m: 0.0000e+00 - val_precision_m: 0.0000e+00 - val_recall_m: 0.0000e+00\n",
      "Epoch 22/32\n",
      "40/40 [==============================] - 0s 4ms/step - loss: 4.4582 - acc: 0.4754 - f1_m: 7.6923e-04 - precision_m: 0.0250 - recall_m: 3.9063e-04 - val_loss: 4.3416 - val_acc: 0.4889 - val_f1_m: 0.0000e+00 - val_precision_m: 0.0000e+00 - val_recall_m: 0.0000e+00\n",
      "Epoch 23/32\n",
      "40/40 [==============================] - 0s 4ms/step - loss: 4.4466 - acc: 0.4754 - f1_m: 0.0000e+00 - precision_m: 0.0000e+00 - recall_m: 0.0000e+00 - val_loss: 4.3337 - val_acc: 0.4889 - val_f1_m: 0.0000e+00 - val_precision_m: 0.0000e+00 - val_recall_m: 0.0000e+00\n",
      "Epoch 24/32\n",
      "40/40 [==============================] - 0s 4ms/step - loss: 4.4377 - acc: 0.4754 - f1_m: 0.0000e+00 - precision_m: 0.0000e+00 - recall_m: 0.0000e+00 - val_loss: 4.3264 - val_acc: 0.4889 - val_f1_m: 0.0000e+00 - val_precision_m: 0.0000e+00 - val_recall_m: 0.0000e+00\n",
      "Epoch 25/32\n",
      "40/40 [==============================] - 0s 4ms/step - loss: 4.4336 - acc: 0.4754 - f1_m: 0.0000e+00 - precision_m: 0.0000e+00 - recall_m: 0.0000e+00 - val_loss: 4.3235 - val_acc: 0.4889 - val_f1_m: 0.0000e+00 - val_precision_m: 0.0000e+00 - val_recall_m: 0.0000e+00\n",
      "Epoch 26/32\n",
      "40/40 [==============================] - 0s 4ms/step - loss: 4.4307 - acc: 0.4754 - f1_m: 0.0000e+00 - precision_m: 0.0000e+00 - recall_m: 0.0000e+00 - val_loss: 4.3210 - val_acc: 0.4889 - val_f1_m: 0.0000e+00 - val_precision_m: 0.0000e+00 - val_recall_m: 0.0000e+00\n",
      "Epoch 27/32\n",
      "40/40 [==============================] - 0s 4ms/step - loss: 4.4287 - acc: 0.4754 - f1_m: 0.0000e+00 - precision_m: 0.0000e+00 - recall_m: 0.0000e+00 - val_loss: 4.3193 - val_acc: 0.4889 - val_f1_m: 0.0000e+00 - val_precision_m: 0.0000e+00 - val_recall_m: 0.0000e+00\n",
      "Epoch 28/32\n",
      "40/40 [==============================] - 0s 4ms/step - loss: 4.4269 - acc: 0.4754 - f1_m: 0.0000e+00 - precision_m: 0.0000e+00 - recall_m: 0.0000e+00 - val_loss: 4.3177 - val_acc: 0.4889 - val_f1_m: 0.0000e+00 - val_precision_m: 0.0000e+00 - val_recall_m: 0.0000e+00\n",
      "Epoch 29/32\n",
      "40/40 [==============================] - 0s 4ms/step - loss: 4.4257 - acc: 0.4754 - f1_m: 0.0000e+00 - precision_m: 0.0000e+00 - recall_m: 0.0000e+00 - val_loss: 4.3163 - val_acc: 0.4889 - val_f1_m: 0.0000e+00 - val_precision_m: 0.0000e+00 - val_recall_m: 0.0000e+00\n",
      "Epoch 30/32\n",
      "40/40 [==============================] - 0s 4ms/step - loss: 4.4248 - acc: 0.4754 - f1_m: 0.0000e+00 - precision_m: 0.0000e+00 - recall_m: 0.0000e+00 - val_loss: 4.3163 - val_acc: 0.4889 - val_f1_m: 0.0000e+00 - val_precision_m: 0.0000e+00 - val_recall_m: 0.0000e+00\n",
      "0.0 0.0 0.0\n"
     ]
    }
   ],
   "source": [
    "# Share Information model\n",
    "inputB = Input(shape=(X_train.shape[1],))\n",
    "c = Dense(2, activation='relu')(inputB)\n",
    "c = Dense(4, activation='relu')(c)\n",
    "c = Dense(2, activation='linear')(c)\n",
    "shareinfo_model = Model(inputs=inputB, outputs=c)\n",
    "\n",
    "shareinfo_model.compile(loss='binary_crossentropy', optimizer='adam', \n",
    "                      metrics=['acc',f1_m,precision_m, recall_m])\n",
    "history = shareinfo_model.fit(x=X_train, y=y_train_share_information, epochs=32, \n",
    "                    batch_size=64, \n",
    "                    validation_split=0.2, callbacks=[callback])\n",
    "loss, accuracy, f1_score, precision, recall = shareinfo_model.evaluate(X_test, y_test_share_information, verbose=0)\n",
    "print(precision, recall, f1_score)"
   ]
  },
  {
   "cell_type": "code",
   "execution_count": 27,
   "metadata": {},
   "outputs": [
    {
     "name": "stdout",
     "output_type": "stream",
     "text": [
      "Epoch 1/32\n",
      "40/40 [==============================] - 0s 8ms/step - loss: 6.6143 - acc: 0.4095 - f1_m: 0.6251 - precision_m: 0.4980 - recall_m: 0.8408 - val_loss: 6.4190 - val_acc: 0.3905 - val_f1_m: 0.6106 - val_precision_m: 0.4939 - val_recall_m: 0.8028\n",
      "Epoch 2/32\n",
      "40/40 [==============================] - 0s 3ms/step - loss: 6.2351 - acc: 0.3963 - f1_m: 0.6096 - precision_m: 0.4965 - recall_m: 0.7912 - val_loss: 6.2733 - val_acc: 0.3905 - val_f1_m: 0.6058 - val_precision_m: 0.4943 - val_recall_m: 0.7856\n",
      "Epoch 3/32\n",
      "40/40 [==============================] - 0s 3ms/step - loss: 6.1657 - acc: 0.3963 - f1_m: 0.6067 - precision_m: 0.4959 - recall_m: 0.7833 - val_loss: 6.1478 - val_acc: 0.3905 - val_f1_m: 0.5962 - val_precision_m: 0.4904 - val_recall_m: 0.7637\n",
      "Epoch 4/32\n",
      "40/40 [==============================] - 0s 4ms/step - loss: 5.9300 - acc: 0.3963 - f1_m: 0.5966 - precision_m: 0.4956 - recall_m: 0.7509 - val_loss: 5.9299 - val_acc: 0.3905 - val_f1_m: 0.5797 - val_precision_m: 0.4863 - val_recall_m: 0.7204\n",
      "Epoch 5/32\n",
      "40/40 [==============================] - 0s 3ms/step - loss: 5.7919 - acc: 0.3963 - f1_m: 0.5849 - precision_m: 0.4926 - recall_m: 0.7224 - val_loss: 5.7827 - val_acc: 0.3905 - val_f1_m: 0.5768 - val_precision_m: 0.4912 - val_recall_m: 0.7013\n",
      "Epoch 6/32\n",
      "40/40 [==============================] - 0s 4ms/step - loss: 5.6208 - acc: 0.4007 - f1_m: 0.5811 - precision_m: 0.4951 - recall_m: 0.7053 - val_loss: 5.5566 - val_acc: 0.4762 - val_f1_m: 0.5752 - val_precision_m: 0.4941 - val_recall_m: 0.6904\n",
      "Epoch 7/32\n",
      "40/40 [==============================] - 0s 3ms/step - loss: 5.2193 - acc: 0.4515 - f1_m: 0.5636 - precision_m: 0.4953 - recall_m: 0.6578 - val_loss: 4.9154 - val_acc: 0.5016 - val_f1_m: 0.5459 - val_precision_m: 0.4913 - val_recall_m: 0.6155\n",
      "Epoch 8/32\n",
      "40/40 [==============================] - 0s 4ms/step - loss: 4.6796 - acc: 0.4627 - f1_m: 0.5328 - precision_m: 0.4922 - recall_m: 0.5828 - val_loss: 4.6053 - val_acc: 0.5127 - val_f1_m: 0.5290 - val_precision_m: 0.4895 - val_recall_m: 0.5774\n",
      "Epoch 9/32\n",
      "40/40 [==============================] - 0s 4ms/step - loss: 4.4303 - acc: 0.4698 - f1_m: 0.5138 - precision_m: 0.4941 - recall_m: 0.5452 - val_loss: 4.3109 - val_acc: 0.5175 - val_f1_m: 0.5166 - val_precision_m: 0.4902 - val_recall_m: 0.5487\n",
      "Epoch 10/32\n",
      "40/40 [==============================] - 0s 4ms/step - loss: 4.1317 - acc: 0.4797 - f1_m: 0.5042 - precision_m: 0.4929 - recall_m: 0.5191 - val_loss: 3.7919 - val_acc: 0.5397 - val_f1_m: 0.4960 - val_precision_m: 0.4896 - val_recall_m: 0.5069\n",
      "Epoch 11/32\n",
      "40/40 [==============================] - 0s 4ms/step - loss: 3.6593 - acc: 0.4877 - f1_m: 0.4698 - precision_m: 0.4900 - recall_m: 0.4551 - val_loss: 3.4535 - val_acc: 0.5444 - val_f1_m: 0.4597 - val_precision_m: 0.4848 - val_recall_m: 0.4430\n",
      "Epoch 12/32\n",
      "40/40 [==============================] - 0s 4ms/step - loss: 3.3352 - acc: 0.4988 - f1_m: 0.4547 - precision_m: 0.4924 - recall_m: 0.4271 - val_loss: 2.9987 - val_acc: 0.5587 - val_f1_m: 0.4517 - val_precision_m: 0.4933 - val_recall_m: 0.4240\n",
      "Epoch 13/32\n",
      "40/40 [==============================] - 0s 4ms/step - loss: 3.0509 - acc: 0.5087 - f1_m: 0.4503 - precision_m: 0.4997 - recall_m: 0.4148 - val_loss: 2.7583 - val_acc: 0.5651 - val_f1_m: 0.4425 - val_precision_m: 0.5014 - val_recall_m: 0.4036\n",
      "Epoch 14/32\n",
      "40/40 [==============================] - 0s 4ms/step - loss: 2.8882 - acc: 0.5099 - f1_m: 0.4440 - precision_m: 0.4973 - recall_m: 0.4046 - val_loss: 2.5718 - val_acc: 0.5667 - val_f1_m: 0.4279 - val_precision_m: 0.5026 - val_recall_m: 0.3796\n",
      "Epoch 15/32\n",
      "40/40 [==============================] - 0s 4ms/step - loss: 2.6188 - acc: 0.5195 - f1_m: 0.4420 - precision_m: 0.5021 - recall_m: 0.4034 - val_loss: 2.2349 - val_acc: 0.5667 - val_f1_m: 0.6474 - val_precision_m: 0.5672 - val_recall_m: 0.7553\n",
      "Epoch 16/32\n",
      "40/40 [==============================] - 0s 4ms/step - loss: 1.6443 - acc: 0.5532 - f1_m: 0.6181 - precision_m: 0.5674 - recall_m: 0.6800 - val_loss: 1.4230 - val_acc: 0.5667 - val_f1_m: 0.6204 - val_precision_m: 0.5777 - val_recall_m: 0.6704\n",
      "Epoch 17/32\n",
      "40/40 [==============================] - 0s 4ms/step - loss: 1.3356 - acc: 0.5651 - f1_m: 0.6164 - precision_m: 0.5752 - recall_m: 0.6643 - val_loss: 1.2810 - val_acc: 0.5667 - val_f1_m: 0.6170 - val_precision_m: 0.5791 - val_recall_m: 0.6607\n",
      "Epoch 18/32\n",
      "40/40 [==============================] - 0s 4ms/step - loss: 1.2378 - acc: 0.5751 - f1_m: 0.6158 - precision_m: 0.5799 - recall_m: 0.6570 - val_loss: 1.2127 - val_acc: 0.5762 - val_f1_m: 0.6193 - val_precision_m: 0.5845 - val_recall_m: 0.6591\n",
      "Epoch 19/32\n",
      "40/40 [==============================] - 0s 4ms/step - loss: 1.1662 - acc: 0.5774 - f1_m: 0.6151 - precision_m: 0.5819 - recall_m: 0.6529 - val_loss: 1.1757 - val_acc: 0.5810 - val_f1_m: 0.6195 - val_precision_m: 0.5873 - val_recall_m: 0.6560\n",
      "Epoch 20/32\n",
      "40/40 [==============================] - 0s 4ms/step - loss: 1.1135 - acc: 0.5826 - f1_m: 0.6150 - precision_m: 0.5852 - recall_m: 0.6483 - val_loss: 1.1396 - val_acc: 0.5778 - val_f1_m: 0.6141 - val_precision_m: 0.5852 - val_recall_m: 0.6466\n",
      "Epoch 21/32\n",
      "40/40 [==============================] - 0s 4ms/step - loss: 1.0546 - acc: 0.5842 - f1_m: 0.6134 - precision_m: 0.5869 - recall_m: 0.6429 - val_loss: 1.0721 - val_acc: 0.5841 - val_f1_m: 0.6171 - val_precision_m: 0.5906 - val_recall_m: 0.6466\n",
      "Epoch 22/32\n",
      "40/40 [==============================] - 0s 4ms/step - loss: 0.9864 - acc: 0.5862 - f1_m: 0.6133 - precision_m: 0.5921 - recall_m: 0.6366 - val_loss: 1.0343 - val_acc: 0.5857 - val_f1_m: 0.6148 - val_precision_m: 0.5917 - val_recall_m: 0.6404\n",
      "Epoch 23/32\n",
      "40/40 [==============================] - 0s 4ms/step - loss: 0.9511 - acc: 0.5894 - f1_m: 0.6141 - precision_m: 0.5938 - recall_m: 0.6361 - val_loss: 1.0003 - val_acc: 0.5873 - val_f1_m: 0.6161 - val_precision_m: 0.5939 - val_recall_m: 0.6404\n",
      "Epoch 24/32\n",
      "40/40 [==============================] - 0s 4ms/step - loss: 0.9277 - acc: 0.5909 - f1_m: 0.6099 - precision_m: 0.5920 - recall_m: 0.6292 - val_loss: 0.9798 - val_acc: 0.5889 - val_f1_m: 0.6150 - val_precision_m: 0.5933 - val_recall_m: 0.6388\n",
      "Epoch 25/32\n",
      "40/40 [==============================] - 0s 4ms/step - loss: 0.9229 - acc: 0.5917 - f1_m: 0.6107 - precision_m: 0.5935 - recall_m: 0.6292 - val_loss: 0.9673 - val_acc: 0.5905 - val_f1_m: 0.6156 - val_precision_m: 0.5943 - val_recall_m: 0.6388\n",
      "Epoch 26/32\n",
      "40/40 [==============================] - 0s 4ms/step - loss: 0.9046 - acc: 0.5925 - f1_m: 0.6085 - precision_m: 0.5927 - recall_m: 0.6254 - val_loss: 0.9348 - val_acc: 0.5921 - val_f1_m: 0.6159 - val_precision_m: 0.5963 - val_recall_m: 0.6373\n",
      "Epoch 27/32\n",
      "40/40 [==============================] - 0s 4ms/step - loss: 0.8938 - acc: 0.5925 - f1_m: 0.6091 - precision_m: 0.5939 - recall_m: 0.6253 - val_loss: 0.9333 - val_acc: 0.5905 - val_f1_m: 0.6134 - val_precision_m: 0.5943 - val_recall_m: 0.6341\n",
      "Epoch 28/32\n",
      "40/40 [==============================] - 0s 4ms/step - loss: 0.8806 - acc: 0.5925 - f1_m: 0.6093 - precision_m: 0.5950 - recall_m: 0.6246 - val_loss: 0.8896 - val_acc: 0.5952 - val_f1_m: 0.6157 - val_precision_m: 0.5971 - val_recall_m: 0.6357\n",
      "Epoch 29/32\n",
      "40/40 [==============================] - 0s 3ms/step - loss: 0.8451 - acc: 0.5945 - f1_m: 0.6112 - precision_m: 0.5986 - recall_m: 0.6244 - val_loss: 0.8394 - val_acc: 0.5984 - val_f1_m: 0.6135 - val_precision_m: 0.5998 - val_recall_m: 0.6279\n",
      "Epoch 30/32\n",
      "40/40 [==============================] - 0s 4ms/step - loss: 0.8087 - acc: 0.5981 - f1_m: 0.6108 - precision_m: 0.6005 - recall_m: 0.6217 - val_loss: 0.8267 - val_acc: 0.6016 - val_f1_m: 0.6144 - val_precision_m: 0.6017 - val_recall_m: 0.6279\n",
      "Epoch 31/32\n",
      "40/40 [==============================] - 0s 4ms/step - loss: 0.7966 - acc: 0.6005 - f1_m: 0.6099 - precision_m: 0.6001 - recall_m: 0.6202 - val_loss: 0.7949 - val_acc: 0.5984 - val_f1_m: 0.6126 - val_precision_m: 0.6025 - val_recall_m: 0.6232\n",
      "Epoch 32/32\n",
      "40/40 [==============================] - 0s 4ms/step - loss: 0.7754 - acc: 0.6021 - f1_m: 0.6099 - precision_m: 0.6018 - recall_m: 0.6183 - val_loss: 0.7842 - val_acc: 0.5984 - val_f1_m: 0.6098 - val_precision_m: 0.6014 - val_recall_m: 0.6185\n",
      "0.5817744135856628 0.597117006778717 0.5892007350921631\n"
     ]
    }
   ],
   "source": [
    "# Rapport model\n",
    "inputB = Input(shape=(X_train.shape[1],))\n",
    "c = Dense(2, activation='relu')(inputB)\n",
    "c = Dense(4, activation='relu')(c)\n",
    "c = Dense(2, activation='linear')(c)\n",
    "rapport_model = Model(inputs=inputB, outputs=c)\n",
    "\n",
    "rapport_model.compile(loss='binary_crossentropy', optimizer='adam', \n",
    "                      metrics=['acc',f1_m,precision_m, recall_m])\n",
    "history = rapport_model.fit(x=X_train, y=y_train_rapport, epochs=32, \n",
    "                    batch_size=64, \n",
    "                    validation_split=0.2, callbacks=[callback])\n",
    "loss, accuracy, f1_score, precision, recall = rapport_model.evaluate(X_test, y_test_rapport, verbose=0)\n",
    "print(precision, recall, f1_score)"
   ]
  },
  {
   "cell_type": "code",
   "execution_count": 30,
   "metadata": {},
   "outputs": [
    {
     "name": "stdout",
     "output_type": "stream",
     "text": [
      "Epoch 1/8\n",
      "40/40 [==============================] - 0s 11ms/step - loss: 0.7579 - acc: 0.5655 - f1_m: 0.5667 - precision_m: 0.5667 - recall_m: 0.5667 - val_loss: 0.6723 - val_acc: 0.6095 - val_f1_m: 0.6107 - val_precision_m: 0.6107 - val_recall_m: 0.6107\n",
      "Epoch 2/8\n",
      "40/40 [==============================] - 0s 5ms/step - loss: 0.6877 - acc: 0.5953 - f1_m: 0.5945 - precision_m: 0.5945 - recall_m: 0.5945 - val_loss: 0.6720 - val_acc: 0.6095 - val_f1_m: 0.6107 - val_precision_m: 0.6107 - val_recall_m: 0.6107\n",
      "Epoch 3/8\n",
      "40/40 [==============================] - 0s 5ms/step - loss: 0.6769 - acc: 0.6025 - f1_m: 0.6053 - precision_m: 0.6053 - recall_m: 0.6053 - val_loss: 0.6708 - val_acc: 0.6095 - val_f1_m: 0.6107 - val_precision_m: 0.6107 - val_recall_m: 0.6107\n",
      "Epoch 4/8\n",
      "40/40 [==============================] - 0s 5ms/step - loss: 0.6778 - acc: 0.6021 - f1_m: 0.6041 - precision_m: 0.6041 - recall_m: 0.6041 - val_loss: 0.6715 - val_acc: 0.6095 - val_f1_m: 0.6107 - val_precision_m: 0.6107 - val_recall_m: 0.6107\n"
     ]
    },
    {
     "data": {
      "text/plain": [
       "<tensorflow.python.keras.callbacks.History at 0x1c1e9b15b88>"
      ]
     },
     "execution_count": 30,
     "metadata": {},
     "output_type": "execute_result"
    }
   ],
   "source": [
    "from keras.layers import * \n",
    "\n",
    "commonInput = tf.keras.layers.Input(shape=(X_train.shape[1],))\n",
    "\n",
    "out1 = gamemove_model(commonInput)    \n",
    "out2 = reasoning_model(commonInput)   \n",
    "out3 = shareinfo_model(commonInput)\n",
    "mergedTwo = tf.keras.layers.Add()([out1,out2])\n",
    "mergedOut = tf.keras.layers.Subtract()([mergedTwo, out3])\n",
    "\n",
    "mergedOut = tf.keras.layers.Flatten()(mergedOut)    \n",
    "mergedOut = tf.keras.layers.Dense(256, activation='relu')(mergedOut)\n",
    "mergedOut = tf.keras.layers.Dropout(.5)(mergedOut)\n",
    "mergedOut = tf.keras.layers.Dense(128, activation='relu')(mergedOut)\n",
    "mergedOut = tf.keras.layers.Dropout(.35)(mergedOut)\n",
    "mergedOut = tf.keras.layers.Dense(2, activation='softmax')(mergedOut)  #Cuz binary\n",
    "\n",
    "mergedModel = tf.keras.Model(commonInput, mergedOut)\n",
    "mergedModel.compile(loss='binary_crossentropy', optimizer='adam', metrics=['acc',f1_m,precision_m, recall_m])\n",
    "mergedModel.fit(x=X_train, y=y_train_rapport, epochs=8, batch_size=64, \n",
    "                    validation_split=0.2, callbacks=[callback])"
   ]
  },
  {
   "cell_type": "code",
   "execution_count": null,
   "metadata": {},
   "outputs": [],
   "source": []
  },
  {
   "cell_type": "markdown",
   "metadata": {},
   "source": [
    "### Stacked Random Forest "
   ]
  },
  {
   "cell_type": "code",
   "execution_count": 10,
   "metadata": {},
   "outputs": [],
   "source": [
    "from sklearn.ensemble import RandomForestClassifier\n",
    "from sklearn.metrics import classification_report\n",
    "from sklearn.metrics import accuracy_score"
   ]
  },
  {
   "cell_type": "code",
   "execution_count": 11,
   "metadata": {},
   "outputs": [
    {
     "name": "stdout",
     "output_type": "stream",
     "text": [
      "              precision    recall  f1-score   support\n",
      "\n",
      "           0       0.00      0.00      0.00       880\n",
      "           1       0.72      1.00      0.84      2268\n",
      "\n",
      "   micro avg       0.72      0.72      0.72      3148\n",
      "   macro avg       0.36      0.50      0.42      3148\n",
      "weighted avg       0.52      0.72      0.60      3148\n",
      " samples avg       0.72      0.72      0.72      3148\n",
      "\n"
     ]
    },
    {
     "name": "stderr",
     "output_type": "stream",
     "text": [
      "C:\\Users\\lynne\\anaconda3\\envs\\tf-gpu\\lib\\site-packages\\sklearn\\metrics\\_classification.py:1221: UndefinedMetricWarning: Precision and F-score are ill-defined and being set to 0.0 in labels with no predicted samples. Use `zero_division` parameter to control this behavior.\n",
      "  _warn_prf(average, modifier, msg_start, len(result))\n"
     ]
    }
   ],
   "source": [
    "# Game Move Random Forest\n",
    "clf_gamemove = RandomForestClassifier(max_depth=2, random_state=0)\n",
    "clf_gamemove.fit(X_train, y_train_gamemove)\n",
    "y_pred = clf_gamemove.predict(X_test)\n",
    "print(classification_report(y_test_gamemove, y_pred))"
   ]
  },
  {
   "cell_type": "code",
   "execution_count": 12,
   "metadata": {},
   "outputs": [
    {
     "name": "stdout",
     "output_type": "stream",
     "text": [
      "              precision    recall  f1-score   support\n",
      "\n",
      "           0       0.66      0.23      0.34      1534\n",
      "           1       0.55      0.89      0.68      1614\n",
      "\n",
      "   micro avg       0.56      0.56      0.56      3148\n",
      "   macro avg       0.60      0.56      0.51      3148\n",
      "weighted avg       0.60      0.56      0.51      3148\n",
      " samples avg       0.56      0.56      0.56      3148\n",
      "\n"
     ]
    }
   ],
   "source": [
    "# Share info Random Forest\n",
    "clf_shareinfo = RandomForestClassifier(max_depth=2, random_state=0)\n",
    "clf_shareinfo.fit(X_train, y_train_share_information)\n",
    "y_pred = clf_shareinfo.predict(X_test)\n",
    "print(classification_report(y_test_share_information, y_pred))"
   ]
  },
  {
   "cell_type": "code",
   "execution_count": 11,
   "metadata": {},
   "outputs": [
    {
     "name": "stdout",
     "output_type": "stream",
     "text": [
      "              precision    recall  f1-score   support\n",
      "\n",
      "           0       0.00      0.00      0.00       727\n",
      "           1       0.77      1.00      0.87      2421\n",
      "\n",
      "   micro avg       0.77      0.77      0.77      3148\n",
      "   macro avg       0.38      0.50      0.43      3148\n",
      "weighted avg       0.59      0.77      0.67      3148\n",
      " samples avg       0.77      0.77      0.77      3148\n",
      "\n"
     ]
    },
    {
     "name": "stderr",
     "output_type": "stream",
     "text": [
      "C:\\Users\\lynne\\anaconda3\\envs\\tf-gpu\\lib\\site-packages\\sklearn\\metrics\\_classification.py:1221: UndefinedMetricWarning: Precision and F-score are ill-defined and being set to 0.0 in labels with no predicted samples. Use `zero_division` parameter to control this behavior.\n",
      "  _warn_prf(average, modifier, msg_start, len(result))\n"
     ]
    }
   ],
   "source": [
    "# Reasoning Random Forest\n",
    "clf_reasoning = RandomForestClassifier(max_depth=2, random_state=0)\n",
    "clf_reasoning.fit(X_train, y_train_reasoning)\n",
    "y_pred = clf_reasoning.predict(X_test)\n",
    "print(classification_report(y_test_reasoning, y_pred))"
   ]
  },
  {
   "cell_type": "code",
   "execution_count": null,
   "metadata": {},
   "outputs": [],
   "source": [
    "# Rapport Random Forest\n",
    "clf_rapport = RandomForestClassifier(max_depth=2, random_state=0)\n",
    "clf_rapport.fit(X_train, y_train_rapport)\n",
    "y_pred = clf_rapport.predict(X_test)\n",
    "print(classification_report(y_test_rapport, y_pred))"
   ]
  },
  {
   "cell_type": "code",
   "execution_count": 17,
   "metadata": {},
   "outputs": [],
   "source": [
    "# Output Dataframe \n",
    "one_hot = []\n",
    "for i in range(0, len(y_train_gamemove)):\n",
    "    one_hot_obj = {}\n",
    "    one_hot_obj['gamemove'] = np.argmax(y_train_gamemove[i])\n",
    "    one_hot_obj['reasoning'] = np.argmax(y_train_reasoning[i])\n",
    "    one_hot_obj['rapport'] = np.argmax(y_train_rapport[i])\n",
    "    one_hot_obj['shareinfo'] = np.argmax(y_train_share_information[i])\n",
    "    one_hot.append(one_hot_obj)\n",
    "    \n",
    "one_hot_df = pd.DataFrame(one_hot)"
   ]
  },
  {
   "cell_type": "code",
   "execution_count": 43,
   "metadata": {},
   "outputs": [],
   "source": [
    "y_pred_reasoning = clf_reasoning.predict(X_train)\n",
    "y_pred_gamemove = clf_reasoning.predict(X_train)"
   ]
  },
  {
   "cell_type": "code",
   "execution_count": 18,
   "metadata": {},
   "outputs": [
    {
     "name": "stdout",
     "output_type": "stream",
     "text": [
      "Epoch 1/32\n",
      "158/158 [==============================] - 1s 4ms/step - loss: 7.7125 - acc: 0.8986 - f1_m: 0.0000e+00 - precision_m: 0.0000e+00 - recall_m: 0.0000e+00 - val_loss: 7.7125 - val_acc: 0.9003 - val_f1_m: 0.0000e+00 - val_precision_m: 0.0000e+00 - val_recall_m: 0.0000e+00\n",
      "Epoch 2/32\n",
      "158/158 [==============================] - 1s 3ms/step - loss: 7.7125 - acc: 0.8986 - f1_m: 0.0000e+00 - precision_m: 0.0000e+00 - recall_m: 0.0000e+00 - val_loss: 7.7125 - val_acc: 0.9003 - val_f1_m: 0.0000e+00 - val_precision_m: 0.0000e+00 - val_recall_m: 0.0000e+00\n"
     ]
    }
   ],
   "source": [
    "inputB = Input(shape=(one_hot_df.shape[1],))\n",
    "c = Dense(2, activation='relu')(inputB)\n",
    "c = Dense(4, activation='relu')(c)\n",
    "c = Dense(2, activation='linear')(c)\n",
    "m = Model(inputs=inputB, outputs=c)\n",
    "\n",
    "m.compile(loss='binary_crossentropy', optimizer='adam', \n",
    "                      metrics=['acc',f1_m,precision_m, recall_m])\n",
    "history = m.fit(x=one_hot_df, y=y_train_deception, epochs=32, \n",
    "                    batch_size=64, \n",
    "                    validation_split=0.2, callbacks=[callback])\n",
    "#loss, accuracy, f1_score, precision, recall = m.evaluate(X_test, y_test_rapport, verbose=0)\n",
    "#print(precision, recall, f1_score)"
   ]
  }
 ],
 "metadata": {
  "kernelspec": {
   "display_name": "tfgpu",
   "language": "python",
   "name": "tfgpu"
  },
  "language_info": {
   "codemirror_mode": {
    "name": "ipython",
    "version": 3
   },
   "file_extension": ".py",
   "mimetype": "text/x-python",
   "name": "python",
   "nbconvert_exporter": "python",
   "pygments_lexer": "ipython3",
   "version": "3.7.9"
  }
 },
 "nbformat": 4,
 "nbformat_minor": 4
}
