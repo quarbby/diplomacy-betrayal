{
 "cells": [
  {
   "cell_type": "code",
   "execution_count": 1,
   "metadata": {},
   "outputs": [],
   "source": [
    "import pandas as pd\n",
    "import numpy as np"
   ]
  },
  {
   "cell_type": "code",
   "execution_count": 3,
   "metadata": {},
   "outputs": [],
   "source": [
    "df_disclosure = pd.read_csv('./data/popularity/disclosure_full.csv')\n",
    "df_support = pd.read_csv('./data/popularity/support_full.csv')"
   ]
  },
  {
   "cell_type": "code",
   "execution_count": 7,
   "metadata": {},
   "outputs": [],
   "source": [
    "### Categorising by Std Deviation ###\n",
    "\n",
    "df_disclosure_mean = df_disclosure['score'].mean()\n",
    "df_disclosure_std = df_disclosure['score'].std()\n",
    "\n",
    "df_disclosure_1 = df_disclosure_mean + df_disclosure_std\n",
    "df_disclosure_0 = df_disclosure_mean - df_disclosure_std\n",
    "\n",
    "def apply_std_dev(x):\n",
    "    if x >= df_disclosure_1:\n",
    "        return 1\n",
    "    elif x <= df_disclosure_0:\n",
    "        return 0\n",
    "    else:\n",
    "        return np.nan\n",
    "\n",
    "df_disclosure['popularity'] = df_disclosure['score'].apply(apply_std_dev)"
   ]
  },
  {
   "cell_type": "code",
   "execution_count": 10,
   "metadata": {},
   "outputs": [],
   "source": [
    "# For std dev 1250\n",
    "df_disclosure_drop = df_disclosure.dropna()\n",
    "len(df_disclosure_drop)\n",
    "df_disclosure_drop.to_csv('./data/popularity/disclosure_stddev.csv', index=False)"
   ]
  },
  {
   "cell_type": "code",
   "execution_count": 13,
   "metadata": {},
   "outputs": [],
   "source": [
    "### Categorising by Mean ###\n",
    "\n",
    "df_disclosure_mean = df_disclosure['score'].mean()\n",
    "\n",
    "def apply_mean(x):\n",
    "    if x > df_disclosure_mean:\n",
    "        return 1\n",
    "    elif x < df_disclosure_mean:\n",
    "        return 0\n",
    "    else:\n",
    "        return np.nan\n",
    "\n",
    "df_disclosure['popularity'] = df_disclosure['score'].apply(apply_mean)"
   ]
  },
  {
   "cell_type": "code",
   "execution_count": 14,
   "metadata": {},
   "outputs": [],
   "source": [
    "df_disclosure_drop = df_disclosure.dropna()\n",
    "print(len(df_disclosure_drop))\n",
    "df_disclosure_drop.to_csv('./data/popularity/disclosure_mean.csv', index=False)"
   ]
  },
  {
   "cell_type": "code",
   "execution_count": 15,
   "metadata": {},
   "outputs": [
    {
     "name": "stdout",
     "output_type": "stream",
     "text": [
      "17473\n"
     ]
    }
   ],
   "source": [
    "# For mean\n",
    "print(len(df_disclosure_drop)) "
   ]
  },
  {
   "cell_type": "code",
   "execution_count": null,
   "metadata": {},
   "outputs": [],
   "source": []
  },
  {
   "cell_type": "code",
   "execution_count": 11,
   "metadata": {},
   "outputs": [],
   "source": [
    "### Categorising by Std Deviation ###\n",
    "\n",
    "df_support_mean = df_support['score'].mean()\n",
    "df_support_std = df_support['score'].std()\n",
    "\n",
    "df_support_1 = df_support_mean + df_support_std\n",
    "df_support_0 = df_support_mean - df_support_std\n",
    "\n",
    "def apply_std_dev_support(x):\n",
    "    if x >= df_support_1:\n",
    "        return 1\n",
    "    elif x <= df_support_0:\n",
    "        return 0\n",
    "    else:\n",
    "        return np.nan\n",
    "\n",
    "df_support['popularity'] = df_support['score'].apply(apply_std_dev_support)"
   ]
  },
  {
   "cell_type": "code",
   "execution_count": 12,
   "metadata": {},
   "outputs": [
    {
     "name": "stdout",
     "output_type": "stream",
     "text": [
      "1250\n"
     ]
    }
   ],
   "source": [
    "df_support_drop = df_support.dropna()\n",
    "print(len(df_support_drop))\n",
    "df_support_drop.to_csv('./data/popularity/support_stddev.csv', index=False)"
   ]
  },
  {
   "cell_type": "code",
   "execution_count": 16,
   "metadata": {},
   "outputs": [],
   "source": [
    "### Categorising by Mean ###\n",
    "\n",
    "df_support_mean = df_support['score'].mean()\n",
    "\n",
    "def apply_mean_support(x):\n",
    "    if x > df_support_mean:\n",
    "        return 1\n",
    "    elif x < df_support_mean:\n",
    "        return 0\n",
    "    else:\n",
    "        return np.nan\n",
    "\n",
    "df_support['popularity'] = df_support['score'].apply(apply_mean_support)"
   ]
  },
  {
   "cell_type": "code",
   "execution_count": 17,
   "metadata": {},
   "outputs": [
    {
     "name": "stdout",
     "output_type": "stream",
     "text": [
      "17473\n"
     ]
    }
   ],
   "source": [
    "df_support_drop = df_support.dropna()\n",
    "print(len(df_support_drop))\n",
    "df_support_drop.to_csv('./data/popularity/support_mean.csv', index=False)"
   ]
  }
 ],
 "metadata": {
  "kernelspec": {
   "display_name": "tfgpu",
   "language": "python",
   "name": "tfgpu"
  },
  "language_info": {
   "codemirror_mode": {
    "name": "ipython",
    "version": 3
   },
   "file_extension": ".py",
   "mimetype": "text/x-python",
   "name": "python",
   "nbconvert_exporter": "python",
   "pygments_lexer": "ipython3",
   "version": "3.7.9"
  }
 },
 "nbformat": 4,
 "nbformat_minor": 4
}
