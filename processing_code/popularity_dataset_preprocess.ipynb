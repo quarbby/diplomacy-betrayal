{
 "cells": [
  {
   "cell_type": "code",
   "execution_count": 1,
   "metadata": {},
   "outputs": [],
   "source": [
    "import pandas as pd\n",
    "import numpy as np"
   ]
  },
  {
   "cell_type": "code",
   "execution_count": 3,
   "metadata": {},
   "outputs": [],
   "source": [
    "df_disclosure = pd.read_csv('./data/popularity/disclosure_full.csv')\n",
    "df_support = pd.read_csv('./data/popularity/support_full.csv')"
   ]
  },
  {
   "cell_type": "code",
   "execution_count": 7,
   "metadata": {},
   "outputs": [],
   "source": [
    "### Categorising by Std Deviation ###\n",
    "\n",
    "df_disclosure_mean = df_disclosure['score'].mean()\n",
    "df_disclosure_std = df_disclosure['score'].std()\n",
    "\n",
    "df_disclosure_1 = df_disclosure_mean + df_disclosure_std\n",
    "df_disclosure_0 = df_disclosure_mean - df_disclosure_std\n",
    "\n",
    "def apply_std_dev(x):\n",
    "    if x >= df_disclosure_1:\n",
    "        return 1\n",
    "    elif x <= df_disclosure_0:\n",
    "        return 0\n",
    "    else:\n",
    "        return np.nan\n",
    "\n",
    "df_disclosure['popularity'] = df_disclosure['score'].apply(apply_std_dev)"
   ]
  },
  {
   "cell_type": "code",
   "execution_count": 10,
   "metadata": {},
   "outputs": [],
   "source": [
    "# For std dev 1250\n",
    "df_disclosure_drop = df_disclosure.dropna()\n",
    "len(df_disclosure_drop)\n",
    "df_disclosure_drop.to_csv('./data/popularity/disclosure_stddev.csv', index=False)"
   ]
  },
  {
   "cell_type": "code",
   "execution_count": 13,
   "metadata": {},
   "outputs": [],
   "source": [
    "### Categorising by Mean ###\n",
    "\n",
    "df_disclosure_mean = df_disclosure['score'].mean()\n",
    "\n",
    "def apply_mean(x):\n",
    "    if x > df_disclosure_mean:\n",
    "        return 1\n",
    "    elif x < df_disclosure_mean:\n",
    "        return 0\n",
    "    else:\n",
    "        return np.nan\n",
    "\n",
    "df_disclosure['popularity'] = df_disclosure['score'].apply(apply_mean)"
   ]
  },
  {
   "cell_type": "code",
   "execution_count": 14,
   "metadata": {},
   "outputs": [],
   "source": [
    "df_disclosure_drop = df_disclosure.dropna()\n",
    "print(len(df_disclosure_drop))\n",
    "df_disclosure_drop.to_csv('./data/popularity/disclosure_mean.csv', index=False)"
   ]
  },
  {
   "cell_type": "code",
   "execution_count": 15,
   "metadata": {},
   "outputs": [
    {
     "name": "stdout",
     "output_type": "stream",
     "text": [
      "17473\n"
     ]
    }
   ],
   "source": [
    "# For mean\n",
    "print(len(df_disclosure_drop)) "
   ]
  },
  {
   "cell_type": "code",
   "execution_count": null,
   "metadata": {},
   "outputs": [],
   "source": []
  },
  {
   "cell_type": "code",
   "execution_count": 11,
   "metadata": {},
   "outputs": [],
   "source": [
    "### Categorising by Std Deviation ###\n",
    "\n",
    "df_support_mean = df_support['score'].mean()\n",
    "df_support_std = df_support['score'].std()\n",
    "\n",
    "df_support_1 = df_support_mean + df_support_std\n",
    "df_support_0 = df_support_mean - df_support_std\n",
    "\n",
    "def apply_std_dev_support(x):\n",
    "    if x >= df_support_1:\n",
    "        return 1\n",
    "    elif x <= df_support_0:\n",
    "        return 0\n",
    "    else:\n",
    "        return np.nan\n",
    "\n",
    "df_support['popularity'] = df_support['score'].apply(apply_std_dev_support)"
   ]
  },
  {
   "cell_type": "code",
   "execution_count": 12,
   "metadata": {},
   "outputs": [
    {
     "name": "stdout",
     "output_type": "stream",
     "text": [
      "1250\n"
     ]
    }
   ],
   "source": [
    "df_support_drop = df_support.dropna()\n",
    "print(len(df_support_drop))\n",
    "df_support_drop.to_csv('./data/popularity/support_stddev.csv', index=False)"
   ]
  },
  {
   "cell_type": "code",
   "execution_count": 16,
   "metadata": {},
   "outputs": [],
   "source": [
    "### Categorising by Mean ###\n",
    "\n",
    "df_support_mean = df_support['score'].mean()\n",
    "\n",
    "def apply_mean_support(x):\n",
    "    if x > df_support_mean:\n",
    "        return 1\n",
    "    elif x < df_support_mean:\n",
    "        return 0\n",
    "    else:\n",
    "        return np.nan\n",
    "\n",
    "df_support['popularity'] = df_support['score'].apply(apply_mean_support)"
   ]
  },
  {
   "cell_type": "code",
   "execution_count": 17,
   "metadata": {},
   "outputs": [
    {
     "name": "stdout",
     "output_type": "stream",
     "text": [
      "17473\n"
     ]
    }
   ],
   "source": [
    "df_support_drop = df_support.dropna()\n",
    "print(len(df_support_drop))\n",
    "df_support_drop.to_csv('./data/popularity/support_mean.csv', index=False)"
   ]
  },
  {
   "cell_type": "code",
   "execution_count": null,
   "metadata": {},
   "outputs": [],
   "source": []
  },
  {
   "cell_type": "code",
   "execution_count": null,
   "metadata": {},
   "outputs": [],
   "source": [
    "df_disclosure = pd.read_csv('./data/popularity/disclosure_mean.csv')\n",
    "df_support = pd.read_csv('./data/popularity/support_mean.csv')"
   ]
  },
  {
   "cell_type": "code",
   "execution_count": null,
   "metadata": {},
   "outputs": [],
   "source": []
  },
  {
   "cell_type": "code",
   "execution_count": 3,
   "metadata": {},
   "outputs": [],
   "source": [
    "df = pd.read_csv('../data/popularity/mean_merge.csv')"
   ]
  },
  {
   "cell_type": "code",
   "execution_count": 4,
   "metadata": {},
   "outputs": [],
   "source": [
    "def get_num_chars(x):\n",
    "    return len(x)\n",
    "\n",
    "def get_num_words(x):\n",
    "    x_list = x.split(' ')\n",
    "    return len(x_list)"
   ]
  },
  {
   "cell_type": "code",
   "execution_count": 5,
   "metadata": {},
   "outputs": [],
   "source": [
    "df['num_words'] = df['full_text_x'].apply(get_num_words)\n",
    "df['num_chars'] = df['full_text_x'].apply(get_num_chars)"
   ]
  },
  {
   "cell_type": "code",
   "execution_count": 6,
   "metadata": {},
   "outputs": [
    {
     "data": {
      "text/html": [
       "<div>\n",
       "<style scoped>\n",
       "    .dataframe tbody tr th:only-of-type {\n",
       "        vertical-align: middle;\n",
       "    }\n",
       "\n",
       "    .dataframe tbody tr th {\n",
       "        vertical-align: top;\n",
       "    }\n",
       "\n",
       "    .dataframe thead th {\n",
       "        text-align: right;\n",
       "    }\n",
       "</style>\n",
       "<table border=\"1\" class=\"dataframe\">\n",
       "  <thead>\n",
       "    <tr style=\"text-align: right;\">\n",
       "      <th></th>\n",
       "      <th>full_text_x</th>\n",
       "      <th>Emotional_disclosure</th>\n",
       "      <th>Information_disclosure</th>\n",
       "      <th>score_x</th>\n",
       "      <th>emo_disc.1</th>\n",
       "      <th>emo_disc.2</th>\n",
       "      <th>emo_disc.3</th>\n",
       "      <th>emo_disc.4</th>\n",
       "      <th>info_disc.1</th>\n",
       "      <th>info_disc.2</th>\n",
       "      <th>...</th>\n",
       "      <th>Throughput.2_y</th>\n",
       "      <th>Throughput.3_y</th>\n",
       "      <th>Throughput.4_y</th>\n",
       "      <th>WorkTime.1_y</th>\n",
       "      <th>WorkTime.2_y</th>\n",
       "      <th>WorkTime.3_y</th>\n",
       "      <th>WorkTime.4_y</th>\n",
       "      <th>popularity_y</th>\n",
       "      <th>num_words</th>\n",
       "      <th>num_chars</th>\n",
       "    </tr>\n",
       "  </thead>\n",
       "  <tbody>\n",
       "    <tr>\n",
       "      <th>0</th>\n",
       "      <td>''  Alot of people DONT think like that when t...</td>\n",
       "      <td>0</td>\n",
       "      <td>0</td>\n",
       "      <td>2</td>\n",
       "      <td>True</td>\n",
       "      <td>True</td>\n",
       "      <td>True</td>\n",
       "      <td>False</td>\n",
       "      <td>False</td>\n",
       "      <td>True</td>\n",
       "      <td>...</td>\n",
       "      <td>650</td>\n",
       "      <td>561</td>\n",
       "      <td>92</td>\n",
       "      <td>10</td>\n",
       "      <td>11</td>\n",
       "      <td>7</td>\n",
       "      <td>19</td>\n",
       "      <td>0</td>\n",
       "      <td>12</td>\n",
       "      <td>57</td>\n",
       "    </tr>\n",
       "    <tr>\n",
       "      <th>1</th>\n",
       "      <td>'Official' would be one way to describe it.</td>\n",
       "      <td>1</td>\n",
       "      <td>0</td>\n",
       "      <td>2</td>\n",
       "      <td>False</td>\n",
       "      <td>False</td>\n",
       "      <td>False</td>\n",
       "      <td>True</td>\n",
       "      <td>True</td>\n",
       "      <td>True</td>\n",
       "      <td>...</td>\n",
       "      <td>215</td>\n",
       "      <td>1950</td>\n",
       "      <td>3272</td>\n",
       "      <td>10</td>\n",
       "      <td>43</td>\n",
       "      <td>11</td>\n",
       "      <td>41</td>\n",
       "      <td>0</td>\n",
       "      <td>8</td>\n",
       "      <td>43</td>\n",
       "    </tr>\n",
       "  </tbody>\n",
       "</table>\n",
       "<p>2 rows × 44 columns</p>\n",
       "</div>"
      ],
      "text/plain": [
       "                                         full_text_x  Emotional_disclosure  \\\n",
       "0  ''  Alot of people DONT think like that when t...                     0   \n",
       "1        'Official' would be one way to describe it.                     1   \n",
       "\n",
       "   Information_disclosure  score_x  emo_disc.1  emo_disc.2  emo_disc.3  \\\n",
       "0                       0        2        True        True        True   \n",
       "1                       0        2       False       False       False   \n",
       "\n",
       "   emo_disc.4  info_disc.1  info_disc.2  ...  Throughput.2_y  Throughput.3_y  \\\n",
       "0       False        False         True  ...             650             561   \n",
       "1        True         True         True  ...             215            1950   \n",
       "\n",
       "   Throughput.4_y  WorkTime.1_y  WorkTime.2_y  WorkTime.3_y  WorkTime.4_y  \\\n",
       "0              92            10            11             7            19   \n",
       "1            3272            10            43            11            41   \n",
       "\n",
       "   popularity_y  num_words  num_chars  \n",
       "0             0         12         57  \n",
       "1             0          8         43  \n",
       "\n",
       "[2 rows x 44 columns]"
      ]
     },
     "execution_count": 6,
     "metadata": {},
     "output_type": "execute_result"
    }
   ],
   "source": [
    "df.head(2)"
   ]
  }
 ],
 "metadata": {
  "kernelspec": {
   "display_name": "tfgpu",
   "language": "python",
   "name": "tfgpu"
  },
  "language_info": {
   "codemirror_mode": {
    "name": "ipython",
    "version": 3
   },
   "file_extension": ".py",
   "mimetype": "text/x-python",
   "name": "python",
   "nbconvert_exporter": "python",
   "pygments_lexer": "ipython3",
   "version": "3.7.9"
  }
 },
 "nbformat": 4,
 "nbformat_minor": 4
}
